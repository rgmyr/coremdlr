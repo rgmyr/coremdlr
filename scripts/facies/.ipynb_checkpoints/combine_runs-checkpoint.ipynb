{
 "cells": [
  {
   "cell_type": "code",
   "execution_count": 8,
   "metadata": {},
   "outputs": [],
   "source": [
    "import numpy as np\n",
    "\n",
    "import os\n",
    "from pathlib import Path\n",
    "from functools import reduce"
   ]
  },
  {
   "cell_type": "code",
   "execution_count": 5,
   "metadata": {},
   "outputs": [
    {
     "data": {
      "text/plain": [
       "(PosixPath('/home/administrator/Dropbox/core_data/facies/train_data'), True)"
      ]
     },
     "execution_count": 5,
     "metadata": {},
     "output_type": "execute_result"
    }
   ],
   "source": [
    "data_dir = Path('/home/' + os.environ['USER'] +'/Dropbox/core_data/facies/train_data')\n",
    "data_dir, data_dir.exists()"
   ]
  },
  {
   "cell_type": "code",
   "execution_count": 6,
   "metadata": {},
   "outputs": [],
   "source": [
    "def pad_and_stack(imgA, imgB):\n",
    "    \"\"\"\n",
    "    Pad skinnier of two images and stack imgB below imgA. As written, imgs must be 3D.\n",
    "    \"\"\"\n",
    "    dw = imgA.shape[1] - imgB.shape[1]\n",
    "    \n",
    "    if dw == 0:\n",
    "        return np.concatenate([imgA, imgB])\n",
    "    else:\n",
    "        pads = ((0,0), (0,dw), (0,0))\n",
    "    \n",
    "    if dw < 0:\n",
    "        padded_A = np.pad(imgA, pads, 'constant')\n",
    "        return np.concatenate([padded_A, imgB])\n",
    "    \n",
    "    else:\n",
    "        padded_B = np.pad(imgB, pads, 'constant')\n",
    "        return np.concatenate([imgA, padded_B])"
   ]
  },
  {
   "cell_type": "code",
   "execution_count": 7,
   "metadata": {},
   "outputs": [
    {
     "name": "stdout",
     "output_type": "stream",
     "text": [
      "[(47680, 701, 3), (292055, 658, 3), (65560, 675, 3)]\n"
     ]
    }
   ],
   "source": [
    "imgs = [np.load(data_dir / ('204-19-7_image_run'+i+'.npy')) for i in ['0', '1', '2']]\n",
    "\n",
    "print([img.shape for img in imgs])"
   ]
  },
  {
   "cell_type": "code",
   "execution_count": 9,
   "metadata": {},
   "outputs": [
    {
     "name": "stdout",
     "output_type": "stream",
     "text": [
      "[(47680,), (292055,), (65560,)]\n"
     ]
    }
   ],
   "source": [
    "depths = [np.load(data_dir / ('204-19-7_depth_run'+i+'.npy')) for i in ['0', '1', '2']]\n",
    "\n",
    "print([d.shape for d in depths])"
   ]
  },
  {
   "cell_type": "code",
   "execution_count": 10,
   "metadata": {},
   "outputs": [
    {
     "data": {
      "text/plain": [
       "(405295, 701, 3)"
      ]
     },
     "execution_count": 10,
     "metadata": {},
     "output_type": "execute_result"
    }
   ],
   "source": [
    "stacked_img = reduce(pad_and_stack, imgs)\n",
    "stacked_img.shape"
   ]
  },
  {
   "cell_type": "code",
   "execution_count": 11,
   "metadata": {},
   "outputs": [
    {
     "data": {
      "text/plain": [
       "(405295,)"
      ]
     },
     "execution_count": 11,
     "metadata": {},
     "output_type": "execute_result"
    }
   ],
   "source": [
    "stacked_depths = np.concatenate(depths)\n",
    "stacked_depths.shape"
   ]
  },
  {
   "cell_type": "code",
   "execution_count": 12,
   "metadata": {},
   "outputs": [],
   "source": [
    "np.save(data_dir / '204-19-7_image.npy', stacked_img)"
   ]
  },
  {
   "cell_type": "code",
   "execution_count": 13,
   "metadata": {},
   "outputs": [],
   "source": [
    "np.save(data_dir / '204-19-7_depth.npy', stacked_depths)"
   ]
  },
  {
   "cell_type": "code",
   "execution_count": null,
   "metadata": {},
   "outputs": [],
   "source": []
  }
 ],
 "metadata": {
  "kernelspec": {
   "display_name": "Python 3",
   "language": "python",
   "name": "python3"
  },
  "language_info": {
   "codemirror_mode": {
    "name": "ipython",
    "version": 3
   },
   "file_extension": ".py",
   "mimetype": "text/x-python",
   "name": "python",
   "nbconvert_exporter": "python",
   "pygments_lexer": "ipython3",
   "version": "3.6.7"
  }
 },
 "nbformat": 4,
 "nbformat_minor": 2
}
