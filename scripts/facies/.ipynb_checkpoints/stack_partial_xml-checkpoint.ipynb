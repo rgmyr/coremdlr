{
 "cells": [
  {
   "cell_type": "code",
   "execution_count": 1,
   "metadata": {},
   "outputs": [],
   "source": [
    "import numpy as np\n",
    "from skimage import io\n",
    "\n",
    "import os\n",
    "import re\n",
    "from functools import reduce\n",
    "\n",
    "from pathlib import Path\n",
    "from xml.etree import ElementTree"
   ]
  },
  {
   "cell_type": "code",
   "execution_count": 2,
   "metadata": {},
   "outputs": [
    {
     "data": {
      "text/plain": [
       "(PosixPath('/home/administrator/Dropbox/core_data/facies/train_data'), True)"
      ]
     },
     "execution_count": 2,
     "metadata": {},
     "output_type": "execute_result"
    }
   ],
   "source": [
    "train_dir = Path('/home/' + os.environ['USER'] +'/Dropbox/core_data/facies/train_data')\n",
    "train_dir, train_dir.exists()"
   ]
  },
  {
   "cell_type": "code",
   "execution_count": 3,
   "metadata": {},
   "outputs": [
    {
     "data": {
      "text/plain": [
       "(PosixPath('/home/administrator/Dropbox/core_data/facies/label'), True)"
      ]
     },
     "execution_count": 3,
     "metadata": {},
     "output_type": "execute_result"
    }
   ],
   "source": [
    "label_dir = Path('/home/' + os.environ['USER'] +'/Dropbox/core_data/facies/label')\n",
    "label_dir, label_dir.exists()"
   ]
  },
  {
   "cell_type": "code",
   "execution_count": 4,
   "metadata": {},
   "outputs": [],
   "source": [
    "# copied from labeling_tools/join_xml_labels.py\n",
    "\n",
    "class XMLSection():\n",
    "    \"\"\" \n",
    "    Utility class to represent labeled XML sections.\n",
    "    \"\"\"\n",
    "    def __init__(self, xml_obj):\n",
    "        self.label = xml_obj.find('name').text\n",
    "\n",
    "        bbox = xml_obj.find('bndbox')\n",
    "        self.ymin = eval(bbox.find('ymin').text)\n",
    "        self.ymax = eval(bbox.find('ymax').text)\n",
    "\n",
    "    def __lt__(self, other):\n",
    "        \"\"\"Make sections sortable.\"\"\"\n",
    "        return self.ymin < other.ymin\n",
    "\n",
    "\n",
    "def snap_xml_sections(xml_path):\n",
    "    \"\"\" \n",
    "    Snap XML labels to top and bottom of core, return row labels array.\n",
    "    Section ymax's get snapped to the ymin of the section below,\n",
    "    or the end of the array (for the last section in the file).\n",
    "    \"\"\"\n",
    "    tree = ElementTree.parse(xml_path)\n",
    "    height = eval(tree.find('size').find('height').text)\n",
    "    label_array = np.zeros((height,), dtype='a2')\n",
    "\n",
    "    sections = sorted([XMLSection(xobj) for xobj in tree.findall('object')])\n",
    "    num_sections = len(sections)\n",
    "\n",
    "    for i, section in enumerate(sections):\n",
    "        ymin = section.ymin if i > 0 else 0\n",
    "        ymax = sections[i+1].ymin if i+1 < num_sections else height\n",
    "        label_array[ymin:ymax] = section.label\n",
    "\n",
    "    return label_array"
   ]
  },
  {
   "cell_type": "code",
   "execution_count": 5,
   "metadata": {},
   "outputs": [],
   "source": [
    "def pad_and_stack(imgA, imgB):\n",
    "    \"\"\"\n",
    "    Pad skinnier of two images and stack imgB below imgA. As written, imgs must be 3D.\n",
    "    \"\"\"\n",
    "    dw = imgA.shape[1] - imgB.shape[1]\n",
    "    \n",
    "    if dw == 0:\n",
    "        return np.concatenate([imgA, imgB])\n",
    "    else:\n",
    "        pads = ((0,0), (0,dw), (0,0))\n",
    "    \n",
    "    if dw < 0:\n",
    "        padded_A = np.pad(imgA, pads, 'constant')\n",
    "        return np.concatenate([padded_A, imgB])\n",
    "    \n",
    "    else:\n",
    "        padded_B = np.pad(imgB, pads, 'constant')\n",
    "        return np.concatenate([imgA, padded_B])"
   ]
  },
  {
   "cell_type": "code",
   "execution_count": 6,
   "metadata": {},
   "outputs": [],
   "source": [
    "def get_matching_file(fname, ext):\n",
    "    \"\"\"\n",
    "    Get shared root of given section data file.\n",
    "    \"\"\"\n",
    "    return Path(''.join(re.split('(_)', str(fname))[:-2]) + ext)\n",
    "    \n",
    "\n",
    "def stack_all_data(well_name):\n",
    "    \"\"\"\n",
    "    Stack up all the files having XML labels and save them in `train_dir`\n",
    "    \"\"\"\n",
    "    \n",
    "    xml_files = list((label_dir / Path(well_name)).glob('*.xml'))\n",
    "    img_files = [get_matching_file(f, '.jpeg') for f in xml_files]\n",
    "    depth_files = [get_matching_file(f, '_depth.npy') for f in xml_files]\n",
    "    \n",
    "    xml_arrs = list(map(snap_xml_sections, xml_files))\n",
    "    img_arrs = [io.imread(f) for f in img_files]\n",
    "    depth_arrs = [np.load(f) for f in depth_files]\n",
    "    \n",
    "    np.save(train_dir / (well_name + '_labels.npy'), np.concatenate(xml_arrs))\n",
    "    np.save(train_dir / (well_name + '_image.npy'), np.concatenate(img_arrs))\n",
    "    np.save(train_dir / (well_name + '_depth.npy'), np.concatenate(depth_arrs))"
   ]
  },
  {
   "cell_type": "code",
   "execution_count": 33,
   "metadata": {},
   "outputs": [],
   "source": [
    "#stack_all_data('204-19-3A')"
   ]
  },
  {
   "cell_type": "code",
   "execution_count": 34,
   "metadata": {},
   "outputs": [],
   "source": [
    "#stack_all_data('204-20-1')"
   ]
  },
  {
   "cell_type": "code",
   "execution_count": 8,
   "metadata": {},
   "outputs": [],
   "source": [
    "stack_all_data('204-24a-7')"
   ]
  },
  {
   "cell_type": "code",
   "execution_count": null,
   "metadata": {},
   "outputs": [],
   "source": []
  }
 ],
 "metadata": {
  "kernelspec": {
   "display_name": "Python 3",
   "language": "python",
   "name": "python3"
  },
  "language_info": {
   "codemirror_mode": {
    "name": "ipython",
    "version": 3
   },
   "file_extension": ".py",
   "mimetype": "text/x-python",
   "name": "python",
   "nbconvert_exporter": "python",
   "pygments_lexer": "ipython3",
   "version": "3.6.7"
  }
 },
 "nbformat": 4,
 "nbformat_minor": 2
}
