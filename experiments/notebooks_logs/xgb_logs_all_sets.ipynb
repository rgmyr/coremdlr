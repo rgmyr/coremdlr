{
 "cells": [
  {
   "cell_type": "code",
   "execution_count": 1,
   "metadata": {},
   "outputs": [
    {
     "name": "stderr",
     "output_type": "stream",
     "text": [
      "/home/ross/anaconda3/envs/core-dev/lib/python3.7/site-packages/tensorflow/python/framework/dtypes.py:516: FutureWarning: Passing (type, 1) or '1type' as a synonym of type is deprecated; in a future version of numpy, it will be understood as (type, (1,)) / '(1,)type'.\n",
      "  _np_qint8 = np.dtype([(\"qint8\", np.int8, 1)])\n",
      "/home/ross/anaconda3/envs/core-dev/lib/python3.7/site-packages/tensorflow/python/framework/dtypes.py:517: FutureWarning: Passing (type, 1) or '1type' as a synonym of type is deprecated; in a future version of numpy, it will be understood as (type, (1,)) / '(1,)type'.\n",
      "  _np_quint8 = np.dtype([(\"quint8\", np.uint8, 1)])\n",
      "/home/ross/anaconda3/envs/core-dev/lib/python3.7/site-packages/tensorflow/python/framework/dtypes.py:518: FutureWarning: Passing (type, 1) or '1type' as a synonym of type is deprecated; in a future version of numpy, it will be understood as (type, (1,)) / '(1,)type'.\n",
      "  _np_qint16 = np.dtype([(\"qint16\", np.int16, 1)])\n",
      "/home/ross/anaconda3/envs/core-dev/lib/python3.7/site-packages/tensorflow/python/framework/dtypes.py:519: FutureWarning: Passing (type, 1) or '1type' as a synonym of type is deprecated; in a future version of numpy, it will be understood as (type, (1,)) / '(1,)type'.\n",
      "  _np_quint16 = np.dtype([(\"quint16\", np.uint16, 1)])\n",
      "/home/ross/anaconda3/envs/core-dev/lib/python3.7/site-packages/tensorflow/python/framework/dtypes.py:520: FutureWarning: Passing (type, 1) or '1type' as a synonym of type is deprecated; in a future version of numpy, it will be understood as (type, (1,)) / '(1,)type'.\n",
      "  _np_qint32 = np.dtype([(\"qint32\", np.int32, 1)])\n",
      "/home/ross/anaconda3/envs/core-dev/lib/python3.7/site-packages/tensorflow/python/framework/dtypes.py:525: FutureWarning: Passing (type, 1) or '1type' as a synonym of type is deprecated; in a future version of numpy, it will be understood as (type, (1,)) / '(1,)type'.\n",
      "  np_resource = np.dtype([(\"resource\", np.ubyte, 1)])\n",
      "/home/ross/anaconda3/envs/core-dev/lib/python3.7/site-packages/tensorboard/compat/tensorflow_stub/dtypes.py:541: FutureWarning: Passing (type, 1) or '1type' as a synonym of type is deprecated; in a future version of numpy, it will be understood as (type, (1,)) / '(1,)type'.\n",
      "  _np_qint8 = np.dtype([(\"qint8\", np.int8, 1)])\n",
      "/home/ross/anaconda3/envs/core-dev/lib/python3.7/site-packages/tensorboard/compat/tensorflow_stub/dtypes.py:542: FutureWarning: Passing (type, 1) or '1type' as a synonym of type is deprecated; in a future version of numpy, it will be understood as (type, (1,)) / '(1,)type'.\n",
      "  _np_quint8 = np.dtype([(\"quint8\", np.uint8, 1)])\n",
      "/home/ross/anaconda3/envs/core-dev/lib/python3.7/site-packages/tensorboard/compat/tensorflow_stub/dtypes.py:543: FutureWarning: Passing (type, 1) or '1type' as a synonym of type is deprecated; in a future version of numpy, it will be understood as (type, (1,)) / '(1,)type'.\n",
      "  _np_qint16 = np.dtype([(\"qint16\", np.int16, 1)])\n",
      "/home/ross/anaconda3/envs/core-dev/lib/python3.7/site-packages/tensorboard/compat/tensorflow_stub/dtypes.py:544: FutureWarning: Passing (type, 1) or '1type' as a synonym of type is deprecated; in a future version of numpy, it will be understood as (type, (1,)) / '(1,)type'.\n",
      "  _np_quint16 = np.dtype([(\"quint16\", np.uint16, 1)])\n",
      "/home/ross/anaconda3/envs/core-dev/lib/python3.7/site-packages/tensorboard/compat/tensorflow_stub/dtypes.py:545: FutureWarning: Passing (type, 1) or '1type' as a synonym of type is deprecated; in a future version of numpy, it will be understood as (type, (1,)) / '(1,)type'.\n",
      "  _np_qint32 = np.dtype([(\"qint32\", np.int32, 1)])\n",
      "/home/ross/anaconda3/envs/core-dev/lib/python3.7/site-packages/tensorboard/compat/tensorflow_stub/dtypes.py:550: FutureWarning: Passing (type, 1) or '1type' as a synonym of type is deprecated; in a future version of numpy, it will be understood as (type, (1,)) / '(1,)type'.\n",
      "  np_resource = np.dtype([(\"resource\", np.ubyte, 1)])\n",
      "Using TensorFlow backend.\n"
     ]
    }
   ],
   "source": [
    "import numpy as np\n",
    "import pandas as pd\n",
    "from random import sample\n",
    "\n",
    "from coremdlr.config import defaults\n",
    "from coremdlr.datasets.utils import infer_test_wells\n",
    "\n",
    "from coremdlr.models import FeaturePredictor, LambdaModel\n",
    "from coremdlr.datasets import WellLoader, FaciesDataset"
   ]
  },
  {
   "cell_type": "code",
   "execution_count": 2,
   "metadata": {},
   "outputs": [],
   "source": [
    "import hyperopt\n",
    "from hyperopt import hp\n",
    "from hyperopt.pyll.base import scope\n",
    "from sklearn.metrics import f1_score, log_loss\n",
    "from sklearn.utils.class_weight import compute_sample_weight"
   ]
  },
  {
   "cell_type": "code",
   "execution_count": 6,
   "metadata": {},
   "outputs": [],
   "source": [
    "fmodel_args = {\n",
    "    'logs': {\n",
    "        'model': 'LambdaModel',\n",
    "        'model_args': {'feature': 'logs'}\n",
    "    }\n",
    "}\n",
    "\n",
    "XGB_SEARCH_SPACE = {\n",
    "    'model_type' : 'XGB',\n",
    "    'max_depth' : scope.int(hp.quniform('max_depth', 3, 10, 1)),\n",
    "    'learning_rate' : hp.uniform('learning_rate', 0.01, 0.2),\n",
    "    'n_estimators' : scope.int(hp.quniform('n_estimators', 10, 1000, 1)),\n",
    "    'objective' : 'multi:softprob',\n",
    "    'n_jobs' : 2,\n",
    "    'gamma' : hp.uniform('gamma', 0, 0.5),\n",
    "    'subsample' : hp.uniform('subsample', 0.3, 1),\n",
    "    'colsample_bytree' : hp.uniform('colsample_bytree', 0.3, 1.0),\n",
    "    'colsample_bylevel' : 1,\n",
    "    'reg_alpha' : 0,                                    # L1 penalty\n",
    "    'reg_lambda' : hp.uniform('reg_lambda', 0.1, 10),   # L2 penalty\n",
    "    'tree_method' : 'gpu_hist',\n",
    "}\n",
    "\n",
    "def make_params_usable(params):\n",
    "    \"\"\"\n",
    "    Convert params returned by hyperopt to usable `model_args`\n",
    "    \"\"\"\n",
    "    return {\n",
    "        **XGB_SEARCH_SPACE,\n",
    "        **params,\n",
    "        **{'max_depth' : int(params['max_depth']),\n",
    "           'n_estimators' : int(params['n_estimators'])}\n",
    "    }"
   ]
  },
  {
   "cell_type": "code",
   "execution_count": 7,
   "metadata": {},
   "outputs": [],
   "source": [
    "def run_experiment(num_train, max_evals=10, search_space=XGB_SEARCH_SPACE):\n",
    "    \n",
    "    assert num_train in [3, 6, 9], 'Must use one of predefined train/test splits'\n",
    "    \n",
    "    train_sets = getattr(defaults, f'TRAIN_SETS_{num_train}')\n",
    "    \n",
    "    datasets = [FaciesDataset(s, infer_test_wells(s), features=['logs']) for s in train_sets]\n",
    "    \n",
    "    for dset in datasets:\n",
    "        dset.load_or_generate_data()\n",
    "    \n",
    "    def train_model(model_config):\n",
    "        \n",
    "        log_losses = []\n",
    "        \n",
    "        for dset in datasets:\n",
    "            \n",
    "            model = FeaturePredictor(dset, model_args=model_config, feature_model_args=fmodel_args)\n",
    "            model.fit(dset, verbose=False)\n",
    "            print('F1 score:', f1_score(dset.y_test, model.predict(dset.X_test), average='macro'))\n",
    "            \n",
    "            log_losses.append(log_loss(dset.y_test, model.predict_proba(dset.X_test), \n",
    "                                      sample_weight=compute_sample_weight('balanced', dset.y_test)))\n",
    "            \n",
    "        return np.mean(log_losses)\n",
    "    \n",
    "    return hyperopt.fmin(\n",
    "        fn=train_model,\n",
    "        space=XGB_SEARCH_SPACE,\n",
    "        algo=hyperopt.rand.suggest,\n",
    "        max_evals=max_evals\n",
    "    )"
   ]
  },
  {
   "cell_type": "code",
   "execution_count": 8,
   "metadata": {},
   "outputs": [
    {
     "name": "stdout",
     "output_type": "stream",
     "text": [
      "Loading Well:  204-24a-7  from  /home/ross/Dropbox/core_data/facies/train_data\n"
     ]
    },
    {
     "name": "stderr",
     "output_type": "stream",
     "text": [
      "Header section Parameter regexp=~P was not found.\n"
     ]
    },
    {
     "name": "stdout",
     "output_type": "stream",
     "text": [
      "Adding NaN log:  SP\n",
      "Adding NaN log:  DTS\n",
      "Feature shapes:  [('depth', (19294,)), ('top', (19294,)), ('base', (19294,)), ('logs', (19294, 11))]\n",
      "Loading Well:  204-24a-6  from  /home/ross/Dropbox/core_data/facies/train_data\n"
     ]
    },
    {
     "name": "stderr",
     "output_type": "stream",
     "text": [
      "Header section Parameter regexp=~P was not found.\n"
     ]
    },
    {
     "name": "stdout",
     "output_type": "stream",
     "text": [
      "Adding NaN log:  SP\n",
      "Adding NaN log:  DTS1\n",
      "Adding NaN log:  DTS2\n",
      "Feature shapes:  [('depth', (13034,)), ('top', (13034,)), ('base', (13034,)), ('logs', (13034, 11))]\n",
      "Loading Well:  204-20-3  from  /home/ross/Dropbox/core_data/facies/train_data\n"
     ]
    },
    {
     "name": "stderr",
     "output_type": "stream",
     "text": [
      "Header section Parameter regexp=~P was not found.\n"
     ]
    },
    {
     "name": "stdout",
     "output_type": "stream",
     "text": [
      "Feature shapes:  [('depth', (10906,)), ('top', (10906,)), ('base', (10906,)), ('logs', (10906, 11))]\n",
      "Loading Well:  204-20-1Z  from  /home/ross/Dropbox/core_data/facies/train_data\n"
     ]
    },
    {
     "name": "stderr",
     "output_type": "stream",
     "text": [
      "Header section Parameter regexp=~P was not found.\n"
     ]
    },
    {
     "name": "stdout",
     "output_type": "stream",
     "text": [
      "Adding NaN log:  SP\n",
      "Adding NaN log:  DTS1\n",
      "Adding NaN log:  DTS2\n",
      "Feature shapes:  [('depth', (1929,)), ('top', (1929,)), ('base', (1929,)), ('logs', (1929, 11))]\n",
      "Loading Well:  204-19-3A  from  /home/ross/Dropbox/core_data/facies/train_data\n"
     ]
    },
    {
     "name": "stderr",
     "output_type": "stream",
     "text": [
      "Header section Parameter regexp=~P was not found.\n"
     ]
    },
    {
     "name": "stdout",
     "output_type": "stream",
     "text": [
      "Adding NaN log:  DTS\n",
      "Feature shapes:  [('depth', (9598,)), ('top', (9598,)), ('base', (9598,)), ('logs', (9598, 11))]\n",
      "Loading Well:  204-20a-7  from  /home/ross/Dropbox/core_data/facies/train_data\n"
     ]
    },
    {
     "name": "stderr",
     "output_type": "stream",
     "text": [
      "Header section Parameter regexp=~P was not found.\n"
     ]
    },
    {
     "name": "stdout",
     "output_type": "stream",
     "text": [
      "Adding NaN log:  DTS1\n",
      "Adding NaN log:  DTS2\n",
      "Feature shapes:  [('depth', (3105,)), ('top', (3105,)), ('base', (3105,)), ('logs', (3105, 11))]\n",
      "Loading Well:  204-20-2  from  /home/ross/Dropbox/core_data/facies/train_data\n"
     ]
    },
    {
     "name": "stderr",
     "output_type": "stream",
     "text": [
      "Header section Parameter regexp=~P was not found.\n"
     ]
    },
    {
     "name": "stdout",
     "output_type": "stream",
     "text": [
      "Feature shapes:  [('depth', (2940,)), ('top', (2940,)), ('base', (2940,)), ('logs', (2940, 11))]\n",
      "Loading Well:  204-19-6  from  /home/ross/Dropbox/core_data/facies/train_data\n"
     ]
    },
    {
     "name": "stderr",
     "output_type": "stream",
     "text": [
      "Header section Parameter regexp=~P was not found.\n"
     ]
    },
    {
     "name": "stdout",
     "output_type": "stream",
     "text": [
      "Adding NaN log:  DTS\n",
      "Feature shapes:  [('depth', (1981,)), ('top', (1981,)), ('base', (1981,)), ('logs', (1981, 11))]\n",
      "Loading Well:  204-19-7  from  /home/ross/Dropbox/core_data/facies/train_data\n"
     ]
    },
    {
     "name": "stderr",
     "output_type": "stream",
     "text": [
      "Header section Parameter regexp=~P was not found.\n"
     ]
    },
    {
     "name": "stdout",
     "output_type": "stream",
     "text": [
      "Adding NaN log:  DTS\n",
      "Feature shapes:  [('depth', (9807,)), ('top', (9807,)), ('base', (9807,)), ('logs', (9807, 11))]\n",
      "Loading Well:  204-20-1  from  /home/ross/Dropbox/core_data/facies/train_data\n"
     ]
    },
    {
     "name": "stderr",
     "output_type": "stream",
     "text": [
      "Header section Parameter regexp=~P was not found.\n"
     ]
    },
    {
     "name": "stdout",
     "output_type": "stream",
     "text": [
      "Adding NaN log:  DTS1\n",
      "Adding NaN log:  DTS2\n",
      "Feature shapes:  [('depth', (11210,)), ('top', (11210,)), ('base', (11210,)), ('logs', (11210, 11))]\n",
      "Loading Well:  205-21b-3  from  /home/ross/Dropbox/core_data/facies/train_data\n"
     ]
    },
    {
     "name": "stderr",
     "output_type": "stream",
     "text": [
      "Header section Parameter regexp=~P was not found.\n"
     ]
    },
    {
     "name": "stdout",
     "output_type": "stream",
     "text": [
      "Adding NaN log:  SP\n",
      "Adding NaN log:  DTS\n",
      "Feature shapes:  [('depth', (3881,)), ('top', (3881,)), ('base', (3881,)), ('logs', (3881, 11))]\n",
      "Loading Well:  204-20-6a  from  /home/ross/Dropbox/core_data/facies/train_data\n"
     ]
    },
    {
     "name": "stderr",
     "output_type": "stream",
     "text": [
      "Header section Parameter regexp=~P was not found.\n"
     ]
    },
    {
     "name": "stdout",
     "output_type": "stream",
     "text": [
      "Adding NaN log:  SP\n",
      "Adding NaN log:  DTS1\n",
      "Adding NaN log:  DTS2\n",
      "Feature shapes:  [('depth', (3542,)), ('top', (3542,)), ('base', (3542,)), ('logs', (3542, 11))]\n",
      "Loading Well:  204-19-3A  from  /home/ross/Dropbox/core_data/facies/train_data\n"
     ]
    },
    {
     "name": "stderr",
     "output_type": "stream",
     "text": [
      "Header section Parameter regexp=~P was not found.\n"
     ]
    },
    {
     "name": "stdout",
     "output_type": "stream",
     "text": [
      "Adding NaN log:  DTS\n",
      "Feature shapes:  [('depth', (9598,)), ('top', (9598,)), ('base', (9598,)), ('logs', (9598, 11))]\n",
      "Loading Well:  204-19-7  from  /home/ross/Dropbox/core_data/facies/train_data\n"
     ]
    },
    {
     "name": "stderr",
     "output_type": "stream",
     "text": [
      "Header section Parameter regexp=~P was not found.\n"
     ]
    },
    {
     "name": "stdout",
     "output_type": "stream",
     "text": [
      "Adding NaN log:  DTS\n",
      "Feature shapes:  [('depth', (9807,)), ('top', (9807,)), ('base', (9807,)), ('logs', (9807, 11))]\n",
      "Loading Well:  205-21b-3  from  /home/ross/Dropbox/core_data/facies/train_data\n"
     ]
    },
    {
     "name": "stderr",
     "output_type": "stream",
     "text": [
      "Header section Parameter regexp=~P was not found.\n"
     ]
    },
    {
     "name": "stdout",
     "output_type": "stream",
     "text": [
      "Adding NaN log:  SP\n",
      "Adding NaN log:  DTS\n",
      "Feature shapes:  [('depth', (3881,)), ('top', (3881,)), ('base', (3881,)), ('logs', (3881, 11))]\n",
      "Loading Well:  204-20-1Z  from  /home/ross/Dropbox/core_data/facies/train_data\n"
     ]
    },
    {
     "name": "stderr",
     "output_type": "stream",
     "text": [
      "Header section Parameter regexp=~P was not found.\n"
     ]
    },
    {
     "name": "stdout",
     "output_type": "stream",
     "text": [
      "Adding NaN log:  SP\n",
      "Adding NaN log:  DTS1\n",
      "Adding NaN log:  DTS2\n",
      "Feature shapes:  [('depth', (1929,)), ('top', (1929,)), ('base', (1929,)), ('logs', (1929, 11))]\n",
      "Loading Well:  204-20a-7  from  /home/ross/Dropbox/core_data/facies/train_data\n"
     ]
    },
    {
     "name": "stderr",
     "output_type": "stream",
     "text": [
      "Header section Parameter regexp=~P was not found.\n"
     ]
    },
    {
     "name": "stdout",
     "output_type": "stream",
     "text": [
      "Adding NaN log:  DTS1\n",
      "Adding NaN log:  DTS2\n",
      "Feature shapes:  [('depth', (3105,)), ('top', (3105,)), ('base', (3105,)), ('logs', (3105, 11))]\n",
      "Loading Well:  204-20-2  from  /home/ross/Dropbox/core_data/facies/train_data\n"
     ]
    },
    {
     "name": "stderr",
     "output_type": "stream",
     "text": [
      "Header section Parameter regexp=~P was not found.\n"
     ]
    },
    {
     "name": "stdout",
     "output_type": "stream",
     "text": [
      "Feature shapes:  [('depth', (2940,)), ('top', (2940,)), ('base', (2940,)), ('logs', (2940, 11))]\n",
      "Loading Well:  204-24a-6  from  /home/ross/Dropbox/core_data/facies/train_data\n"
     ]
    },
    {
     "name": "stderr",
     "output_type": "stream",
     "text": [
      "Header section Parameter regexp=~P was not found.\n"
     ]
    },
    {
     "name": "stdout",
     "output_type": "stream",
     "text": [
      "Adding NaN log:  SP\n",
      "Adding NaN log:  DTS1\n",
      "Adding NaN log:  DTS2\n",
      "Feature shapes:  [('depth', (13034,)), ('top', (13034,)), ('base', (13034,)), ('logs', (13034, 11))]\n",
      "Loading Well:  204-19-6  from  /home/ross/Dropbox/core_data/facies/train_data\n"
     ]
    },
    {
     "name": "stderr",
     "output_type": "stream",
     "text": [
      "Header section Parameter regexp=~P was not found.\n"
     ]
    },
    {
     "name": "stdout",
     "output_type": "stream",
     "text": [
      "Adding NaN log:  DTS\n",
      "Feature shapes:  [('depth', (1981,)), ('top', (1981,)), ('base', (1981,)), ('logs', (1981, 11))]\n",
      "Loading Well:  204-20-3  from  /home/ross/Dropbox/core_data/facies/train_data\n"
     ]
    },
    {
     "name": "stderr",
     "output_type": "stream",
     "text": [
      "Header section Parameter regexp=~P was not found.\n"
     ]
    },
    {
     "name": "stdout",
     "output_type": "stream",
     "text": [
      "Feature shapes:  [('depth', (10906,)), ('top', (10906,)), ('base', (10906,)), ('logs', (10906, 11))]\n",
      "Loading Well:  204-20-1  from  /home/ross/Dropbox/core_data/facies/train_data\n"
     ]
    },
    {
     "name": "stderr",
     "output_type": "stream",
     "text": [
      "Header section Parameter regexp=~P was not found.\n"
     ]
    },
    {
     "name": "stdout",
     "output_type": "stream",
     "text": [
      "Adding NaN log:  DTS1\n",
      "Adding NaN log:  DTS2\n",
      "Feature shapes:  [('depth', (11210,)), ('top', (11210,)), ('base', (11210,)), ('logs', (11210, 11))]\n",
      "Loading Well:  204-24a-7  from  /home/ross/Dropbox/core_data/facies/train_data\n"
     ]
    },
    {
     "name": "stderr",
     "output_type": "stream",
     "text": [
      "Header section Parameter regexp=~P was not found.\n"
     ]
    },
    {
     "name": "stdout",
     "output_type": "stream",
     "text": [
      "Adding NaN log:  SP\n",
      "Adding NaN log:  DTS\n",
      "Feature shapes:  [('depth', (19294,)), ('top', (19294,)), ('base', (19294,)), ('logs', (19294, 11))]\n",
      "Loading Well:  204-20-6a  from  /home/ross/Dropbox/core_data/facies/train_data\n"
     ]
    },
    {
     "name": "stderr",
     "output_type": "stream",
     "text": [
      "Header section Parameter regexp=~P was not found.\n"
     ]
    },
    {
     "name": "stdout",
     "output_type": "stream",
     "text": [
      "Adding NaN log:  SP\n",
      "Adding NaN log:  DTS1\n",
      "Adding NaN log:  DTS2\n",
      "Feature shapes:  [('depth', (3542,)), ('top', (3542,)), ('base', (3542,)), ('logs', (3542, 11))]\n",
      "Loading Well:  204-20-1  from  /home/ross/Dropbox/core_data/facies/train_data\n"
     ]
    },
    {
     "name": "stderr",
     "output_type": "stream",
     "text": [
      "Header section Parameter regexp=~P was not found.\n"
     ]
    },
    {
     "name": "stdout",
     "output_type": "stream",
     "text": [
      "Adding NaN log:  DTS1\n",
      "Adding NaN log:  DTS2\n",
      "Feature shapes:  [('depth', (11210,)), ('top', (11210,)), ('base', (11210,)), ('logs', (11210, 11))]\n",
      "Loading Well:  204-20-2  from  /home/ross/Dropbox/core_data/facies/train_data\n"
     ]
    },
    {
     "name": "stderr",
     "output_type": "stream",
     "text": [
      "Header section Parameter regexp=~P was not found.\n"
     ]
    },
    {
     "name": "stdout",
     "output_type": "stream",
     "text": [
      "Feature shapes:  [('depth', (2940,)), ('top', (2940,)), ('base', (2940,)), ('logs', (2940, 11))]\n",
      "Loading Well:  204-19-6  from  /home/ross/Dropbox/core_data/facies/train_data\n"
     ]
    },
    {
     "name": "stderr",
     "output_type": "stream",
     "text": [
      "Header section Parameter regexp=~P was not found.\n"
     ]
    },
    {
     "name": "stdout",
     "output_type": "stream",
     "text": [
      "Adding NaN log:  DTS\n",
      "Feature shapes:  [('depth', (1981,)), ('top', (1981,)), ('base', (1981,)), ('logs', (1981, 11))]\n",
      "Loading Well:  204-20-1Z  from  /home/ross/Dropbox/core_data/facies/train_data\n"
     ]
    },
    {
     "name": "stderr",
     "output_type": "stream",
     "text": [
      "Header section Parameter regexp=~P was not found.\n"
     ]
    },
    {
     "name": "stdout",
     "output_type": "stream",
     "text": [
      "Adding NaN log:  SP\n",
      "Adding NaN log:  DTS1\n",
      "Adding NaN log:  DTS2\n",
      "Feature shapes:  [('depth', (1929,)), ('top', (1929,)), ('base', (1929,)), ('logs', (1929, 11))]\n",
      "Loading Well:  204-19-3A  from  /home/ross/Dropbox/core_data/facies/train_data\n"
     ]
    },
    {
     "name": "stderr",
     "output_type": "stream",
     "text": [
      "Header section Parameter regexp=~P was not found.\n"
     ]
    },
    {
     "name": "stdout",
     "output_type": "stream",
     "text": [
      "Adding NaN log:  DTS\n",
      "Feature shapes:  [('depth', (9598,)), ('top', (9598,)), ('base', (9598,)), ('logs', (9598, 11))]\n",
      "Loading Well:  204-20a-7  from  /home/ross/Dropbox/core_data/facies/train_data\n"
     ]
    },
    {
     "name": "stderr",
     "output_type": "stream",
     "text": [
      "Header section Parameter regexp=~P was not found.\n"
     ]
    },
    {
     "name": "stdout",
     "output_type": "stream",
     "text": [
      "Adding NaN log:  DTS1\n",
      "Adding NaN log:  DTS2\n",
      "Feature shapes:  [('depth', (3105,)), ('top', (3105,)), ('base', (3105,)), ('logs', (3105, 11))]\n",
      "Loading Well:  204-24a-6  from  /home/ross/Dropbox/core_data/facies/train_data\n"
     ]
    },
    {
     "name": "stderr",
     "output_type": "stream",
     "text": [
      "Header section Parameter regexp=~P was not found.\n"
     ]
    },
    {
     "name": "stdout",
     "output_type": "stream",
     "text": [
      "Adding NaN log:  SP\n",
      "Adding NaN log:  DTS1\n",
      "Adding NaN log:  DTS2\n",
      "Feature shapes:  [('depth', (13034,)), ('top', (13034,)), ('base', (13034,)), ('logs', (13034, 11))]\n",
      "Loading Well:  204-19-7  from  /home/ross/Dropbox/core_data/facies/train_data\n"
     ]
    },
    {
     "name": "stderr",
     "output_type": "stream",
     "text": [
      "Header section Parameter regexp=~P was not found.\n"
     ]
    },
    {
     "name": "stdout",
     "output_type": "stream",
     "text": [
      "Adding NaN log:  DTS\n",
      "Feature shapes:  [('depth', (9807,)), ('top', (9807,)), ('base', (9807,)), ('logs', (9807, 11))]\n",
      "Loading Well:  204-20-3  from  /home/ross/Dropbox/core_data/facies/train_data\n"
     ]
    },
    {
     "name": "stderr",
     "output_type": "stream",
     "text": [
      "Header section Parameter regexp=~P was not found.\n"
     ]
    },
    {
     "name": "stdout",
     "output_type": "stream",
     "text": [
      "Feature shapes:  [('depth', (10906,)), ('top', (10906,)), ('base', (10906,)), ('logs', (10906, 11))]\n",
      "Loading Well:  204-24a-7  from  /home/ross/Dropbox/core_data/facies/train_data\n"
     ]
    },
    {
     "name": "stderr",
     "output_type": "stream",
     "text": [
      "Header section Parameter regexp=~P was not found.\n"
     ]
    },
    {
     "name": "stdout",
     "output_type": "stream",
     "text": [
      "Adding NaN log:  SP\n",
      "Adding NaN log:  DTS\n",
      "Feature shapes:  [('depth', (19294,)), ('top', (19294,)), ('base', (19294,)), ('logs', (19294, 11))]\n",
      "Loading Well:  205-21b-3  from  /home/ross/Dropbox/core_data/facies/train_data\n"
     ]
    },
    {
     "name": "stderr",
     "output_type": "stream",
     "text": [
      "Header section Parameter regexp=~P was not found.\n"
     ]
    },
    {
     "name": "stdout",
     "output_type": "stream",
     "text": [
      "Adding NaN log:  SP\n",
      "Adding NaN log:  DTS\n",
      "Feature shapes:  [('depth', (3881,)), ('top', (3881,)), ('base', (3881,)), ('logs', (3881, 11))]\n",
      "Loading Well:  204-20-6a  from  /home/ross/Dropbox/core_data/facies/train_data\n"
     ]
    },
    {
     "name": "stderr",
     "output_type": "stream",
     "text": [
      "Header section Parameter regexp=~P was not found.\n"
     ]
    },
    {
     "name": "stdout",
     "output_type": "stream",
     "text": [
      "Adding NaN log:  SP\n",
      "Adding NaN log:  DTS1\n",
      "Adding NaN log:  DTS2\n",
      "Feature shapes:  [('depth', (3542,)), ('top', (3542,)), ('base', (3542,)), ('logs', (3542, 11))]\n",
      "Loading Well:  204-19-6  from  /home/ross/Dropbox/core_data/facies/train_data\n"
     ]
    },
    {
     "name": "stderr",
     "output_type": "stream",
     "text": [
      "Header section Parameter regexp=~P was not found.\n"
     ]
    },
    {
     "name": "stdout",
     "output_type": "stream",
     "text": [
      "Adding NaN log:  DTS\n",
      "Feature shapes:  [('depth', (1981,)), ('top', (1981,)), ('base', (1981,)), ('logs', (1981, 11))]\n",
      "Loading Well:  204-20-1Z  from  /home/ross/Dropbox/core_data/facies/train_data\n"
     ]
    },
    {
     "name": "stderr",
     "output_type": "stream",
     "text": [
      "Header section Parameter regexp=~P was not found.\n"
     ]
    },
    {
     "name": "stdout",
     "output_type": "stream",
     "text": [
      "Adding NaN log:  SP\n",
      "Adding NaN log:  DTS1\n",
      "Adding NaN log:  DTS2\n",
      "Feature shapes:  [('depth', (1929,)), ('top', (1929,)), ('base', (1929,)), ('logs', (1929, 11))]\n",
      "Loading Well:  204-20a-7  from  /home/ross/Dropbox/core_data/facies/train_data\n"
     ]
    },
    {
     "name": "stderr",
     "output_type": "stream",
     "text": [
      "Header section Parameter regexp=~P was not found.\n"
     ]
    },
    {
     "name": "stdout",
     "output_type": "stream",
     "text": [
      "Adding NaN log:  DTS1\n",
      "Adding NaN log:  DTS2\n",
      "Feature shapes:  [('depth', (3105,)), ('top', (3105,)), ('base', (3105,)), ('logs', (3105, 11))]\n",
      "Loading Well:  204-19-3A  from  /home/ross/Dropbox/core_data/facies/train_data\n"
     ]
    },
    {
     "name": "stderr",
     "output_type": "stream",
     "text": [
      "Header section Parameter regexp=~P was not found.\n"
     ]
    },
    {
     "name": "stdout",
     "output_type": "stream",
     "text": [
      "Adding NaN log:  DTS\n",
      "Feature shapes:  [('depth', (9598,)), ('top', (9598,)), ('base', (9598,)), ('logs', (9598, 11))]\n",
      "Loading Well:  204-20-2  from  /home/ross/Dropbox/core_data/facies/train_data\n"
     ]
    },
    {
     "name": "stderr",
     "output_type": "stream",
     "text": [
      "Header section Parameter regexp=~P was not found.\n"
     ]
    },
    {
     "name": "stdout",
     "output_type": "stream",
     "text": [
      "Feature shapes:  [('depth', (2940,)), ('top', (2940,)), ('base', (2940,)), ('logs', (2940, 11))]\n",
      "Loading Well:  204-24a-6  from  /home/ross/Dropbox/core_data/facies/train_data\n"
     ]
    },
    {
     "name": "stderr",
     "output_type": "stream",
     "text": [
      "Header section Parameter regexp=~P was not found.\n"
     ]
    },
    {
     "name": "stdout",
     "output_type": "stream",
     "text": [
      "Adding NaN log:  SP\n",
      "Adding NaN log:  DTS1\n",
      "Adding NaN log:  DTS2\n",
      "Feature shapes:  [('depth', (13034,)), ('top', (13034,)), ('base', (13034,)), ('logs', (13034, 11))]\n",
      "Loading Well:  204-19-7  from  /home/ross/Dropbox/core_data/facies/train_data\n"
     ]
    },
    {
     "name": "stderr",
     "output_type": "stream",
     "text": [
      "Header section Parameter regexp=~P was not found.\n"
     ]
    },
    {
     "name": "stdout",
     "output_type": "stream",
     "text": [
      "Adding NaN log:  DTS\n",
      "Feature shapes:  [('depth', (9807,)), ('top', (9807,)), ('base', (9807,)), ('logs', (9807, 11))]\n",
      "Loading Well:  204-20-3  from  /home/ross/Dropbox/core_data/facies/train_data\n"
     ]
    },
    {
     "name": "stderr",
     "output_type": "stream",
     "text": [
      "Header section Parameter regexp=~P was not found.\n"
     ]
    },
    {
     "name": "stdout",
     "output_type": "stream",
     "text": [
      "Feature shapes:  [('depth', (10906,)), ('top', (10906,)), ('base', (10906,)), ('logs', (10906, 11))]\n",
      "Loading Well:  204-20-1  from  /home/ross/Dropbox/core_data/facies/train_data\n"
     ]
    },
    {
     "name": "stderr",
     "output_type": "stream",
     "text": [
      "Header section Parameter regexp=~P was not found.\n"
     ]
    },
    {
     "name": "stdout",
     "output_type": "stream",
     "text": [
      "Adding NaN log:  DTS1\n",
      "Adding NaN log:  DTS2\n",
      "Feature shapes:  [('depth', (11210,)), ('top', (11210,)), ('base', (11210,)), ('logs', (11210, 11))]\n",
      "Loading Well:  204-24a-7  from  /home/ross/Dropbox/core_data/facies/train_data\n"
     ]
    },
    {
     "name": "stderr",
     "output_type": "stream",
     "text": [
      "Header section Parameter regexp=~P was not found.\n"
     ]
    },
    {
     "name": "stdout",
     "output_type": "stream",
     "text": [
      "Adding NaN log:  SP\n",
      "Adding NaN log:  DTS\n",
      "Feature shapes:  [('depth', (19294,)), ('top', (19294,)), ('base', (19294,)), ('logs', (19294, 11))]\n",
      "Loading Well:  205-21b-3  from  /home/ross/Dropbox/core_data/facies/train_data\n"
     ]
    },
    {
     "name": "stderr",
     "output_type": "stream",
     "text": [
      "Header section Parameter regexp=~P was not found.\n"
     ]
    },
    {
     "name": "stdout",
     "output_type": "stream",
     "text": [
      "Adding NaN log:  SP\n",
      "Adding NaN log:  DTS\n",
      "Feature shapes:  [('depth', (3881,)), ('top', (3881,)), ('base', (3881,)), ('logs', (3881, 11))]\n",
      "Loading Well:  204-20-6a  from  /home/ross/Dropbox/core_data/facies/train_data\n"
     ]
    },
    {
     "name": "stderr",
     "output_type": "stream",
     "text": [
      "Header section Parameter regexp=~P was not found.\n"
     ]
    },
    {
     "name": "stdout",
     "output_type": "stream",
     "text": [
      "Adding NaN log:  SP\n",
      "Adding NaN log:  DTS1\n",
      "Adding NaN log:  DTS2\n",
      "Feature shapes:  [('depth', (3542,)), ('top', (3542,)), ('base', (3542,)), ('logs', (3542, 11))]\n",
      "Loading Well:  204-20-6a  from  /home/ross/Dropbox/core_data/facies/train_data\n"
     ]
    },
    {
     "name": "stderr",
     "output_type": "stream",
     "text": [
      "Header section Parameter regexp=~P was not found.\n"
     ]
    },
    {
     "name": "stdout",
     "output_type": "stream",
     "text": [
      "Adding NaN log:  SP\n",
      "Adding NaN log:  DTS1\n",
      "Adding NaN log:  DTS2\n",
      "Feature shapes:  [('depth', (3542,)), ('top', (3542,)), ('base', (3542,)), ('logs', (3542, 11))]\n",
      "Loading Well:  204-20-1  from  /home/ross/Dropbox/core_data/facies/train_data\n"
     ]
    },
    {
     "name": "stderr",
     "output_type": "stream",
     "text": [
      "Header section Parameter regexp=~P was not found.\n"
     ]
    },
    {
     "name": "stdout",
     "output_type": "stream",
     "text": [
      "Adding NaN log:  DTS1\n",
      "Adding NaN log:  DTS2\n",
      "Feature shapes:  [('depth', (11210,)), ('top', (11210,)), ('base', (11210,)), ('logs', (11210, 11))]\n",
      "Loading Well:  204-19-6  from  /home/ross/Dropbox/core_data/facies/train_data\n"
     ]
    },
    {
     "name": "stderr",
     "output_type": "stream",
     "text": [
      "Header section Parameter regexp=~P was not found.\n"
     ]
    },
    {
     "name": "stdout",
     "output_type": "stream",
     "text": [
      "Adding NaN log:  DTS\n",
      "Feature shapes:  [('depth', (1981,)), ('top', (1981,)), ('base', (1981,)), ('logs', (1981, 11))]\n",
      "Loading Well:  204-20-1Z  from  /home/ross/Dropbox/core_data/facies/train_data\n"
     ]
    },
    {
     "name": "stderr",
     "output_type": "stream",
     "text": [
      "Header section Parameter regexp=~P was not found.\n"
     ]
    },
    {
     "name": "stdout",
     "output_type": "stream",
     "text": [
      "Adding NaN log:  SP\n",
      "Adding NaN log:  DTS1\n",
      "Adding NaN log:  DTS2\n",
      "Feature shapes:  [('depth', (1929,)), ('top', (1929,)), ('base', (1929,)), ('logs', (1929, 11))]\n",
      "Loading Well:  204-19-3A  from  /home/ross/Dropbox/core_data/facies/train_data\n"
     ]
    },
    {
     "name": "stderr",
     "output_type": "stream",
     "text": [
      "Header section Parameter regexp=~P was not found.\n"
     ]
    },
    {
     "name": "stdout",
     "output_type": "stream",
     "text": [
      "Adding NaN log:  DTS\n",
      "Feature shapes:  [('depth', (9598,)), ('top', (9598,)), ('base', (9598,)), ('logs', (9598, 11))]\n",
      "Loading Well:  204-20a-7  from  /home/ross/Dropbox/core_data/facies/train_data\n"
     ]
    },
    {
     "name": "stderr",
     "output_type": "stream",
     "text": [
      "Header section Parameter regexp=~P was not found.\n"
     ]
    },
    {
     "name": "stdout",
     "output_type": "stream",
     "text": [
      "Adding NaN log:  DTS1\n",
      "Adding NaN log:  DTS2\n",
      "Feature shapes:  [('depth', (3105,)), ('top', (3105,)), ('base', (3105,)), ('logs', (3105, 11))]\n",
      "Loading Well:  204-20-2  from  /home/ross/Dropbox/core_data/facies/train_data\n"
     ]
    },
    {
     "name": "stderr",
     "output_type": "stream",
     "text": [
      "Header section Parameter regexp=~P was not found.\n"
     ]
    },
    {
     "name": "stdout",
     "output_type": "stream",
     "text": [
      "Feature shapes:  [('depth', (2940,)), ('top', (2940,)), ('base', (2940,)), ('logs', (2940, 11))]\n",
      "Loading Well:  204-24a-6  from  /home/ross/Dropbox/core_data/facies/train_data\n"
     ]
    },
    {
     "name": "stderr",
     "output_type": "stream",
     "text": [
      "Header section Parameter regexp=~P was not found.\n"
     ]
    },
    {
     "name": "stdout",
     "output_type": "stream",
     "text": [
      "Adding NaN log:  SP\n",
      "Adding NaN log:  DTS1\n",
      "Adding NaN log:  DTS2\n",
      "Feature shapes:  [('depth', (13034,)), ('top', (13034,)), ('base', (13034,)), ('logs', (13034, 11))]\n",
      "Loading Well:  204-19-7  from  /home/ross/Dropbox/core_data/facies/train_data\n"
     ]
    },
    {
     "name": "stderr",
     "output_type": "stream",
     "text": [
      "Header section Parameter regexp=~P was not found.\n"
     ]
    },
    {
     "name": "stdout",
     "output_type": "stream",
     "text": [
      "Adding NaN log:  DTS\n",
      "Feature shapes:  [('depth', (9807,)), ('top', (9807,)), ('base', (9807,)), ('logs', (9807, 11))]\n",
      "Loading Well:  204-20-3  from  /home/ross/Dropbox/core_data/facies/train_data\n"
     ]
    },
    {
     "name": "stderr",
     "output_type": "stream",
     "text": [
      "Header section Parameter regexp=~P was not found.\n"
     ]
    },
    {
     "name": "stdout",
     "output_type": "stream",
     "text": [
      "Feature shapes:  [('depth', (10906,)), ('top', (10906,)), ('base', (10906,)), ('logs', (10906, 11))]\n",
      "Loading Well:  204-24a-7  from  /home/ross/Dropbox/core_data/facies/train_data\n"
     ]
    },
    {
     "name": "stderr",
     "output_type": "stream",
     "text": [
      "Header section Parameter regexp=~P was not found.\n"
     ]
    },
    {
     "name": "stdout",
     "output_type": "stream",
     "text": [
      "Adding NaN log:  SP\n",
      "Adding NaN log:  DTS\n",
      "Feature shapes:  [('depth', (19294,)), ('top', (19294,)), ('base', (19294,)), ('logs', (19294, 11))]\n",
      "Loading Well:  205-21b-3  from  /home/ross/Dropbox/core_data/facies/train_data\n"
     ]
    },
    {
     "name": "stderr",
     "output_type": "stream",
     "text": [
      "Header section Parameter regexp=~P was not found.\n"
     ]
    },
    {
     "name": "stdout",
     "output_type": "stream",
     "text": [
      "Adding NaN log:  SP\n",
      "Adding NaN log:  DTS\n",
      "Feature shapes:  [('depth', (3881,)), ('top', (3881,)), ('base', (3881,)), ('logs', (3881, 11))]\n",
      "Training model for feature:                         \n",
      "logs                                                \n",
      "F1 score:                                           \n",
      "0.2196381408305709                                  \n",
      "  0%|          | 0/10 [00:19<?, ?it/s, best loss: ?]"
     ]
    },
    {
     "name": "stderr",
     "output_type": "stream",
     "text": [
      "/home/ross/anaconda3/envs/core-dev/lib/python3.7/site-packages/sklearn/metrics/classification.py:1437: UndefinedMetricWarning: F-score is ill-defined and being set to 0.0 in labels with no predicted samples.\n",
      "  'precision', 'predicted', average, warn_for)\n",
      "\n"
     ]
    },
    {
     "name": "stdout",
     "output_type": "stream",
     "text": [
      "Training model for feature:                         \n",
      "logs                                                \n",
      "F1 score:                                           \n",
      "0.13679229769394025                                 \n",
      "  0%|          | 0/10 [00:41<?, ?it/s, best loss: ?]"
     ]
    },
    {
     "name": "stderr",
     "output_type": "stream",
     "text": [
      "/home/ross/anaconda3/envs/core-dev/lib/python3.7/site-packages/sklearn/metrics/classification.py:1437: UndefinedMetricWarning: F-score is ill-defined and being set to 0.0 in labels with no predicted samples.\n",
      "  'precision', 'predicted', average, warn_for)\n",
      "\n"
     ]
    },
    {
     "name": "stdout",
     "output_type": "stream",
     "text": [
      "Training model for feature:                         \n",
      "logs                                                \n",
      "F1 score:                                           \n",
      "0.18650978383511865                                 \n",
      "  0%|          | 0/10 [01:01<?, ?it/s, best loss: ?]"
     ]
    },
    {
     "name": "stderr",
     "output_type": "stream",
     "text": [
      "/home/ross/anaconda3/envs/core-dev/lib/python3.7/site-packages/sklearn/metrics/classification.py:1437: UndefinedMetricWarning: F-score is ill-defined and being set to 0.0 in labels with no predicted samples.\n",
      "  'precision', 'predicted', average, warn_for)\n",
      "\n"
     ]
    },
    {
     "name": "stdout",
     "output_type": "stream",
     "text": [
      "Training model for feature:                         \n",
      "logs                                                \n",
      "F1 score:                                           \n",
      "0.1396528392765664                                  \n",
      "Training model for feature:                         \n",
      "logs                                                \n",
      "F1 score:                                           \n",
      "0.15363830850012128                                 \n",
      "Training model for feature:                                                   \n",
      "logs                                                                          \n",
      "F1 score:                                                                     \n",
      "0.21596101254593625                                                           \n",
      " 10%|█         | 1/10 [02:02<15:07, 100.79s/it, best loss: 3.5855832853990948]"
     ]
    },
    {
     "name": "stderr",
     "output_type": "stream",
     "text": [
      "/home/ross/anaconda3/envs/core-dev/lib/python3.7/site-packages/sklearn/metrics/classification.py:1437: UndefinedMetricWarning: F-score is ill-defined and being set to 0.0 in labels with no predicted samples.\n",
      "  'precision', 'predicted', average, warn_for)\n",
      "\n"
     ]
    },
    {
     "name": "stdout",
     "output_type": "stream",
     "text": [
      "Training model for feature:                                                   \n",
      "logs                                                                          \n",
      "F1 score:                                                                     \n",
      "0.13951912524155996                                                           \n",
      " 10%|█         | 1/10 [02:28<15:07, 100.79s/it, best loss: 3.5855832853990948]"
     ]
    },
    {
     "name": "stderr",
     "output_type": "stream",
     "text": [
      "/home/ross/anaconda3/envs/core-dev/lib/python3.7/site-packages/sklearn/metrics/classification.py:1437: UndefinedMetricWarning: F-score is ill-defined and being set to 0.0 in labels with no predicted samples.\n",
      "  'precision', 'predicted', average, warn_for)\n",
      "\n"
     ]
    },
    {
     "name": "stdout",
     "output_type": "stream",
     "text": [
      "Training model for feature:                                                   \n",
      "logs                                                                          \n",
      "F1 score:                                                                     \n",
      "0.19853938321695616                                                           \n",
      "Training model for feature:                                                   \n",
      "logs                                                                          \n",
      "F1 score:                                                                     \n",
      "0.15092849106815504                                                           \n",
      "Training model for feature:                                                   \n",
      "logs                                                                          \n",
      "F1 score:                                                                     \n",
      "0.16656577969830721                                                           \n",
      "Training model for feature:                                                   \n",
      "logs                                                                          \n",
      "F1 score:                                                                     \n",
      "0.19213401129984886                                                           \n",
      "Training model for feature:                                                   \n",
      "logs                                                                          \n",
      "F1 score:                                                                     \n",
      "0.1654572138529239                                                            \n",
      "Training model for feature:                                                   \n",
      "logs                                                                          \n",
      "F1 score:                                                                     \n",
      "0.1696359574277324                                                            \n",
      "Training model for feature:                                                   \n",
      "logs                                                                          \n",
      "F1 score:                                                                     \n",
      "0.17003550405904258                                                           \n",
      "Training model for feature:                                                   \n",
      "logs                                                                          \n",
      "F1 score:                                                                     \n",
      "0.1584440018746726                                                            \n",
      "Training model for feature:                                                   \n",
      "logs                                                                         \n",
      "F1 score:                                                                    \n",
      "0.216226147812369                                                            \n",
      "Training model for feature:                                                  \n",
      "logs                                                                         \n",
      "F1 score:                                                                    \n",
      "0.15035572745123818                                                          \n",
      " 30%|███       | 3/10 [04:22<09:31, 81.68s/it, best loss: 2.8932214998131363]"
     ]
    },
    {
     "name": "stderr",
     "output_type": "stream",
     "text": [
      "/home/ross/anaconda3/envs/core-dev/lib/python3.7/site-packages/sklearn/metrics/classification.py:1437: UndefinedMetricWarning: F-score is ill-defined and being set to 0.0 in labels with no predicted samples.\n",
      "  'precision', 'predicted', average, warn_for)\n",
      "\n"
     ]
    },
    {
     "name": "stdout",
     "output_type": "stream",
     "text": [
      "Training model for feature:                                                  \n",
      "logs                                                                         \n",
      "F1 score:                                                                    \n",
      "0.198690441585796                                                            \n",
      "Training model for feature:                                                  \n",
      "logs                                                                         \n",
      "F1 score:                                                                    \n",
      "0.15823773099785243                                                          \n",
      "Training model for feature:                                                  \n",
      "logs                                                                         \n",
      "F1 score:                                                                    \n",
      "0.16158945584255444                                                          \n",
      "Training model for feature:                                                  \n",
      "logs                                                                         \n",
      "F1 score:                                                                    \n",
      "0.21780686775865962                                                          \n",
      "Training model for feature:                                                  \n",
      "logs                                                                         \n",
      "F1 score:                                                                    \n",
      "0.15970363986616476                                                          \n",
      "Training model for feature:                                                  \n",
      "logs                                                                         \n",
      "F1 score:                                                                    \n",
      "0.1845799051312175                                                           \n",
      "Training model for feature:                                                  \n",
      "logs                                                                         \n",
      "F1 score:                                                                    \n",
      "0.1686399050300795                                                           \n",
      "Training model for feature:                                                  \n",
      "logs                                                                         \n",
      "F1 score:                                                                    \n",
      "0.1630292343137005                                                           \n",
      "Training model for feature:                                                  \n",
      "logs                                                                         \n",
      "F1 score:                                                                    \n",
      "0.20073982988907968                                                          \n",
      "Training model for feature:                                                  \n",
      "logs                                                                         \n",
      "F1 score:                                                                    \n",
      "0.15602380294983417                                                          \n",
      "Training model for feature:                                                  \n",
      "logs                                                                         \n",
      "F1 score:                                                                    \n",
      "0.1757284137515626                                                           \n",
      "Training model for feature:                                                  \n",
      "logs                                                                         \n",
      "F1 score:                                                                    \n",
      "0.1679888448350756                                                           \n",
      "Training model for feature:                                                  \n",
      "logs                                                                         \n",
      "F1 score:                                                                    \n",
      "0.16539986195919376                                                          \n",
      "Training model for feature:                                                  \n",
      "logs                                                                        \n",
      "F1 score:                                                                   \n",
      "0.22065919404293033                                                         \n",
      " 60%|██████    | 6/10 [07:03<03:33, 53.44s/it, best loss: 2.704583239734622]"
     ]
    },
    {
     "name": "stderr",
     "output_type": "stream",
     "text": [
      "/home/ross/anaconda3/envs/core-dev/lib/python3.7/site-packages/sklearn/metrics/classification.py:1437: UndefinedMetricWarning: F-score is ill-defined and being set to 0.0 in labels with no predicted samples.\n",
      "  'precision', 'predicted', average, warn_for)\n",
      "\n"
     ]
    },
    {
     "name": "stdout",
     "output_type": "stream",
     "text": [
      "Training model for feature:                                                 \n",
      "logs                                                                        \n",
      "F1 score:                                                                   \n",
      "0.14982038167458214                                                         \n",
      "Training model for feature:                                                 \n",
      "logs                                                                        \n",
      "F1 score:                                                                   \n",
      "0.19147935781884493                                                         \n",
      "Training model for feature:                                                 \n",
      "logs                                                                        \n",
      "F1 score:                                                                   \n",
      "0.13992291023739514                                                         \n",
      "Training model for feature:                                                 \n",
      "logs                                                                        \n",
      "F1 score:                                                                   \n",
      "0.17272558902051202                                                         \n",
      "Training model for feature:                                                  \n",
      "logs                                                                         \n",
      "F1 score:                                                                    \n",
      "0.211277700404683                                                            \n",
      " 70%|███████   | 7/10 [11:38<05:55, 118.52s/it, best loss: 2.704583239734622]"
     ]
    },
    {
     "name": "stderr",
     "output_type": "stream",
     "text": [
      "/home/ross/anaconda3/envs/core-dev/lib/python3.7/site-packages/sklearn/metrics/classification.py:1437: UndefinedMetricWarning: F-score is ill-defined and being set to 0.0 in labels with no predicted samples.\n",
      "  'precision', 'predicted', average, warn_for)\n",
      "\n"
     ]
    },
    {
     "name": "stdout",
     "output_type": "stream",
     "text": [
      "Training model for feature:                                                  \n",
      "logs                                                                         \n",
      "F1 score:                                                                    \n",
      "0.16034463681701797                                                          \n",
      " 70%|███████   | 7/10 [12:48<05:55, 118.52s/it, best loss: 2.704583239734622]"
     ]
    },
    {
     "name": "stderr",
     "output_type": "stream",
     "text": [
      "/home/ross/anaconda3/envs/core-dev/lib/python3.7/site-packages/sklearn/metrics/classification.py:1437: UndefinedMetricWarning: F-score is ill-defined and being set to 0.0 in labels with no predicted samples.\n",
      "  'precision', 'predicted', average, warn_for)\n",
      "\n"
     ]
    },
    {
     "name": "stdout",
     "output_type": "stream",
     "text": [
      "Training model for feature:                                                  \n",
      "logs                                                                         \n",
      "F1 score:                                                                    \n",
      "0.16900678005821843                                                          \n",
      "Training model for feature:                                                  \n",
      "logs                                                                         \n",
      "F1 score:                                                                    \n",
      "0.16633259271576695                                                          \n",
      "Training model for feature:                                                  \n",
      "logs                                                                         \n",
      "F1 score:                                                                    \n",
      "0.14885812093391507                                                          \n",
      "Training model for feature:                                                  \n",
      "logs                                                                         \n",
      "F1 score:                                                                    \n",
      "0.21202782117191432                                                          \n",
      " 80%|████████  | 8/10 [16:32<06:04, 182.16s/it, best loss: 2.704583239734622]"
     ]
    },
    {
     "name": "stderr",
     "output_type": "stream",
     "text": [
      "/home/ross/anaconda3/envs/core-dev/lib/python3.7/site-packages/sklearn/metrics/classification.py:1437: UndefinedMetricWarning: F-score is ill-defined and being set to 0.0 in labels with no predicted samples.\n",
      "  'precision', 'predicted', average, warn_for)\n",
      "\n"
     ]
    },
    {
     "name": "stdout",
     "output_type": "stream",
     "text": [
      "Training model for feature:                                                  \n",
      "logs                                                                         \n",
      "F1 score:                                                                    \n",
      "0.15202162770015562                                                          \n",
      " 80%|████████  | 8/10 [16:56<06:04, 182.16s/it, best loss: 2.704583239734622]"
     ]
    },
    {
     "name": "stderr",
     "output_type": "stream",
     "text": [
      "/home/ross/anaconda3/envs/core-dev/lib/python3.7/site-packages/sklearn/metrics/classification.py:1437: UndefinedMetricWarning: F-score is ill-defined and being set to 0.0 in labels with no predicted samples.\n",
      "  'precision', 'predicted', average, warn_for)\n",
      "\n"
     ]
    },
    {
     "name": "stdout",
     "output_type": "stream",
     "text": [
      "Training model for feature:                                                  \n",
      "logs                                                                         \n",
      "F1 score:                                                                    \n",
      "0.19650702017287225                                                          \n",
      "Training model for feature:                                                  \n",
      "logs                                                                         \n",
      "F1 score:                                                                    \n",
      "0.16172292430499785                                                          \n",
      "Training model for feature:                                                  \n",
      "logs                                                                         \n",
      "F1 score:                                                                    \n",
      "0.16712531114456863                                                          \n",
      "Training model for feature:                                                  \n",
      "logs                                                                         \n",
      "F1 score:                                                                    \n",
      "0.20795784196673617                                                          \n",
      " 90%|█████████ | 9/10 [18:17<02:40, 160.97s/it, best loss: 2.704583239734622]"
     ]
    },
    {
     "name": "stderr",
     "output_type": "stream",
     "text": [
      "/home/ross/anaconda3/envs/core-dev/lib/python3.7/site-packages/sklearn/metrics/classification.py:1437: UndefinedMetricWarning: F-score is ill-defined and being set to 0.0 in labels with no predicted samples.\n",
      "  'precision', 'predicted', average, warn_for)\n",
      "\n"
     ]
    },
    {
     "name": "stdout",
     "output_type": "stream",
     "text": [
      "Training model for feature:                                                  \n",
      "logs                                                                         \n",
      "F1 score:                                                                    \n",
      "0.182442183847624                                                            \n",
      " 90%|█████████ | 9/10 [18:31<02:40, 160.97s/it, best loss: 2.704583239734622]"
     ]
    },
    {
     "name": "stderr",
     "output_type": "stream",
     "text": [
      "/home/ross/anaconda3/envs/core-dev/lib/python3.7/site-packages/sklearn/metrics/classification.py:1437: UndefinedMetricWarning: F-score is ill-defined and being set to 0.0 in labels with no predicted samples.\n",
      "  'precision', 'predicted', average, warn_for)\n",
      "\n"
     ]
    },
    {
     "name": "stdout",
     "output_type": "stream",
     "text": [
      "Training model for feature:                                                  \n",
      "logs                                                                         \n",
      "F1 score:                                                                    \n",
      "0.16181151876133534                                                          \n",
      " 90%|█████████ | 9/10 [18:44<02:40, 160.97s/it, best loss: 2.704583239734622]"
     ]
    },
    {
     "name": "stderr",
     "output_type": "stream",
     "text": [
      "/home/ross/anaconda3/envs/core-dev/lib/python3.7/site-packages/sklearn/metrics/classification.py:1437: UndefinedMetricWarning: F-score is ill-defined and being set to 0.0 in labels with no predicted samples.\n",
      "  'precision', 'predicted', average, warn_for)\n",
      "\n"
     ]
    },
    {
     "name": "stdout",
     "output_type": "stream",
     "text": [
      "Training model for feature:                                                  \n",
      "logs                                                                         \n",
      "F1 score:                                                                    \n",
      "0.12800838493300276                                                          \n",
      " 90%|█████████ | 9/10 [18:56<02:40, 160.97s/it, best loss: 2.704583239734622]"
     ]
    },
    {
     "name": "stderr",
     "output_type": "stream",
     "text": [
      "/home/ross/anaconda3/envs/core-dev/lib/python3.7/site-packages/sklearn/metrics/classification.py:1437: UndefinedMetricWarning: F-score is ill-defined and being set to 0.0 in labels with no predicted samples.\n",
      "  'precision', 'predicted', average, warn_for)\n",
      "\n"
     ]
    },
    {
     "name": "stdout",
     "output_type": "stream",
     "text": [
      "Training model for feature:                                                  \n",
      "logs                                                                         \n",
      "F1 score:                                                                    \n",
      "0.14559222118764603                                                          \n",
      " 90%|█████████ | 9/10 [19:09<02:40, 160.97s/it, best loss: 2.704583239734622]"
     ]
    },
    {
     "name": "stderr",
     "output_type": "stream",
     "text": [
      "/home/ross/anaconda3/envs/core-dev/lib/python3.7/site-packages/sklearn/metrics/classification.py:1437: UndefinedMetricWarning: F-score is ill-defined and being set to 0.0 in labels with no predicted samples.\n",
      "  'precision', 'predicted', average, warn_for)\n",
      "\n"
     ]
    },
    {
     "name": "stdout",
     "output_type": "stream",
     "text": [
      "100%|██████████| 10/10 [19:11<00:00, 115.14s/it, best loss: 2.17393773029098]\n",
      "\n",
      "\n",
      "\t Starting TRAIN_SET_6\n",
      "Loading Well:  204-24a-7  from  /home/ross/Dropbox/core_data/facies/train_data\n"
     ]
    },
    {
     "name": "stderr",
     "output_type": "stream",
     "text": [
      "Header section Parameter regexp=~P was not found.\n"
     ]
    },
    {
     "name": "stdout",
     "output_type": "stream",
     "text": [
      "Adding NaN log:  SP\n",
      "Adding NaN log:  DTS\n",
      "Feature shapes:  [('depth', (19294,)), ('top', (19294,)), ('base', (19294,)), ('logs', (19294, 11))]\n",
      "Loading Well:  204-24a-6  from  /home/ross/Dropbox/core_data/facies/train_data\n"
     ]
    },
    {
     "name": "stderr",
     "output_type": "stream",
     "text": [
      "Header section Parameter regexp=~P was not found.\n"
     ]
    },
    {
     "name": "stdout",
     "output_type": "stream",
     "text": [
      "Adding NaN log:  SP\n",
      "Adding NaN log:  DTS1\n",
      "Adding NaN log:  DTS2\n",
      "Feature shapes:  [('depth', (13034,)), ('top', (13034,)), ('base', (13034,)), ('logs', (13034, 11))]\n",
      "Loading Well:  204-20-3  from  /home/ross/Dropbox/core_data/facies/train_data\n"
     ]
    },
    {
     "name": "stderr",
     "output_type": "stream",
     "text": [
      "Header section Parameter regexp=~P was not found.\n"
     ]
    },
    {
     "name": "stdout",
     "output_type": "stream",
     "text": [
      "Feature shapes:  [('depth', (10906,)), ('top', (10906,)), ('base', (10906,)), ('logs', (10906, 11))]\n",
      "Loading Well:  204-20-6a  from  /home/ross/Dropbox/core_data/facies/train_data\n"
     ]
    },
    {
     "name": "stderr",
     "output_type": "stream",
     "text": [
      "Header section Parameter regexp=~P was not found.\n"
     ]
    },
    {
     "name": "stdout",
     "output_type": "stream",
     "text": [
      "Adding NaN log:  SP\n",
      "Adding NaN log:  DTS1\n",
      "Adding NaN log:  DTS2\n",
      "Feature shapes:  [('depth', (3542,)), ('top', (3542,)), ('base', (3542,)), ('logs', (3542, 11))]\n",
      "Loading Well:  204-20a-7  from  /home/ross/Dropbox/core_data/facies/train_data\n"
     ]
    },
    {
     "name": "stderr",
     "output_type": "stream",
     "text": [
      "Header section Parameter regexp=~P was not found.\n"
     ]
    },
    {
     "name": "stdout",
     "output_type": "stream",
     "text": [
      "Adding NaN log:  DTS1\n",
      "Adding NaN log:  DTS2\n",
      "Feature shapes:  [('depth', (3105,)), ('top', (3105,)), ('base', (3105,)), ('logs', (3105, 11))]\n",
      "Loading Well:  204-19-6  from  /home/ross/Dropbox/core_data/facies/train_data\n"
     ]
    },
    {
     "name": "stderr",
     "output_type": "stream",
     "text": [
      "Header section Parameter regexp=~P was not found.\n"
     ]
    },
    {
     "name": "stdout",
     "output_type": "stream",
     "text": [
      "Adding NaN log:  DTS\n",
      "Feature shapes:  [('depth', (1981,)), ('top', (1981,)), ('base', (1981,)), ('logs', (1981, 11))]\n",
      "Loading Well:  204-20-1Z  from  /home/ross/Dropbox/core_data/facies/train_data\n"
     ]
    },
    {
     "name": "stderr",
     "output_type": "stream",
     "text": [
      "Header section Parameter regexp=~P was not found.\n"
     ]
    },
    {
     "name": "stdout",
     "output_type": "stream",
     "text": [
      "Adding NaN log:  SP\n",
      "Adding NaN log:  DTS1\n",
      "Adding NaN log:  DTS2\n",
      "Feature shapes:  [('depth', (1929,)), ('top', (1929,)), ('base', (1929,)), ('logs', (1929, 11))]\n",
      "Loading Well:  204-19-3A  from  /home/ross/Dropbox/core_data/facies/train_data\n"
     ]
    },
    {
     "name": "stderr",
     "output_type": "stream",
     "text": [
      "Header section Parameter regexp=~P was not found.\n"
     ]
    },
    {
     "name": "stdout",
     "output_type": "stream",
     "text": [
      "Adding NaN log:  DTS\n",
      "Feature shapes:  [('depth', (9598,)), ('top', (9598,)), ('base', (9598,)), ('logs', (9598, 11))]\n",
      "Loading Well:  204-20-2  from  /home/ross/Dropbox/core_data/facies/train_data\n"
     ]
    },
    {
     "name": "stderr",
     "output_type": "stream",
     "text": [
      "Header section Parameter regexp=~P was not found.\n"
     ]
    },
    {
     "name": "stdout",
     "output_type": "stream",
     "text": [
      "Feature shapes:  [('depth', (2940,)), ('top', (2940,)), ('base', (2940,)), ('logs', (2940, 11))]\n",
      "Loading Well:  204-19-7  from  /home/ross/Dropbox/core_data/facies/train_data\n"
     ]
    },
    {
     "name": "stderr",
     "output_type": "stream",
     "text": [
      "Header section Parameter regexp=~P was not found.\n"
     ]
    },
    {
     "name": "stdout",
     "output_type": "stream",
     "text": [
      "Adding NaN log:  DTS\n",
      "Feature shapes:  [('depth', (9807,)), ('top', (9807,)), ('base', (9807,)), ('logs', (9807, 11))]\n",
      "Loading Well:  204-20-1  from  /home/ross/Dropbox/core_data/facies/train_data\n"
     ]
    },
    {
     "name": "stderr",
     "output_type": "stream",
     "text": [
      "Header section Parameter regexp=~P was not found.\n"
     ]
    },
    {
     "name": "stdout",
     "output_type": "stream",
     "text": [
      "Adding NaN log:  DTS1\n",
      "Adding NaN log:  DTS2\n",
      "Feature shapes:  [('depth', (11210,)), ('top', (11210,)), ('base', (11210,)), ('logs', (11210, 11))]\n",
      "Loading Well:  205-21b-3  from  /home/ross/Dropbox/core_data/facies/train_data\n"
     ]
    },
    {
     "name": "stderr",
     "output_type": "stream",
     "text": [
      "Header section Parameter regexp=~P was not found.\n"
     ]
    },
    {
     "name": "stdout",
     "output_type": "stream",
     "text": [
      "Adding NaN log:  SP\n",
      "Adding NaN log:  DTS\n",
      "Feature shapes:  [('depth', (3881,)), ('top', (3881,)), ('base', (3881,)), ('logs', (3881, 11))]\n",
      "Loading Well:  204-19-3A  from  /home/ross/Dropbox/core_data/facies/train_data\n"
     ]
    },
    {
     "name": "stderr",
     "output_type": "stream",
     "text": [
      "Header section Parameter regexp=~P was not found.\n"
     ]
    },
    {
     "name": "stdout",
     "output_type": "stream",
     "text": [
      "Adding NaN log:  DTS\n",
      "Feature shapes:  [('depth', (9598,)), ('top', (9598,)), ('base', (9598,)), ('logs', (9598, 11))]\n",
      "Loading Well:  204-20-1  from  /home/ross/Dropbox/core_data/facies/train_data\n"
     ]
    },
    {
     "name": "stderr",
     "output_type": "stream",
     "text": [
      "Header section Parameter regexp=~P was not found.\n"
     ]
    },
    {
     "name": "stdout",
     "output_type": "stream",
     "text": [
      "Adding NaN log:  DTS1\n",
      "Adding NaN log:  DTS2\n",
      "Feature shapes:  [('depth', (11210,)), ('top', (11210,)), ('base', (11210,)), ('logs', (11210, 11))]\n",
      "Loading Well:  204-19-7  from  /home/ross/Dropbox/core_data/facies/train_data\n"
     ]
    },
    {
     "name": "stderr",
     "output_type": "stream",
     "text": [
      "Header section Parameter regexp=~P was not found.\n"
     ]
    },
    {
     "name": "stdout",
     "output_type": "stream",
     "text": [
      "Adding NaN log:  DTS\n",
      "Feature shapes:  [('depth', (9807,)), ('top', (9807,)), ('base', (9807,)), ('logs', (9807, 11))]\n",
      "Loading Well:  205-21b-3  from  /home/ross/Dropbox/core_data/facies/train_data\n"
     ]
    },
    {
     "name": "stderr",
     "output_type": "stream",
     "text": [
      "Header section Parameter regexp=~P was not found.\n"
     ]
    },
    {
     "name": "stdout",
     "output_type": "stream",
     "text": [
      "Adding NaN log:  SP\n",
      "Adding NaN log:  DTS\n",
      "Feature shapes:  [('depth', (3881,)), ('top', (3881,)), ('base', (3881,)), ('logs', (3881, 11))]\n",
      "Loading Well:  204-20-2  from  /home/ross/Dropbox/core_data/facies/train_data\n"
     ]
    },
    {
     "name": "stderr",
     "output_type": "stream",
     "text": [
      "Header section Parameter regexp=~P was not found.\n"
     ]
    },
    {
     "name": "stdout",
     "output_type": "stream",
     "text": [
      "Feature shapes:  [('depth', (2940,)), ('top', (2940,)), ('base', (2940,)), ('logs', (2940, 11))]\n",
      "Loading Well:  204-20-1Z  from  /home/ross/Dropbox/core_data/facies/train_data\n"
     ]
    },
    {
     "name": "stderr",
     "output_type": "stream",
     "text": [
      "Header section Parameter regexp=~P was not found.\n"
     ]
    },
    {
     "name": "stdout",
     "output_type": "stream",
     "text": [
      "Adding NaN log:  SP\n",
      "Adding NaN log:  DTS1\n",
      "Adding NaN log:  DTS2\n",
      "Feature shapes:  [('depth', (1929,)), ('top', (1929,)), ('base', (1929,)), ('logs', (1929, 11))]\n",
      "Loading Well:  204-20a-7  from  /home/ross/Dropbox/core_data/facies/train_data\n"
     ]
    },
    {
     "name": "stderr",
     "output_type": "stream",
     "text": [
      "Header section Parameter regexp=~P was not found.\n"
     ]
    },
    {
     "name": "stdout",
     "output_type": "stream",
     "text": [
      "Adding NaN log:  DTS1\n",
      "Adding NaN log:  DTS2\n",
      "Feature shapes:  [('depth', (3105,)), ('top', (3105,)), ('base', (3105,)), ('logs', (3105, 11))]\n",
      "Loading Well:  204-24a-6  from  /home/ross/Dropbox/core_data/facies/train_data\n"
     ]
    },
    {
     "name": "stderr",
     "output_type": "stream",
     "text": [
      "Header section Parameter regexp=~P was not found.\n"
     ]
    },
    {
     "name": "stdout",
     "output_type": "stream",
     "text": [
      "Adding NaN log:  SP\n",
      "Adding NaN log:  DTS1\n",
      "Adding NaN log:  DTS2\n",
      "Feature shapes:  [('depth', (13034,)), ('top', (13034,)), ('base', (13034,)), ('logs', (13034, 11))]\n",
      "Loading Well:  204-19-6  from  /home/ross/Dropbox/core_data/facies/train_data\n"
     ]
    },
    {
     "name": "stderr",
     "output_type": "stream",
     "text": [
      "Header section Parameter regexp=~P was not found.\n"
     ]
    },
    {
     "name": "stdout",
     "output_type": "stream",
     "text": [
      "Adding NaN log:  DTS\n",
      "Feature shapes:  [('depth', (1981,)), ('top', (1981,)), ('base', (1981,)), ('logs', (1981, 11))]\n",
      "Loading Well:  204-20-3  from  /home/ross/Dropbox/core_data/facies/train_data\n"
     ]
    },
    {
     "name": "stderr",
     "output_type": "stream",
     "text": [
      "Header section Parameter regexp=~P was not found.\n"
     ]
    },
    {
     "name": "stdout",
     "output_type": "stream",
     "text": [
      "Feature shapes:  [('depth', (10906,)), ('top', (10906,)), ('base', (10906,)), ('logs', (10906, 11))]\n",
      "Loading Well:  204-24a-7  from  /home/ross/Dropbox/core_data/facies/train_data\n"
     ]
    },
    {
     "name": "stderr",
     "output_type": "stream",
     "text": [
      "Header section Parameter regexp=~P was not found.\n"
     ]
    },
    {
     "name": "stdout",
     "output_type": "stream",
     "text": [
      "Adding NaN log:  SP\n",
      "Adding NaN log:  DTS\n",
      "Feature shapes:  [('depth', (19294,)), ('top', (19294,)), ('base', (19294,)), ('logs', (19294, 11))]\n",
      "Loading Well:  204-20-6a  from  /home/ross/Dropbox/core_data/facies/train_data\n"
     ]
    },
    {
     "name": "stderr",
     "output_type": "stream",
     "text": [
      "Header section Parameter regexp=~P was not found.\n"
     ]
    },
    {
     "name": "stdout",
     "output_type": "stream",
     "text": [
      "Adding NaN log:  SP\n",
      "Adding NaN log:  DTS1\n",
      "Adding NaN log:  DTS2\n",
      "Feature shapes:  [('depth', (3542,)), ('top', (3542,)), ('base', (3542,)), ('logs', (3542, 11))]\n",
      "Loading Well:  204-20-3  from  /home/ross/Dropbox/core_data/facies/train_data\n"
     ]
    },
    {
     "name": "stderr",
     "output_type": "stream",
     "text": [
      "Header section Parameter regexp=~P was not found.\n"
     ]
    },
    {
     "name": "stdout",
     "output_type": "stream",
     "text": [
      "Feature shapes:  [('depth', (10906,)), ('top', (10906,)), ('base', (10906,)), ('logs', (10906, 11))]\n",
      "Loading Well:  204-20-1  from  /home/ross/Dropbox/core_data/facies/train_data\n"
     ]
    },
    {
     "name": "stderr",
     "output_type": "stream",
     "text": [
      "Header section Parameter regexp=~P was not found.\n"
     ]
    },
    {
     "name": "stdout",
     "output_type": "stream",
     "text": [
      "Adding NaN log:  DTS1\n",
      "Adding NaN log:  DTS2\n",
      "Feature shapes:  [('depth', (11210,)), ('top', (11210,)), ('base', (11210,)), ('logs', (11210, 11))]\n",
      "Loading Well:  204-19-7  from  /home/ross/Dropbox/core_data/facies/train_data\n"
     ]
    },
    {
     "name": "stderr",
     "output_type": "stream",
     "text": [
      "Header section Parameter regexp=~P was not found.\n"
     ]
    },
    {
     "name": "stdout",
     "output_type": "stream",
     "text": [
      "Adding NaN log:  DTS\n",
      "Feature shapes:  [('depth', (9807,)), ('top', (9807,)), ('base', (9807,)), ('logs', (9807, 11))]\n",
      "Loading Well:  205-21b-3  from  /home/ross/Dropbox/core_data/facies/train_data\n"
     ]
    },
    {
     "name": "stderr",
     "output_type": "stream",
     "text": [
      "Header section Parameter regexp=~P was not found.\n"
     ]
    },
    {
     "name": "stdout",
     "output_type": "stream",
     "text": [
      "Adding NaN log:  SP\n",
      "Adding NaN log:  DTS\n",
      "Feature shapes:  [('depth', (3881,)), ('top', (3881,)), ('base', (3881,)), ('logs', (3881, 11))]\n",
      "Loading Well:  204-20-6a  from  /home/ross/Dropbox/core_data/facies/train_data\n"
     ]
    },
    {
     "name": "stderr",
     "output_type": "stream",
     "text": [
      "Header section Parameter regexp=~P was not found.\n"
     ]
    },
    {
     "name": "stdout",
     "output_type": "stream",
     "text": [
      "Adding NaN log:  SP\n",
      "Adding NaN log:  DTS1\n",
      "Adding NaN log:  DTS2\n",
      "Feature shapes:  [('depth', (3542,)), ('top', (3542,)), ('base', (3542,)), ('logs', (3542, 11))]\n",
      "Loading Well:  204-20a-7  from  /home/ross/Dropbox/core_data/facies/train_data\n"
     ]
    },
    {
     "name": "stderr",
     "output_type": "stream",
     "text": [
      "Header section Parameter regexp=~P was not found.\n"
     ]
    },
    {
     "name": "stdout",
     "output_type": "stream",
     "text": [
      "Adding NaN log:  DTS1\n",
      "Adding NaN log:  DTS2\n",
      "Feature shapes:  [('depth', (3105,)), ('top', (3105,)), ('base', (3105,)), ('logs', (3105, 11))]\n",
      "Loading Well:  204-20-1Z  from  /home/ross/Dropbox/core_data/facies/train_data\n"
     ]
    },
    {
     "name": "stderr",
     "output_type": "stream",
     "text": [
      "Header section Parameter regexp=~P was not found.\n"
     ]
    },
    {
     "name": "stdout",
     "output_type": "stream",
     "text": [
      "Adding NaN log:  SP\n",
      "Adding NaN log:  DTS1\n",
      "Adding NaN log:  DTS2\n",
      "Feature shapes:  [('depth', (1929,)), ('top', (1929,)), ('base', (1929,)), ('logs', (1929, 11))]\n",
      "Loading Well:  204-19-3A  from  /home/ross/Dropbox/core_data/facies/train_data\n"
     ]
    },
    {
     "name": "stderr",
     "output_type": "stream",
     "text": [
      "Header section Parameter regexp=~P was not found.\n"
     ]
    },
    {
     "name": "stdout",
     "output_type": "stream",
     "text": [
      "Adding NaN log:  DTS\n",
      "Feature shapes:  [('depth', (9598,)), ('top', (9598,)), ('base', (9598,)), ('logs', (9598, 11))]\n",
      "Loading Well:  204-20-2  from  /home/ross/Dropbox/core_data/facies/train_data\n"
     ]
    },
    {
     "name": "stderr",
     "output_type": "stream",
     "text": [
      "Header section Parameter regexp=~P was not found.\n"
     ]
    },
    {
     "name": "stdout",
     "output_type": "stream",
     "text": [
      "Feature shapes:  [('depth', (2940,)), ('top', (2940,)), ('base', (2940,)), ('logs', (2940, 11))]\n",
      "Loading Well:  204-24a-6  from  /home/ross/Dropbox/core_data/facies/train_data\n"
     ]
    },
    {
     "name": "stderr",
     "output_type": "stream",
     "text": [
      "Header section Parameter regexp=~P was not found.\n"
     ]
    },
    {
     "name": "stdout",
     "output_type": "stream",
     "text": [
      "Adding NaN log:  SP\n",
      "Adding NaN log:  DTS1\n",
      "Adding NaN log:  DTS2\n",
      "Feature shapes:  [('depth', (13034,)), ('top', (13034,)), ('base', (13034,)), ('logs', (13034, 11))]\n",
      "Loading Well:  204-19-6  from  /home/ross/Dropbox/core_data/facies/train_data\n"
     ]
    },
    {
     "name": "stderr",
     "output_type": "stream",
     "text": [
      "Header section Parameter regexp=~P was not found.\n"
     ]
    },
    {
     "name": "stdout",
     "output_type": "stream",
     "text": [
      "Adding NaN log:  DTS\n",
      "Feature shapes:  [('depth', (1981,)), ('top', (1981,)), ('base', (1981,)), ('logs', (1981, 11))]\n",
      "Loading Well:  204-24a-7  from  /home/ross/Dropbox/core_data/facies/train_data\n"
     ]
    },
    {
     "name": "stderr",
     "output_type": "stream",
     "text": [
      "Header section Parameter regexp=~P was not found.\n"
     ]
    },
    {
     "name": "stdout",
     "output_type": "stream",
     "text": [
      "Adding NaN log:  SP\n",
      "Adding NaN log:  DTS\n",
      "Feature shapes:  [('depth', (19294,)), ('top', (19294,)), ('base', (19294,)), ('logs', (19294, 11))]\n",
      "Loading Well:  204-19-6  from  /home/ross/Dropbox/core_data/facies/train_data\n"
     ]
    },
    {
     "name": "stderr",
     "output_type": "stream",
     "text": [
      "Header section Parameter regexp=~P was not found.\n"
     ]
    },
    {
     "name": "stdout",
     "output_type": "stream",
     "text": [
      "Adding NaN log:  DTS\n",
      "Feature shapes:  [('depth', (1981,)), ('top', (1981,)), ('base', (1981,)), ('logs', (1981, 11))]\n",
      "Loading Well:  204-20-1Z  from  /home/ross/Dropbox/core_data/facies/train_data\n"
     ]
    },
    {
     "name": "stderr",
     "output_type": "stream",
     "text": [
      "Header section Parameter regexp=~P was not found.\n"
     ]
    },
    {
     "name": "stdout",
     "output_type": "stream",
     "text": [
      "Adding NaN log:  SP\n",
      "Adding NaN log:  DTS1\n",
      "Adding NaN log:  DTS2\n",
      "Feature shapes:  [('depth', (1929,)), ('top', (1929,)), ('base', (1929,)), ('logs', (1929, 11))]\n",
      "Loading Well:  204-24a-6  from  /home/ross/Dropbox/core_data/facies/train_data\n"
     ]
    },
    {
     "name": "stderr",
     "output_type": "stream",
     "text": [
      "Header section Parameter regexp=~P was not found.\n"
     ]
    },
    {
     "name": "stdout",
     "output_type": "stream",
     "text": [
      "Adding NaN log:  SP\n",
      "Adding NaN log:  DTS1\n",
      "Adding NaN log:  DTS2\n",
      "Feature shapes:  [('depth', (13034,)), ('top', (13034,)), ('base', (13034,)), ('logs', (13034, 11))]\n",
      "Loading Well:  204-24a-7  from  /home/ross/Dropbox/core_data/facies/train_data\n"
     ]
    },
    {
     "name": "stderr",
     "output_type": "stream",
     "text": [
      "Header section Parameter regexp=~P was not found.\n"
     ]
    },
    {
     "name": "stdout",
     "output_type": "stream",
     "text": [
      "Adding NaN log:  SP\n",
      "Adding NaN log:  DTS\n",
      "Feature shapes:  [('depth', (19294,)), ('top', (19294,)), ('base', (19294,)), ('logs', (19294, 11))]\n",
      "Loading Well:  204-20-2  from  /home/ross/Dropbox/core_data/facies/train_data\n"
     ]
    },
    {
     "name": "stderr",
     "output_type": "stream",
     "text": [
      "Header section Parameter regexp=~P was not found.\n"
     ]
    },
    {
     "name": "stdout",
     "output_type": "stream",
     "text": [
      "Feature shapes:  [('depth', (2940,)), ('top', (2940,)), ('base', (2940,)), ('logs', (2940, 11))]\n",
      "Loading Well:  204-20-6a  from  /home/ross/Dropbox/core_data/facies/train_data\n"
     ]
    },
    {
     "name": "stderr",
     "output_type": "stream",
     "text": [
      "Header section Parameter regexp=~P was not found.\n"
     ]
    },
    {
     "name": "stdout",
     "output_type": "stream",
     "text": [
      "Adding NaN log:  SP\n",
      "Adding NaN log:  DTS1\n",
      "Adding NaN log:  DTS2\n",
      "Feature shapes:  [('depth', (3542,)), ('top', (3542,)), ('base', (3542,)), ('logs', (3542, 11))]\n",
      "Loading Well:  204-19-3A  from  /home/ross/Dropbox/core_data/facies/train_data\n"
     ]
    },
    {
     "name": "stderr",
     "output_type": "stream",
     "text": [
      "Header section Parameter regexp=~P was not found.\n"
     ]
    },
    {
     "name": "stdout",
     "output_type": "stream",
     "text": [
      "Adding NaN log:  DTS\n",
      "Feature shapes:  [('depth', (9598,)), ('top', (9598,)), ('base', (9598,)), ('logs', (9598, 11))]\n",
      "Loading Well:  204-20a-7  from  /home/ross/Dropbox/core_data/facies/train_data\n"
     ]
    },
    {
     "name": "stderr",
     "output_type": "stream",
     "text": [
      "Header section Parameter regexp=~P was not found.\n"
     ]
    },
    {
     "name": "stdout",
     "output_type": "stream",
     "text": [
      "Adding NaN log:  DTS1\n",
      "Adding NaN log:  DTS2\n",
      "Feature shapes:  [('depth', (3105,)), ('top', (3105,)), ('base', (3105,)), ('logs', (3105, 11))]\n",
      "Loading Well:  204-19-7  from  /home/ross/Dropbox/core_data/facies/train_data\n"
     ]
    },
    {
     "name": "stderr",
     "output_type": "stream",
     "text": [
      "Header section Parameter regexp=~P was not found.\n"
     ]
    },
    {
     "name": "stdout",
     "output_type": "stream",
     "text": [
      "Adding NaN log:  DTS\n",
      "Feature shapes:  [('depth', (9807,)), ('top', (9807,)), ('base', (9807,)), ('logs', (9807, 11))]\n",
      "Loading Well:  204-20-3  from  /home/ross/Dropbox/core_data/facies/train_data\n"
     ]
    },
    {
     "name": "stderr",
     "output_type": "stream",
     "text": [
      "Header section Parameter regexp=~P was not found.\n"
     ]
    },
    {
     "name": "stdout",
     "output_type": "stream",
     "text": [
      "Feature shapes:  [('depth', (10906,)), ('top', (10906,)), ('base', (10906,)), ('logs', (10906, 11))]\n",
      "Loading Well:  204-20-1  from  /home/ross/Dropbox/core_data/facies/train_data\n"
     ]
    },
    {
     "name": "stderr",
     "output_type": "stream",
     "text": [
      "Header section Parameter regexp=~P was not found.\n"
     ]
    },
    {
     "name": "stdout",
     "output_type": "stream",
     "text": [
      "Adding NaN log:  DTS1\n",
      "Adding NaN log:  DTS2\n",
      "Feature shapes:  [('depth', (11210,)), ('top', (11210,)), ('base', (11210,)), ('logs', (11210, 11))]\n",
      "Loading Well:  205-21b-3  from  /home/ross/Dropbox/core_data/facies/train_data\n"
     ]
    },
    {
     "name": "stderr",
     "output_type": "stream",
     "text": [
      "Header section Parameter regexp=~P was not found.\n"
     ]
    },
    {
     "name": "stdout",
     "output_type": "stream",
     "text": [
      "Adding NaN log:  SP\n",
      "Adding NaN log:  DTS\n",
      "Feature shapes:  [('depth', (3881,)), ('top', (3881,)), ('base', (3881,)), ('logs', (3881, 11))]\n",
      "Loading Well:  204-19-3A  from  /home/ross/Dropbox/core_data/facies/train_data\n"
     ]
    },
    {
     "name": "stderr",
     "output_type": "stream",
     "text": [
      "Header section Parameter regexp=~P was not found.\n"
     ]
    },
    {
     "name": "stdout",
     "output_type": "stream",
     "text": [
      "Adding NaN log:  DTS\n",
      "Feature shapes:  [('depth', (9598,)), ('top', (9598,)), ('base', (9598,)), ('logs', (9598, 11))]\n",
      "Loading Well:  204-20-1  from  /home/ross/Dropbox/core_data/facies/train_data\n"
     ]
    },
    {
     "name": "stderr",
     "output_type": "stream",
     "text": [
      "Header section Parameter regexp=~P was not found.\n"
     ]
    },
    {
     "name": "stdout",
     "output_type": "stream",
     "text": [
      "Adding NaN log:  DTS1\n",
      "Adding NaN log:  DTS2\n",
      "Feature shapes:  [('depth', (11210,)), ('top', (11210,)), ('base', (11210,)), ('logs', (11210, 11))]\n",
      "Loading Well:  204-20-3  from  /home/ross/Dropbox/core_data/facies/train_data\n"
     ]
    },
    {
     "name": "stderr",
     "output_type": "stream",
     "text": [
      "Header section Parameter regexp=~P was not found.\n"
     ]
    },
    {
     "name": "stdout",
     "output_type": "stream",
     "text": [
      "Feature shapes:  [('depth', (10906,)), ('top', (10906,)), ('base', (10906,)), ('logs', (10906, 11))]\n",
      "Loading Well:  204-20a-7  from  /home/ross/Dropbox/core_data/facies/train_data\n"
     ]
    },
    {
     "name": "stderr",
     "output_type": "stream",
     "text": [
      "Header section Parameter regexp=~P was not found.\n"
     ]
    },
    {
     "name": "stdout",
     "output_type": "stream",
     "text": [
      "Adding NaN log:  DTS1\n",
      "Adding NaN log:  DTS2\n",
      "Feature shapes:  [('depth', (3105,)), ('top', (3105,)), ('base', (3105,)), ('logs', (3105, 11))]\n",
      "Loading Well:  205-21b-3  from  /home/ross/Dropbox/core_data/facies/train_data\n"
     ]
    },
    {
     "name": "stderr",
     "output_type": "stream",
     "text": [
      "Header section Parameter regexp=~P was not found.\n"
     ]
    },
    {
     "name": "stdout",
     "output_type": "stream",
     "text": [
      "Adding NaN log:  SP\n",
      "Adding NaN log:  DTS\n",
      "Feature shapes:  [('depth', (3881,)), ('top', (3881,)), ('base', (3881,)), ('logs', (3881, 11))]\n",
      "Loading Well:  204-19-7  from  /home/ross/Dropbox/core_data/facies/train_data\n"
     ]
    },
    {
     "name": "stderr",
     "output_type": "stream",
     "text": [
      "Header section Parameter regexp=~P was not found.\n"
     ]
    },
    {
     "name": "stdout",
     "output_type": "stream",
     "text": [
      "Adding NaN log:  DTS\n",
      "Feature shapes:  [('depth', (9807,)), ('top', (9807,)), ('base', (9807,)), ('logs', (9807, 11))]\n",
      "Loading Well:  204-20-1Z  from  /home/ross/Dropbox/core_data/facies/train_data\n"
     ]
    },
    {
     "name": "stderr",
     "output_type": "stream",
     "text": [
      "Header section Parameter regexp=~P was not found.\n"
     ]
    },
    {
     "name": "stdout",
     "output_type": "stream",
     "text": [
      "Adding NaN log:  SP\n",
      "Adding NaN log:  DTS1\n",
      "Adding NaN log:  DTS2\n",
      "Feature shapes:  [('depth', (1929,)), ('top', (1929,)), ('base', (1929,)), ('logs', (1929, 11))]\n",
      "Loading Well:  204-20-2  from  /home/ross/Dropbox/core_data/facies/train_data\n"
     ]
    },
    {
     "name": "stderr",
     "output_type": "stream",
     "text": [
      "Header section Parameter regexp=~P was not found.\n"
     ]
    },
    {
     "name": "stdout",
     "output_type": "stream",
     "text": [
      "Feature shapes:  [('depth', (2940,)), ('top', (2940,)), ('base', (2940,)), ('logs', (2940, 11))]\n",
      "Loading Well:  204-24a-6  from  /home/ross/Dropbox/core_data/facies/train_data\n"
     ]
    },
    {
     "name": "stderr",
     "output_type": "stream",
     "text": [
      "Header section Parameter regexp=~P was not found.\n"
     ]
    },
    {
     "name": "stdout",
     "output_type": "stream",
     "text": [
      "Adding NaN log:  SP\n",
      "Adding NaN log:  DTS1\n",
      "Adding NaN log:  DTS2\n",
      "Feature shapes:  [('depth', (13034,)), ('top', (13034,)), ('base', (13034,)), ('logs', (13034, 11))]\n",
      "Loading Well:  204-19-6  from  /home/ross/Dropbox/core_data/facies/train_data\n"
     ]
    },
    {
     "name": "stderr",
     "output_type": "stream",
     "text": [
      "Header section Parameter regexp=~P was not found.\n"
     ]
    },
    {
     "name": "stdout",
     "output_type": "stream",
     "text": [
      "Adding NaN log:  DTS\n",
      "Feature shapes:  [('depth', (1981,)), ('top', (1981,)), ('base', (1981,)), ('logs', (1981, 11))]\n",
      "Loading Well:  204-24a-7  from  /home/ross/Dropbox/core_data/facies/train_data\n"
     ]
    },
    {
     "name": "stderr",
     "output_type": "stream",
     "text": [
      "Header section Parameter regexp=~P was not found.\n"
     ]
    },
    {
     "name": "stdout",
     "output_type": "stream",
     "text": [
      "Adding NaN log:  SP\n",
      "Adding NaN log:  DTS\n",
      "Feature shapes:  [('depth', (19294,)), ('top', (19294,)), ('base', (19294,)), ('logs', (19294, 11))]\n",
      "Loading Well:  204-20-6a  from  /home/ross/Dropbox/core_data/facies/train_data\n"
     ]
    },
    {
     "name": "stderr",
     "output_type": "stream",
     "text": [
      "Header section Parameter regexp=~P was not found.\n"
     ]
    },
    {
     "name": "stdout",
     "output_type": "stream",
     "text": [
      "Adding NaN log:  SP\n",
      "Adding NaN log:  DTS1\n",
      "Adding NaN log:  DTS2\n",
      "Feature shapes:  [('depth', (3542,)), ('top', (3542,)), ('base', (3542,)), ('logs', (3542, 11))]\n",
      "Training model for feature:                         \n",
      "logs                                                \n",
      "F1 score:                                           \n",
      "0.2275467349080721                                  \n",
      "Training model for feature:                         \n",
      "logs                                                \n",
      "F1 score:                                           \n",
      "0.1440583473060075                                  \n",
      "Training model for feature:                         \n",
      "logs                                                \n",
      "F1 score:                                           \n",
      "0.18934087121535212                                 \n",
      "Training model for feature:                         \n",
      "logs                                                \n",
      "F1 score:                                           \n",
      "0.159527829538469                                   \n",
      "Training model for feature:                         \n",
      "logs                                                \n",
      "F1 score:                                           \n",
      "0.1556955646814181                                  \n",
      "  0%|          | 0/10 [01:31<?, ?it/s, best loss: ?]"
     ]
    },
    {
     "name": "stderr",
     "output_type": "stream",
     "text": [
      "/home/ross/anaconda3/envs/core-dev/lib/python3.7/site-packages/sklearn/metrics/classification.py:1437: UndefinedMetricWarning: F-score is ill-defined and being set to 0.0 in labels with no predicted samples.\n",
      "  'precision', 'predicted', average, warn_for)\n",
      "\n"
     ]
    },
    {
     "name": "stdout",
     "output_type": "stream",
     "text": [
      "Training model for feature:                                                 \n",
      "logs                                                                        \n",
      "F1 score:                                                                   \n",
      "0.22202619243300323                                                         \n",
      "Training model for feature:                                                 \n",
      "logs                                                                        \n",
      "F1 score:                                                                   \n",
      "0.14019382995443622                                                         \n",
      " 10%|█         | 1/10 [02:19<14:16, 95.11s/it, best loss: 3.874409726663623]"
     ]
    },
    {
     "name": "stderr",
     "output_type": "stream",
     "text": [
      "/home/ross/anaconda3/envs/core-dev/lib/python3.7/site-packages/sklearn/metrics/classification.py:1437: UndefinedMetricWarning: F-score is ill-defined and being set to 0.0 in labels with no predicted samples.\n",
      "  'precision', 'predicted', average, warn_for)\n",
      "\n"
     ]
    },
    {
     "name": "stdout",
     "output_type": "stream",
     "text": [
      "Training model for feature:                                                 \n",
      "logs                                                                        \n",
      "F1 score:                                                                   \n",
      "0.18785405546789935                                                         \n",
      " 10%|█         | 1/10 [02:44<14:16, 95.11s/it, best loss: 3.874409726663623]"
     ]
    },
    {
     "name": "stderr",
     "output_type": "stream",
     "text": [
      "/home/ross/anaconda3/envs/core-dev/lib/python3.7/site-packages/sklearn/metrics/classification.py:1437: UndefinedMetricWarning: F-score is ill-defined and being set to 0.0 in labels with no predicted samples.\n",
      "  'precision', 'predicted', average, warn_for)\n",
      "\n"
     ]
    },
    {
     "name": "stdout",
     "output_type": "stream",
     "text": [
      "Training model for feature:                                                 \n",
      "logs                                                                        \n",
      "F1 score:                                                                   \n",
      "0.15556496572720338                                                         \n",
      "Training model for feature:                                                 \n",
      "logs                                                                        \n",
      "F1 score:                                                                   \n",
      "0.15734386606063658                                                         \n",
      " 10%|█         | 1/10 [03:33<14:16, 95.11s/it, best loss: 3.874409726663623]"
     ]
    },
    {
     "name": "stderr",
     "output_type": "stream",
     "text": [
      "/home/ross/anaconda3/envs/core-dev/lib/python3.7/site-packages/sklearn/metrics/classification.py:1437: UndefinedMetricWarning: F-score is ill-defined and being set to 0.0 in labels with no predicted samples.\n",
      "  'precision', 'predicted', average, warn_for)\n",
      "\n"
     ]
    },
    {
     "name": "stdout",
     "output_type": "stream",
     "text": [
      "Training model for feature:                                                  \n",
      "logs                                                                         \n",
      "F1 score:                                                                    \n",
      "0.20082018150791772                                                          \n",
      "Training model for feature:                                                  \n",
      "logs                                                                         \n",
      "F1 score:                                                                    \n",
      "0.14579149776313063                                                          \n",
      " 20%|██        | 2/10 [03:52<13:46, 103.36s/it, best loss: 3.707999692555641]"
     ]
    },
    {
     "name": "stderr",
     "output_type": "stream",
     "text": [
      "/home/ross/anaconda3/envs/core-dev/lib/python3.7/site-packages/sklearn/metrics/classification.py:1437: UndefinedMetricWarning: F-score is ill-defined and being set to 0.0 in labels with no predicted samples.\n",
      "  'precision', 'predicted', average, warn_for)\n",
      "\n"
     ]
    },
    {
     "name": "stdout",
     "output_type": "stream",
     "text": [
      "Training model for feature:                                                  \n",
      "logs                                                                         \n",
      "F1 score:                                                                    \n",
      "0.17963400029671192                                                          \n",
      "Training model for feature:                                                  \n",
      "logs                                                                         \n",
      "F1 score:                                                                    \n",
      "0.1713914654831732                                                           \n",
      "Training model for feature:                                                  \n",
      "logs                                                                         \n",
      "F1 score:                                                                    \n",
      "0.11384878819688853                                                          \n",
      " 20%|██        | 2/10 [04:16<13:46, 103.36s/it, best loss: 3.707999692555641]"
     ]
    },
    {
     "name": "stderr",
     "output_type": "stream",
     "text": [
      "/home/ross/anaconda3/envs/core-dev/lib/python3.7/site-packages/sklearn/metrics/classification.py:1437: UndefinedMetricWarning: F-score is ill-defined and being set to 0.0 in labels with no predicted samples.\n",
      "  'precision', 'predicted', average, warn_for)\n",
      "\n"
     ]
    },
    {
     "name": "stdout",
     "output_type": "stream",
     "text": [
      "Training model for feature:                                                  \n",
      "logs                                                                         \n",
      "F1 score:                                                                    \n",
      "0.22532999055390848                                                          \n",
      "Training model for feature:                                                  \n",
      "logs                                                                         \n",
      "F1 score:                                                                    \n",
      "0.1416697105399164                                                           \n",
      "Training model for feature:                                                  \n",
      "logs                                                                         \n",
      "F1 score:                                                                    \n",
      "0.18290857807293806                                                          \n",
      " 30%|███       | 3/10 [05:22<09:51, 84.44s/it, best loss: 2.9591162662282158]"
     ]
    },
    {
     "name": "stderr",
     "output_type": "stream",
     "text": [
      "/home/ross/anaconda3/envs/core-dev/lib/python3.7/site-packages/sklearn/metrics/classification.py:1437: UndefinedMetricWarning: F-score is ill-defined and being set to 0.0 in labels with no predicted samples.\n",
      "  'precision', 'predicted', average, warn_for)\n",
      "\n"
     ]
    },
    {
     "name": "stdout",
     "output_type": "stream",
     "text": [
      "Training model for feature:                                                  \n",
      "logs                                                                         \n",
      "F1 score:                                                                    \n",
      "0.15194025626727173                                                          \n",
      " 30%|███       | 3/10 [05:45<09:51, 84.44s/it, best loss: 2.9591162662282158]"
     ]
    },
    {
     "name": "stderr",
     "output_type": "stream",
     "text": [
      "/home/ross/anaconda3/envs/core-dev/lib/python3.7/site-packages/sklearn/metrics/classification.py:1437: UndefinedMetricWarning: F-score is ill-defined and being set to 0.0 in labels with no predicted samples.\n",
      "  'precision', 'predicted', average, warn_for)\n",
      "\n"
     ]
    },
    {
     "name": "stdout",
     "output_type": "stream",
     "text": [
      "Training model for feature:                                                  \n",
      "logs                                                                         \n",
      "F1 score:                                                                    \n",
      "0.17087130748663593                                                          \n",
      " 30%|███       | 3/10 [06:08<09:51, 84.44s/it, best loss: 2.9591162662282158]"
     ]
    },
    {
     "name": "stderr",
     "output_type": "stream",
     "text": [
      "/home/ross/anaconda3/envs/core-dev/lib/python3.7/site-packages/sklearn/metrics/classification.py:1437: UndefinedMetricWarning: F-score is ill-defined and being set to 0.0 in labels with no predicted samples.\n",
      "  'precision', 'predicted', average, warn_for)\n",
      "\n"
     ]
    },
    {
     "name": "stdout",
     "output_type": "stream",
     "text": [
      "Training model for feature:                                                  \n",
      "logs                                                                         \n",
      "F1 score:                                                                    \n",
      "0.21825749354405755                                                          \n",
      "Training model for feature:                                                  \n",
      "logs                                                                         \n",
      "F1 score:                                                                    \n",
      "0.14765524223006057                                                          \n",
      "Training model for feature:                                                  \n",
      "logs                                                                         \n",
      "F1 score:                                                                    \n",
      "0.18896530188778762                                                          \n",
      "Training model for feature:                                                  \n",
      "logs                                                                         \n",
      "F1 score:                                                                    \n",
      "0.136007502980078                                                            \n",
      "Training model for feature:                                                  \n",
      "logs                                                                         \n",
      "F1 score:                                                                    \n",
      "0.17069969259274773                                                          \n",
      " 40%|████      | 4/10 [08:43<09:20, 93.43s/it, best loss: 2.9591162662282158]"
     ]
    },
    {
     "name": "stderr",
     "output_type": "stream",
     "text": [
      "/home/ross/anaconda3/envs/core-dev/lib/python3.7/site-packages/sklearn/metrics/classification.py:1437: UndefinedMetricWarning: F-score is ill-defined and being set to 0.0 in labels with no predicted samples.\n",
      "  'precision', 'predicted', average, warn_for)\n",
      "\n"
     ]
    },
    {
     "name": "stdout",
     "output_type": "stream",
     "text": [
      "Training model for feature:                                                   \n",
      "logs                                                                          \n",
      "F1 score:                                                                     \n",
      "0.20116202139886266                                                           \n",
      "Training model for feature:                                                   \n",
      "logs                                                                          \n",
      "F1 score:                                                                     \n",
      "0.12774382581336619                                                           \n",
      "Training model for feature:                                                   \n",
      "logs                                                                          \n",
      "F1 score:                                                                     \n",
      "0.1974398847590105                                                            \n",
      "Training model for feature:                                                   \n",
      "logs                                                                          \n",
      "F1 score:                                                                     \n",
      "0.14659129855541733                                                           \n",
      "                                                                              \r"
     ]
    },
    {
     "name": "stderr",
     "output_type": "stream",
     "text": [
      "/home/ross/anaconda3/envs/core-dev/lib/python3.7/site-packages/sklearn/metrics/classification.py:1437: UndefinedMetricWarning: F-score is ill-defined and being set to 0.0 in labels with no predicted samples.\n",
      "  'precision', 'predicted', average, warn_for)\n",
      "\n"
     ]
    },
    {
     "name": "stdout",
     "output_type": "stream",
     "text": [
      "Training model for feature: \n",
      "logs                                                                          \n",
      "F1 score:                                                                     \n",
      "0.13722497961296476                                                           \n",
      "Training model for feature:                                                   \n",
      "logs                                                                         \n",
      " 60%|██████    | 6/10 [08:56<05:24, 81.02s/it, best loss: 2.8112467773140657]"
     ]
    },
    {
     "name": "stderr",
     "output_type": "stream",
     "text": [
      "/home/ross/anaconda3/envs/core-dev/lib/python3.7/site-packages/sklearn/metrics/classification.py:1437: UndefinedMetricWarning: F-score is ill-defined and being set to 0.0 in labels with no predicted samples.\n",
      "  'precision', 'predicted', average, warn_for)\n",
      "\n"
     ]
    },
    {
     "name": "stdout",
     "output_type": "stream",
     "text": [
      "F1 score:                                                                    \n",
      "0.21175739089359977                                                          \n",
      "Training model for feature:                                                  \n",
      "logs                                                                         \n",
      "F1 score:                                                                    \n",
      "0.1356183196074868                                                           \n",
      "Training model for feature:                                                  \n",
      "logs                                                                         \n",
      "F1 score:                                                                    \n",
      "0.18822351007372026                                                          \n",
      "Training model for feature:                                                  \n",
      "logs                                                                         \n",
      "F1 score:                                                                    \n",
      "0.14261875506221056                                                          \n",
      "Training model for feature:                                                  \n",
      "logs                                                                         \n",
      "F1 score:                                                                    \n",
      "0.15962568035024363                                                          \n",
      " 60%|██████    | 6/10 [11:51<05:24, 81.02s/it, best loss: 2.8112467773140657]"
     ]
    },
    {
     "name": "stderr",
     "output_type": "stream",
     "text": [
      "/home/ross/anaconda3/envs/core-dev/lib/python3.7/site-packages/sklearn/metrics/classification.py:1437: UndefinedMetricWarning: F-score is ill-defined and being set to 0.0 in labels with no predicted samples.\n",
      "  'precision', 'predicted', average, warn_for)\n",
      "\n"
     ]
    },
    {
     "name": "stdout",
     "output_type": "stream",
     "text": [
      "Training model for feature:                                                   \n",
      "logs                                                                          \n",
      "F1 score:                                                                     \n",
      "0.21859612287732988                                                           \n",
      "Training model for feature:                                                   \n",
      "logs                                                                          \n",
      "F1 score:                                                                     \n",
      "0.12940975043225414                                                           \n",
      " 70%|███████   | 7/10 [12:36<05:33, 111.16s/it, best loss: 2.8112467773140657]"
     ]
    },
    {
     "name": "stderr",
     "output_type": "stream",
     "text": [
      "/home/ross/anaconda3/envs/core-dev/lib/python3.7/site-packages/sklearn/metrics/classification.py:1437: UndefinedMetricWarning: F-score is ill-defined and being set to 0.0 in labels with no predicted samples.\n",
      "  'precision', 'predicted', average, warn_for)\n",
      "\n"
     ]
    },
    {
     "name": "stdout",
     "output_type": "stream",
     "text": [
      "Training model for feature:                                                   \n",
      "logs                                                                          \n",
      "F1 score:                                                                     \n",
      "0.19300355288016932                                                           \n",
      "Training model for feature:                                                   \n",
      "logs                                                                          \n",
      "F1 score:                                                                     \n",
      "0.14396139830400997                                                           \n",
      "Training model for feature:                                                   \n",
      "logs                                                                          \n",
      "F1 score:                                                                     \n",
      "0.15100222433232785                                                           \n",
      " 70%|███████   | 7/10 [13:40<05:33, 111.16s/it, best loss: 2.8112467773140657]"
     ]
    },
    {
     "name": "stderr",
     "output_type": "stream",
     "text": [
      "/home/ross/anaconda3/envs/core-dev/lib/python3.7/site-packages/sklearn/metrics/classification.py:1437: UndefinedMetricWarning: F-score is ill-defined and being set to 0.0 in labels with no predicted samples.\n",
      "  'precision', 'predicted', average, warn_for)\n",
      "\n"
     ]
    },
    {
     "name": "stdout",
     "output_type": "stream",
     "text": [
      "Training model for feature:                                                   \n",
      "logs                                                                          \n",
      "F1 score:                                                                     \n",
      "0.19661834433555184                                                           \n",
      "Training model for feature:                                                   \n",
      "logs                                                                          \n",
      "F1 score:                                                                     \n",
      "0.15505210243732837                                                           \n",
      " 80%|████████  | 8/10 [14:12<03:38, 109.45s/it, best loss: 2.8112467773140657]"
     ]
    },
    {
     "name": "stderr",
     "output_type": "stream",
     "text": [
      "/home/ross/anaconda3/envs/core-dev/lib/python3.7/site-packages/sklearn/metrics/classification.py:1437: UndefinedMetricWarning: F-score is ill-defined and being set to 0.0 in labels with no predicted samples.\n",
      "  'precision', 'predicted', average, warn_for)\n",
      "\n"
     ]
    },
    {
     "name": "stdout",
     "output_type": "stream",
     "text": [
      "Training model for feature:                                                   \n",
      "logs                                                                          \n",
      "F1 score:                                                                     \n",
      "0.1865735675579903                                                            \n",
      " 80%|████████  | 8/10 [14:28<03:38, 109.45s/it, best loss: 2.8112467773140657]"
     ]
    },
    {
     "name": "stderr",
     "output_type": "stream",
     "text": [
      "/home/ross/anaconda3/envs/core-dev/lib/python3.7/site-packages/sklearn/metrics/classification.py:1437: UndefinedMetricWarning: F-score is ill-defined and being set to 0.0 in labels with no predicted samples.\n",
      "  'precision', 'predicted', average, warn_for)\n",
      "\n"
     ]
    },
    {
     "name": "stdout",
     "output_type": "stream",
     "text": [
      "Training model for feature:                                                   \n",
      "logs                                                                          \n",
      "F1 score:                                                                     \n",
      "0.14385922494188644                                                           \n",
      "Training model for feature:                                                   \n",
      "logs                                                                          \n",
      "F1 score:                                                                     \n",
      "0.1364767011151717                                                            \n",
      " 80%|████████  | 8/10 [15:00<03:38, 109.45s/it, best loss: 2.8112467773140657]"
     ]
    },
    {
     "name": "stderr",
     "output_type": "stream",
     "text": [
      "/home/ross/anaconda3/envs/core-dev/lib/python3.7/site-packages/sklearn/metrics/classification.py:1437: UndefinedMetricWarning: F-score is ill-defined and being set to 0.0 in labels with no predicted samples.\n",
      "  'precision', 'predicted', average, warn_for)\n",
      "\n"
     ]
    },
    {
     "name": "stdout",
     "output_type": "stream",
     "text": [
      "Training model for feature:                                                   \n",
      "logs                                                                          \n",
      "F1 score:                                                                     \n",
      "0.22712380563262316                                                           \n",
      "Training model for feature:                                                   \n",
      "logs                                                                          \n",
      "F1 score:                                                                     \n",
      "0.14658598039611564                                                           \n",
      "Training model for feature:                                                   \n",
      "logs                                                                          \n",
      "F1 score:                                                                     \n",
      "0.18286554502670135                                                           \n",
      "Training model for feature:                                                   \n",
      "logs                                                                          \n",
      "F1 score:                                                                     \n",
      "0.14457293352584977                                                           \n",
      "Training model for feature:                                                   \n",
      "logs                                                                          \n",
      "F1 score:                                                                     \n",
      "0.1763980989343326                                                            \n",
      " 90%|█████████ | 9/10 [18:06<01:40, 100.27s/it, best loss: 2.8112467773140657]"
     ]
    },
    {
     "name": "stderr",
     "output_type": "stream",
     "text": [
      "/home/ross/anaconda3/envs/core-dev/lib/python3.7/site-packages/sklearn/metrics/classification.py:1437: UndefinedMetricWarning: F-score is ill-defined and being set to 0.0 in labels with no predicted samples.\n",
      "  'precision', 'predicted', average, warn_for)\n",
      "\n"
     ]
    },
    {
     "name": "stdout",
     "output_type": "stream",
     "text": [
      "100%|██████████| 10/10 [18:13<00:00, 109.39s/it, best loss: 2.8112467773140657]\n",
      "\n",
      "\n",
      "\t Starting TRAIN_SET_9\n",
      "Loading Well:  204-19-3A  from  /home/ross/Dropbox/core_data/facies/train_data\n"
     ]
    },
    {
     "name": "stderr",
     "output_type": "stream",
     "text": [
      "Header section Parameter regexp=~P was not found.\n"
     ]
    },
    {
     "name": "stdout",
     "output_type": "stream",
     "text": [
      "Adding NaN log:  DTS\n",
      "Feature shapes:  [('depth', (9598,)), ('top', (9598,)), ('base', (9598,)), ('logs', (9598, 11))]\n",
      "Loading Well:  204-20-1  from  /home/ross/Dropbox/core_data/facies/train_data\n"
     ]
    },
    {
     "name": "stderr",
     "output_type": "stream",
     "text": [
      "Header section Parameter regexp=~P was not found.\n"
     ]
    },
    {
     "name": "stdout",
     "output_type": "stream",
     "text": [
      "Adding NaN log:  DTS1\n",
      "Adding NaN log:  DTS2\n",
      "Feature shapes:  [('depth', (11210,)), ('top', (11210,)), ('base', (11210,)), ('logs', (11210, 11))]\n",
      "Loading Well:  204-19-7  from  /home/ross/Dropbox/core_data/facies/train_data\n"
     ]
    },
    {
     "name": "stderr",
     "output_type": "stream",
     "text": [
      "Header section Parameter regexp=~P was not found.\n"
     ]
    },
    {
     "name": "stdout",
     "output_type": "stream",
     "text": [
      "Adding NaN log:  DTS\n",
      "Feature shapes:  [('depth', (9807,)), ('top', (9807,)), ('base', (9807,)), ('logs', (9807, 11))]\n",
      "Loading Well:  205-21b-3  from  /home/ross/Dropbox/core_data/facies/train_data\n"
     ]
    },
    {
     "name": "stderr",
     "output_type": "stream",
     "text": [
      "Header section Parameter regexp=~P was not found.\n"
     ]
    },
    {
     "name": "stdout",
     "output_type": "stream",
     "text": [
      "Adding NaN log:  SP\n",
      "Adding NaN log:  DTS\n",
      "Feature shapes:  [('depth', (3881,)), ('top', (3881,)), ('base', (3881,)), ('logs', (3881, 11))]\n",
      "Loading Well:  204-20-6a  from  /home/ross/Dropbox/core_data/facies/train_data\n"
     ]
    },
    {
     "name": "stderr",
     "output_type": "stream",
     "text": [
      "Header section Parameter regexp=~P was not found.\n"
     ]
    },
    {
     "name": "stdout",
     "output_type": "stream",
     "text": [
      "Adding NaN log:  SP\n",
      "Adding NaN log:  DTS1\n",
      "Adding NaN log:  DTS2\n",
      "Feature shapes:  [('depth', (3542,)), ('top', (3542,)), ('base', (3542,)), ('logs', (3542, 11))]\n",
      "Loading Well:  204-20a-7  from  /home/ross/Dropbox/core_data/facies/train_data\n"
     ]
    },
    {
     "name": "stderr",
     "output_type": "stream",
     "text": [
      "Header section Parameter regexp=~P was not found.\n"
     ]
    },
    {
     "name": "stdout",
     "output_type": "stream",
     "text": [
      "Adding NaN log:  DTS1\n",
      "Adding NaN log:  DTS2\n",
      "Feature shapes:  [('depth', (3105,)), ('top', (3105,)), ('base', (3105,)), ('logs', (3105, 11))]\n",
      "Loading Well:  204-20-2  from  /home/ross/Dropbox/core_data/facies/train_data\n"
     ]
    },
    {
     "name": "stderr",
     "output_type": "stream",
     "text": [
      "Header section Parameter regexp=~P was not found.\n"
     ]
    },
    {
     "name": "stdout",
     "output_type": "stream",
     "text": [
      "Feature shapes:  [('depth', (2940,)), ('top', (2940,)), ('base', (2940,)), ('logs', (2940, 11))]\n",
      "Loading Well:  204-19-6  from  /home/ross/Dropbox/core_data/facies/train_data\n"
     ]
    },
    {
     "name": "stderr",
     "output_type": "stream",
     "text": [
      "Header section Parameter regexp=~P was not found.\n"
     ]
    },
    {
     "name": "stdout",
     "output_type": "stream",
     "text": [
      "Adding NaN log:  DTS\n",
      "Feature shapes:  [('depth', (1981,)), ('top', (1981,)), ('base', (1981,)), ('logs', (1981, 11))]\n",
      "Loading Well:  204-20-1Z  from  /home/ross/Dropbox/core_data/facies/train_data\n"
     ]
    },
    {
     "name": "stderr",
     "output_type": "stream",
     "text": [
      "Header section Parameter regexp=~P was not found.\n"
     ]
    },
    {
     "name": "stdout",
     "output_type": "stream",
     "text": [
      "Adding NaN log:  SP\n",
      "Adding NaN log:  DTS1\n",
      "Adding NaN log:  DTS2\n",
      "Feature shapes:  [('depth', (1929,)), ('top', (1929,)), ('base', (1929,)), ('logs', (1929, 11))]\n",
      "Loading Well:  204-24a-6  from  /home/ross/Dropbox/core_data/facies/train_data\n"
     ]
    },
    {
     "name": "stderr",
     "output_type": "stream",
     "text": [
      "Header section Parameter regexp=~P was not found.\n"
     ]
    },
    {
     "name": "stdout",
     "output_type": "stream",
     "text": [
      "Adding NaN log:  SP\n",
      "Adding NaN log:  DTS1\n",
      "Adding NaN log:  DTS2\n",
      "Feature shapes:  [('depth', (13034,)), ('top', (13034,)), ('base', (13034,)), ('logs', (13034, 11))]\n",
      "Loading Well:  204-20-3  from  /home/ross/Dropbox/core_data/facies/train_data\n"
     ]
    },
    {
     "name": "stderr",
     "output_type": "stream",
     "text": [
      "Header section Parameter regexp=~P was not found.\n"
     ]
    },
    {
     "name": "stdout",
     "output_type": "stream",
     "text": [
      "Feature shapes:  [('depth', (10906,)), ('top', (10906,)), ('base', (10906,)), ('logs', (10906, 11))]\n",
      "Loading Well:  204-24a-7  from  /home/ross/Dropbox/core_data/facies/train_data\n"
     ]
    },
    {
     "name": "stderr",
     "output_type": "stream",
     "text": [
      "Header section Parameter regexp=~P was not found.\n"
     ]
    },
    {
     "name": "stdout",
     "output_type": "stream",
     "text": [
      "Adding NaN log:  SP\n",
      "Adding NaN log:  DTS\n",
      "Feature shapes:  [('depth', (19294,)), ('top', (19294,)), ('base', (19294,)), ('logs', (19294, 11))]\n",
      "Loading Well:  204-24a-7  from  /home/ross/Dropbox/core_data/facies/train_data\n"
     ]
    },
    {
     "name": "stderr",
     "output_type": "stream",
     "text": [
      "Header section Parameter regexp=~P was not found.\n"
     ]
    },
    {
     "name": "stdout",
     "output_type": "stream",
     "text": [
      "Adding NaN log:  SP\n",
      "Adding NaN log:  DTS\n",
      "Feature shapes:  [('depth', (19294,)), ('top', (19294,)), ('base', (19294,)), ('logs', (19294, 11))]\n",
      "Loading Well:  204-24a-6  from  /home/ross/Dropbox/core_data/facies/train_data\n"
     ]
    },
    {
     "name": "stderr",
     "output_type": "stream",
     "text": [
      "Header section Parameter regexp=~P was not found.\n"
     ]
    },
    {
     "name": "stdout",
     "output_type": "stream",
     "text": [
      "Adding NaN log:  SP\n",
      "Adding NaN log:  DTS1\n",
      "Adding NaN log:  DTS2\n",
      "Feature shapes:  [('depth', (13034,)), ('top', (13034,)), ('base', (13034,)), ('logs', (13034, 11))]\n",
      "Loading Well:  204-19-3A  from  /home/ross/Dropbox/core_data/facies/train_data\n"
     ]
    },
    {
     "name": "stderr",
     "output_type": "stream",
     "text": [
      "Header section Parameter regexp=~P was not found.\n"
     ]
    },
    {
     "name": "stdout",
     "output_type": "stream",
     "text": [
      "Adding NaN log:  DTS\n",
      "Feature shapes:  [('depth', (9598,)), ('top', (9598,)), ('base', (9598,)), ('logs', (9598, 11))]\n",
      "Loading Well:  204-19-7  from  /home/ross/Dropbox/core_data/facies/train_data\n"
     ]
    },
    {
     "name": "stderr",
     "output_type": "stream",
     "text": [
      "Header section Parameter regexp=~P was not found.\n"
     ]
    },
    {
     "name": "stdout",
     "output_type": "stream",
     "text": [
      "Adding NaN log:  DTS\n",
      "Feature shapes:  [('depth', (9807,)), ('top', (9807,)), ('base', (9807,)), ('logs', (9807, 11))]\n",
      "Loading Well:  205-21b-3  from  /home/ross/Dropbox/core_data/facies/train_data\n"
     ]
    },
    {
     "name": "stderr",
     "output_type": "stream",
     "text": [
      "Header section Parameter regexp=~P was not found.\n"
     ]
    },
    {
     "name": "stdout",
     "output_type": "stream",
     "text": [
      "Adding NaN log:  SP\n",
      "Adding NaN log:  DTS\n",
      "Feature shapes:  [('depth', (3881,)), ('top', (3881,)), ('base', (3881,)), ('logs', (3881, 11))]\n",
      "Loading Well:  204-20-6a  from  /home/ross/Dropbox/core_data/facies/train_data\n"
     ]
    },
    {
     "name": "stderr",
     "output_type": "stream",
     "text": [
      "Header section Parameter regexp=~P was not found.\n"
     ]
    },
    {
     "name": "stdout",
     "output_type": "stream",
     "text": [
      "Adding NaN log:  SP\n",
      "Adding NaN log:  DTS1\n",
      "Adding NaN log:  DTS2\n",
      "Feature shapes:  [('depth', (3542,)), ('top', (3542,)), ('base', (3542,)), ('logs', (3542, 11))]\n",
      "Loading Well:  204-20a-7  from  /home/ross/Dropbox/core_data/facies/train_data\n"
     ]
    },
    {
     "name": "stderr",
     "output_type": "stream",
     "text": [
      "Header section Parameter regexp=~P was not found.\n"
     ]
    },
    {
     "name": "stdout",
     "output_type": "stream",
     "text": [
      "Adding NaN log:  DTS1\n",
      "Adding NaN log:  DTS2\n",
      "Feature shapes:  [('depth', (3105,)), ('top', (3105,)), ('base', (3105,)), ('logs', (3105, 11))]\n",
      "Loading Well:  204-20-2  from  /home/ross/Dropbox/core_data/facies/train_data\n"
     ]
    },
    {
     "name": "stderr",
     "output_type": "stream",
     "text": [
      "Header section Parameter regexp=~P was not found.\n"
     ]
    },
    {
     "name": "stdout",
     "output_type": "stream",
     "text": [
      "Feature shapes:  [('depth', (2940,)), ('top', (2940,)), ('base', (2940,)), ('logs', (2940, 11))]\n",
      "Loading Well:  204-20-1Z  from  /home/ross/Dropbox/core_data/facies/train_data\n"
     ]
    },
    {
     "name": "stderr",
     "output_type": "stream",
     "text": [
      "Header section Parameter regexp=~P was not found.\n"
     ]
    },
    {
     "name": "stdout",
     "output_type": "stream",
     "text": [
      "Adding NaN log:  SP\n",
      "Adding NaN log:  DTS1\n",
      "Adding NaN log:  DTS2\n",
      "Feature shapes:  [('depth', (1929,)), ('top', (1929,)), ('base', (1929,)), ('logs', (1929, 11))]\n",
      "Loading Well:  204-19-6  from  /home/ross/Dropbox/core_data/facies/train_data\n"
     ]
    },
    {
     "name": "stderr",
     "output_type": "stream",
     "text": [
      "Header section Parameter regexp=~P was not found.\n"
     ]
    },
    {
     "name": "stdout",
     "output_type": "stream",
     "text": [
      "Adding NaN log:  DTS\n",
      "Feature shapes:  [('depth', (1981,)), ('top', (1981,)), ('base', (1981,)), ('logs', (1981, 11))]\n",
      "Loading Well:  204-20-3  from  /home/ross/Dropbox/core_data/facies/train_data\n"
     ]
    },
    {
     "name": "stderr",
     "output_type": "stream",
     "text": [
      "Header section Parameter regexp=~P was not found.\n"
     ]
    },
    {
     "name": "stdout",
     "output_type": "stream",
     "text": [
      "Feature shapes:  [('depth', (10906,)), ('top', (10906,)), ('base', (10906,)), ('logs', (10906, 11))]\n",
      "Loading Well:  204-20-1  from  /home/ross/Dropbox/core_data/facies/train_data\n"
     ]
    },
    {
     "name": "stderr",
     "output_type": "stream",
     "text": [
      "Header section Parameter regexp=~P was not found.\n"
     ]
    },
    {
     "name": "stdout",
     "output_type": "stream",
     "text": [
      "Adding NaN log:  DTS1\n",
      "Adding NaN log:  DTS2\n",
      "Feature shapes:  [('depth', (11210,)), ('top', (11210,)), ('base', (11210,)), ('logs', (11210, 11))]\n",
      "Loading Well:  204-24a-7  from  /home/ross/Dropbox/core_data/facies/train_data\n"
     ]
    },
    {
     "name": "stderr",
     "output_type": "stream",
     "text": [
      "Header section Parameter regexp=~P was not found.\n"
     ]
    },
    {
     "name": "stdout",
     "output_type": "stream",
     "text": [
      "Adding NaN log:  SP\n",
      "Adding NaN log:  DTS\n",
      "Feature shapes:  [('depth', (19294,)), ('top', (19294,)), ('base', (19294,)), ('logs', (19294, 11))]\n",
      "Loading Well:  204-24a-6  from  /home/ross/Dropbox/core_data/facies/train_data\n"
     ]
    },
    {
     "name": "stderr",
     "output_type": "stream",
     "text": [
      "Header section Parameter regexp=~P was not found.\n"
     ]
    },
    {
     "name": "stdout",
     "output_type": "stream",
     "text": [
      "Adding NaN log:  SP\n",
      "Adding NaN log:  DTS1\n",
      "Adding NaN log:  DTS2\n",
      "Feature shapes:  [('depth', (13034,)), ('top', (13034,)), ('base', (13034,)), ('logs', (13034, 11))]\n",
      "Loading Well:  204-20-3  from  /home/ross/Dropbox/core_data/facies/train_data\n"
     ]
    },
    {
     "name": "stderr",
     "output_type": "stream",
     "text": [
      "Header section Parameter regexp=~P was not found.\n"
     ]
    },
    {
     "name": "stdout",
     "output_type": "stream",
     "text": [
      "Feature shapes:  [('depth', (10906,)), ('top', (10906,)), ('base', (10906,)), ('logs', (10906, 11))]\n",
      "Loading Well:  204-20-1  from  /home/ross/Dropbox/core_data/facies/train_data\n"
     ]
    },
    {
     "name": "stderr",
     "output_type": "stream",
     "text": [
      "Header section Parameter regexp=~P was not found.\n"
     ]
    },
    {
     "name": "stdout",
     "output_type": "stream",
     "text": [
      "Adding NaN log:  DTS1\n",
      "Adding NaN log:  DTS2\n",
      "Feature shapes:  [('depth', (11210,)), ('top', (11210,)), ('base', (11210,)), ('logs', (11210, 11))]\n",
      "Loading Well:  204-20-6a  from  /home/ross/Dropbox/core_data/facies/train_data\n"
     ]
    },
    {
     "name": "stderr",
     "output_type": "stream",
     "text": [
      "Header section Parameter regexp=~P was not found.\n"
     ]
    },
    {
     "name": "stdout",
     "output_type": "stream",
     "text": [
      "Adding NaN log:  SP\n",
      "Adding NaN log:  DTS1\n",
      "Adding NaN log:  DTS2\n",
      "Feature shapes:  [('depth', (3542,)), ('top', (3542,)), ('base', (3542,)), ('logs', (3542, 11))]\n",
      "Loading Well:  204-20a-7  from  /home/ross/Dropbox/core_data/facies/train_data\n"
     ]
    },
    {
     "name": "stderr",
     "output_type": "stream",
     "text": [
      "Header section Parameter regexp=~P was not found.\n"
     ]
    },
    {
     "name": "stdout",
     "output_type": "stream",
     "text": [
      "Adding NaN log:  DTS1\n",
      "Adding NaN log:  DTS2\n",
      "Feature shapes:  [('depth', (3105,)), ('top', (3105,)), ('base', (3105,)), ('logs', (3105, 11))]\n",
      "Loading Well:  204-20-2  from  /home/ross/Dropbox/core_data/facies/train_data\n"
     ]
    },
    {
     "name": "stderr",
     "output_type": "stream",
     "text": [
      "Header section Parameter regexp=~P was not found.\n"
     ]
    },
    {
     "name": "stdout",
     "output_type": "stream",
     "text": [
      "Feature shapes:  [('depth', (2940,)), ('top', (2940,)), ('base', (2940,)), ('logs', (2940, 11))]\n",
      "Loading Well:  204-19-6  from  /home/ross/Dropbox/core_data/facies/train_data\n"
     ]
    },
    {
     "name": "stderr",
     "output_type": "stream",
     "text": [
      "Header section Parameter regexp=~P was not found.\n"
     ]
    },
    {
     "name": "stdout",
     "output_type": "stream",
     "text": [
      "Adding NaN log:  DTS\n",
      "Feature shapes:  [('depth', (1981,)), ('top', (1981,)), ('base', (1981,)), ('logs', (1981, 11))]\n",
      "Loading Well:  204-20-1Z  from  /home/ross/Dropbox/core_data/facies/train_data\n"
     ]
    },
    {
     "name": "stderr",
     "output_type": "stream",
     "text": [
      "Header section Parameter regexp=~P was not found.\n"
     ]
    },
    {
     "name": "stdout",
     "output_type": "stream",
     "text": [
      "Adding NaN log:  SP\n",
      "Adding NaN log:  DTS1\n",
      "Adding NaN log:  DTS2\n",
      "Feature shapes:  [('depth', (1929,)), ('top', (1929,)), ('base', (1929,)), ('logs', (1929, 11))]\n",
      "Loading Well:  204-19-3A  from  /home/ross/Dropbox/core_data/facies/train_data\n"
     ]
    },
    {
     "name": "stderr",
     "output_type": "stream",
     "text": [
      "Header section Parameter regexp=~P was not found.\n"
     ]
    },
    {
     "name": "stdout",
     "output_type": "stream",
     "text": [
      "Adding NaN log:  DTS\n",
      "Feature shapes:  [('depth', (9598,)), ('top', (9598,)), ('base', (9598,)), ('logs', (9598, 11))]\n",
      "Loading Well:  204-19-7  from  /home/ross/Dropbox/core_data/facies/train_data\n"
     ]
    },
    {
     "name": "stderr",
     "output_type": "stream",
     "text": [
      "Header section Parameter regexp=~P was not found.\n"
     ]
    },
    {
     "name": "stdout",
     "output_type": "stream",
     "text": [
      "Adding NaN log:  DTS\n",
      "Feature shapes:  [('depth', (9807,)), ('top', (9807,)), ('base', (9807,)), ('logs', (9807, 11))]\n",
      "Loading Well:  205-21b-3  from  /home/ross/Dropbox/core_data/facies/train_data\n"
     ]
    },
    {
     "name": "stderr",
     "output_type": "stream",
     "text": [
      "Header section Parameter regexp=~P was not found.\n"
     ]
    },
    {
     "name": "stdout",
     "output_type": "stream",
     "text": [
      "Adding NaN log:  SP\n",
      "Adding NaN log:  DTS\n",
      "Feature shapes:  [('depth', (3881,)), ('top', (3881,)), ('base', (3881,)), ('logs', (3881, 11))]\n",
      "Loading Well:  204-19-7  from  /home/ross/Dropbox/core_data/facies/train_data\n"
     ]
    },
    {
     "name": "stderr",
     "output_type": "stream",
     "text": [
      "Header section Parameter regexp=~P was not found.\n"
     ]
    },
    {
     "name": "stdout",
     "output_type": "stream",
     "text": [
      "Adding NaN log:  DTS\n",
      "Feature shapes:  [('depth', (9807,)), ('top', (9807,)), ('base', (9807,)), ('logs', (9807, 11))]\n",
      "Loading Well:  204-20-2  from  /home/ross/Dropbox/core_data/facies/train_data\n"
     ]
    },
    {
     "name": "stderr",
     "output_type": "stream",
     "text": [
      "Header section Parameter regexp=~P was not found.\n"
     ]
    },
    {
     "name": "stdout",
     "output_type": "stream",
     "text": [
      "Feature shapes:  [('depth', (2940,)), ('top', (2940,)), ('base', (2940,)), ('logs', (2940, 11))]\n",
      "Loading Well:  204-20a-7  from  /home/ross/Dropbox/core_data/facies/train_data\n"
     ]
    },
    {
     "name": "stderr",
     "output_type": "stream",
     "text": [
      "Header section Parameter regexp=~P was not found.\n"
     ]
    },
    {
     "name": "stdout",
     "output_type": "stream",
     "text": [
      "Adding NaN log:  DTS1\n",
      "Adding NaN log:  DTS2\n",
      "Feature shapes:  [('depth', (3105,)), ('top', (3105,)), ('base', (3105,)), ('logs', (3105, 11))]\n",
      "Loading Well:  205-21b-3  from  /home/ross/Dropbox/core_data/facies/train_data\n"
     ]
    },
    {
     "name": "stderr",
     "output_type": "stream",
     "text": [
      "Header section Parameter regexp=~P was not found.\n"
     ]
    },
    {
     "name": "stdout",
     "output_type": "stream",
     "text": [
      "Adding NaN log:  SP\n",
      "Adding NaN log:  DTS\n",
      "Feature shapes:  [('depth', (3881,)), ('top', (3881,)), ('base', (3881,)), ('logs', (3881, 11))]\n",
      "Loading Well:  204-20-1  from  /home/ross/Dropbox/core_data/facies/train_data\n"
     ]
    },
    {
     "name": "stderr",
     "output_type": "stream",
     "text": [
      "Header section Parameter regexp=~P was not found.\n"
     ]
    },
    {
     "name": "stdout",
     "output_type": "stream",
     "text": [
      "Adding NaN log:  DTS1\n",
      "Adding NaN log:  DTS2\n",
      "Feature shapes:  [('depth', (11210,)), ('top', (11210,)), ('base', (11210,)), ('logs', (11210, 11))]\n",
      "Loading Well:  204-19-3A  from  /home/ross/Dropbox/core_data/facies/train_data\n"
     ]
    },
    {
     "name": "stderr",
     "output_type": "stream",
     "text": [
      "Header section Parameter regexp=~P was not found.\n"
     ]
    },
    {
     "name": "stdout",
     "output_type": "stream",
     "text": [
      "Adding NaN log:  DTS\n",
      "Feature shapes:  [('depth', (9598,)), ('top', (9598,)), ('base', (9598,)), ('logs', (9598, 11))]\n",
      "Loading Well:  204-19-6  from  /home/ross/Dropbox/core_data/facies/train_data\n"
     ]
    },
    {
     "name": "stderr",
     "output_type": "stream",
     "text": [
      "Header section Parameter regexp=~P was not found.\n"
     ]
    },
    {
     "name": "stdout",
     "output_type": "stream",
     "text": [
      "Adding NaN log:  DTS\n",
      "Feature shapes:  [('depth', (1981,)), ('top', (1981,)), ('base', (1981,)), ('logs', (1981, 11))]\n",
      "Loading Well:  204-24a-7  from  /home/ross/Dropbox/core_data/facies/train_data\n"
     ]
    },
    {
     "name": "stderr",
     "output_type": "stream",
     "text": [
      "Header section Parameter regexp=~P was not found.\n"
     ]
    },
    {
     "name": "stdout",
     "output_type": "stream",
     "text": [
      "Adding NaN log:  SP\n",
      "Adding NaN log:  DTS\n",
      "Feature shapes:  [('depth', (19294,)), ('top', (19294,)), ('base', (19294,)), ('logs', (19294, 11))]\n",
      "Loading Well:  204-20-6a  from  /home/ross/Dropbox/core_data/facies/train_data\n"
     ]
    },
    {
     "name": "stderr",
     "output_type": "stream",
     "text": [
      "Header section Parameter regexp=~P was not found.\n"
     ]
    },
    {
     "name": "stdout",
     "output_type": "stream",
     "text": [
      "Adding NaN log:  SP\n",
      "Adding NaN log:  DTS1\n",
      "Adding NaN log:  DTS2\n",
      "Feature shapes:  [('depth', (3542,)), ('top', (3542,)), ('base', (3542,)), ('logs', (3542, 11))]\n",
      "Loading Well:  204-20-1Z  from  /home/ross/Dropbox/core_data/facies/train_data\n"
     ]
    },
    {
     "name": "stderr",
     "output_type": "stream",
     "text": [
      "Header section Parameter regexp=~P was not found.\n"
     ]
    },
    {
     "name": "stdout",
     "output_type": "stream",
     "text": [
      "Adding NaN log:  SP\n",
      "Adding NaN log:  DTS1\n",
      "Adding NaN log:  DTS2\n",
      "Feature shapes:  [('depth', (1929,)), ('top', (1929,)), ('base', (1929,)), ('logs', (1929, 11))]\n",
      "Loading Well:  204-24a-6  from  /home/ross/Dropbox/core_data/facies/train_data\n"
     ]
    },
    {
     "name": "stderr",
     "output_type": "stream",
     "text": [
      "Header section Parameter regexp=~P was not found.\n"
     ]
    },
    {
     "name": "stdout",
     "output_type": "stream",
     "text": [
      "Adding NaN log:  SP\n",
      "Adding NaN log:  DTS1\n",
      "Adding NaN log:  DTS2\n",
      "Feature shapes:  [('depth', (13034,)), ('top', (13034,)), ('base', (13034,)), ('logs', (13034, 11))]\n",
      "Loading Well:  204-20-3  from  /home/ross/Dropbox/core_data/facies/train_data\n"
     ]
    },
    {
     "name": "stderr",
     "output_type": "stream",
     "text": [
      "Header section Parameter regexp=~P was not found.\n"
     ]
    },
    {
     "name": "stdout",
     "output_type": "stream",
     "text": [
      "Feature shapes:  [('depth', (10906,)), ('top', (10906,)), ('base', (10906,)), ('logs', (10906, 11))]\n",
      "Loading Well:  204-24a-6  from  /home/ross/Dropbox/core_data/facies/train_data\n"
     ]
    },
    {
     "name": "stderr",
     "output_type": "stream",
     "text": [
      "Header section Parameter regexp=~P was not found.\n"
     ]
    },
    {
     "name": "stdout",
     "output_type": "stream",
     "text": [
      "Adding NaN log:  SP\n",
      "Adding NaN log:  DTS1\n",
      "Adding NaN log:  DTS2\n",
      "Feature shapes:  [('depth', (13034,)), ('top', (13034,)), ('base', (13034,)), ('logs', (13034, 11))]\n",
      "Loading Well:  204-20-6a  from  /home/ross/Dropbox/core_data/facies/train_data\n"
     ]
    },
    {
     "name": "stderr",
     "output_type": "stream",
     "text": [
      "Header section Parameter regexp=~P was not found.\n"
     ]
    },
    {
     "name": "stdout",
     "output_type": "stream",
     "text": [
      "Adding NaN log:  SP\n",
      "Adding NaN log:  DTS1\n",
      "Adding NaN log:  DTS2\n",
      "Feature shapes:  [('depth', (3542,)), ('top', (3542,)), ('base', (3542,)), ('logs', (3542, 11))]\n",
      "Loading Well:  204-20-3  from  /home/ross/Dropbox/core_data/facies/train_data\n"
     ]
    },
    {
     "name": "stderr",
     "output_type": "stream",
     "text": [
      "Header section Parameter regexp=~P was not found.\n"
     ]
    },
    {
     "name": "stdout",
     "output_type": "stream",
     "text": [
      "Feature shapes:  [('depth', (10906,)), ('top', (10906,)), ('base', (10906,)), ('logs', (10906, 11))]\n",
      "Loading Well:  204-19-6  from  /home/ross/Dropbox/core_data/facies/train_data\n"
     ]
    },
    {
     "name": "stderr",
     "output_type": "stream",
     "text": [
      "Header section Parameter regexp=~P was not found.\n"
     ]
    },
    {
     "name": "stdout",
     "output_type": "stream",
     "text": [
      "Adding NaN log:  DTS\n",
      "Feature shapes:  [('depth', (1981,)), ('top', (1981,)), ('base', (1981,)), ('logs', (1981, 11))]\n",
      "Loading Well:  204-20-2  from  /home/ross/Dropbox/core_data/facies/train_data\n"
     ]
    },
    {
     "name": "stderr",
     "output_type": "stream",
     "text": [
      "Header section Parameter regexp=~P was not found.\n"
     ]
    },
    {
     "name": "stdout",
     "output_type": "stream",
     "text": [
      "Feature shapes:  [('depth', (2940,)), ('top', (2940,)), ('base', (2940,)), ('logs', (2940, 11))]\n",
      "Loading Well:  204-19-7  from  /home/ross/Dropbox/core_data/facies/train_data\n"
     ]
    },
    {
     "name": "stderr",
     "output_type": "stream",
     "text": [
      "Header section Parameter regexp=~P was not found.\n"
     ]
    },
    {
     "name": "stdout",
     "output_type": "stream",
     "text": [
      "Adding NaN log:  DTS\n",
      "Feature shapes:  [('depth', (9807,)), ('top', (9807,)), ('base', (9807,)), ('logs', (9807, 11))]\n",
      "Loading Well:  204-24a-7  from  /home/ross/Dropbox/core_data/facies/train_data\n"
     ]
    },
    {
     "name": "stderr",
     "output_type": "stream",
     "text": [
      "Header section Parameter regexp=~P was not found.\n"
     ]
    },
    {
     "name": "stdout",
     "output_type": "stream",
     "text": [
      "Adding NaN log:  SP\n",
      "Adding NaN log:  DTS\n",
      "Feature shapes:  [('depth', (19294,)), ('top', (19294,)), ('base', (19294,)), ('logs', (19294, 11))]\n",
      "Loading Well:  204-20-1Z  from  /home/ross/Dropbox/core_data/facies/train_data\n"
     ]
    },
    {
     "name": "stderr",
     "output_type": "stream",
     "text": [
      "Header section Parameter regexp=~P was not found.\n"
     ]
    },
    {
     "name": "stdout",
     "output_type": "stream",
     "text": [
      "Adding NaN log:  SP\n",
      "Adding NaN log:  DTS1\n",
      "Adding NaN log:  DTS2\n",
      "Feature shapes:  [('depth', (1929,)), ('top', (1929,)), ('base', (1929,)), ('logs', (1929, 11))]\n",
      "Loading Well:  205-21b-3  from  /home/ross/Dropbox/core_data/facies/train_data\n"
     ]
    },
    {
     "name": "stderr",
     "output_type": "stream",
     "text": [
      "Header section Parameter regexp=~P was not found.\n"
     ]
    },
    {
     "name": "stdout",
     "output_type": "stream",
     "text": [
      "Adding NaN log:  SP\n",
      "Adding NaN log:  DTS\n",
      "Feature shapes:  [('depth', (3881,)), ('top', (3881,)), ('base', (3881,)), ('logs', (3881, 11))]\n",
      "Loading Well:  204-19-3A  from  /home/ross/Dropbox/core_data/facies/train_data\n"
     ]
    },
    {
     "name": "stderr",
     "output_type": "stream",
     "text": [
      "Header section Parameter regexp=~P was not found.\n"
     ]
    },
    {
     "name": "stdout",
     "output_type": "stream",
     "text": [
      "Adding NaN log:  DTS\n",
      "Feature shapes:  [('depth', (9598,)), ('top', (9598,)), ('base', (9598,)), ('logs', (9598, 11))]\n",
      "Loading Well:  204-20a-7  from  /home/ross/Dropbox/core_data/facies/train_data\n"
     ]
    },
    {
     "name": "stderr",
     "output_type": "stream",
     "text": [
      "Header section Parameter regexp=~P was not found.\n"
     ]
    },
    {
     "name": "stdout",
     "output_type": "stream",
     "text": [
      "Adding NaN log:  DTS1\n",
      "Adding NaN log:  DTS2\n",
      "Feature shapes:  [('depth', (3105,)), ('top', (3105,)), ('base', (3105,)), ('logs', (3105, 11))]\n",
      "Loading Well:  204-20-1  from  /home/ross/Dropbox/core_data/facies/train_data\n"
     ]
    },
    {
     "name": "stderr",
     "output_type": "stream",
     "text": [
      "Header section Parameter regexp=~P was not found.\n"
     ]
    },
    {
     "name": "stdout",
     "output_type": "stream",
     "text": [
      "Adding NaN log:  DTS1\n",
      "Adding NaN log:  DTS2\n",
      "Feature shapes:  [('depth', (11210,)), ('top', (11210,)), ('base', (11210,)), ('logs', (11210, 11))]\n",
      "Training model for feature:                         \n",
      "logs                                                \n",
      "F1 score:                                           \n",
      "0.22169761015000197                                 \n",
      "  0%|          | 0/10 [00:02<?, ?it/s, best loss: ?]"
     ]
    },
    {
     "name": "stderr",
     "output_type": "stream",
     "text": [
      "/home/ross/anaconda3/envs/core-dev/lib/python3.7/site-packages/sklearn/metrics/classification.py:1437: UndefinedMetricWarning: F-score is ill-defined and being set to 0.0 in labels with no predicted samples.\n",
      "  'precision', 'predicted', average, warn_for)\n",
      "\n"
     ]
    },
    {
     "name": "stdout",
     "output_type": "stream",
     "text": [
      "Training model for feature:                         \n",
      "logs                                                \n",
      "F1 score:                                           \n",
      "0.2256564947810911                                  \n",
      "Training model for feature:                         \n",
      "logs                                                \n",
      "  0%|          | 0/10 [00:04<?, ?it/s, best loss: ?]"
     ]
    },
    {
     "name": "stderr",
     "output_type": "stream",
     "text": [
      "/home/ross/anaconda3/envs/core-dev/lib/python3.7/site-packages/sklearn/metrics/classification.py:1437: UndefinedMetricWarning: F-score is ill-defined and being set to 0.0 in labels with no predicted samples.\n",
      "  'precision', 'predicted', average, warn_for)\n",
      "\n"
     ]
    },
    {
     "name": "stdout",
     "output_type": "stream",
     "text": [
      "F1 score:                                           \n",
      "0.21380054176023708                                 \n",
      "Training model for feature:                         \n",
      "logs                                                \n",
      "F1 score:                                           \n",
      "0.20110244227616283                                 \n",
      "Training model for feature:                         \n",
      "logs                                                \n",
      "F1 score:                                           \n",
      "0.17503081821275027                                 \n",
      "Training model for feature:                                                  \n",
      "logs                                                                         \n",
      " 10%|█         | 1/10 [00:11<01:41, 11.28s/it, best loss: 1.8094236429642616]"
     ]
    },
    {
     "name": "stderr",
     "output_type": "stream",
     "text": [
      "/home/ross/anaconda3/envs/core-dev/lib/python3.7/site-packages/sklearn/metrics/classification.py:1437: UndefinedMetricWarning: F-score is ill-defined and being set to 0.0 in labels with no predicted samples.\n",
      "  'precision', 'predicted', average, warn_for)\n",
      "\n"
     ]
    },
    {
     "name": "stdout",
     "output_type": "stream",
     "text": [
      "F1 score:                                                                    \n",
      "0.15393129533809                                                             \n",
      " 10%|█         | 1/10 [00:22<01:41, 11.28s/it, best loss: 1.8094236429642616]"
     ]
    },
    {
     "name": "stderr",
     "output_type": "stream",
     "text": [
      "/home/ross/anaconda3/envs/core-dev/lib/python3.7/site-packages/sklearn/metrics/classification.py:1437: UndefinedMetricWarning: F-score is ill-defined and being set to 0.0 in labels with no predicted samples.\n",
      "  'precision', 'predicted', average, warn_for)\n",
      "\n"
     ]
    },
    {
     "name": "stdout",
     "output_type": "stream",
     "text": [
      "Training model for feature:                                                  \n",
      "logs                                                                         \n",
      "F1 score:                                                                    \n",
      "0.1972073637721153                                                           \n",
      " 10%|█         | 1/10 [00:37<01:41, 11.28s/it, best loss: 1.8094236429642616]"
     ]
    },
    {
     "name": "stderr",
     "output_type": "stream",
     "text": [
      "/home/ross/anaconda3/envs/core-dev/lib/python3.7/site-packages/sklearn/metrics/classification.py:1437: UndefinedMetricWarning: F-score is ill-defined and being set to 0.0 in labels with no predicted samples.\n",
      "  'precision', 'predicted', average, warn_for)\n",
      "\n"
     ]
    },
    {
     "name": "stdout",
     "output_type": "stream",
     "text": [
      "Training model for feature:                                                  \n",
      "logs                                                                         \n",
      "F1 score:                                                                    \n",
      "0.23840315354738592                                                          \n",
      " 10%|█         | 1/10 [00:50<01:41, 11.28s/it, best loss: 1.8094236429642616]"
     ]
    },
    {
     "name": "stderr",
     "output_type": "stream",
     "text": [
      "/home/ross/anaconda3/envs/core-dev/lib/python3.7/site-packages/sklearn/metrics/classification.py:1437: UndefinedMetricWarning: F-score is ill-defined and being set to 0.0 in labels with no predicted samples.\n",
      "  'precision', 'predicted', average, warn_for)\n",
      "\n"
     ]
    },
    {
     "name": "stdout",
     "output_type": "stream",
     "text": [
      "Training model for feature:                                                  \n",
      "logs                                                                         \n",
      "F1 score:                                                                    \n",
      "0.21862663412594543                                                          \n",
      " 10%|█         | 1/10 [01:04<01:41, 11.28s/it, best loss: 1.8094236429642616]"
     ]
    },
    {
     "name": "stderr",
     "output_type": "stream",
     "text": [
      "/home/ross/anaconda3/envs/core-dev/lib/python3.7/site-packages/sklearn/metrics/classification.py:1437: UndefinedMetricWarning: F-score is ill-defined and being set to 0.0 in labels with no predicted samples.\n",
      "  'precision', 'predicted', average, warn_for)\n",
      "\n"
     ]
    },
    {
     "name": "stdout",
     "output_type": "stream",
     "text": [
      "Training model for feature:                                                  \n",
      "logs                                                                         \n",
      "F1 score:                                                                    \n",
      "0.1535828191234944                                                           \n",
      "Training model for feature:                                                  \n",
      "logs                                                                         \n",
      "F1 score:                                                                    \n",
      "0.18234758562006395                                                          \n",
      " 20%|██        | 2/10 [01:37<03:45, 28.24s/it, best loss: 1.8094236429642616]"
     ]
    },
    {
     "name": "stderr",
     "output_type": "stream",
     "text": [
      "/home/ross/anaconda3/envs/core-dev/lib/python3.7/site-packages/sklearn/metrics/classification.py:1437: UndefinedMetricWarning: F-score is ill-defined and being set to 0.0 in labels with no predicted samples.\n",
      "  'precision', 'predicted', average, warn_for)\n",
      "\n"
     ]
    },
    {
     "name": "stdout",
     "output_type": "stream",
     "text": [
      "Training model for feature:                                                  \n",
      "logs                                                                         \n",
      "F1 score:                                                                    \n",
      "0.17972877703468712                                                          \n",
      " 20%|██        | 2/10 [01:57<03:45, 28.24s/it, best loss: 1.8094236429642616]"
     ]
    },
    {
     "name": "stderr",
     "output_type": "stream",
     "text": [
      "/home/ross/anaconda3/envs/core-dev/lib/python3.7/site-packages/sklearn/metrics/classification.py:1437: UndefinedMetricWarning: F-score is ill-defined and being set to 0.0 in labels with no predicted samples.\n",
      "  'precision', 'predicted', average, warn_for)\n",
      "\n"
     ]
    },
    {
     "name": "stdout",
     "output_type": "stream",
     "text": [
      "Training model for feature:                                                  \n",
      "logs                                                                         \n",
      "F1 score:                                                                    \n",
      "0.24231789266483605                                                          \n",
      " 20%|██        | 2/10 [02:15<03:45, 28.24s/it, best loss: 1.8094236429642616]"
     ]
    },
    {
     "name": "stderr",
     "output_type": "stream",
     "text": [
      "/home/ross/anaconda3/envs/core-dev/lib/python3.7/site-packages/sklearn/metrics/classification.py:1437: UndefinedMetricWarning: F-score is ill-defined and being set to 0.0 in labels with no predicted samples.\n",
      "  'precision', 'predicted', average, warn_for)\n",
      "\n"
     ]
    },
    {
     "name": "stdout",
     "output_type": "stream",
     "text": [
      "Training model for feature:                                                  \n",
      "logs                                                                         \n",
      "F1 score:                                                                    \n",
      "0.2206656172602579                                                           \n",
      " 20%|██        | 2/10 [02:34<03:45, 28.24s/it, best loss: 1.8094236429642616]"
     ]
    },
    {
     "name": "stderr",
     "output_type": "stream",
     "text": [
      "/home/ross/anaconda3/envs/core-dev/lib/python3.7/site-packages/sklearn/metrics/classification.py:1437: UndefinedMetricWarning: F-score is ill-defined and being set to 0.0 in labels with no predicted samples.\n",
      "  'precision', 'predicted', average, warn_for)\n",
      "\n"
     ]
    },
    {
     "name": "stdout",
     "output_type": "stream",
     "text": [
      "Training model for feature:                                                  \n",
      "logs                                                                         \n",
      "F1 score:                                                                    \n",
      "0.15707091242007162                                                          \n",
      "Training model for feature:                                                  \n",
      "logs                                                                         \n",
      "F1 score:                                                                    \n",
      "0.17663595479353913                                                          \n",
      " 30%|███       | 3/10 [03:07<05:38, 48.43s/it, best loss: 1.8094236429642616]"
     ]
    },
    {
     "name": "stderr",
     "output_type": "stream",
     "text": [
      "/home/ross/anaconda3/envs/core-dev/lib/python3.7/site-packages/sklearn/metrics/classification.py:1437: UndefinedMetricWarning: F-score is ill-defined and being set to 0.0 in labels with no predicted samples.\n",
      "  'precision', 'predicted', average, warn_for)\n",
      "\n"
     ]
    },
    {
     "name": "stdout",
     "output_type": "stream",
     "text": [
      "Training model for feature:                                                  \n",
      "logs                                                                         \n",
      "F1 score:                                                                    \n",
      "0.19816515975566498                                                          \n",
      " 30%|███       | 3/10 [03:20<05:38, 48.43s/it, best loss: 1.8094236429642616]"
     ]
    },
    {
     "name": "stderr",
     "output_type": "stream",
     "text": [
      "/home/ross/anaconda3/envs/core-dev/lib/python3.7/site-packages/sklearn/metrics/classification.py:1437: UndefinedMetricWarning: F-score is ill-defined and being set to 0.0 in labels with no predicted samples.\n",
      "  'precision', 'predicted', average, warn_for)\n",
      "\n"
     ]
    },
    {
     "name": "stdout",
     "output_type": "stream",
     "text": [
      "Training model for feature:                                                  \n",
      "logs                                                                         \n",
      "F1 score:                                                                    \n",
      "0.23770643127140378                                                          \n",
      " 30%|███       | 3/10 [03:32<05:38, 48.43s/it, best loss: 1.8094236429642616]"
     ]
    },
    {
     "name": "stderr",
     "output_type": "stream",
     "text": [
      "/home/ross/anaconda3/envs/core-dev/lib/python3.7/site-packages/sklearn/metrics/classification.py:1437: UndefinedMetricWarning: F-score is ill-defined and being set to 0.0 in labels with no predicted samples.\n",
      "  'precision', 'predicted', average, warn_for)\n",
      "\n"
     ]
    },
    {
     "name": "stdout",
     "output_type": "stream",
     "text": [
      "Training model for feature:                                                  \n",
      "logs                                                                         \n",
      "F1 score:                                                                    \n",
      "0.2537806292809998                                                           \n",
      " 30%|███       | 3/10 [03:45<05:38, 48.43s/it, best loss: 1.8094236429642616]"
     ]
    },
    {
     "name": "stderr",
     "output_type": "stream",
     "text": [
      "/home/ross/anaconda3/envs/core-dev/lib/python3.7/site-packages/sklearn/metrics/classification.py:1437: UndefinedMetricWarning: F-score is ill-defined and being set to 0.0 in labels with no predicted samples.\n",
      "  'precision', 'predicted', average, warn_for)\n",
      "\n"
     ]
    },
    {
     "name": "stdout",
     "output_type": "stream",
     "text": [
      "Training model for feature:                                                  \n",
      "logs                                                                         \n",
      "F1 score:                                                                    \n",
      "0.14157573505712603                                                          \n",
      "Training model for feature:                                                  \n",
      "logs                                                                         \n",
      "F1 score:                                                                    \n",
      "0.19036847600649162                                                          \n",
      " 40%|████      | 4/10 [04:04<05:19, 53.30s/it, best loss: 1.8094236429642616]"
     ]
    },
    {
     "name": "stderr",
     "output_type": "stream",
     "text": [
      "/home/ross/anaconda3/envs/core-dev/lib/python3.7/site-packages/sklearn/metrics/classification.py:1437: UndefinedMetricWarning: F-score is ill-defined and being set to 0.0 in labels with no predicted samples.\n",
      "  'precision', 'predicted', average, warn_for)\n",
      "\n"
     ]
    },
    {
     "name": "stdout",
     "output_type": "stream",
     "text": [
      "Training model for feature:                                                  \n",
      "logs                                                                         \n",
      "F1 score:                                                                    \n",
      "0.23182353359435995                                                          \n",
      " 40%|████      | 4/10 [04:10<05:19, 53.30s/it, best loss: 1.8094236429642616]"
     ]
    },
    {
     "name": "stderr",
     "output_type": "stream",
     "text": [
      "/home/ross/anaconda3/envs/core-dev/lib/python3.7/site-packages/sklearn/metrics/classification.py:1437: UndefinedMetricWarning: F-score is ill-defined and being set to 0.0 in labels with no predicted samples.\n",
      "  'precision', 'predicted', average, warn_for)\n",
      "\n"
     ]
    },
    {
     "name": "stdout",
     "output_type": "stream",
     "text": [
      "Training model for feature:                                                  \n",
      "logs                                                                         \n",
      "F1 score:                                                                    \n",
      "0.22229780069697883                                                          \n",
      " 40%|████      | 4/10 [04:16<05:19, 53.30s/it, best loss: 1.8094236429642616]"
     ]
    },
    {
     "name": "stderr",
     "output_type": "stream",
     "text": [
      "/home/ross/anaconda3/envs/core-dev/lib/python3.7/site-packages/sklearn/metrics/classification.py:1437: UndefinedMetricWarning: F-score is ill-defined and being set to 0.0 in labels with no predicted samples.\n",
      "  'precision', 'predicted', average, warn_for)\n",
      "\n"
     ]
    },
    {
     "name": "stdout",
     "output_type": "stream",
     "text": [
      "Training model for feature:                                                  \n",
      "logs                                                                         \n",
      "F1 score:                                                                    \n",
      "0.22396706748236275                                                          \n",
      " 40%|████      | 4/10 [04:21<05:19, 53.30s/it, best loss: 1.8094236429642616]"
     ]
    },
    {
     "name": "stderr",
     "output_type": "stream",
     "text": [
      "/home/ross/anaconda3/envs/core-dev/lib/python3.7/site-packages/sklearn/metrics/classification.py:1437: UndefinedMetricWarning: F-score is ill-defined and being set to 0.0 in labels with no predicted samples.\n",
      "  'precision', 'predicted', average, warn_for)\n",
      "\n"
     ]
    },
    {
     "name": "stdout",
     "output_type": "stream",
     "text": [
      "Training model for feature:                                                  \n",
      "logs                                                                         \n",
      "F1 score:                                                                    \n",
      "0.17838259389368386                                                          \n",
      " 40%|████      | 4/10 [04:27<05:19, 53.30s/it, best loss: 1.8094236429642616]"
     ]
    },
    {
     "name": "stderr",
     "output_type": "stream",
     "text": [
      "/home/ross/anaconda3/envs/core-dev/lib/python3.7/site-packages/sklearn/metrics/classification.py:1437: UndefinedMetricWarning: F-score is ill-defined and being set to 0.0 in labels with no predicted samples.\n",
      "  'precision', 'predicted', average, warn_for)\n",
      "\n"
     ]
    },
    {
     "name": "stdout",
     "output_type": "stream",
     "text": [
      "Training model for feature:                                                  \n",
      "logs                                                                         \n",
      "F1 score:                                                                    \n",
      "0.21533936726445124                                                          \n",
      " 50%|█████     | 5/10 [04:38<03:49, 45.90s/it, best loss: 1.8094236429642616]"
     ]
    },
    {
     "name": "stderr",
     "output_type": "stream",
     "text": [
      "/home/ross/anaconda3/envs/core-dev/lib/python3.7/site-packages/sklearn/metrics/classification.py:1437: UndefinedMetricWarning: F-score is ill-defined and being set to 0.0 in labels with no predicted samples.\n",
      "  'precision', 'predicted', average, warn_for)\n",
      "\n"
     ]
    },
    {
     "name": "stdout",
     "output_type": "stream",
     "text": [
      "Training model for feature:                                                  \n",
      "logs                                                                         \n",
      "F1 score:                                                                    \n",
      "0.2285505858910836                                                           \n",
      " 50%|█████     | 5/10 [04:48<03:49, 45.90s/it, best loss: 1.8094236429642616]"
     ]
    },
    {
     "name": "stderr",
     "output_type": "stream",
     "text": [
      "/home/ross/anaconda3/envs/core-dev/lib/python3.7/site-packages/sklearn/metrics/classification.py:1437: UndefinedMetricWarning: F-score is ill-defined and being set to 0.0 in labels with no predicted samples.\n",
      "  'precision', 'predicted', average, warn_for)\n",
      "\n"
     ]
    },
    {
     "name": "stdout",
     "output_type": "stream",
     "text": [
      "Training model for feature:                                                  \n",
      "logs                                                                         \n",
      "F1 score:                                                                    \n",
      "0.2226722846305913                                                           \n",
      " 50%|█████     | 5/10 [04:58<03:49, 45.90s/it, best loss: 1.8094236429642616]"
     ]
    },
    {
     "name": "stderr",
     "output_type": "stream",
     "text": [
      "/home/ross/anaconda3/envs/core-dev/lib/python3.7/site-packages/sklearn/metrics/classification.py:1437: UndefinedMetricWarning: F-score is ill-defined and being set to 0.0 in labels with no predicted samples.\n",
      "  'precision', 'predicted', average, warn_for)\n",
      "\n"
     ]
    },
    {
     "name": "stdout",
     "output_type": "stream",
     "text": [
      "Training model for feature:                                                  \n",
      "logs                                                                         \n",
      "F1 score:                                                                    \n",
      "0.2148198351775569                                                           \n",
      " 50%|█████     | 5/10 [05:08<03:49, 45.90s/it, best loss: 1.8094236429642616]"
     ]
    },
    {
     "name": "stderr",
     "output_type": "stream",
     "text": [
      "/home/ross/anaconda3/envs/core-dev/lib/python3.7/site-packages/sklearn/metrics/classification.py:1437: UndefinedMetricWarning: F-score is ill-defined and being set to 0.0 in labels with no predicted samples.\n",
      "  'precision', 'predicted', average, warn_for)\n",
      "\n"
     ]
    },
    {
     "name": "stdout",
     "output_type": "stream",
     "text": [
      "Training model for feature:                                                  \n",
      "logs                                                                         \n",
      "F1 score:                                                                    \n",
      "0.2002540542635356                                                           \n",
      " 50%|█████     | 5/10 [05:18<03:49, 45.90s/it, best loss: 1.8094236429642616]"
     ]
    },
    {
     "name": "stderr",
     "output_type": "stream",
     "text": [
      "/home/ross/anaconda3/envs/core-dev/lib/python3.7/site-packages/sklearn/metrics/classification.py:1437: UndefinedMetricWarning: F-score is ill-defined and being set to 0.0 in labels with no predicted samples.\n",
      "  'precision', 'predicted', average, warn_for)\n",
      "\n"
     ]
    },
    {
     "name": "stdout",
     "output_type": "stream",
     "text": [
      "Training model for feature:                                                  \n",
      "logs                                                                         \n",
      "F1 score:                                                                    \n",
      "0.1655750461564824                                                           \n",
      " 60%|██████    | 6/10 [06:07<03:10, 47.69s/it, best loss: 1.8094236429642616]"
     ]
    },
    {
     "name": "stderr",
     "output_type": "stream",
     "text": [
      "/home/ross/anaconda3/envs/core-dev/lib/python3.7/site-packages/sklearn/metrics/classification.py:1437: UndefinedMetricWarning: F-score is ill-defined and being set to 0.0 in labels with no predicted samples.\n",
      "  'precision', 'predicted', average, warn_for)\n",
      "\n"
     ]
    },
    {
     "name": "stdout",
     "output_type": "stream",
     "text": [
      "Training model for feature:                                                  \n",
      "logs                                                                         \n",
      "F1 score:                                                                    \n",
      "0.19165054795483485                                                          \n",
      " 60%|██████    | 6/10 [07:01<03:10, 47.69s/it, best loss: 1.8094236429642616]"
     ]
    },
    {
     "name": "stderr",
     "output_type": "stream",
     "text": [
      "/home/ross/anaconda3/envs/core-dev/lib/python3.7/site-packages/sklearn/metrics/classification.py:1437: UndefinedMetricWarning: F-score is ill-defined and being set to 0.0 in labels with no predicted samples.\n",
      "  'precision', 'predicted', average, warn_for)\n",
      "\n"
     ]
    },
    {
     "name": "stdout",
     "output_type": "stream",
     "text": [
      "Training model for feature:                                                  \n",
      "logs                                                                         \n",
      "F1 score:                                                                    \n",
      "0.24658339027707632                                                          \n",
      " 60%|██████    | 6/10 [07:50<03:10, 47.69s/it, best loss: 1.8094236429642616]"
     ]
    },
    {
     "name": "stderr",
     "output_type": "stream",
     "text": [
      "/home/ross/anaconda3/envs/core-dev/lib/python3.7/site-packages/sklearn/metrics/classification.py:1437: UndefinedMetricWarning: F-score is ill-defined and being set to 0.0 in labels with no predicted samples.\n",
      "  'precision', 'predicted', average, warn_for)\n",
      "\n"
     ]
    },
    {
     "name": "stdout",
     "output_type": "stream",
     "text": [
      "Training model for feature:                                                  \n",
      "logs                                                                         \n",
      "F1 score:                                                                    \n",
      "0.2108475785139368                                                           \n",
      " 60%|██████    | 6/10 [08:40<03:10, 47.69s/it, best loss: 1.8094236429642616]"
     ]
    },
    {
     "name": "stderr",
     "output_type": "stream",
     "text": [
      "/home/ross/anaconda3/envs/core-dev/lib/python3.7/site-packages/sklearn/metrics/classification.py:1437: UndefinedMetricWarning: F-score is ill-defined and being set to 0.0 in labels with no predicted samples.\n",
      "  'precision', 'predicted', average, warn_for)\n",
      "\n"
     ]
    },
    {
     "name": "stdout",
     "output_type": "stream",
     "text": [
      "Training model for feature:                                                  \n",
      "logs                                                                         \n",
      "F1 score:                                                                    \n",
      "0.13108859190959965                                                          \n",
      " 60%|██████    | 6/10 [09:31<03:10, 47.69s/it, best loss: 1.8094236429642616]"
     ]
    },
    {
     "name": "stderr",
     "output_type": "stream",
     "text": [
      "/home/ross/anaconda3/envs/core-dev/lib/python3.7/site-packages/sklearn/metrics/classification.py:1437: UndefinedMetricWarning: F-score is ill-defined and being set to 0.0 in labels with no predicted samples.\n",
      "  'precision', 'predicted', average, warn_for)\n",
      "\n"
     ]
    },
    {
     "name": "stdout",
     "output_type": "stream",
     "text": [
      "Training model for feature:                                                   \n",
      "logs                                                                          \n",
      "F1 score:                                                                     \n",
      "0.17054003804446385                                                           \n",
      "Training model for feature:                                                   \n",
      "logs                                                                          \n",
      "F1 score:                                                                     \n",
      "0.18991524811794017                                                           \n",
      " 70%|███████   | 7/10 [10:47<05:31, 110.66s/it, best loss: 1.8094236429642616]"
     ]
    },
    {
     "name": "stderr",
     "output_type": "stream",
     "text": [
      "/home/ross/anaconda3/envs/core-dev/lib/python3.7/site-packages/sklearn/metrics/classification.py:1437: UndefinedMetricWarning: F-score is ill-defined and being set to 0.0 in labels with no predicted samples.\n",
      "  'precision', 'predicted', average, warn_for)\n",
      "\n"
     ]
    },
    {
     "name": "stdout",
     "output_type": "stream",
     "text": [
      "Training model for feature:                                                   \n",
      "logs                                                                          \n",
      "F1 score:                                                                     \n",
      "0.22823599364061897                                                           \n",
      "Training model for feature:                                                   \n",
      "logs                                                                          \n",
      "F1 score:                                                                     \n",
      "0.21198836173702892                                                           \n",
      " 70%|███████   | 7/10 [11:52<05:31, 110.66s/it, best loss: 1.8094236429642616]"
     ]
    },
    {
     "name": "stderr",
     "output_type": "stream",
     "text": [
      "/home/ross/anaconda3/envs/core-dev/lib/python3.7/site-packages/sklearn/metrics/classification.py:1437: UndefinedMetricWarning: F-score is ill-defined and being set to 0.0 in labels with no predicted samples.\n",
      "  'precision', 'predicted', average, warn_for)\n",
      "\n"
     ]
    },
    {
     "name": "stdout",
     "output_type": "stream",
     "text": [
      "Training model for feature:                                                   \n",
      "logs                                                                          \n",
      "F1 score:                                                                     \n",
      "0.15180043133719515                                                           \n",
      "Training model for feature:                                                   \n",
      "logs                                                                          \n",
      "F1 score:                                                                     \n",
      "0.24482341162778762                                                           \n",
      " 80%|████████  | 8/10 [12:54<04:19, 129.59s/it, best loss: 1.8094236429642616]"
     ]
    },
    {
     "name": "stderr",
     "output_type": "stream",
     "text": [
      "/home/ross/anaconda3/envs/core-dev/lib/python3.7/site-packages/sklearn/metrics/classification.py:1437: UndefinedMetricWarning: F-score is ill-defined and being set to 0.0 in labels with no predicted samples.\n",
      "  'precision', 'predicted', average, warn_for)\n",
      "\n"
     ]
    },
    {
     "name": "stdout",
     "output_type": "stream",
     "text": [
      "Training model for feature:                                                   \n",
      "logs                                                                          \n",
      "F1 score:                                                                     \n",
      "0.2123354528096002                                                            \n",
      " 80%|████████  | 8/10 [13:19<04:19, 129.59s/it, best loss: 1.8094236429642616]"
     ]
    },
    {
     "name": "stderr",
     "output_type": "stream",
     "text": [
      "/home/ross/anaconda3/envs/core-dev/lib/python3.7/site-packages/sklearn/metrics/classification.py:1437: UndefinedMetricWarning: F-score is ill-defined and being set to 0.0 in labels with no predicted samples.\n",
      "  'precision', 'predicted', average, warn_for)\n",
      "\n"
     ]
    },
    {
     "name": "stdout",
     "output_type": "stream",
     "text": [
      "Training model for feature:                                                   \n",
      "logs                                                                          \n",
      "F1 score:                                                                     \n",
      "0.2347523915739027                                                            \n",
      " 80%|████████  | 8/10 [13:41<04:19, 129.59s/it, best loss: 1.8094236429642616]"
     ]
    },
    {
     "name": "stderr",
     "output_type": "stream",
     "text": [
      "/home/ross/anaconda3/envs/core-dev/lib/python3.7/site-packages/sklearn/metrics/classification.py:1437: UndefinedMetricWarning: F-score is ill-defined and being set to 0.0 in labels with no predicted samples.\n",
      "  'precision', 'predicted', average, warn_for)\n",
      "\n"
     ]
    },
    {
     "name": "stdout",
     "output_type": "stream",
     "text": [
      "Training model for feature:                                                   \n",
      "logs                                                                          \n",
      "F1 score:                                                                     \n",
      "0.1795028810244792                                                            \n",
      " 80%|████████  | 8/10 [14:04<04:19, 129.59s/it, best loss: 1.8094236429642616]"
     ]
    },
    {
     "name": "stderr",
     "output_type": "stream",
     "text": [
      "/home/ross/anaconda3/envs/core-dev/lib/python3.7/site-packages/sklearn/metrics/classification.py:1437: UndefinedMetricWarning: F-score is ill-defined and being set to 0.0 in labels with no predicted samples.\n",
      "  'precision', 'predicted', average, warn_for)\n",
      "\n"
     ]
    },
    {
     "name": "stdout",
     "output_type": "stream",
     "text": [
      "Training model for feature:                                                   \n",
      "logs                                                                          \n",
      "F1 score:                                                                     \n",
      "0.1461979154822075                                                            \n",
      " 80%|████████  | 8/10 [14:27<04:19, 129.59s/it, best loss: 1.8094236429642616]"
     ]
    },
    {
     "name": "stderr",
     "output_type": "stream",
     "text": [
      "/home/ross/anaconda3/envs/core-dev/lib/python3.7/site-packages/sklearn/metrics/classification.py:1437: UndefinedMetricWarning: F-score is ill-defined and being set to 0.0 in labels with no predicted samples.\n",
      "  'precision', 'predicted', average, warn_for)\n",
      "\n"
     ]
    },
    {
     "name": "stdout",
     "output_type": "stream",
     "text": [
      "Training model for feature:                                                   \n",
      "logs                                                                          \n",
      "F1 score:                                                                     \n",
      "0.1700632173594936                                                            \n",
      " 90%|█████████ | 9/10 [14:49<02:06, 126.43s/it, best loss: 1.8094236429642616]"
     ]
    },
    {
     "name": "stderr",
     "output_type": "stream",
     "text": [
      "/home/ross/anaconda3/envs/core-dev/lib/python3.7/site-packages/sklearn/metrics/classification.py:1437: UndefinedMetricWarning: F-score is ill-defined and being set to 0.0 in labels with no predicted samples.\n",
      "  'precision', 'predicted', average, warn_for)\n",
      "\n"
     ]
    },
    {
     "name": "stdout",
     "output_type": "stream",
     "text": [
      "Training model for feature:                                                   \n",
      "logs                                                                          \n",
      "F1 score:                                                                     \n",
      "0.19328345024776383                                                           \n",
      " 90%|█████████ | 9/10 [15:13<02:06, 126.43s/it, best loss: 1.8094236429642616]"
     ]
    },
    {
     "name": "stderr",
     "output_type": "stream",
     "text": [
      "/home/ross/anaconda3/envs/core-dev/lib/python3.7/site-packages/sklearn/metrics/classification.py:1437: UndefinedMetricWarning: F-score is ill-defined and being set to 0.0 in labels with no predicted samples.\n",
      "  'precision', 'predicted', average, warn_for)\n",
      "\n"
     ]
    },
    {
     "name": "stdout",
     "output_type": "stream",
     "text": [
      "Training model for feature:                                                   \n",
      "logs                                                                          \n",
      "F1 score:                                                                     \n",
      "0.2441932506912401                                                            \n",
      "Training model for feature:                                                   \n",
      "logs                                                                          \n",
      "F1 score:                                                                     \n",
      "0.22658335435945462                                                           \n",
      " 90%|█████████ | 9/10 [15:56<02:06, 126.43s/it, best loss: 1.8094236429642616]"
     ]
    },
    {
     "name": "stderr",
     "output_type": "stream",
     "text": [
      "/home/ross/anaconda3/envs/core-dev/lib/python3.7/site-packages/sklearn/metrics/classification.py:1437: UndefinedMetricWarning: F-score is ill-defined and being set to 0.0 in labels with no predicted samples.\n",
      "  'precision', 'predicted', average, warn_for)\n",
      "\n"
     ]
    },
    {
     "name": "stdout",
     "output_type": "stream",
     "text": [
      "Training model for feature:                                                   \n",
      "logs                                                                          \n",
      "F1 score:                                                                     \n",
      "0.1364135331276292                                                            \n",
      " 90%|█████████ | 9/10 [16:18<02:06, 126.43s/it, best loss: 1.8094236429642616]"
     ]
    },
    {
     "name": "stderr",
     "output_type": "stream",
     "text": [
      "/home/ross/anaconda3/envs/core-dev/lib/python3.7/site-packages/sklearn/metrics/classification.py:1437: UndefinedMetricWarning: F-score is ill-defined and being set to 0.0 in labels with no predicted samples.\n",
      "  'precision', 'predicted', average, warn_for)\n",
      "\n"
     ]
    },
    {
     "name": "stdout",
     "output_type": "stream",
     "text": [
      "100%|██████████| 10/10 [16:21<00:00, 98.12s/it, best loss: 1.8094236429642616] \n"
     ]
    }
   ],
   "source": [
    "best_params_3 = run_experiment(3)\n",
    "\n",
    "print('\\n\\n\\t Starting TRAIN_SET_6')\n",
    "best_params_6 = run_experiment(6)\n",
    "\n",
    "print('\\n\\n\\t Starting TRAIN_SET_9')\n",
    "best_params_9 = run_experiment(9)"
   ]
  },
  {
   "cell_type": "code",
   "execution_count": 9,
   "metadata": {},
   "outputs": [
    {
     "data": {
      "text/plain": [
       "{'colsample_bytree': 0.30979354617965793,\n",
       " 'gamma': 0.4922115536384819,\n",
       " 'learning_rate': 0.024466131395594698,\n",
       " 'max_depth': 9.0,\n",
       " 'n_estimators': 180.0,\n",
       " 'reg_lambda': 2.4542249504639906,\n",
       " 'subsample': 0.8136015679487056}"
      ]
     },
     "execution_count": 9,
     "metadata": {},
     "output_type": "execute_result"
    }
   ],
   "source": [
    "best_params_3"
   ]
  },
  {
   "cell_type": "code",
   "execution_count": 5,
   "metadata": {},
   "outputs": [],
   "source": [
    "best_params_3 = {'colsample_bytree': 0.715782636188357,\n",
    " 'gamma': 0.38031439765997715,\n",
    " 'learning_rate': 0.13285585695446292,\n",
    " 'max_depth': 3.0,\n",
    " 'n_estimators': 107.0,\n",
    " 'reg_lambda': 7.063383010063417,\n",
    " 'subsample': 0.5627460184070672}"
   ]
  },
  {
   "cell_type": "code",
   "execution_count": 10,
   "metadata": {},
   "outputs": [
    {
     "data": {
      "text/plain": [
       "{'colsample_bytree': 0.7714484413087108,\n",
       " 'gamma': 0.13548335445702325,\n",
       " 'learning_rate': 0.1880310114631697,\n",
       " 'max_depth': 6.0,\n",
       " 'n_estimators': 46.0,\n",
       " 'reg_lambda': 3.625457697235419,\n",
       " 'subsample': 0.8642175660983926}"
      ]
     },
     "execution_count": 10,
     "metadata": {},
     "output_type": "execute_result"
    }
   ],
   "source": [
    "best_params_6"
   ]
  },
  {
   "cell_type": "code",
   "execution_count": 6,
   "metadata": {},
   "outputs": [],
   "source": [
    "best_params_6 = {'colsample_bytree': 0.5044540258165737,\n",
    " 'gamma': 0.3606833915563988,\n",
    " 'learning_rate': 0.020567898195521434,\n",
    " 'max_depth': 8.0,\n",
    " 'n_estimators': 278.0,\n",
    " 'reg_lambda': 5.316977094203006,\n",
    " 'subsample': 0.6810694533283663}"
   ]
  },
  {
   "cell_type": "code",
   "execution_count": 11,
   "metadata": {},
   "outputs": [
    {
     "data": {
      "text/plain": [
       "{'colsample_bytree': 0.8602391670037453,\n",
       " 'gamma': 0.33255214554243856,\n",
       " 'learning_rate': 0.0292812650855257,\n",
       " 'max_depth': 7.0,\n",
       " 'n_estimators': 53.0,\n",
       " 'reg_lambda': 3.2474378378010935,\n",
       " 'subsample': 0.889380676447874}"
      ]
     },
     "execution_count": 11,
     "metadata": {},
     "output_type": "execute_result"
    }
   ],
   "source": [
    "best_params_9"
   ]
  },
  {
   "cell_type": "code",
   "execution_count": 7,
   "metadata": {},
   "outputs": [],
   "source": [
    "best_params_9 = {'colsample_bytree': 0.4845409209422611,\n",
    " 'gamma': 0.4368302424155825,\n",
    " 'learning_rate': 0.11360839815510773,\n",
    " 'max_depth': 3.0,\n",
    " 'n_estimators': 90.0,\n",
    " 'reg_lambda': 8.283549867329606,\n",
    " 'subsample': 0.9353591985992722}"
   ]
  },
  {
   "cell_type": "code",
   "execution_count": 12,
   "metadata": {},
   "outputs": [],
   "source": [
    "def pred_results_df(num_train, model_config):\n",
    "    \n",
    "    assert num_train in [3, 6, 9], 'Must use one of predefined train/test splits'\n",
    "    \n",
    "    train_sets = getattr(defaults, f'TRAIN_SETS_{num_train}')\n",
    "    \n",
    "    datasets = [FaciesDataset(s, infer_test_wells(s), features=['logs']) for s in train_sets]\n",
    "    \n",
    "    pred_dfs = []\n",
    "    \n",
    "    for i, dset in enumerate(datasets):\n",
    "        dset.load_or_generate_data()\n",
    "        \n",
    "        model = FeaturePredictor(dset, model_args=model_config, feature_model_args=fmodel_args)\n",
    "        model.fit(dset, verbose=False)\n",
    "        \n",
    "        print('predict_proba: ', model.predict_proba(dset.X_test))\n",
    "        \n",
    "        for test_well_name in dset.test_well_names:\n",
    "            df = model.preds_dataframe(test_well_name, logs=dset.logs_args['which_logs'])\n",
    "            df['well'] = test_well_name\n",
    "            df['set_number'] = i\n",
    "            pred_dfs.append(df)\n",
    "        \n",
    "    return pd.concat(pred_dfs)"
   ]
  },
  {
   "cell_type": "code",
   "execution_count": 13,
   "metadata": {},
   "outputs": [
    {
     "name": "stdout",
     "output_type": "stream",
     "text": [
      "Loading Well:  204-24a-7  from  /home/ross/Dropbox/core_data/facies/train_data\n"
     ]
    },
    {
     "name": "stderr",
     "output_type": "stream",
     "text": [
      "Header section Parameter regexp=~P was not found.\n"
     ]
    },
    {
     "name": "stdout",
     "output_type": "stream",
     "text": [
      "Adding NaN log:  SP\n",
      "Adding NaN log:  DTS\n",
      "Feature shapes:  [('depth', (19294,)), ('top', (19294,)), ('base', (19294,)), ('logs', (19294, 11))]\n",
      "Loading Well:  204-24a-6  from  /home/ross/Dropbox/core_data/facies/train_data\n"
     ]
    },
    {
     "name": "stderr",
     "output_type": "stream",
     "text": [
      "Header section Parameter regexp=~P was not found.\n"
     ]
    },
    {
     "name": "stdout",
     "output_type": "stream",
     "text": [
      "Adding NaN log:  SP\n",
      "Adding NaN log:  DTS1\n",
      "Adding NaN log:  DTS2\n",
      "Feature shapes:  [('depth', (13034,)), ('top', (13034,)), ('base', (13034,)), ('logs', (13034, 11))]\n",
      "Loading Well:  204-20-3  from  /home/ross/Dropbox/core_data/facies/train_data\n"
     ]
    },
    {
     "name": "stderr",
     "output_type": "stream",
     "text": [
      "Header section Parameter regexp=~P was not found.\n"
     ]
    },
    {
     "name": "stdout",
     "output_type": "stream",
     "text": [
      "Feature shapes:  [('depth', (10906,)), ('top', (10906,)), ('base', (10906,)), ('logs', (10906, 11))]\n",
      "Loading Well:  204-20-1Z  from  /home/ross/Dropbox/core_data/facies/train_data\n"
     ]
    },
    {
     "name": "stderr",
     "output_type": "stream",
     "text": [
      "Header section Parameter regexp=~P was not found.\n"
     ]
    },
    {
     "name": "stdout",
     "output_type": "stream",
     "text": [
      "Adding NaN log:  SP\n",
      "Adding NaN log:  DTS1\n",
      "Adding NaN log:  DTS2\n",
      "Feature shapes:  [('depth', (1929,)), ('top', (1929,)), ('base', (1929,)), ('logs', (1929, 11))]\n",
      "Loading Well:  204-19-3A  from  /home/ross/Dropbox/core_data/facies/train_data\n"
     ]
    },
    {
     "name": "stderr",
     "output_type": "stream",
     "text": [
      "Header section Parameter regexp=~P was not found.\n"
     ]
    },
    {
     "name": "stdout",
     "output_type": "stream",
     "text": [
      "Adding NaN log:  DTS\n",
      "Feature shapes:  [('depth', (9598,)), ('top', (9598,)), ('base', (9598,)), ('logs', (9598, 11))]\n",
      "Loading Well:  204-20a-7  from  /home/ross/Dropbox/core_data/facies/train_data\n"
     ]
    },
    {
     "name": "stderr",
     "output_type": "stream",
     "text": [
      "Header section Parameter regexp=~P was not found.\n"
     ]
    },
    {
     "name": "stdout",
     "output_type": "stream",
     "text": [
      "Adding NaN log:  DTS1\n",
      "Adding NaN log:  DTS2\n",
      "Feature shapes:  [('depth', (3105,)), ('top', (3105,)), ('base', (3105,)), ('logs', (3105, 11))]\n",
      "Loading Well:  204-20-2  from  /home/ross/Dropbox/core_data/facies/train_data\n"
     ]
    },
    {
     "name": "stderr",
     "output_type": "stream",
     "text": [
      "Header section Parameter regexp=~P was not found.\n"
     ]
    },
    {
     "name": "stdout",
     "output_type": "stream",
     "text": [
      "Feature shapes:  [('depth', (2940,)), ('top', (2940,)), ('base', (2940,)), ('logs', (2940, 11))]\n",
      "Loading Well:  204-19-6  from  /home/ross/Dropbox/core_data/facies/train_data\n"
     ]
    },
    {
     "name": "stderr",
     "output_type": "stream",
     "text": [
      "Header section Parameter regexp=~P was not found.\n"
     ]
    },
    {
     "name": "stdout",
     "output_type": "stream",
     "text": [
      "Adding NaN log:  DTS\n",
      "Feature shapes:  [('depth', (1981,)), ('top', (1981,)), ('base', (1981,)), ('logs', (1981, 11))]\n",
      "Loading Well:  204-19-7  from  /home/ross/Dropbox/core_data/facies/train_data\n"
     ]
    },
    {
     "name": "stderr",
     "output_type": "stream",
     "text": [
      "Header section Parameter regexp=~P was not found.\n"
     ]
    },
    {
     "name": "stdout",
     "output_type": "stream",
     "text": [
      "Adding NaN log:  DTS\n",
      "Feature shapes:  [('depth', (9807,)), ('top', (9807,)), ('base', (9807,)), ('logs', (9807, 11))]\n",
      "Loading Well:  204-20-1  from  /home/ross/Dropbox/core_data/facies/train_data\n"
     ]
    },
    {
     "name": "stderr",
     "output_type": "stream",
     "text": [
      "Header section Parameter regexp=~P was not found.\n"
     ]
    },
    {
     "name": "stdout",
     "output_type": "stream",
     "text": [
      "Adding NaN log:  DTS1\n",
      "Adding NaN log:  DTS2\n",
      "Feature shapes:  [('depth', (11210,)), ('top', (11210,)), ('base', (11210,)), ('logs', (11210, 11))]\n",
      "Loading Well:  205-21b-3  from  /home/ross/Dropbox/core_data/facies/train_data\n"
     ]
    },
    {
     "name": "stderr",
     "output_type": "stream",
     "text": [
      "Header section Parameter regexp=~P was not found.\n"
     ]
    },
    {
     "name": "stdout",
     "output_type": "stream",
     "text": [
      "Adding NaN log:  SP\n",
      "Adding NaN log:  DTS\n",
      "Feature shapes:  [('depth', (3881,)), ('top', (3881,)), ('base', (3881,)), ('logs', (3881, 11))]\n",
      "Loading Well:  204-20-6a  from  /home/ross/Dropbox/core_data/facies/train_data\n"
     ]
    },
    {
     "name": "stderr",
     "output_type": "stream",
     "text": [
      "Header section Parameter regexp=~P was not found.\n"
     ]
    },
    {
     "name": "stdout",
     "output_type": "stream",
     "text": [
      "Adding NaN log:  SP\n",
      "Adding NaN log:  DTS1\n",
      "Adding NaN log:  DTS2\n",
      "Feature shapes:  [('depth', (3542,)), ('top', (3542,)), ('base', (3542,)), ('logs', (3542, 11))]\n",
      "Training model for feature:  logs\n",
      "predict_proba:  [[0.01689093 0.7563034  0.08834334 0.050347   0.01733543 0.07077994]\n",
      " [0.01685088 0.75451046 0.08813391 0.05331613 0.01729434 0.06989433]\n",
      " [0.01560771 0.77470446 0.08163185 0.04938275 0.01601845 0.06265484]\n",
      " ...\n",
      " [0.02225829 0.5528082  0.13279228 0.07678387 0.0359427  0.17941469]\n",
      " [0.02222993 0.5521039  0.13262308 0.07668603 0.037171   0.17918609]\n",
      " [0.02211785 0.5505944  0.13195443 0.07958104 0.03746965 0.17828268]]\n",
      "Loading Well:  204-19-3A  from  /home/ross/Dropbox/core_data/facies/train_data\n"
     ]
    },
    {
     "name": "stderr",
     "output_type": "stream",
     "text": [
      "Header section Parameter regexp=~P was not found.\n"
     ]
    },
    {
     "name": "stdout",
     "output_type": "stream",
     "text": [
      "Adding NaN log:  DTS\n",
      "Feature shapes:  [('depth', (9598,)), ('top', (9598,)), ('base', (9598,)), ('logs', (9598, 11))]\n",
      "Loading Well:  204-19-7  from  /home/ross/Dropbox/core_data/facies/train_data\n"
     ]
    },
    {
     "name": "stderr",
     "output_type": "stream",
     "text": [
      "Header section Parameter regexp=~P was not found.\n"
     ]
    },
    {
     "name": "stdout",
     "output_type": "stream",
     "text": [
      "Adding NaN log:  DTS\n",
      "Feature shapes:  [('depth', (9807,)), ('top', (9807,)), ('base', (9807,)), ('logs', (9807, 11))]\n",
      "Loading Well:  205-21b-3  from  /home/ross/Dropbox/core_data/facies/train_data\n"
     ]
    },
    {
     "name": "stderr",
     "output_type": "stream",
     "text": [
      "Header section Parameter regexp=~P was not found.\n"
     ]
    },
    {
     "name": "stdout",
     "output_type": "stream",
     "text": [
      "Adding NaN log:  SP\n",
      "Adding NaN log:  DTS\n",
      "Feature shapes:  [('depth', (3881,)), ('top', (3881,)), ('base', (3881,)), ('logs', (3881, 11))]\n",
      "Loading Well:  204-20-1Z  from  /home/ross/Dropbox/core_data/facies/train_data\n"
     ]
    },
    {
     "name": "stderr",
     "output_type": "stream",
     "text": [
      "Header section Parameter regexp=~P was not found.\n"
     ]
    },
    {
     "name": "stdout",
     "output_type": "stream",
     "text": [
      "Adding NaN log:  SP\n",
      "Adding NaN log:  DTS1\n",
      "Adding NaN log:  DTS2\n",
      "Feature shapes:  [('depth', (1929,)), ('top', (1929,)), ('base', (1929,)), ('logs', (1929, 11))]\n",
      "Loading Well:  204-20a-7  from  /home/ross/Dropbox/core_data/facies/train_data\n"
     ]
    },
    {
     "name": "stderr",
     "output_type": "stream",
     "text": [
      "Header section Parameter regexp=~P was not found.\n"
     ]
    },
    {
     "name": "stdout",
     "output_type": "stream",
     "text": [
      "Adding NaN log:  DTS1\n",
      "Adding NaN log:  DTS2\n",
      "Feature shapes:  [('depth', (3105,)), ('top', (3105,)), ('base', (3105,)), ('logs', (3105, 11))]\n",
      "Loading Well:  204-20-2  from  /home/ross/Dropbox/core_data/facies/train_data\n"
     ]
    },
    {
     "name": "stderr",
     "output_type": "stream",
     "text": [
      "Header section Parameter regexp=~P was not found.\n"
     ]
    },
    {
     "name": "stdout",
     "output_type": "stream",
     "text": [
      "Feature shapes:  [('depth', (2940,)), ('top', (2940,)), ('base', (2940,)), ('logs', (2940, 11))]\n",
      "Loading Well:  204-24a-6  from  /home/ross/Dropbox/core_data/facies/train_data\n"
     ]
    },
    {
     "name": "stderr",
     "output_type": "stream",
     "text": [
      "Header section Parameter regexp=~P was not found.\n"
     ]
    },
    {
     "name": "stdout",
     "output_type": "stream",
     "text": [
      "Adding NaN log:  SP\n",
      "Adding NaN log:  DTS1\n",
      "Adding NaN log:  DTS2\n",
      "Feature shapes:  [('depth', (13034,)), ('top', (13034,)), ('base', (13034,)), ('logs', (13034, 11))]\n",
      "Loading Well:  204-19-6  from  /home/ross/Dropbox/core_data/facies/train_data\n"
     ]
    },
    {
     "name": "stderr",
     "output_type": "stream",
     "text": [
      "Header section Parameter regexp=~P was not found.\n"
     ]
    },
    {
     "name": "stdout",
     "output_type": "stream",
     "text": [
      "Adding NaN log:  DTS\n",
      "Feature shapes:  [('depth', (1981,)), ('top', (1981,)), ('base', (1981,)), ('logs', (1981, 11))]\n",
      "Loading Well:  204-20-3  from  /home/ross/Dropbox/core_data/facies/train_data\n"
     ]
    },
    {
     "name": "stderr",
     "output_type": "stream",
     "text": [
      "Header section Parameter regexp=~P was not found.\n"
     ]
    },
    {
     "name": "stdout",
     "output_type": "stream",
     "text": [
      "Feature shapes:  [('depth', (10906,)), ('top', (10906,)), ('base', (10906,)), ('logs', (10906, 11))]\n",
      "Loading Well:  204-20-1  from  /home/ross/Dropbox/core_data/facies/train_data\n"
     ]
    },
    {
     "name": "stderr",
     "output_type": "stream",
     "text": [
      "Header section Parameter regexp=~P was not found.\n"
     ]
    },
    {
     "name": "stdout",
     "output_type": "stream",
     "text": [
      "Adding NaN log:  DTS1\n",
      "Adding NaN log:  DTS2\n",
      "Feature shapes:  [('depth', (11210,)), ('top', (11210,)), ('base', (11210,)), ('logs', (11210, 11))]\n",
      "Loading Well:  204-24a-7  from  /home/ross/Dropbox/core_data/facies/train_data\n"
     ]
    },
    {
     "name": "stderr",
     "output_type": "stream",
     "text": [
      "Header section Parameter regexp=~P was not found.\n"
     ]
    },
    {
     "name": "stdout",
     "output_type": "stream",
     "text": [
      "Adding NaN log:  SP\n",
      "Adding NaN log:  DTS\n",
      "Feature shapes:  [('depth', (19294,)), ('top', (19294,)), ('base', (19294,)), ('logs', (19294, 11))]\n",
      "Loading Well:  204-20-6a  from  /home/ross/Dropbox/core_data/facies/train_data\n"
     ]
    },
    {
     "name": "stderr",
     "output_type": "stream",
     "text": [
      "Header section Parameter regexp=~P was not found.\n"
     ]
    },
    {
     "name": "stdout",
     "output_type": "stream",
     "text": [
      "Adding NaN log:  SP\n",
      "Adding NaN log:  DTS1\n",
      "Adding NaN log:  DTS2\n",
      "Feature shapes:  [('depth', (3542,)), ('top', (3542,)), ('base', (3542,)), ('logs', (3542, 11))]\n",
      "Training model for feature:  logs\n",
      "predict_proba:  [[0.01652068 0.06629827 0.7704868  0.08779897 0.02640231 0.03249296]\n",
      " [0.01655057 0.06603645 0.77188057 0.08674672 0.02487949 0.03390625]\n",
      " [0.0166619  0.06889904 0.7679276  0.08733026 0.02504686 0.03413434]\n",
      " ...\n",
      " [0.03193434 0.17510332 0.3499671  0.2928162  0.04466264 0.10551647]\n",
      " [0.03113341 0.18740922 0.35886648 0.28113252 0.04354249 0.09791586]\n",
      " [0.03060668 0.19845025 0.35367656 0.27637613 0.04456283 0.09632751]]\n",
      "Loading Well:  204-20-1  from  /home/ross/Dropbox/core_data/facies/train_data\n"
     ]
    },
    {
     "name": "stderr",
     "output_type": "stream",
     "text": [
      "Header section Parameter regexp=~P was not found.\n"
     ]
    },
    {
     "name": "stdout",
     "output_type": "stream",
     "text": [
      "Adding NaN log:  DTS1\n",
      "Adding NaN log:  DTS2\n",
      "Feature shapes:  [('depth', (11210,)), ('top', (11210,)), ('base', (11210,)), ('logs', (11210, 11))]\n",
      "Loading Well:  204-20-2  from  /home/ross/Dropbox/core_data/facies/train_data\n"
     ]
    },
    {
     "name": "stderr",
     "output_type": "stream",
     "text": [
      "Header section Parameter regexp=~P was not found.\n"
     ]
    },
    {
     "name": "stdout",
     "output_type": "stream",
     "text": [
      "Feature shapes:  [('depth', (2940,)), ('top', (2940,)), ('base', (2940,)), ('logs', (2940, 11))]\n",
      "Loading Well:  204-19-6  from  /home/ross/Dropbox/core_data/facies/train_data\n"
     ]
    },
    {
     "name": "stderr",
     "output_type": "stream",
     "text": [
      "Header section Parameter regexp=~P was not found.\n"
     ]
    },
    {
     "name": "stdout",
     "output_type": "stream",
     "text": [
      "Adding NaN log:  DTS\n",
      "Feature shapes:  [('depth', (1981,)), ('top', (1981,)), ('base', (1981,)), ('logs', (1981, 11))]\n",
      "Loading Well:  204-20-1Z  from  /home/ross/Dropbox/core_data/facies/train_data\n"
     ]
    },
    {
     "name": "stderr",
     "output_type": "stream",
     "text": [
      "Header section Parameter regexp=~P was not found.\n"
     ]
    },
    {
     "name": "stdout",
     "output_type": "stream",
     "text": [
      "Adding NaN log:  SP\n",
      "Adding NaN log:  DTS1\n",
      "Adding NaN log:  DTS2\n",
      "Feature shapes:  [('depth', (1929,)), ('top', (1929,)), ('base', (1929,)), ('logs', (1929, 11))]\n",
      "Loading Well:  204-19-3A  from  /home/ross/Dropbox/core_data/facies/train_data\n"
     ]
    },
    {
     "name": "stderr",
     "output_type": "stream",
     "text": [
      "Header section Parameter regexp=~P was not found.\n"
     ]
    },
    {
     "name": "stdout",
     "output_type": "stream",
     "text": [
      "Adding NaN log:  DTS\n",
      "Feature shapes:  [('depth', (9598,)), ('top', (9598,)), ('base', (9598,)), ('logs', (9598, 11))]\n",
      "Loading Well:  204-20a-7  from  /home/ross/Dropbox/core_data/facies/train_data\n"
     ]
    },
    {
     "name": "stderr",
     "output_type": "stream",
     "text": [
      "Header section Parameter regexp=~P was not found.\n"
     ]
    },
    {
     "name": "stdout",
     "output_type": "stream",
     "text": [
      "Adding NaN log:  DTS1\n",
      "Adding NaN log:  DTS2\n",
      "Feature shapes:  [('depth', (3105,)), ('top', (3105,)), ('base', (3105,)), ('logs', (3105, 11))]\n",
      "Loading Well:  204-24a-6  from  /home/ross/Dropbox/core_data/facies/train_data\n"
     ]
    },
    {
     "name": "stderr",
     "output_type": "stream",
     "text": [
      "Header section Parameter regexp=~P was not found.\n"
     ]
    },
    {
     "name": "stdout",
     "output_type": "stream",
     "text": [
      "Adding NaN log:  SP\n",
      "Adding NaN log:  DTS1\n",
      "Adding NaN log:  DTS2\n",
      "Feature shapes:  [('depth', (13034,)), ('top', (13034,)), ('base', (13034,)), ('logs', (13034, 11))]\n",
      "Loading Well:  204-19-7  from  /home/ross/Dropbox/core_data/facies/train_data\n"
     ]
    },
    {
     "name": "stderr",
     "output_type": "stream",
     "text": [
      "Header section Parameter regexp=~P was not found.\n"
     ]
    },
    {
     "name": "stdout",
     "output_type": "stream",
     "text": [
      "Adding NaN log:  DTS\n",
      "Feature shapes:  [('depth', (9807,)), ('top', (9807,)), ('base', (9807,)), ('logs', (9807, 11))]\n",
      "Loading Well:  204-20-3  from  /home/ross/Dropbox/core_data/facies/train_data\n"
     ]
    },
    {
     "name": "stderr",
     "output_type": "stream",
     "text": [
      "Header section Parameter regexp=~P was not found.\n"
     ]
    },
    {
     "name": "stdout",
     "output_type": "stream",
     "text": [
      "Feature shapes:  [('depth', (10906,)), ('top', (10906,)), ('base', (10906,)), ('logs', (10906, 11))]\n",
      "Loading Well:  204-24a-7  from  /home/ross/Dropbox/core_data/facies/train_data\n"
     ]
    },
    {
     "name": "stderr",
     "output_type": "stream",
     "text": [
      "Header section Parameter regexp=~P was not found.\n"
     ]
    },
    {
     "name": "stdout",
     "output_type": "stream",
     "text": [
      "Adding NaN log:  SP\n",
      "Adding NaN log:  DTS\n",
      "Feature shapes:  [('depth', (19294,)), ('top', (19294,)), ('base', (19294,)), ('logs', (19294, 11))]\n",
      "Loading Well:  205-21b-3  from  /home/ross/Dropbox/core_data/facies/train_data\n"
     ]
    },
    {
     "name": "stderr",
     "output_type": "stream",
     "text": [
      "Header section Parameter regexp=~P was not found.\n"
     ]
    },
    {
     "name": "stdout",
     "output_type": "stream",
     "text": [
      "Adding NaN log:  SP\n",
      "Adding NaN log:  DTS\n",
      "Feature shapes:  [('depth', (3881,)), ('top', (3881,)), ('base', (3881,)), ('logs', (3881, 11))]\n",
      "Loading Well:  204-20-6a  from  /home/ross/Dropbox/core_data/facies/train_data\n"
     ]
    },
    {
     "name": "stderr",
     "output_type": "stream",
     "text": [
      "Header section Parameter regexp=~P was not found.\n"
     ]
    },
    {
     "name": "stdout",
     "output_type": "stream",
     "text": [
      "Adding NaN log:  SP\n",
      "Adding NaN log:  DTS1\n",
      "Adding NaN log:  DTS2\n",
      "Feature shapes:  [('depth', (3542,)), ('top', (3542,)), ('base', (3542,)), ('logs', (3542, 11))]\n",
      "Training model for feature:  logs\n",
      "predict_proba:  [[0.0324137  0.0374536  0.10867006 0.08282197 0.08425921 0.65438145]\n",
      " [0.03238481 0.03742022 0.10857321 0.08363938 0.08418412 0.6537982 ]\n",
      " [0.03241321 0.03736181 0.10866841 0.08292712 0.08425794 0.65437156]\n",
      " ...\n",
      " [0.05428341 0.30732554 0.09652368 0.10806402 0.13080043 0.30300295]\n",
      " [0.05408613 0.30620858 0.10026607 0.10767127 0.13889293 0.292875  ]\n",
      " [0.05399017 0.30566534 0.10008819 0.10925439 0.13864653 0.29235542]]\n",
      "Loading Well:  204-19-6  from  /home/ross/Dropbox/core_data/facies/train_data\n"
     ]
    },
    {
     "name": "stderr",
     "output_type": "stream",
     "text": [
      "Header section Parameter regexp=~P was not found.\n"
     ]
    },
    {
     "name": "stdout",
     "output_type": "stream",
     "text": [
      "Adding NaN log:  DTS\n",
      "Feature shapes:  [('depth', (1981,)), ('top', (1981,)), ('base', (1981,)), ('logs', (1981, 11))]\n",
      "Loading Well:  204-20-1Z  from  /home/ross/Dropbox/core_data/facies/train_data\n"
     ]
    },
    {
     "name": "stderr",
     "output_type": "stream",
     "text": [
      "Header section Parameter regexp=~P was not found.\n"
     ]
    },
    {
     "name": "stdout",
     "output_type": "stream",
     "text": [
      "Adding NaN log:  SP\n",
      "Adding NaN log:  DTS1\n",
      "Adding NaN log:  DTS2\n",
      "Feature shapes:  [('depth', (1929,)), ('top', (1929,)), ('base', (1929,)), ('logs', (1929, 11))]\n",
      "Loading Well:  204-20a-7  from  /home/ross/Dropbox/core_data/facies/train_data\n"
     ]
    },
    {
     "name": "stderr",
     "output_type": "stream",
     "text": [
      "Header section Parameter regexp=~P was not found.\n"
     ]
    },
    {
     "name": "stdout",
     "output_type": "stream",
     "text": [
      "Adding NaN log:  DTS1\n",
      "Adding NaN log:  DTS2\n",
      "Feature shapes:  [('depth', (3105,)), ('top', (3105,)), ('base', (3105,)), ('logs', (3105, 11))]\n",
      "Loading Well:  204-19-3A  from  /home/ross/Dropbox/core_data/facies/train_data\n"
     ]
    },
    {
     "name": "stderr",
     "output_type": "stream",
     "text": [
      "Header section Parameter regexp=~P was not found.\n"
     ]
    },
    {
     "name": "stdout",
     "output_type": "stream",
     "text": [
      "Adding NaN log:  DTS\n",
      "Feature shapes:  [('depth', (9598,)), ('top', (9598,)), ('base', (9598,)), ('logs', (9598, 11))]\n",
      "Loading Well:  204-20-2  from  /home/ross/Dropbox/core_data/facies/train_data\n"
     ]
    },
    {
     "name": "stderr",
     "output_type": "stream",
     "text": [
      "Header section Parameter regexp=~P was not found.\n"
     ]
    },
    {
     "name": "stdout",
     "output_type": "stream",
     "text": [
      "Feature shapes:  [('depth', (2940,)), ('top', (2940,)), ('base', (2940,)), ('logs', (2940, 11))]\n",
      "Loading Well:  204-24a-6  from  /home/ross/Dropbox/core_data/facies/train_data\n"
     ]
    },
    {
     "name": "stderr",
     "output_type": "stream",
     "text": [
      "Header section Parameter regexp=~P was not found.\n"
     ]
    },
    {
     "name": "stdout",
     "output_type": "stream",
     "text": [
      "Adding NaN log:  SP\n",
      "Adding NaN log:  DTS1\n",
      "Adding NaN log:  DTS2\n",
      "Feature shapes:  [('depth', (13034,)), ('top', (13034,)), ('base', (13034,)), ('logs', (13034, 11))]\n",
      "Loading Well:  204-19-7  from  /home/ross/Dropbox/core_data/facies/train_data\n"
     ]
    },
    {
     "name": "stderr",
     "output_type": "stream",
     "text": [
      "Header section Parameter regexp=~P was not found.\n"
     ]
    },
    {
     "name": "stdout",
     "output_type": "stream",
     "text": [
      "Adding NaN log:  DTS\n",
      "Feature shapes:  [('depth', (9807,)), ('top', (9807,)), ('base', (9807,)), ('logs', (9807, 11))]\n",
      "Loading Well:  204-20-3  from  /home/ross/Dropbox/core_data/facies/train_data\n"
     ]
    },
    {
     "name": "stderr",
     "output_type": "stream",
     "text": [
      "Header section Parameter regexp=~P was not found.\n"
     ]
    },
    {
     "name": "stdout",
     "output_type": "stream",
     "text": [
      "Feature shapes:  [('depth', (10906,)), ('top', (10906,)), ('base', (10906,)), ('logs', (10906, 11))]\n",
      "Loading Well:  204-20-1  from  /home/ross/Dropbox/core_data/facies/train_data\n"
     ]
    },
    {
     "name": "stderr",
     "output_type": "stream",
     "text": [
      "Header section Parameter regexp=~P was not found.\n"
     ]
    },
    {
     "name": "stdout",
     "output_type": "stream",
     "text": [
      "Adding NaN log:  DTS1\n",
      "Adding NaN log:  DTS2\n",
      "Feature shapes:  [('depth', (11210,)), ('top', (11210,)), ('base', (11210,)), ('logs', (11210, 11))]\n",
      "Loading Well:  204-24a-7  from  /home/ross/Dropbox/core_data/facies/train_data\n"
     ]
    },
    {
     "name": "stderr",
     "output_type": "stream",
     "text": [
      "Header section Parameter regexp=~P was not found.\n"
     ]
    },
    {
     "name": "stdout",
     "output_type": "stream",
     "text": [
      "Adding NaN log:  SP\n",
      "Adding NaN log:  DTS\n",
      "Feature shapes:  [('depth', (19294,)), ('top', (19294,)), ('base', (19294,)), ('logs', (19294, 11))]\n",
      "Loading Well:  205-21b-3  from  /home/ross/Dropbox/core_data/facies/train_data\n"
     ]
    },
    {
     "name": "stderr",
     "output_type": "stream",
     "text": [
      "Header section Parameter regexp=~P was not found.\n"
     ]
    },
    {
     "name": "stdout",
     "output_type": "stream",
     "text": [
      "Adding NaN log:  SP\n",
      "Adding NaN log:  DTS\n",
      "Feature shapes:  [('depth', (3881,)), ('top', (3881,)), ('base', (3881,)), ('logs', (3881, 11))]\n",
      "Loading Well:  204-20-6a  from  /home/ross/Dropbox/core_data/facies/train_data\n"
     ]
    },
    {
     "name": "stderr",
     "output_type": "stream",
     "text": [
      "Header section Parameter regexp=~P was not found.\n"
     ]
    },
    {
     "name": "stdout",
     "output_type": "stream",
     "text": [
      "Adding NaN log:  SP\n",
      "Adding NaN log:  DTS1\n",
      "Adding NaN log:  DTS2\n",
      "Feature shapes:  [('depth', (3542,)), ('top', (3542,)), ('base', (3542,)), ('logs', (3542, 11))]\n",
      "Training model for feature:  logs\n",
      "predict_proba:  [[0.03329316 0.5733362  0.12932795 0.12433074 0.0826439  0.05706806]\n",
      " [0.03317836 0.5713593  0.1281393  0.12390204 0.08296363 0.06045739]\n",
      " [0.0333317  0.5608517  0.12420938 0.14315242 0.08196236 0.05649247]\n",
      " ...\n",
      " [0.03913538 0.59229565 0.0641375  0.09649634 0.17007183 0.03786329]\n",
      " [0.03906448 0.5912227  0.0703634  0.091791   0.16976374 0.0377947 ]\n",
      " [0.03918884 0.58780813 0.07265066 0.08868433 0.17375301 0.03791501]]\n",
      "Loading Well:  204-20-6a  from  /home/ross/Dropbox/core_data/facies/train_data\n"
     ]
    },
    {
     "name": "stderr",
     "output_type": "stream",
     "text": [
      "Header section Parameter regexp=~P was not found.\n"
     ]
    },
    {
     "name": "stdout",
     "output_type": "stream",
     "text": [
      "Adding NaN log:  SP\n",
      "Adding NaN log:  DTS1\n",
      "Adding NaN log:  DTS2\n",
      "Feature shapes:  [('depth', (3542,)), ('top', (3542,)), ('base', (3542,)), ('logs', (3542, 11))]\n",
      "Loading Well:  204-20-1  from  /home/ross/Dropbox/core_data/facies/train_data\n"
     ]
    },
    {
     "name": "stderr",
     "output_type": "stream",
     "text": [
      "Header section Parameter regexp=~P was not found.\n"
     ]
    },
    {
     "name": "stdout",
     "output_type": "stream",
     "text": [
      "Adding NaN log:  DTS1\n",
      "Adding NaN log:  DTS2\n",
      "Feature shapes:  [('depth', (11210,)), ('top', (11210,)), ('base', (11210,)), ('logs', (11210, 11))]\n",
      "Loading Well:  204-19-6  from  /home/ross/Dropbox/core_data/facies/train_data\n"
     ]
    },
    {
     "name": "stderr",
     "output_type": "stream",
     "text": [
      "Header section Parameter regexp=~P was not found.\n"
     ]
    },
    {
     "name": "stdout",
     "output_type": "stream",
     "text": [
      "Adding NaN log:  DTS\n",
      "Feature shapes:  [('depth', (1981,)), ('top', (1981,)), ('base', (1981,)), ('logs', (1981, 11))]\n",
      "Loading Well:  204-20-1Z  from  /home/ross/Dropbox/core_data/facies/train_data\n"
     ]
    },
    {
     "name": "stderr",
     "output_type": "stream",
     "text": [
      "Header section Parameter regexp=~P was not found.\n"
     ]
    },
    {
     "name": "stdout",
     "output_type": "stream",
     "text": [
      "Adding NaN log:  SP\n",
      "Adding NaN log:  DTS1\n",
      "Adding NaN log:  DTS2\n",
      "Feature shapes:  [('depth', (1929,)), ('top', (1929,)), ('base', (1929,)), ('logs', (1929, 11))]\n",
      "Loading Well:  204-19-3A  from  /home/ross/Dropbox/core_data/facies/train_data\n"
     ]
    },
    {
     "name": "stderr",
     "output_type": "stream",
     "text": [
      "Header section Parameter regexp=~P was not found.\n"
     ]
    },
    {
     "name": "stdout",
     "output_type": "stream",
     "text": [
      "Adding NaN log:  DTS\n",
      "Feature shapes:  [('depth', (9598,)), ('top', (9598,)), ('base', (9598,)), ('logs', (9598, 11))]\n",
      "Loading Well:  204-20a-7  from  /home/ross/Dropbox/core_data/facies/train_data\n"
     ]
    },
    {
     "name": "stderr",
     "output_type": "stream",
     "text": [
      "Header section Parameter regexp=~P was not found.\n"
     ]
    },
    {
     "name": "stdout",
     "output_type": "stream",
     "text": [
      "Adding NaN log:  DTS1\n",
      "Adding NaN log:  DTS2\n",
      "Feature shapes:  [('depth', (3105,)), ('top', (3105,)), ('base', (3105,)), ('logs', (3105, 11))]\n",
      "Loading Well:  204-20-2  from  /home/ross/Dropbox/core_data/facies/train_data\n"
     ]
    },
    {
     "name": "stderr",
     "output_type": "stream",
     "text": [
      "Header section Parameter regexp=~P was not found.\n"
     ]
    },
    {
     "name": "stdout",
     "output_type": "stream",
     "text": [
      "Feature shapes:  [('depth', (2940,)), ('top', (2940,)), ('base', (2940,)), ('logs', (2940, 11))]\n",
      "Loading Well:  204-24a-6  from  /home/ross/Dropbox/core_data/facies/train_data\n"
     ]
    },
    {
     "name": "stderr",
     "output_type": "stream",
     "text": [
      "Header section Parameter regexp=~P was not found.\n"
     ]
    },
    {
     "name": "stdout",
     "output_type": "stream",
     "text": [
      "Adding NaN log:  SP\n",
      "Adding NaN log:  DTS1\n",
      "Adding NaN log:  DTS2\n",
      "Feature shapes:  [('depth', (13034,)), ('top', (13034,)), ('base', (13034,)), ('logs', (13034, 11))]\n",
      "Loading Well:  204-19-7  from  /home/ross/Dropbox/core_data/facies/train_data\n"
     ]
    },
    {
     "name": "stderr",
     "output_type": "stream",
     "text": [
      "Header section Parameter regexp=~P was not found.\n"
     ]
    },
    {
     "name": "stdout",
     "output_type": "stream",
     "text": [
      "Adding NaN log:  DTS\n",
      "Feature shapes:  [('depth', (9807,)), ('top', (9807,)), ('base', (9807,)), ('logs', (9807, 11))]\n",
      "Loading Well:  204-20-3  from  /home/ross/Dropbox/core_data/facies/train_data\n"
     ]
    },
    {
     "name": "stderr",
     "output_type": "stream",
     "text": [
      "Header section Parameter regexp=~P was not found.\n"
     ]
    },
    {
     "name": "stdout",
     "output_type": "stream",
     "text": [
      "Feature shapes:  [('depth', (10906,)), ('top', (10906,)), ('base', (10906,)), ('logs', (10906, 11))]\n",
      "Loading Well:  204-24a-7  from  /home/ross/Dropbox/core_data/facies/train_data\n"
     ]
    },
    {
     "name": "stderr",
     "output_type": "stream",
     "text": [
      "Header section Parameter regexp=~P was not found.\n"
     ]
    },
    {
     "name": "stdout",
     "output_type": "stream",
     "text": [
      "Adding NaN log:  SP\n",
      "Adding NaN log:  DTS\n",
      "Feature shapes:  [('depth', (19294,)), ('top', (19294,)), ('base', (19294,)), ('logs', (19294, 11))]\n",
      "Loading Well:  205-21b-3  from  /home/ross/Dropbox/core_data/facies/train_data\n"
     ]
    },
    {
     "name": "stderr",
     "output_type": "stream",
     "text": [
      "Header section Parameter regexp=~P was not found.\n"
     ]
    },
    {
     "name": "stdout",
     "output_type": "stream",
     "text": [
      "Adding NaN log:  SP\n",
      "Adding NaN log:  DTS\n",
      "Feature shapes:  [('depth', (3881,)), ('top', (3881,)), ('base', (3881,)), ('logs', (3881, 11))]\n",
      "Training model for feature:  logs\n",
      "predict_proba:  [[0.01891884 0.02778047 0.03864559 0.07464727 0.03545498 0.8045528 ]\n",
      " [0.01891884 0.02778047 0.03864559 0.07464727 0.03545498 0.8045528 ]\n",
      " [0.01920899 0.02820654 0.03923829 0.07579212 0.03637385 0.8011802 ]\n",
      " ...\n",
      " [0.0226778  0.65429443 0.03052688 0.07744154 0.02904843 0.18601096]\n",
      " [0.02332472 0.6328423  0.0313977  0.0796507  0.02987708 0.20290752]\n",
      " [0.02323416 0.63038516 0.03127579 0.08322408 0.02976108 0.2021197 ]]\n"
     ]
    }
   ],
   "source": [
    "preds_df_3 = pred_results_df(3, make_params_usable(best_params_3))\n",
    "preds_df_3.to_csv('logs_xgb_results_train_sets3_ALL.csv')"
   ]
  },
  {
   "cell_type": "code",
   "execution_count": 14,
   "metadata": {},
   "outputs": [
    {
     "name": "stdout",
     "output_type": "stream",
     "text": [
      "Loading Well:  204-24a-7  from  /home/ross/Dropbox/core_data/facies/train_data\n"
     ]
    },
    {
     "name": "stderr",
     "output_type": "stream",
     "text": [
      "Header section Parameter regexp=~P was not found.\n"
     ]
    },
    {
     "name": "stdout",
     "output_type": "stream",
     "text": [
      "Adding NaN log:  SP\n",
      "Adding NaN log:  DTS\n",
      "Feature shapes:  [('depth', (19294,)), ('top', (19294,)), ('base', (19294,)), ('logs', (19294, 11))]\n",
      "Loading Well:  204-24a-6  from  /home/ross/Dropbox/core_data/facies/train_data\n"
     ]
    },
    {
     "name": "stderr",
     "output_type": "stream",
     "text": [
      "Header section Parameter regexp=~P was not found.\n"
     ]
    },
    {
     "name": "stdout",
     "output_type": "stream",
     "text": [
      "Adding NaN log:  SP\n",
      "Adding NaN log:  DTS1\n",
      "Adding NaN log:  DTS2\n",
      "Feature shapes:  [('depth', (13034,)), ('top', (13034,)), ('base', (13034,)), ('logs', (13034, 11))]\n",
      "Loading Well:  204-20-3  from  /home/ross/Dropbox/core_data/facies/train_data\n"
     ]
    },
    {
     "name": "stderr",
     "output_type": "stream",
     "text": [
      "Header section Parameter regexp=~P was not found.\n"
     ]
    },
    {
     "name": "stdout",
     "output_type": "stream",
     "text": [
      "Feature shapes:  [('depth', (10906,)), ('top', (10906,)), ('base', (10906,)), ('logs', (10906, 11))]\n",
      "Loading Well:  204-20-6a  from  /home/ross/Dropbox/core_data/facies/train_data\n"
     ]
    },
    {
     "name": "stderr",
     "output_type": "stream",
     "text": [
      "Header section Parameter regexp=~P was not found.\n"
     ]
    },
    {
     "name": "stdout",
     "output_type": "stream",
     "text": [
      "Adding NaN log:  SP\n",
      "Adding NaN log:  DTS1\n",
      "Adding NaN log:  DTS2\n",
      "Feature shapes:  [('depth', (3542,)), ('top', (3542,)), ('base', (3542,)), ('logs', (3542, 11))]\n",
      "Loading Well:  204-20a-7  from  /home/ross/Dropbox/core_data/facies/train_data\n"
     ]
    },
    {
     "name": "stderr",
     "output_type": "stream",
     "text": [
      "Header section Parameter regexp=~P was not found.\n"
     ]
    },
    {
     "name": "stdout",
     "output_type": "stream",
     "text": [
      "Adding NaN log:  DTS1\n",
      "Adding NaN log:  DTS2\n",
      "Feature shapes:  [('depth', (3105,)), ('top', (3105,)), ('base', (3105,)), ('logs', (3105, 11))]\n",
      "Loading Well:  204-19-6  from  /home/ross/Dropbox/core_data/facies/train_data\n"
     ]
    },
    {
     "name": "stderr",
     "output_type": "stream",
     "text": [
      "Header section Parameter regexp=~P was not found.\n"
     ]
    },
    {
     "name": "stdout",
     "output_type": "stream",
     "text": [
      "Adding NaN log:  DTS\n",
      "Feature shapes:  [('depth', (1981,)), ('top', (1981,)), ('base', (1981,)), ('logs', (1981, 11))]\n",
      "Loading Well:  204-20-1Z  from  /home/ross/Dropbox/core_data/facies/train_data\n"
     ]
    },
    {
     "name": "stderr",
     "output_type": "stream",
     "text": [
      "Header section Parameter regexp=~P was not found.\n"
     ]
    },
    {
     "name": "stdout",
     "output_type": "stream",
     "text": [
      "Adding NaN log:  SP\n",
      "Adding NaN log:  DTS1\n",
      "Adding NaN log:  DTS2\n",
      "Feature shapes:  [('depth', (1929,)), ('top', (1929,)), ('base', (1929,)), ('logs', (1929, 11))]\n",
      "Loading Well:  204-19-3A  from  /home/ross/Dropbox/core_data/facies/train_data\n"
     ]
    },
    {
     "name": "stderr",
     "output_type": "stream",
     "text": [
      "Header section Parameter regexp=~P was not found.\n"
     ]
    },
    {
     "name": "stdout",
     "output_type": "stream",
     "text": [
      "Adding NaN log:  DTS\n",
      "Feature shapes:  [('depth', (9598,)), ('top', (9598,)), ('base', (9598,)), ('logs', (9598, 11))]\n",
      "Loading Well:  204-20-2  from  /home/ross/Dropbox/core_data/facies/train_data\n"
     ]
    },
    {
     "name": "stderr",
     "output_type": "stream",
     "text": [
      "Header section Parameter regexp=~P was not found.\n"
     ]
    },
    {
     "name": "stdout",
     "output_type": "stream",
     "text": [
      "Feature shapes:  [('depth', (2940,)), ('top', (2940,)), ('base', (2940,)), ('logs', (2940, 11))]\n",
      "Loading Well:  204-19-7  from  /home/ross/Dropbox/core_data/facies/train_data\n"
     ]
    },
    {
     "name": "stderr",
     "output_type": "stream",
     "text": [
      "Header section Parameter regexp=~P was not found.\n"
     ]
    },
    {
     "name": "stdout",
     "output_type": "stream",
     "text": [
      "Adding NaN log:  DTS\n",
      "Feature shapes:  [('depth', (9807,)), ('top', (9807,)), ('base', (9807,)), ('logs', (9807, 11))]\n",
      "Loading Well:  204-20-1  from  /home/ross/Dropbox/core_data/facies/train_data\n"
     ]
    },
    {
     "name": "stderr",
     "output_type": "stream",
     "text": [
      "Header section Parameter regexp=~P was not found.\n"
     ]
    },
    {
     "name": "stdout",
     "output_type": "stream",
     "text": [
      "Adding NaN log:  DTS1\n",
      "Adding NaN log:  DTS2\n",
      "Feature shapes:  [('depth', (11210,)), ('top', (11210,)), ('base', (11210,)), ('logs', (11210, 11))]\n",
      "Loading Well:  205-21b-3  from  /home/ross/Dropbox/core_data/facies/train_data\n"
     ]
    },
    {
     "name": "stderr",
     "output_type": "stream",
     "text": [
      "Header section Parameter regexp=~P was not found.\n"
     ]
    },
    {
     "name": "stdout",
     "output_type": "stream",
     "text": [
      "Adding NaN log:  SP\n",
      "Adding NaN log:  DTS\n",
      "Feature shapes:  [('depth', (3881,)), ('top', (3881,)), ('base', (3881,)), ('logs', (3881, 11))]\n",
      "Training model for feature:  logs\n",
      "predict_proba:  [[0.00379521 0.8369295  0.05308737 0.04956839 0.01489474 0.04172479]\n",
      " [0.00379521 0.8369295  0.05308737 0.04956839 0.01489474 0.04172479]\n",
      " [0.00379521 0.8369295  0.05308737 0.04956839 0.01489474 0.04172479]\n",
      " ...\n",
      " [0.00408892 0.37323985 0.0950636  0.01848285 0.4461585  0.06296626]\n",
      " [0.00466592 0.28479594 0.10847829 0.02109102 0.5091172  0.07185161]\n",
      " [0.00440329 0.32505313 0.1023723  0.01990386 0.4804602  0.06780725]]\n",
      "Loading Well:  204-19-3A  from  /home/ross/Dropbox/core_data/facies/train_data\n"
     ]
    },
    {
     "name": "stderr",
     "output_type": "stream",
     "text": [
      "Header section Parameter regexp=~P was not found.\n"
     ]
    },
    {
     "name": "stdout",
     "output_type": "stream",
     "text": [
      "Adding NaN log:  DTS\n",
      "Feature shapes:  [('depth', (9598,)), ('top', (9598,)), ('base', (9598,)), ('logs', (9598, 11))]\n",
      "Loading Well:  204-20-1  from  /home/ross/Dropbox/core_data/facies/train_data\n"
     ]
    },
    {
     "name": "stderr",
     "output_type": "stream",
     "text": [
      "Header section Parameter regexp=~P was not found.\n"
     ]
    },
    {
     "name": "stdout",
     "output_type": "stream",
     "text": [
      "Adding NaN log:  DTS1\n",
      "Adding NaN log:  DTS2\n",
      "Feature shapes:  [('depth', (11210,)), ('top', (11210,)), ('base', (11210,)), ('logs', (11210, 11))]\n",
      "Loading Well:  204-19-7  from  /home/ross/Dropbox/core_data/facies/train_data\n"
     ]
    },
    {
     "name": "stderr",
     "output_type": "stream",
     "text": [
      "Header section Parameter regexp=~P was not found.\n"
     ]
    },
    {
     "name": "stdout",
     "output_type": "stream",
     "text": [
      "Adding NaN log:  DTS\n",
      "Feature shapes:  [('depth', (9807,)), ('top', (9807,)), ('base', (9807,)), ('logs', (9807, 11))]\n",
      "Loading Well:  205-21b-3  from  /home/ross/Dropbox/core_data/facies/train_data\n"
     ]
    },
    {
     "name": "stderr",
     "output_type": "stream",
     "text": [
      "Header section Parameter regexp=~P was not found.\n"
     ]
    },
    {
     "name": "stdout",
     "output_type": "stream",
     "text": [
      "Adding NaN log:  SP\n",
      "Adding NaN log:  DTS\n",
      "Feature shapes:  [('depth', (3881,)), ('top', (3881,)), ('base', (3881,)), ('logs', (3881, 11))]\n",
      "Loading Well:  204-20-2  from  /home/ross/Dropbox/core_data/facies/train_data\n"
     ]
    },
    {
     "name": "stderr",
     "output_type": "stream",
     "text": [
      "Header section Parameter regexp=~P was not found.\n"
     ]
    },
    {
     "name": "stdout",
     "output_type": "stream",
     "text": [
      "Feature shapes:  [('depth', (2940,)), ('top', (2940,)), ('base', (2940,)), ('logs', (2940, 11))]\n",
      "Loading Well:  204-20-1Z  from  /home/ross/Dropbox/core_data/facies/train_data\n"
     ]
    },
    {
     "name": "stderr",
     "output_type": "stream",
     "text": [
      "Header section Parameter regexp=~P was not found.\n"
     ]
    },
    {
     "name": "stdout",
     "output_type": "stream",
     "text": [
      "Adding NaN log:  SP\n",
      "Adding NaN log:  DTS1\n",
      "Adding NaN log:  DTS2\n",
      "Feature shapes:  [('depth', (1929,)), ('top', (1929,)), ('base', (1929,)), ('logs', (1929, 11))]\n",
      "Loading Well:  204-20a-7  from  /home/ross/Dropbox/core_data/facies/train_data\n"
     ]
    },
    {
     "name": "stderr",
     "output_type": "stream",
     "text": [
      "Header section Parameter regexp=~P was not found.\n"
     ]
    },
    {
     "name": "stdout",
     "output_type": "stream",
     "text": [
      "Adding NaN log:  DTS1\n",
      "Adding NaN log:  DTS2\n",
      "Feature shapes:  [('depth', (3105,)), ('top', (3105,)), ('base', (3105,)), ('logs', (3105, 11))]\n",
      "Loading Well:  204-24a-6  from  /home/ross/Dropbox/core_data/facies/train_data\n"
     ]
    },
    {
     "name": "stderr",
     "output_type": "stream",
     "text": [
      "Header section Parameter regexp=~P was not found.\n"
     ]
    },
    {
     "name": "stdout",
     "output_type": "stream",
     "text": [
      "Adding NaN log:  SP\n",
      "Adding NaN log:  DTS1\n",
      "Adding NaN log:  DTS2\n",
      "Feature shapes:  [('depth', (13034,)), ('top', (13034,)), ('base', (13034,)), ('logs', (13034, 11))]\n",
      "Loading Well:  204-19-6  from  /home/ross/Dropbox/core_data/facies/train_data\n"
     ]
    },
    {
     "name": "stderr",
     "output_type": "stream",
     "text": [
      "Header section Parameter regexp=~P was not found.\n"
     ]
    },
    {
     "name": "stdout",
     "output_type": "stream",
     "text": [
      "Adding NaN log:  DTS\n",
      "Feature shapes:  [('depth', (1981,)), ('top', (1981,)), ('base', (1981,)), ('logs', (1981, 11))]\n",
      "Loading Well:  204-20-3  from  /home/ross/Dropbox/core_data/facies/train_data\n"
     ]
    },
    {
     "name": "stderr",
     "output_type": "stream",
     "text": [
      "Header section Parameter regexp=~P was not found.\n"
     ]
    },
    {
     "name": "stdout",
     "output_type": "stream",
     "text": [
      "Feature shapes:  [('depth', (10906,)), ('top', (10906,)), ('base', (10906,)), ('logs', (10906, 11))]\n",
      "Loading Well:  204-24a-7  from  /home/ross/Dropbox/core_data/facies/train_data\n"
     ]
    },
    {
     "name": "stderr",
     "output_type": "stream",
     "text": [
      "Header section Parameter regexp=~P was not found.\n"
     ]
    },
    {
     "name": "stdout",
     "output_type": "stream",
     "text": [
      "Adding NaN log:  SP\n",
      "Adding NaN log:  DTS\n",
      "Feature shapes:  [('depth', (19294,)), ('top', (19294,)), ('base', (19294,)), ('logs', (19294, 11))]\n",
      "Loading Well:  204-20-6a  from  /home/ross/Dropbox/core_data/facies/train_data\n"
     ]
    },
    {
     "name": "stderr",
     "output_type": "stream",
     "text": [
      "Header section Parameter regexp=~P was not found.\n"
     ]
    },
    {
     "name": "stdout",
     "output_type": "stream",
     "text": [
      "Adding NaN log:  SP\n",
      "Adding NaN log:  DTS1\n",
      "Adding NaN log:  DTS2\n",
      "Feature shapes:  [('depth', (3542,)), ('top', (3542,)), ('base', (3542,)), ('logs', (3542, 11))]\n",
      "Training model for feature:  logs\n",
      "predict_proba:  [[0.00478861 0.51927304 0.12710229 0.09768566 0.01965373 0.23149669]\n",
      " [0.00482856 0.5236052  0.12816267 0.09850063 0.0198177  0.22508524]\n",
      " [0.00482856 0.5236052  0.12816267 0.09850063 0.0198177  0.22508524]\n",
      " ...\n",
      " [0.00174044 0.841766   0.06599978 0.03691282 0.00695188 0.04662906]\n",
      " [0.00179528 0.8682905  0.03137281 0.03677299 0.00717094 0.05459747]\n",
      " [0.00179528 0.8682905  0.03137281 0.03677299 0.00717094 0.05459747]]\n",
      "Loading Well:  204-20-3  from  /home/ross/Dropbox/core_data/facies/train_data\n"
     ]
    },
    {
     "name": "stderr",
     "output_type": "stream",
     "text": [
      "Header section Parameter regexp=~P was not found.\n"
     ]
    },
    {
     "name": "stdout",
     "output_type": "stream",
     "text": [
      "Feature shapes:  [('depth', (10906,)), ('top', (10906,)), ('base', (10906,)), ('logs', (10906, 11))]\n",
      "Loading Well:  204-20-1  from  /home/ross/Dropbox/core_data/facies/train_data\n"
     ]
    },
    {
     "name": "stderr",
     "output_type": "stream",
     "text": [
      "Header section Parameter regexp=~P was not found.\n"
     ]
    },
    {
     "name": "stdout",
     "output_type": "stream",
     "text": [
      "Adding NaN log:  DTS1\n",
      "Adding NaN log:  DTS2\n",
      "Feature shapes:  [('depth', (11210,)), ('top', (11210,)), ('base', (11210,)), ('logs', (11210, 11))]\n",
      "Loading Well:  204-19-7  from  /home/ross/Dropbox/core_data/facies/train_data\n"
     ]
    },
    {
     "name": "stderr",
     "output_type": "stream",
     "text": [
      "Header section Parameter regexp=~P was not found.\n"
     ]
    },
    {
     "name": "stdout",
     "output_type": "stream",
     "text": [
      "Adding NaN log:  DTS\n",
      "Feature shapes:  [('depth', (9807,)), ('top', (9807,)), ('base', (9807,)), ('logs', (9807, 11))]\n",
      "Loading Well:  205-21b-3  from  /home/ross/Dropbox/core_data/facies/train_data\n"
     ]
    },
    {
     "name": "stderr",
     "output_type": "stream",
     "text": [
      "Header section Parameter regexp=~P was not found.\n"
     ]
    },
    {
     "name": "stdout",
     "output_type": "stream",
     "text": [
      "Adding NaN log:  SP\n",
      "Adding NaN log:  DTS\n",
      "Feature shapes:  [('depth', (3881,)), ('top', (3881,)), ('base', (3881,)), ('logs', (3881, 11))]\n",
      "Loading Well:  204-20-6a  from  /home/ross/Dropbox/core_data/facies/train_data\n"
     ]
    },
    {
     "name": "stderr",
     "output_type": "stream",
     "text": [
      "Header section Parameter regexp=~P was not found.\n"
     ]
    },
    {
     "name": "stdout",
     "output_type": "stream",
     "text": [
      "Adding NaN log:  SP\n",
      "Adding NaN log:  DTS1\n",
      "Adding NaN log:  DTS2\n",
      "Feature shapes:  [('depth', (3542,)), ('top', (3542,)), ('base', (3542,)), ('logs', (3542, 11))]\n",
      "Loading Well:  204-20a-7  from  /home/ross/Dropbox/core_data/facies/train_data\n"
     ]
    },
    {
     "name": "stderr",
     "output_type": "stream",
     "text": [
      "Header section Parameter regexp=~P was not found.\n"
     ]
    },
    {
     "name": "stdout",
     "output_type": "stream",
     "text": [
      "Adding NaN log:  DTS1\n",
      "Adding NaN log:  DTS2\n",
      "Feature shapes:  [('depth', (3105,)), ('top', (3105,)), ('base', (3105,)), ('logs', (3105, 11))]\n",
      "Loading Well:  204-20-1Z  from  /home/ross/Dropbox/core_data/facies/train_data\n"
     ]
    },
    {
     "name": "stderr",
     "output_type": "stream",
     "text": [
      "Header section Parameter regexp=~P was not found.\n"
     ]
    },
    {
     "name": "stdout",
     "output_type": "stream",
     "text": [
      "Adding NaN log:  SP\n",
      "Adding NaN log:  DTS1\n",
      "Adding NaN log:  DTS2\n",
      "Feature shapes:  [('depth', (1929,)), ('top', (1929,)), ('base', (1929,)), ('logs', (1929, 11))]\n",
      "Loading Well:  204-19-3A  from  /home/ross/Dropbox/core_data/facies/train_data\n"
     ]
    },
    {
     "name": "stderr",
     "output_type": "stream",
     "text": [
      "Header section Parameter regexp=~P was not found.\n"
     ]
    },
    {
     "name": "stdout",
     "output_type": "stream",
     "text": [
      "Adding NaN log:  DTS\n",
      "Feature shapes:  [('depth', (9598,)), ('top', (9598,)), ('base', (9598,)), ('logs', (9598, 11))]\n",
      "Loading Well:  204-20-2  from  /home/ross/Dropbox/core_data/facies/train_data\n"
     ]
    },
    {
     "name": "stderr",
     "output_type": "stream",
     "text": [
      "Header section Parameter regexp=~P was not found.\n"
     ]
    },
    {
     "name": "stdout",
     "output_type": "stream",
     "text": [
      "Feature shapes:  [('depth', (2940,)), ('top', (2940,)), ('base', (2940,)), ('logs', (2940, 11))]\n",
      "Loading Well:  204-24a-6  from  /home/ross/Dropbox/core_data/facies/train_data\n"
     ]
    },
    {
     "name": "stderr",
     "output_type": "stream",
     "text": [
      "Header section Parameter regexp=~P was not found.\n"
     ]
    },
    {
     "name": "stdout",
     "output_type": "stream",
     "text": [
      "Adding NaN log:  SP\n",
      "Adding NaN log:  DTS1\n",
      "Adding NaN log:  DTS2\n",
      "Feature shapes:  [('depth', (13034,)), ('top', (13034,)), ('base', (13034,)), ('logs', (13034, 11))]\n",
      "Loading Well:  204-19-6  from  /home/ross/Dropbox/core_data/facies/train_data\n"
     ]
    },
    {
     "name": "stderr",
     "output_type": "stream",
     "text": [
      "Header section Parameter regexp=~P was not found.\n"
     ]
    },
    {
     "name": "stdout",
     "output_type": "stream",
     "text": [
      "Adding NaN log:  DTS\n",
      "Feature shapes:  [('depth', (1981,)), ('top', (1981,)), ('base', (1981,)), ('logs', (1981, 11))]\n",
      "Loading Well:  204-24a-7  from  /home/ross/Dropbox/core_data/facies/train_data\n"
     ]
    },
    {
     "name": "stderr",
     "output_type": "stream",
     "text": [
      "Header section Parameter regexp=~P was not found.\n"
     ]
    },
    {
     "name": "stdout",
     "output_type": "stream",
     "text": [
      "Adding NaN log:  SP\n",
      "Adding NaN log:  DTS\n",
      "Feature shapes:  [('depth', (19294,)), ('top', (19294,)), ('base', (19294,)), ('logs', (19294, 11))]\n",
      "Training model for feature:  logs\n",
      "predict_proba:  [[0.00805126 0.0806234  0.09653197 0.15590517 0.56369144 0.09519674]\n",
      " [0.00805126 0.0806234  0.09653197 0.15590517 0.56369144 0.09519674]\n",
      " [0.00805126 0.0806234  0.09653197 0.15590517 0.56369144 0.09519674]\n",
      " ...\n",
      " [0.00160444 0.2737282  0.18846858 0.37499118 0.00724516 0.15396245]\n",
      " [0.00160444 0.2737282  0.18846858 0.37499118 0.00724516 0.15396245]\n",
      " [0.00160444 0.2737282  0.18846858 0.37499118 0.00724516 0.15396245]]\n",
      "Loading Well:  204-19-6  from  /home/ross/Dropbox/core_data/facies/train_data\n"
     ]
    },
    {
     "name": "stderr",
     "output_type": "stream",
     "text": [
      "Header section Parameter regexp=~P was not found.\n"
     ]
    },
    {
     "name": "stdout",
     "output_type": "stream",
     "text": [
      "Adding NaN log:  DTS\n",
      "Feature shapes:  [('depth', (1981,)), ('top', (1981,)), ('base', (1981,)), ('logs', (1981, 11))]\n",
      "Loading Well:  204-20-1Z  from  /home/ross/Dropbox/core_data/facies/train_data\n"
     ]
    },
    {
     "name": "stderr",
     "output_type": "stream",
     "text": [
      "Header section Parameter regexp=~P was not found.\n"
     ]
    },
    {
     "name": "stdout",
     "output_type": "stream",
     "text": [
      "Adding NaN log:  SP\n",
      "Adding NaN log:  DTS1\n",
      "Adding NaN log:  DTS2\n",
      "Feature shapes:  [('depth', (1929,)), ('top', (1929,)), ('base', (1929,)), ('logs', (1929, 11))]\n",
      "Loading Well:  204-24a-6  from  /home/ross/Dropbox/core_data/facies/train_data\n"
     ]
    },
    {
     "name": "stderr",
     "output_type": "stream",
     "text": [
      "Header section Parameter regexp=~P was not found.\n"
     ]
    },
    {
     "name": "stdout",
     "output_type": "stream",
     "text": [
      "Adding NaN log:  SP\n",
      "Adding NaN log:  DTS1\n",
      "Adding NaN log:  DTS2\n",
      "Feature shapes:  [('depth', (13034,)), ('top', (13034,)), ('base', (13034,)), ('logs', (13034, 11))]\n",
      "Loading Well:  204-24a-7  from  /home/ross/Dropbox/core_data/facies/train_data\n"
     ]
    },
    {
     "name": "stderr",
     "output_type": "stream",
     "text": [
      "Header section Parameter regexp=~P was not found.\n"
     ]
    },
    {
     "name": "stdout",
     "output_type": "stream",
     "text": [
      "Adding NaN log:  SP\n",
      "Adding NaN log:  DTS\n",
      "Feature shapes:  [('depth', (19294,)), ('top', (19294,)), ('base', (19294,)), ('logs', (19294, 11))]\n",
      "Loading Well:  204-20-2  from  /home/ross/Dropbox/core_data/facies/train_data\n"
     ]
    },
    {
     "name": "stderr",
     "output_type": "stream",
     "text": [
      "Header section Parameter regexp=~P was not found.\n"
     ]
    },
    {
     "name": "stdout",
     "output_type": "stream",
     "text": [
      "Feature shapes:  [('depth', (2940,)), ('top', (2940,)), ('base', (2940,)), ('logs', (2940, 11))]\n",
      "Loading Well:  204-20-6a  from  /home/ross/Dropbox/core_data/facies/train_data\n"
     ]
    },
    {
     "name": "stderr",
     "output_type": "stream",
     "text": [
      "Header section Parameter regexp=~P was not found.\n"
     ]
    },
    {
     "name": "stdout",
     "output_type": "stream",
     "text": [
      "Adding NaN log:  SP\n",
      "Adding NaN log:  DTS1\n",
      "Adding NaN log:  DTS2\n",
      "Feature shapes:  [('depth', (3542,)), ('top', (3542,)), ('base', (3542,)), ('logs', (3542, 11))]\n",
      "Loading Well:  204-19-3A  from  /home/ross/Dropbox/core_data/facies/train_data\n"
     ]
    },
    {
     "name": "stderr",
     "output_type": "stream",
     "text": [
      "Header section Parameter regexp=~P was not found.\n"
     ]
    },
    {
     "name": "stdout",
     "output_type": "stream",
     "text": [
      "Adding NaN log:  DTS\n",
      "Feature shapes:  [('depth', (9598,)), ('top', (9598,)), ('base', (9598,)), ('logs', (9598, 11))]\n",
      "Loading Well:  204-20a-7  from  /home/ross/Dropbox/core_data/facies/train_data\n"
     ]
    },
    {
     "name": "stderr",
     "output_type": "stream",
     "text": [
      "Header section Parameter regexp=~P was not found.\n"
     ]
    },
    {
     "name": "stdout",
     "output_type": "stream",
     "text": [
      "Adding NaN log:  DTS1\n",
      "Adding NaN log:  DTS2\n",
      "Feature shapes:  [('depth', (3105,)), ('top', (3105,)), ('base', (3105,)), ('logs', (3105, 11))]\n",
      "Loading Well:  204-19-7  from  /home/ross/Dropbox/core_data/facies/train_data\n"
     ]
    },
    {
     "name": "stderr",
     "output_type": "stream",
     "text": [
      "Header section Parameter regexp=~P was not found.\n"
     ]
    },
    {
     "name": "stdout",
     "output_type": "stream",
     "text": [
      "Adding NaN log:  DTS\n",
      "Feature shapes:  [('depth', (9807,)), ('top', (9807,)), ('base', (9807,)), ('logs', (9807, 11))]\n",
      "Loading Well:  204-20-3  from  /home/ross/Dropbox/core_data/facies/train_data\n"
     ]
    },
    {
     "name": "stderr",
     "output_type": "stream",
     "text": [
      "Header section Parameter regexp=~P was not found.\n"
     ]
    },
    {
     "name": "stdout",
     "output_type": "stream",
     "text": [
      "Feature shapes:  [('depth', (10906,)), ('top', (10906,)), ('base', (10906,)), ('logs', (10906, 11))]\n",
      "Loading Well:  204-20-1  from  /home/ross/Dropbox/core_data/facies/train_data\n"
     ]
    },
    {
     "name": "stderr",
     "output_type": "stream",
     "text": [
      "Header section Parameter regexp=~P was not found.\n"
     ]
    },
    {
     "name": "stdout",
     "output_type": "stream",
     "text": [
      "Adding NaN log:  DTS1\n",
      "Adding NaN log:  DTS2\n",
      "Feature shapes:  [('depth', (11210,)), ('top', (11210,)), ('base', (11210,)), ('logs', (11210, 11))]\n",
      "Loading Well:  205-21b-3  from  /home/ross/Dropbox/core_data/facies/train_data\n"
     ]
    },
    {
     "name": "stderr",
     "output_type": "stream",
     "text": [
      "Header section Parameter regexp=~P was not found.\n"
     ]
    },
    {
     "name": "stdout",
     "output_type": "stream",
     "text": [
      "Adding NaN log:  SP\n",
      "Adding NaN log:  DTS\n",
      "Feature shapes:  [('depth', (3881,)), ('top', (3881,)), ('base', (3881,)), ('logs', (3881, 11))]\n",
      "Training model for feature:  logs\n",
      "predict_proba:  [[0.00270308 0.12212662 0.22137338 0.09952435 0.40695727 0.14731534]\n",
      " [0.00270774 0.1223372  0.22175509 0.09797163 0.407659   0.14756936]\n",
      " [0.00257599 0.11638436 0.21096465 0.14186366 0.38782263 0.14038874]\n",
      " ...\n",
      " [0.00341249 0.29205406 0.08975779 0.0807491  0.45802605 0.07600053]\n",
      " [0.00341249 0.29205406 0.08975779 0.0807491  0.45802605 0.07600053]\n",
      " [0.00316048 0.27048656 0.0831294  0.1473022  0.42420197 0.07171936]]\n",
      "Loading Well:  204-19-3A  from  /home/ross/Dropbox/core_data/facies/train_data\n"
     ]
    },
    {
     "name": "stderr",
     "output_type": "stream",
     "text": [
      "Header section Parameter regexp=~P was not found.\n"
     ]
    },
    {
     "name": "stdout",
     "output_type": "stream",
     "text": [
      "Adding NaN log:  DTS\n",
      "Feature shapes:  [('depth', (9598,)), ('top', (9598,)), ('base', (9598,)), ('logs', (9598, 11))]\n",
      "Loading Well:  204-20-1  from  /home/ross/Dropbox/core_data/facies/train_data\n"
     ]
    },
    {
     "name": "stderr",
     "output_type": "stream",
     "text": [
      "Header section Parameter regexp=~P was not found.\n"
     ]
    },
    {
     "name": "stdout",
     "output_type": "stream",
     "text": [
      "Adding NaN log:  DTS1\n",
      "Adding NaN log:  DTS2\n",
      "Feature shapes:  [('depth', (11210,)), ('top', (11210,)), ('base', (11210,)), ('logs', (11210, 11))]\n",
      "Loading Well:  204-20-3  from  /home/ross/Dropbox/core_data/facies/train_data\n"
     ]
    },
    {
     "name": "stderr",
     "output_type": "stream",
     "text": [
      "Header section Parameter regexp=~P was not found.\n"
     ]
    },
    {
     "name": "stdout",
     "output_type": "stream",
     "text": [
      "Feature shapes:  [('depth', (10906,)), ('top', (10906,)), ('base', (10906,)), ('logs', (10906, 11))]\n",
      "Loading Well:  204-20a-7  from  /home/ross/Dropbox/core_data/facies/train_data\n"
     ]
    },
    {
     "name": "stderr",
     "output_type": "stream",
     "text": [
      "Header section Parameter regexp=~P was not found.\n"
     ]
    },
    {
     "name": "stdout",
     "output_type": "stream",
     "text": [
      "Adding NaN log:  DTS1\n",
      "Adding NaN log:  DTS2\n",
      "Feature shapes:  [('depth', (3105,)), ('top', (3105,)), ('base', (3105,)), ('logs', (3105, 11))]\n",
      "Loading Well:  205-21b-3  from  /home/ross/Dropbox/core_data/facies/train_data\n"
     ]
    },
    {
     "name": "stderr",
     "output_type": "stream",
     "text": [
      "Header section Parameter regexp=~P was not found.\n"
     ]
    },
    {
     "name": "stdout",
     "output_type": "stream",
     "text": [
      "Adding NaN log:  SP\n",
      "Adding NaN log:  DTS\n",
      "Feature shapes:  [('depth', (3881,)), ('top', (3881,)), ('base', (3881,)), ('logs', (3881, 11))]\n",
      "Loading Well:  204-19-7  from  /home/ross/Dropbox/core_data/facies/train_data\n"
     ]
    },
    {
     "name": "stderr",
     "output_type": "stream",
     "text": [
      "Header section Parameter regexp=~P was not found.\n"
     ]
    },
    {
     "name": "stdout",
     "output_type": "stream",
     "text": [
      "Adding NaN log:  DTS\n",
      "Feature shapes:  [('depth', (9807,)), ('top', (9807,)), ('base', (9807,)), ('logs', (9807, 11))]\n",
      "Loading Well:  204-20-1Z  from  /home/ross/Dropbox/core_data/facies/train_data\n"
     ]
    },
    {
     "name": "stderr",
     "output_type": "stream",
     "text": [
      "Header section Parameter regexp=~P was not found.\n"
     ]
    },
    {
     "name": "stdout",
     "output_type": "stream",
     "text": [
      "Adding NaN log:  SP\n",
      "Adding NaN log:  DTS1\n",
      "Adding NaN log:  DTS2\n",
      "Feature shapes:  [('depth', (1929,)), ('top', (1929,)), ('base', (1929,)), ('logs', (1929, 11))]\n",
      "Loading Well:  204-20-2  from  /home/ross/Dropbox/core_data/facies/train_data\n"
     ]
    },
    {
     "name": "stderr",
     "output_type": "stream",
     "text": [
      "Header section Parameter regexp=~P was not found.\n"
     ]
    },
    {
     "name": "stdout",
     "output_type": "stream",
     "text": [
      "Feature shapes:  [('depth', (2940,)), ('top', (2940,)), ('base', (2940,)), ('logs', (2940, 11))]\n",
      "Loading Well:  204-24a-6  from  /home/ross/Dropbox/core_data/facies/train_data\n"
     ]
    },
    {
     "name": "stderr",
     "output_type": "stream",
     "text": [
      "Header section Parameter regexp=~P was not found.\n"
     ]
    },
    {
     "name": "stdout",
     "output_type": "stream",
     "text": [
      "Adding NaN log:  SP\n",
      "Adding NaN log:  DTS1\n",
      "Adding NaN log:  DTS2\n",
      "Feature shapes:  [('depth', (13034,)), ('top', (13034,)), ('base', (13034,)), ('logs', (13034, 11))]\n",
      "Loading Well:  204-19-6  from  /home/ross/Dropbox/core_data/facies/train_data\n"
     ]
    },
    {
     "name": "stderr",
     "output_type": "stream",
     "text": [
      "Header section Parameter regexp=~P was not found.\n"
     ]
    },
    {
     "name": "stdout",
     "output_type": "stream",
     "text": [
      "Adding NaN log:  DTS\n",
      "Feature shapes:  [('depth', (1981,)), ('top', (1981,)), ('base', (1981,)), ('logs', (1981, 11))]\n",
      "Loading Well:  204-24a-7  from  /home/ross/Dropbox/core_data/facies/train_data\n"
     ]
    },
    {
     "name": "stderr",
     "output_type": "stream",
     "text": [
      "Header section Parameter regexp=~P was not found.\n"
     ]
    },
    {
     "name": "stdout",
     "output_type": "stream",
     "text": [
      "Adding NaN log:  SP\n",
      "Adding NaN log:  DTS\n",
      "Feature shapes:  [('depth', (19294,)), ('top', (19294,)), ('base', (19294,)), ('logs', (19294, 11))]\n",
      "Loading Well:  204-20-6a  from  /home/ross/Dropbox/core_data/facies/train_data\n"
     ]
    },
    {
     "name": "stderr",
     "output_type": "stream",
     "text": [
      "Header section Parameter regexp=~P was not found.\n"
     ]
    },
    {
     "name": "stdout",
     "output_type": "stream",
     "text": [
      "Adding NaN log:  SP\n",
      "Adding NaN log:  DTS1\n",
      "Adding NaN log:  DTS2\n",
      "Feature shapes:  [('depth', (3542,)), ('top', (3542,)), ('base', (3542,)), ('logs', (3542, 11))]\n",
      "Training model for feature:  logs\n",
      "predict_proba:  [[0.00304909 0.08638444 0.16377863 0.08901837 0.60956305 0.0482064 ]\n",
      " [0.00304033 0.08613627 0.16330814 0.08876265 0.6078119  0.05094066]\n",
      " [0.00304033 0.08613627 0.16330814 0.08876265 0.6078119  0.05094066]\n",
      " ...\n",
      " [0.00460944 0.31660894 0.19299147 0.20266075 0.24920578 0.03392363]\n",
      " [0.00459796 0.31582037 0.19251078 0.20215599 0.24858509 0.03632985]\n",
      " [0.00459195 0.31540763 0.1922592  0.20189181 0.24826023 0.03758918]]\n"
     ]
    }
   ],
   "source": [
    "preds_df_6 = pred_results_df(6, make_params_usable(best_params_6))\n",
    "preds_df_6.to_csv('logs_xgb_results_train_sets6_ALL.csv')"
   ]
  },
  {
   "cell_type": "code",
   "execution_count": 15,
   "metadata": {},
   "outputs": [
    {
     "name": "stdout",
     "output_type": "stream",
     "text": [
      "Loading Well:  204-19-3A  from  /home/ross/Dropbox/core_data/facies/train_data\n"
     ]
    },
    {
     "name": "stderr",
     "output_type": "stream",
     "text": [
      "Header section Parameter regexp=~P was not found.\n"
     ]
    },
    {
     "name": "stdout",
     "output_type": "stream",
     "text": [
      "Adding NaN log:  DTS\n",
      "Feature shapes:  [('depth', (9598,)), ('top', (9598,)), ('base', (9598,)), ('logs', (9598, 11))]\n",
      "Loading Well:  204-20-1  from  /home/ross/Dropbox/core_data/facies/train_data\n"
     ]
    },
    {
     "name": "stderr",
     "output_type": "stream",
     "text": [
      "Header section Parameter regexp=~P was not found.\n"
     ]
    },
    {
     "name": "stdout",
     "output_type": "stream",
     "text": [
      "Adding NaN log:  DTS1\n",
      "Adding NaN log:  DTS2\n",
      "Feature shapes:  [('depth', (11210,)), ('top', (11210,)), ('base', (11210,)), ('logs', (11210, 11))]\n",
      "Loading Well:  204-19-7  from  /home/ross/Dropbox/core_data/facies/train_data\n"
     ]
    },
    {
     "name": "stderr",
     "output_type": "stream",
     "text": [
      "Header section Parameter regexp=~P was not found.\n"
     ]
    },
    {
     "name": "stdout",
     "output_type": "stream",
     "text": [
      "Adding NaN log:  DTS\n",
      "Feature shapes:  [('depth', (9807,)), ('top', (9807,)), ('base', (9807,)), ('logs', (9807, 11))]\n",
      "Loading Well:  205-21b-3  from  /home/ross/Dropbox/core_data/facies/train_data\n"
     ]
    },
    {
     "name": "stderr",
     "output_type": "stream",
     "text": [
      "Header section Parameter regexp=~P was not found.\n"
     ]
    },
    {
     "name": "stdout",
     "output_type": "stream",
     "text": [
      "Adding NaN log:  SP\n",
      "Adding NaN log:  DTS\n",
      "Feature shapes:  [('depth', (3881,)), ('top', (3881,)), ('base', (3881,)), ('logs', (3881, 11))]\n",
      "Loading Well:  204-20-6a  from  /home/ross/Dropbox/core_data/facies/train_data\n"
     ]
    },
    {
     "name": "stderr",
     "output_type": "stream",
     "text": [
      "Header section Parameter regexp=~P was not found.\n"
     ]
    },
    {
     "name": "stdout",
     "output_type": "stream",
     "text": [
      "Adding NaN log:  SP\n",
      "Adding NaN log:  DTS1\n",
      "Adding NaN log:  DTS2\n",
      "Feature shapes:  [('depth', (3542,)), ('top', (3542,)), ('base', (3542,)), ('logs', (3542, 11))]\n",
      "Loading Well:  204-20a-7  from  /home/ross/Dropbox/core_data/facies/train_data\n"
     ]
    },
    {
     "name": "stderr",
     "output_type": "stream",
     "text": [
      "Header section Parameter regexp=~P was not found.\n"
     ]
    },
    {
     "name": "stdout",
     "output_type": "stream",
     "text": [
      "Adding NaN log:  DTS1\n",
      "Adding NaN log:  DTS2\n",
      "Feature shapes:  [('depth', (3105,)), ('top', (3105,)), ('base', (3105,)), ('logs', (3105, 11))]\n",
      "Loading Well:  204-20-2  from  /home/ross/Dropbox/core_data/facies/train_data\n"
     ]
    },
    {
     "name": "stderr",
     "output_type": "stream",
     "text": [
      "Header section Parameter regexp=~P was not found.\n"
     ]
    },
    {
     "name": "stdout",
     "output_type": "stream",
     "text": [
      "Feature shapes:  [('depth', (2940,)), ('top', (2940,)), ('base', (2940,)), ('logs', (2940, 11))]\n",
      "Loading Well:  204-19-6  from  /home/ross/Dropbox/core_data/facies/train_data\n"
     ]
    },
    {
     "name": "stderr",
     "output_type": "stream",
     "text": [
      "Header section Parameter regexp=~P was not found.\n"
     ]
    },
    {
     "name": "stdout",
     "output_type": "stream",
     "text": [
      "Adding NaN log:  DTS\n",
      "Feature shapes:  [('depth', (1981,)), ('top', (1981,)), ('base', (1981,)), ('logs', (1981, 11))]\n",
      "Loading Well:  204-20-1Z  from  /home/ross/Dropbox/core_data/facies/train_data\n"
     ]
    },
    {
     "name": "stderr",
     "output_type": "stream",
     "text": [
      "Header section Parameter regexp=~P was not found.\n"
     ]
    },
    {
     "name": "stdout",
     "output_type": "stream",
     "text": [
      "Adding NaN log:  SP\n",
      "Adding NaN log:  DTS1\n",
      "Adding NaN log:  DTS2\n",
      "Feature shapes:  [('depth', (1929,)), ('top', (1929,)), ('base', (1929,)), ('logs', (1929, 11))]\n",
      "Loading Well:  204-24a-6  from  /home/ross/Dropbox/core_data/facies/train_data\n"
     ]
    },
    {
     "name": "stderr",
     "output_type": "stream",
     "text": [
      "Header section Parameter regexp=~P was not found.\n"
     ]
    },
    {
     "name": "stdout",
     "output_type": "stream",
     "text": [
      "Adding NaN log:  SP\n",
      "Adding NaN log:  DTS1\n",
      "Adding NaN log:  DTS2\n",
      "Feature shapes:  [('depth', (13034,)), ('top', (13034,)), ('base', (13034,)), ('logs', (13034, 11))]\n",
      "Loading Well:  204-20-3  from  /home/ross/Dropbox/core_data/facies/train_data\n"
     ]
    },
    {
     "name": "stderr",
     "output_type": "stream",
     "text": [
      "Header section Parameter regexp=~P was not found.\n"
     ]
    },
    {
     "name": "stdout",
     "output_type": "stream",
     "text": [
      "Feature shapes:  [('depth', (10906,)), ('top', (10906,)), ('base', (10906,)), ('logs', (10906, 11))]\n",
      "Loading Well:  204-24a-7  from  /home/ross/Dropbox/core_data/facies/train_data\n"
     ]
    },
    {
     "name": "stderr",
     "output_type": "stream",
     "text": [
      "Header section Parameter regexp=~P was not found.\n"
     ]
    },
    {
     "name": "stdout",
     "output_type": "stream",
     "text": [
      "Adding NaN log:  SP\n",
      "Adding NaN log:  DTS\n",
      "Feature shapes:  [('depth', (19294,)), ('top', (19294,)), ('base', (19294,)), ('logs', (19294, 11))]\n",
      "Training model for feature:  logs\n",
      "predict_proba:  [[0.07265349 0.3253344  0.12554917 0.1844452  0.11991911 0.17209867]\n",
      " [0.07265349 0.3253344  0.12554917 0.1844452  0.11991911 0.17209867]\n",
      " [0.07152142 0.3202651  0.12359289 0.18157122 0.11805055 0.18499878]\n",
      " ...\n",
      " [0.05645284 0.3226407  0.10027415 0.27068913 0.06168002 0.18826321]\n",
      " [0.05648914 0.3228481  0.0996957  0.27086315 0.06171967 0.18838423]\n",
      " [0.05648914 0.3228481  0.0996957  0.27086315 0.06171967 0.18838423]]\n",
      "Loading Well:  204-24a-7  from  /home/ross/Dropbox/core_data/facies/train_data\n"
     ]
    },
    {
     "name": "stderr",
     "output_type": "stream",
     "text": [
      "Header section Parameter regexp=~P was not found.\n"
     ]
    },
    {
     "name": "stdout",
     "output_type": "stream",
     "text": [
      "Adding NaN log:  SP\n",
      "Adding NaN log:  DTS\n",
      "Feature shapes:  [('depth', (19294,)), ('top', (19294,)), ('base', (19294,)), ('logs', (19294, 11))]\n",
      "Loading Well:  204-24a-6  from  /home/ross/Dropbox/core_data/facies/train_data\n"
     ]
    },
    {
     "name": "stderr",
     "output_type": "stream",
     "text": [
      "Header section Parameter regexp=~P was not found.\n"
     ]
    },
    {
     "name": "stdout",
     "output_type": "stream",
     "text": [
      "Adding NaN log:  SP\n",
      "Adding NaN log:  DTS1\n",
      "Adding NaN log:  DTS2\n",
      "Feature shapes:  [('depth', (13034,)), ('top', (13034,)), ('base', (13034,)), ('logs', (13034, 11))]\n",
      "Loading Well:  204-19-3A  from  /home/ross/Dropbox/core_data/facies/train_data\n"
     ]
    },
    {
     "name": "stderr",
     "output_type": "stream",
     "text": [
      "Header section Parameter regexp=~P was not found.\n"
     ]
    },
    {
     "name": "stdout",
     "output_type": "stream",
     "text": [
      "Adding NaN log:  DTS\n",
      "Feature shapes:  [('depth', (9598,)), ('top', (9598,)), ('base', (9598,)), ('logs', (9598, 11))]\n",
      "Loading Well:  204-19-7  from  /home/ross/Dropbox/core_data/facies/train_data\n"
     ]
    },
    {
     "name": "stderr",
     "output_type": "stream",
     "text": [
      "Header section Parameter regexp=~P was not found.\n"
     ]
    },
    {
     "name": "stdout",
     "output_type": "stream",
     "text": [
      "Adding NaN log:  DTS\n",
      "Feature shapes:  [('depth', (9807,)), ('top', (9807,)), ('base', (9807,)), ('logs', (9807, 11))]\n",
      "Loading Well:  205-21b-3  from  /home/ross/Dropbox/core_data/facies/train_data\n"
     ]
    },
    {
     "name": "stderr",
     "output_type": "stream",
     "text": [
      "Header section Parameter regexp=~P was not found.\n"
     ]
    },
    {
     "name": "stdout",
     "output_type": "stream",
     "text": [
      "Adding NaN log:  SP\n",
      "Adding NaN log:  DTS\n",
      "Feature shapes:  [('depth', (3881,)), ('top', (3881,)), ('base', (3881,)), ('logs', (3881, 11))]\n",
      "Loading Well:  204-20-6a  from  /home/ross/Dropbox/core_data/facies/train_data\n"
     ]
    },
    {
     "name": "stderr",
     "output_type": "stream",
     "text": [
      "Header section Parameter regexp=~P was not found.\n"
     ]
    },
    {
     "name": "stdout",
     "output_type": "stream",
     "text": [
      "Adding NaN log:  SP\n",
      "Adding NaN log:  DTS1\n",
      "Adding NaN log:  DTS2\n",
      "Feature shapes:  [('depth', (3542,)), ('top', (3542,)), ('base', (3542,)), ('logs', (3542, 11))]\n",
      "Loading Well:  204-20a-7  from  /home/ross/Dropbox/core_data/facies/train_data\n"
     ]
    },
    {
     "name": "stderr",
     "output_type": "stream",
     "text": [
      "Header section Parameter regexp=~P was not found.\n"
     ]
    },
    {
     "name": "stdout",
     "output_type": "stream",
     "text": [
      "Adding NaN log:  DTS1\n",
      "Adding NaN log:  DTS2\n",
      "Feature shapes:  [('depth', (3105,)), ('top', (3105,)), ('base', (3105,)), ('logs', (3105, 11))]\n",
      "Loading Well:  204-20-2  from  /home/ross/Dropbox/core_data/facies/train_data\n"
     ]
    },
    {
     "name": "stderr",
     "output_type": "stream",
     "text": [
      "Header section Parameter regexp=~P was not found.\n"
     ]
    },
    {
     "name": "stdout",
     "output_type": "stream",
     "text": [
      "Feature shapes:  [('depth', (2940,)), ('top', (2940,)), ('base', (2940,)), ('logs', (2940, 11))]\n",
      "Loading Well:  204-20-1Z  from  /home/ross/Dropbox/core_data/facies/train_data\n"
     ]
    },
    {
     "name": "stderr",
     "output_type": "stream",
     "text": [
      "Header section Parameter regexp=~P was not found.\n"
     ]
    },
    {
     "name": "stdout",
     "output_type": "stream",
     "text": [
      "Adding NaN log:  SP\n",
      "Adding NaN log:  DTS1\n",
      "Adding NaN log:  DTS2\n",
      "Feature shapes:  [('depth', (1929,)), ('top', (1929,)), ('base', (1929,)), ('logs', (1929, 11))]\n",
      "Loading Well:  204-19-6  from  /home/ross/Dropbox/core_data/facies/train_data\n"
     ]
    },
    {
     "name": "stderr",
     "output_type": "stream",
     "text": [
      "Header section Parameter regexp=~P was not found.\n"
     ]
    },
    {
     "name": "stdout",
     "output_type": "stream",
     "text": [
      "Adding NaN log:  DTS\n",
      "Feature shapes:  [('depth', (1981,)), ('top', (1981,)), ('base', (1981,)), ('logs', (1981, 11))]\n",
      "Loading Well:  204-20-3  from  /home/ross/Dropbox/core_data/facies/train_data\n"
     ]
    },
    {
     "name": "stderr",
     "output_type": "stream",
     "text": [
      "Header section Parameter regexp=~P was not found.\n"
     ]
    },
    {
     "name": "stdout",
     "output_type": "stream",
     "text": [
      "Feature shapes:  [('depth', (10906,)), ('top', (10906,)), ('base', (10906,)), ('logs', (10906, 11))]\n",
      "Loading Well:  204-20-1  from  /home/ross/Dropbox/core_data/facies/train_data\n"
     ]
    },
    {
     "name": "stderr",
     "output_type": "stream",
     "text": [
      "Header section Parameter regexp=~P was not found.\n"
     ]
    },
    {
     "name": "stdout",
     "output_type": "stream",
     "text": [
      "Adding NaN log:  DTS1\n",
      "Adding NaN log:  DTS2\n",
      "Feature shapes:  [('depth', (11210,)), ('top', (11210,)), ('base', (11210,)), ('logs', (11210, 11))]\n",
      "Training model for feature:  logs\n",
      "predict_proba:  [[0.08958732 0.21477908 0.25527883 0.17883977 0.13216352 0.12935151]\n",
      " [0.08934361 0.21419482 0.2545844  0.18255866 0.131804   0.1275145 ]\n",
      " [0.08921356 0.21388303 0.2542138  0.18002301 0.134029   0.12863758]\n",
      " ...\n",
      " [0.07093444 0.1420296  0.1640666  0.09763847 0.40739244 0.1179385 ]\n",
      " [0.07093444 0.1420296  0.1640666  0.09763847 0.40739244 0.1179385 ]\n",
      " [0.07093444 0.1420296  0.1640666  0.09763847 0.40739244 0.1179385 ]]\n",
      "Loading Well:  204-24a-7  from  /home/ross/Dropbox/core_data/facies/train_data\n"
     ]
    },
    {
     "name": "stderr",
     "output_type": "stream",
     "text": [
      "Header section Parameter regexp=~P was not found.\n"
     ]
    },
    {
     "name": "stdout",
     "output_type": "stream",
     "text": [
      "Adding NaN log:  SP\n",
      "Adding NaN log:  DTS\n",
      "Feature shapes:  [('depth', (19294,)), ('top', (19294,)), ('base', (19294,)), ('logs', (19294, 11))]\n",
      "Loading Well:  204-24a-6  from  /home/ross/Dropbox/core_data/facies/train_data\n"
     ]
    },
    {
     "name": "stderr",
     "output_type": "stream",
     "text": [
      "Header section Parameter regexp=~P was not found.\n"
     ]
    },
    {
     "name": "stdout",
     "output_type": "stream",
     "text": [
      "Adding NaN log:  SP\n",
      "Adding NaN log:  DTS1\n",
      "Adding NaN log:  DTS2\n",
      "Feature shapes:  [('depth', (13034,)), ('top', (13034,)), ('base', (13034,)), ('logs', (13034, 11))]\n",
      "Loading Well:  204-20-3  from  /home/ross/Dropbox/core_data/facies/train_data\n"
     ]
    },
    {
     "name": "stderr",
     "output_type": "stream",
     "text": [
      "Header section Parameter regexp=~P was not found.\n"
     ]
    },
    {
     "name": "stdout",
     "output_type": "stream",
     "text": [
      "Feature shapes:  [('depth', (10906,)), ('top', (10906,)), ('base', (10906,)), ('logs', (10906, 11))]\n",
      "Loading Well:  204-20-1  from  /home/ross/Dropbox/core_data/facies/train_data\n"
     ]
    },
    {
     "name": "stderr",
     "output_type": "stream",
     "text": [
      "Header section Parameter regexp=~P was not found.\n"
     ]
    },
    {
     "name": "stdout",
     "output_type": "stream",
     "text": [
      "Adding NaN log:  DTS1\n",
      "Adding NaN log:  DTS2\n",
      "Feature shapes:  [('depth', (11210,)), ('top', (11210,)), ('base', (11210,)), ('logs', (11210, 11))]\n",
      "Loading Well:  204-20-6a  from  /home/ross/Dropbox/core_data/facies/train_data\n"
     ]
    },
    {
     "name": "stderr",
     "output_type": "stream",
     "text": [
      "Header section Parameter regexp=~P was not found.\n"
     ]
    },
    {
     "name": "stdout",
     "output_type": "stream",
     "text": [
      "Adding NaN log:  SP\n",
      "Adding NaN log:  DTS1\n",
      "Adding NaN log:  DTS2\n",
      "Feature shapes:  [('depth', (3542,)), ('top', (3542,)), ('base', (3542,)), ('logs', (3542, 11))]\n",
      "Loading Well:  204-20a-7  from  /home/ross/Dropbox/core_data/facies/train_data\n"
     ]
    },
    {
     "name": "stderr",
     "output_type": "stream",
     "text": [
      "Header section Parameter regexp=~P was not found.\n"
     ]
    },
    {
     "name": "stdout",
     "output_type": "stream",
     "text": [
      "Adding NaN log:  DTS1\n",
      "Adding NaN log:  DTS2\n",
      "Feature shapes:  [('depth', (3105,)), ('top', (3105,)), ('base', (3105,)), ('logs', (3105, 11))]\n",
      "Loading Well:  204-20-2  from  /home/ross/Dropbox/core_data/facies/train_data\n"
     ]
    },
    {
     "name": "stderr",
     "output_type": "stream",
     "text": [
      "Header section Parameter regexp=~P was not found.\n"
     ]
    },
    {
     "name": "stdout",
     "output_type": "stream",
     "text": [
      "Feature shapes:  [('depth', (2940,)), ('top', (2940,)), ('base', (2940,)), ('logs', (2940, 11))]\n",
      "Loading Well:  204-19-6  from  /home/ross/Dropbox/core_data/facies/train_data\n"
     ]
    },
    {
     "name": "stderr",
     "output_type": "stream",
     "text": [
      "Header section Parameter regexp=~P was not found.\n"
     ]
    },
    {
     "name": "stdout",
     "output_type": "stream",
     "text": [
      "Adding NaN log:  DTS\n",
      "Feature shapes:  [('depth', (1981,)), ('top', (1981,)), ('base', (1981,)), ('logs', (1981, 11))]\n",
      "Loading Well:  204-20-1Z  from  /home/ross/Dropbox/core_data/facies/train_data\n"
     ]
    },
    {
     "name": "stderr",
     "output_type": "stream",
     "text": [
      "Header section Parameter regexp=~P was not found.\n"
     ]
    },
    {
     "name": "stdout",
     "output_type": "stream",
     "text": [
      "Adding NaN log:  SP\n",
      "Adding NaN log:  DTS1\n",
      "Adding NaN log:  DTS2\n",
      "Feature shapes:  [('depth', (1929,)), ('top', (1929,)), ('base', (1929,)), ('logs', (1929, 11))]\n",
      "Loading Well:  204-19-3A  from  /home/ross/Dropbox/core_data/facies/train_data\n"
     ]
    },
    {
     "name": "stderr",
     "output_type": "stream",
     "text": [
      "Header section Parameter regexp=~P was not found.\n"
     ]
    },
    {
     "name": "stdout",
     "output_type": "stream",
     "text": [
      "Adding NaN log:  DTS\n",
      "Feature shapes:  [('depth', (9598,)), ('top', (9598,)), ('base', (9598,)), ('logs', (9598, 11))]\n",
      "Loading Well:  204-19-7  from  /home/ross/Dropbox/core_data/facies/train_data\n"
     ]
    },
    {
     "name": "stderr",
     "output_type": "stream",
     "text": [
      "Header section Parameter regexp=~P was not found.\n"
     ]
    },
    {
     "name": "stdout",
     "output_type": "stream",
     "text": [
      "Adding NaN log:  DTS\n",
      "Feature shapes:  [('depth', (9807,)), ('top', (9807,)), ('base', (9807,)), ('logs', (9807, 11))]\n",
      "Loading Well:  205-21b-3  from  /home/ross/Dropbox/core_data/facies/train_data\n"
     ]
    },
    {
     "name": "stderr",
     "output_type": "stream",
     "text": [
      "Header section Parameter regexp=~P was not found.\n"
     ]
    },
    {
     "name": "stdout",
     "output_type": "stream",
     "text": [
      "Adding NaN log:  SP\n",
      "Adding NaN log:  DTS\n",
      "Feature shapes:  [('depth', (3881,)), ('top', (3881,)), ('base', (3881,)), ('logs', (3881, 11))]\n",
      "Training model for feature:  logs\n",
      "predict_proba:  [[0.05658372 0.0809423  0.34005478 0.0914626  0.3468892  0.0840674 ]\n",
      " [0.05658372 0.0809423  0.34005478 0.0914626  0.3468892  0.0840674 ]\n",
      " [0.05658372 0.0809423  0.34005478 0.0914626  0.3468892  0.0840674 ]\n",
      " ...\n",
      " [0.07730859 0.2845201  0.17702779 0.11397796 0.20533662 0.14182895]\n",
      " [0.07711071 0.2837918  0.17657466 0.11624584 0.20481104 0.14146592]\n",
      " [0.07462628 0.27464834 0.17088561 0.14471954 0.19821222 0.13690802]]\n",
      "Loading Well:  204-19-7  from  /home/ross/Dropbox/core_data/facies/train_data\n"
     ]
    },
    {
     "name": "stderr",
     "output_type": "stream",
     "text": [
      "Header section Parameter regexp=~P was not found.\n"
     ]
    },
    {
     "name": "stdout",
     "output_type": "stream",
     "text": [
      "Adding NaN log:  DTS\n",
      "Feature shapes:  [('depth', (9807,)), ('top', (9807,)), ('base', (9807,)), ('logs', (9807, 11))]\n",
      "Loading Well:  204-20-2  from  /home/ross/Dropbox/core_data/facies/train_data\n"
     ]
    },
    {
     "name": "stderr",
     "output_type": "stream",
     "text": [
      "Header section Parameter regexp=~P was not found.\n"
     ]
    },
    {
     "name": "stdout",
     "output_type": "stream",
     "text": [
      "Feature shapes:  [('depth', (2940,)), ('top', (2940,)), ('base', (2940,)), ('logs', (2940, 11))]\n",
      "Loading Well:  204-20a-7  from  /home/ross/Dropbox/core_data/facies/train_data\n"
     ]
    },
    {
     "name": "stderr",
     "output_type": "stream",
     "text": [
      "Header section Parameter regexp=~P was not found.\n"
     ]
    },
    {
     "name": "stdout",
     "output_type": "stream",
     "text": [
      "Adding NaN log:  DTS1\n",
      "Adding NaN log:  DTS2\n",
      "Feature shapes:  [('depth', (3105,)), ('top', (3105,)), ('base', (3105,)), ('logs', (3105, 11))]\n",
      "Loading Well:  205-21b-3  from  /home/ross/Dropbox/core_data/facies/train_data\n"
     ]
    },
    {
     "name": "stderr",
     "output_type": "stream",
     "text": [
      "Header section Parameter regexp=~P was not found.\n"
     ]
    },
    {
     "name": "stdout",
     "output_type": "stream",
     "text": [
      "Adding NaN log:  SP\n",
      "Adding NaN log:  DTS\n",
      "Feature shapes:  [('depth', (3881,)), ('top', (3881,)), ('base', (3881,)), ('logs', (3881, 11))]\n",
      "Loading Well:  204-20-1  from  /home/ross/Dropbox/core_data/facies/train_data\n"
     ]
    },
    {
     "name": "stderr",
     "output_type": "stream",
     "text": [
      "Header section Parameter regexp=~P was not found.\n"
     ]
    },
    {
     "name": "stdout",
     "output_type": "stream",
     "text": [
      "Adding NaN log:  DTS1\n",
      "Adding NaN log:  DTS2\n",
      "Feature shapes:  [('depth', (11210,)), ('top', (11210,)), ('base', (11210,)), ('logs', (11210, 11))]\n",
      "Loading Well:  204-19-3A  from  /home/ross/Dropbox/core_data/facies/train_data\n"
     ]
    },
    {
     "name": "stderr",
     "output_type": "stream",
     "text": [
      "Header section Parameter regexp=~P was not found.\n"
     ]
    },
    {
     "name": "stdout",
     "output_type": "stream",
     "text": [
      "Adding NaN log:  DTS\n",
      "Feature shapes:  [('depth', (9598,)), ('top', (9598,)), ('base', (9598,)), ('logs', (9598, 11))]\n",
      "Loading Well:  204-19-6  from  /home/ross/Dropbox/core_data/facies/train_data\n"
     ]
    },
    {
     "name": "stderr",
     "output_type": "stream",
     "text": [
      "Header section Parameter regexp=~P was not found.\n"
     ]
    },
    {
     "name": "stdout",
     "output_type": "stream",
     "text": [
      "Adding NaN log:  DTS\n",
      "Feature shapes:  [('depth', (1981,)), ('top', (1981,)), ('base', (1981,)), ('logs', (1981, 11))]\n",
      "Loading Well:  204-24a-7  from  /home/ross/Dropbox/core_data/facies/train_data\n"
     ]
    },
    {
     "name": "stderr",
     "output_type": "stream",
     "text": [
      "Header section Parameter regexp=~P was not found.\n"
     ]
    },
    {
     "name": "stdout",
     "output_type": "stream",
     "text": [
      "Adding NaN log:  SP\n",
      "Adding NaN log:  DTS\n",
      "Feature shapes:  [('depth', (19294,)), ('top', (19294,)), ('base', (19294,)), ('logs', (19294, 11))]\n",
      "Loading Well:  204-20-6a  from  /home/ross/Dropbox/core_data/facies/train_data\n"
     ]
    },
    {
     "name": "stderr",
     "output_type": "stream",
     "text": [
      "Header section Parameter regexp=~P was not found.\n"
     ]
    },
    {
     "name": "stdout",
     "output_type": "stream",
     "text": [
      "Adding NaN log:  SP\n",
      "Adding NaN log:  DTS1\n",
      "Adding NaN log:  DTS2\n",
      "Feature shapes:  [('depth', (3542,)), ('top', (3542,)), ('base', (3542,)), ('logs', (3542, 11))]\n",
      "Loading Well:  204-20-1Z  from  /home/ross/Dropbox/core_data/facies/train_data\n"
     ]
    },
    {
     "name": "stderr",
     "output_type": "stream",
     "text": [
      "Header section Parameter regexp=~P was not found.\n"
     ]
    },
    {
     "name": "stdout",
     "output_type": "stream",
     "text": [
      "Adding NaN log:  SP\n",
      "Adding NaN log:  DTS1\n",
      "Adding NaN log:  DTS2\n",
      "Feature shapes:  [('depth', (1929,)), ('top', (1929,)), ('base', (1929,)), ('logs', (1929, 11))]\n",
      "Loading Well:  204-24a-6  from  /home/ross/Dropbox/core_data/facies/train_data\n"
     ]
    },
    {
     "name": "stderr",
     "output_type": "stream",
     "text": [
      "Header section Parameter regexp=~P was not found.\n"
     ]
    },
    {
     "name": "stdout",
     "output_type": "stream",
     "text": [
      "Adding NaN log:  SP\n",
      "Adding NaN log:  DTS1\n",
      "Adding NaN log:  DTS2\n",
      "Feature shapes:  [('depth', (13034,)), ('top', (13034,)), ('base', (13034,)), ('logs', (13034, 11))]\n",
      "Loading Well:  204-20-3  from  /home/ross/Dropbox/core_data/facies/train_data\n"
     ]
    },
    {
     "name": "stderr",
     "output_type": "stream",
     "text": [
      "Header section Parameter regexp=~P was not found.\n"
     ]
    },
    {
     "name": "stdout",
     "output_type": "stream",
     "text": [
      "Feature shapes:  [('depth', (10906,)), ('top', (10906,)), ('base', (10906,)), ('logs', (10906, 11))]\n",
      "Training model for feature:  logs\n",
      "predict_proba:  [[0.07915982 0.10031355 0.3163962  0.08446262 0.32334664 0.09632112]\n",
      " [0.07915982 0.10031355 0.3163962  0.08446262 0.32334664 0.09632112]\n",
      " [0.07915982 0.10031355 0.3163962  0.08446262 0.32334664 0.09632112]\n",
      " ...\n",
      " [0.06484823 0.1964528  0.31288144 0.10252255 0.2354811  0.08781387]\n",
      " [0.06500389 0.19452392 0.3136325  0.10276865 0.23604636 0.08802466]\n",
      " [0.06546257 0.18884039 0.31584555 0.10349381 0.23771195 0.08864577]]\n",
      "Loading Well:  204-24a-6  from  /home/ross/Dropbox/core_data/facies/train_data\n"
     ]
    },
    {
     "name": "stderr",
     "output_type": "stream",
     "text": [
      "Header section Parameter regexp=~P was not found.\n"
     ]
    },
    {
     "name": "stdout",
     "output_type": "stream",
     "text": [
      "Adding NaN log:  SP\n",
      "Adding NaN log:  DTS1\n",
      "Adding NaN log:  DTS2\n",
      "Feature shapes:  [('depth', (13034,)), ('top', (13034,)), ('base', (13034,)), ('logs', (13034, 11))]\n",
      "Loading Well:  204-20-6a  from  /home/ross/Dropbox/core_data/facies/train_data\n"
     ]
    },
    {
     "name": "stderr",
     "output_type": "stream",
     "text": [
      "Header section Parameter regexp=~P was not found.\n"
     ]
    },
    {
     "name": "stdout",
     "output_type": "stream",
     "text": [
      "Adding NaN log:  SP\n",
      "Adding NaN log:  DTS1\n",
      "Adding NaN log:  DTS2\n",
      "Feature shapes:  [('depth', (3542,)), ('top', (3542,)), ('base', (3542,)), ('logs', (3542, 11))]\n",
      "Loading Well:  204-20-3  from  /home/ross/Dropbox/core_data/facies/train_data\n"
     ]
    },
    {
     "name": "stderr",
     "output_type": "stream",
     "text": [
      "Header section Parameter regexp=~P was not found.\n"
     ]
    },
    {
     "name": "stdout",
     "output_type": "stream",
     "text": [
      "Feature shapes:  [('depth', (10906,)), ('top', (10906,)), ('base', (10906,)), ('logs', (10906, 11))]\n",
      "Loading Well:  204-19-6  from  /home/ross/Dropbox/core_data/facies/train_data\n"
     ]
    },
    {
     "name": "stderr",
     "output_type": "stream",
     "text": [
      "Header section Parameter regexp=~P was not found.\n"
     ]
    },
    {
     "name": "stdout",
     "output_type": "stream",
     "text": [
      "Adding NaN log:  DTS\n",
      "Feature shapes:  [('depth', (1981,)), ('top', (1981,)), ('base', (1981,)), ('logs', (1981, 11))]\n",
      "Loading Well:  204-20-2  from  /home/ross/Dropbox/core_data/facies/train_data\n"
     ]
    },
    {
     "name": "stderr",
     "output_type": "stream",
     "text": [
      "Header section Parameter regexp=~P was not found.\n"
     ]
    },
    {
     "name": "stdout",
     "output_type": "stream",
     "text": [
      "Feature shapes:  [('depth', (2940,)), ('top', (2940,)), ('base', (2940,)), ('logs', (2940, 11))]\n",
      "Loading Well:  204-19-7  from  /home/ross/Dropbox/core_data/facies/train_data\n"
     ]
    },
    {
     "name": "stderr",
     "output_type": "stream",
     "text": [
      "Header section Parameter regexp=~P was not found.\n"
     ]
    },
    {
     "name": "stdout",
     "output_type": "stream",
     "text": [
      "Adding NaN log:  DTS\n",
      "Feature shapes:  [('depth', (9807,)), ('top', (9807,)), ('base', (9807,)), ('logs', (9807, 11))]\n",
      "Loading Well:  204-24a-7  from  /home/ross/Dropbox/core_data/facies/train_data\n"
     ]
    },
    {
     "name": "stderr",
     "output_type": "stream",
     "text": [
      "Header section Parameter regexp=~P was not found.\n"
     ]
    },
    {
     "name": "stdout",
     "output_type": "stream",
     "text": [
      "Adding NaN log:  SP\n",
      "Adding NaN log:  DTS\n",
      "Feature shapes:  [('depth', (19294,)), ('top', (19294,)), ('base', (19294,)), ('logs', (19294, 11))]\n",
      "Loading Well:  204-20-1Z  from  /home/ross/Dropbox/core_data/facies/train_data\n"
     ]
    },
    {
     "name": "stderr",
     "output_type": "stream",
     "text": [
      "Header section Parameter regexp=~P was not found.\n"
     ]
    },
    {
     "name": "stdout",
     "output_type": "stream",
     "text": [
      "Adding NaN log:  SP\n",
      "Adding NaN log:  DTS1\n",
      "Adding NaN log:  DTS2\n",
      "Feature shapes:  [('depth', (1929,)), ('top', (1929,)), ('base', (1929,)), ('logs', (1929, 11))]\n",
      "Loading Well:  205-21b-3  from  /home/ross/Dropbox/core_data/facies/train_data\n"
     ]
    },
    {
     "name": "stderr",
     "output_type": "stream",
     "text": [
      "Header section Parameter regexp=~P was not found.\n"
     ]
    },
    {
     "name": "stdout",
     "output_type": "stream",
     "text": [
      "Adding NaN log:  SP\n",
      "Adding NaN log:  DTS\n",
      "Feature shapes:  [('depth', (3881,)), ('top', (3881,)), ('base', (3881,)), ('logs', (3881, 11))]\n",
      "Loading Well:  204-19-3A  from  /home/ross/Dropbox/core_data/facies/train_data\n"
     ]
    },
    {
     "name": "stderr",
     "output_type": "stream",
     "text": [
      "Header section Parameter regexp=~P was not found.\n"
     ]
    },
    {
     "name": "stdout",
     "output_type": "stream",
     "text": [
      "Adding NaN log:  DTS\n",
      "Feature shapes:  [('depth', (9598,)), ('top', (9598,)), ('base', (9598,)), ('logs', (9598, 11))]\n",
      "Loading Well:  204-20a-7  from  /home/ross/Dropbox/core_data/facies/train_data\n"
     ]
    },
    {
     "name": "stderr",
     "output_type": "stream",
     "text": [
      "Header section Parameter regexp=~P was not found.\n"
     ]
    },
    {
     "name": "stdout",
     "output_type": "stream",
     "text": [
      "Adding NaN log:  DTS1\n",
      "Adding NaN log:  DTS2\n",
      "Feature shapes:  [('depth', (3105,)), ('top', (3105,)), ('base', (3105,)), ('logs', (3105, 11))]\n",
      "Loading Well:  204-20-1  from  /home/ross/Dropbox/core_data/facies/train_data\n"
     ]
    },
    {
     "name": "stderr",
     "output_type": "stream",
     "text": [
      "Header section Parameter regexp=~P was not found.\n"
     ]
    },
    {
     "name": "stdout",
     "output_type": "stream",
     "text": [
      "Adding NaN log:  DTS1\n",
      "Adding NaN log:  DTS2\n",
      "Feature shapes:  [('depth', (11210,)), ('top', (11210,)), ('base', (11210,)), ('logs', (11210, 11))]\n",
      "Training model for feature:  logs\n",
      "predict_proba:  [[0.05987606 0.0971621  0.12958457 0.21380678 0.22030494 0.2792656 ]\n",
      " [0.0602763  0.09781157 0.13045077 0.20855147 0.22177756 0.28113234]\n",
      " [0.06340107 0.09990217 0.13721342 0.1768707  0.23327465 0.28933802]\n",
      " ...\n",
      " [0.0576051  0.62631506 0.10505621 0.07183429 0.06963823 0.06955111]\n",
      " [0.0576051  0.62631506 0.10505621 0.07183429 0.06963823 0.06955111]\n",
      " [0.05755584 0.6257795  0.10496638 0.07262794 0.06957868 0.06949164]]\n"
     ]
    }
   ],
   "source": [
    "preds_df_9 = pred_results_df(9, make_params_usable(best_params_9))\n",
    "preds_df_9.to_csv('logs_xgb_results_train_sets9_ALL.csv')"
   ]
  },
  {
   "cell_type": "code",
   "execution_count": 12,
   "metadata": {},
   "outputs": [
    {
     "data": {
      "text/plain": [
       "((152880, 25), (108025, 25), (71560, 25))"
      ]
     },
     "execution_count": 12,
     "metadata": {},
     "output_type": "execute_result"
    }
   ],
   "source": [
    "preds_df_3.shape, preds_df_6.shape, preds_df_9.shape"
   ]
  },
  {
   "cell_type": "code",
   "execution_count": 13,
   "metadata": {},
   "outputs": [
    {
     "data": {
      "text/html": [
       "<div>\n",
       "<style scoped>\n",
       "    .dataframe tbody tr th:only-of-type {\n",
       "        vertical-align: middle;\n",
       "    }\n",
       "\n",
       "    .dataframe tbody tr th {\n",
       "        vertical-align: top;\n",
       "    }\n",
       "\n",
       "    .dataframe thead th {\n",
       "        text-align: right;\n",
       "    }\n",
       "</style>\n",
       "<table border=\"1\" class=\"dataframe\">\n",
       "  <thead>\n",
       "    <tr style=\"text-align: right;\">\n",
       "      <th></th>\n",
       "      <th>base</th>\n",
       "      <th>confidence</th>\n",
       "      <th>depth</th>\n",
       "      <th>proba_0</th>\n",
       "      <th>proba_1</th>\n",
       "      <th>proba_2</th>\n",
       "      <th>proba_3</th>\n",
       "      <th>proba_4</th>\n",
       "      <th>regression</th>\n",
       "      <th>top</th>\n",
       "      <th>...</th>\n",
       "      <th>NEUT</th>\n",
       "      <th>PEF</th>\n",
       "      <th>RDEP</th>\n",
       "      <th>RSHAL</th>\n",
       "      <th>DTC</th>\n",
       "      <th>DTS</th>\n",
       "      <th>DTS1</th>\n",
       "      <th>DTS2</th>\n",
       "      <th>well</th>\n",
       "      <th>set_number</th>\n",
       "    </tr>\n",
       "  </thead>\n",
       "  <tbody>\n",
       "    <tr>\n",
       "      <th>0</th>\n",
       "      <td>2208.085920</td>\n",
       "      <td>0.558097</td>\n",
       "      <td>2208.083152</td>\n",
       "      <td>0.162600</td>\n",
       "      <td>0.080687</td>\n",
       "      <td>0.558097</td>\n",
       "      <td>0.190883</td>\n",
       "      <td>0.007732</td>\n",
       "      <td>1.660552</td>\n",
       "      <td>2208.080550</td>\n",
       "      <td>...</td>\n",
       "      <td>-1.084784</td>\n",
       "      <td>-1.730394</td>\n",
       "      <td>1.346995</td>\n",
       "      <td>1.233757</td>\n",
       "      <td>1.417721</td>\n",
       "      <td>0.0</td>\n",
       "      <td>-0.148382</td>\n",
       "      <td>-0.483111</td>\n",
       "      <td>204-19-6</td>\n",
       "      <td>0</td>\n",
       "    </tr>\n",
       "    <tr>\n",
       "      <th>1</th>\n",
       "      <td>2208.091290</td>\n",
       "      <td>0.557830</td>\n",
       "      <td>2208.088522</td>\n",
       "      <td>0.162522</td>\n",
       "      <td>0.080648</td>\n",
       "      <td>0.557830</td>\n",
       "      <td>0.190792</td>\n",
       "      <td>0.008208</td>\n",
       "      <td>1.661818</td>\n",
       "      <td>2208.085920</td>\n",
       "      <td>...</td>\n",
       "      <td>-1.104229</td>\n",
       "      <td>-1.742244</td>\n",
       "      <td>1.349403</td>\n",
       "      <td>1.233453</td>\n",
       "      <td>1.421162</td>\n",
       "      <td>0.0</td>\n",
       "      <td>-0.136087</td>\n",
       "      <td>-0.474946</td>\n",
       "      <td>204-19-6</td>\n",
       "      <td>0</td>\n",
       "    </tr>\n",
       "    <tr>\n",
       "      <th>2</th>\n",
       "      <td>2208.096661</td>\n",
       "      <td>0.596532</td>\n",
       "      <td>2208.093892</td>\n",
       "      <td>0.157963</td>\n",
       "      <td>0.075003</td>\n",
       "      <td>0.596532</td>\n",
       "      <td>0.162869</td>\n",
       "      <td>0.007634</td>\n",
       "      <td>1.644650</td>\n",
       "      <td>2208.091290</td>\n",
       "      <td>...</td>\n",
       "      <td>-1.123674</td>\n",
       "      <td>-1.754094</td>\n",
       "      <td>1.351810</td>\n",
       "      <td>1.233149</td>\n",
       "      <td>1.424602</td>\n",
       "      <td>0.0</td>\n",
       "      <td>-0.123793</td>\n",
       "      <td>-0.466782</td>\n",
       "      <td>204-19-6</td>\n",
       "      <td>0</td>\n",
       "    </tr>\n",
       "    <tr>\n",
       "      <th>3</th>\n",
       "      <td>2208.102031</td>\n",
       "      <td>0.596227</td>\n",
       "      <td>2208.099262</td>\n",
       "      <td>0.158082</td>\n",
       "      <td>0.075059</td>\n",
       "      <td>0.596227</td>\n",
       "      <td>0.162992</td>\n",
       "      <td>0.007639</td>\n",
       "      <td>1.644456</td>\n",
       "      <td>2208.096661</td>\n",
       "      <td>...</td>\n",
       "      <td>-1.142953</td>\n",
       "      <td>-1.765778</td>\n",
       "      <td>1.354180</td>\n",
       "      <td>1.232846</td>\n",
       "      <td>1.428043</td>\n",
       "      <td>0.0</td>\n",
       "      <td>-0.111576</td>\n",
       "      <td>-0.458599</td>\n",
       "      <td>204-19-6</td>\n",
       "      <td>0</td>\n",
       "    </tr>\n",
       "    <tr>\n",
       "      <th>4</th>\n",
       "      <td>2208.107401</td>\n",
       "      <td>0.497442</td>\n",
       "      <td>2208.104632</td>\n",
       "      <td>0.193944</td>\n",
       "      <td>0.099274</td>\n",
       "      <td>0.497442</td>\n",
       "      <td>0.199968</td>\n",
       "      <td>0.009372</td>\n",
       "      <td>1.577861</td>\n",
       "      <td>2208.102031</td>\n",
       "      <td>...</td>\n",
       "      <td>-1.147980</td>\n",
       "      <td>-1.763182</td>\n",
       "      <td>1.353276</td>\n",
       "      <td>1.232685</td>\n",
       "      <td>1.431540</td>\n",
       "      <td>0.0</td>\n",
       "      <td>-0.106107</td>\n",
       "      <td>-0.448906</td>\n",
       "      <td>204-19-6</td>\n",
       "      <td>0</td>\n",
       "    </tr>\n",
       "  </tbody>\n",
       "</table>\n",
       "<p>5 rows × 25 columns</p>\n",
       "</div>"
      ],
      "text/plain": [
       "          base  confidence        depth   proba_0   proba_1   proba_2  \\\n",
       "0  2208.085920    0.558097  2208.083152  0.162600  0.080687  0.558097   \n",
       "1  2208.091290    0.557830  2208.088522  0.162522  0.080648  0.557830   \n",
       "2  2208.096661    0.596532  2208.093892  0.157963  0.075003  0.596532   \n",
       "3  2208.102031    0.596227  2208.099262  0.158082  0.075059  0.596227   \n",
       "4  2208.107401    0.497442  2208.104632  0.193944  0.099274  0.497442   \n",
       "\n",
       "    proba_3   proba_4  regression          top     ...          NEUT  \\\n",
       "0  0.190883  0.007732    1.660552  2208.080550     ...     -1.084784   \n",
       "1  0.190792  0.008208    1.661818  2208.085920     ...     -1.104229   \n",
       "2  0.162869  0.007634    1.644650  2208.091290     ...     -1.123674   \n",
       "3  0.162992  0.007639    1.644456  2208.096661     ...     -1.142953   \n",
       "4  0.199968  0.009372    1.577861  2208.102031     ...     -1.147980   \n",
       "\n",
       "        PEF      RDEP     RSHAL       DTC  DTS      DTS1      DTS2      well  \\\n",
       "0 -1.730394  1.346995  1.233757  1.417721  0.0 -0.148382 -0.483111  204-19-6   \n",
       "1 -1.742244  1.349403  1.233453  1.421162  0.0 -0.136087 -0.474946  204-19-6   \n",
       "2 -1.754094  1.351810  1.233149  1.424602  0.0 -0.123793 -0.466782  204-19-6   \n",
       "3 -1.765778  1.354180  1.232846  1.428043  0.0 -0.111576 -0.458599  204-19-6   \n",
       "4 -1.763182  1.353276  1.232685  1.431540  0.0 -0.106107 -0.448906  204-19-6   \n",
       "\n",
       "   set_number  \n",
       "0           0  \n",
       "1           0  \n",
       "2           0  \n",
       "3           0  \n",
       "4           0  \n",
       "\n",
       "[5 rows x 25 columns]"
      ]
     },
     "execution_count": 13,
     "metadata": {},
     "output_type": "execute_result"
    }
   ],
   "source": [
    "preds_df_3.head()"
   ]
  },
  {
   "cell_type": "code",
   "execution_count": 14,
   "metadata": {},
   "outputs": [
    {
     "data": {
      "text/plain": [
       "Index(['base', 'confidence', 'depth', 'proba_0', 'proba_1', 'proba_2',\n",
       "       'proba_3', 'proba_4', 'regression', 'top', 'y_pred', 'y_true', 'GR',\n",
       "       'SP', 'DENS', 'NEUT', 'PEF', 'RDEP', 'RSHAL', 'DTC', 'DTS', 'DTS1',\n",
       "       'DTS2', 'well', 'set_number'],\n",
       "      dtype='object')"
      ]
     },
     "execution_count": 14,
     "metadata": {},
     "output_type": "execute_result"
    }
   ],
   "source": [
    "preds_df_3.columns"
   ]
  },
  {
   "cell_type": "code",
   "execution_count": null,
   "metadata": {},
   "outputs": [],
   "source": []
  }
 ],
 "metadata": {
  "kernelspec": {
   "display_name": "Python 3",
   "language": "python",
   "name": "python3"
  },
  "language_info": {
   "codemirror_mode": {
    "name": "ipython",
    "version": 3
   },
   "file_extension": ".py",
   "mimetype": "text/x-python",
   "name": "python",
   "nbconvert_exporter": "python",
   "pygments_lexer": "ipython3",
   "version": "3.7.6"
  }
 },
 "nbformat": 4,
 "nbformat_minor": 2
}
