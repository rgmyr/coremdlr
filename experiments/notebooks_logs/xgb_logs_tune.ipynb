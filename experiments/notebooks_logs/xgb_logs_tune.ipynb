{
 "cells": [
  {
   "cell_type": "markdown",
   "metadata": {},
   "source": [
    "# Testing XGB on well log datasets "
   ]
  },
  {
   "cell_type": "code",
   "execution_count": 1,
   "metadata": {},
   "outputs": [
    {
     "name": "stderr",
     "output_type": "stream",
     "text": [
      "Using TensorFlow backend.\n"
     ]
    }
   ],
   "source": [
    "import numpy as np\n",
    "import pandas as pd\n",
    "\n",
    "from coremdlr.datasets import WellLoader, FaciesDataset\n",
    "from coremdlr.models import FeaturePredictor, LambdaModel"
   ]
  },
  {
   "cell_type": "code",
   "execution_count": 2,
   "metadata": {},
   "outputs": [
    {
     "data": {
      "text/plain": [
       "(['204-19-3A',\n",
       "  '204-20-1Z',\n",
       "  '204-19-7',\n",
       "  '204-24a-7',\n",
       "  '204-20-1',\n",
       "  '204-19-6',\n",
       "  '205-21b-3',\n",
       "  '204-20-6a',\n",
       "  '204-20a-7',\n",
       "  '204-24a-6',\n",
       "  '204-20-2',\n",
       "  '204-20-3'],\n",
       " 12)"
      ]
     },
     "execution_count": 2,
     "metadata": {},
     "output_type": "execute_result"
    }
   ],
   "source": [
    "from coremdlr.datasets.utils import available_wells\n",
    "\n",
    "wells = list(available_wells())\n",
    "wells, len(wells)"
   ]
  },
  {
   "cell_type": "markdown",
   "metadata": {},
   "source": [
    "### Picking your training and testing wells"
   ]
  },
  {
   "cell_type": "code",
   "execution_count": 3,
   "metadata": {},
   "outputs": [],
   "source": [
    "fdset = FaciesDataset(wells[:10], test_wells=wells[10:],\n",
    "                    features=[\"logs\"],\n",
    "                    label_resolution=32*50, # 32 pixels ~ .5cm\n",
    "                    logs_args={'scaler_kind': 'standard'})"
   ]
  },
  {
   "cell_type": "code",
   "execution_count": 4,
   "metadata": {},
   "outputs": [
    {
     "name": "stdout",
     "output_type": "stream",
     "text": [
      "Loading Well:  204-19-3A  from  /home/administrator/Dropbox/core_data/facies/train_data\n"
     ]
    },
    {
     "name": "stderr",
     "output_type": "stream",
     "text": [
      "Header section Parameter regexp=~P was not found.\n"
     ]
    },
    {
     "name": "stdout",
     "output_type": "stream",
     "text": [
      "Adding NaN log:  DTS\n",
      "Feature shapes:  [('depth', (197,)), ('top', (197,)), ('base', (197,)), ('logs', (197, 11))]\n",
      "Loading Well:  204-20-1Z  from  /home/administrator/Dropbox/core_data/facies/train_data\n"
     ]
    },
    {
     "name": "stderr",
     "output_type": "stream",
     "text": [
      "Header section Parameter regexp=~P was not found.\n"
     ]
    },
    {
     "name": "stdout",
     "output_type": "stream",
     "text": [
      "Adding NaN log:  SP\n",
      "Adding NaN log:  DTS1\n",
      "Adding NaN log:  DTS2\n",
      "Feature shapes:  [('depth', (39,)), ('top', (39,)), ('base', (39,)), ('logs', (39, 11))]\n",
      "Loading Well:  204-19-7  from  /home/administrator/Dropbox/core_data/facies/train_data\n"
     ]
    },
    {
     "name": "stderr",
     "output_type": "stream",
     "text": [
      "Header section Parameter regexp=~P was not found.\n"
     ]
    },
    {
     "name": "stdout",
     "output_type": "stream",
     "text": [
      "Adding NaN log:  DTS\n",
      "Feature shapes:  [('depth', (199,)), ('top', (199,)), ('base', (199,)), ('logs', (199, 11))]\n",
      "Loading Well:  204-24a-7  from  /home/administrator/Dropbox/core_data/facies/train_data\n"
     ]
    },
    {
     "name": "stderr",
     "output_type": "stream",
     "text": [
      "Header section Parameter regexp=~P was not found.\n"
     ]
    },
    {
     "name": "stdout",
     "output_type": "stream",
     "text": [
      "Adding NaN log:  SP\n",
      "Adding NaN log:  DTS\n",
      "Feature shapes:  [('depth', (401,)), ('top', (401,)), ('base', (401,)), ('logs', (401, 11))]\n",
      "Loading Well:  204-20-1  from  /home/administrator/Dropbox/core_data/facies/train_data\n"
     ]
    },
    {
     "name": "stderr",
     "output_type": "stream",
     "text": [
      "Header section Parameter regexp=~P was not found.\n"
     ]
    },
    {
     "name": "stdout",
     "output_type": "stream",
     "text": [
      "Adding NaN log:  DTS1\n",
      "Adding NaN log:  DTS2\n",
      "Feature shapes:  [('depth', (236,)), ('top', (236,)), ('base', (236,)), ('logs', (236, 11))]\n",
      "Loading Well:  204-19-6  from  /home/administrator/Dropbox/core_data/facies/train_data\n"
     ]
    },
    {
     "name": "stderr",
     "output_type": "stream",
     "text": [
      "Header section Parameter regexp=~P was not found.\n"
     ]
    },
    {
     "name": "stdout",
     "output_type": "stream",
     "text": [
      "Adding NaN log:  DTS\n",
      "Feature shapes:  [('depth', (36,)), ('top', (36,)), ('base', (36,)), ('logs', (36, 11))]\n",
      "Loading Well:  205-21b-3  from  /home/administrator/Dropbox/core_data/facies/train_data\n"
     ]
    },
    {
     "name": "stderr",
     "output_type": "stream",
     "text": [
      "Header section Parameter regexp=~P was not found.\n"
     ]
    },
    {
     "name": "stdout",
     "output_type": "stream",
     "text": [
      "Adding NaN log:  SP\n",
      "Adding NaN log:  DTS\n",
      "Feature shapes:  [('depth', (81,)), ('top', (81,)), ('base', (81,)), ('logs', (81, 11))]\n",
      "Loading Well:  204-20-6a  from  /home/administrator/Dropbox/core_data/facies/train_data\n"
     ]
    },
    {
     "name": "stderr",
     "output_type": "stream",
     "text": [
      "Header section Parameter regexp=~P was not found.\n"
     ]
    },
    {
     "name": "stdout",
     "output_type": "stream",
     "text": [
      "Adding NaN log:  SP\n",
      "Adding NaN log:  DTS1\n",
      "Adding NaN log:  DTS2\n",
      "Feature shapes:  [('depth', (72,)), ('top', (72,)), ('base', (72,)), ('logs', (72, 11))]\n",
      "Loading Well:  204-20a-7  from  /home/administrator/Dropbox/core_data/facies/train_data\n"
     ]
    },
    {
     "name": "stderr",
     "output_type": "stream",
     "text": [
      "Header section Parameter regexp=~P was not found.\n"
     ]
    },
    {
     "name": "stdout",
     "output_type": "stream",
     "text": [
      "Adding NaN log:  DTS1\n",
      "Adding NaN log:  DTS2\n",
      "Feature shapes:  [('depth', (64,)), ('top', (64,)), ('base', (64,)), ('logs', (64, 11))]\n",
      "Loading Well:  204-24a-6  from  /home/administrator/Dropbox/core_data/facies/train_data\n"
     ]
    },
    {
     "name": "stderr",
     "output_type": "stream",
     "text": [
      "Header section Parameter regexp=~P was not found.\n"
     ]
    },
    {
     "name": "stdout",
     "output_type": "stream",
     "text": [
      "Adding NaN log:  SP\n",
      "Adding NaN log:  DTS1\n",
      "Adding NaN log:  DTS2\n",
      "Feature shapes:  [('depth', (273,)), ('top', (273,)), ('base', (273,)), ('logs', (273, 11))]\n",
      "Loading Well:  204-20-2  from  /home/administrator/Dropbox/core_data/facies/train_data\n"
     ]
    },
    {
     "name": "stderr",
     "output_type": "stream",
     "text": [
      "Header section Parameter regexp=~P was not found.\n"
     ]
    },
    {
     "name": "stdout",
     "output_type": "stream",
     "text": [
      "Feature shapes:  [('depth', (60,)), ('top', (60,)), ('base', (60,)), ('logs', (60, 11))]\n",
      "Loading Well:  204-20-3  from  /home/administrator/Dropbox/core_data/facies/train_data\n"
     ]
    },
    {
     "name": "stderr",
     "output_type": "stream",
     "text": [
      "Header section Parameter regexp=~P was not found.\n"
     ]
    },
    {
     "name": "stdout",
     "output_type": "stream",
     "text": [
      "Feature shapes:  [('depth', (225,)), ('top', (225,)), ('base', (225,)), ('logs', (225, 11))]\n"
     ]
    }
   ],
   "source": [
    "fdset.load_or_generate_data()"
   ]
  },
  {
   "cell_type": "code",
   "execution_count": 5,
   "metadata": {},
   "outputs": [],
   "source": [
    "import hyperopt\n",
    "\n",
    "from hyperopt import hp\n",
    "from hyperopt.pyll.base import scope\n",
    "from sklearn.metrics import f1_score, log_loss\n",
    "from sklearn.utils.class_weight import compute_sample_weight\n",
    "\n",
    "# for balanced log_loss computation\n",
    "sample_weights = compute_sample_weight('balanced', fdset.y_test) \n",
    "\n",
    "fmodel_args = {\n",
    "    'logs': {\n",
    "        'model': 'LambdaModel',\n",
    "        'model_args': {'feature': 'logs'}\n",
    "    }\n",
    "}\n",
    "\n",
    "XGB_SEARCH_SPACE = {\n",
    "    'model_type' : 'XGB',\n",
    "    'max_depth' : scope.int(hp.quniform('max_depth', 3, 10, 1)),\n",
    "    'learning_rate' : hp.uniform('learning_rate', 0.01, 0.2),\n",
    "    'n_estimators' : scope.int(hp.quniform('n_estimators', 10, 1000, 1)),\n",
    "    'objective' : 'multi:softprob',\n",
    "    'n_jobs' : 2,\n",
    "    'gamma' : hp.uniform('gamma', 0, 0.5),\n",
    "    'subsample' : hp.uniform('subsample', 0.3, 1),\n",
    "    'colsample_bytree' : hp.uniform('colsample_bytree', 0.3, 1.0),\n",
    "    'colsample_bylevel' : 1,\n",
    "    'reg_alpha' : 0,                                    # L1 penalty\n",
    "    'reg_lambda' : hp.uniform('reg_lambda', 0.1, 10),   # L2 penalty\n",
    "    'tree_method' : 'gpu_exact',\n",
    "}\n",
    "\n",
    "def train_xgb_model(model_config):\n",
    "    \"\"\"\n",
    "    Train function given model_config dict of params.\n",
    "    \"\"\"\n",
    "    xgb_predictor = FeaturePredictor(fdset, model_args=model_config, feature_model_args=fmodel_args)\n",
    "    test_acc = xgb_predictor.fit(fdset, verbose=False)\n",
    "    y_pred = xgb_predictor.predict(fdset.X_test)\n",
    "    print('F1 score:', f1_score(fdset.y_test, y_pred, average='macro'))\n",
    "    return log_loss(fdset.y_test, xgb_predictor.predict_proba(fdset.X_test), sample_weight=sample_weights)\n",
    "\n",
    "\n",
    "def make_params_usable(params):\n",
    "    \"\"\"\n",
    "    Convert params returned by hyperopt to usable `model_args`\n",
    "    \"\"\"\n",
    "    return {\n",
    "        **XGB_SEARCH_SPACE,\n",
    "        **params,\n",
    "        **{'max_depth' : int(params['max_depth']),\n",
    "           'n_estimators' : int(params['n_estimators'])}\n",
    "    }"
   ]
  },
  {
   "cell_type": "code",
   "execution_count": 6,
   "metadata": {
    "scrolled": false
   },
   "outputs": [
    {
     "name": "stdout",
     "output_type": "stream",
     "text": [
      "Training model for feature:  logs\n",
      "F1 score: 0.16362151186703205\n",
      "Training model for feature:  logs\n",
      "F1 score: 0.1601668056713928\n",
      "Training model for feature:  logs\n",
      "F1 score: 0.14532777543983993\n",
      "Training model for feature:  logs\n",
      "F1 score: 0.1176269052221568\n",
      "Training model for feature:  logs\n",
      "F1 score: 0.13459630096358247\n",
      "Training model for feature:  logs\n",
      "F1 score: 0.15902621076506313\n",
      "Training model for feature:  logs\n",
      "F1 score: 0.13189298245614037\n",
      "Training model for feature:  logs\n",
      "F1 score: 0.15279745579414453\n",
      "Training model for feature:  logs\n",
      "F1 score: 0.15828529397445862\n",
      "Training model for feature:  logs\n",
      "F1 score: 0.17571690210899676\n",
      "Training model for feature:  logs\n",
      "F1 score: 0.13416957026713122\n",
      "Training model for feature:  logs\n",
      "F1 score: 0.12635621521335808\n",
      "Training model for feature:  logs\n",
      "F1 score: 0.13228430397034435\n",
      "Training model for feature:  logs\n",
      "F1 score: 0.11149449432701901\n",
      "Training model for feature:  logs\n",
      "F1 score: 0.1699067923822744\n",
      "Training model for feature:  logs\n",
      "F1 score: 0.1417029137649181\n",
      "Training model for feature:  logs\n",
      "F1 score: 0.11900992444012097\n",
      "Training model for feature:  logs\n",
      "F1 score: 0.11513551807669453\n",
      "Training model for feature:  logs\n",
      "F1 score: 0.15177505859586785\n",
      "Training model for feature:  logs\n",
      "F1 score: 0.14746532235059193\n",
      "Training model for feature:  logs\n",
      "F1 score: 0.13284254953755933\n",
      "Training model for feature:  logs\n",
      "F1 score: 0.11980014266576197\n",
      "Training model for feature:  logs\n",
      "F1 score: 0.1458011901142336\n",
      "Training model for feature:  logs\n",
      "F1 score: 0.12947701031630626\n",
      "Training model for feature:  logs\n",
      "F1 score: 0.160555871383147\n",
      "Training model for feature:  logs\n",
      "F1 score: 0.09394694251505084\n",
      "Training model for feature:  logs\n",
      "F1 score: 0.13942188235326589\n",
      "Training model for feature:  logs\n",
      "F1 score: 0.16030898524288506\n",
      "Training model for feature:  logs\n",
      "F1 score: 0.14248024702570156\n",
      "Training model for feature:  logs\n",
      "F1 score: 0.14859125865815895\n",
      "Training model for feature:  logs\n",
      "F1 score: 0.13372501272410026\n",
      "Training model for feature:  logs\n",
      "F1 score: 0.12557059943644056\n",
      "Training model for feature:  logs\n",
      "F1 score: 0.16103311542171256\n",
      "Training model for feature:  logs\n",
      "F1 score: 0.11114678760393046\n",
      "Training model for feature:  logs\n",
      "F1 score: 0.1261762963442907\n",
      "Training model for feature:  logs\n",
      "F1 score: 0.16292544583815932\n",
      "Training model for feature:  logs\n",
      "F1 score: 0.14581025227903444\n",
      "Training model for feature:  logs\n",
      "F1 score: 0.1358235541133804\n",
      "Training model for feature:  logs\n",
      "F1 score: 0.16857694678609397\n",
      "Training model for feature:  logs\n",
      "F1 score: 0.15214290308353856\n",
      "Training model for feature:  logs\n",
      "F1 score: 0.13250256410256409\n",
      "Training model for feature:  logs\n",
      "F1 score: 0.16004524477348742\n",
      "Training model for feature:  logs\n",
      "F1 score: 0.14625406035174388\n",
      "Training model for feature:  logs\n",
      "F1 score: 0.14979553741625734\n",
      "Training model for feature:  logs\n",
      "F1 score: 0.10708445642407907\n",
      "Training model for feature:  logs\n",
      "F1 score: 0.12045045262403162\n",
      "Training model for feature:  logs\n",
      "F1 score: 0.1490214935423374\n",
      "Training model for feature:  logs\n",
      "F1 score: 0.14282681779685785\n",
      "Training model for feature:  logs\n",
      "F1 score: 0.14426708763083637\n",
      "Training model for feature:  logs\n",
      "F1 score: 0.138274261171899\n"
     ]
    }
   ],
   "source": [
    "\n",
    "\n",
    "\n",
    "best_params = hyperopt.fmin(\n",
    "    fn=train_xgb_model,\n",
    "    space=XGB_SEARCH_SPACE,\n",
    "    algo=hyperopt.rand.suggest,\n",
    "    max_evals=50\n",
    ")"
   ]
  },
  {
   "cell_type": "code",
   "execution_count": 7,
   "metadata": {},
   "outputs": [
    {
     "data": {
      "text/plain": [
       "{'colsample_bytree': 0.8793404631412298,\n",
       " 'gamma': 0.43774364836086044,\n",
       " 'learning_rate': 0.046170495867596695,\n",
       " 'max_depth': 9.0,\n",
       " 'n_estimators': 15.0,\n",
       " 'reg_lambda': 4.131428404944846,\n",
       " 'subsample': 0.4788196091733915}"
      ]
     },
     "execution_count": 7,
     "metadata": {},
     "output_type": "execute_result"
    }
   ],
   "source": [
    "best_params"
   ]
  },
  {
   "cell_type": "code",
   "execution_count": 8,
   "metadata": {},
   "outputs": [
    {
     "name": "stdout",
     "output_type": "stream",
     "text": [
      "Training model for feature:  logs\n",
      "                      precision    recall  f1-score   support\n",
      "\n",
      "           sandstone       0.35      0.25      0.29        96\n",
      "clay-prone sandstone       0.29      0.05      0.09       120\n",
      "      sandy mudstone       0.00      0.00      0.00        11\n",
      "          oilstained       0.17      0.19      0.18        48\n",
      "            mudstone       0.02      0.30      0.04        10\n",
      "\n",
      "           micro avg       0.15      0.15      0.15       285\n",
      "           macro avg       0.17      0.16      0.12       285\n",
      "        weighted avg       0.27      0.15      0.17       285\n",
      "\n",
      "Total accuracy Score :  0.14736842105263157\n",
      "Confusion Matrix: \n",
      " [[24 11  0 17 44]\n",
      " [34  6  5 19 56]\n",
      " [ 3  0  0  1  7]\n",
      " [ 8  4  0  9 27]\n",
      " [ 0  0  0  7  3]]\n",
      "('DENS', 0.11621752)\n",
      "('PEF', 0.11453321)\n",
      "('RDEP', 0.10490856)\n",
      "('GR', 0.10153994)\n",
      "('SP', 0.10057748)\n",
      "('DTC', 0.10009625)\n",
      "('NEUT', 0.08902791)\n",
      "('DTS', 0.0753128)\n",
      "('RSHAL', 0.07001925)\n",
      "('DTS1', 0.06953802)\n",
      "('DTS2', 0.058229066)\n"
     ]
    }
   ],
   "source": [
    "params = {\n",
    "    **XGB_SEARCH_SPACE, \n",
    "    **best_params, \n",
    "    **{'max_depth' : int(best_params['max_depth']), \n",
    "       'n_estimators' : int(best_params['n_estimators'])}\n",
    "}\n",
    "xgb_predictor = FeaturePredictor(fdset, model_args=params, feature_model_args=fmodel_args)\n",
    "xgb_predictor.fit(fdset, verbose=True)\n",
    "\n",
    "imps = list(zip(fdset.wells[0].logs_args['which_logs'], xgb_predictor.model.feature_importances_))\n",
    "imps.sort(key = lambda p: p[1])\n",
    "for pair in imps[::-1]:\n",
    "    print(pair)"
   ]
  },
  {
   "cell_type": "code",
   "execution_count": 9,
   "metadata": {
    "scrolled": false
   },
   "outputs": [
    {
     "name": "stderr",
     "output_type": "stream",
     "text": [
      "/home/administrator/code/python/coremdlr/coremdlr/viz/__init__.py:2: UserWarning: \n",
      "This call to matplotlib.use() has no effect because the backend has already\n",
      "been chosen; matplotlib.use() must be called *before* pylab, matplotlib.pyplot,\n",
      "or matplotlib.backends is imported for the first time.\n",
      "\n",
      "The backend was *originally* set to 'module://ipykernel.pylab.backend_inline' by the following code:\n",
      "  File \"/home/administrator/anaconda3/envs/core-dev/lib/python3.6/runpy.py\", line 193, in _run_module_as_main\n",
      "    \"__main__\", mod_spec)\n",
      "  File \"/home/administrator/anaconda3/envs/core-dev/lib/python3.6/runpy.py\", line 85, in _run_code\n",
      "    exec(code, run_globals)\n",
      "  File \"/home/administrator/anaconda3/envs/core-dev/lib/python3.6/site-packages/ipykernel_launcher.py\", line 16, in <module>\n",
      "    app.launch_new_instance()\n",
      "  File \"/home/administrator/anaconda3/envs/core-dev/lib/python3.6/site-packages/traitlets/config/application.py\", line 658, in launch_instance\n",
      "    app.start()\n",
      "  File \"/home/administrator/anaconda3/envs/core-dev/lib/python3.6/site-packages/ipykernel/kernelapp.py\", line 486, in start\n",
      "    self.io_loop.start()\n",
      "  File \"/home/administrator/anaconda3/envs/core-dev/lib/python3.6/site-packages/tornado/platform/asyncio.py\", line 127, in start\n",
      "    self.asyncio_loop.run_forever()\n",
      "  File \"/home/administrator/anaconda3/envs/core-dev/lib/python3.6/asyncio/base_events.py\", line 427, in run_forever\n",
      "    self._run_once()\n",
      "  File \"/home/administrator/anaconda3/envs/core-dev/lib/python3.6/asyncio/base_events.py\", line 1440, in _run_once\n",
      "    handle._run()\n",
      "  File \"/home/administrator/anaconda3/envs/core-dev/lib/python3.6/asyncio/events.py\", line 145, in _run\n",
      "    self._callback(*self._args)\n",
      "  File \"/home/administrator/anaconda3/envs/core-dev/lib/python3.6/site-packages/tornado/platform/asyncio.py\", line 117, in _handle_events\n",
      "    handler_func(fileobj, events)\n",
      "  File \"/home/administrator/anaconda3/envs/core-dev/lib/python3.6/site-packages/tornado/stack_context.py\", line 276, in null_wrapper\n",
      "    return fn(*args, **kwargs)\n",
      "  File \"/home/administrator/anaconda3/envs/core-dev/lib/python3.6/site-packages/zmq/eventloop/zmqstream.py\", line 450, in _handle_events\n",
      "    self._handle_recv()\n",
      "  File \"/home/administrator/anaconda3/envs/core-dev/lib/python3.6/site-packages/zmq/eventloop/zmqstream.py\", line 480, in _handle_recv\n",
      "    self._run_callback(callback, msg)\n",
      "  File \"/home/administrator/anaconda3/envs/core-dev/lib/python3.6/site-packages/zmq/eventloop/zmqstream.py\", line 432, in _run_callback\n",
      "    callback(*args, **kwargs)\n",
      "  File \"/home/administrator/anaconda3/envs/core-dev/lib/python3.6/site-packages/tornado/stack_context.py\", line 276, in null_wrapper\n",
      "    return fn(*args, **kwargs)\n",
      "  File \"/home/administrator/anaconda3/envs/core-dev/lib/python3.6/site-packages/ipykernel/kernelbase.py\", line 283, in dispatcher\n",
      "    return self.dispatch_shell(stream, msg)\n",
      "  File \"/home/administrator/anaconda3/envs/core-dev/lib/python3.6/site-packages/ipykernel/kernelbase.py\", line 233, in dispatch_shell\n",
      "    handler(stream, idents, msg)\n",
      "  File \"/home/administrator/anaconda3/envs/core-dev/lib/python3.6/site-packages/ipykernel/kernelbase.py\", line 399, in execute_request\n",
      "    user_expressions, allow_stdin)\n",
      "  File \"/home/administrator/anaconda3/envs/core-dev/lib/python3.6/site-packages/ipykernel/ipkernel.py\", line 208, in do_execute\n",
      "    res = shell.run_cell(code, store_history=store_history, silent=silent)\n",
      "  File \"/home/administrator/anaconda3/envs/core-dev/lib/python3.6/site-packages/ipykernel/zmqshell.py\", line 537, in run_cell\n",
      "    return super(ZMQInteractiveShell, self).run_cell(*args, **kwargs)\n",
      "  File \"/home/administrator/anaconda3/envs/core-dev/lib/python3.6/site-packages/IPython/core/interactiveshell.py\", line 2666, in run_cell\n",
      "    self.events.trigger('post_run_cell', result)\n",
      "  File \"/home/administrator/anaconda3/envs/core-dev/lib/python3.6/site-packages/IPython/core/events.py\", line 88, in trigger\n",
      "    func(*args, **kwargs)\n",
      "  File \"/home/administrator/anaconda3/envs/core-dev/lib/python3.6/site-packages/ipykernel/pylab/backend_inline.py\", line 160, in configure_once\n",
      "    activate_matplotlib(backend)\n",
      "  File \"/home/administrator/anaconda3/envs/core-dev/lib/python3.6/site-packages/IPython/core/pylabtools.py\", line 311, in activate_matplotlib\n",
      "    matplotlib.pyplot.switch_backend(backend)\n",
      "  File \"/home/administrator/anaconda3/envs/core-dev/lib/python3.6/site-packages/matplotlib/pyplot.py\", line 231, in switch_backend\n",
      "    matplotlib.use(newbackend, warn=False, force=True)\n",
      "  File \"/home/administrator/anaconda3/envs/core-dev/lib/python3.6/site-packages/matplotlib/__init__.py\", line 1410, in use\n",
      "    reload(sys.modules['matplotlib.backends'])\n",
      "  File \"/home/administrator/anaconda3/envs/core-dev/lib/python3.6/importlib/__init__.py\", line 166, in reload\n",
      "    _bootstrap._exec(spec, module)\n",
      "  File \"/home/administrator/anaconda3/envs/core-dev/lib/python3.6/site-packages/matplotlib/backends/__init__.py\", line 16, in <module>\n",
      "    line for line in traceback.format_stack()\n",
      "\n",
      "\n",
      "  matplotlib.use('Agg')\n"
     ]
    },
    {
     "data": {
      "image/png": "[encoded data removed]",
      "text/plain": [
       "<Figure size 720x720 with 1 Axes>"
      ]
     },
     "metadata": {},
     "output_type": "display_data"
    },
    {
     "data": {
      "image/png": "[encoded data removed]",
      "text/plain": [
       "<Figure size 720x720 with 1 Axes>"
      ]
     },
     "metadata": {},
     "output_type": "display_data"
    }
   ],
   "source": [
    "import matplotlib.pyplot as plt\n",
    "from coremdlr.viz import model_plots \n",
    "\n",
    "pred_dfs = []\n",
    "\n",
    "for test_well_name in fdset.test_well_names:\n",
    "    df = xgb_predictor.preds_dataframe(test_well_name, logs=fdset.logs_args['which_logs'])\n",
    "    df['well'] = test_well_name\n",
    "    \n",
    "    fig, ax = plt.subplots(figsize=(10,10))\n",
    "    model_plots.confusion_matrix_plot(df, fdset.classes, title=test_well_name, ax=ax)\n",
    "    \n",
    "    pred_dfs.append(df)\n",
    "    \n",
    "pred_df = pd.concat(pred_dfs)"
   ]
  },
  {
   "cell_type": "code",
   "execution_count": 10,
   "metadata": {},
   "outputs": [
    {
     "data": {
      "text/plain": [
       "['sandstone',\n",
       " 'clay-prone sandstone',\n",
       " 'sandy mudstone',\n",
       " 'oilstained',\n",
       " 'mudstone']"
      ]
     },
     "execution_count": 10,
     "metadata": {},
     "output_type": "execute_result"
    }
   ],
   "source": [
    "fdset.classes"
   ]
  },
  {
   "cell_type": "code",
   "execution_count": null,
   "metadata": {},
   "outputs": [],
   "source": []
  }
 ],
 "metadata": {
  "kernelspec": {
   "display_name": "Python 3",
   "language": "python",
   "name": "python3"
  },
  "language_info": {
   "codemirror_mode": {
    "name": "ipython",
    "version": 3
   },
   "file_extension": ".py",
   "mimetype": "text/x-python",
   "name": "python",
   "nbconvert_exporter": "python",
   "pygments_lexer": "ipython3",
   "version": "3.6.7"
  }
 },
 "nbformat": 4,
 "nbformat_minor": 2
}
