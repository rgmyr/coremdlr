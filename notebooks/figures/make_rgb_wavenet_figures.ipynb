{
 "cells": [
  {
   "cell_type": "code",
   "execution_count": 1,
   "metadata": {},
   "outputs": [
    {
     "name": "stderr",
     "output_type": "stream",
     "text": [
      "Using TensorFlow backend.\n"
     ]
    }
   ],
   "source": [
    "import numpy as np\n",
    "import pandas as pd\n",
    "\n",
    "import matplotlib.pyplot as plt\n",
    "%matplotlib inline\n",
    "\n",
    "from coremdlr.viz import CorePlotter\n",
    "from coremdlr.datasets import WellLoader\n",
    "from coremdlr.config.strip_config import lithologies_dict"
   ]
  },
  {
   "cell_type": "code",
   "execution_count": null,
   "metadata": {},
   "outputs": [],
   "source": [
    "wavenet_results = pd.read_csv('./data/cross_test_wavenet.csv')\n",
    "\n",
    "wavenet_results.columns"
   ]
  },
  {
   "cell_type": "code",
   "execution_count": null,
   "metadata": {},
   "outputs": [],
   "source": [
    "wavenet_results.well_name.unique()"
   ]
  },
  {
   "cell_type": "code",
   "execution_count": null,
   "metadata": {},
   "outputs": [],
   "source": [
    "results = wavenet_results[wavenet_results.well_name == '204-19-6']\n",
    "\n",
    "(results.y_true == results.y_pred).sum() / results.shape[0]"
   ]
  },
  {
   "cell_type": "code",
   "execution_count": 2,
   "metadata": {},
   "outputs": [
    {
     "name": "stdout",
     "output_type": "stream",
     "text": [
      "Loading Well:  204-19-6  from  /home/ross/Dropbox/core_data/facies/train_data\n"
     ]
    },
    {
     "name": "stderr",
     "output_type": "stream",
     "text": [
      "/home/ross/code/python/projects/coremdlr/coremdlr/datasets/utils.py:88: RuntimeWarning: Mean of empty slice\n",
      "  output_features.append(np.nanmean(img, axis=1))\n",
      "/home/ross/code/python/projects/coremdlr/coremdlr/datasets/utils.py:92: RuntimeWarning: Degrees of freedom <= 0 for slice.\n",
      "  output_features.append(np.nanvar(img, axis=1))\n"
     ]
    },
    {
     "name": "stdout",
     "output_type": "stream",
     "text": [
      "Extracted pGR features:  ['Umean', 'Rmean', 'Gmean', 'Bmean', 'Uvar', 'Rvar', 'Gvar', 'Bvar']\n"
     ]
    },
    {
     "name": "stderr",
     "output_type": "stream",
     "text": [
      "Header section Parameter regexp=~P was not found.\n"
     ]
    },
    {
     "name": "stdout",
     "output_type": "stream",
     "text": [
      "Feature shapes:  [('depth', (1947,)), ('top', (1947,)), ('base', (1947,)), ('image', (1947, 32, 600, 3)), ('pseudoGR', (1947, 32, 8)), ('logs', (1947, 2))]\n"
     ]
    },
    {
     "data": {
      "text/plain": [
       "<coremdlr.datasets.well_loader.WellLoader at 0x7f69f6365250>"
      ]
     },
     "execution_count": 2,
     "metadata": {},
     "output_type": "execute_result"
    }
   ],
   "source": [
    "well = WellLoader('204-19-6', use_pseudoGR=True, use_logs=True,\n",
    "                  pseudoGR_args={'features': ['mean', 'var'], 'per_channel' : True},\n",
    "                  logs_args={'which_logs' : ['PEF', 'GR']})\n",
    "\n",
    "labels = np.array(list(lithologies_dict.keys()), dtype='a2').tolist()\n",
    "\n",
    "well.load_data(labels)"
   ]
  },
  {
   "cell_type": "code",
   "execution_count": 3,
   "metadata": {},
   "outputs": [
    {
     "data": {
      "text/plain": [
       "((77480, 600, 3),\n",
       " (77480, 8),\n",
       " (77480,),\n",
       " ['Umean', 'Rmean', 'Gmean', 'Bmean', 'Uvar', 'Rvar', 'Gvar', 'Bvar'])"
      ]
     },
     "execution_count": 3,
     "metadata": {},
     "output_type": "execute_result"
    }
   ],
   "source": [
    "well._image.shape, well._pseudoGR.shape, well._depth.shape, well.pGR_feat_names"
   ]
  },
  {
   "cell_type": "code",
   "execution_count": null,
   "metadata": {},
   "outputs": [],
   "source": []
  },
  {
   "cell_type": "code",
   "execution_count": null,
   "metadata": {},
   "outputs": [],
   "source": []
  },
  {
   "cell_type": "code",
   "execution_count": null,
   "metadata": {},
   "outputs": [],
   "source": []
  },
  {
   "cell_type": "code",
   "execution_count": null,
   "metadata": {},
   "outputs": [],
   "source": []
  },
  {
   "cell_type": "code",
   "execution_count": null,
   "metadata": {},
   "outputs": [],
   "source": []
  },
  {
   "cell_type": "code",
   "execution_count": null,
   "metadata": {},
   "outputs": [],
   "source": [
    "pGR_feat2idx = {feat_name : i for feat_name, i in zip(well.pGR_feat_names, range(8))}\n",
    "pGR_feat2idx"
   ]
  },
  {
   "cell_type": "code",
   "execution_count": null,
   "metadata": {},
   "outputs": [],
   "source": [
    "well.logs_df[~well.logs_df.isna().any(axis=1)]"
   ]
  },
  {
   "cell_type": "code",
   "execution_count": null,
   "metadata": {
    "scrolled": false
   },
   "outputs": [],
   "source": [
    "coreplotter = CorePlotter(figsize=(40,600))\n",
    "\n",
    "# plot image\n",
    "coreplotter.plot_image(well._image / 255.0, well._depth)\n",
    "coreplotter.get_ax_by_name('Image').set_title('Image', fontsize=24)\n",
    "\n",
    "# plot RGB\n",
    "r = well._pseudoGR[:, pGR_feat2idx['Rmean']]\n",
    "g = well._pseudoGR[:, pGR_feat2idx['Gmean']]\n",
    "b = well._pseudoGR[:, pGR_feat2idx['Bmean']]\n",
    "\n",
    "xlim = np.nanmin(np.concatenate([r,g,b])), np.nanmax(np.concatenate([r,g,b]))\n",
    "coreplotter.plot_log(well._depth, r, c='r', name='RGB', lw=3, alpha=0.9, xlim=xlim)\n",
    "coreplotter.plot_log(well._depth, g, name='RGB', c='g', lw=3, alpha=0.7, xlim=xlim)\n",
    "coreplotter.plot_log(well._depth, b, name='RGB', c='b', lw=3, alpha=0.5, xlim=xlim)\n",
    "\n",
    "log_ax = coreplotter.get_ax_by_name('RGB')\n",
    "log_ax.set_title('RGB Logs', fontsize=24)\n",
    "log_ax.set_yticks([])\n",
    "log_ax.set_xticklabels([])\n",
    "\n",
    "\n",
    "# plot logs\n",
    "logs_df = well.logs_df[~well.logs_df.isna().any(axis=1)]\n",
    "\n",
    "# PEF\n",
    "coreplotter.plot_log(logs_df.index.values, logs_df.PEF.values, name='PEF', c='g', xlim=(0,10))\n",
    "log_ax = coreplotter.get_ax_by_name('PEF')\n",
    "log_ax.set_title('PEF', fontsize=24)\n",
    "log_ax.set_yticks([])\n",
    "\n",
    "# GR\n",
    "coreplotter.plot_log(logs_df.index.values, logs_df.GR.values, name='GR', c='b', xlim=(0,150))\n",
    "log_ax = coreplotter.get_ax_by_name('GR')\n",
    "log_ax.set_title('GR', fontsize=24)\n",
    "log_ax.set_yticks([])\n",
    "\n",
    "# Predicted labels\n",
    "y_pred = results.y_pred.values\n",
    "y_pred[np.where(y_pred==3)] = 4    # have to change 3->4 because of new labels ('os'->'sh')\n",
    "coreplotter.plot_strip(well.make_striplog(labels=y_pred), name='Preds')\n",
    "coreplotter.get_ax_by_name('Preds').set_title('Preds', fontsize=24)\n",
    "\n",
    "# Confidence\n",
    "coreplotter.plot_log(results.depth.values, results.confidence.values, name='Conf', color='black', xlim=(0.6,1))\n",
    "log_ax = coreplotter.get_ax_by_name('Conf')\n",
    "log_ax.set_title('Confidence', fontsize=24)\n",
    "log_ax.set_yticks([])\n",
    "\n",
    "# true labels\n",
    "coreplotter.plot_strip(well.make_striplog(), name='Labels')\n",
    "coreplotter.get_ax_by_name('Labels').set_title('Labels', fontsize=24)\n",
    "\n",
    "#coreplotter.fig.show()\n",
    "coreplotter.fig.savefig('wavenet_preds_RGB_logs_conf_204-19-6.png')"
   ]
  },
  {
   "cell_type": "code",
   "execution_count": null,
   "metadata": {
    "scrolled": true
   },
   "outputs": [],
   "source": [
    "coreplotter = CorePlotter(figsize=(15,600))\n",
    "\n",
    "# plot image\n",
    "coreplotter.plot_image(well._image / 255.0, well._depth)\n",
    "coreplotter.get_ax_by_name('Image').set_title('Image', fontsize=24)\n",
    "\n",
    "# true labels\n",
    "coreplotter.plot_strip(well.make_striplog(), name='Labels')\n",
    "coreplotter.get_ax_by_name('Labels').set_title('Labels', fontsize=24)\n",
    "\n",
    "#coreplotter.fig.show()\n",
    "coreplotter.fig.savefig('core_with_labels_204-19-6.png')"
   ]
  },
  {
   "cell_type": "code",
   "execution_count": null,
   "metadata": {
    "scrolled": false
   },
   "outputs": [],
   "source": [
    "results.y_pred.unique(), results.y_true.unique()"
   ]
  },
  {
   "cell_type": "code",
   "execution_count": null,
   "metadata": {},
   "outputs": [],
   "source": [
    "coreplotter.fig.savefig('wavenet_preds_RGB_normed.png')"
   ]
  },
  {
   "cell_type": "code",
   "execution_count": null,
   "metadata": {},
   "outputs": [],
   "source": [
    "d = {'a' : 0}\n",
    "d.get('b')"
   ]
  },
  {
   "cell_type": "code",
   "execution_count": null,
   "metadata": {},
   "outputs": [],
   "source": [
    "d.pop('b', 5)"
   ]
  },
  {
   "cell_type": "code",
   "execution_count": null,
   "metadata": {},
   "outputs": [],
   "source": [
    "from coremdlr.viz.model_plots import confusion_matrix_plot\n",
    "\n",
    "classes = ['sandstone', 'clay-prone sandstone', 'sandy mudstone', 'mudstone']\n",
    "\n",
    "ax = confusion_matrix_plot({'y_pred' : y_pred, 'y_true' : results.y_true}, classes=classes)"
   ]
  },
  {
   "cell_type": "code",
   "execution_count": null,
   "metadata": {},
   "outputs": [],
   "source": [
    "results.confidence.min()"
   ]
  },
  {
   "cell_type": "code",
   "execution_count": null,
   "metadata": {},
   "outputs": [],
   "source": [
    "for name, grp in wavenet_results.groupby('well_name'):\n",
    "\n",
    "    acc = (grp.y_true == grp.y_pred).sum() / grp.shape[0]\n",
    "    print(name, np.round(acc, 3))"
   ]
  },
  {
   "cell_type": "code",
   "execution_count": null,
   "metadata": {},
   "outputs": [],
   "source": [
    "results = wavenet_results[wavenet_results.well_name == '204-20-6a']\n",
    "\n",
    "(results.y_true == results.y_pred).sum() / results.shape[0]"
   ]
  },
  {
   "cell_type": "code",
   "execution_count": null,
   "metadata": {},
   "outputs": [],
   "source": [
    "results.y_pred.unique()"
   ]
  },
  {
   "cell_type": "code",
   "execution_count": null,
   "metadata": {},
   "outputs": [],
   "source": [
    "well = WellLoader('204-20-6a', use_pseudoGR=True, use_logs=True,\n",
    "                  pseudoGR_args={'features': ['mean'], 'per_channel' : True},\n",
    "                  logs_args={'which_logs' : ['PEF', 'GR']})\n",
    "\n",
    "labels = np.array(list(lithologies_dict.keys()), dtype='a2').tolist()\n",
    "\n",
    "well.load_data(labels)"
   ]
  },
  {
   "cell_type": "code",
   "execution_count": null,
   "metadata": {
    "scrolled": false
   },
   "outputs": [],
   "source": [
    "coreplotter = CorePlotter(figsize=(40,600))\n",
    "\n",
    "# plot image\n",
    "coreplotter.plot_image(well._image / 255.0, well._depth)\n",
    "coreplotter.get_ax_by_name('Image').set_title('Image', fontsize=24)\n",
    "\n",
    "# plot RGB\n",
    "r = well._pseudoGR[:, pGR_feat2idx['Rmean']]\n",
    "g = well._pseudoGR[:, pGR_feat2idx['Gmean']]\n",
    "b = well._pseudoGR[:, pGR_feat2idx['Bmean']]\n",
    "\n",
    "xlim = np.nanmin(np.concatenate([r,g,b])), np.nanmax(np.concatenate([r,g,b]))\n",
    "coreplotter.plot_log(well._depth, r, c='r', name='RGB', lw=3, alpha=0.9, xlim=xlim)\n",
    "coreplotter.plot_log(well._depth, g, name='RGB', c='g', lw=3, alpha=0.7, xlim=xlim)\n",
    "coreplotter.plot_log(well._depth, b, name='RGB', c='b', lw=3, alpha=0.5, xlim=xlim)\n",
    "\n",
    "log_ax = coreplotter.get_ax_by_name('RGB')\n",
    "log_ax.set_title('RGB Logs', fontsize=24)\n",
    "log_ax.set_yticks([])\n",
    "log_ax.set_xticklabels([])\n",
    "\n",
    "# plot logs\n",
    "logs_df = well.logs_df[~well.logs_df.isna().any(axis=1)]\n",
    "\n",
    "# PEF\n",
    "coreplotter.plot_log(logs_df.index.values, logs_df.PEF.values, name='PEF', c='g', xlim=(0,10))\n",
    "log_ax = coreplotter.get_ax_by_name('PEF')\n",
    "log_ax.set_title('PEF', fontsize=24)\n",
    "log_ax.set_yticks([])\n",
    "\n",
    "# GR\n",
    "coreplotter.plot_log(logs_df.index.values, logs_df.GR.values, name='GR', c='b', xlim=(0,150))\n",
    "log_ax = coreplotter.get_ax_by_name('GR')\n",
    "log_ax.set_title('GR', fontsize=24)\n",
    "log_ax.set_yticks([])\n",
    "\n",
    "# Predicted labels\n",
    "#y_pred = results.y_pred.values\n",
    "#y_pred[np.where(y_pred==3)] = 4    # have to change 3->4 because of new labels ('os'->'sh')\n",
    "#coreplotter.plot_strip(well.make_striplog(labels=y_pred), name='Preds')\n",
    "#coreplotter.get_ax_by_name('Preds').set_title('Preds', fontsize=24)\n",
    "\n",
    "# Confidence\n",
    "coreplotter.plot_log(results.depth.values, results.confidence.values, name='Conf', color='black', xlim=(0.6,1))\n",
    "log_ax = coreplotter.get_ax_by_name('Conf')\n",
    "log_ax.set_title('Confidence', fontsize=24)\n",
    "log_ax.set_yticks([])\n",
    "\n",
    "# true labels\n",
    "coreplotter.plot_strip(well.make_striplog(), name='Labels')\n",
    "coreplotter.get_ax_by_name('Labels').set_title('Labels', fontsize=24)\n",
    "\n",
    "coreplotter.fig.show()\n",
    "#coreplotter.fig.savefig('wavenet_preds_RGB_logs_conf_204-20-6a.png')"
   ]
  },
  {
   "cell_type": "code",
   "execution_count": null,
   "metadata": {},
   "outputs": [],
   "source": []
  }
 ],
 "metadata": {
  "kernelspec": {
   "display_name": "Python 3",
   "language": "python",
   "name": "python3"
  },
  "language_info": {
   "codemirror_mode": {
    "name": "ipython",
    "version": 3
   },
   "file_extension": ".py",
   "mimetype": "text/x-python",
   "name": "python",
   "nbconvert_exporter": "python",
   "pygments_lexer": "ipython3",
   "version": "3.7.4"
  }
 },
 "nbformat": 4,
 "nbformat_minor": 2
}
