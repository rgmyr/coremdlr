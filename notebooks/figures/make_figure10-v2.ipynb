{
 "cells": [
  {
   "cell_type": "code",
   "execution_count": 1,
   "metadata": {},
   "outputs": [
    {
     "name": "stderr",
     "output_type": "stream",
     "text": [
      "Using TensorFlow backend.\n"
     ]
    }
   ],
   "source": [
    "import numpy as np\n",
    "import pandas as pd\n",
    "\n",
    "import matplotlib.pyplot as plt\n",
    "%matplotlib inline\n",
    "\n",
    "from striplog import Striplog, Interval, Legend, Component, Decor\n",
    "from striplog.striplog import StriplogError\n",
    "\n",
    "from coremdlr.viz import CorePlotter\n",
    "from coremdlr.datasets import WellLoader\n",
    "from coremdlr.config.strip_config import facies as litho_facies \n",
    "from coremdlr.config.strip_config import legend as litho_legend"
   ]
  },
  {
   "cell_type": "code",
   "execution_count": 10,
   "metadata": {},
   "outputs": [
    {
     "data": {
      "image/png": "[encoded data removed]",
      "text/plain": [
       "<Figure size 576x432 with 8 Axes>"
      ]
     },
     "metadata": {
      "needs_background": "light"
     },
     "output_type": "display_data"
    }
   ],
   "source": [
    "fig, ax = plt.subplots(figsize=(8,6))\n",
    "\n",
    "litho_legend.plot(ax=ax)\n",
    "\n",
    "fig.savefig('litho_legend.pdf')"
   ]
  },
  {
   "cell_type": "markdown",
   "metadata": {},
   "source": [
    "## Load Data"
   ]
  },
  {
   "cell_type": "code",
   "execution_count": 2,
   "metadata": {},
   "outputs": [
    {
     "data": {
      "text/html": [
       "<div>\n",
       "<style scoped>\n",
       "    .dataframe tbody tr th:only-of-type {\n",
       "        vertical-align: middle;\n",
       "    }\n",
       "\n",
       "    .dataframe tbody tr th {\n",
       "        vertical-align: top;\n",
       "    }\n",
       "\n",
       "    .dataframe thead th {\n",
       "        text-align: right;\n",
       "    }\n",
       "</style>\n",
       "<table border=\"1\" class=\"dataframe\">\n",
       "  <thead>\n",
       "    <tr style=\"text-align: right;\">\n",
       "      <th></th>\n",
       "      <th>y_true</th>\n",
       "      <th>y_pred</th>\n",
       "      <th>confidence</th>\n",
       "      <th>regression</th>\n",
       "      <th>proba_0</th>\n",
       "      <th>proba_1</th>\n",
       "      <th>proba_2</th>\n",
       "      <th>proba_3</th>\n",
       "      <th>proba_4</th>\n",
       "      <th>proba_5</th>\n",
       "      <th>...</th>\n",
       "      <th>Umean</th>\n",
       "      <th>Rmean</th>\n",
       "      <th>Gmean</th>\n",
       "      <th>Bmean</th>\n",
       "      <th>Uvar</th>\n",
       "      <th>Rvar</th>\n",
       "      <th>Gvar</th>\n",
       "      <th>Bvar</th>\n",
       "      <th>well</th>\n",
       "      <th>set_number</th>\n",
       "    </tr>\n",
       "  </thead>\n",
       "  <tbody>\n",
       "    <tr>\n",
       "      <th>0</th>\n",
       "      <td>5</td>\n",
       "      <td>5</td>\n",
       "      <td>0.611914</td>\n",
       "      <td>8.179710</td>\n",
       "      <td>0.151625</td>\n",
       "      <td>0.602441</td>\n",
       "      <td>0.141148</td>\n",
       "      <td>0.331870</td>\n",
       "      <td>0.130421</td>\n",
       "      <td>0.304246</td>\n",
       "      <td>...</td>\n",
       "      <td>-0.169696</td>\n",
       "      <td>-0.037076</td>\n",
       "      <td>-0.185816</td>\n",
       "      <td>-0.451029</td>\n",
       "      <td>-0.262351</td>\n",
       "      <td>-0.237118</td>\n",
       "      <td>-0.263653</td>\n",
       "      <td>-0.321653</td>\n",
       "      <td>204-19-3A</td>\n",
       "      <td>0</td>\n",
       "    </tr>\n",
       "    <tr>\n",
       "      <th>1</th>\n",
       "      <td>5</td>\n",
       "      <td>5</td>\n",
       "      <td>0.615519</td>\n",
       "      <td>8.284686</td>\n",
       "      <td>0.155240</td>\n",
       "      <td>0.590467</td>\n",
       "      <td>0.152746</td>\n",
       "      <td>0.335375</td>\n",
       "      <td>0.144083</td>\n",
       "      <td>0.303014</td>\n",
       "      <td>...</td>\n",
       "      <td>-0.083072</td>\n",
       "      <td>0.069513</td>\n",
       "      <td>-0.101441</td>\n",
       "      <td>-0.404928</td>\n",
       "      <td>-0.242584</td>\n",
       "      <td>-0.238451</td>\n",
       "      <td>-0.243797</td>\n",
       "      <td>-0.256717</td>\n",
       "      <td>204-19-3A</td>\n",
       "      <td>0</td>\n",
       "    </tr>\n",
       "    <tr>\n",
       "      <th>2</th>\n",
       "      <td>5</td>\n",
       "      <td>1</td>\n",
       "      <td>0.641316</td>\n",
       "      <td>7.987141</td>\n",
       "      <td>0.161152</td>\n",
       "      <td>0.641316</td>\n",
       "      <td>0.158672</td>\n",
       "      <td>0.342645</td>\n",
       "      <td>0.154063</td>\n",
       "      <td>0.301181</td>\n",
       "      <td>...</td>\n",
       "      <td>-0.127903</td>\n",
       "      <td>0.021166</td>\n",
       "      <td>-0.146246</td>\n",
       "      <td>-0.438773</td>\n",
       "      <td>-0.078964</td>\n",
       "      <td>-0.015447</td>\n",
       "      <td>-0.084968</td>\n",
       "      <td>-0.198222</td>\n",
       "      <td>204-19-3A</td>\n",
       "      <td>0</td>\n",
       "    </tr>\n",
       "    <tr>\n",
       "      <th>3</th>\n",
       "      <td>5</td>\n",
       "      <td>1</td>\n",
       "      <td>0.634600</td>\n",
       "      <td>7.970081</td>\n",
       "      <td>0.150747</td>\n",
       "      <td>0.634600</td>\n",
       "      <td>0.135835</td>\n",
       "      <td>0.307645</td>\n",
       "      <td>0.126664</td>\n",
       "      <td>0.299217</td>\n",
       "      <td>...</td>\n",
       "      <td>-0.105186</td>\n",
       "      <td>0.053991</td>\n",
       "      <td>-0.124798</td>\n",
       "      <td>-0.435397</td>\n",
       "      <td>-0.288769</td>\n",
       "      <td>-0.278994</td>\n",
       "      <td>-0.289781</td>\n",
       "      <td>-0.317195</td>\n",
       "      <td>204-19-3A</td>\n",
       "      <td>0</td>\n",
       "    </tr>\n",
       "    <tr>\n",
       "      <th>4</th>\n",
       "      <td>5</td>\n",
       "      <td>5</td>\n",
       "      <td>0.633112</td>\n",
       "      <td>7.861452</td>\n",
       "      <td>0.112771</td>\n",
       "      <td>0.632838</td>\n",
       "      <td>0.113001</td>\n",
       "      <td>0.301848</td>\n",
       "      <td>0.105169</td>\n",
       "      <td>0.266508</td>\n",
       "      <td>...</td>\n",
       "      <td>-0.109990</td>\n",
       "      <td>0.053269</td>\n",
       "      <td>-0.130225</td>\n",
       "      <td>-0.446917</td>\n",
       "      <td>-0.290969</td>\n",
       "      <td>-0.288689</td>\n",
       "      <td>-0.291185</td>\n",
       "      <td>-0.308890</td>\n",
       "      <td>204-19-3A</td>\n",
       "      <td>0</td>\n",
       "    </tr>\n",
       "  </tbody>\n",
       "</table>\n",
       "<p>5 rows × 24 columns</p>\n",
       "</div>"
      ],
      "text/plain": [
       "   y_true  y_pred  confidence  regression   proba_0   proba_1   proba_2  \\\n",
       "0       5       5    0.611914    8.179710  0.151625  0.602441  0.141148   \n",
       "1       5       5    0.615519    8.284686  0.155240  0.590467  0.152746   \n",
       "2       5       1    0.641316    7.987141  0.161152  0.641316  0.158672   \n",
       "3       5       1    0.634600    7.970081  0.150747  0.634600  0.135835   \n",
       "4       5       5    0.633112    7.861452  0.112771  0.632838  0.113001   \n",
       "\n",
       "    proba_3   proba_4   proba_5  ...     Umean     Rmean     Gmean     Bmean  \\\n",
       "0  0.331870  0.130421  0.304246  ... -0.169696 -0.037076 -0.185816 -0.451029   \n",
       "1  0.335375  0.144083  0.303014  ... -0.083072  0.069513 -0.101441 -0.404928   \n",
       "2  0.342645  0.154063  0.301181  ... -0.127903  0.021166 -0.146246 -0.438773   \n",
       "3  0.307645  0.126664  0.299217  ... -0.105186  0.053991 -0.124798 -0.435397   \n",
       "4  0.301848  0.105169  0.266508  ... -0.109990  0.053269 -0.130225 -0.446917   \n",
       "\n",
       "       Uvar      Rvar      Gvar      Bvar       well  set_number  \n",
       "0 -0.262351 -0.237118 -0.263653 -0.321653  204-19-3A           0  \n",
       "1 -0.242584 -0.238451 -0.243797 -0.256717  204-19-3A           0  \n",
       "2 -0.078964 -0.015447 -0.084968 -0.198222  204-19-3A           0  \n",
       "3 -0.288769 -0.278994 -0.289781 -0.317195  204-19-3A           0  \n",
       "4 -0.290969 -0.288689 -0.291185 -0.308890  204-19-3A           0  \n",
       "\n",
       "[5 rows x 24 columns]"
      ]
     },
     "execution_count": 2,
     "metadata": {},
     "output_type": "execute_result"
    }
   ],
   "source": [
    "usecols = ['y_true', 'y_pred', 'confidence',\n",
    "       'regression', 'proba_0', 'proba_1', 'proba_2', 'proba_3', 'proba_4',\n",
    "       'proba_5', 'proba_6', 'depth', 'top', 'base', 'Umean', 'Rmean', 'Gmean',\n",
    "       'Bmean', 'Uvar', 'Rvar', 'Gvar', 'Bvar', 'well', 'set_number']\n",
    "\n",
    "facies_df = pd.read_csv('Facies_CCL_results_ADJ_FACIES.csv', usecols=usecols)\n",
    "facies_df.head()"
   ]
  },
  {
   "cell_type": "code",
   "execution_count": 3,
   "metadata": {},
   "outputs": [
    {
     "data": {
      "text/plain": [
       "(0    10925\n",
       " 5     7669\n",
       " 1     7434\n",
       " 4     4844\n",
       " 2     1828\n",
       " 3      834\n",
       " Name: y_true, dtype: int64, 0    14504\n",
       " 1     9627\n",
       " 5     8294\n",
       " 4     1109\n",
       " Name: y_pred, dtype: int64)"
      ]
     },
     "execution_count": 3,
     "metadata": {},
     "output_type": "execute_result"
    }
   ],
   "source": [
    "facies_df.y_true.value_counts(), facies_df.y_pred.value_counts()"
   ]
  },
  {
   "cell_type": "code",
   "execution_count": 4,
   "metadata": {},
   "outputs": [
    {
     "data": {
      "text/html": [
       "<div>\n",
       "<style scoped>\n",
       "    .dataframe tbody tr th:only-of-type {\n",
       "        vertical-align: middle;\n",
       "    }\n",
       "\n",
       "    .dataframe tbody tr th {\n",
       "        vertical-align: top;\n",
       "    }\n",
       "\n",
       "    .dataframe thead th {\n",
       "        text-align: right;\n",
       "    }\n",
       "</style>\n",
       "<table border=\"1\" class=\"dataframe\">\n",
       "  <thead>\n",
       "    <tr style=\"text-align: right;\">\n",
       "      <th></th>\n",
       "      <th>y_true</th>\n",
       "      <th>y_pred</th>\n",
       "      <th>confidence</th>\n",
       "      <th>regression</th>\n",
       "      <th>proba_0</th>\n",
       "      <th>proba_1</th>\n",
       "      <th>proba_2</th>\n",
       "      <th>proba_3</th>\n",
       "      <th>proba_4</th>\n",
       "      <th>depth</th>\n",
       "      <th>...</th>\n",
       "      <th>Umean</th>\n",
       "      <th>Rmean</th>\n",
       "      <th>Gmean</th>\n",
       "      <th>Bmean</th>\n",
       "      <th>Uvar</th>\n",
       "      <th>Rvar</th>\n",
       "      <th>Gvar</th>\n",
       "      <th>Bvar</th>\n",
       "      <th>well</th>\n",
       "      <th>set_number</th>\n",
       "    </tr>\n",
       "  </thead>\n",
       "  <tbody>\n",
       "    <tr>\n",
       "      <th>0</th>\n",
       "      <td>1</td>\n",
       "      <td>3</td>\n",
       "      <td>0.960986</td>\n",
       "      <td>3.987930</td>\n",
       "      <td>0.045533</td>\n",
       "      <td>0.224746</td>\n",
       "      <td>0.119336</td>\n",
       "      <td>0.960986</td>\n",
       "      <td>0.098391</td>\n",
       "      <td>2401.034821</td>\n",
       "      <td>...</td>\n",
       "      <td>-0.870509</td>\n",
       "      <td>-0.882212</td>\n",
       "      <td>-0.862941</td>\n",
       "      <td>-0.786740</td>\n",
       "      <td>0.116607</td>\n",
       "      <td>0.227614</td>\n",
       "      <td>0.103433</td>\n",
       "      <td>-0.117270</td>\n",
       "      <td>204-20-3</td>\n",
       "      <td>0</td>\n",
       "    </tr>\n",
       "    <tr>\n",
       "      <th>1</th>\n",
       "      <td>1</td>\n",
       "      <td>3</td>\n",
       "      <td>0.973069</td>\n",
       "      <td>3.919785</td>\n",
       "      <td>0.039181</td>\n",
       "      <td>0.176123</td>\n",
       "      <td>0.110202</td>\n",
       "      <td>0.973069</td>\n",
       "      <td>0.091855</td>\n",
       "      <td>2401.040191</td>\n",
       "      <td>...</td>\n",
       "      <td>-0.715778</td>\n",
       "      <td>-0.704601</td>\n",
       "      <td>-0.712499</td>\n",
       "      <td>-0.682090</td>\n",
       "      <td>-0.194828</td>\n",
       "      <td>-0.175045</td>\n",
       "      <td>-0.197290</td>\n",
       "      <td>-0.254695</td>\n",
       "      <td>204-20-3</td>\n",
       "      <td>0</td>\n",
       "    </tr>\n",
       "    <tr>\n",
       "      <th>2</th>\n",
       "      <td>1</td>\n",
       "      <td>3</td>\n",
       "      <td>0.971063</td>\n",
       "      <td>3.969067</td>\n",
       "      <td>0.042374</td>\n",
       "      <td>0.177723</td>\n",
       "      <td>0.117010</td>\n",
       "      <td>0.971063</td>\n",
       "      <td>0.099823</td>\n",
       "      <td>2401.045561</td>\n",
       "      <td>...</td>\n",
       "      <td>-0.650777</td>\n",
       "      <td>-0.627985</td>\n",
       "      <td>-0.649280</td>\n",
       "      <td>-0.643503</td>\n",
       "      <td>-0.223588</td>\n",
       "      <td>-0.246934</td>\n",
       "      <td>-0.221730</td>\n",
       "      <td>-0.206153</td>\n",
       "      <td>204-20-3</td>\n",
       "      <td>0</td>\n",
       "    </tr>\n",
       "    <tr>\n",
       "      <th>3</th>\n",
       "      <td>1</td>\n",
       "      <td>3</td>\n",
       "      <td>0.969221</td>\n",
       "      <td>3.973616</td>\n",
       "      <td>0.044048</td>\n",
       "      <td>0.186133</td>\n",
       "      <td>0.119370</td>\n",
       "      <td>0.969221</td>\n",
       "      <td>0.098869</td>\n",
       "      <td>2401.050931</td>\n",
       "      <td>...</td>\n",
       "      <td>-0.621952</td>\n",
       "      <td>-0.600528</td>\n",
       "      <td>-0.619157</td>\n",
       "      <td>-0.628618</td>\n",
       "      <td>-0.264968</td>\n",
       "      <td>-0.276889</td>\n",
       "      <td>-0.265391</td>\n",
       "      <td>-0.249082</td>\n",
       "      <td>204-20-3</td>\n",
       "      <td>0</td>\n",
       "    </tr>\n",
       "    <tr>\n",
       "      <th>4</th>\n",
       "      <td>1</td>\n",
       "      <td>3</td>\n",
       "      <td>0.968116</td>\n",
       "      <td>4.049161</td>\n",
       "      <td>0.046571</td>\n",
       "      <td>0.177138</td>\n",
       "      <td>0.127770</td>\n",
       "      <td>0.968116</td>\n",
       "      <td>0.113485</td>\n",
       "      <td>2401.056301</td>\n",
       "      <td>...</td>\n",
       "      <td>-0.617996</td>\n",
       "      <td>-0.599731</td>\n",
       "      <td>-0.615214</td>\n",
       "      <td>-0.616868</td>\n",
       "      <td>-0.238730</td>\n",
       "      <td>-0.259822</td>\n",
       "      <td>-0.237936</td>\n",
       "      <td>-0.205585</td>\n",
       "      <td>204-20-3</td>\n",
       "      <td>0</td>\n",
       "    </tr>\n",
       "  </tbody>\n",
       "</table>\n",
       "<p>5 rows × 22 columns</p>\n",
       "</div>"
      ],
      "text/plain": [
       "   y_true  y_pred  confidence  regression   proba_0   proba_1   proba_2  \\\n",
       "0       1       3    0.960986    3.987930  0.045533  0.224746  0.119336   \n",
       "1       1       3    0.973069    3.919785  0.039181  0.176123  0.110202   \n",
       "2       1       3    0.971063    3.969067  0.042374  0.177723  0.117010   \n",
       "3       1       3    0.969221    3.973616  0.044048  0.186133  0.119370   \n",
       "4       1       3    0.968116    4.049161  0.046571  0.177138  0.127770   \n",
       "\n",
       "    proba_3   proba_4        depth  ...     Umean     Rmean     Gmean  \\\n",
       "0  0.960986  0.098391  2401.034821  ... -0.870509 -0.882212 -0.862941   \n",
       "1  0.973069  0.091855  2401.040191  ... -0.715778 -0.704601 -0.712499   \n",
       "2  0.971063  0.099823  2401.045561  ... -0.650777 -0.627985 -0.649280   \n",
       "3  0.969221  0.098869  2401.050931  ... -0.621952 -0.600528 -0.619157   \n",
       "4  0.968116  0.113485  2401.056301  ... -0.617996 -0.599731 -0.615214   \n",
       "\n",
       "      Bmean      Uvar      Rvar      Gvar      Bvar      well  set_number  \n",
       "0 -0.786740  0.116607  0.227614  0.103433 -0.117270  204-20-3           0  \n",
       "1 -0.682090 -0.194828 -0.175045 -0.197290 -0.254695  204-20-3           0  \n",
       "2 -0.643503 -0.223588 -0.246934 -0.221730 -0.206153  204-20-3           0  \n",
       "3 -0.628618 -0.264968 -0.276889 -0.265391 -0.249082  204-20-3           0  \n",
       "4 -0.616868 -0.238730 -0.259822 -0.237936 -0.205585  204-20-3           0  \n",
       "\n",
       "[5 rows x 22 columns]"
      ]
     },
     "execution_count": 4,
     "metadata": {},
     "output_type": "execute_result"
    }
   ],
   "source": [
    "litho_df = pd.read_csv('pgr_wavenet_results_train_sets9_FINAL.csv', index_col='Unnamed: 0')\n",
    "litho_df.head()"
   ]
  },
  {
   "cell_type": "code",
   "execution_count": 5,
   "metadata": {},
   "outputs": [
    {
     "data": {
      "text/plain": [
       "(0    34867\n",
       " 4    32226\n",
       " 3    17441\n",
       " 1    15227\n",
       " 2    11040\n",
       " Name: y_true, dtype: int64, 4    43349\n",
       " 0    39993\n",
       " 3    24660\n",
       " 2     2116\n",
       " 1      683\n",
       " Name: y_pred, dtype: int64)"
      ]
     },
     "execution_count": 5,
     "metadata": {},
     "output_type": "execute_result"
    }
   ],
   "source": [
    "litho_df.y_true.value_counts(), litho_df.y_pred.value_counts()"
   ]
  },
  {
   "cell_type": "markdown",
   "metadata": {},
   "source": [
    "## Striplog Stuff"
   ]
  },
  {
   "cell_type": "code",
   "execution_count": 9,
   "metadata": {},
   "outputs": [
    {
     "data": {
      "image/png": "[encoded data removed]",
      "text/plain": [
       "<Figure size 576x432 with 8 Axes>"
      ]
     },
     "metadata": {
      "needs_background": "light"
     },
     "output_type": "display_data"
    }
   ],
   "source": [
    "facies = {\n",
    "    '0': Component({'lithology': 'none', 'train':'n'}),\n",
    "    '1': Component({'lithology': 'sandstone', 'train':'y'}),\n",
    "    '2': Component({'lithology': 'oilstained', 'train':'y'}),\n",
    "    '3': Component({'lithology': 'H3', 'train':'y'}),\n",
    "    '4': Component({'lithology': 'laminated', 'train':'y'}),\n",
    "    '5': Component({'lithology': 'interbedded', 'train':'y'}),\n",
    "    '6': Component({'lithology': 'mudstone', 'train':'y'})\n",
    "}\n",
    "\n",
    "###########################\n",
    "### Visualization Style ###\n",
    "###########################\n",
    "\n",
    "nocore = Decor({\n",
    "    'component': facies['0'],\n",
    "    'colour': 'white',\n",
    "    'hatch': '/',\n",
    "    'width': '5',\n",
    "})\n",
    "\n",
    "sandstone = Decor({\n",
    "    'component': facies['1'],\n",
    "    'colour': 'yellow',\n",
    "    'hatch': '.',\n",
    "    'width': '4',\n",
    "})\n",
    "\n",
    "oilstained = Decor({\n",
    "    'component': facies['2'],\n",
    "    'colour': 'brown',\n",
    "    'hatch': '/',\n",
    "    'width': '3',\n",
    "})\n",
    "\n",
    "h3 = Decor({\n",
    "    'component': facies['3'],\n",
    "    'colour': 'lawngreen',\n",
    "    'hatch': 'X',\n",
    "    'width': '3',\n",
    "})\n",
    "\n",
    "lamsand = Decor({\n",
    "    'component': facies['4'],\n",
    "    'colour': 'yellow',\n",
    "    'hatch': '-',\n",
    "    'width': '3.5',\n",
    "})\n",
    "\n",
    "interbedded = Decor({\n",
    "    'component': facies['5'],\n",
    "    'colour': 'mediumseagreen',\n",
    "    'hatch': '-',\n",
    "    'width': '3.5',\n",
    "})\n",
    "\n",
    "mudstone = Decor({\n",
    "    'component': facies['6'],\n",
    "    'colour': 'darkgray',\n",
    "    'hatch': '-',\n",
    "    'width': '1',\n",
    "})\n",
    "\n",
    "facies_legend = Legend([nocore, sandstone, oilstained, h3, lamsand, interbedded, mudstone])\n",
    "\n",
    "\n",
    "fig, ax = plt.subplots(figsize=(8,6))\n",
    "\n",
    "facies_legend.plot(ax=ax)\n",
    "\n",
    "fig.savefig('facies_legend.pdf')"
   ]
  },
  {
   "cell_type": "code",
   "execution_count": 7,
   "metadata": {},
   "outputs": [
    {
     "data": {
      "image/png": "[encoded data removed]",
      "text/plain": [
       "<Figure size 108x1080 with 1 Axes>"
      ]
     },
     "metadata": {
      "needs_background": "light"
     },
     "output_type": "display_data"
    }
   ],
   "source": [
    "\n",
    "def df_to_faciestrip(df, top, base, labels_col, no_cores=[]):\n",
    "    \"\"\"\n",
    "    Make and return striplog. Optionally save as csv to `save_csv`.\n",
    "    If labels is None, uses uncollapsed self._y as labels.\n",
    "    \n",
    "    `no_cores` to specify no-core intervals\n",
    "    \"\"\"\n",
    "    intervals = []\n",
    "    facies_keys = list(facies.keys())\n",
    "    \n",
    "    # Slice between top and base\n",
    "    df = df[(df.base > top) & (df.top < base)].sort_values('top')\n",
    "    #print(df[['top', 'base', labels_col]])\n",
    "    \n",
    "    labels, tops, bases = df[labels_col].values, df.top.values, df.base.values\n",
    "    tops[0], bases[-1] = top, base\n",
    "\n",
    "    current_label = labels[0]\n",
    "    current_top, current_base = tops[0], bases[0]\n",
    "\n",
    "    for i in range(1, labels.size):\n",
    "        if labels[i] == current_label or i == (labels.size-1):\n",
    "            current_base = bases[i]\n",
    "            \n",
    "        if labels[i] != current_label or i == (labels.size-1):\n",
    "            # close previous interval\n",
    "            descrip = facies_keys[current_label+1]\n",
    "            component = facies[descrip]\n",
    "            #print(descrip, component, current_top, current_base)\n",
    "            interval = Interval(top=current_top,\n",
    "                                base=current_base,\n",
    "                                description = descrip,\n",
    "                                components = [component])\n",
    "            intervals.append(interval)\n",
    "\n",
    "            # open new interval\n",
    "            current_label = labels[i]\n",
    "            current_top, current_base = tops[i], bases[i]\n",
    "            \n",
    "    try:\n",
    "        striplog = Striplog(intervals)\n",
    "    except StriplogError as e:\n",
    "        print(e)\n",
    "        for iv in intervals:\n",
    "            print(f'top: {iv.top}, base: {iv.base}, order: {iv.order}')\n",
    "\n",
    "    return striplog\n",
    "\n",
    "\n",
    "\n",
    "test_df = facies_df[(facies_df.set_number == 1) & (facies_df.well == '204-19-6')]\n",
    "\n",
    "strip = df_to_faciestrip(test_df, 2208., 2210., 'y_true')\n",
    "strip.plot(legend=facies_legend)"
   ]
  },
  {
   "cell_type": "code",
   "execution_count": 8,
   "metadata": {},
   "outputs": [
    {
     "data": {
      "image/png": "[encoded data removed]",
      "text/plain": [
       "<Figure size 108x1080 with 1 Axes>"
      ]
     },
     "metadata": {
      "needs_background": "light"
     },
     "output_type": "display_data"
    }
   ],
   "source": [
    "def df_to_lithostrip(df, top, base, labels_col, no_cores=[]):\n",
    "    \"\"\"\n",
    "    Make and return striplog. Optionally save as csv to `save_csv`.\n",
    "    If labels is None, uses uncollapsed self._y as labels.\n",
    "    \n",
    "    `no_cores` to specify no-core intervals\n",
    "    \"\"\"\n",
    "    intervals = []\n",
    "    facies_keys = list(litho_facies.keys())\n",
    "    \n",
    "    # Slice between top and base\n",
    "    df = df[(df.base > top) & (df.top < base)]\n",
    "    \n",
    "    labels, tops, bases = df[labels_col].values, df.top.values, df.base.values\n",
    "    tops[0], bases[-1] = top, base\n",
    "    \n",
    "\n",
    "    current_label = labels[0]\n",
    "    current_top, current_base = tops[0], bases[0]\n",
    "\n",
    "    for i in range(1, labels.size):\n",
    "        #if (bases[i])\n",
    "        \n",
    "        if labels[i] == current_label or i == (labels.size-1):\n",
    "            current_base = bases[i]\n",
    "            \n",
    "        if labels[i] != current_label or i == (labels.size-1):\n",
    "            # close previous interval\n",
    "            descrip = facies_keys[current_label+2]\n",
    "            component = litho_facies[descrip]\n",
    "            #print(descrip, type(component))\n",
    "            interval = Interval(top=current_top,\n",
    "                                base=current_base,\n",
    "                                description = descrip,\n",
    "                                components = [component])\n",
    "            intervals.append(interval)\n",
    "\n",
    "            # open new interval\n",
    "            current_label = labels[i]\n",
    "            current_top, current_base = tops[i], bases[i]\n",
    "            \n",
    "    try:\n",
    "        striplog = Striplog(intervals)\n",
    "    except StriplogError as e:\n",
    "        print(e)\n",
    "        for iv in intervals:\n",
    "            print(f'top: {iv.top}, base: {iv.base}, order: {iv.order}')\n",
    "\n",
    "    return striplog\n",
    "\n",
    "\n",
    "strip = df_to_lithostrip(litho_df, 2208., 2210., 'y_true')\n",
    "strip.plot(legend=litho_legend)"
   ]
  },
  {
   "cell_type": "markdown",
   "metadata": {},
   "source": [
    "## Striplogs"
   ]
  },
  {
   "cell_type": "code",
   "execution_count": null,
   "metadata": {},
   "outputs": [],
   "source": [
    "# Facies\n",
    "fdf = facies_df[facies_df.set_number == 1]\n",
    "\n",
    "facies_ytrue_stripA = df_to_faciestrip(fdf, 2208., 2210., 'y_true')\n",
    "facies_ypred_stripA = df_to_faciestrip(fdf, 2208., 2210., 'y_pred')\n",
    "\n",
    "facies_ytrue_stripB = df_to_faciestrip(fdf, 2214., 2216., 'y_true')\n",
    "facies_ypred_stripB = df_to_faciestrip(fdf, 2214., 2216., 'y_pred')\n",
    "\n",
    "fdf.y_pred.value_counts(), fdf.y_true.value_counts()"
   ]
  },
  {
   "cell_type": "code",
   "execution_count": null,
   "metadata": {},
   "outputs": [],
   "source": [
    "fdf"
   ]
  },
  {
   "cell_type": "code",
   "execution_count": null,
   "metadata": {},
   "outputs": [],
   "source": [
    "# Litho\n",
    "ldf = litho_df[litho_df.set_number == 1]\n",
    "\n",
    "litho_ytrue_stripA = df_to_lithostrip(ldf, 2208., 2210., 'y_true')\n",
    "litho_ypred_stripA = df_to_lithostrip(ldf, 2208., 2210., 'y_pred')\n",
    "\n",
    "litho_ytrue_stripB = df_to_lithostrip(ldf, 2214., 2216., 'y_true')\n",
    "litho_ypred_stripB = df_to_lithostrip(ldf, 2214., 2216., 'y_pred')\n",
    "\n",
    "ldf.y_pred.value_counts(), ldf.y_true.value_counts()"
   ]
  },
  {
   "cell_type": "markdown",
   "metadata": {},
   "source": [
    "## The Rest"
   ]
  },
  {
   "cell_type": "code",
   "execution_count": null,
   "metadata": {},
   "outputs": [],
   "source": [
    "litho_facies.keys()"
   ]
  },
  {
   "cell_type": "code",
   "execution_count": 12,
   "metadata": {},
   "outputs": [
    {
     "name": "stdout",
     "output_type": "stream",
     "text": [
      "Loading Well:  204-19-6  from  /home/ross/Dropbox/core_data/facies/train_data\n",
      "Extracted pGR features:  ['Umean', 'Rmean', 'Gmean', 'Bmean', 'Uvar', 'Rvar', 'Gvar', 'Bvar']\n",
      "Feature shapes:  [('depth', (1947,)), ('top', (1947,)), ('base', (1947,)), ('image', (1947, 32, 600, 3)), ('pseudoGR', (1947, 32, 8))]\n"
     ]
    },
    {
     "data": {
      "text/plain": [
       "<coremdlr.datasets.well_loader.WellLoader at 0x7fe86e095610>"
      ]
     },
     "execution_count": 12,
     "metadata": {},
     "output_type": "execute_result"
    }
   ],
   "source": [
    "well_litho = WellLoader('204-19-6', use_pseudoGR=True,\n",
    "                  pseudoGR_args={'features': ['mean', 'var'], 'per_channel' : True})\n",
    "\n",
    "labels = np.array(list(litho_facies.keys()), dtype='a2').tolist()\n",
    "\n",
    "well_litho.load_data(labels, skip=2)"
   ]
  },
  {
   "cell_type": "code",
   "execution_count": 13,
   "metadata": {},
   "outputs": [
    {
     "name": "stdout",
     "output_type": "stream",
     "text": [
      "Loading Well:  204-19-6  from  /home/ross/Dropbox/core_data/facies/train_data\n",
      "Extracted pGR features:  ['Umean', 'Rmean', 'Gmean', 'Bmean', 'Uvar', 'Rvar', 'Gvar', 'Bvar']\n"
     ]
    },
    {
     "ename": "ValueError",
     "evalue": "b'7' is not in list",
     "output_type": "error",
     "traceback": [
      "\u001b[0;31m---------------------------------------------------------------------------\u001b[0m",
      "\u001b[0;31mValueError\u001b[0m                                Traceback (most recent call last)",
      "\u001b[0;32m<ipython-input-13-07b8b1b04962>\u001b[0m in \u001b[0;36m<module>\u001b[0;34m\u001b[0m\n\u001b[1;32m      4\u001b[0m \u001b[0mlabels\u001b[0m \u001b[0;34m=\u001b[0m \u001b[0mnp\u001b[0m\u001b[0;34m.\u001b[0m\u001b[0marray\u001b[0m\u001b[0;34m(\u001b[0m\u001b[0mlist\u001b[0m\u001b[0;34m(\u001b[0m\u001b[0mfacies\u001b[0m\u001b[0;34m.\u001b[0m\u001b[0mkeys\u001b[0m\u001b[0;34m(\u001b[0m\u001b[0;34m)\u001b[0m\u001b[0;34m)\u001b[0m\u001b[0;34m,\u001b[0m \u001b[0mdtype\u001b[0m\u001b[0;34m=\u001b[0m\u001b[0;34m'a2'\u001b[0m\u001b[0;34m)\u001b[0m\u001b[0;34m.\u001b[0m\u001b[0mtolist\u001b[0m\u001b[0;34m(\u001b[0m\u001b[0;34m)\u001b[0m\u001b[0;34m\u001b[0m\u001b[0;34m\u001b[0m\u001b[0m\n\u001b[1;32m      5\u001b[0m \u001b[0;34m\u001b[0m\u001b[0m\n\u001b[0;32m----> 6\u001b[0;31m \u001b[0mwell_facies\u001b[0m\u001b[0;34m.\u001b[0m\u001b[0mload_data\u001b[0m\u001b[0;34m(\u001b[0m\u001b[0mlabels\u001b[0m\u001b[0;34m,\u001b[0m \u001b[0mskip\u001b[0m\u001b[0;34m=\u001b[0m\u001b[0;36m1\u001b[0m\u001b[0;34m)\u001b[0m\u001b[0;34m\u001b[0m\u001b[0;34m\u001b[0m\u001b[0m\n\u001b[0m",
      "\u001b[0;32m~/code/python/projects/coremdlr/coremdlr/datasets/well_loader.py\u001b[0m in \u001b[0;36mload_data\u001b[0;34m(self, label_names, skip, aggregate, random_shift)\u001b[0m\n\u001b[1;32m    171\u001b[0m                                   kind=self.logs_args['interp_kind'], bounds_error=True)\n\u001b[1;32m    172\u001b[0m \u001b[0;34m\u001b[0m\u001b[0m\n\u001b[0;32m--> 173\u001b[0;31m         \u001b[0mself\u001b[0m\u001b[0;34m.\u001b[0m\u001b[0m_load_labels\u001b[0m\u001b[0;34m(\u001b[0m\u001b[0mlabel_names\u001b[0m\u001b[0;34m)\u001b[0m\u001b[0;34m\u001b[0m\u001b[0;34m\u001b[0m\u001b[0m\n\u001b[0m\u001b[1;32m    174\u001b[0m \u001b[0;34m\u001b[0m\u001b[0m\n\u001b[1;32m    175\u001b[0m         \u001b[0;32mif\u001b[0m \u001b[0maggregate\u001b[0m\u001b[0;34m:\u001b[0m\u001b[0;34m\u001b[0m\u001b[0;34m\u001b[0m\u001b[0m\n",
      "\u001b[0;32m~/code/python/projects/coremdlr/coremdlr/datasets/well_loader.py\u001b[0m in \u001b[0;36m_load_labels\u001b[0;34m(self, label_names)\u001b[0m\n\u001b[1;32m    187\u001b[0m         \u001b[0;32melse\u001b[0m\u001b[0;34m:\u001b[0m\u001b[0;34m\u001b[0m\u001b[0;34m\u001b[0m\u001b[0m\n\u001b[1;32m    188\u001b[0m             \u001b[0mrow_labels\u001b[0m \u001b[0;34m=\u001b[0m \u001b[0mnp\u001b[0m\u001b[0;34m.\u001b[0m\u001b[0mload\u001b[0m\u001b[0;34m(\u001b[0m\u001b[0mstr\u001b[0m\u001b[0;34m(\u001b[0m\u001b[0mself\u001b[0m\u001b[0;34m.\u001b[0m\u001b[0mlabels_path\u001b[0m\u001b[0;34m)\u001b[0m\u001b[0;34m)\u001b[0m\u001b[0;34m\u001b[0m\u001b[0;34m\u001b[0m\u001b[0m\n\u001b[0;32m--> 189\u001b[0;31m             \u001b[0mself\u001b[0m\u001b[0;34m.\u001b[0m\u001b[0mrow_labels\u001b[0m \u001b[0;34m=\u001b[0m \u001b[0mnp\u001b[0m\u001b[0;34m.\u001b[0m\u001b[0mvectorize\u001b[0m\u001b[0;34m(\u001b[0m\u001b[0;32mlambda\u001b[0m \u001b[0ml\u001b[0m\u001b[0;34m:\u001b[0m \u001b[0mlabel_names\u001b[0m\u001b[0;34m.\u001b[0m\u001b[0mindex\u001b[0m\u001b[0;34m(\u001b[0m\u001b[0ml\u001b[0m\u001b[0;34m)\u001b[0m\u001b[0;34m)\u001b[0m\u001b[0;34m(\u001b[0m\u001b[0mrow_labels\u001b[0m\u001b[0;34m)\u001b[0m\u001b[0;34m\u001b[0m\u001b[0;34m\u001b[0m\u001b[0m\n\u001b[0m\u001b[1;32m    190\u001b[0m \u001b[0;34m\u001b[0m\u001b[0m\n\u001b[1;32m    191\u001b[0m         \u001b[0mself\u001b[0m\u001b[0;34m.\u001b[0m\u001b[0mrow_labels\u001b[0m \u001b[0;34m=\u001b[0m \u001b[0mdatasets_utils\u001b[0m\u001b[0;34m.\u001b[0m\u001b[0mdownsample\u001b[0m\u001b[0;34m(\u001b[0m\u001b[0mself\u001b[0m\u001b[0;34m.\u001b[0m\u001b[0mrow_labels\u001b[0m\u001b[0;34m,\u001b[0m \u001b[0mself\u001b[0m\u001b[0;34m.\u001b[0m\u001b[0mdownsample\u001b[0m\u001b[0;34m,\u001b[0m \u001b[0mfn\u001b[0m\u001b[0;34m=\u001b[0m\u001b[0;32mlambda\u001b[0m \u001b[0mx\u001b[0m\u001b[0;34m:\u001b[0m \u001b[0mmode\u001b[0m\u001b[0;34m(\u001b[0m\u001b[0mx\u001b[0m\u001b[0;34m)\u001b[0m\u001b[0;34m[\u001b[0m\u001b[0;36m0\u001b[0m\u001b[0;34m]\u001b[0m\u001b[0;34m[\u001b[0m\u001b[0;36m0\u001b[0m\u001b[0;34m]\u001b[0m\u001b[0;34m)\u001b[0m\u001b[0;34m\u001b[0m\u001b[0;34m\u001b[0m\u001b[0m\n",
      "\u001b[0;32m~/anaconda3/envs/corebreakout/lib/python3.7/site-packages/numpy/lib/function_base.py\u001b[0m in \u001b[0;36m__call__\u001b[0;34m(self, *args, **kwargs)\u001b[0m\n\u001b[1;32m   2089\u001b[0m             \u001b[0mvargs\u001b[0m\u001b[0;34m.\u001b[0m\u001b[0mextend\u001b[0m\u001b[0;34m(\u001b[0m\u001b[0;34m[\u001b[0m\u001b[0mkwargs\u001b[0m\u001b[0;34m[\u001b[0m\u001b[0m_n\u001b[0m\u001b[0;34m]\u001b[0m \u001b[0;32mfor\u001b[0m \u001b[0m_n\u001b[0m \u001b[0;32min\u001b[0m \u001b[0mnames\u001b[0m\u001b[0;34m]\u001b[0m\u001b[0;34m)\u001b[0m\u001b[0;34m\u001b[0m\u001b[0;34m\u001b[0m\u001b[0m\n\u001b[1;32m   2090\u001b[0m \u001b[0;34m\u001b[0m\u001b[0m\n\u001b[0;32m-> 2091\u001b[0;31m         \u001b[0;32mreturn\u001b[0m \u001b[0mself\u001b[0m\u001b[0;34m.\u001b[0m\u001b[0m_vectorize_call\u001b[0m\u001b[0;34m(\u001b[0m\u001b[0mfunc\u001b[0m\u001b[0;34m=\u001b[0m\u001b[0mfunc\u001b[0m\u001b[0;34m,\u001b[0m \u001b[0margs\u001b[0m\u001b[0;34m=\u001b[0m\u001b[0mvargs\u001b[0m\u001b[0;34m)\u001b[0m\u001b[0;34m\u001b[0m\u001b[0;34m\u001b[0m\u001b[0m\n\u001b[0m\u001b[1;32m   2092\u001b[0m \u001b[0;34m\u001b[0m\u001b[0m\n\u001b[1;32m   2093\u001b[0m     \u001b[0;32mdef\u001b[0m \u001b[0m_get_ufunc_and_otypes\u001b[0m\u001b[0;34m(\u001b[0m\u001b[0mself\u001b[0m\u001b[0;34m,\u001b[0m \u001b[0mfunc\u001b[0m\u001b[0;34m,\u001b[0m \u001b[0margs\u001b[0m\u001b[0;34m)\u001b[0m\u001b[0;34m:\u001b[0m\u001b[0;34m\u001b[0m\u001b[0;34m\u001b[0m\u001b[0m\n",
      "\u001b[0;32m~/anaconda3/envs/corebreakout/lib/python3.7/site-packages/numpy/lib/function_base.py\u001b[0m in \u001b[0;36m_vectorize_call\u001b[0;34m(self, func, args)\u001b[0m\n\u001b[1;32m   2165\u001b[0m                       for a in args]\n\u001b[1;32m   2166\u001b[0m \u001b[0;34m\u001b[0m\u001b[0m\n\u001b[0;32m-> 2167\u001b[0;31m             \u001b[0moutputs\u001b[0m \u001b[0;34m=\u001b[0m \u001b[0mufunc\u001b[0m\u001b[0;34m(\u001b[0m\u001b[0;34m*\u001b[0m\u001b[0minputs\u001b[0m\u001b[0;34m)\u001b[0m\u001b[0;34m\u001b[0m\u001b[0;34m\u001b[0m\u001b[0m\n\u001b[0m\u001b[1;32m   2168\u001b[0m \u001b[0;34m\u001b[0m\u001b[0m\n\u001b[1;32m   2169\u001b[0m             \u001b[0;32mif\u001b[0m \u001b[0mufunc\u001b[0m\u001b[0;34m.\u001b[0m\u001b[0mnout\u001b[0m \u001b[0;34m==\u001b[0m \u001b[0;36m1\u001b[0m\u001b[0;34m:\u001b[0m\u001b[0;34m\u001b[0m\u001b[0;34m\u001b[0m\u001b[0m\n",
      "\u001b[0;32m~/code/python/projects/coremdlr/coremdlr/datasets/well_loader.py\u001b[0m in \u001b[0;36m<lambda>\u001b[0;34m(l)\u001b[0m\n\u001b[1;32m    187\u001b[0m         \u001b[0;32melse\u001b[0m\u001b[0;34m:\u001b[0m\u001b[0;34m\u001b[0m\u001b[0;34m\u001b[0m\u001b[0m\n\u001b[1;32m    188\u001b[0m             \u001b[0mrow_labels\u001b[0m \u001b[0;34m=\u001b[0m \u001b[0mnp\u001b[0m\u001b[0;34m.\u001b[0m\u001b[0mload\u001b[0m\u001b[0;34m(\u001b[0m\u001b[0mstr\u001b[0m\u001b[0;34m(\u001b[0m\u001b[0mself\u001b[0m\u001b[0;34m.\u001b[0m\u001b[0mlabels_path\u001b[0m\u001b[0;34m)\u001b[0m\u001b[0;34m)\u001b[0m\u001b[0;34m\u001b[0m\u001b[0;34m\u001b[0m\u001b[0m\n\u001b[0;32m--> 189\u001b[0;31m             \u001b[0mself\u001b[0m\u001b[0;34m.\u001b[0m\u001b[0mrow_labels\u001b[0m \u001b[0;34m=\u001b[0m \u001b[0mnp\u001b[0m\u001b[0;34m.\u001b[0m\u001b[0mvectorize\u001b[0m\u001b[0;34m(\u001b[0m\u001b[0;32mlambda\u001b[0m \u001b[0ml\u001b[0m\u001b[0;34m:\u001b[0m \u001b[0mlabel_names\u001b[0m\u001b[0;34m.\u001b[0m\u001b[0mindex\u001b[0m\u001b[0;34m(\u001b[0m\u001b[0ml\u001b[0m\u001b[0;34m)\u001b[0m\u001b[0;34m)\u001b[0m\u001b[0;34m(\u001b[0m\u001b[0mrow_labels\u001b[0m\u001b[0;34m)\u001b[0m\u001b[0;34m\u001b[0m\u001b[0;34m\u001b[0m\u001b[0m\n\u001b[0m\u001b[1;32m    190\u001b[0m \u001b[0;34m\u001b[0m\u001b[0m\n\u001b[1;32m    191\u001b[0m         \u001b[0mself\u001b[0m\u001b[0;34m.\u001b[0m\u001b[0mrow_labels\u001b[0m \u001b[0;34m=\u001b[0m \u001b[0mdatasets_utils\u001b[0m\u001b[0;34m.\u001b[0m\u001b[0mdownsample\u001b[0m\u001b[0;34m(\u001b[0m\u001b[0mself\u001b[0m\u001b[0;34m.\u001b[0m\u001b[0mrow_labels\u001b[0m\u001b[0;34m,\u001b[0m \u001b[0mself\u001b[0m\u001b[0;34m.\u001b[0m\u001b[0mdownsample\u001b[0m\u001b[0;34m,\u001b[0m \u001b[0mfn\u001b[0m\u001b[0;34m=\u001b[0m\u001b[0;32mlambda\u001b[0m \u001b[0mx\u001b[0m\u001b[0;34m:\u001b[0m \u001b[0mmode\u001b[0m\u001b[0;34m(\u001b[0m\u001b[0mx\u001b[0m\u001b[0;34m)\u001b[0m\u001b[0;34m[\u001b[0m\u001b[0;36m0\u001b[0m\u001b[0;34m]\u001b[0m\u001b[0;34m[\u001b[0m\u001b[0;36m0\u001b[0m\u001b[0;34m]\u001b[0m\u001b[0;34m)\u001b[0m\u001b[0;34m\u001b[0m\u001b[0;34m\u001b[0m\u001b[0m\n",
      "\u001b[0;31mValueError\u001b[0m: b'7' is not in list"
     ]
    }
   ],
   "source": [
    "well_facies = WellLoader('204-19-6', use_pseudoGR=True, labels_ext='_labelsII.npy',\n",
    "                  pseudoGR_args={'features': ['mean', 'var'], 'per_channel' : True})\n",
    "\n",
    "labels = np.array(list(facies.keys()), dtype='a2').tolist()\n",
    "\n",
    "well_facies.load_data(labels, skip=1)"
   ]
  },
  {
   "cell_type": "code",
   "execution_count": null,
   "metadata": {},
   "outputs": [],
   "source": [
    "well._image.shape, well._pseudoGR.shape, well._depth.shape, well.pGR_feat_names"
   ]
  },
  {
   "cell_type": "code",
   "execution_count": null,
   "metadata": {},
   "outputs": [],
   "source": [
    "pGR_feat2idx = {feat_name : i for feat_name, i in zip(well.pGR_feat_names, range(8))}\n",
    "pGR_feat2idx"
   ]
  },
  {
   "cell_type": "code",
   "execution_count": null,
   "metadata": {},
   "outputs": [],
   "source": [
    "# 2214.2 to 2214.8\n",
    "def slice_well(well, top, base):\n",
    "    ds = well._depth\n",
    "    good_idxs = np.logical_and(ds >= top, ds <= base)\n",
    "    \n",
    "    return {'image' : well._image[good_idxs],\n",
    "            'pGR' :  well._pseudoGR[good_idxs],\n",
    "            'depth' : well._depth[good_idxs]}\n",
    "\n",
    "Xa = slice_well(well, 2208., 2210.01)\n",
    "\n",
    "Xb = slice_well(well, 2214., 2216.01)"
   ]
  },
  {
   "cell_type": "code",
   "execution_count": null,
   "metadata": {},
   "outputs": [],
   "source": [
    "coreplotter = CorePlotter(figsize=(15, 15))\n",
    "\n",
    "coreplotter.plot_image(Xa['image'] / 255.0, Xa['depth'], major_tick_size=22)\n",
    "img_ax = coreplotter.get_ax_by_name('Image')\n",
    "\n",
    "#img_ax.set_title('Image', fontsize=24)\n",
    "img_ax.set_yticklabels([], minor=True)\n",
    "img_ax.set_xticks([])\n",
    "img_ax.set_xticklabels([])\n",
    "\n",
    "# plot RGB\n",
    "r = Xa['pGR'][:, pGR_feat2idx['Rmean']]\n",
    "g = Xa['pGR'][:, pGR_feat2idx['Gmean']]\n",
    "b = Xa['pGR'][:, pGR_feat2idx['Bmean']]\n",
    "u = (r + g + b) / 3.\n",
    "\n",
    "xlim = (0., 1.)#np.nanmin(np.concatenate([r,g,b])), np.nanmax(np.concatenate([r,g,b]))\n",
    "coreplotter.plot_log(Xa['depth'], u, c='k', name='RGB', lw=2, alpha=1.0, xlim=xlim)\n",
    "coreplotter.plot_log(Xa['depth'], r, c='r', name='RGB', lw=2, alpha=0.9, xlim=xlim)\n",
    "coreplotter.plot_log(Xa['depth'], g, name='RGB', c='g', lw=2, alpha=0.8, xlim=xlim)\n",
    "coreplotter.plot_log(Xa['depth'], b, name='RGB', c='b', lw=2, alpha=0.7, xlim=xlim)\n",
    "\n",
    "log_ax = coreplotter.get_ax_by_name('RGB')\n",
    "#log_ax.set_title('RGB Logs', fontsize=24)\n",
    "log_ax.set_yticks([])\n",
    "log_ax.tick_params(axis='x', colors='black', labelsize=16)\n",
    "\n",
    "\n",
    "coreplotter.plot_strip(well_litho.make_striplog(, name='Labels', legend=litho_legend)\n",
    "coreplotter.get_ax_by_name('Labels').set_title('Labels', fontsize=24)\n",
    "\n",
    "coreplotter.plot_strip(litho_ypred_stripA, name='Preds', legend=litho_legend)\n",
    "coreplotter.get_ax_by_name('Preds').set_title('Preds', fontsize=24)\n",
    "\n",
    "#coreplotter.plot_strip(facies_ytrue_stripA, name='Facies Labels', legend=facies_legend)\n",
    "#coreplotter.get_ax_by_name('Facies Labels').set_title('Facies Labels', fontsize=24)\n",
    "\n",
    "#coreplotter.plot_strip(facies_ypred_stripA, name='Facies Preds', legend=facies_legend)\n",
    "#coreplotter.get_ax_by_name('Facies Preds').set_title('Facies Preds', fontsize=24)\n",
    "\n",
    "#coreplotter.fig.show()\n",
    "#coreplotter.fig.savefig('figure6_large.svg', bbox_inches=\"tight\")"
   ]
  },
  {
   "cell_type": "code",
   "execution_count": null,
   "metadata": {},
   "outputs": [],
   "source": [
    "coreplotter = CorePlotter(figsize=(15, 15))\n",
    "\n",
    "coreplotter.plot_image(Xb['image'] / 255.0, Xb['depth'], major_tick_size=22)\n",
    "img_ax = coreplotter.get_ax_by_name('Image')\n",
    "\n",
    "#img_ax.set_title('Image', fontsize=24)\n",
    "img_ax.set_yticklabels([], minor=True)\n",
    "img_ax.set_xticks([])\n",
    "img_ax.set_xticklabels([])\n",
    "\n",
    "# plot RGB\n",
    "r = Xb['pGR'][:, pGR_feat2idx['Rmean']]\n",
    "g = Xb['pGR'][:, pGR_feat2idx['Gmean']]\n",
    "b = Xb['pGR'][:, pGR_feat2idx['Bmean']]\n",
    "u = (r + g + b) / 3.\n",
    "\n",
    "xlim = (0., 1.)#np.nanmin(np.concatenate([r,g,b])), np.nanmax(np.concatenate([r,g,b]))\n",
    "coreplotter.plot_log(Xb['depth'], u, c='k', name='RGB', lw=2, alpha=1.0, xlim=xlim)\n",
    "coreplotter.plot_log(Xb['depth'], r, c='r', name='RGB', lw=2, alpha=0.9, xlim=xlim)\n",
    "coreplotter.plot_log(Xb['depth'], g, name='RGB', c='g', lw=2, alpha=0.8, xlim=xlim)\n",
    "coreplotter.plot_log(Xb['depth'], b, name='RGB', c='b', lw=2, alpha=0.7, xlim=xlim)\n",
    "\n",
    "log_ax = coreplotter.get_ax_by_name('RGB')\n",
    "#log_ax.set_title('RGB Logs', fontsize=24)\n",
    "log_ax.set_yticks([])\n",
    "log_ax.tick_params(axis='x', colors='black', labelsize=16)\n",
    "\n",
    "\n",
    "coreplotter.plot_strip(litho_ytrue_stripB, name='Labels')\n",
    "coreplotter.get_ax_by_name('Labels').set_title('Labels', fontsize=24)\n",
    "\n",
    "coreplotter.plot_strip(litho_ypred_stripB, name='Preds')\n",
    "coreplotter.get_ax_by_name('Preds').set_title('Preds', fontsize=24)\n",
    "\n",
    "coreplotter.plot_strip(facies_ytrue_stripB, name='Facies Labels', legend=facies_legend)\n",
    "coreplotter.get_ax_by_name('Facies Labels').set_title('Facies Labels', fontsize=24)\n",
    "\n",
    "coreplotter.plot_strip(facies_ypred_stripB, name='Facies Preds', legend=facies_legend)\n",
    "coreplotter.get_ax_by_name('Facies Preds').set_title('Facies Preds', fontsize=24)"
   ]
  },
  {
   "cell_type": "code",
   "execution_count": null,
   "metadata": {},
   "outputs": [],
   "source": [
    "Xa"
   ]
  },
  {
   "cell_type": "code",
   "execution_count": null,
   "metadata": {},
   "outputs": [],
   "source": []
  },
  {
   "cell_type": "code",
   "execution_count": null,
   "metadata": {},
   "outputs": [],
   "source": []
  },
  {
   "cell_type": "code",
   "execution_count": null,
   "metadata": {},
   "outputs": [],
   "source": []
  },
  {
   "cell_type": "code",
   "execution_count": null,
   "metadata": {},
   "outputs": [],
   "source": []
  },
  {
   "cell_type": "code",
   "execution_count": null,
   "metadata": {},
   "outputs": [],
   "source": [
    "pGR_feat2idx = {feat_name : i for feat_name, i in zip(well.pGR_feat_names, range(8))}\n",
    "pGR_feat2idx"
   ]
  },
  {
   "cell_type": "code",
   "execution_count": null,
   "metadata": {},
   "outputs": [],
   "source": [
    "well.logs_df[~well.logs_df.isna().any(axis=1)]"
   ]
  },
  {
   "cell_type": "code",
   "execution_count": null,
   "metadata": {
    "scrolled": false
   },
   "outputs": [],
   "source": [
    "coreplotter = CorePlotter(figsize=(40,600))\n",
    "\n",
    "# plot image\n",
    "coreplotter.plot_image(well._image / 255.0, well._depth)\n",
    "coreplotter.get_ax_by_name('Image').set_title('Image', fontsize=24)\n",
    "\n",
    "# plot RGB\n",
    "r = well._pseudoGR[:, pGR_feat2idx['Rmean']]\n",
    "g = well._pseudoGR[:, pGR_feat2idx['Gmean']]\n",
    "b = well._pseudoGR[:, pGR_feat2idx['Bmean']]\n",
    "\n",
    "xlim = np.nanmin(np.concatenate([r,g,b])), np.nanmax(np.concatenate([r,g,b]))\n",
    "coreplotter.plot_log(well._depth, r, c='r', name='RGB', lw=3, alpha=0.9, xlim=xlim)\n",
    "coreplotter.plot_log(well._depth, g, name='RGB', c='g', lw=3, alpha=0.7, xlim=xlim)\n",
    "coreplotter.plot_log(well._depth, b, name='RGB', c='b', lw=3, alpha=0.5, xlim=xlim)\n",
    "\n",
    "log_ax = coreplotter.get_ax_by_name('RGB')\n",
    "log_ax.set_title('RGB Logs', fontsize=24)\n",
    "log_ax.set_yticks([])\n",
    "log_ax.set_xticklabels([])\n",
    "\n",
    "\n",
    "# plot logs\n",
    "logs_df = well.logs_df[~well.logs_df.isna().any(axis=1)]\n",
    "\n",
    "# PEF\n",
    "coreplotter.plot_log(logs_df.index.values, logs_df.PEF.values, name='PEF', c='g', xlim=(0,10))\n",
    "log_ax = coreplotter.get_ax_by_name('PEF')\n",
    "log_ax.set_title('PEF', fontsize=24)\n",
    "log_ax.set_yticks([])\n",
    "\n",
    "# GR\n",
    "coreplotter.plot_log(logs_df.index.values, logs_df.GR.values, name='GR', c='b', xlim=(0,150))\n",
    "log_ax = coreplotter.get_ax_by_name('GR')\n",
    "log_ax.set_title('GR', fontsize=24)\n",
    "log_ax.set_yticks([])\n",
    "\n",
    "# Predicted labels\n",
    "y_pred = results.y_pred.values\n",
    "y_pred[np.where(y_pred==3)] = 4    # have to change 3->4 because of new labels ('os'->'sh')\n",
    "coreplotter.plot_strip(well.make_striplog(labels=y_pred), name='Preds')\n",
    "coreplotter.get_ax_by_name('Preds').set_title('Preds', fontsize=24)\n",
    "\n",
    "# Confidence\n",
    "coreplotter.plot_log(results.depth.values, results.confidence.values, name='Conf', color='black', xlim=(0.6,1))\n",
    "log_ax = coreplotter.get_ax_by_name('Conf')\n",
    "log_ax.set_title('Confidence', fontsize=24)\n",
    "log_ax.set_yticks([])\n",
    "\n",
    "# true labels\n",
    "coreplotter.plot_strip(well.make_striplog(), name='Labels')\n",
    "coreplotter.get_ax_by_name('Labels').set_title('Labels', fontsize=24)\n",
    "\n",
    "#coreplotter.fig.show()\n",
    "coreplotter.fig.savefig('wavenet_preds_RGB_logs_conf_204-19-6.png')"
   ]
  },
  {
   "cell_type": "code",
   "execution_count": null,
   "metadata": {
    "scrolled": true
   },
   "outputs": [],
   "source": [
    "coreplotter = CorePlotter(figsize=(15,600))\n",
    "\n",
    "# plot image\n",
    "coreplotter.plot_image(well._image / 255.0, well._depth)\n",
    "coreplotter.get_ax_by_name('Image').set_title('Image', fontsize=24)\n",
    "\n",
    "# true labels\n",
    "coreplotter.plot_strip(well.make_striplog(), name='Labels')\n",
    "coreplotter.get_ax_by_name('Labels').set_title('Labels', fontsize=24)\n",
    "\n",
    "#coreplotter.fig.show()\n",
    "coreplotter.fig.savefig('core_with_labels_204-19-6.png')"
   ]
  },
  {
   "cell_type": "code",
   "execution_count": null,
   "metadata": {
    "scrolled": false
   },
   "outputs": [],
   "source": [
    "results.y_pred.unique(), results.y_true.unique()"
   ]
  },
  {
   "cell_type": "code",
   "execution_count": null,
   "metadata": {},
   "outputs": [],
   "source": [
    "coreplotter.fig.savefig('wavenet_preds_RGB_normed.png')"
   ]
  },
  {
   "cell_type": "code",
   "execution_count": null,
   "metadata": {},
   "outputs": [],
   "source": [
    "d = {'a' : 0}\n",
    "d.get('b')"
   ]
  },
  {
   "cell_type": "code",
   "execution_count": null,
   "metadata": {},
   "outputs": [],
   "source": [
    "d.pop('b', 5)"
   ]
  },
  {
   "cell_type": "code",
   "execution_count": null,
   "metadata": {},
   "outputs": [],
   "source": [
    "from coremdlr.viz.model_plots import confusion_matrix_plot\n",
    "\n",
    "classes = ['sandstone', 'clay-prone sandstone', 'sandy mudstone', 'mudstone']\n",
    "\n",
    "ax = confusion_matrix_plot({'y_pred' : y_pred, 'y_true' : results.y_true}, classes=classes)"
   ]
  },
  {
   "cell_type": "code",
   "execution_count": null,
   "metadata": {},
   "outputs": [],
   "source": [
    "results.confidence.min()"
   ]
  },
  {
   "cell_type": "code",
   "execution_count": null,
   "metadata": {},
   "outputs": [],
   "source": [
    "for name, grp in wavenet_results.groupby('well_name'):\n",
    "\n",
    "    acc = (grp.y_true == grp.y_pred).sum() / grp.shape[0]\n",
    "    print(name, np.round(acc, 3))"
   ]
  },
  {
   "cell_type": "code",
   "execution_count": null,
   "metadata": {},
   "outputs": [],
   "source": [
    "results = wavenet_results[wavenet_results.well_name == '204-20-6a']\n",
    "\n",
    "(results.y_true == results.y_pred).sum() / results.shape[0]"
   ]
  },
  {
   "cell_type": "code",
   "execution_count": null,
   "metadata": {},
   "outputs": [],
   "source": [
    "results.y_pred.unique()"
   ]
  },
  {
   "cell_type": "code",
   "execution_count": null,
   "metadata": {},
   "outputs": [],
   "source": [
    "well = WellLoader('204-20-6a', use_pseudoGR=True, use_logs=True,\n",
    "                  pseudoGR_args={'features': ['mean'], 'per_channel' : True},\n",
    "                  logs_args={'which_logs' : ['PEF', 'GR']})\n",
    "\n",
    "labels = np.array(list(lithologies_dict.keys()), dtype='a2').tolist()\n",
    "\n",
    "well.load_data(labels)"
   ]
  },
  {
   "cell_type": "code",
   "execution_count": null,
   "metadata": {
    "scrolled": false
   },
   "outputs": [],
   "source": [
    "coreplotter = CorePlotter(figsize=(40,600))\n",
    "\n",
    "# plot image\n",
    "coreplotter.plot_image(well._image / 255.0, well._depth)\n",
    "coreplotter.get_ax_by_name('Image').set_title('Image', fontsize=24)\n",
    "\n",
    "# plot RGB\n",
    "r = well._pseudoGR[:, pGR_feat2idx['Rmean']]\n",
    "g = well._pseudoGR[:, pGR_feat2idx['Gmean']]\n",
    "b = well._pseudoGR[:, pGR_feat2idx['Bmean']]\n",
    "\n",
    "xlim = np.nanmin(np.concatenate([r,g,b])), np.nanmax(np.concatenate([r,g,b]))\n",
    "coreplotter.plot_log(well._depth, r, c='r', name='RGB', lw=3, alpha=0.9, xlim=xlim)\n",
    "coreplotter.plot_log(well._depth, g, name='RGB', c='g', lw=3, alpha=0.7, xlim=xlim)\n",
    "coreplotter.plot_log(well._depth, b, name='RGB', c='b', lw=3, alpha=0.5, xlim=xlim)\n",
    "\n",
    "log_ax = coreplotter.get_ax_by_name('RGB')\n",
    "log_ax.set_title('RGB Logs', fontsize=24)\n",
    "log_ax.set_yticks([])\n",
    "log_ax.set_xticklabels([])\n",
    "\n",
    "# plot logs\n",
    "logs_df = well.logs_df[~well.logs_df.isna().any(axis=1)]\n",
    "\n",
    "# PEF\n",
    "coreplotter.plot_log(logs_df.index.values, logs_df.PEF.values, name='PEF', c='g', xlim=(0,10))\n",
    "log_ax = coreplotter.get_ax_by_name('PEF')\n",
    "log_ax.set_title('PEF', fontsize=24)\n",
    "log_ax.set_yticks([])\n",
    "\n",
    "# GR\n",
    "coreplotter.plot_log(logs_df.index.values, logs_df.GR.values, name='GR', c='b', xlim=(0,150))\n",
    "log_ax = coreplotter.get_ax_by_name('GR')\n",
    "log_ax.set_title('GR', fontsize=24)\n",
    "log_ax.set_yticks([])\n",
    "\n",
    "# Predicted labels\n",
    "#y_pred = results.y_pred.values\n",
    "#y_pred[np.where(y_pred==3)] = 4    # have to change 3->4 because of new labels ('os'->'sh')\n",
    "#coreplotter.plot_strip(well.make_striplog(labels=y_pred), name='Preds')\n",
    "#coreplotter.get_ax_by_name('Preds').set_title('Preds', fontsize=24)\n",
    "\n",
    "# Confidence\n",
    "coreplotter.plot_log(results.depth.values, results.confidence.values, name='Conf', color='black', xlim=(0.6,1))\n",
    "log_ax = coreplotter.get_ax_by_name('Conf')\n",
    "log_ax.set_title('Confidence', fontsize=24)\n",
    "log_ax.set_yticks([])\n",
    "\n",
    "# true labels\n",
    "coreplotter.plot_strip(well.make_striplog(), name='Labels')\n",
    "coreplotter.get_ax_by_name('Labels').set_title('Labels', fontsize=24)\n",
    "\n",
    "coreplotter.fig.show()\n",
    "#coreplotter.fig.savefig('wavenet_preds_RGB_logs_conf_204-20-6a.png')"
   ]
  },
  {
   "cell_type": "code",
   "execution_count": null,
   "metadata": {},
   "outputs": [],
   "source": []
  }
 ],
 "metadata": {
  "kernelspec": {
   "display_name": "Python 3",
   "language": "python",
   "name": "python3"
  },
  "language_info": {
   "codemirror_mode": {
    "name": "ipython",
    "version": 3
   },
   "file_extension": ".py",
   "mimetype": "text/x-python",
   "name": "python",
   "nbconvert_exporter": "python",
   "pygments_lexer": "ipython3",
   "version": "3.7.4"
  }
 },
 "nbformat": 4,
 "nbformat_minor": 2
}
