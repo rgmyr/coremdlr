{
 "cells": [
  {
   "cell_type": "code",
   "execution_count": 1,
   "metadata": {},
   "outputs": [],
   "source": [
    "import tensorflow as tf"
   ]
  },
  {
   "cell_type": "code",
   "execution_count": 2,
   "metadata": {},
   "outputs": [],
   "source": [
    "tf.enable_eager_execution()"
   ]
  },
  {
   "cell_type": "code",
   "execution_count": 4,
   "metadata": {},
   "outputs": [],
   "source": [
    "from tensorflow.keras.utils import to_categorical"
   ]
  },
  {
   "cell_type": "code",
   "execution_count": 5,
   "metadata": {},
   "outputs": [],
   "source": [
    "import numpy as np"
   ]
  },
  {
   "cell_type": "code",
   "execution_count": 14,
   "metadata": {},
   "outputs": [
    {
     "data": {
      "text/plain": [
       "(array([[0., 1., 0., 0.],\n",
       "        [1., 0., 0., 0.],\n",
       "        [0., 1., 0., 0.],\n",
       "        [0., 1., 0., 0.],\n",
       "        [0., 0., 0., 1.],\n",
       "        [0., 0., 0., 1.],\n",
       "        [1., 0., 0., 0.],\n",
       "        [0., 0., 0., 1.],\n",
       "        [0., 0., 1., 0.],\n",
       "        [1., 0., 0., 0.]], dtype=float32),\n",
       " array([[0.62755244, 0.10050523, 0.16103299, 0.11090934],\n",
       "        [0.28469981, 0.26675584, 0.27346896, 0.17507539],\n",
       "        [0.38709757, 0.26730841, 0.25855619, 0.08703782],\n",
       "        [0.13888813, 0.31060692, 0.19750349, 0.35300146],\n",
       "        [0.06063935, 0.027504  , 0.61010513, 0.30175152],\n",
       "        [0.06929531, 0.40179132, 0.4509782 , 0.07793516],\n",
       "        [0.3342041 , 0.21003941, 0.00077661, 0.45497988],\n",
       "        [0.25820292, 0.27029301, 0.19656849, 0.27493557],\n",
       "        [0.45861507, 0.01450553, 0.28536225, 0.24151715],\n",
       "        [0.20263174, 0.61210056, 0.07913651, 0.1061312 ]]))"
      ]
     },
     "execution_count": 14,
     "metadata": {},
     "output_type": "execute_result"
    }
   ],
   "source": [
    "y_true = to_categorical(np.random.randint(0, 4, (10,)))\n",
    "y_pred = np.random.rand(10, 4)\n",
    "y_pred /= y_pred.sum(axis=1)[:, np.newaxis]\n",
    "y_true, y_pred"
   ]
  },
  {
   "cell_type": "code",
   "execution_count": 15,
   "metadata": {},
   "outputs": [],
   "source": [
    "y_pred = tf.convert_to_tensor(y_pred)\n",
    "y_true = tf.convert_to_tensor(y_true, preferred_dtype=y_pred.dtype)"
   ]
  },
  {
   "cell_type": "code",
   "execution_count": 16,
   "metadata": {},
   "outputs": [
    {
     "data": {
      "text/plain": [
       "<tf.Tensor: id=1, shape=(10, 4), dtype=float64, numpy=\n",
       "array([[0.62755244, 0.10050523, 0.16103299, 0.11090934],\n",
       "       [0.28469981, 0.26675584, 0.27346896, 0.17507539],\n",
       "       [0.38709757, 0.26730841, 0.25855619, 0.08703782],\n",
       "       [0.13888813, 0.31060692, 0.19750349, 0.35300146],\n",
       "       [0.06063935, 0.027504  , 0.61010513, 0.30175152],\n",
       "       [0.06929531, 0.40179132, 0.4509782 , 0.07793516],\n",
       "       [0.3342041 , 0.21003941, 0.00077661, 0.45497988],\n",
       "       [0.25820292, 0.27029301, 0.19656849, 0.27493557],\n",
       "       [0.45861507, 0.01450553, 0.28536225, 0.24151715],\n",
       "       [0.20263174, 0.61210056, 0.07913651, 0.1061312 ]])>"
      ]
     },
     "execution_count": 16,
     "metadata": {},
     "output_type": "execute_result"
    }
   ],
   "source": [
    "y_pred"
   ]
  },
  {
   "cell_type": "code",
   "execution_count": 17,
   "metadata": {},
   "outputs": [
    {
     "data": {
      "text/plain": [
       "<tf.Tensor: id=2, shape=(10, 4), dtype=float64, numpy=\n",
       "array([[0., 1., 0., 0.],\n",
       "       [1., 0., 0., 0.],\n",
       "       [0., 1., 0., 0.],\n",
       "       [0., 1., 0., 0.],\n",
       "       [0., 0., 0., 1.],\n",
       "       [0., 0., 0., 1.],\n",
       "       [1., 0., 0., 0.],\n",
       "       [0., 0., 0., 1.],\n",
       "       [0., 0., 1., 0.],\n",
       "       [1., 0., 0., 0.]])>"
      ]
     },
     "execution_count": 17,
     "metadata": {},
     "output_type": "execute_result"
    }
   ],
   "source": [
    "y_true"
   ]
  },
  {
   "cell_type": "code",
   "execution_count": 22,
   "metadata": {},
   "outputs": [
    {
     "data": {
      "text/plain": [
       "<tf.Tensor: id=23, shape=(4, 1), dtype=float64, numpy=\n",
       "array([[0.],\n",
       "       [1.],\n",
       "       [2.],\n",
       "       [3.]])>"
      ]
     },
     "execution_count": 22,
     "metadata": {},
     "output_type": "execute_result"
    }
   ],
   "source": [
    "a = tf.expand_dims(tf.range(0, 4, dtype=y_pred.dtype), axis=-1)\n",
    "a"
   ]
  },
  {
   "cell_type": "code",
   "execution_count": 36,
   "metadata": {},
   "outputs": [
    {
     "data": {
      "text/plain": [
       "<tf.Tensor: id=55, shape=(10, 1), dtype=float64, numpy=\n",
       "array([[0.75529924],\n",
       "       [1.33891992],\n",
       "       [1.04553428],\n",
       "       [1.76461828],\n",
       "       [2.15296882],\n",
       "       [1.53755322],\n",
       "       [1.57653227],\n",
       "       [1.48823671],\n",
       "       [1.30978147],\n",
       "       [1.08876716]])>"
      ]
     },
     "execution_count": 36,
     "metadata": {},
     "output_type": "execute_result"
    }
   ],
   "source": [
    "tf.matmul(y_pred, a)"
   ]
  },
  {
   "cell_type": "code",
   "execution_count": 38,
   "metadata": {},
   "outputs": [
    {
     "data": {
      "text/plain": [
       "<tf.Tensor: id=79, shape=(1, 10, 1), dtype=float64, numpy=\n",
       "array([[[0.75529924],\n",
       "        [1.33891992],\n",
       "        [1.04553428],\n",
       "        [1.76461828],\n",
       "        [2.15296882],\n",
       "        [1.53755322],\n",
       "        [1.57653227],\n",
       "        [1.48823671],\n",
       "        [1.30978147],\n",
       "        [1.08876716]]])>"
      ]
     },
     "execution_count": 38,
     "metadata": {},
     "output_type": "execute_result"
    }
   ],
   "source": [
    "y_pred_batches = tf.expand_dims(y_pred, 0)\n",
    "tf.tensordot(y_pred_batches, a, [[-1], [0]])"
   ]
  },
  {
   "cell_type": "code",
   "execution_count": 46,
   "metadata": {},
   "outputs": [
    {
     "data": {
      "text/plain": [
       "<tf.Tensor: id=166, shape=(10,), dtype=float64, numpy=\n",
       "array([ 0.24470076, -1.33891992, -0.04553428, -0.76461828,  0.84703118,\n",
       "        1.46244678, -1.57653227,  1.51176329,  0.69021853, -1.08876716])>"
      ]
     },
     "execution_count": 46,
     "metadata": {},
     "output_type": "execute_result"
    }
   ],
   "source": [
    "tf.cast(tf.argmax(y_true,-1), dtype=y_pred.dtype) - tf.squeeze(tf.tensordot(y_pred_batches, a, [[-1], [0]]))"
   ]
  },
  {
   "cell_type": "code",
   "execution_count": 47,
   "metadata": {},
   "outputs": [
    {
     "data": {
      "text/plain": [
       "<tf.Tensor: id=179, shape=(10,), dtype=float64, numpy=\n",
       "array([0.75529924, 1.33891992, 1.04553428, 1.76461828, 2.15296882,\n",
       "       1.53755322, 1.57653227, 1.48823671, 1.30978147, 1.08876716])>"
      ]
     },
     "execution_count": 47,
     "metadata": {},
     "output_type": "execute_result"
    }
   ],
   "source": [
    "tf.squeeze(tf.tensordot(y_pred_batches, a, [[-1], [0]]))"
   ]
  },
  {
   "cell_type": "code",
   "execution_count": 49,
   "metadata": {},
   "outputs": [
    {
     "data": {
      "text/plain": [
       "<tf.Tensor: id=183, shape=(10,), dtype=float64, numpy=array([1., 0., 1., 1., 3., 3., 0., 3., 2., 0.])>"
      ]
     },
     "execution_count": 49,
     "metadata": {},
     "output_type": "execute_result"
    }
   ],
   "source": [
    "tf.cast(tf.argmax(y_true,-1), dtype=y_pred.dtype)"
   ]
  },
  {
   "cell_type": "code",
   "execution_count": 1,
   "metadata": {},
   "outputs": [],
   "source": [
    "import numpy as np"
   ]
  },
  {
   "cell_type": "code",
   "execution_count": 5,
   "metadata": {},
   "outputs": [
    {
     "name": "stdout",
     "output_type": "stream",
     "text": [
      "(array([[0.42363154, 0.25596107],\n",
      "       [0.60417042, 0.74358632]]), array([0.04582661, 0.96647151, 0.32468085]))\n",
      "...\n",
      "(array([[0.18487166, 0.77029397],\n",
      "       [0.52425414, 0.5221453 ]]), array([0.48389702, 0.87926068, 0.53094016]))\n",
      "...\n",
      "(array([[0.86663356, 0.23984437],\n",
      "       [0.19932583, 0.50749668]]), array([0.67527856, 0.81270776, 0.11644198]))\n",
      "...\n",
      "(array([[0.26667678, 0.74787778],\n",
      "       [0.36208328, 0.87119365]]), array([0.72149197, 0.22584491, 0.02008119]))\n",
      "...\n",
      "(array([[0.87443796, 0.39775366],\n",
      "       [0.14658737, 0.47046675]]), array([0.24332723, 0.98134861, 0.98223679]))\n",
      "...\n",
      "(array([[0.78539592, 0.11261416],\n",
      "       [0.43810662, 0.85734329]]), array([0.12549947, 0.35923268, 0.16638243]))\n",
      "...\n",
      "(array([[0.58511394, 0.16728676],\n",
      "       [0.04032012, 0.49622668]]), array([0.61866221, 0.34943255, 0.55360597]))\n",
      "...\n",
      "(array([[0.47983967, 0.95589617],\n",
      "       [0.42216673, 0.62267   ]]), array([0.8958161 , 0.54126861, 0.7708302 ]))\n",
      "...\n",
      "(array([[0.22294988, 0.20604346],\n",
      "       [0.36465666, 0.32099311]]), array([0.61397451, 0.03076338, 0.61963333]))\n",
      "...\n",
      "(array([[0.53068109, 0.50459134],\n",
      "       [0.39495222, 0.31673734]]), array([0.26555275, 0.17756172, 0.00545614]))\n",
      "...\n"
     ]
    }
   ],
   "source": [
    "for x in list(zip(np.random.random((10,2,2)), np.random.random((10,3)))):\n",
    "    print(x)\n",
    "    print('...')"
   ]
  },
  {
   "cell_type": "code",
   "execution_count": 8,
   "metadata": {},
   "outputs": [],
   "source": [
    "from tensorflow.keras.layers import Dense, Input\n",
    "from tensorflow.keras.models import Model"
   ]
  },
  {
   "cell_type": "code",
   "execution_count": 16,
   "metadata": {},
   "outputs": [
    {
     "name": "stdout",
     "output_type": "stream",
     "text": [
      "_________________________________________________________________\n",
      "Layer (type)                 Output Shape              Param #   \n",
      "=================================================================\n",
      "input_10 (InputLayer)        (None, 256)               0         \n",
      "_________________________________________________________________\n",
      "dense_25 (Dense)             (None, 512)               131584    \n",
      "_________________________________________________________________\n",
      "dense_26 (Dense)             (None, 1024)              525312    \n",
      "=================================================================\n",
      "WARNING:tensorflow:Discrepancy between trainable weights and collected trainable weights, did you set `model.trainable` without calling `model.compile` after ?\n",
      "Total params: 1,313,792\n",
      "Trainable params: 656,896\n",
      "Non-trainable params: 656,896\n",
      "_________________________________________________________________\n",
      "_________________________________________________________________\n",
      "Layer (type)                 Output Shape              Param #   \n",
      "=================================================================\n",
      "input_11 (InputLayer)        (None, None, 1024)        0         \n",
      "_________________________________________________________________\n",
      "dense_27 (Dense)             (None, None, 512)         524800    \n",
      "_________________________________________________________________\n",
      "dense_28 (Dense)             (None, None, 128)         65664     \n",
      "_________________________________________________________________\n",
      "dense_29 (Dense)             (None, None, 2)           258       \n",
      "=================================================================\n",
      "Total params: 590,722\n",
      "Trainable params: 590,722\n",
      "Non-trainable params: 0\n",
      "_________________________________________________________________\n"
     ]
    },
    {
     "ename": "TypeError",
     "evalue": "_init_subclassed_network() got an unexpected keyword argument 'inputs'",
     "output_type": "error",
     "traceback": [
      "\u001b[0;31m---------------------------------------------------------------------------\u001b[0m",
      "\u001b[0;31mTypeError\u001b[0m                                 Traceback (most recent call last)",
      "\u001b[0;32m<ipython-input-16-d26c16f95566>\u001b[0m in \u001b[0;36m<module>\u001b[0;34m()\u001b[0m\n\u001b[1;32m     20\u001b[0m \u001b[0mx\u001b[0m \u001b[0;34m=\u001b[0m \u001b[0mencoder\u001b[0m\u001b[0;34m(\u001b[0m\u001b[0mfull_in\u001b[0m\u001b[0;34m)\u001b[0m\u001b[0;34m\u001b[0m\u001b[0m\n\u001b[1;32m     21\u001b[0m \u001b[0mx\u001b[0m \u001b[0;34m=\u001b[0m \u001b[0mdecoder\u001b[0m\u001b[0;34m(\u001b[0m\u001b[0mx\u001b[0m\u001b[0;34m)\u001b[0m\u001b[0;34m\u001b[0m\u001b[0m\n\u001b[0;32m---> 22\u001b[0;31m \u001b[0mfull\u001b[0m \u001b[0;34m=\u001b[0m \u001b[0mModel\u001b[0m\u001b[0;34m(\u001b[0m\u001b[0minputs\u001b[0m\u001b[0;34m=\u001b[0m\u001b[0mfull_in\u001b[0m\u001b[0;34m,\u001b[0m \u001b[0mouputs\u001b[0m\u001b[0;34m=\u001b[0m\u001b[0mx\u001b[0m\u001b[0;34m)\u001b[0m\u001b[0;34m\u001b[0m\u001b[0m\n\u001b[0m\u001b[1;32m     23\u001b[0m \u001b[0mfull\u001b[0m\u001b[0;34m.\u001b[0m\u001b[0mcompile\u001b[0m\u001b[0;34m(\u001b[0m\u001b[0mloss\u001b[0m\u001b[0;34m=\u001b[0m\u001b[0;34m'categorical_crossentropy'\u001b[0m\u001b[0;34m,\u001b[0m \u001b[0moptimizer\u001b[0m\u001b[0;34m=\u001b[0m\u001b[0;34m'SGD'\u001b[0m\u001b[0;34m)\u001b[0m\u001b[0;34m\u001b[0m\u001b[0m\n\u001b[1;32m     24\u001b[0m \u001b[0mfull\u001b[0m\u001b[0;34m.\u001b[0m\u001b[0msummary\u001b[0m\u001b[0;34m(\u001b[0m\u001b[0;34m)\u001b[0m\u001b[0;34m\u001b[0m\u001b[0m\n",
      "\u001b[0;32m~/anaconda3/envs/core-dev/lib/python3.6/site-packages/tensorflow/python/keras/engine/training.py\u001b[0m in \u001b[0;36m__init__\u001b[0;34m(self, *args, **kwargs)\u001b[0m\n\u001b[1;32m    115\u001b[0m \u001b[0;34m\u001b[0m\u001b[0m\n\u001b[1;32m    116\u001b[0m   \u001b[0;32mdef\u001b[0m \u001b[0m__init__\u001b[0m\u001b[0;34m(\u001b[0m\u001b[0mself\u001b[0m\u001b[0;34m,\u001b[0m \u001b[0;34m*\u001b[0m\u001b[0margs\u001b[0m\u001b[0;34m,\u001b[0m \u001b[0;34m**\u001b[0m\u001b[0mkwargs\u001b[0m\u001b[0;34m)\u001b[0m\u001b[0;34m:\u001b[0m\u001b[0;34m\u001b[0m\u001b[0m\n\u001b[0;32m--> 117\u001b[0;31m     \u001b[0msuper\u001b[0m\u001b[0;34m(\u001b[0m\u001b[0mModel\u001b[0m\u001b[0;34m,\u001b[0m \u001b[0mself\u001b[0m\u001b[0;34m)\u001b[0m\u001b[0;34m.\u001b[0m\u001b[0m__init__\u001b[0m\u001b[0;34m(\u001b[0m\u001b[0;34m*\u001b[0m\u001b[0margs\u001b[0m\u001b[0;34m,\u001b[0m \u001b[0;34m**\u001b[0m\u001b[0mkwargs\u001b[0m\u001b[0;34m)\u001b[0m\u001b[0;34m\u001b[0m\u001b[0m\n\u001b[0m\u001b[1;32m    118\u001b[0m     \u001b[0;31m# Create a cache for iterator get_next op.\u001b[0m\u001b[0;34m\u001b[0m\u001b[0;34m\u001b[0m\u001b[0m\n\u001b[1;32m    119\u001b[0m     \u001b[0mself\u001b[0m\u001b[0;34m.\u001b[0m\u001b[0m_iterator_get_next\u001b[0m \u001b[0;34m=\u001b[0m \u001b[0mweakref\u001b[0m\u001b[0;34m.\u001b[0m\u001b[0mWeakKeyDictionary\u001b[0m\u001b[0;34m(\u001b[0m\u001b[0;34m)\u001b[0m\u001b[0;34m\u001b[0m\u001b[0m\n",
      "\u001b[0;32m~/anaconda3/envs/core-dev/lib/python3.6/site-packages/tensorflow/python/keras/engine/network.py\u001b[0m in \u001b[0;36m__init__\u001b[0;34m(self, *args, **kwargs)\u001b[0m\n\u001b[1;32m     81\u001b[0m     \u001b[0;32melse\u001b[0m\u001b[0;34m:\u001b[0m\u001b[0;34m\u001b[0m\u001b[0m\n\u001b[1;32m     82\u001b[0m       \u001b[0;31m# Subclassed network\u001b[0m\u001b[0;34m\u001b[0m\u001b[0;34m\u001b[0m\u001b[0m\n\u001b[0;32m---> 83\u001b[0;31m       \u001b[0mself\u001b[0m\u001b[0;34m.\u001b[0m\u001b[0m_init_subclassed_network\u001b[0m\u001b[0;34m(\u001b[0m\u001b[0;34m**\u001b[0m\u001b[0mkwargs\u001b[0m\u001b[0;34m)\u001b[0m\u001b[0;34m\u001b[0m\u001b[0m\n\u001b[0m\u001b[1;32m     84\u001b[0m \u001b[0;34m\u001b[0m\u001b[0m\n\u001b[1;32m     85\u001b[0m   \u001b[0;31m# Several Network methods have \"no_automatic_dependency_tracking\"\u001b[0m\u001b[0;34m\u001b[0m\u001b[0;34m\u001b[0m\u001b[0m\n",
      "\u001b[0;32m~/anaconda3/envs/core-dev/lib/python3.6/site-packages/tensorflow/python/training/checkpointable/base.py\u001b[0m in \u001b[0;36m_method_wrapper\u001b[0;34m(self, *args, **kwargs)\u001b[0m\n\u001b[1;32m    424\u001b[0m     \u001b[0mself\u001b[0m\u001b[0;34m.\u001b[0m\u001b[0m_setattr_tracking\u001b[0m \u001b[0;34m=\u001b[0m \u001b[0;32mFalse\u001b[0m  \u001b[0;31m# pylint: disable=protected-access\u001b[0m\u001b[0;34m\u001b[0m\u001b[0m\n\u001b[1;32m    425\u001b[0m     \u001b[0;32mtry\u001b[0m\u001b[0;34m:\u001b[0m\u001b[0;34m\u001b[0m\u001b[0m\n\u001b[0;32m--> 426\u001b[0;31m       \u001b[0mmethod\u001b[0m\u001b[0;34m(\u001b[0m\u001b[0mself\u001b[0m\u001b[0;34m,\u001b[0m \u001b[0;34m*\u001b[0m\u001b[0margs\u001b[0m\u001b[0;34m,\u001b[0m \u001b[0;34m**\u001b[0m\u001b[0mkwargs\u001b[0m\u001b[0;34m)\u001b[0m\u001b[0;34m\u001b[0m\u001b[0m\n\u001b[0m\u001b[1;32m    427\u001b[0m     \u001b[0;32mfinally\u001b[0m\u001b[0;34m:\u001b[0m\u001b[0;34m\u001b[0m\u001b[0m\n\u001b[1;32m    428\u001b[0m       \u001b[0mself\u001b[0m\u001b[0;34m.\u001b[0m\u001b[0m_setattr_tracking\u001b[0m \u001b[0;34m=\u001b[0m \u001b[0mprevious_value\u001b[0m  \u001b[0;31m# pylint: disable=protected-access\u001b[0m\u001b[0;34m\u001b[0m\u001b[0m\n",
      "\u001b[0;31mTypeError\u001b[0m: _init_subclassed_network() got an unexpected keyword argument 'inputs'"
     ]
    }
   ],
   "source": [
    "_input = Input(shape=(256,))\n",
    "x = Dense(512)(_input)\n",
    "p = Dense(1024)(x)\n",
    "encoder = Model(inputs=_input, outputs=p)\n",
    "encoder.compile(loss='mse', optimizer='SGD')\n",
    "\n",
    "for layer in encoder.layers:\n",
    "    layer.trainable = False \n",
    "    \n",
    "d_input = Input(shape=encoder.output_shape)\n",
    "x = Dense(512)(d_input)\n",
    "x = Dense(128)(x)\n",
    "p = Dense(2)(x)\n",
    "decoder = Model(inputs=d_input, outputs=p)\n",
    "\n",
    "encoder.summary()\n",
    "decoder.summary()\n",
    "\n",
    "full_in = Input(shape=encoder.input_shape)\n",
    "x = encoder(full_in)\n",
    "p = decoder(x)\n",
    "full = Model(inputs=full_in, ouputs=x)\n",
    "full.compile(loss='categorical_crossentropy', optimizer='SGD')\n",
    "full.summary()\n",
    "\n",
    "\n",
    "\n"
   ]
  },
  {
   "cell_type": "code",
   "execution_count": null,
   "metadata": {},
   "outputs": [],
   "source": []
  }
 ],
 "metadata": {
  "kernelspec": {
   "display_name": "Python 3",
   "language": "python",
   "name": "python3"
  },
  "language_info": {
   "codemirror_mode": {
    "name": "ipython",
    "version": 3
   },
   "file_extension": ".py",
   "mimetype": "text/x-python",
   "name": "python",
   "nbconvert_exporter": "python",
   "pygments_lexer": "ipython3",
   "version": "3.6.4"
  }
 },
 "nbformat": 4,
 "nbformat_minor": 2
}
