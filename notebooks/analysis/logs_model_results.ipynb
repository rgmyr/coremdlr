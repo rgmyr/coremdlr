{
 "cells": [
  {
   "cell_type": "code",
   "execution_count": 1,
   "metadata": {},
   "outputs": [],
   "source": [
    "import os\n",
    "from pathlib import Path\n",
    "\n",
    "import numpy as np\n",
    "import pandas as pd\n",
    "import matplotlib.pyplot as plt"
   ]
  },
  {
   "cell_type": "code",
   "execution_count": 8,
   "metadata": {},
   "outputs": [],
   "source": [
    "# 'adjacent' facies accuracy\n",
    "adj1 = {0 : 0, 1 : 1, 2 : 1, 3 : 2, 4 : 3}\n",
    "adj2 = {0 : 0, 1 : 0, 2 : 2, 3 : 1, 4 : 2}\n",
    "\n",
    "def mapped_acc(df, label_map):\n",
    "    y_true = df['y_true'].apply(lambda y : label_map[y])\n",
    "    y_pred = df['y_pred'].apply(lambda y : label_map[y])\n",
    "    return (y_true == y_pred).sum() / df.shape[0]"
   ]
  },
  {
   "cell_type": "code",
   "execution_count": 14,
   "metadata": {},
   "outputs": [
    {
     "data": {
      "text/plain": [
       "[PosixPath('/home/administrator/Dropbox/core_data/model_results/logs_xgb_results_train_sets9.csv'),\n",
       " PosixPath('/home/administrator/Dropbox/core_data/model_results/logs_xgb_results_train_sets3.csv'),\n",
       " PosixPath('/home/administrator/Dropbox/core_data/model_results/logs_xgb_results_train_sets6.csv')]"
      ]
     },
     "execution_count": 14,
     "metadata": {},
     "output_type": "execute_result"
    }
   ],
   "source": [
    "results_path = Path('/home/' + os.environ['USER'] + '/Dropbox/core_data/model_results')\n",
    "list(results_path.glob('*logs*.csv'))"
   ]
  },
  {
   "cell_type": "code",
   "execution_count": 3,
   "metadata": {},
   "outputs": [],
   "source": [
    "results = {}\n",
    "for i in [3, 6, 9]:\n",
    "    path = '/home/administrator/Dropbox/core_data/model_results/logs_xgb_results_train_sets'+str(i)+'.csv'\n",
    "    results[i] = pd.read_csv(path, index_col=0)"
   ]
  },
  {
   "cell_type": "code",
   "execution_count": 13,
   "metadata": {},
   "outputs": [
    {
     "name": "stdout",
     "output_type": "stream",
     "text": [
      "TRAIN_SETS_3:\n",
      "0.248\t0.283\t0.453\n",
      "\n",
      "TRAIN_SETS_6:\n",
      "0.263\t0.301\t0.486\n",
      "\n",
      "TRAIN_SETS_9:\n",
      "0.261\t0.298\t0.503\n",
      "\n"
     ]
    }
   ],
   "source": [
    "for i, df in results.items():\n",
    "    print(f'TRAIN_SETS_{i}:')\n",
    "    acc = (df['y_true'] == df['y_pred']).sum() / df.shape[0]\n",
    "    acc1 = mapped_acc(df, adj1)\n",
    "    acc2 = mapped_acc(df, adj2)\n",
    "    print(*[np.round(a, 3) for a in [acc, acc1, acc2]], sep='\\t', end='\\n\\n')"
   ]
  },
  {
   "cell_type": "code",
   "execution_count": 12,
   "metadata": {},
   "outputs": [
    {
     "name": "stdout",
     "output_type": "stream",
     "text": [
      "TRAIN_SETS_3:\n",
      "0.286\t0.318\t0.388\n",
      "\n",
      "0.214\t0.249\t0.528\n",
      "\n",
      "0.255\t0.291\t0.429\n",
      "\n",
      "TRAIN_SETS_6:\n",
      "0.275\t0.296\t0.436\n",
      "\n",
      "0.234\t0.269\t0.489\n",
      "\n",
      "0.287\t0.343\t0.522\n",
      "\n",
      "TRAIN_SETS_9:\n",
      "0.211\t0.255\t0.53\n",
      "\n",
      "0.29\t0.324\t0.497\n",
      "\n",
      "0.326\t0.352\t0.46\n",
      "\n"
     ]
    }
   ],
   "source": [
    "for i, df in results.items():\n",
    "    print(f'TRAIN_SETS_{i}:')\n",
    "    for _, grp in df.groupby('set_number'):\n",
    "        acc = (grp['y_true'] == grp['y_pred']).sum() / grp.shape[0]\n",
    "        acc1 = mapped_acc(grp, adj1)\n",
    "        acc2 = mapped_acc(grp, adj2)\n",
    "        print(*[np.round(a, 3) for a in [acc, acc1, acc2]], sep='\\t', end='\\n\\n')"
   ]
  },
  {
   "cell_type": "code",
   "execution_count": 6,
   "metadata": {},
   "outputs": [
    {
     "name": "stdout",
     "output_type": "stream",
     "text": [
      "3\n",
      "0    0.261898\n",
      "1    0.150713\n",
      "2    0.111120\n",
      "3    0.158955\n",
      "4    0.317314\n",
      "Name: y_true, dtype: float64\n",
      "\n",
      "\n",
      "6\n",
      "0    0.264115\n",
      "1    0.148771\n",
      "2    0.109836\n",
      "3    0.144161\n",
      "4    0.333117\n",
      "Name: y_true, dtype: float64\n",
      "\n",
      "\n",
      "9\n",
      "0    0.298211\n",
      "1    0.146898\n",
      "2    0.102669\n",
      "3    0.150307\n",
      "4    0.301914\n",
      "Name: y_true, dtype: float64\n",
      "\n",
      "\n"
     ]
    }
   ],
   "source": [
    "for i, df in results.items():\n",
    "    print(i)\n",
    "    print(df['y_true'].value_counts(normalize=True, sort=False))\n",
    "    print('\\n')"
   ]
  },
  {
   "cell_type": "code",
   "execution_count": null,
   "metadata": {},
   "outputs": [],
   "source": []
  }
 ],
 "metadata": {
  "kernelspec": {
   "display_name": "Python 3",
   "language": "python",
   "name": "python3"
  },
  "language_info": {
   "codemirror_mode": {
    "name": "ipython",
    "version": 3
   },
   "file_extension": ".py",
   "mimetype": "text/x-python",
   "name": "python",
   "nbconvert_exporter": "python",
   "pygments_lexer": "ipython3",
   "version": "3.6.7"
  }
 },
 "nbformat": 4,
 "nbformat_minor": 2
}
