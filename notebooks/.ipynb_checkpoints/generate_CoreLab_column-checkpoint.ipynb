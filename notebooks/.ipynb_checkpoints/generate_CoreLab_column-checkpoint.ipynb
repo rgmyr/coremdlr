{
 "cells": [
  {
   "cell_type": "code",
   "execution_count": 2,
   "metadata": {},
   "outputs": [],
   "source": [
    "import numpy as np\n",
    "import matplotlib.pyplot as plt\n",
    "from skimage import io, morphology, transform\n",
    "\n",
    "from corebreakout.coreimage  import CoreImage \n",
    "from corebreakout.utils import viz_utils\n",
    "\n",
    "from operator import add\n",
    "from functools import reduce\n",
    "\n",
    "import glob\n",
    "\n",
    "%matplotlib inline"
   ]
  },
  {
   "cell_type": "code",
   "execution_count": 7,
   "metadata": {},
   "outputs": [],
   "source": [
    "corelab_config = '../config/orig_config.ini'\n",
    "corelab_dir = '/home/administrator/Dropbox/core_data/core_photos/CoreLab_tif/all/'\n",
    "save_dir = '/home/administrator/Dropbox/core_data/facies/'"
   ]
  },
  {
   "cell_type": "code",
   "execution_count": 8,
   "metadata": {},
   "outputs": [
    {
     "name": "stdout",
     "output_type": "stream",
     "text": [
      "processing file:  /home/administrator/Dropbox/core_data/core_photos/CoreLab_tif/all/10620.0-10630.0__c1.tif\n",
      "processing file:  /home/administrator/Dropbox/core_data/core_photos/CoreLab_tif/all/10630.0-10640.0.tif\n",
      "processing file:  /home/administrator/Dropbox/core_data/core_photos/CoreLab_tif/all/10640.0-10650.0.tif\n",
      "processing file:  /home/administrator/Dropbox/core_data/core_photos/CoreLab_tif/all/10650.0-10660.0.tif\n",
      "processing file:  /home/administrator/Dropbox/core_data/core_photos/CoreLab_tif/all/10660.0-10670.0.tif\n",
      "processing file:  /home/administrator/Dropbox/core_data/core_photos/CoreLab_tif/all/10670.0-10680.0.tif\n",
      "processing file:  /home/administrator/Dropbox/core_data/core_photos/CoreLab_tif/all/10680.0-10690.0.tif\n",
      "processing file:  /home/administrator/Dropbox/core_data/core_photos/CoreLab_tif/all/10690.0-10700.0.tif\n",
      "processing file:  /home/administrator/Dropbox/core_data/core_photos/CoreLab_tif/all/10700.0-10703.7.tif\n",
      "processing file:  /home/administrator/Dropbox/core_data/core_photos/CoreLab_tif/all/10703.7-10712.0__c2.tif\n",
      "processing file:  /home/administrator/Dropbox/core_data/core_photos/CoreLab_tif/all/10712.0-10722.0.tif\n",
      "processing file:  /home/administrator/Dropbox/core_data/core_photos/CoreLab_tif/all/10722.0-10732.0.tif\n",
      "processing file:  /home/administrator/Dropbox/core_data/core_photos/CoreLab_tif/all/10732.0-10742.0.tif\n",
      "processing file:  /home/administrator/Dropbox/core_data/core_photos/CoreLab_tif/all/10742.0-10752.0.tif\n",
      "processing file:  /home/administrator/Dropbox/core_data/core_photos/CoreLab_tif/all/10752.0-10762.0.tif\n",
      "processing file:  /home/administrator/Dropbox/core_data/core_photos/CoreLab_tif/all/10762.0-10772.0.tif\n",
      "processing file:  /home/administrator/Dropbox/core_data/core_photos/CoreLab_tif/all/10772.0-10782.0.tif\n",
      "processing file:  /home/administrator/Dropbox/core_data/core_photos/CoreLab_tif/all/10782.0-10792.0.tif\n",
      "processing file:  /home/administrator/Dropbox/core_data/core_photos/CoreLab_tif/all/10792.0-10802.0.tif\n",
      "processing file:  /home/administrator/Dropbox/core_data/core_photos/CoreLab_tif/all/10802.0-10812.0.tif\n",
      "processing file:  /home/administrator/Dropbox/core_data/core_photos/CoreLab_tif/all/10812.0-10822.0.tif\n",
      "processing file:  /home/administrator/Dropbox/core_data/core_photos/CoreLab_tif/all/10822.0-10832.0.tif\n",
      "processing file:  /home/administrator/Dropbox/core_data/core_photos/CoreLab_tif/all/10832.0-10842.0.tif\n",
      "processing file:  /home/administrator/Dropbox/core_data/core_photos/CoreLab_tif/all/10842.0-10852.0.tif\n",
      "processing file:  /home/administrator/Dropbox/core_data/core_photos/CoreLab_tif/all/10852.0-10862.0.tif\n",
      "processing file:  /home/administrator/Dropbox/core_data/core_photos/CoreLab_tif/all/10862.0-10872.0.tif\n",
      "processing file:  /home/administrator/Dropbox/core_data/core_photos/CoreLab_tif/all/10872.0-10882.0.tif\n",
      "processing file:  /home/administrator/Dropbox/core_data/core_photos/CoreLab_tif/all/10882.0-10883.8.tif\n"
     ]
    },
    {
     "name": "stderr",
     "output_type": "stream",
     "text": [
      "/home/administrator/anaconda3/envs/core-dev/lib/python3.6/site-packages/skimage/morphology/misc.py:122: UserWarning: Only one label was provided to `remove_small_objects`. Did you mean to use a boolean array?\n",
      "  warn(\"Only one label was provided to `remove_small_objects`. \"\n"
     ]
    },
    {
     "name": "stdout",
     "output_type": "stream",
     "text": [
      "processing file:  /home/administrator/Dropbox/core_data/core_photos/CoreLab_tif/all/10883.8-10892.0__c3.tif\n",
      "processing file:  /home/administrator/Dropbox/core_data/core_photos/CoreLab_tif/all/10892.0-10902.0.tif\n",
      "processing file:  /home/administrator/Dropbox/core_data/core_photos/CoreLab_tif/all/10902.0-10912.0.tif\n",
      "processing file:  /home/administrator/Dropbox/core_data/core_photos/CoreLab_tif/all/10912.0-10922.0.tif\n",
      "processing file:  /home/administrator/Dropbox/core_data/core_photos/CoreLab_tif/all/10922.0-10926.7.tif\n",
      "processing file:  /home/administrator/Dropbox/core_data/core_photos/CoreLab_tif/all/10926.7-10936.0__c4.tif\n",
      "processing file:  /home/administrator/Dropbox/core_data/core_photos/CoreLab_tif/all/10936.0-10946.0.tif\n",
      "processing file:  /home/administrator/Dropbox/core_data/core_photos/CoreLab_tif/all/10946.0-10956.0.tif\n",
      "processing file:  /home/administrator/Dropbox/core_data/core_photos/CoreLab_tif/all/10956.0-10966.0.tif\n",
      "processing file:  /home/administrator/Dropbox/core_data/core_photos/CoreLab_tif/all/10966.0-10976.0.tif\n",
      "processing file:  /home/administrator/Dropbox/core_data/core_photos/CoreLab_tif/all/10976.0-10986.0.tif\n",
      "processing file:  /home/administrator/Dropbox/core_data/core_photos/CoreLab_tif/all/10986.0-10996.0.tif\n",
      "processing file:  /home/administrator/Dropbox/core_data/core_photos/CoreLab_tif/all/10996.0-11006.0.tif\n",
      "processing file:  /home/administrator/Dropbox/core_data/core_photos/CoreLab_tif/all/11006.0-11016.0.tif\n",
      "processing file:  /home/administrator/Dropbox/core_data/core_photos/CoreLab_tif/all/11016.0-11026.0.tif\n",
      "processing file:  /home/administrator/Dropbox/core_data/core_photos/CoreLab_tif/all/11026.0-11036.0.tif\n",
      "processing file:  /home/administrator/Dropbox/core_data/core_photos/CoreLab_tif/all/11036.0-11046.0.tif\n",
      "processing file:  /home/administrator/Dropbox/core_data/core_photos/CoreLab_tif/all/11046.0-11056.0.tif\n",
      "processing file:  /home/administrator/Dropbox/core_data/core_photos/CoreLab_tif/all/11056.0-11066.0.tif\n",
      "processing file:  /home/administrator/Dropbox/core_data/core_photos/CoreLab_tif/all/11066.0-11075.3.tif\n"
     ]
    },
    {
     "ename": "AttributeError",
     "evalue": "'CoreColumn' object has no attribute 'shape'",
     "output_type": "error",
     "traceback": [
      "\u001b[0;31m---------------------------------------------------------------------------\u001b[0m",
      "\u001b[0;31mAttributeError\u001b[0m                            Traceback (most recent call last)",
      "\u001b[0;32m<ipython-input-8-f10a7855575c>\u001b[0m in \u001b[0;36m<module>\u001b[0;34m()\u001b[0m\n\u001b[1;32m      9\u001b[0m \u001b[0;34m\u001b[0m\u001b[0m\n\u001b[1;32m     10\u001b[0m \u001b[0mcolumn\u001b[0m \u001b[0;34m=\u001b[0m \u001b[0mreduce\u001b[0m\u001b[0;34m(\u001b[0m\u001b[0madd\u001b[0m\u001b[0;34m,\u001b[0m \u001b[0mcolumns\u001b[0m\u001b[0;34m)\u001b[0m\u001b[0;34m\u001b[0m\u001b[0m\n\u001b[0;32m---> 11\u001b[0;31m \u001b[0mprint\u001b[0m\u001b[0;34m(\u001b[0m\u001b[0mcolumn\u001b[0m\u001b[0;34m.\u001b[0m\u001b[0mshape\u001b[0m\u001b[0;34m)\u001b[0m\u001b[0;34m\u001b[0m\u001b[0m\n\u001b[0m",
      "\u001b[0;31mAttributeError\u001b[0m: 'CoreColumn' object has no attribute 'shape'"
     ]
    }
   ],
   "source": [
    "corelab_files = [path for path in sorted(glob.glob(corelab_dir+'*.tif'))]\n",
    "\n",
    "columns = []\n",
    "\n",
    "for fpath in corelab_files:\n",
    "    cimg = CoreImage(fpath, config_path=corelab_config)\n",
    "    col = cimg.segment(safe=False).stack_columns()\n",
    "    columns.append(col)\n",
    "    \n",
    "column = reduce(add, columns)"
   ]
  },
  {
   "cell_type": "code",
   "execution_count": 10,
   "metadata": {},
   "outputs": [
    {
     "data": {
      "text/plain": [
       "((668667, 420, 3), (668667,))"
      ]
     },
     "execution_count": 10,
     "metadata": {},
     "output_type": "execute_result"
    }
   ],
   "source": [
    "column.img.shape, column.x_depth.shape"
   ]
  },
  {
   "cell_type": "markdown",
   "metadata": {},
   "source": [
    "## Labels"
   ]
  },
  {
   "cell_type": "code",
   "execution_count": 16,
   "metadata": {},
   "outputs": [
    {
     "data": {
      "text/html": [
       "<div>\n",
       "<style scoped>\n",
       "    .dataframe tbody tr th:only-of-type {\n",
       "        vertical-align: middle;\n",
       "    }\n",
       "\n",
       "    .dataframe tbody tr th {\n",
       "        vertical-align: top;\n",
       "    }\n",
       "\n",
       "    .dataframe thead th {\n",
       "        text-align: right;\n",
       "    }\n",
       "</style>\n",
       "<table border=\"1\" class=\"dataframe\">\n",
       "  <thead>\n",
       "    <tr style=\"text-align: right;\">\n",
       "      <th></th>\n",
       "      <th>Facies</th>\n",
       "      <th>Class</th>\n",
       "      <th>Class_Num</th>\n",
       "      <th>Start_Depth</th>\n",
       "      <th>End_Depth</th>\n",
       "      <th>Size</th>\n",
       "      <th>Facies_Num</th>\n",
       "    </tr>\n",
       "  </thead>\n",
       "  <tbody>\n",
       "    <tr>\n",
       "      <th>0</th>\n",
       "      <td>argilaceous siltstone</td>\n",
       "      <td>siltstone</td>\n",
       "      <td>1</td>\n",
       "      <td>10620.00</td>\n",
       "      <td>10620.21</td>\n",
       "      <td>0.21</td>\n",
       "      <td>1</td>\n",
       "    </tr>\n",
       "    <tr>\n",
       "      <th>1</th>\n",
       "      <td>packstone - grainstone</td>\n",
       "      <td>carbonate</td>\n",
       "      <td>3</td>\n",
       "      <td>10620.21</td>\n",
       "      <td>10620.91</td>\n",
       "      <td>0.70</td>\n",
       "      <td>7</td>\n",
       "    </tr>\n",
       "    <tr>\n",
       "      <th>2</th>\n",
       "      <td>fossiliferous argilaceous siltstone</td>\n",
       "      <td>siltstone</td>\n",
       "      <td>1</td>\n",
       "      <td>10620.91</td>\n",
       "      <td>10621.16</td>\n",
       "      <td>0.25</td>\n",
       "      <td>2</td>\n",
       "    </tr>\n",
       "    <tr>\n",
       "      <th>3</th>\n",
       "      <td>argilaceous siltstone</td>\n",
       "      <td>siltstone</td>\n",
       "      <td>1</td>\n",
       "      <td>10621.16</td>\n",
       "      <td>10621.81</td>\n",
       "      <td>0.65</td>\n",
       "      <td>1</td>\n",
       "    </tr>\n",
       "    <tr>\n",
       "      <th>4</th>\n",
       "      <td>fossiliferous argilaceous siltstone</td>\n",
       "      <td>siltstone</td>\n",
       "      <td>1</td>\n",
       "      <td>10621.81</td>\n",
       "      <td>10622.36</td>\n",
       "      <td>0.55</td>\n",
       "      <td>2</td>\n",
       "    </tr>\n",
       "  </tbody>\n",
       "</table>\n",
       "</div>"
      ],
      "text/plain": [
       "                                Facies      Class  Class_Num  Start_Depth  \\\n",
       "0                argilaceous siltstone  siltstone          1     10620.00   \n",
       "1               packstone - grainstone  carbonate          3     10620.21   \n",
       "2  fossiliferous argilaceous siltstone  siltstone          1     10620.91   \n",
       "3                argilaceous siltstone  siltstone          1     10621.16   \n",
       "4  fossiliferous argilaceous siltstone  siltstone          1     10621.81   \n",
       "\n",
       "   End_Depth  Size  Facies_Num  \n",
       "0   10620.21  0.21           1  \n",
       "1   10620.91  0.70           7  \n",
       "2   10621.16  0.25           2  \n",
       "3   10621.81  0.65           1  \n",
       "4   10622.36  0.55           2  "
      ]
     },
     "execution_count": 16,
     "metadata": {},
     "output_type": "execute_result"
    }
   ],
   "source": [
    "import pandas as pd\n",
    "\n",
    "labels = pd.read_csv(save_dir+'Labels/CoreLab_facies_labels.csv', index_col='Unnamed: 0')\n",
    "labels.head()"
   ]
  },
  {
   "cell_type": "code",
   "execution_count": 17,
   "metadata": {},
   "outputs": [
    {
     "data": {
      "text/plain": [
       "11033.6"
      ]
     },
     "execution_count": 17,
     "metadata": {},
     "output_type": "execute_result"
    }
   ],
   "source": [
    "max_depth = labels.End_Depth.max()\n",
    "max_depth"
   ]
  },
  {
   "cell_type": "code",
   "execution_count": 21,
   "metadata": {},
   "outputs": [
    {
     "data": {
      "text/plain": [
       "((607450, 420, 3), (607450,))"
      ]
     },
     "execution_count": 21,
     "metadata": {},
     "output_type": "execute_result"
    }
   ],
   "source": [
    "good_depths = np.where(column.x_depth < max_depth)\n",
    "depth = column.x_depth[good_depths]\n",
    "img = column.img[good_depths, :][0,...]\n",
    "img.shape, depth.shape"
   ]
  },
  {
   "cell_type": "code",
   "execution_count": 22,
   "metadata": {},
   "outputs": [],
   "source": [
    "facies = np.zeros_like(depth, dtype=np.uint8)\n",
    "categories = np.zeros_like(depth, dtype=np.uint8)"
   ]
  },
  {
   "cell_type": "code",
   "execution_count": 26,
   "metadata": {},
   "outputs": [
    {
     "name": "stdout",
     "output_type": "stream",
     "text": [
      "[     0  40086  30517  27405 206583 198284  23999  63314   8532   8730] [     0  70603 432272 104575]\n"
     ]
    }
   ],
   "source": [
    "ix = 0\n",
    "row = labels.iloc[ix]\n",
    "\n",
    "for i in np.arange(depth.size):\n",
    "    if depth[i] > row.End_Depth:\n",
    "        ix += 1\n",
    "        row = labels.iloc[ix]\n",
    "    facies[i] = row.Facies_Num\n",
    "    categories[i] = row.Class_Num\n",
    "\n",
    "print(np.bincount(facies), np.bincount(categories))"
   ]
  },
  {
   "cell_type": "code",
   "execution_count": 27,
   "metadata": {},
   "outputs": [],
   "source": [
    "np.save(save_dir+'Columns/CoreLab_FULL_image.npy', img)\n",
    "np.save(save_dir+'Columns/CoreLab_FULL_depths.npy', depth)\n",
    "np.save(save_dir+'Columns/CoreLab_FULL_facies.npy', facies)\n",
    "np.save(save_dir+'Columns/CoreLab_FULL_categories.npy', categories)"
   ]
  }
 ],
 "metadata": {
  "kernelspec": {
   "display_name": "Python 3",
   "language": "python",
   "name": "python3"
  },
  "language_info": {
   "codemirror_mode": {
    "name": "ipython",
    "version": 3
   },
   "file_extension": ".py",
   "mimetype": "text/x-python",
   "name": "python",
   "nbconvert_exporter": "python",
   "pygments_lexer": "ipython3",
   "version": "3.6.5"
  }
 },
 "nbformat": 4,
 "nbformat_minor": 2
}
