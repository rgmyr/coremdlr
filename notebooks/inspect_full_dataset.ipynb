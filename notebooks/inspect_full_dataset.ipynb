{
 "cells": [
  {
   "cell_type": "code",
   "execution_count": 1,
   "metadata": {},
   "outputs": [
    {
     "name": "stderr",
     "output_type": "stream",
     "text": [
      "/home/administrator/anaconda3/envs/core-dev/lib/python3.6/importlib/_bootstrap.py:219: RuntimeWarning: numpy.dtype size changed, may indicate binary incompatibility. Expected 96, got 88\n",
      "  return f(*args, **kwds)\n"
     ]
    }
   ],
   "source": [
    "import os\n",
    "from pathlib import Path\n",
    "\n",
    "import numpy as np\n",
    "import pandas as pd\n",
    "import seaborn as sns\n",
    "import matplotlib.pyplot as plt\n",
    "%matplotlib inline\n",
    "plt.style.use('ggplot')"
   ]
  },
  {
   "cell_type": "code",
   "execution_count": 19,
   "metadata": {},
   "outputs": [
    {
     "data": {
      "text/plain": [
       "(PosixPath('/home/administrator/Dropbox/core_data/facies/train_data'), True)"
      ]
     },
     "execution_count": 19,
     "metadata": {},
     "output_type": "execute_result"
    }
   ],
   "source": [
    "train_dir = Path('/home/' + os.environ['USER'] +'/Dropbox/core_data/facies/train_data')\n",
    "train_dir, train_dir.exists()"
   ]
  },
  {
   "cell_type": "code",
   "execution_count": 20,
   "metadata": {},
   "outputs": [
    {
     "data": {
      "text/plain": [
       "{'204-19-2': (PosixPath('/home/administrator/Dropbox/core_data/facies/train_data/204-19-2_depth.npy'),\n",
       "  PosixPath('/home/administrator/Dropbox/core_data/facies/train_data/204-19-2_labels.npy')),\n",
       " '204-19-3A': (PosixPath('/home/administrator/Dropbox/core_data/facies/train_data/204-19-3A_depth.npy'),\n",
       "  PosixPath('/home/administrator/Dropbox/core_data/facies/train_data/204-19-3A_labels.npy')),\n",
       " '204-19-6': (PosixPath('/home/administrator/Dropbox/core_data/facies/train_data/204-19-6_depth.npy'),\n",
       "  PosixPath('/home/administrator/Dropbox/core_data/facies/train_data/204-19-6_labels.npy')),\n",
       " '204-19-7': (PosixPath('/home/administrator/Dropbox/core_data/facies/train_data/204-19-7_depth.npy'),\n",
       "  PosixPath('/home/administrator/Dropbox/core_data/facies/train_data/204-19-7_labels.npy')),\n",
       " '204-20-1Z': (PosixPath('/home/administrator/Dropbox/core_data/facies/train_data/204-20-1Z_depth.npy'),\n",
       "  PosixPath('/home/administrator/Dropbox/core_data/facies/train_data/204-20-1Z_labels.npy')),\n",
       " '204-20-1': (PosixPath('/home/administrator/Dropbox/core_data/facies/train_data/204-20-1_depth.npy'),\n",
       "  PosixPath('/home/administrator/Dropbox/core_data/facies/train_data/204-20-1_labels.npy')),\n",
       " '204-20-2': (PosixPath('/home/administrator/Dropbox/core_data/facies/train_data/204-20-2_depth.npy'),\n",
       "  PosixPath('/home/administrator/Dropbox/core_data/facies/train_data/204-20-2_labels.npy')),\n",
       " '204-20-3': (PosixPath('/home/administrator/Dropbox/core_data/facies/train_data/204-20-3_depth.npy'),\n",
       "  PosixPath('/home/administrator/Dropbox/core_data/facies/train_data/204-20-3_labels.npy')),\n",
       " '204-20-6a': (PosixPath('/home/administrator/Dropbox/core_data/facies/train_data/204-20-6a_depth.npy'),\n",
       "  PosixPath('/home/administrator/Dropbox/core_data/facies/train_data/204-20-6a_labels.npy')),\n",
       " '204-20a-7': (PosixPath('/home/administrator/Dropbox/core_data/facies/train_data/204-20a-7_depth.npy'),\n",
       "  PosixPath('/home/administrator/Dropbox/core_data/facies/train_data/204-20a-7_labels.npy')),\n",
       " '204-24a-6': (PosixPath('/home/administrator/Dropbox/core_data/facies/train_data/204-24a-6_depth.npy'),\n",
       "  PosixPath('/home/administrator/Dropbox/core_data/facies/train_data/204-24a-6_labels.npy')),\n",
       " '204-24a-7': (PosixPath('/home/administrator/Dropbox/core_data/facies/train_data/204-24a-7_depth.npy'),\n",
       "  PosixPath('/home/administrator/Dropbox/core_data/facies/train_data/204-24a-7_labels.npy')),\n",
       " '205-21b-3': (PosixPath('/home/administrator/Dropbox/core_data/facies/train_data/205-21b-3_depth.npy'),\n",
       "  PosixPath('/home/administrator/Dropbox/core_data/facies/train_data/205-21b-3_labels.npy'))}"
      ]
     },
     "execution_count": 20,
     "metadata": {},
     "output_type": "execute_result"
    }
   ],
   "source": [
    "depth_files = sorted(train_dir.glob('*_depth.npy'))\n",
    "label_files = sorted(train_dir.glob('*_labels.npy'))\n",
    "\n",
    "well_dl = {d.name.split('_')[0] : (d, l) for d, l in zip(depth_files, label_files)}\n",
    "well_dl"
   ]
  },
  {
   "cell_type": "code",
   "execution_count": 22,
   "metadata": {},
   "outputs": [
    {
     "data": {
      "text/plain": [
       "(4006048,)"
      ]
     },
     "execution_count": 22,
     "metadata": {},
     "output_type": "execute_result"
    }
   ],
   "source": [
    "dd = np.concatenate([np.diff(np.load(dl[0])) for dl in well_dl.values()])\n",
    "\n",
    "dd.shape"
   ]
  },
  {
   "cell_type": "code",
   "execution_count": 23,
   "metadata": {},
   "outputs": [
    {
     "data": {
      "text/plain": [
       "0.00016781339149929408"
      ]
     },
     "execution_count": 23,
     "metadata": {},
     "output_type": "execute_result"
    }
   ],
   "source": [
    "np.median(dd)"
   ]
  },
  {
   "cell_type": "code",
   "execution_count": 25,
   "metadata": {},
   "outputs": [
    {
     "data": {
      "text/plain": [
       "672.2685013889641"
      ]
     },
     "execution_count": 25,
     "metadata": {},
     "output_type": "execute_result"
    }
   ],
   "source": [
    "np.median(dd)*dd.shape[0]"
   ]
  },
  {
   "cell_type": "code",
   "execution_count": 33,
   "metadata": {},
   "outputs": [
    {
     "data": {
      "text/plain": [
       "(array([325565., 911656., 995997., 419058.,  10498., 649741., 693546.]),\n",
       " array([-0.5,  0.5,  1.5,  2.5,  3.5,  4.5,  5.5,  6.5]),\n",
       " <a list of 7 Patch objects>)"
      ]
     },
     "execution_count": 33,
     "metadata": {},
     "output_type": "execute_result"
    },
    {
     "data": {
      "image/png": "[encoded data removed]",
      "text/plain": [
       "<Figure size 432x288 with 1 Axes>"
      ]
     },
     "metadata": {},
     "output_type": "display_data"
    }
   ],
   "source": [
    "ll = np.concatenate([np.load(dl[1]) for dl in well_dl.values()])\n",
    "\n",
    "plt.hist(ll, bins=np.arange(8)-0.5)"
   ]
  },
  {
   "cell_type": "code",
   "execution_count": 34,
   "metadata": {},
   "outputs": [
    {
     "data": {
      "text/plain": [
       "504.201375"
      ]
     },
     "execution_count": 34,
     "metadata": {},
     "output_type": "execute_result"
    }
   ],
   "source": [
    "# looks like approx 1 million NC + BS rows ~ 25%\n",
    "672.2685 * 0.75"
   ]
  },
  {
   "cell_type": "code",
   "execution_count": null,
   "metadata": {},
   "outputs": [],
   "source": []
  }
 ],
 "metadata": {
  "kernelspec": {
   "display_name": "Python 3",
   "language": "python",
   "name": "python3"
  },
  "language_info": {
   "codemirror_mode": {
    "name": "ipython",
    "version": 3
   },
   "file_extension": ".py",
   "mimetype": "text/x-python",
   "name": "python",
   "nbconvert_exporter": "python",
   "pygments_lexer": "ipython3",
   "version": "3.6.7"
  }
 },
 "nbformat": 4,
 "nbformat_minor": 2
}
