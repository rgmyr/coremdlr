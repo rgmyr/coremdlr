{
 "cells": [
  {
   "cell_type": "markdown",
   "metadata": {},
   "source": [
    "## Test `NetworkModel`"
   ]
  },
  {
   "cell_type": "code",
   "execution_count": 1,
   "metadata": {
    "scrolled": true
   },
   "outputs": [
    {
     "name": "stderr",
     "output_type": "stream",
     "text": [
      "/home/ross/anaconda3/envs/core-dev/lib/python3.7/site-packages/tensorflow/python/framework/dtypes.py:516: FutureWarning: Passing (type, 1) or '1type' as a synonym of type is deprecated; in a future version of numpy, it will be understood as (type, (1,)) / '(1,)type'.\n",
      "  _np_qint8 = np.dtype([(\"qint8\", np.int8, 1)])\n",
      "/home/ross/anaconda3/envs/core-dev/lib/python3.7/site-packages/tensorflow/python/framework/dtypes.py:517: FutureWarning: Passing (type, 1) or '1type' as a synonym of type is deprecated; in a future version of numpy, it will be understood as (type, (1,)) / '(1,)type'.\n",
      "  _np_quint8 = np.dtype([(\"quint8\", np.uint8, 1)])\n",
      "/home/ross/anaconda3/envs/core-dev/lib/python3.7/site-packages/tensorflow/python/framework/dtypes.py:518: FutureWarning: Passing (type, 1) or '1type' as a synonym of type is deprecated; in a future version of numpy, it will be understood as (type, (1,)) / '(1,)type'.\n",
      "  _np_qint16 = np.dtype([(\"qint16\", np.int16, 1)])\n",
      "/home/ross/anaconda3/envs/core-dev/lib/python3.7/site-packages/tensorflow/python/framework/dtypes.py:519: FutureWarning: Passing (type, 1) or '1type' as a synonym of type is deprecated; in a future version of numpy, it will be understood as (type, (1,)) / '(1,)type'.\n",
      "  _np_quint16 = np.dtype([(\"quint16\", np.uint16, 1)])\n",
      "/home/ross/anaconda3/envs/core-dev/lib/python3.7/site-packages/tensorflow/python/framework/dtypes.py:520: FutureWarning: Passing (type, 1) or '1type' as a synonym of type is deprecated; in a future version of numpy, it will be understood as (type, (1,)) / '(1,)type'.\n",
      "  _np_qint32 = np.dtype([(\"qint32\", np.int32, 1)])\n",
      "/home/ross/anaconda3/envs/core-dev/lib/python3.7/site-packages/tensorflow/python/framework/dtypes.py:525: FutureWarning: Passing (type, 1) or '1type' as a synonym of type is deprecated; in a future version of numpy, it will be understood as (type, (1,)) / '(1,)type'.\n",
      "  np_resource = np.dtype([(\"resource\", np.ubyte, 1)])\n",
      "/home/ross/anaconda3/envs/core-dev/lib/python3.7/site-packages/tensorboard/compat/tensorflow_stub/dtypes.py:541: FutureWarning: Passing (type, 1) or '1type' as a synonym of type is deprecated; in a future version of numpy, it will be understood as (type, (1,)) / '(1,)type'.\n",
      "  _np_qint8 = np.dtype([(\"qint8\", np.int8, 1)])\n",
      "/home/ross/anaconda3/envs/core-dev/lib/python3.7/site-packages/tensorboard/compat/tensorflow_stub/dtypes.py:542: FutureWarning: Passing (type, 1) or '1type' as a synonym of type is deprecated; in a future version of numpy, it will be understood as (type, (1,)) / '(1,)type'.\n",
      "  _np_quint8 = np.dtype([(\"quint8\", np.uint8, 1)])\n",
      "/home/ross/anaconda3/envs/core-dev/lib/python3.7/site-packages/tensorboard/compat/tensorflow_stub/dtypes.py:543: FutureWarning: Passing (type, 1) or '1type' as a synonym of type is deprecated; in a future version of numpy, it will be understood as (type, (1,)) / '(1,)type'.\n",
      "  _np_qint16 = np.dtype([(\"qint16\", np.int16, 1)])\n",
      "/home/ross/anaconda3/envs/core-dev/lib/python3.7/site-packages/tensorboard/compat/tensorflow_stub/dtypes.py:544: FutureWarning: Passing (type, 1) or '1type' as a synonym of type is deprecated; in a future version of numpy, it will be understood as (type, (1,)) / '(1,)type'.\n",
      "  _np_quint16 = np.dtype([(\"quint16\", np.uint16, 1)])\n",
      "/home/ross/anaconda3/envs/core-dev/lib/python3.7/site-packages/tensorboard/compat/tensorflow_stub/dtypes.py:545: FutureWarning: Passing (type, 1) or '1type' as a synonym of type is deprecated; in a future version of numpy, it will be understood as (type, (1,)) / '(1,)type'.\n",
      "  _np_qint32 = np.dtype([(\"qint32\", np.int32, 1)])\n",
      "/home/ross/anaconda3/envs/core-dev/lib/python3.7/site-packages/tensorboard/compat/tensorflow_stub/dtypes.py:550: FutureWarning: Passing (type, 1) or '1type' as a synonym of type is deprecated; in a future version of numpy, it will be understood as (type, (1,)) / '(1,)type'.\n",
      "  np_resource = np.dtype([(\"resource\", np.ubyte, 1)])\n",
      "Using TensorFlow backend.\n"
     ]
    }
   ],
   "source": [
    "import numpy as np\n",
    "from coremdlr.models import NetworkModel\n",
    "from coremdlr.datasets import DepthSequenceGenerator, FaciesDataset\n",
    "\n",
    "import tensorflow as tf\n",
    "config = tf.ConfigProto()\n",
    "config.gpu_options.allow_growth = True"
   ]
  },
  {
   "cell_type": "code",
   "execution_count": 2,
   "metadata": {},
   "outputs": [
    {
     "name": "stdout",
     "output_type": "stream",
     "text": [
      "Loading Well:  205-21b-3  from  /home/ross/Dropbox/core_data/facies/train_data\n",
      "Feature shapes:  [('depth', (3881,)), ('top', (3881,)), ('base', (3881,)), ('image', (3881, 32, 600, 3))]\n",
      "Loading Well:  204-20-6a  from  /home/ross/Dropbox/core_data/facies/train_data\n",
      "Feature shapes:  [('depth', (3542,)), ('top', (3542,)), ('base', (3542,)), ('image', (3542, 32, 600, 3))]\n",
      "Loading Well:  204-20-1Z  from  /home/ross/Dropbox/core_data/facies/train_data\n",
      "Feature shapes:  [('depth', (1929,)), ('top', (1929,)), ('base', (1929,)), ('image', (1929, 32, 600, 3))]\n",
      "Loading Well:  204-24a-6  from  /home/ross/Dropbox/core_data/facies/train_data\n",
      "Feature shapes:  [('depth', (13034,)), ('top', (13034,)), ('base', (13034,)), ('image', (13034, 32, 600, 3))]\n"
     ]
    },
    {
     "name": "stderr",
     "output_type": "stream",
     "text": [
      "/home/ross/anaconda3/envs/core-dev/lib/python3.7/site-packages/sklearn/preprocessing/_function_transformer.py:97: FutureWarning: The default validate=True will be replaced by validate=False in 0.22.\n",
      "  \"validate=False in 0.22.\", FutureWarning)\n"
     ]
    },
    {
     "name": "stdout",
     "output_type": "stream",
     "text": [
      "Loading Well:  204-19-6  from  /home/ross/Dropbox/core_data/facies/train_data\n",
      "Feature shapes:  [('depth', (1981,)), ('top', (1981,)), ('base', (1981,)), ('image', (1981, 32, 600, 3))]\n"
     ]
    },
    {
     "name": "stderr",
     "output_type": "stream",
     "text": [
      "/home/ross/anaconda3/envs/core-dev/lib/python3.7/site-packages/sklearn/preprocessing/_function_transformer.py:97: FutureWarning: The default validate=True will be replaced by validate=False in 0.22.\n",
      "  \"validate=False in 0.22.\", FutureWarning)\n"
     ]
    }
   ],
   "source": [
    "fdset = FaciesDataset([\"205-21b-3\", \"204-20-6a\", \"204-20-1Z\", \"204-24a-6\"],\n",
    "                    test_wells=[\"204-19-6\"],\n",
    "                    features=[\"image\"],\n",
    "                    label_resolution=32)\n",
    "\n",
    "fdset.load_or_generate_data()"
   ]
  },
  {
   "cell_type": "code",
   "execution_count": 3,
   "metadata": {},
   "outputs": [
    {
     "name": "stdout",
     "output_type": "stream",
     "text": [
      "[0.00352899 0.27673546 0.15934066 0.19686411 0.02045922 0.34307156]\n",
      "[0.04896517 0.47147905 0.15497224 0.14386673 0.         0.18071681]\n"
     ]
    }
   ],
   "source": [
    "print(np.bincount(fdset.y_train) / fdset.y_train.size)\n",
    "print(np.bincount(fdset.y_test) / fdset.y_test.size)"
   ]
  },
  {
   "cell_type": "code",
   "execution_count": 4,
   "metadata": {},
   "outputs": [
    {
     "name": "stdout",
     "output_type": "stream",
     "text": [
      "WARNING:tensorflow:From /home/ross/anaconda3/envs/core-dev/lib/python3.7/site-packages/tensorflow/python/ops/init_ops.py:1251: calling VarianceScaling.__init__ (from tensorflow.python.ops.init_ops) with dtype is deprecated and will be removed in a future version.\n",
      "Instructions for updating:\n",
      "Call initializer instance with the dtype argument instead of passing it to the constructor\n",
      "Model: \"model\"\n",
      "__________________________________________________________________________________________________\n",
      "Layer (type)                    Output Shape         Param #     Connected to                     \n",
      "==================================================================================================\n",
      "input_2 (InputLayer)            [(None, 384, 600, 3) 0                                            \n",
      "__________________________________________________________________________________________________\n",
      "vgg16 (Model)                   (None, 12, 18, 512)  14714688    input_2[0][0]                    \n",
      "__________________________________________________________________________________________________\n",
      "reduce_A (Conv2D)               (None, 12, 18, 32)   16416       vgg16[1][0]                      \n",
      "__________________________________________________________________________________________________\n",
      "reduce_B (Conv2D)               (None, 12, 18, 32)   16416       vgg16[1][0]                      \n",
      "__________________________________________________________________________________________________\n",
      "unstack_rows (Lambda)           [(None, 18, 32), (No 0           reduce_A[0][0]                   \n",
      "                                                                 reduce_B[0][0]                   \n",
      "__________________________________________________________________________________________________\n",
      "bilinear_pooling (Lambda)       (None, 1024)         0           unstack_rows[0][0]               \n",
      "                                                                 unstack_rows[1][0]               \n",
      "                                                                 unstack_rows[0][1]               \n",
      "                                                                 unstack_rows[1][1]               \n",
      "                                                                 unstack_rows[0][2]               \n",
      "                                                                 unstack_rows[1][2]               \n",
      "                                                                 unstack_rows[0][3]               \n",
      "                                                                 unstack_rows[1][3]               \n",
      "                                                                 unstack_rows[0][4]               \n",
      "                                                                 unstack_rows[1][4]               \n",
      "                                                                 unstack_rows[0][5]               \n",
      "                                                                 unstack_rows[1][5]               \n",
      "                                                                 unstack_rows[0][6]               \n",
      "                                                                 unstack_rows[1][6]               \n",
      "                                                                 unstack_rows[0][7]               \n",
      "                                                                 unstack_rows[1][7]               \n",
      "                                                                 unstack_rows[0][8]               \n",
      "                                                                 unstack_rows[1][8]               \n",
      "                                                                 unstack_rows[0][9]               \n",
      "                                                                 unstack_rows[1][9]               \n",
      "                                                                 unstack_rows[0][10]              \n",
      "                                                                 unstack_rows[1][10]              \n",
      "                                                                 unstack_rows[0][11]              \n",
      "                                                                 unstack_rows[1][11]              \n",
      "__________________________________________________________________________________________________\n",
      "stack_rows (Lambda)             (None, 12, 1024)     0           bilinear_pooling[0][0]           \n",
      "                                                                 bilinear_pooling[1][0]           \n",
      "                                                                 bilinear_pooling[2][0]           \n",
      "                                                                 bilinear_pooling[3][0]           \n",
      "                                                                 bilinear_pooling[4][0]           \n",
      "                                                                 bilinear_pooling[5][0]           \n",
      "                                                                 bilinear_pooling[6][0]           \n",
      "                                                                 bilinear_pooling[7][0]           \n",
      "                                                                 bilinear_pooling[8][0]           \n",
      "                                                                 bilinear_pooling[9][0]           \n",
      "                                                                 bilinear_pooling[10][0]          \n",
      "                                                                 bilinear_pooling[11][0]          \n",
      "__________________________________________________________________________________________________\n",
      "dropout (Dropout)               (None, 12, 1024)     0           stack_rows[0][0]                 \n",
      "__________________________________________________________________________________________________\n",
      "dense (Dense)                   (None, 12, 6)        6150        dropout[0][0]                    \n",
      "==================================================================================================\n",
      "Total params: 14,753,670\n",
      "Trainable params: 14,753,670\n",
      "Non-trainable params: 0\n",
      "__________________________________________________________________________________________________\n"
     ]
    }
   ],
   "source": [
    "bcnn_model_args = {\n",
    "    'feature' : 'image',\n",
    "    'network' : 'bilinear_cnn',\n",
    "    'sequence_size' : 12,\n",
    "    'network_args' : {\n",
    "        'conv1x1' : 32,\n",
    "        'backbone_cnn' : 'vgg16',\n",
    "        'lstm_features' : None,\n",
    "        'dropout_rate' : 0.25,\n",
    "        'apply_rowwise' : True\n",
    "    },\n",
    "    'optimizer_args' : {\n",
    "        'optimizer' : 'Adam',\n",
    "        'clipnorm' : 10.\n",
    "    },\n",
    "    'loss' : {'ordinal_squared_error': 0.5,\n",
    "              'categorical_crossentropy': 1.0}\n",
    "}\n",
    "\n",
    "bcnn_model = NetworkModel(fdset, model_args=bcnn_model_args)"
   ]
  },
  {
   "cell_type": "code",
   "execution_count": 5,
   "metadata": {
    "scrolled": false
   },
   "outputs": [
    {
     "name": "stdout",
     "output_type": "stream",
     "text": [
      "Shapes of `(batch_X, batch_y)`: (4, 384, 600, 3), (4, 12, 6)\n",
      "Epoch 1/3\n",
      "WARNING:tensorflow:From /home/ross/anaconda3/envs/core-dev/lib/python3.7/site-packages/tensorflow/python/ops/math_grad.py:1250: add_dispatch_support.<locals>.wrapper (from tensorflow.python.ops.array_ops) is deprecated and will be removed in a future version.\n",
      "Instructions for updating:\n",
      "Use tf.where in 2.0, which has the same broadcast rule as np.where\n",
      "559/559 [==============================] - 94s 168ms/step - loss: 2.4590 - acc: 0.5190 - val_loss: 2.6782 - val_acc: 0.4721\n",
      "Epoch 2/3\n",
      "559/559 [==============================] - 87s 156ms/step - loss: 2.8212 - acc: 0.3283 - val_loss: 3.2088 - val_acc: 0.1815\n",
      "Epoch 3/3\n",
      "559/559 [==============================] - 87s 156ms/step - loss: 2.4421 - acc: 0.4549 - val_loss: 2.2893 - val_acc: 0.5859\n"
     ]
    },
    {
     "data": {
      "text/plain": [
       "2.289321176594284"
      ]
     },
     "execution_count": 5,
     "metadata": {},
     "output_type": "execute_result"
    }
   ],
   "source": [
    "fit_args = {\n",
    "    'batch_size' : 4,\n",
    "    'step_size' : bcnn_model.sequence_size - 2,\n",
    "    'epochs' : 3,\n",
    "}\n",
    "\n",
    "bcnn_model.fit(fdset, **fit_args)"
   ]
  },
  {
   "cell_type": "code",
   "execution_count": 6,
   "metadata": {},
   "outputs": [
    {
     "ename": "ImportError",
     "evalue": "Failed to import `pydot`. Please install `pydot`. For example with `pip install pydot`.",
     "output_type": "error",
     "traceback": [
      "\u001b[0;31m---------------------------------------------------------------------------\u001b[0m",
      "\u001b[0;31mImportError\u001b[0m                               Traceback (most recent call last)",
      "\u001b[0;32m<ipython-input-6-dfd910f7ee3c>\u001b[0m in \u001b[0;36m<module>\u001b[0;34m\u001b[0m\n\u001b[1;32m      2\u001b[0m \u001b[0;32mfrom\u001b[0m \u001b[0mkeras\u001b[0m\u001b[0;34m.\u001b[0m\u001b[0mutils\u001b[0m\u001b[0;34m.\u001b[0m\u001b[0mvis_utils\u001b[0m \u001b[0;32mimport\u001b[0m \u001b[0mmodel_to_dot\u001b[0m\u001b[0;34m\u001b[0m\u001b[0;34m\u001b[0m\u001b[0m\n\u001b[1;32m      3\u001b[0m \u001b[0;34m\u001b[0m\u001b[0m\n\u001b[0;32m----> 4\u001b[0;31m \u001b[0mSVG\u001b[0m\u001b[0;34m(\u001b[0m\u001b[0mmodel_to_dot\u001b[0m\u001b[0;34m(\u001b[0m\u001b[0mbcnn_model\u001b[0m\u001b[0;34m.\u001b[0m\u001b[0mnetwork\u001b[0m\u001b[0;34m)\u001b[0m\u001b[0;34m.\u001b[0m\u001b[0mcreate\u001b[0m\u001b[0;34m(\u001b[0m\u001b[0mprog\u001b[0m\u001b[0;34m=\u001b[0m\u001b[0;34m'dot'\u001b[0m\u001b[0;34m,\u001b[0m \u001b[0mformat\u001b[0m\u001b[0;34m=\u001b[0m\u001b[0;34m'svg'\u001b[0m\u001b[0;34m)\u001b[0m\u001b[0;34m)\u001b[0m\u001b[0;34m\u001b[0m\u001b[0;34m\u001b[0m\u001b[0m\n\u001b[0m",
      "\u001b[0;32m~/anaconda3/envs/core-dev/lib/python3.7/site-packages/keras/utils/vis_utils.py\u001b[0m in \u001b[0;36mmodel_to_dot\u001b[0;34m(model, show_shapes, show_layer_names, rankdir, expand_nested, dpi, subgraph)\u001b[0m\n\u001b[1;32m     77\u001b[0m     \u001b[0;32mfrom\u001b[0m \u001b[0;34m.\u001b[0m\u001b[0;34m.\u001b[0m\u001b[0mmodels\u001b[0m \u001b[0;32mimport\u001b[0m \u001b[0mSequential\u001b[0m\u001b[0;34m\u001b[0m\u001b[0;34m\u001b[0m\u001b[0m\n\u001b[1;32m     78\u001b[0m \u001b[0;34m\u001b[0m\u001b[0m\n\u001b[0;32m---> 79\u001b[0;31m     \u001b[0m_check_pydot\u001b[0m\u001b[0;34m(\u001b[0m\u001b[0;34m)\u001b[0m\u001b[0;34m\u001b[0m\u001b[0;34m\u001b[0m\u001b[0m\n\u001b[0m\u001b[1;32m     80\u001b[0m     \u001b[0;32mif\u001b[0m \u001b[0msubgraph\u001b[0m\u001b[0;34m:\u001b[0m\u001b[0;34m\u001b[0m\u001b[0;34m\u001b[0m\u001b[0m\n\u001b[1;32m     81\u001b[0m         \u001b[0mdot\u001b[0m \u001b[0;34m=\u001b[0m \u001b[0mpydot\u001b[0m\u001b[0;34m.\u001b[0m\u001b[0mCluster\u001b[0m\u001b[0;34m(\u001b[0m\u001b[0mstyle\u001b[0m\u001b[0;34m=\u001b[0m\u001b[0;34m'dashed'\u001b[0m\u001b[0;34m,\u001b[0m \u001b[0mgraph_name\u001b[0m\u001b[0;34m=\u001b[0m\u001b[0mmodel\u001b[0m\u001b[0;34m.\u001b[0m\u001b[0mname\u001b[0m\u001b[0;34m)\u001b[0m\u001b[0;34m\u001b[0m\u001b[0;34m\u001b[0m\u001b[0m\n",
      "\u001b[0;32m~/anaconda3/envs/core-dev/lib/python3.7/site-packages/keras/utils/vis_utils.py\u001b[0m in \u001b[0;36m_check_pydot\u001b[0;34m()\u001b[0m\n\u001b[1;32m     20\u001b[0m     \u001b[0;32mif\u001b[0m \u001b[0mpydot\u001b[0m \u001b[0;32mis\u001b[0m \u001b[0;32mNone\u001b[0m\u001b[0;34m:\u001b[0m\u001b[0;34m\u001b[0m\u001b[0;34m\u001b[0m\u001b[0m\n\u001b[1;32m     21\u001b[0m         raise ImportError(\n\u001b[0;32m---> 22\u001b[0;31m             \u001b[0;34m'Failed to import `pydot`. '\u001b[0m\u001b[0;34m\u001b[0m\u001b[0;34m\u001b[0m\u001b[0m\n\u001b[0m\u001b[1;32m     23\u001b[0m             \u001b[0;34m'Please install `pydot`. '\u001b[0m\u001b[0;34m\u001b[0m\u001b[0;34m\u001b[0m\u001b[0m\n\u001b[1;32m     24\u001b[0m             'For example with `pip install pydot`.')\n",
      "\u001b[0;31mImportError\u001b[0m: Failed to import `pydot`. Please install `pydot`. For example with `pip install pydot`."
     ]
    }
   ],
   "source": [
    "from IPython.display import SVG\n",
    "from keras.utils.vis_utils import model_to_dot\n",
    "\n",
    "SVG(model_to_dot(bcnn_model.network).create(prog='dot', format='svg'))"
   ]
  },
  {
   "cell_type": "code",
   "execution_count": null,
   "metadata": {},
   "outputs": [],
   "source": [
    "strip = fdset.wells[0]._make_striplog()"
   ]
  },
  {
   "cell_type": "code",
   "execution_count": null,
   "metadata": {},
   "outputs": [],
   "source": [
    "import pandas as pd\n",
    "from io import StringIO\n",
    "\n",
    "pd.read_csv(StringIO(strip.to_csv()))"
   ]
  },
  {
   "cell_type": "code",
   "execution_count": null,
   "metadata": {},
   "outputs": [],
   "source": [
    "from striplog import Decor, Component, Legend\n",
    "\n",
    "###++++++++++++++++++++###\n",
    "### Facies Definitions ###\n",
    "###++++++++++++++++++++###\n",
    "\n",
    "facies = {\n",
    "    'nc': Component({'lithology': 'none', 'train':'n'}),\n",
    "    'bs': Component({'lithology': 'sandstone', 'train': 'n'}),\n",
    "    's': Component({'lithology': 'sandstone', 'train':'y'}),\n",
    "    'is': Component({'lithology': 'clay-prone sandstone', 'train':'y'}),\n",
    "    'ih': Component({'lithology': 'sandy mudstone', 'train':'y'}),\n",
    "    'sh': Component({'lithology': 'mudstone', 'train':'y'}),\n",
    "    't': Component({'lithology': 'turbidite', 'train':'y'}),\n",
    "}\n",
    "\n",
    "lithologies = [c.lithology for c in facies.values()]\n",
    "\n",
    "def lithology_to_key(lithology_str):\n",
    "    try:\n",
    "        litho = lithology_str.split(',')[0].lower()\n",
    "        idx = lithologies.index(litho)\n",
    "        return list(facies.keys())[idx]\n",
    "    except IndexError:\n",
    "        raise ValueError('{} is not present in lithologies: {}'.format(lithology_str, lithologies))"
   ]
  },
  {
   "cell_type": "code",
   "execution_count": null,
   "metadata": {},
   "outputs": [],
   "source": [
    "df = pd.read_csv(StringIO(strip.to_csv()))\n",
    "df.Component = df.Component.apply(lithology_to_key)\n",
    "df"
   ]
  },
  {
   "cell_type": "code",
   "execution_count": null,
   "metadata": {},
   "outputs": [],
   "source": [
    "df.columns = ['top', 'base', 'lithology']\n",
    "df.to_csv()"
   ]
  },
  {
   "cell_type": "code",
   "execution_count": null,
   "metadata": {},
   "outputs": [],
   "source": [
    "from coremdlr.datasets import strip_config"
   ]
  },
  {
   "cell_type": "code",
   "execution_count": null,
   "metadata": {},
   "outputs": [],
   "source": [
    "list(strip_config.values())[0].lithology"
   ]
  },
  {
   "cell_type": "code",
   "execution_count": null,
   "metadata": {},
   "outputs": [],
   "source": [
    "fdset.wells[0]._y.size"
   ]
  },
  {
   "cell_type": "code",
   "execution_count": null,
   "metadata": {},
   "outputs": [],
   "source": [
    "fdset.wells[0]._image.max()"
   ]
  },
  {
   "cell_type": "code",
   "execution_count": null,
   "metadata": {},
   "outputs": [],
   "source": [
    "fdset.wells[0].data_path"
   ]
  },
  {
   "cell_type": "code",
   "execution_count": null,
   "metadata": {},
   "outputs": [],
   "source": [
    "img = np.load('/home/administrator/Dropbox/core_data/facies/train_data/204-19-6_image.npy')\n",
    "img.min(), img.max()"
   ]
  },
  {
   "cell_type": "code",
   "execution_count": null,
   "metadata": {},
   "outputs": [],
   "source": [
    "a = np.random.rand(10,5)\n",
    "a"
   ]
  },
  {
   "cell_type": "code",
   "execution_count": null,
   "metadata": {},
   "outputs": [],
   "source": [
    "a[np.where(a > 0.5)]"
   ]
  },
  {
   "cell_type": "code",
   "execution_count": null,
   "metadata": {},
   "outputs": [],
   "source": [
    "fdset.X_train['pseudoGR'].shape"
   ]
  },
  {
   "cell_type": "code",
   "execution_count": null,
   "metadata": {},
   "outputs": [],
   "source": []
  }
 ],
 "metadata": {
  "kernelspec": {
   "display_name": "Python 3",
   "language": "python",
   "name": "python3"
  },
  "language_info": {
   "codemirror_mode": {
    "name": "ipython",
    "version": 3
   },
   "file_extension": ".py",
   "mimetype": "text/x-python",
   "name": "python",
   "nbconvert_exporter": "python",
   "pygments_lexer": "ipython3",
   "version": "3.7.6"
  }
 },
 "nbformat": 4,
 "nbformat_minor": 2
}
