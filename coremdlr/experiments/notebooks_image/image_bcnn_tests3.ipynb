{
 "cells": [
  {
   "cell_type": "code",
   "execution_count": 1,
   "metadata": {},
   "outputs": [
    {
     "name": "stderr",
     "output_type": "stream",
     "text": [
      "Using TensorFlow backend.\n"
     ]
    }
   ],
   "source": [
    "import numpy as np\n",
    "import pandas as pd\n",
    "from random import sample\n",
    "\n",
    "import hyperopt\n",
    "from hyperopt import hp, Trials\n",
    "from hyperopt.pyll.base import scope\n",
    "\n",
    "from sklearn.metrics import f1_score, log_loss, accuracy_score\n",
    "from sklearn.utils.class_weight import compute_sample_weight\n",
    "\n",
    "from tensorflow.keras.callbacks import ModelCheckpoint, EarlyStopping\n",
    "\n",
    "from coremdlr.models import NetworkModel\n",
    "from coremdlr.config import defaults\n",
    "\n",
    "from coremdlr.datasets import WellLoader, FaciesDataset\n",
    "from coremdlr.datasets.utils import infer_test_wells\n",
    "\n",
    "import matplotlib.pyplot as plt\n",
    "%matplotlib inline"
   ]
  },
  {
   "cell_type": "code",
   "execution_count": 2,
   "metadata": {},
   "outputs": [],
   "source": [
    "BCNN_SEARCH_SPACE = {\n",
    "    'feature' : 'image',\n",
    "    'network' : 'bilinear_cnn',\n",
    "    'summary' : False,\n",
    "    'sequence_size' : 32,\n",
    "    'network_args' : {\n",
    "        'backbone_cnn' : 'vgg16',\n",
    "        'conv1x1' : scope.int(hp.quniform('conv1x1', 16, 32, 4)),\n",
    "        'apply_rowwise' : True,\n",
    "        'lstm_features' : None,\n",
    "        'dropout_rate' : 0.5,\n",
    "    },\n",
    "    'optimizer_args' : {\n",
    "        'optimizer' : 'Adam',\n",
    "    }\n",
    "}\n",
    "\n",
    "IMAGE_ARGS = {\n",
    "    'image_width' : 200,\n",
    "    'crop_method' : 'center',\n",
    "}\n",
    "\n",
    "\n",
    "fit_args = {\n",
    "    'batch_size' : 4,\n",
    "    'epochs' : 20,\n",
    "    'class_weighted' : True\n",
    "}\n",
    "\n",
    "CHKPT_FNAME = 'temp_best_weights.h5'"
   ]
  },
  {
   "cell_type": "code",
   "execution_count": 3,
   "metadata": {},
   "outputs": [],
   "source": [
    "def run_experiment(num_train, max_evals=15, search_space=BCNN_SEARCH_SPACE):\n",
    "    \n",
    "    assert num_train in [3, 6, 9], 'Must use one of predefined train/test splits'\n",
    "    \n",
    "    train_sets = getattr(defaults, f'TRAIN_SETS_{num_train}')\n",
    "    \n",
    "    #datasets = [FaciesDataset(s, infer_test_wells(s), features=['image'],\n",
    "    #                          image_args=IMAGE_ARGS) for s in train_sets[:2]]\n",
    "    \n",
    "    #for dset in datasets:\n",
    "    #    dset.load_or_generate_data()\n",
    "    \n",
    "    def train_model(model_config):\n",
    "        \n",
    "        acc_scores, f1_scores, log_losses = [], [], []\n",
    "        \n",
    "        for i, train_set in enumerate(train_sets):\n",
    "            dset = FaciesDataset(train_set, infer_test_wells(train_set), features=['image'],\n",
    "                                image_args=IMAGE_ARGS)\n",
    "        \n",
    "            dset.load_or_generate_data()\n",
    "            \n",
    "            model = NetworkModel(dset, model_args=model_config)\n",
    "            \n",
    "            chkpt_callback = ModelCheckpoint(CHKPT_FNAME, monitor='val_loss', verbose=1,\n",
    "                                        save_best_only=True, \n",
    "                                        save_weights_only=True)\n",
    "            earlystop_callback = EarlyStopping(monitor='val_loss', patience=3)\n",
    "            fit_args['callbacks'] = [chkpt_callback, earlystop_callback]\n",
    "            \n",
    "            print(f'Training with config: {model_config}')\n",
    "            \n",
    "            model.fit(dset, **fit_args)\n",
    "            \n",
    "            model.network.load_weights(CHKPT_FNAME)\n",
    "            \n",
    "            y_proba = model.predict_proba(dset.X_test)\n",
    "            y_pred = np.argmax(y_proba, -1)\n",
    "            \n",
    "            acc_scores.append(accuracy_score(dset.y_test, y_pred))\n",
    "            \n",
    "            f1_scores.append(f1_score(dset.y_test, y_pred, average='macro'))\n",
    "            \n",
    "            log_losses.append(log_loss(dset.y_test, y_proba, \n",
    "                                      sample_weight=compute_sample_weight('balanced', dset.y_test)))\n",
    "            \n",
    "        return {'loss' : np.mean(log_losses),\n",
    "                'acc_scores' : acc_scores,\n",
    "                'f1_scores' : f1_scores,\n",
    "                'log_losses' : log_losses,\n",
    "                'status' : hyperopt.STATUS_OK}\n",
    "    \n",
    "    \n",
    "    trials = Trials()\n",
    "    \n",
    "    best_params = hyperopt.fmin(\n",
    "        fn=train_model,\n",
    "        space=BCNN_SEARCH_SPACE,\n",
    "        algo=hyperopt.rand.suggest,\n",
    "        max_evals=max_evals,\n",
    "        trials=trials\n",
    "    )\n",
    "    \n",
    "    return trials, best_params"
   ]
  },
  {
   "cell_type": "code",
   "execution_count": null,
   "metadata": {
    "scrolled": false
   },
   "outputs": [
    {
     "name": "stdout",
     "output_type": "stream",
     "text": [
      "Loading Well:                                      \n",
      "204-24a-7                                          \n",
      " from                                              \n",
      "/home/ross/Dropbox/core_data/facies/train_data     \n",
      "Feature shapes:                                    \n",
      "[('depth', (19294,)), ('top', (19294,)), ('base', (19294,)), ('image', (19294, 32, 200, 3))]\n",
      "Loading Well:                                      \n",
      "204-24a-6                                          \n",
      " from                                              \n",
      "/home/ross/Dropbox/core_data/facies/train_data     \n",
      "Feature shapes:                                    \n",
      "[('depth', (13006,)), ('top', (13006,)), ('base', (13006,)), ('image', (13006, 32, 200, 3))]\n",
      "Loading Well:                                      \n",
      "204-20-3                                           \n",
      " from                                              \n",
      "/home/ross/Dropbox/core_data/facies/train_data     \n",
      "Feature shapes:                                    \n",
      "[('depth', (10906,)), ('top', (10906,)), ('base', (10906,)), ('image', (10906, 32, 200, 3))]\n",
      "  0%|          | 0/3 [00:19<?, ?it/s, best loss: ?]"
     ]
    },
    {
     "name": "stderr",
     "output_type": "stream",
     "text": [
      "/home/ross/anaconda3/envs/core-dev/lib/python3.7/site-packages/sklearn/preprocessing/_function_transformer.py:97: FutureWarning: The default validate=True will be replaced by validate=False in 0.22.\n",
      "  \"validate=False in 0.22.\", FutureWarning)\n",
      "\n"
     ]
    },
    {
     "name": "stdout",
     "output_type": "stream",
     "text": [
      "Loading Well:                                      \n",
      "204-19-7                                           \n",
      " from                                              \n",
      "/home/ross/Dropbox/core_data/facies/train_data     \n",
      "Feature shapes:                                    \n",
      "[('depth', (9807,)), ('top', (9807,)), ('base', (9807,)), ('image', (9807, 32, 200, 3))]\n",
      "Loading Well:                                      \n",
      "205-21b-3                                          \n",
      " from                                              \n",
      "/home/ross/Dropbox/core_data/facies/train_data     \n",
      "Feature shapes:                                    \n",
      "[('depth', (3842,)), ('top', (3842,)), ('base', (3842,)), ('image', (3842, 32, 200, 3))]\n",
      "Loading Well:                                      \n",
      "204-20a-7                                          \n",
      " from                                              \n",
      "/home/ross/Dropbox/core_data/facies/train_data     \n",
      "Feature shapes:                                    \n",
      "[('depth', (3105,)), ('top', (3105,)), ('base', (3105,)), ('image', (3105, 32, 200, 3))]\n",
      "Loading Well:                                      \n",
      "204-20-1                                           \n",
      " from                                              \n",
      "/home/ross/Dropbox/core_data/facies/train_data     \n",
      "Feature shapes:                                    \n",
      "[('depth', (11210,)), ('top', (11210,)), ('base', (11210,)), ('image', (11210, 32, 200, 3))]\n",
      "Loading Well:                                      \n",
      "204-20-6a                                          \n",
      " from                                              \n",
      "/home/ross/Dropbox/core_data/facies/train_data     \n",
      "Feature shapes:                                    \n",
      "[('depth', (3542,)), ('top', (3542,)), ('base', (3542,)), ('image', (3542, 32, 200, 3))]\n",
      "Loading Well:                                      \n",
      "204-19-3A                                          \n",
      " from                                              \n",
      "/home/ross/Dropbox/core_data/facies/train_data     \n",
      "Feature shapes:                                    \n",
      "[('depth', (9590,)), ('top', (9590,)), ('base', (9590,)), ('image', (9590, 32, 200, 3))]\n",
      "Loading Well:                                      \n",
      "204-19-6                                           \n",
      " from                                              \n",
      "/home/ross/Dropbox/core_data/facies/train_data     \n",
      "Feature shapes:                                    \n",
      "[('depth', (1884,)), ('top', (1884,)), ('base', (1884,)), ('image', (1884, 32, 200, 3))]\n",
      "Loading Well:                                      \n",
      "204-20-1Z                                          \n",
      " from                                              \n",
      "/home/ross/Dropbox/core_data/facies/train_data     \n",
      "Feature shapes:                                    \n",
      "[('depth', (1917,)), ('top', (1917,)), ('base', (1917,)), ('image', (1917, 32, 200, 3))]\n",
      "Loading Well:                                      \n",
      "204-20-2                                           \n",
      " from                                              \n",
      "/home/ross/Dropbox/core_data/facies/train_data     \n",
      "Feature shapes:                                    \n",
      "[('depth', (2940,)), ('top', (2940,)), ('base', (2940,)), ('image', (2940, 32, 200, 3))]\n",
      "  0%|          | 0/3 [01:03<?, ?it/s, best loss: ?]"
     ]
    },
    {
     "name": "stderr",
     "output_type": "stream",
     "text": [
      "/home/ross/anaconda3/envs/core-dev/lib/python3.7/site-packages/sklearn/preprocessing/_function_transformer.py:97: FutureWarning: The default validate=True will be replaced by validate=False in 0.22.\n",
      "  \"validate=False in 0.22.\", FutureWarning)\n",
      "\n",
      "WARNING: Logging before flag parsing goes to stderr.\n",
      "\n",
      "W0718 15:21:31.241253 140291958511424 deprecation.py:506] From /home/ross/anaconda3/envs/core-dev/lib/python3.7/site-packages/tensorflow/python/ops/init_ops.py:1251: calling VarianceScaling.__init__ (from tensorflow.python.ops.init_ops) with dtype is deprecated and will be removed in a future version.\n",
      "Instructions for updating:\n",
      "Call initializer instance with the dtype argument instead of passing it to the constructor\n",
      "\n"
     ]
    },
    {
     "name": "stdout",
     "output_type": "stream",
     "text": [
      "Training with config: {'feature': 'image', 'network': 'bilinear_cnn', 'network_args': {'apply_rowwise': True, 'backbone_cnn': 'vgg16', 'conv1x1': 20, 'dropout_rate': 0.5, 'lstm_features': None}, 'optimizer_args': {}, 'sequence_size': 32, 'summary': False}\n",
      "Shapes of `(batch_X, batch_y)`: (4, 1024, 200, 3), (4, 32, 5)\n",
      "Epoch 1/20                                         \n",
      "  0%|          | 0/3 [01:44<?, ?it/s, best loss: ?]"
     ]
    }
   ],
   "source": [
    "trails3, best_params3 = run_experiment(3, max_evals=3)"
   ]
  },
  {
   "cell_type": "code",
   "execution_count": null,
   "metadata": {},
   "outputs": [],
   "source": [
    "trails3.results"
   ]
  },
  {
   "cell_type": "code",
   "execution_count": null,
   "metadata": {},
   "outputs": [],
   "source": [
    "best_params3"
   ]
  },
  {
   "cell_type": "code",
   "execution_count": null,
   "metadata": {},
   "outputs": [],
   "source": [
    "trails3.best_trial"
   ]
  },
  {
   "cell_type": "code",
   "execution_count": null,
   "metadata": {},
   "outputs": [],
   "source": [
    "def pred_results_df(num_train, model_config):\n",
    "    \n",
    "    assert num_train in [3, 6, 9], 'Must use one of predefined train/test splits'\n",
    "    \n",
    "    train_sets = getattr(defaults, f'TRAIN_SETS_{num_train}')\n",
    "    \n",
    "    pred_dfs = []\n",
    "    \n",
    "    for i, train_set in enumerate(train_sets):\n",
    "        dset = FaciesDataset(train_set, infer_test_wells(train_set), features=['pseudoGR'], \n",
    "                             pseudoGR_args={'features' : ['mean', 'var'], 'per_channel' : True})\n",
    "        \n",
    "        dset.load_or_generate_data()\n",
    "        \n",
    "        model = NetworkModel(dset, model_args=model_config)\n",
    "        \n",
    "        chkpt_callback = ModelCheckpoint(CHKPT_FNAME, monitor='val_loss', verbose=1,\n",
    "                                        save_best_only=True, \n",
    "                                        save_weights_only=True)\n",
    "        \n",
    "        model.fit(dset, callbacks=[chkpt_callback], verbose=False, **fit_args)\n",
    "        \n",
    "        model.network.load_weights(CHKPT_FNAME)\n",
    "        \n",
    "        #print('predict_proba: ', model.predict_proba(dset.X_test))\n",
    "        \n",
    "        for test_well_name in dset.test_well_names:\n",
    "            df = model.preds_dataframe(test_well_name)\n",
    "            df['well'] = test_well_name\n",
    "            df['set_number'] = i\n",
    "            pred_dfs.append(df)\n",
    "        \n",
    "    return pd.concat(pred_dfs)"
   ]
  },
  {
   "cell_type": "code",
   "execution_count": null,
   "metadata": {},
   "outputs": [],
   "source": [
    "params = {\n",
    "    'feature' : 'pseudoGR',\n",
    "    'network' : 'wavenet',\n",
    "    'summary' : False,\n",
    "    'sequence_size' : 128,\n",
    "    'network_args' : {\n",
    "        'num_blocks' : 8,\n",
    "        'block_filters' : 208,\n",
    "        'residual_filters' : 40,\n",
    "        'output_resolution' : 32,\n",
    "        'dropout_rate' : 0.5,\n",
    "    },\n",
    "    'optimizer_args' : {\n",
    "        'optimizer' : 'Adam'\n",
    "    }\n",
    "}\n",
    "\n",
    "preds_df_3 = pred_results_df(3, params)\n",
    "preds_df_3.to_csv('pgr_wavenet_results_train_sets3.csv')"
   ]
  },
  {
   "cell_type": "code",
   "execution_count": null,
   "metadata": {},
   "outputs": [],
   "source": [
    "accuracy_score(preds_df_3.y_pred.values, preds_df_3.y_true.values)"
   ]
  },
  {
   "cell_type": "code",
   "execution_count": null,
   "metadata": {},
   "outputs": [],
   "source": []
  }
 ],
 "metadata": {
  "kernelspec": {
   "display_name": "Python 3",
   "language": "python",
   "name": "python3"
  },
  "language_info": {
   "codemirror_mode": {
    "name": "ipython",
    "version": 3
   },
   "file_extension": ".py",
   "mimetype": "text/x-python",
   "name": "python",
   "nbconvert_exporter": "python",
   "pygments_lexer": "ipython3",
   "version": "3.7.3"
  }
 },
 "nbformat": 4,
 "nbformat_minor": 2
}
