{
 "cells": [
  {
   "cell_type": "code",
   "execution_count": 1,
   "metadata": {},
   "outputs": [
    {
     "name": "stderr",
     "output_type": "stream",
     "text": [
      "Using TensorFlow backend.\n"
     ]
    }
   ],
   "source": [
    "import numpy as np\n",
    "from collections import deque\n",
    "from sklearn.metrics import confusion_matrix\n",
    "from tensorflow.keras.callbacks import ModelCheckpoint\n",
    "\n",
    "from corebreakout.facies.viz import model_plots, CorePlotter\n",
    "from corebreakout.facies.models import NetworkModel\n",
    "from corebreakout.facies.datasets import FaciesDataset\n",
    "\n",
    "import os\n",
    "os.environ[\"CUDA_DEVICE_ORDER\"]=\"PCI_BUS_ID\"\n",
    "os.environ[\"CUDA_VISIBLE_DEVICES\"]=\"1\"\n",
    "\n",
    "import matplotlib.pyplot as plt\n",
    "%matplotlib inline"
   ]
  },
  {
   "cell_type": "code",
   "execution_count": 2,
   "metadata": {},
   "outputs": [],
   "source": [
    "wavenet_model_args = {\n",
    "    'feature' : 'pseudoGR',\n",
    "    'network' : 'wavenet',\n",
    "    'summary' : False,\n",
    "    'sequence_size' : 128,\n",
    "    'network_args' : {\n",
    "        'num_blocks' : 20,\n",
    "        'block_filters' : 128,\n",
    "        'residual_filters' : 64,\n",
    "        'output_resolution' : 32,\n",
    "        'dropout_rate' : 0.5,\n",
    "    },\n",
    "    'optimizer_args' : {\n",
    "        'optimizer' : 'Adam',\n",
    "    },\n",
    "    'loss' : {'categorical_crossentropy': 0.25,\n",
    "              'ordinal_squared_error': 0.75}\n",
    "}\n",
    "\n",
    "CHKPT_FNAME = 'temp_best_weights.h5'\n",
    "\n",
    "wavenet_fit_args = {\n",
    "    'batch_size' : 16,\n",
    "    'epochs' : 15,\n",
    "    'class_weighted' : True\n",
    "}\n",
    "\n",
    "well_names = [\"205-21b-3\", \"204-20-6a\",\"204-20-1Z\", \"204-24a-6\", \"204-19-6\"]\n",
    "names_deq = deque(well_names)"
   ]
  },
  {
   "cell_type": "code",
   "execution_count": null,
   "metadata": {
    "scrolled": false
   },
   "outputs": [
    {
     "name": "stdout",
     "output_type": "stream",
     "text": [
      "Loading Well:  205-21b-3  from  /home/administrator/Dropbox/core_data/facies/train_data\n"
     ]
    }
   ],
   "source": [
    "results = {}\n",
    "\n",
    "\n",
    "for i in range(len(names_deq)):\n",
    "    \n",
    "    # Set up dataset, rotate well_names\n",
    "    fdset = FaciesDataset(list(names_deq)[:-1], test_wells=[names_deq[-1]],\n",
    "                        features=[\"pseudoGR\", \"logs\"],\n",
    "                        label_resolution=32)\n",
    "    \n",
    "    names_deq.rotate()\n",
    "    \n",
    "    fdset.load_or_generate_data()\n",
    "    \n",
    "    \n",
    "    # Build and train and re-load weights\n",
    "    wnet_model = NetworkModel(fdset, model_args=wavenet_model_args)\n",
    "    \n",
    "    \n",
    "    chkpt_callback = ModelCheckpoint(CHKPT_FNAME, monitor='val_loss', verbose=1,\n",
    "                                    save_best_only=True, \n",
    "                                    save_weights_only=True)\n",
    "    \n",
    "    wavenet_fit_args['callbacks'] = [chkpt_callback]\n",
    "    \n",
    "    wnet_model.fit(fdset, **wavenet_fit_args)\n",
    "    \n",
    "    wnet_model.network.load_weights(CHKPT_FNAME)\n",
    "    \n",
    "    os.remove(CHKPT_FNAME)\n",
    "    \n",
    "    \n",
    "    # Get test results\n",
    "    test_well = fdset.test_well_names[0]\n",
    "    \n",
    "    results[test_well] = wnet_model.preds_dataframe(test_well, logs=['GR', 'RDEP', 'PEF', 'SP'])"
   ]
  },
  {
   "cell_type": "code",
   "execution_count": null,
   "metadata": {},
   "outputs": [],
   "source": [
    "import pandas as pd\n",
    "\n",
    "dfs = []\n",
    "for well_name, results_df in results.items():\n",
    "    results_df['well_name'] = well_name\n",
    "    dfs.append(results_df)\n",
    "    \n",
    "df = pd.concat(dfs, ignore_index=True)\n",
    "df"
   ]
  },
  {
   "cell_type": "code",
   "execution_count": null,
   "metadata": {},
   "outputs": [],
   "source": [
    "df.to_csv('cross_test_wavenet.csv', index=False)"
   ]
  },
  {
   "cell_type": "code",
   "execution_count": null,
   "metadata": {},
   "outputs": [],
   "source": [
    "axes = df.regression.hist(by=df.y_true, figsize=(15,15), alpha=0.4)\n",
    "print(axes)\n",
    "\n",
    "for i, ax in enumerate(axes.flat):\n",
    "    df.regression[df.y_pred==i].hist(ax=ax, color='blue', alpha=0.4)"
   ]
  },
  {
   "cell_type": "code",
   "execution_count": null,
   "metadata": {},
   "outputs": [],
   "source": [
    "axes = df.y_true.hist(by=df.well_name, figsize=(15,15), alpha=0.4)\n",
    "\n",
    "well_names = [\"204-19-6\", \"204-20-1Z\", \"204-20-6a\", \"204-24a-6\", \"205-21b-3\"]\n",
    "\n",
    "for i, (ax, name) in enumerate(zip(axes.flat, well_names)):\n",
    "    print(name)\n",
    "    df.y_pred[df.well_name==name].hist(ax=ax, color='blue', alpha=0.4)"
   ]
  },
  {
   "cell_type": "code",
   "execution_count": null,
   "metadata": {},
   "outputs": [],
   "source": [
    "fdset.well_names"
   ]
  },
  {
   "cell_type": "code",
   "execution_count": null,
   "metadata": {},
   "outputs": [],
   "source": [
    "fdset.test_well_names"
   ]
  },
  {
   "cell_type": "code",
   "execution_count": null,
   "metadata": {
    "scrolled": false
   },
   "outputs": [],
   "source": [
    "#import importlib\n",
    "#import corebreakout.facies.viz\n",
    "#importlib.reload(corebreakout.facies.viz)\n",
    "#from corebreakout.facies.viz import CorePlotter\n",
    "\n",
    "for well in well_names:\n",
    "    \n",
    "    cplotter = CorePlotter(figsize=(40, 650))\n",
    "    \n",
    "    well_loader = fdset.get_well(well)\n",
    "    \n",
    "    cplotter.plot_image(well_loader._image / 255., well_loader._depth)\n",
    "    \n",
    "    cplotter.plot_log(well_loader._depth, np.nan_to_num(well_loader._pseudoGR), fmt='--', color='blue')\n",
    "    \n",
    "    cplotter.plot_strip(well_loader.make_striplog())\n",
    "    \n",
    "    cplotter.plot_strip(well_loader.make_striplog(labels=df.y_pred[df.well_name == well].values))\n",
    "    \n",
    "    cplotter.fig.savefig(well+'_pGR_labels_preds.pdf')"
   ]
  },
  {
   "cell_type": "code",
   "execution_count": null,
   "metadata": {},
   "outputs": [],
   "source": [
    "strip = well_loader.make_striplog()"
   ]
  },
  {
   "cell_type": "code",
   "execution_count": null,
   "metadata": {},
   "outputs": [],
   "source": [
    "strip[-1]"
   ]
  },
  {
   "cell_type": "code",
   "execution_count": null,
   "metadata": {},
   "outputs": [],
   "source": [
    "strip[0]"
   ]
  },
  {
   "cell_type": "code",
   "execution_count": null,
   "metadata": {},
   "outputs": [],
   "source": [
    "well_loader._depth[0]"
   ]
  },
  {
   "cell_type": "code",
   "execution_count": null,
   "metadata": {},
   "outputs": [],
   "source": []
  }
 ],
 "metadata": {
  "kernelspec": {
   "display_name": "Python 3",
   "language": "python",
   "name": "python3"
  },
  "language_info": {
   "codemirror_mode": {
    "name": "ipython",
    "version": 3
   },
   "file_extension": ".py",
   "mimetype": "text/x-python",
   "name": "python",
   "nbconvert_exporter": "python",
   "pygments_lexer": "ipython3",
   "version": "3.6.5"
  }
 },
 "nbformat": 4,
 "nbformat_minor": 2
}
