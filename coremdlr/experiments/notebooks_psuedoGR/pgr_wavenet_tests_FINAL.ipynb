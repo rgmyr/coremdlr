{
 "cells": [
  {
   "cell_type": "code",
   "execution_count": 1,
   "metadata": {},
   "outputs": [
    {
     "name": "stderr",
     "output_type": "stream",
     "text": [
      "/home/ross/anaconda3/envs/core-dev/lib/python3.7/site-packages/tensorflow/python/framework/dtypes.py:516: FutureWarning: Passing (type, 1) or '1type' as a synonym of type is deprecated; in a future version of numpy, it will be understood as (type, (1,)) / '(1,)type'.\n",
      "  _np_qint8 = np.dtype([(\"qint8\", np.int8, 1)])\n",
      "/home/ross/anaconda3/envs/core-dev/lib/python3.7/site-packages/tensorflow/python/framework/dtypes.py:517: FutureWarning: Passing (type, 1) or '1type' as a synonym of type is deprecated; in a future version of numpy, it will be understood as (type, (1,)) / '(1,)type'.\n",
      "  _np_quint8 = np.dtype([(\"quint8\", np.uint8, 1)])\n",
      "/home/ross/anaconda3/envs/core-dev/lib/python3.7/site-packages/tensorflow/python/framework/dtypes.py:518: FutureWarning: Passing (type, 1) or '1type' as a synonym of type is deprecated; in a future version of numpy, it will be understood as (type, (1,)) / '(1,)type'.\n",
      "  _np_qint16 = np.dtype([(\"qint16\", np.int16, 1)])\n",
      "/home/ross/anaconda3/envs/core-dev/lib/python3.7/site-packages/tensorflow/python/framework/dtypes.py:519: FutureWarning: Passing (type, 1) or '1type' as a synonym of type is deprecated; in a future version of numpy, it will be understood as (type, (1,)) / '(1,)type'.\n",
      "  _np_quint16 = np.dtype([(\"quint16\", np.uint16, 1)])\n",
      "/home/ross/anaconda3/envs/core-dev/lib/python3.7/site-packages/tensorflow/python/framework/dtypes.py:520: FutureWarning: Passing (type, 1) or '1type' as a synonym of type is deprecated; in a future version of numpy, it will be understood as (type, (1,)) / '(1,)type'.\n",
      "  _np_qint32 = np.dtype([(\"qint32\", np.int32, 1)])\n",
      "/home/ross/anaconda3/envs/core-dev/lib/python3.7/site-packages/tensorflow/python/framework/dtypes.py:525: FutureWarning: Passing (type, 1) or '1type' as a synonym of type is deprecated; in a future version of numpy, it will be understood as (type, (1,)) / '(1,)type'.\n",
      "  np_resource = np.dtype([(\"resource\", np.ubyte, 1)])\n",
      "/home/ross/anaconda3/envs/core-dev/lib/python3.7/site-packages/tensorboard/compat/tensorflow_stub/dtypes.py:541: FutureWarning: Passing (type, 1) or '1type' as a synonym of type is deprecated; in a future version of numpy, it will be understood as (type, (1,)) / '(1,)type'.\n",
      "  _np_qint8 = np.dtype([(\"qint8\", np.int8, 1)])\n",
      "/home/ross/anaconda3/envs/core-dev/lib/python3.7/site-packages/tensorboard/compat/tensorflow_stub/dtypes.py:542: FutureWarning: Passing (type, 1) or '1type' as a synonym of type is deprecated; in a future version of numpy, it will be understood as (type, (1,)) / '(1,)type'.\n",
      "  _np_quint8 = np.dtype([(\"quint8\", np.uint8, 1)])\n",
      "/home/ross/anaconda3/envs/core-dev/lib/python3.7/site-packages/tensorboard/compat/tensorflow_stub/dtypes.py:543: FutureWarning: Passing (type, 1) or '1type' as a synonym of type is deprecated; in a future version of numpy, it will be understood as (type, (1,)) / '(1,)type'.\n",
      "  _np_qint16 = np.dtype([(\"qint16\", np.int16, 1)])\n",
      "/home/ross/anaconda3/envs/core-dev/lib/python3.7/site-packages/tensorboard/compat/tensorflow_stub/dtypes.py:544: FutureWarning: Passing (type, 1) or '1type' as a synonym of type is deprecated; in a future version of numpy, it will be understood as (type, (1,)) / '(1,)type'.\n",
      "  _np_quint16 = np.dtype([(\"quint16\", np.uint16, 1)])\n",
      "/home/ross/anaconda3/envs/core-dev/lib/python3.7/site-packages/tensorboard/compat/tensorflow_stub/dtypes.py:545: FutureWarning: Passing (type, 1) or '1type' as a synonym of type is deprecated; in a future version of numpy, it will be understood as (type, (1,)) / '(1,)type'.\n",
      "  _np_qint32 = np.dtype([(\"qint32\", np.int32, 1)])\n",
      "/home/ross/anaconda3/envs/core-dev/lib/python3.7/site-packages/tensorboard/compat/tensorflow_stub/dtypes.py:550: FutureWarning: Passing (type, 1) or '1type' as a synonym of type is deprecated; in a future version of numpy, it will be understood as (type, (1,)) / '(1,)type'.\n",
      "  np_resource = np.dtype([(\"resource\", np.ubyte, 1)])\n",
      "Using TensorFlow backend.\n"
     ]
    }
   ],
   "source": [
    "import gc\n",
    "\n",
    "import numpy as np\n",
    "import pandas as pd\n",
    "from random import sample\n",
    "\n",
    "import hyperopt\n",
    "from hyperopt import hp, Trials\n",
    "from hyperopt.pyll.base import scope\n",
    "\n",
    "from sklearn.metrics import f1_score, log_loss, accuracy_score\n",
    "from sklearn.utils.class_weight import compute_sample_weight\n",
    "\n",
    "from tensorflow.keras.callbacks import ModelCheckpoint, EarlyStopping\n",
    "\n",
    "from coremdlr.models import NetworkModel\n",
    "from coremdlr.config import defaults\n",
    "\n",
    "from coremdlr.datasets import WellLoader, FaciesDataset\n",
    "from coremdlr.datasets.utils import infer_test_wells\n",
    "\n",
    "import matplotlib.pyplot as plt\n",
    "%matplotlib inline"
   ]
  },
  {
   "cell_type": "code",
   "execution_count": 2,
   "metadata": {},
   "outputs": [],
   "source": [
    "WAVENET_SEARCH_SPACE = {\n",
    "    'feature' : 'pseudoGR',\n",
    "    'network' : 'wavenet',\n",
    "    'summary' : False,\n",
    "    'sequence_size' : 128,\n",
    "    'network_args' : {\n",
    "        'num_blocks' : scope.int(hp.quniform('num_blocks', 2, 20, 2)),\n",
    "        'block_filters' : scope.int(hp.quniform('block_filters', 16, 256, 16)),\n",
    "        'residual_filters' : scope.int(hp.quniform('residual_filters', 8, 128, 8)),\n",
    "        'output_resolution' : 32,\n",
    "        'dropout_rate' : 0.5,\n",
    "    },\n",
    "    'optimizer_args' : {\n",
    "        'optimizer' : 'Adam',\n",
    "    },\n",
    "    'loss' : {'categorical_crossentropy': hp.uniform('cat_loss', 0.1, 1.0),\n",
    "              'ordinal_squared_error': hp.uniform('ord_loss', 0.1, 1.0)}\n",
    "}\n",
    "\n",
    "\n",
    "fit_args = {\n",
    "    'batch_size' : 16,\n",
    "    'epochs' : 25,\n",
    "    'class_weighted' : True\n",
    "}\n",
    "CHKPT_FNAME = 'temp_best_weights.h5'\n",
    "\n",
    "\n",
    "def make_params_usable(params):\n",
    "    \"\"\"\n",
    "    Convert params returned by hyperopt to usable `model_args`\n",
    "    \"\"\"\n",
    "    p = {**WAVENET_SEARCH_SPACE, **params}\n",
    "    p['network_args']['num_blocks'] = int(params['network_args']['num_blocks'])\n",
    "    p['network_args']['block_filters'] = int(params['network_args']['block_filters'])\n",
    "    p['network_args']['residual_filters'] = int(params['network_args']['residual_filters'])\n",
    "    return p"
   ]
  },
  {
   "cell_type": "code",
   "execution_count": 3,
   "metadata": {},
   "outputs": [],
   "source": [
    "def pred_results_df(num_train, model_config):\n",
    "    \n",
    "    gc.collect()\n",
    "    \n",
    "    assert num_train in [3, 6, 9], 'Must use one of predefined train/test splits'\n",
    "    \n",
    "    train_sets = getattr(defaults, f'TRAIN_SETS_{num_train}')\n",
    "    \n",
    "    pred_dfs = []\n",
    "    \n",
    "    for i, train_set in enumerate(train_sets):\n",
    "        gc.collect()\n",
    "        \n",
    "        dset = FaciesDataset(train_set, infer_test_wells(train_set), features=['pseudoGR'], \n",
    "                             pseudoGR_args={'features' : ['mean', 'var'], 'per_channel' : True})\n",
    "        \n",
    "        dset.load_or_generate_data()\n",
    "        \n",
    "        model = NetworkModel(dset, model_args=model_config)\n",
    "        \n",
    "        chkpt_callback = ModelCheckpoint(CHKPT_FNAME, monitor='val_acc', verbose=1,\n",
    "                                        save_best_only=True, \n",
    "                                        save_weights_only=True)\n",
    "        earlystop_callback = EarlyStopping(monitor='val_acc', patience=6)\n",
    "        fit_args['callbacks'] = [chkpt_callback, earlystop_callback]\n",
    "        \n",
    "        model.fit(dset, verbose=False, **fit_args)\n",
    "        \n",
    "        model.network.load_weights(CHKPT_FNAME)\n",
    "        \n",
    "        #print('predict_proba: ', model.predict_proba(dset.X_test))\n",
    "        \n",
    "        for test_well_name in dset.test_well_names:\n",
    "            df = model.preds_dataframe(test_well_name)\n",
    "            df['well'] = test_well_name\n",
    "            df['set_number'] = i\n",
    "            pred_dfs.append(df)\n",
    "        \n",
    "        del dset; del model;\n",
    "        \n",
    "    return pd.concat(pred_dfs)"
   ]
  },
  {
   "cell_type": "code",
   "execution_count": 4,
   "metadata": {},
   "outputs": [],
   "source": [
    "params = {\n",
    "    'feature' : 'pseudoGR',\n",
    "    'network' : 'wavenet',\n",
    "    'summary' : False,\n",
    "    'sequence_size' : 128,\n",
    "    'network_args' : {\n",
    "        'num_blocks' : 18,\n",
    "        'block_filters' : 128,\n",
    "        'residual_filters' : 32,\n",
    "        'output_resolution' : 32,\n",
    "        'dropout_rate' : 0.5,\n",
    "    },\n",
    "    'optimizer_args' : {\n",
    "        'optimizer' : 'Adam'\n",
    "    },\n",
    "    'loss' : {'categorical_crossentropy': 0.360198,\n",
    "              'ordinal_squared_error': 0.42455}\n",
    "}"
   ]
  },
  {
   "cell_type": "code",
   "execution_count": null,
   "metadata": {},
   "outputs": [
    {
     "name": "stdout",
     "output_type": "stream",
     "text": [
      "[b'nc', b'bs', b's', b'is', b'ih', b'os', b'sh']\n",
      "Loading Well:  204-24a-7  from  /home/ross/Dropbox/core_data/facies/train_data\n"
     ]
    }
   ],
   "source": [
    "preds_df_3 = pred_results_df(3, params)\n",
    "preds_df_3.to_csv('pgr_wavenet_results_train_sets3_FINAL.csv')"
   ]
  },
  {
   "cell_type": "code",
   "execution_count": null,
   "metadata": {},
   "outputs": [],
   "source": [
    "accuracy_score(preds_df_3.y_pred.values, preds_df_3.y_true.values)"
   ]
  },
  {
   "cell_type": "code",
   "execution_count": null,
   "metadata": {},
   "outputs": [],
   "source": [
    "preds_df_6 = pred_results_df(6, params)\n",
    "preds_df_6.to_csv('pgr_wavenet_results_train_sets6_FINAL.csv')"
   ]
  },
  {
   "cell_type": "code",
   "execution_count": null,
   "metadata": {},
   "outputs": [],
   "source": [
    "# OLD: 0.6180105781344521\n",
    "accuracy_score(preds_df_6.y_pred.values, preds_df_6.y_true.values)"
   ]
  },
  {
   "cell_type": "code",
   "execution_count": null,
   "metadata": {},
   "outputs": [],
   "source": [
    "preds_df_9 = pred_results_df(9, params)\n",
    "preds_df_9.to_csv('pgr_wavenet_results_train_sets9_FINAL.csv')"
   ]
  },
  {
   "cell_type": "code",
   "execution_count": null,
   "metadata": {},
   "outputs": [],
   "source": [
    "accuracy_score(preds_df_9.y_pred.values, preds_df_9.y_true.values)"
   ]
  },
  {
   "cell_type": "code",
   "execution_count": null,
   "metadata": {},
   "outputs": [],
   "source": []
  }
 ],
 "metadata": {
  "kernelspec": {
   "display_name": "Python 3",
   "language": "python",
   "name": "python3"
  },
  "language_info": {
   "codemirror_mode": {
    "name": "ipython",
    "version": 3
   },
   "file_extension": ".py",
   "mimetype": "text/x-python",
   "name": "python",
   "nbconvert_exporter": "python",
   "pygments_lexer": "ipython3",
   "version": "3.7.6"
  }
 },
 "nbformat": 4,
 "nbformat_minor": 2
}
