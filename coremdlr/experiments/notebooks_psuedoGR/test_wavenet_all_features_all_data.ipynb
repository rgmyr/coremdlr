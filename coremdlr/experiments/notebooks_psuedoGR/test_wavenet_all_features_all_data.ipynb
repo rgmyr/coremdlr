{
 "cells": [
  {
   "cell_type": "code",
   "execution_count": 1,
   "metadata": {},
   "outputs": [
    {
     "name": "stderr",
     "output_type": "stream",
     "text": [
      "Using TensorFlow backend.\n"
     ]
    }
   ],
   "source": [
    "import numpy as np\n",
    "from collections import deque\n",
    "from sklearn.metrics import confusion_matrix\n",
    "from tensorflow.keras.callbacks import ModelCheckpoint\n",
    "\n",
    "from coremdlr.viz import model_plots, CorePlotter\n",
    "from coremdlr.models import NetworkModel\n",
    "from coremdlr.datasets import FaciesDataset\n",
    "from coremdlr.config.defaults import WELL_NAMES\n",
    "\n",
    "import os\n",
    "os.environ[\"CUDA_DEVICE_ORDER\"]=\"PCI_BUS_ID\"\n",
    "os.environ[\"CUDA_VISIBLE_DEVICES\"]=\"1\"\n",
    "\n",
    "import matplotlib.pyplot as plt\n",
    "%matplotlib inline"
   ]
  },
  {
   "cell_type": "code",
   "execution_count": 2,
   "metadata": {},
   "outputs": [],
   "source": [
    "wavenet_model_args = {\n",
    "    'feature' : 'pseudoGR',\n",
    "    'network' : 'wavenet',\n",
    "    'summary' : False,\n",
    "    'sequence_size' : 128,\n",
    "    'network_args' : {\n",
    "        'num_blocks' : 20,\n",
    "        'block_filters' : 128,\n",
    "        'residual_filters' : 64,\n",
    "        'output_resolution' : 32,\n",
    "        'dropout_rate' : 0.5,\n",
    "    },\n",
    "    'optimizer_args' : {\n",
    "        'optimizer' : 'Adam',\n",
    "    },\n",
    "    'loss' : {'categorical_crossentropy': 0.5,\n",
    "              'ordinal_squared_error': 0.5}\n",
    "}\n",
    "\n",
    "CHKPT_FNAME = 'temp_best_weights.h5'\n",
    "\n",
    "wavenet_fit_args = {\n",
    "    'batch_size' : 16,\n",
    "    'epochs' : 15,\n",
    "    'class_weighted' : True\n",
    "}\n",
    "\n",
    "names_deq = deque(WELL_NAMES)"
   ]
  },
  {
   "cell_type": "code",
   "execution_count": 3,
   "metadata": {
    "scrolled": false
   },
   "outputs": [
    {
     "name": "stdout",
     "output_type": "stream",
     "text": [
      "\n",
      "Facies Patch Dataset loaded from \n",
      "Features: ['logs', 'pseudoGR']\n",
      "Classes: ['none', 'bad-sandstone', 'sandstone', 'clay-prone sandstone', 'sandy mudstone', 'oilstained', 'mudstone']\n",
      "Train Wells: ['204-19-2', '204-19-3A', '204-19-6', '204-19-7', '204-20-1', '204-20-1Z', '204-20-2', '204-20-3', '204-20-6a', '204-20a-7']\n",
      "Test Wells: ['204-24a-6', '204-24a-7', '205-21b-3']\n",
      "\n",
      "Loading Well:  204-19-2  from  /home/administrator/Dropbox/core_data/facies/train_data\n"
     ]
    },
    {
     "name": "stderr",
     "output_type": "stream",
     "text": [
      "/home/administrator/code/python/coremdlr/coremdlr/facies/datasets/utils.py:72: RuntimeWarning: Mean of empty slice\n",
      "  output_features.append(np.nanmean(img, axis=1))\n",
      "/home/administrator/code/python/coremdlr/coremdlr/facies/datasets/utils.py:76: RuntimeWarning: Degrees of freedom <= 0 for slice.\n",
      "  output_features.append(np.nanvar(img, axis=1))\n",
      "Header section Parameter regexp=~P was not found.\n"
     ]
    },
    {
     "name": "stdout",
     "output_type": "stream",
     "text": [
      "Extracted pGR features:  ['Umean', 'Rmean', 'Gmean', 'Bmean', 'Uvar', 'Rvar', 'Gvar', 'Bvar']\n",
      "Adding NaN log:  DTS1\n",
      "Adding NaN log:  DTS2\n",
      "Feature shapes:  [('depth', (2683,)), ('top', (2683,)), ('base', (2683,)), ('pseudoGR', (2683, 32, 8)), ('logs', (2683, 11))]\n",
      "Loading Well:  204-19-3A  from  /home/administrator/Dropbox/core_data/facies/train_data\n",
      "Extracted pGR features:  ['Umean', 'Rmean', 'Gmean', 'Bmean', 'Uvar', 'Rvar', 'Gvar', 'Bvar']\n"
     ]
    },
    {
     "name": "stderr",
     "output_type": "stream",
     "text": [
      "Header section Parameter regexp=~P was not found.\n"
     ]
    },
    {
     "name": "stdout",
     "output_type": "stream",
     "text": [
      "Adding NaN log:  DTS\n",
      "Feature shapes:  [('depth', (9590,)), ('top', (9590,)), ('base', (9590,)), ('pseudoGR', (9590, 32, 8)), ('logs', (9590, 11))]\n",
      "Loading Well:  204-19-6  from  /home/administrator/Dropbox/core_data/facies/train_data\n",
      "Extracted pGR features:  ['Umean', 'Rmean', 'Gmean', 'Bmean', 'Uvar', 'Rvar', 'Gvar', 'Bvar']\n"
     ]
    },
    {
     "name": "stderr",
     "output_type": "stream",
     "text": [
      "Header section Parameter regexp=~P was not found.\n"
     ]
    },
    {
     "name": "stdout",
     "output_type": "stream",
     "text": [
      "Adding NaN log:  DTS\n",
      "Feature shapes:  [('depth', (1884,)), ('top', (1884,)), ('base', (1884,)), ('pseudoGR', (1884, 32, 8)), ('logs', (1884, 11))]\n",
      "Loading Well:  204-19-7  from  /home/administrator/Dropbox/core_data/facies/train_data\n",
      "Extracted pGR features:  ['Umean', 'Rmean', 'Gmean', 'Bmean', 'Uvar', 'Rvar', 'Gvar', 'Bvar']\n"
     ]
    },
    {
     "name": "stderr",
     "output_type": "stream",
     "text": [
      "Header section Parameter regexp=~P was not found.\n"
     ]
    },
    {
     "name": "stdout",
     "output_type": "stream",
     "text": [
      "Adding NaN log:  DTS\n",
      "Feature shapes:  [('depth', (9807,)), ('top', (9807,)), ('base', (9807,)), ('pseudoGR', (9807, 32, 8)), ('logs', (9807, 11))]\n",
      "Loading Well:  204-20-1  from  /home/administrator/Dropbox/core_data/facies/train_data\n",
      "Extracted pGR features:  ['Umean', 'Rmean', 'Gmean', 'Bmean', 'Uvar', 'Rvar', 'Gvar', 'Bvar']\n"
     ]
    },
    {
     "name": "stderr",
     "output_type": "stream",
     "text": [
      "Header section Parameter regexp=~P was not found.\n"
     ]
    },
    {
     "name": "stdout",
     "output_type": "stream",
     "text": [
      "Adding NaN log:  DTS1\n",
      "Adding NaN log:  DTS2\n",
      "Feature shapes:  [('depth', (11210,)), ('top', (11210,)), ('base', (11210,)), ('pseudoGR', (11210, 32, 8)), ('logs', (11210, 11))]\n",
      "Loading Well:  204-20-1Z  from  /home/administrator/Dropbox/core_data/facies/train_data\n",
      "Extracted pGR features:  ['Umean', 'Rmean', 'Gmean', 'Bmean', 'Uvar', 'Rvar', 'Gvar', 'Bvar']\n"
     ]
    },
    {
     "name": "stderr",
     "output_type": "stream",
     "text": [
      "Header section Parameter regexp=~P was not found.\n"
     ]
    },
    {
     "name": "stdout",
     "output_type": "stream",
     "text": [
      "Adding NaN log:  SP\n",
      "Adding NaN log:  DTS1\n",
      "Adding NaN log:  DTS2\n",
      "Feature shapes:  [('depth', (1917,)), ('top', (1917,)), ('base', (1917,)), ('pseudoGR', (1917, 32, 8)), ('logs', (1917, 11))]\n",
      "Loading Well:  204-20-2  from  /home/administrator/Dropbox/core_data/facies/train_data\n",
      "Extracted pGR features:  ['Umean', 'Rmean', 'Gmean', 'Bmean', 'Uvar', 'Rvar', 'Gvar', 'Bvar']\n"
     ]
    },
    {
     "name": "stderr",
     "output_type": "stream",
     "text": [
      "Header section Parameter regexp=~P was not found.\n"
     ]
    },
    {
     "name": "stdout",
     "output_type": "stream",
     "text": [
      "Feature shapes:  [('depth', (2940,)), ('top', (2940,)), ('base', (2940,)), ('pseudoGR', (2940, 32, 8)), ('logs', (2940, 11))]\n",
      "Loading Well:  204-20-3  from  /home/administrator/Dropbox/core_data/facies/train_data\n",
      "Extracted pGR features:  ['Umean', 'Rmean', 'Gmean', 'Bmean', 'Uvar', 'Rvar', 'Gvar', 'Bvar']\n"
     ]
    },
    {
     "name": "stderr",
     "output_type": "stream",
     "text": [
      "Header section Parameter regexp=~P was not found.\n"
     ]
    },
    {
     "name": "stdout",
     "output_type": "stream",
     "text": [
      "Feature shapes:  [('depth', (10906,)), ('top', (10906,)), ('base', (10906,)), ('pseudoGR', (10906, 32, 8)), ('logs', (10906, 11))]\n",
      "Loading Well:  204-20-6a  from  /home/administrator/Dropbox/core_data/facies/train_data\n",
      "Extracted pGR features:  ['Umean', 'Rmean', 'Gmean', 'Bmean', 'Uvar', 'Rvar', 'Gvar', 'Bvar']\n"
     ]
    },
    {
     "name": "stderr",
     "output_type": "stream",
     "text": [
      "Header section Parameter regexp=~P was not found.\n"
     ]
    },
    {
     "name": "stdout",
     "output_type": "stream",
     "text": [
      "Adding NaN log:  SP\n",
      "Adding NaN log:  DTS1\n",
      "Adding NaN log:  DTS2\n",
      "Feature shapes:  [('depth', (3542,)), ('top', (3542,)), ('base', (3542,)), ('pseudoGR', (3542, 32, 8)), ('logs', (3542, 11))]\n",
      "Loading Well:  204-20a-7  from  /home/administrator/Dropbox/core_data/facies/train_data\n",
      "Extracted pGR features:  ['Umean', 'Rmean', 'Gmean', 'Bmean', 'Uvar', 'Rvar', 'Gvar', 'Bvar']\n"
     ]
    },
    {
     "name": "stderr",
     "output_type": "stream",
     "text": [
      "Header section Parameter regexp=~P was not found.\n"
     ]
    },
    {
     "name": "stdout",
     "output_type": "stream",
     "text": [
      "Adding NaN log:  DTS1\n",
      "Adding NaN log:  DTS2\n",
      "Feature shapes:  [('depth', (3105,)), ('top', (3105,)), ('base', (3105,)), ('pseudoGR', (3105, 32, 8)), ('logs', (3105, 11))]\n",
      "Loading Well:  204-24a-6  from  /home/administrator/Dropbox/core_data/facies/train_data\n"
     ]
    },
    {
     "name": "stderr",
     "output_type": "stream",
     "text": [
      "/home/administrator/code/python/coremdlr/coremdlr/facies/datasets/utils.py:72: RuntimeWarning: Mean of empty slice\n",
      "  output_features.append(np.nanmean(img, axis=1))\n",
      "/home/administrator/code/python/coremdlr/coremdlr/facies/datasets/utils.py:76: RuntimeWarning: Degrees of freedom <= 0 for slice.\n",
      "  output_features.append(np.nanvar(img, axis=1))\n"
     ]
    },
    {
     "name": "stdout",
     "output_type": "stream",
     "text": [
      "Extracted pGR features:  ['Umean', 'Rmean', 'Gmean', 'Bmean', 'Uvar', 'Rvar', 'Gvar', 'Bvar']\n"
     ]
    },
    {
     "name": "stderr",
     "output_type": "stream",
     "text": [
      "Header section Parameter regexp=~P was not found.\n"
     ]
    },
    {
     "name": "stdout",
     "output_type": "stream",
     "text": [
      "Adding NaN log:  SP\n",
      "Adding NaN log:  DTS1\n",
      "Adding NaN log:  DTS2\n",
      "Feature shapes:  [('depth', (13006,)), ('top', (13006,)), ('base', (13006,)), ('pseudoGR', (13006, 32, 8)), ('logs', (13006, 11))]\n",
      "Loading Well:  204-24a-7  from  /home/administrator/Dropbox/core_data/facies/train_data\n",
      "Extracted pGR features:  ['Umean', 'Rmean', 'Gmean', 'Bmean', 'Uvar', 'Rvar', 'Gvar', 'Bvar']\n"
     ]
    },
    {
     "name": "stderr",
     "output_type": "stream",
     "text": [
      "Header section Parameter regexp=~P was not found.\n"
     ]
    },
    {
     "name": "stdout",
     "output_type": "stream",
     "text": [
      "Adding NaN log:  SP\n",
      "Adding NaN log:  DTS\n",
      "Feature shapes:  [('depth', (19294,)), ('top', (19294,)), ('base', (19294,)), ('pseudoGR', (19294, 32, 8)), ('logs', (19294, 11))]\n",
      "Loading Well:  205-21b-3  from  /home/administrator/Dropbox/core_data/facies/train_data\n",
      "Extracted pGR features:  ['Umean', 'Rmean', 'Gmean', 'Bmean', 'Uvar', 'Rvar', 'Gvar', 'Bvar']\n"
     ]
    },
    {
     "name": "stderr",
     "output_type": "stream",
     "text": [
      "Header section Parameter regexp=~P was not found.\n"
     ]
    },
    {
     "name": "stdout",
     "output_type": "stream",
     "text": [
      "Adding NaN log:  SP\n",
      "Adding NaN log:  DTS\n",
      "Feature shapes:  [('depth', (3842,)), ('top', (3842,)), ('base', (3842,)), ('pseudoGR', (3842, 32, 8)), ('logs', (3842, 11))]\n",
      "Shapes of `(batch_X, batch_y)`: (16, 4096, 8), (16, 128, 5)\n",
      "Epoch 1/15\n",
      "54/55 [============================>.] - ETA: 0s - loss: 4.9982 - acc: 0.0735\n",
      "Epoch 00001: val_acc improved from -inf to 0.14050, saving model to temp_best_weights.h5\n",
      "55/55 [==============================] - 45s 813ms/step - loss: 4.9766 - acc: 0.0764 - val_loss: 4.7247 - val_acc: 0.1405\n",
      "Epoch 2/15\n",
      "54/55 [============================>.] - ETA: 0s - loss: 4.9551 - acc: 0.0861\n",
      "Epoch 00002: val_acc did not improve from 0.14050\n",
      "55/55 [==============================] - 26s 481ms/step - loss: 4.9555 - acc: 0.0856 - val_loss: 4.7247 - val_acc: 0.1405\n",
      "Epoch 3/15\n",
      "54/55 [============================>.] - ETA: 0s - loss: 4.9555 - acc: 0.0855\n",
      "Epoch 00003: val_acc did not improve from 0.14050\n",
      "55/55 [==============================] - 27s 489ms/step - loss: 4.9555 - acc: 0.0856 - val_loss: 4.7247 - val_acc: 0.1405\n",
      "Epoch 4/15\n",
      "54/55 [============================>.] - ETA: 0s - loss: 4.9572 - acc: 0.0853\n",
      "Epoch 00004: val_acc did not improve from 0.14050\n",
      "55/55 [==============================] - 27s 485ms/step - loss: 4.9555 - acc: 0.0856 - val_loss: 4.7247 - val_acc: 0.1405\n",
      "Epoch 5/15\n",
      "54/55 [============================>.] - ETA: 0s - loss: 4.9574 - acc: 0.0857\n",
      "Epoch 00005: val_acc did not improve from 0.14050\n",
      "55/55 [==============================] - 27s 496ms/step - loss: 4.9555 - acc: 0.0856 - val_loss: 4.7247 - val_acc: 0.1405\n",
      "Epoch 6/15\n",
      "54/55 [============================>.] - ETA: 0s - loss: 4.9546 - acc: 0.0859\n",
      "Epoch 00006: val_acc did not improve from 0.14050\n",
      "55/55 [==============================] - 28s 502ms/step - loss: 4.9555 - acc: 0.0856 - val_loss: 4.7247 - val_acc: 0.1405\n",
      "Epoch 7/15\n",
      "54/55 [============================>.] - ETA: 0s - loss: 4.9545 - acc: 0.0858\n",
      "Epoch 00007: val_acc did not improve from 0.14050\n",
      "55/55 [==============================] - 28s 502ms/step - loss: 4.9555 - acc: 0.0856 - val_loss: 4.7247 - val_acc: 0.1405\n",
      "Epoch 8/15\n",
      "54/55 [============================>.] - ETA: 0s - loss: 4.9591 - acc: 0.0851\n",
      "Epoch 00008: val_acc did not improve from 0.14050\n",
      "55/55 [==============================] - 28s 504ms/step - loss: 4.9555 - acc: 0.0856 - val_loss: 4.7247 - val_acc: 0.1405\n",
      "Epoch 9/15\n",
      "54/55 [============================>.] - ETA: 0s - loss: 4.9505 - acc: 0.0865\n",
      "Epoch 00009: val_acc did not improve from 0.14050\n",
      "55/55 [==============================] - 28s 506ms/step - loss: 4.9555 - acc: 0.0856 - val_loss: 4.7247 - val_acc: 0.1405\n",
      "Epoch 10/15\n",
      "54/55 [============================>.] - ETA: 0s - loss: 4.9521 - acc: 0.0862\n",
      "Epoch 00010: val_acc did not improve from 0.14050\n",
      "55/55 [==============================] - 28s 503ms/step - loss: 4.9555 - acc: 0.0856 - val_loss: 4.7247 - val_acc: 0.1405\n",
      "Epoch 11/15\n",
      "54/55 [============================>.] - ETA: 0s - loss: 4.9613 - acc: 0.0846\n",
      "Epoch 00011: val_acc did not improve from 0.14050\n",
      "55/55 [==============================] - 28s 509ms/step - loss: 4.9555 - acc: 0.0856 - val_loss: 4.7247 - val_acc: 0.1405\n",
      "Epoch 12/15\n",
      "54/55 [============================>.] - ETA: 0s - loss: 4.9521 - acc: 0.0859\n",
      "Epoch 00012: val_acc did not improve from 0.14050\n",
      "55/55 [==============================] - 28s 504ms/step - loss: 4.9555 - acc: 0.0856 - val_loss: 4.7247 - val_acc: 0.1405\n",
      "Epoch 13/15\n",
      "54/55 [============================>.] - ETA: 0s - loss: 4.9456 - acc: 0.0866\n",
      "Epoch 00013: val_acc did not improve from 0.14050\n",
      "55/55 [==============================] - 28s 507ms/step - loss: 4.9555 - acc: 0.0856 - val_loss: 4.7247 - val_acc: 0.1405\n",
      "Epoch 14/15\n",
      "54/55 [============================>.] - ETA: 0s - loss: 4.9581 - acc: 0.0853\n",
      "Epoch 00014: val_acc did not improve from 0.14050\n",
      "55/55 [==============================] - 28s 503ms/step - loss: 4.9555 - acc: 0.0856 - val_loss: 4.7247 - val_acc: 0.1405\n",
      "Epoch 15/15\n",
      "54/55 [============================>.] - ETA: 0s - loss: 4.9549 - acc: 0.0855\n",
      "Epoch 00015: val_acc did not improve from 0.14050\n",
      "55/55 [==============================] - 28s 505ms/step - loss: 4.9555 - acc: 0.0856 - val_loss: 4.7247 - val_acc: 0.1405\n",
      "\n",
      "Facies Patch Dataset loaded from \n",
      "Features: ['logs', 'pseudoGR']\n",
      "Classes: ['none', 'bad-sandstone', 'sandstone', 'clay-prone sandstone', 'sandy mudstone', 'oilstained', 'mudstone']\n",
      "Train Wells: ['204-24a-6', '204-24a-7', '205-21b-3', '204-19-2', '204-19-3A', '204-19-6', '204-19-7', '204-20-1', '204-20-1Z', '204-20-2']\n",
      "Test Wells: ['204-20-3', '204-20-6a', '204-20a-7']\n",
      "\n",
      "Loading Well:  204-24a-6  from  /home/administrator/Dropbox/core_data/facies/train_data\n"
     ]
    },
    {
     "name": "stderr",
     "output_type": "stream",
     "text": [
      "/home/administrator/code/python/coremdlr/coremdlr/facies/datasets/utils.py:72: RuntimeWarning: Mean of empty slice\n",
      "  output_features.append(np.nanmean(img, axis=1))\n",
      "/home/administrator/code/python/coremdlr/coremdlr/facies/datasets/utils.py:76: RuntimeWarning: Degrees of freedom <= 0 for slice.\n",
      "  output_features.append(np.nanvar(img, axis=1))\n"
     ]
    },
    {
     "name": "stdout",
     "output_type": "stream",
     "text": [
      "Extracted pGR features:  ['Umean', 'Rmean', 'Gmean', 'Bmean', 'Uvar', 'Rvar', 'Gvar', 'Bvar']\n"
     ]
    },
    {
     "name": "stderr",
     "output_type": "stream",
     "text": [
      "Header section Parameter regexp=~P was not found.\n"
     ]
    },
    {
     "name": "stdout",
     "output_type": "stream",
     "text": [
      "Adding NaN log:  SP\n",
      "Adding NaN log:  DTS1\n",
      "Adding NaN log:  DTS2\n",
      "Feature shapes:  [('depth', (13006,)), ('top', (13006,)), ('base', (13006,)), ('pseudoGR', (13006, 32, 8)), ('logs', (13006, 11))]\n",
      "Loading Well:  204-24a-7  from  /home/administrator/Dropbox/core_data/facies/train_data\n",
      "Extracted pGR features:  ['Umean', 'Rmean', 'Gmean', 'Bmean', 'Uvar', 'Rvar', 'Gvar', 'Bvar']\n"
     ]
    },
    {
     "name": "stderr",
     "output_type": "stream",
     "text": [
      "Header section Parameter regexp=~P was not found.\n"
     ]
    },
    {
     "name": "stdout",
     "output_type": "stream",
     "text": [
      "Adding NaN log:  SP\n",
      "Adding NaN log:  DTS\n",
      "Feature shapes:  [('depth', (19294,)), ('top', (19294,)), ('base', (19294,)), ('pseudoGR', (19294, 32, 8)), ('logs', (19294, 11))]\n",
      "Loading Well:  205-21b-3  from  /home/administrator/Dropbox/core_data/facies/train_data\n",
      "Extracted pGR features:  ['Umean', 'Rmean', 'Gmean', 'Bmean', 'Uvar', 'Rvar', 'Gvar', 'Bvar']\n"
     ]
    },
    {
     "name": "stderr",
     "output_type": "stream",
     "text": [
      "Header section Parameter regexp=~P was not found.\n"
     ]
    },
    {
     "name": "stdout",
     "output_type": "stream",
     "text": [
      "Adding NaN log:  SP\n",
      "Adding NaN log:  DTS\n",
      "Feature shapes:  [('depth', (3842,)), ('top', (3842,)), ('base', (3842,)), ('pseudoGR', (3842, 32, 8)), ('logs', (3842, 11))]\n",
      "Loading Well:  204-19-2  from  /home/administrator/Dropbox/core_data/facies/train_data\n",
      "Extracted pGR features:  ['Umean', 'Rmean', 'Gmean', 'Bmean', 'Uvar', 'Rvar', 'Gvar', 'Bvar']\n"
     ]
    },
    {
     "name": "stderr",
     "output_type": "stream",
     "text": [
      "Header section Parameter regexp=~P was not found.\n"
     ]
    },
    {
     "name": "stdout",
     "output_type": "stream",
     "text": [
      "Adding NaN log:  DTS1\n",
      "Adding NaN log:  DTS2\n",
      "Feature shapes:  [('depth', (2683,)), ('top', (2683,)), ('base', (2683,)), ('pseudoGR', (2683, 32, 8)), ('logs', (2683, 11))]\n",
      "Loading Well:  204-19-3A  from  /home/administrator/Dropbox/core_data/facies/train_data\n",
      "Extracted pGR features:  ['Umean', 'Rmean', 'Gmean', 'Bmean', 'Uvar', 'Rvar', 'Gvar', 'Bvar']\n"
     ]
    },
    {
     "name": "stderr",
     "output_type": "stream",
     "text": [
      "Header section Parameter regexp=~P was not found.\n"
     ]
    },
    {
     "name": "stdout",
     "output_type": "stream",
     "text": [
      "Adding NaN log:  DTS\n",
      "Feature shapes:  [('depth', (9590,)), ('top', (9590,)), ('base', (9590,)), ('pseudoGR', (9590, 32, 8)), ('logs', (9590, 11))]\n",
      "Loading Well:  204-19-6  from  /home/administrator/Dropbox/core_data/facies/train_data\n",
      "Extracted pGR features:  ['Umean', 'Rmean', 'Gmean', 'Bmean', 'Uvar', 'Rvar', 'Gvar', 'Bvar']\n"
     ]
    },
    {
     "name": "stderr",
     "output_type": "stream",
     "text": [
      "Header section Parameter regexp=~P was not found.\n"
     ]
    },
    {
     "name": "stdout",
     "output_type": "stream",
     "text": [
      "Adding NaN log:  DTS\n",
      "Feature shapes:  [('depth', (1884,)), ('top', (1884,)), ('base', (1884,)), ('pseudoGR', (1884, 32, 8)), ('logs', (1884, 11))]\n",
      "Loading Well:  204-19-7  from  /home/administrator/Dropbox/core_data/facies/train_data\n",
      "Extracted pGR features:  ['Umean', 'Rmean', 'Gmean', 'Bmean', 'Uvar', 'Rvar', 'Gvar', 'Bvar']\n"
     ]
    },
    {
     "name": "stderr",
     "output_type": "stream",
     "text": [
      "Header section Parameter regexp=~P was not found.\n"
     ]
    },
    {
     "name": "stdout",
     "output_type": "stream",
     "text": [
      "Adding NaN log:  DTS\n",
      "Feature shapes:  [('depth', (9807,)), ('top', (9807,)), ('base', (9807,)), ('pseudoGR', (9807, 32, 8)), ('logs', (9807, 11))]\n",
      "Loading Well:  204-20-1  from  /home/administrator/Dropbox/core_data/facies/train_data\n",
      "Extracted pGR features:  ['Umean', 'Rmean', 'Gmean', 'Bmean', 'Uvar', 'Rvar', 'Gvar', 'Bvar']\n"
     ]
    },
    {
     "name": "stderr",
     "output_type": "stream",
     "text": [
      "Header section Parameter regexp=~P was not found.\n"
     ]
    },
    {
     "name": "stdout",
     "output_type": "stream",
     "text": [
      "Adding NaN log:  DTS1\n",
      "Adding NaN log:  DTS2\n",
      "Feature shapes:  [('depth', (11210,)), ('top', (11210,)), ('base', (11210,)), ('pseudoGR', (11210, 32, 8)), ('logs', (11210, 11))]\n",
      "Loading Well:  204-20-1Z  from  /home/administrator/Dropbox/core_data/facies/train_data\n",
      "Extracted pGR features:  ['Umean', 'Rmean', 'Gmean', 'Bmean', 'Uvar', 'Rvar', 'Gvar', 'Bvar']\n"
     ]
    },
    {
     "name": "stderr",
     "output_type": "stream",
     "text": [
      "Header section Parameter regexp=~P was not found.\n"
     ]
    },
    {
     "name": "stdout",
     "output_type": "stream",
     "text": [
      "Adding NaN log:  SP\n",
      "Adding NaN log:  DTS1\n",
      "Adding NaN log:  DTS2\n",
      "Feature shapes:  [('depth', (1917,)), ('top', (1917,)), ('base', (1917,)), ('pseudoGR', (1917, 32, 8)), ('logs', (1917, 11))]\n",
      "Loading Well:  204-20-2  from  /home/administrator/Dropbox/core_data/facies/train_data\n",
      "Extracted pGR features:  ['Umean', 'Rmean', 'Gmean', 'Bmean', 'Uvar', 'Rvar', 'Gvar', 'Bvar']\n"
     ]
    },
    {
     "name": "stderr",
     "output_type": "stream",
     "text": [
      "Header section Parameter regexp=~P was not found.\n"
     ]
    },
    {
     "name": "stdout",
     "output_type": "stream",
     "text": [
      "Feature shapes:  [('depth', (2940,)), ('top', (2940,)), ('base', (2940,)), ('pseudoGR', (2940, 32, 8)), ('logs', (2940, 11))]\n",
      "Loading Well:  204-20-3  from  /home/administrator/Dropbox/core_data/facies/train_data\n"
     ]
    },
    {
     "name": "stderr",
     "output_type": "stream",
     "text": [
      "/home/administrator/code/python/coremdlr/coremdlr/facies/datasets/utils.py:72: RuntimeWarning: Mean of empty slice\n",
      "  output_features.append(np.nanmean(img, axis=1))\n",
      "/home/administrator/code/python/coremdlr/coremdlr/facies/datasets/utils.py:76: RuntimeWarning: Degrees of freedom <= 0 for slice.\n",
      "  output_features.append(np.nanvar(img, axis=1))\n"
     ]
    },
    {
     "name": "stdout",
     "output_type": "stream",
     "text": [
      "Extracted pGR features:  ['Umean', 'Rmean', 'Gmean', 'Bmean', 'Uvar', 'Rvar', 'Gvar', 'Bvar']\n"
     ]
    },
    {
     "name": "stderr",
     "output_type": "stream",
     "text": [
      "Header section Parameter regexp=~P was not found.\n"
     ]
    },
    {
     "name": "stdout",
     "output_type": "stream",
     "text": [
      "Feature shapes:  [('depth', (10906,)), ('top', (10906,)), ('base', (10906,)), ('pseudoGR', (10906, 32, 8)), ('logs', (10906, 11))]\n",
      "Loading Well:  204-20-6a  from  /home/administrator/Dropbox/core_data/facies/train_data\n",
      "Extracted pGR features:  ['Umean', 'Rmean', 'Gmean', 'Bmean', 'Uvar', 'Rvar', 'Gvar', 'Bvar']\n"
     ]
    },
    {
     "name": "stderr",
     "output_type": "stream",
     "text": [
      "Header section Parameter regexp=~P was not found.\n"
     ]
    },
    {
     "name": "stdout",
     "output_type": "stream",
     "text": [
      "Adding NaN log:  SP\n",
      "Adding NaN log:  DTS1\n",
      "Adding NaN log:  DTS2\n",
      "Feature shapes:  [('depth', (3542,)), ('top', (3542,)), ('base', (3542,)), ('pseudoGR', (3542, 32, 8)), ('logs', (3542, 11))]\n",
      "Loading Well:  204-20a-7  from  /home/administrator/Dropbox/core_data/facies/train_data\n",
      "Extracted pGR features:  ['Umean', 'Rmean', 'Gmean', 'Bmean', 'Uvar', 'Rvar', 'Gvar', 'Bvar']\n"
     ]
    },
    {
     "name": "stderr",
     "output_type": "stream",
     "text": [
      "Header section Parameter regexp=~P was not found.\n"
     ]
    },
    {
     "name": "stdout",
     "output_type": "stream",
     "text": [
      "Adding NaN log:  DTS1\n",
      "Adding NaN log:  DTS2\n",
      "Feature shapes:  [('depth', (3105,)), ('top', (3105,)), ('base', (3105,)), ('pseudoGR', (3105, 32, 8)), ('logs', (3105, 11))]\n",
      "Shapes of `(batch_X, batch_y)`: (16, 4096, 8), (16, 128, 5)\n",
      "Epoch 1/15\n",
      "73/74 [============================>.] - ETA: 0s - loss: 5.1021 - acc: 0.1278Epoch 1/15\n",
      "\n",
      "Epoch 00001: val_acc improved from -inf to 0.08695, saving model to temp_best_weights.h5\n",
      "74/74 [==============================] - 51s 685ms/step - loss: 5.1020 - acc: 0.1268 - val_loss: 4.9730 - val_acc: 0.0870\n",
      "Epoch 2/15\n",
      "73/74 [============================>.] - ETA: 0s - loss: 4.4839 - acc: 0.1707\n",
      "Epoch 00002: val_acc improved from 0.08695 to 0.56108, saving model to temp_best_weights.h5\n",
      "74/74 [==============================] - 29s 392ms/step - loss: 4.4608 - acc: 0.1742 - val_loss: 2.5339 - val_acc: 0.5611\n",
      "Epoch 3/15\n",
      "73/74 [============================>.] - ETA: 0s - loss: 2.1097 - acc: 0.5391\n",
      "Epoch 00003: val_acc did not improve from 0.56108\n",
      "74/74 [==============================] - 29s 392ms/step - loss: 2.0884 - acc: 0.5408 - val_loss: 0.9865 - val_acc: 0.4464\n",
      "Epoch 4/15\n",
      "73/74 [============================>.] - ETA: 0s - loss: 1.2257 - acc: 0.4348\n",
      "Epoch 00004: val_acc did not improve from 0.56108\n",
      "74/74 [==============================] - 30s 409ms/step - loss: 1.2234 - acc: 0.4352 - val_loss: 0.8717 - val_acc: 0.4338\n",
      "Epoch 5/15\n",
      "73/74 [============================>.] - ETA: 0s - loss: 1.0894 - acc: 0.5102\n",
      "Epoch 00005: val_acc did not improve from 0.56108\n",
      "74/74 [==============================] - 31s 412ms/step - loss: 1.0877 - acc: 0.5099 - val_loss: 0.8058 - val_acc: 0.5523\n",
      "Epoch 6/15\n",
      "73/74 [============================>.] - ETA: 0s - loss: 0.9811 - acc: 0.5711\n",
      "Epoch 00006: val_acc improved from 0.56108 to 0.63046, saving model to temp_best_weights.h5\n",
      "74/74 [==============================] - 31s 413ms/step - loss: 0.9729 - acc: 0.5748 - val_loss: 0.7748 - val_acc: 0.6305\n",
      "Epoch 7/15\n",
      "73/74 [============================>.] - ETA: 0s - loss: 1.0172 - acc: 0.5348\n",
      "Epoch 00007: val_acc did not improve from 0.63046\n",
      "74/74 [==============================] - 30s 410ms/step - loss: 1.0299 - acc: 0.5370 - val_loss: 0.8473 - val_acc: 0.6024\n",
      "Epoch 8/15\n",
      "73/74 [============================>.] - ETA: 0s - loss: 1.0202 - acc: 0.5710\n",
      "Epoch 00008: val_acc improved from 0.63046 to 0.65204, saving model to temp_best_weights.h5\n",
      "74/74 [==============================] - 31s 414ms/step - loss: 1.0227 - acc: 0.5703 - val_loss: 0.7318 - val_acc: 0.6520\n",
      "Epoch 9/15\n",
      "73/74 [============================>.] - ETA: 0s - loss: 0.9156 - acc: 0.5962\n",
      "Epoch 00009: val_acc improved from 0.65204 to 0.65584, saving model to temp_best_weights.h5\n",
      "74/74 [==============================] - 31s 414ms/step - loss: 0.9143 - acc: 0.5952 - val_loss: 0.7642 - val_acc: 0.6558\n",
      "Epoch 10/15\n",
      "73/74 [============================>.] - ETA: 0s - loss: 0.8926 - acc: 0.6118\n",
      "Epoch 00010: val_acc did not improve from 0.65584\n",
      "74/74 [==============================] - 31s 412ms/step - loss: 0.9019 - acc: 0.6098 - val_loss: 0.9442 - val_acc: 0.5513\n",
      "Epoch 11/15\n",
      "73/74 [============================>.] - ETA: 0s - loss: 0.9162 - acc: 0.6129\n",
      "Epoch 00011: val_acc did not improve from 0.65584\n",
      "74/74 [==============================] - 31s 412ms/step - loss: 0.9177 - acc: 0.6091 - val_loss: 0.7320 - val_acc: 0.6527\n",
      "Epoch 12/15\n",
      "73/74 [============================>.] - ETA: 0s - loss: 0.8881 - acc: 0.6102\n",
      "Epoch 00012: val_acc improved from 0.65584 to 0.65610, saving model to temp_best_weights.h5\n",
      "74/74 [==============================] - 31s 414ms/step - loss: 0.8933 - acc: 0.6083 - val_loss: 0.6724 - val_acc: 0.6561\n",
      "Epoch 13/15\n",
      "73/74 [============================>.] - ETA: 0s - loss: 0.9189 - acc: 0.6178\n",
      "Epoch 00013: val_acc did not improve from 0.65610\n",
      "74/74 [==============================] - 30s 410ms/step - loss: 0.9235 - acc: 0.6208 - val_loss: 0.9023 - val_acc: 0.6435\n",
      "Epoch 14/15\n",
      "73/74 [============================>.] - ETA: 0s - loss: 0.8862 - acc: 0.6252\n",
      "Epoch 00014: val_acc did not improve from 0.65610\n",
      "74/74 [==============================] - 30s 411ms/step - loss: 0.8829 - acc: 0.6257 - val_loss: 0.9075 - val_acc: 0.5473\n",
      "Epoch 15/15\n",
      "73/74 [============================>.] - ETA: 0s - loss: 0.8698 - acc: 0.6356\n",
      "Epoch 00015: val_acc improved from 0.65610 to 0.65822, saving model to temp_best_weights.h5\n",
      "74/74 [==============================] - 31s 412ms/step - loss: 0.8676 - acc: 0.6345 - val_loss: 0.6903 - val_acc: 0.6582\n"
     ]
    },
    {
     "ename": "ValueError",
     "evalue": "need at least one array to concatenate",
     "output_type": "error",
     "traceback": [
      "\u001b[0;31m---------------------------------------------------------------------------\u001b[0m",
      "\u001b[0;31mValueError\u001b[0m                                Traceback (most recent call last)",
      "\u001b[0;32m<ipython-input-3-c653e002fd32>\u001b[0m in \u001b[0;36m<module>\u001b[0;34m()\u001b[0m\n\u001b[1;32m     35\u001b[0m     \u001b[0;32mfor\u001b[0m \u001b[0mtest_well\u001b[0m \u001b[0;32min\u001b[0m \u001b[0mfdset\u001b[0m\u001b[0;34m.\u001b[0m\u001b[0mtest_well_names\u001b[0m\u001b[0;34m:\u001b[0m\u001b[0;34m\u001b[0m\u001b[0;34m\u001b[0m\u001b[0m\n\u001b[1;32m     36\u001b[0m \u001b[0;34m\u001b[0m\u001b[0m\n\u001b[0;32m---> 37\u001b[0;31m         \u001b[0mresults\u001b[0m\u001b[0;34m[\u001b[0m\u001b[0mtest_well\u001b[0m\u001b[0;34m]\u001b[0m \u001b[0;34m=\u001b[0m \u001b[0mwnet_model\u001b[0m\u001b[0;34m.\u001b[0m\u001b[0mpreds_dataframe\u001b[0m\u001b[0;34m(\u001b[0m\u001b[0mtest_well\u001b[0m\u001b[0;34m,\u001b[0m \u001b[0mlogs\u001b[0m\u001b[0;34m=\u001b[0m\u001b[0;34m[\u001b[0m\u001b[0;34m'GR'\u001b[0m\u001b[0;34m,\u001b[0m \u001b[0;34m'RDEP'\u001b[0m\u001b[0;34m,\u001b[0m \u001b[0;34m'PEF'\u001b[0m\u001b[0;34m,\u001b[0m \u001b[0;34m'SP'\u001b[0m\u001b[0;34m]\u001b[0m\u001b[0;34m)\u001b[0m\u001b[0;34m\u001b[0m\u001b[0;34m\u001b[0m\u001b[0m\n\u001b[0m",
      "\u001b[0;32m~/code/python/coremdlr/coremdlr/facies/models/base.py\u001b[0m in \u001b[0;36mpreds_dataframe\u001b[0;34m(self, well_name, logs, save_csv)\u001b[0m\n\u001b[1;32m    175\u001b[0m         \u001b[0mX\u001b[0m\u001b[0;34m,\u001b[0m \u001b[0my\u001b[0m \u001b[0;34m=\u001b[0m \u001b[0mself\u001b[0m\u001b[0;34m.\u001b[0m\u001b[0mdata\u001b[0m\u001b[0;34m.\u001b[0m\u001b[0mget_well_data\u001b[0m\u001b[0;34m(\u001b[0m\u001b[0mwell_name\u001b[0m\u001b[0;34m,\u001b[0m \u001b[0minclude_meta\u001b[0m\u001b[0;34m=\u001b[0m\u001b[0;32mTrue\u001b[0m\u001b[0;34m)\u001b[0m\u001b[0;34m\u001b[0m\u001b[0;34m\u001b[0m\u001b[0m\n\u001b[1;32m    176\u001b[0m \u001b[0;34m\u001b[0m\u001b[0m\n\u001b[0;32m--> 177\u001b[0;31m         \u001b[0mprobas\u001b[0m \u001b[0;34m=\u001b[0m \u001b[0mself\u001b[0m\u001b[0;34m.\u001b[0m\u001b[0mpredict_proba\u001b[0m\u001b[0;34m(\u001b[0m\u001b[0mX\u001b[0m\u001b[0;34m)\u001b[0m\u001b[0;34m\u001b[0m\u001b[0;34m\u001b[0m\u001b[0m\n\u001b[0m\u001b[1;32m    178\u001b[0m         \u001b[0mpreds\u001b[0m \u001b[0;34m=\u001b[0m \u001b[0mnp\u001b[0m\u001b[0;34m.\u001b[0m\u001b[0margmax\u001b[0m\u001b[0;34m(\u001b[0m\u001b[0mprobas\u001b[0m\u001b[0;34m,\u001b[0m \u001b[0maxis\u001b[0m\u001b[0;34m=\u001b[0m\u001b[0;36m1\u001b[0m\u001b[0;34m)\u001b[0m\u001b[0;34m\u001b[0m\u001b[0;34m\u001b[0m\u001b[0m\n\u001b[1;32m    179\u001b[0m \u001b[0;34m\u001b[0m\u001b[0m\n",
      "\u001b[0;32m~/code/python/coremdlr/coremdlr/facies/models/network_model.py\u001b[0m in \u001b[0;36mpredict_proba\u001b[0;34m(self, X, **kwargs)\u001b[0m\n\u001b[1;32m    119\u001b[0m         \u001b[0m_X\u001b[0m \u001b[0;34m=\u001b[0m \u001b[0mself\u001b[0m\u001b[0;34m.\u001b[0m\u001b[0m_get_X\u001b[0m\u001b[0;34m(\u001b[0m\u001b[0mX\u001b[0m\u001b[0;34m)\u001b[0m\u001b[0;34m\u001b[0m\u001b[0;34m\u001b[0m\u001b[0m\n\u001b[1;32m    120\u001b[0m         \u001b[0mself\u001b[0m\u001b[0;34m.\u001b[0m\u001b[0mval_generator_args\u001b[0m\u001b[0;34m.\u001b[0m\u001b[0mupdate\u001b[0m\u001b[0;34m(\u001b[0m\u001b[0mkwargs\u001b[0m\u001b[0;34m)\u001b[0m\u001b[0;34m\u001b[0m\u001b[0;34m\u001b[0m\u001b[0m\n\u001b[0;32m--> 121\u001b[0;31m         \u001b[0mX_gen\u001b[0m \u001b[0;34m=\u001b[0m \u001b[0mDepthSequenceGenerator\u001b[0m\u001b[0;34m(\u001b[0m\u001b[0m_X\u001b[0m\u001b[0;34m,\u001b[0m \u001b[0;32mNone\u001b[0m\u001b[0;34m,\u001b[0m \u001b[0mself\u001b[0m\u001b[0;34m.\u001b[0m\u001b[0msequence_size\u001b[0m\u001b[0;34m,\u001b[0m \u001b[0;34m**\u001b[0m\u001b[0mself\u001b[0m\u001b[0;34m.\u001b[0m\u001b[0mval_generator_args\u001b[0m\u001b[0;34m)\u001b[0m\u001b[0;34m\u001b[0m\u001b[0;34m\u001b[0m\u001b[0m\n\u001b[0m\u001b[1;32m    122\u001b[0m         \u001b[0mprobas\u001b[0m \u001b[0;34m=\u001b[0m \u001b[0mself\u001b[0m\u001b[0;34m.\u001b[0m\u001b[0mnetwork\u001b[0m\u001b[0;34m.\u001b[0m\u001b[0mpredict_generator\u001b[0m\u001b[0;34m(\u001b[0m\u001b[0mX_gen\u001b[0m\u001b[0;34m)\u001b[0m\u001b[0;34m\u001b[0m\u001b[0;34m\u001b[0m\u001b[0m\n\u001b[1;32m    123\u001b[0m         \u001b[0mprobas\u001b[0m \u001b[0;34m=\u001b[0m \u001b[0mself\u001b[0m\u001b[0;34m.\u001b[0m\u001b[0malign_probas\u001b[0m\u001b[0;34m(\u001b[0m\u001b[0mprobas\u001b[0m\u001b[0;34m,\u001b[0m \u001b[0mX_gen\u001b[0m\u001b[0;34m)\u001b[0m\u001b[0;34m\u001b[0m\u001b[0;34m\u001b[0m\u001b[0m\n",
      "\u001b[0;32m~/code/python/coremdlr/coremdlr/facies/datasets/generators.py\u001b[0m in \u001b[0;36m__init__\u001b[0;34m(self, X, y, sequence_size, step_size, concatenate_X, batch_size, feature, augment_fn, format_fn, preprocess_mode)\u001b[0m\n\u001b[1;32m     68\u001b[0m         \u001b[0mself\u001b[0m\u001b[0;34m.\u001b[0m\u001b[0midx_pairs\u001b[0m \u001b[0;34m=\u001b[0m \u001b[0mdatasets_utils\u001b[0m\u001b[0;34m.\u001b[0m\u001b[0mget_idx_pairs\u001b[0m\u001b[0;34m(\u001b[0m\u001b[0mself\u001b[0m\u001b[0;34m.\u001b[0m\u001b[0mnum_samples\u001b[0m\u001b[0;34m,\u001b[0m \u001b[0mboundary_idxs\u001b[0m\u001b[0;34m,\u001b[0m \u001b[0mself\u001b[0m\u001b[0;34m.\u001b[0m\u001b[0msequence_size\u001b[0m\u001b[0;34m,\u001b[0m \u001b[0mself\u001b[0m\u001b[0;34m.\u001b[0m\u001b[0mstep_size\u001b[0m\u001b[0;34m)\u001b[0m\u001b[0;34m\u001b[0m\u001b[0;34m\u001b[0m\u001b[0m\n\u001b[1;32m     69\u001b[0m \u001b[0;34m\u001b[0m\u001b[0m\n\u001b[0;32m---> 70\u001b[0;31m         \u001b[0mself\u001b[0m\u001b[0;34m.\u001b[0m\u001b[0mX\u001b[0m\u001b[0;34m,\u001b[0m \u001b[0mself\u001b[0m\u001b[0;34m.\u001b[0m\u001b[0my\u001b[0m \u001b[0;34m=\u001b[0m \u001b[0mdatasets_utils\u001b[0m\u001b[0;34m.\u001b[0m\u001b[0mget_concrete_sequences\u001b[0m\u001b[0;34m(\u001b[0m\u001b[0m_X\u001b[0m\u001b[0;34m,\u001b[0m \u001b[0my\u001b[0m\u001b[0;34m,\u001b[0m \u001b[0mself\u001b[0m\u001b[0;34m.\u001b[0m\u001b[0midx_pairs\u001b[0m\u001b[0;34m,\u001b[0m \u001b[0mconcatenate_X\u001b[0m\u001b[0;34m=\u001b[0m\u001b[0mconcatenate_X\u001b[0m\u001b[0;34m)\u001b[0m\u001b[0;34m\u001b[0m\u001b[0;34m\u001b[0m\u001b[0m\n\u001b[0m\u001b[1;32m     71\u001b[0m         \u001b[0;32mif\u001b[0m \u001b[0msequence_size\u001b[0m \u001b[0;34m==\u001b[0m \u001b[0;36m1\u001b[0m\u001b[0;34m:\u001b[0m\u001b[0;34m\u001b[0m\u001b[0;34m\u001b[0m\u001b[0m\n\u001b[1;32m     72\u001b[0m             \u001b[0mself\u001b[0m\u001b[0;34m.\u001b[0m\u001b[0mX\u001b[0m \u001b[0;34m=\u001b[0m \u001b[0mself\u001b[0m\u001b[0;34m.\u001b[0m\u001b[0mX\u001b[0m \u001b[0;32mif\u001b[0m \u001b[0mconcatenate_X\u001b[0m \u001b[0;32melse\u001b[0m \u001b[0mnp\u001b[0m\u001b[0;34m.\u001b[0m\u001b[0msqueeze\u001b[0m\u001b[0;34m(\u001b[0m\u001b[0mself\u001b[0m\u001b[0;34m.\u001b[0m\u001b[0mX\u001b[0m\u001b[0;34m,\u001b[0m \u001b[0maxis\u001b[0m\u001b[0;34m=\u001b[0m\u001b[0;36m1\u001b[0m\u001b[0;34m)\u001b[0m\u001b[0;34m\u001b[0m\u001b[0;34m\u001b[0m\u001b[0m\n",
      "\u001b[0;32m~/code/python/coremdlr/coremdlr/facies/datasets/utils.py\u001b[0m in \u001b[0;36mget_concrete_sequences\u001b[0;34m(X, y, idx_pairs, concatenate_X)\u001b[0m\n\u001b[1;32m    213\u001b[0m     \u001b[0mXs\u001b[0m\u001b[0;34m,\u001b[0m \u001b[0mys\u001b[0m \u001b[0;34m=\u001b[0m \u001b[0;34m[\u001b[0m\u001b[0;34m]\u001b[0m\u001b[0;34m,\u001b[0m \u001b[0;34m[\u001b[0m\u001b[0;34m]\u001b[0m\u001b[0;34m\u001b[0m\u001b[0;34m\u001b[0m\u001b[0m\n\u001b[1;32m    214\u001b[0m     \u001b[0;32mfor\u001b[0m \u001b[0mi\u001b[0m \u001b[0;32min\u001b[0m \u001b[0mrange\u001b[0m\u001b[0;34m(\u001b[0m\u001b[0midx_pairs\u001b[0m\u001b[0;34m.\u001b[0m\u001b[0mshape\u001b[0m\u001b[0;34m[\u001b[0m\u001b[0;36m0\u001b[0m\u001b[0;34m]\u001b[0m\u001b[0;34m)\u001b[0m\u001b[0;34m:\u001b[0m\u001b[0;34m\u001b[0m\u001b[0;34m\u001b[0m\u001b[0m\n\u001b[0;32m--> 215\u001b[0;31m         \u001b[0mX_i\u001b[0m \u001b[0;34m=\u001b[0m \u001b[0mnp\u001b[0m\u001b[0;34m.\u001b[0m\u001b[0mconcatenate\u001b[0m\u001b[0;34m(\u001b[0m\u001b[0mget_slice\u001b[0m\u001b[0;34m(\u001b[0m\u001b[0mX\u001b[0m\u001b[0;34m,\u001b[0m \u001b[0mi\u001b[0m\u001b[0;34m)\u001b[0m\u001b[0;34m)\u001b[0m \u001b[0;32mif\u001b[0m \u001b[0mconcatenate_X\u001b[0m \u001b[0;32melse\u001b[0m \u001b[0mget_slice\u001b[0m\u001b[0;34m(\u001b[0m\u001b[0mX\u001b[0m\u001b[0;34m,\u001b[0m \u001b[0mi\u001b[0m\u001b[0;34m)\u001b[0m\u001b[0;34m\u001b[0m\u001b[0;34m\u001b[0m\u001b[0m\n\u001b[0m\u001b[1;32m    216\u001b[0m         \u001b[0mXs\u001b[0m\u001b[0;34m.\u001b[0m\u001b[0mappend\u001b[0m\u001b[0;34m(\u001b[0m\u001b[0mX_i\u001b[0m\u001b[0;34m)\u001b[0m\u001b[0;34m\u001b[0m\u001b[0;34m\u001b[0m\u001b[0m\n\u001b[1;32m    217\u001b[0m         \u001b[0mys\u001b[0m\u001b[0;34m.\u001b[0m\u001b[0mappend\u001b[0m\u001b[0;34m(\u001b[0m\u001b[0mget_slice\u001b[0m\u001b[0;34m(\u001b[0m\u001b[0my\u001b[0m\u001b[0;34m,\u001b[0m \u001b[0mi\u001b[0m\u001b[0;34m)\u001b[0m\u001b[0;34m)\u001b[0m\u001b[0;34m\u001b[0m\u001b[0;34m\u001b[0m\u001b[0m\n",
      "\u001b[0;31mValueError\u001b[0m: need at least one array to concatenate"
     ]
    }
   ],
   "source": [
    "results = {}\n",
    "\n",
    "for i in range(len(names_deq) // 3):\n",
    "    \n",
    "    # Set up dataset, rotate well_names\n",
    "    current_names = list(names_deq)\n",
    "    fdset = FaciesDataset(current_names[:-3], test_wells=current_names[-3:],\n",
    "                        features=[\"pseudoGR\", \"logs\"],\n",
    "                        pseudoGR_args={'features': ['mean', 'var'], \n",
    "                                                    'per_channel' : True},\n",
    "                        label_resolution=32)\n",
    "    \n",
    "    names_deq.rotate(3)\n",
    "    \n",
    "    print(fdset)\n",
    "    fdset.load_or_generate_data()\n",
    "    \n",
    "    # Build and train and re-load weights\n",
    "    wnet_model = NetworkModel(fdset, model_args=wavenet_model_args)\n",
    "    \n",
    "    \n",
    "    chkpt_callback = ModelCheckpoint(CHKPT_FNAME, monitor='val_acc', verbose=1,\n",
    "                                    save_best_only=True, \n",
    "                                    save_weights_only=True)\n",
    "    \n",
    "    wavenet_fit_args['callbacks'] = [chkpt_callback]\n",
    "    \n",
    "    wnet_model.fit(fdset, **wavenet_fit_args)\n",
    "    \n",
    "    wnet_model.network.load_weights(CHKPT_FNAME)\n",
    "    \n",
    "    os.remove(CHKPT_FNAME)\n",
    "    \n",
    "    # Get test results\n",
    "    for test_well in fdset.test_well_names:\n",
    "        \n",
    "        results[test_well] = wnet_model.preds_dataframe(test_well, logs=['GR', 'RDEP', 'PEF', 'SP'])"
   ]
  },
  {
   "cell_type": "code",
   "execution_count": null,
   "metadata": {},
   "outputs": [],
   "source": [
    "import pandas as pd\n",
    "\n",
    "dfs = []\n",
    "for well_name, results_df in results.items():\n",
    "    results_df['well_name'] = well_name\n",
    "    dfs.append(results_df)\n",
    "    \n",
    "df = pd.concat(dfs, ignore_index=True)\n",
    "df"
   ]
  },
  {
   "cell_type": "code",
   "execution_count": null,
   "metadata": {},
   "outputs": [],
   "source": [
    "df.to_csv('cross_test_wavenet_all_data.csv', index=False)"
   ]
  },
  {
   "cell_type": "code",
   "execution_count": null,
   "metadata": {},
   "outputs": [],
   "source": [
    "axes = df.regression.hist(by=df.y_true, figsize=(15,15), alpha=0.4)\n",
    "print(axes)\n",
    "\n",
    "for i, ax in enumerate(axes.flat):\n",
    "    df.regression[df.y_pred==i].hist(ax=ax, color='blue', alpha=0.4)"
   ]
  },
  {
   "cell_type": "code",
   "execution_count": null,
   "metadata": {},
   "outputs": [],
   "source": [
    "axes = df.y_true.hist(by=df.well_name, figsize=(15,15), alpha=0.4)\n",
    "\n",
    "for i, (ax, name) in enumerate(zip(axes.flat, df.WELL_NAME)):\n",
    "    print(name)\n",
    "    df.y_pred[df.well_name==name].hist(ax=ax, color='blue', alpha=0.4)"
   ]
  },
  {
   "cell_type": "code",
   "execution_count": null,
   "metadata": {},
   "outputs": [],
   "source": [
    "fdset.well_names"
   ]
  },
  {
   "cell_type": "code",
   "execution_count": null,
   "metadata": {},
   "outputs": [],
   "source": [
    "fdset.test_well_names"
   ]
  },
  {
   "cell_type": "code",
   "execution_count": null,
   "metadata": {},
   "outputs": [],
   "source": [
    "np.arange(30).reshape(5, 3, 2)"
   ]
  },
  {
   "cell_type": "code",
   "execution_count": null,
   "metadata": {},
   "outputs": [],
   "source": [
    "np.arange(30).reshape(5, 3, 2).reshape(-1, 2).reshape(5, 3 ,2)"
   ]
  },
  {
   "cell_type": "code",
   "execution_count": null,
   "metadata": {},
   "outputs": [],
   "source": []
  }
 ],
 "metadata": {
  "kernelspec": {
   "display_name": "Python 3",
   "language": "python",
   "name": "python3"
  },
  "language_info": {
   "codemirror_mode": {
    "name": "ipython",
    "version": 3
   },
   "file_extension": ".py",
   "mimetype": "text/x-python",
   "name": "python",
   "nbconvert_exporter": "python",
   "pygments_lexer": "ipython3",
   "version": "3.6.7"
  }
 },
 "nbformat": 4,
 "nbformat_minor": 2
}
