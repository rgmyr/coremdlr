{
 "cells": [
  {
   "cell_type": "code",
   "execution_count": 1,
   "metadata": {},
   "outputs": [
    {
     "ename": "ModuleNotFoundError",
     "evalue": "No module named 'coremdlr'",
     "output_type": "error",
     "traceback": [
      "\u001b[0;31m---------------------------------------------------------------------------\u001b[0m",
      "\u001b[0;31mModuleNotFoundError\u001b[0m                       Traceback (most recent call last)",
      "\u001b[0;32m<ipython-input-1-5d8242efeedc>\u001b[0m in \u001b[0;36m<module>\u001b[0;34m()\u001b[0m\n\u001b[1;32m      3\u001b[0m \u001b[0;32mfrom\u001b[0m \u001b[0msklearn\u001b[0m\u001b[0;34m.\u001b[0m\u001b[0mmetrics\u001b[0m \u001b[0;32mimport\u001b[0m \u001b[0mconfusion_matrix\u001b[0m\u001b[0;34m\u001b[0m\u001b[0;34m\u001b[0m\u001b[0m\n\u001b[1;32m      4\u001b[0m \u001b[0;34m\u001b[0m\u001b[0m\n\u001b[0;32m----> 5\u001b[0;31m \u001b[0;32mfrom\u001b[0m \u001b[0mcoremdlr\u001b[0m\u001b[0;34m.\u001b[0m\u001b[0mviz\u001b[0m \u001b[0;32mimport\u001b[0m \u001b[0mmodel_plots\u001b[0m\u001b[0;34m,\u001b[0m \u001b[0mCorePlotter\u001b[0m\u001b[0;34m\u001b[0m\u001b[0;34m\u001b[0m\u001b[0m\n\u001b[0m\u001b[1;32m      6\u001b[0m \u001b[0;32mfrom\u001b[0m \u001b[0mcoremdlr\u001b[0m\u001b[0;34m.\u001b[0m\u001b[0mmodels\u001b[0m \u001b[0;32mimport\u001b[0m \u001b[0mLambdaModel\u001b[0m\u001b[0;34m,\u001b[0m \u001b[0mFeaturePredictor\u001b[0m\u001b[0;34m\u001b[0m\u001b[0;34m\u001b[0m\u001b[0m\n\u001b[1;32m      7\u001b[0m \u001b[0;32mfrom\u001b[0m \u001b[0mcoremdlr\u001b[0m\u001b[0;34m.\u001b[0m\u001b[0mdatasets\u001b[0m \u001b[0;32mimport\u001b[0m \u001b[0mFaciesDataset\u001b[0m\u001b[0;34m\u001b[0m\u001b[0;34m\u001b[0m\u001b[0m\n",
      "\u001b[0;31mModuleNotFoundError\u001b[0m: No module named 'coremdlr'"
     ]
    }
   ],
   "source": [
    "import numpy as np\n",
    "from collections import deque\n",
    "from sklearn.metrics import confusion_matrix\n",
    "\n",
    "from coremdlr.viz import model_plots, CorePlotter\n",
    "from coremdlr.models import LambdaModel, FeaturePredictor\n",
    "from coremdlr.datasets import FaciesDataset\n",
    "\n",
    "import os\n",
    "os.environ[\"CUDA_DEVICE_ORDER\"]=\"PCI_BUS_ID\"\n",
    "os.environ[\"CUDA_VISIBLE_DEVICES\"]=\"1\"\n",
    "\n",
    "import matplotlib.pyplot as plt\n",
    "%matplotlib inline"
   ]
  },
  {
   "cell_type": "markdown",
   "metadata": {},
   "source": [
    "## `LambdaModel` feature reduction"
   ]
  },
  {
   "cell_type": "code",
   "execution_count": 2,
   "metadata": {},
   "outputs": [],
   "source": [
    "def reduce_function(x):\n",
    "    feats = []\n",
    "    \n",
    "    feats.append(np.mean(x, axis=1))\n",
    "    feats.append(np.median(x, axis=1))\n",
    "    feats.append(np.var(x, axis=1))\n",
    "    \n",
    "    x_feats = np.concatenate(feats, axis=-1)\n",
    "    \n",
    "    return x_feats\n",
    "\n",
    "\n",
    "feat_model_args = {\n",
    "    # NOTE: key needs to be feature name AND feature must be specified in model_args\n",
    "    'pseudoGR': {\n",
    "        'model' : 'LambdaModel',\n",
    "        'model_args' : {\n",
    "            'feature' : 'pseudoGR',\n",
    "            'lambda_fn' : reduce_function\n",
    "        }\n",
    "    }\n",
    "}"
   ]
  },
  {
   "cell_type": "markdown",
   "metadata": {},
   "source": [
    "## `FeaturePredictor` search space definition"
   ]
  },
  {
   "cell_type": "code",
   "execution_count": 3,
   "metadata": {},
   "outputs": [],
   "source": [
    "import hyperopt\n",
    "from hyperopt import hp\n",
    "from hyperopt.pyll.base import scope\n",
    "from sklearn.metrics import f1_score, log_loss\n",
    "from sklearn.utils.class_weight import compute_sample_weight\n",
    "\n",
    "\n",
    "XGB_SEARCH_SPACE = {\n",
    "    'model_type' : 'XGB',\n",
    "    'max_depth' : scope.int(hp.quniform('max_depth', 3, 10, 1)),\n",
    "    'learning_rate' : hp.uniform('learning_rate', 0.01, 0.2),\n",
    "    'n_estimators' : scope.int(hp.quniform('n_estimators', 10, 1000, 1)),\n",
    "    'objective' : 'multi:softprob',\n",
    "    'n_jobs' : 2,\n",
    "    'gamma' : hp.uniform('gamma', 0, 0.5),\n",
    "    'subsample' : hp.uniform('subsample', 0.3, 1),\n",
    "    'colsample_bytree' : hp.uniform('colsample_bytree', 0.3, 1.0),\n",
    "    'colsample_bylevel' : 1,\n",
    "    'reg_alpha' : 0,                                    # L1 penalty\n",
    "    'reg_lambda' : hp.uniform('reg_lambda', 0.1, 10),   # L2 penalty\n",
    "    'tree_method' : 'gpu_exact',\n",
    "}"
   ]
  },
  {
   "cell_type": "code",
   "execution_count": 10,
   "metadata": {},
   "outputs": [],
   "source": [
    "def train_xgb_model(fdset, model_config):\n",
    "    \n",
    "    xgb_predictor = FeaturePredictor(fdset, \n",
    "                                     model_args=model_config, \n",
    "                                     feature_model_args=feat_model_args)\n",
    "    \n",
    "    test_acc = xgb_predictor.fit(fdset, verbose=False)\n",
    "    \n",
    "    y_proba = xgb_predictor.predict_proba(fdset.X_test)\n",
    "    y_pred = np.argmax(y_proba, axis=-1)\n",
    "    \n",
    "    print('F1 score:', f1_score(fdset.y_test, y_pred, average='macro'))\n",
    "    \n",
    "    return log_loss(fdset.y_test, y_proba) #, sample_weight=sample_weights)\n"
   ]
  },
  {
   "cell_type": "markdown",
   "metadata": {},
   "source": [
    "## Cross Testing"
   ]
  },
  {
   "cell_type": "code",
   "execution_count": 12,
   "metadata": {
    "scrolled": false
   },
   "outputs": [
    {
     "name": "stdout",
     "output_type": "stream",
     "text": [
      "Loading Well:  205-21b-3  from  /home/administrator/Dropbox/core_data/facies/train_data\n"
     ]
    },
    {
     "name": "stderr",
     "output_type": "stream",
     "text": [
      "/home/administrator/code/python/coremdlr/coremdlr/facies/datasets/utils.py:86: RuntimeWarning: Mean of empty slice\n",
      "  output_features.append(np.nanmean(img, axis=1))\n",
      "/home/administrator/code/python/coremdlr/coremdlr/facies/datasets/utils.py:90: RuntimeWarning: Degrees of freedom <= 0 for slice.\n",
      "  output_features.append(np.nanvar(img, axis=1))\n",
      "/home/administrator/anaconda3/envs/core-dev/lib/python3.6/site-packages/numpy/lib/nanfunctions.py:1283: RuntimeWarning: All-NaN slice encountered\n",
      "  overwrite_input, interpolation)\n"
     ]
    },
    {
     "name": "stdout",
     "output_type": "stream",
     "text": [
      "Extracted pGR features:  ['Umean', 'Rmean', 'Gmean', 'Bmean', 'Uvar', 'Rvar', 'Gvar', 'Bvar', 'Up10', 'Rp10', 'Gp10', 'Bp10', 'Up90', 'Rp90', 'Gp90', 'Bp90']\n"
     ]
    },
    {
     "name": "stderr",
     "output_type": "stream",
     "text": [
      "Header section Parameter regexp=~P was not found.\n"
     ]
    },
    {
     "name": "stdout",
     "output_type": "stream",
     "text": [
      "Adding NaN log:  SP\n",
      "Adding NaN log:  DTS\n",
      "Feature shapes:  [('depth', (3842,)), ('top', (3842,)), ('base', (3842,)), ('pseudoGR', (3842, 32, 16)), ('logs', (3842, 11))]\n",
      "Loading Well:  204-20-6a  from  /home/administrator/Dropbox/core_data/facies/train_data\n",
      "Extracted pGR features:  ['Umean', 'Rmean', 'Gmean', 'Bmean', 'Uvar', 'Rvar', 'Gvar', 'Bvar', 'Up10', 'Rp10', 'Gp10', 'Bp10', 'Up90', 'Rp90', 'Gp90', 'Bp90']\n"
     ]
    },
    {
     "name": "stderr",
     "output_type": "stream",
     "text": [
      "Header section Parameter regexp=~P was not found.\n"
     ]
    },
    {
     "name": "stdout",
     "output_type": "stream",
     "text": [
      "Adding NaN log:  SP\n",
      "Adding NaN log:  DTS1\n",
      "Adding NaN log:  DTS2\n",
      "Feature shapes:  [('depth', (3873,)), ('top', (3873,)), ('base', (3873,)), ('pseudoGR', (3873, 32, 16)), ('logs', (3873, 11))]\n",
      "Loading Well:  204-20-1Z  from  /home/administrator/Dropbox/core_data/facies/train_data\n",
      "Extracted pGR features:  ['Umean', 'Rmean', 'Gmean', 'Bmean', 'Uvar', 'Rvar', 'Gvar', 'Bvar', 'Up10', 'Rp10', 'Gp10', 'Bp10', 'Up90', 'Rp90', 'Gp90', 'Bp90']\n"
     ]
    },
    {
     "name": "stderr",
     "output_type": "stream",
     "text": [
      "Header section Parameter regexp=~P was not found.\n"
     ]
    },
    {
     "name": "stdout",
     "output_type": "stream",
     "text": [
      "Adding NaN log:  SP\n",
      "Adding NaN log:  DTS1\n",
      "Adding NaN log:  DTS2\n",
      "Feature shapes:  [('depth', (1917,)), ('top', (1917,)), ('base', (1917,)), ('pseudoGR', (1917, 32, 16)), ('logs', (1917, 11))]\n",
      "Loading Well:  204-24a-6  from  /home/administrator/Dropbox/core_data/facies/train_data\n",
      "Extracted pGR features:  ['Umean', 'Rmean', 'Gmean', 'Bmean', 'Uvar', 'Rvar', 'Gvar', 'Bvar', 'Up10', 'Rp10', 'Gp10', 'Bp10', 'Up90', 'Rp90', 'Gp90', 'Bp90']\n"
     ]
    },
    {
     "name": "stderr",
     "output_type": "stream",
     "text": [
      "Header section Parameter regexp=~P was not found.\n"
     ]
    },
    {
     "name": "stdout",
     "output_type": "stream",
     "text": [
      "Adding NaN log:  SP\n",
      "Adding NaN log:  DTS1\n",
      "Adding NaN log:  DTS2\n",
      "Feature shapes:  [('depth', (13006,)), ('top', (13006,)), ('base', (13006,)), ('pseudoGR', (13006, 32, 16)), ('logs', (13006, 11))]\n",
      "Loading Well:  204-19-6  from  /home/administrator/Dropbox/core_data/facies/train_data\n"
     ]
    },
    {
     "name": "stderr",
     "output_type": "stream",
     "text": [
      "/home/administrator/code/python/coremdlr/coremdlr/facies/datasets/utils.py:86: RuntimeWarning: Mean of empty slice\n",
      "  output_features.append(np.nanmean(img, axis=1))\n",
      "/home/administrator/code/python/coremdlr/coremdlr/facies/datasets/utils.py:90: RuntimeWarning: Degrees of freedom <= 0 for slice.\n",
      "  output_features.append(np.nanvar(img, axis=1))\n",
      "/home/administrator/anaconda3/envs/core-dev/lib/python3.6/site-packages/numpy/lib/nanfunctions.py:1283: RuntimeWarning: All-NaN slice encountered\n",
      "  overwrite_input, interpolation)\n"
     ]
    },
    {
     "name": "stdout",
     "output_type": "stream",
     "text": [
      "Extracted pGR features:  ['Umean', 'Rmean', 'Gmean', 'Bmean', 'Uvar', 'Rvar', 'Gvar', 'Bvar', 'Up10', 'Rp10', 'Gp10', 'Bp10', 'Up90', 'Rp90', 'Gp90', 'Bp90']\n"
     ]
    },
    {
     "name": "stderr",
     "output_type": "stream",
     "text": [
      "Header section Parameter regexp=~P was not found.\n"
     ]
    },
    {
     "name": "stdout",
     "output_type": "stream",
     "text": [
      "Adding NaN log:  DTS\n",
      "Feature shapes:  [('depth', (1884,)), ('top', (1884,)), ('base', (1884,)), ('pseudoGR', (1884, 32, 16)), ('logs', (1884, 11))]\n",
      "Training model for feature:  pseudoGR\n",
      "F1 score: 0.47900840239498244\n",
      "Training model for feature:  pseudoGR\n",
      "F1 score: 0.48391509838463426\n",
      "Training model for feature:  pseudoGR\n",
      "F1 score: 0.4851532473564792\n",
      "Training model for feature:  pseudoGR\n",
      "F1 score: 0.4657975089223696\n",
      "Training model for feature:  pseudoGR\n",
      "F1 score: 0.4238167186371662\n",
      "Training model for feature:  pseudoGR\n",
      "F1 score: 0.48682683831788126\n",
      "Training model for feature:  pseudoGR\n",
      "F1 score: 0.4734775501898485\n",
      "Training model for feature:  pseudoGR\n",
      "F1 score: 0.4634346061634945\n",
      "Training model for feature:  pseudoGR\n",
      "F1 score: 0.46978017714426856\n",
      "Training model for feature:  pseudoGR\n",
      "F1 score: 0.47979686024447177\n",
      "Training model for feature:  pseudoGR\n",
      "F1 score: 0.4710692707515868\n",
      "Training model for feature:  pseudoGR\n",
      "F1 score: 0.45480042666588905\n",
      "Training model for feature:  pseudoGR\n",
      "F1 score: 0.47931336516449885\n",
      "Training model for feature:  pseudoGR\n",
      "F1 score: 0.48260806739208456\n",
      "Training model for feature:  pseudoGR\n",
      "F1 score: 0.47523002527618297\n",
      "Training model for feature:  pseudoGR\n",
      "F1 score: 0.4847966698795785\n",
      "Training model for feature:  pseudoGR\n",
      "F1 score: 0.4796982725796803\n",
      "Training model for feature:  pseudoGR\n",
      "F1 score: 0.46320767010141917\n",
      "Training model for feature:  pseudoGR\n",
      "F1 score: 0.4376478197261328\n",
      "Training model for feature:  pseudoGR\n",
      "F1 score: 0.47232416170118086\n",
      "Training model for feature:  pseudoGR\n",
      "F1 score: 0.4778813853735377\n",
      "Training model for feature:  pseudoGR\n",
      "F1 score: 0.4858681441269852\n",
      "Training model for feature:  pseudoGR\n",
      "F1 score: 0.461197737569336\n",
      "Training model for feature:  pseudoGR\n",
      "F1 score: 0.4689990169894908\n",
      "Training model for feature:  pseudoGR\n",
      "F1 score: 0.46553444561327834\n",
      "Training model for feature:  pseudoGR\n",
      "                      precision    recall  f1-score   support\n",
      "\n",
      "           sandstone       0.76      0.80      0.78       934\n",
      "clay-prone sandstone       0.20      0.07      0.11       307\n",
      "      sandy mudstone       0.31      0.47      0.37       285\n",
      "            mudstone       0.60      0.57      0.58       358\n",
      "\n",
      "           micro avg       0.59      0.59      0.59      1884\n",
      "           macro avg       0.47      0.48      0.46      1884\n",
      "        weighted avg       0.57      0.59      0.57      1884\n",
      "\n",
      "Total accuracy Score :  0.5897027600849257\n",
      "Confusion Matrix: \n",
      " [[749  57  87  41]\n",
      " [161  23 103  20]\n",
      " [ 51  24 135  75]\n",
      " [ 29  10 115 204]]\n",
      "\n",
      "Feature Importances:\n",
      "('Rp90_mean', 0.06498828)\n",
      "('Bp90_mean', 0.059501074)\n",
      "('Bp10_mean', 0.043813)\n",
      "('Bmean_median', 0.039836593)\n",
      "('Bvar_median', 0.038398318)\n",
      "('Bmean_mean', 0.036234863)\n",
      "('Bvar_mean', 0.0345186)\n",
      "('Rmean_mean', 0.034107666)\n",
      "('Bp90_median', 0.033636298)\n",
      "('Bp90_var', 0.032476008)\n",
      "('Bp10_median', 0.03243975)\n",
      "('Rp10_mean', 0.030880611)\n",
      "('Rmean_median', 0.028414996)\n",
      "('Rp90_median', 0.026541613)\n",
      "('Bp10_var', 0.026009815)\n",
      "('Rvar_var', 0.023387078)\n",
      "('Rvar_mean', 0.022565207)\n",
      "('Rp10_median', 0.022250962)\n",
      "('Rp10_var', 0.021501608)\n",
      "('Bmean_var', 0.021284053)\n",
      "('Rp90_var', 0.02089729)\n",
      "('Rvar_median', 0.020341318)\n",
      "('Gp90_mean', 0.019749088)\n",
      "('Bvar_var', 0.019434843)\n",
      "('Up10_var', 0.015349658)\n",
      "('Gp10_var', 0.015289227)\n",
      "('Up90_median', 0.013572965)\n",
      "('Up90_var', 0.0134521015)\n",
      "('Rmean_var', 0.0131378565)\n",
      "('Gp90_var', 0.012992821)\n",
      "('Uvar_mean', 0.012654403)\n",
      "('Gp10_mean', 0.012630231)\n",
      "('Gp90_median', 0.012473108)\n",
      "('Gmean_var', 0.010430516)\n",
      "('Gp10_median', 0.009983321)\n",
      "('Up90_mean', 0.009983321)\n",
      "('Up10_mean', 0.009874544)\n",
      "('Gmean_median', 0.009632817)\n",
      "('Uvar_var', 0.008424182)\n",
      "('Umean_var', 0.008412096)\n",
      "('Gvar_mean', 0.00840001)\n",
      "('Gmean_mean', 0.008122024)\n",
      "('Umean_mean', 0.008109937)\n",
      "('Gvar_median', 0.007747347)\n",
      "('Uvar_median', 0.0076869153)\n",
      "('Up10_median', 0.0068892166)\n",
      "('Gvar_var', 0.0059343954)\n",
      "('Umean_median', 0.005608064)\n",
      "Loading Well:  204-19-6  from  /home/administrator/Dropbox/core_data/facies/train_data\n"
     ]
    },
    {
     "name": "stderr",
     "output_type": "stream",
     "text": [
      "/home/administrator/code/python/coremdlr/coremdlr/facies/datasets/utils.py:86: RuntimeWarning: Mean of empty slice\n",
      "  output_features.append(np.nanmean(img, axis=1))\n",
      "/home/administrator/code/python/coremdlr/coremdlr/facies/datasets/utils.py:90: RuntimeWarning: Degrees of freedom <= 0 for slice.\n",
      "  output_features.append(np.nanvar(img, axis=1))\n",
      "/home/administrator/anaconda3/envs/core-dev/lib/python3.6/site-packages/numpy/lib/nanfunctions.py:1283: RuntimeWarning: All-NaN slice encountered\n",
      "  overwrite_input, interpolation)\n"
     ]
    },
    {
     "name": "stdout",
     "output_type": "stream",
     "text": [
      "Extracted pGR features:  ['Umean', 'Rmean', 'Gmean', 'Bmean', 'Uvar', 'Rvar', 'Gvar', 'Bvar', 'Up10', 'Rp10', 'Gp10', 'Bp10', 'Up90', 'Rp90', 'Gp90', 'Bp90']\n"
     ]
    },
    {
     "name": "stderr",
     "output_type": "stream",
     "text": [
      "Header section Parameter regexp=~P was not found.\n"
     ]
    },
    {
     "name": "stdout",
     "output_type": "stream",
     "text": [
      "Adding NaN log:  DTS\n",
      "Feature shapes:  [('depth', (1884,)), ('top', (1884,)), ('base', (1884,)), ('pseudoGR', (1884, 32, 16)), ('logs', (1884, 11))]\n",
      "Loading Well:  205-21b-3  from  /home/administrator/Dropbox/core_data/facies/train_data\n",
      "Extracted pGR features:  ['Umean', 'Rmean', 'Gmean', 'Bmean', 'Uvar', 'Rvar', 'Gvar', 'Bvar', 'Up10', 'Rp10', 'Gp10', 'Bp10', 'Up90', 'Rp90', 'Gp90', 'Bp90']\n"
     ]
    },
    {
     "name": "stderr",
     "output_type": "stream",
     "text": [
      "Header section Parameter regexp=~P was not found.\n"
     ]
    },
    {
     "name": "stdout",
     "output_type": "stream",
     "text": [
      "Adding NaN log:  SP\n",
      "Adding NaN log:  DTS\n",
      "Feature shapes:  [('depth', (3842,)), ('top', (3842,)), ('base', (3842,)), ('pseudoGR', (3842, 32, 16)), ('logs', (3842, 11))]\n",
      "Loading Well:  204-20-6a  from  /home/administrator/Dropbox/core_data/facies/train_data\n",
      "Extracted pGR features:  ['Umean', 'Rmean', 'Gmean', 'Bmean', 'Uvar', 'Rvar', 'Gvar', 'Bvar', 'Up10', 'Rp10', 'Gp10', 'Bp10', 'Up90', 'Rp90', 'Gp90', 'Bp90']\n"
     ]
    },
    {
     "name": "stderr",
     "output_type": "stream",
     "text": [
      "Header section Parameter regexp=~P was not found.\n"
     ]
    },
    {
     "name": "stdout",
     "output_type": "stream",
     "text": [
      "Adding NaN log:  SP\n",
      "Adding NaN log:  DTS1\n",
      "Adding NaN log:  DTS2\n",
      "Feature shapes:  [('depth', (3873,)), ('top', (3873,)), ('base', (3873,)), ('pseudoGR', (3873, 32, 16)), ('logs', (3873, 11))]\n",
      "Loading Well:  204-20-1Z  from  /home/administrator/Dropbox/core_data/facies/train_data\n",
      "Extracted pGR features:  ['Umean', 'Rmean', 'Gmean', 'Bmean', 'Uvar', 'Rvar', 'Gvar', 'Bvar', 'Up10', 'Rp10', 'Gp10', 'Bp10', 'Up90', 'Rp90', 'Gp90', 'Bp90']\n"
     ]
    },
    {
     "name": "stderr",
     "output_type": "stream",
     "text": [
      "Header section Parameter regexp=~P was not found.\n"
     ]
    },
    {
     "name": "stdout",
     "output_type": "stream",
     "text": [
      "Adding NaN log:  SP\n",
      "Adding NaN log:  DTS1\n",
      "Adding NaN log:  DTS2\n",
      "Feature shapes:  [('depth', (1917,)), ('top', (1917,)), ('base', (1917,)), ('pseudoGR', (1917, 32, 16)), ('logs', (1917, 11))]\n",
      "Loading Well:  204-24a-6  from  /home/administrator/Dropbox/core_data/facies/train_data\n"
     ]
    },
    {
     "name": "stderr",
     "output_type": "stream",
     "text": [
      "/home/administrator/code/python/coremdlr/coremdlr/facies/datasets/utils.py:86: RuntimeWarning: Mean of empty slice\n",
      "  output_features.append(np.nanmean(img, axis=1))\n",
      "/home/administrator/code/python/coremdlr/coremdlr/facies/datasets/utils.py:90: RuntimeWarning: Degrees of freedom <= 0 for slice.\n",
      "  output_features.append(np.nanvar(img, axis=1))\n",
      "/home/administrator/anaconda3/envs/core-dev/lib/python3.6/site-packages/numpy/lib/nanfunctions.py:1283: RuntimeWarning: All-NaN slice encountered\n",
      "  overwrite_input, interpolation)\n"
     ]
    },
    {
     "name": "stdout",
     "output_type": "stream",
     "text": [
      "Extracted pGR features:  ['Umean', 'Rmean', 'Gmean', 'Bmean', 'Uvar', 'Rvar', 'Gvar', 'Bvar', 'Up10', 'Rp10', 'Gp10', 'Bp10', 'Up90', 'Rp90', 'Gp90', 'Bp90']\n"
     ]
    },
    {
     "name": "stderr",
     "output_type": "stream",
     "text": [
      "Header section Parameter regexp=~P was not found.\n"
     ]
    },
    {
     "name": "stdout",
     "output_type": "stream",
     "text": [
      "Adding NaN log:  SP\n",
      "Adding NaN log:  DTS1\n",
      "Adding NaN log:  DTS2\n",
      "Feature shapes:  [('depth', (13006,)), ('top', (13006,)), ('base', (13006,)), ('pseudoGR', (13006, 32, 16)), ('logs', (13006, 11))]\n",
      "Training model for feature:  pseudoGR\n",
      "F1 score: 0.38235381983096145\n",
      "Training model for feature:  pseudoGR\n",
      "F1 score: 0.39332240667130847\n",
      "Training model for feature:  pseudoGR\n",
      "F1 score: 0.3792756654204229\n",
      "Training model for feature:  pseudoGR\n",
      "F1 score: 0.3912924753888919\n",
      "Training model for feature:  pseudoGR\n",
      "F1 score: 0.3967680773606794\n",
      "Training model for feature:  pseudoGR\n",
      "F1 score: 0.38840162129277656\n",
      "Training model for feature:  pseudoGR\n",
      "F1 score: 0.3892567025147417\n",
      "Training model for feature:  pseudoGR\n",
      "F1 score: 0.3859113293974244\n",
      "Training model for feature:  pseudoGR\n",
      "F1 score: 0.3898587719849509\n",
      "Training model for feature:  pseudoGR\n",
      "F1 score: 0.3893984931949166\n",
      "Training model for feature:  pseudoGR\n",
      "F1 score: 0.3959050511871932\n",
      "Training model for feature:  pseudoGR\n",
      "F1 score: 0.38674718447157563\n",
      "Training model for feature:  pseudoGR\n",
      "F1 score: 0.39294885120783074\n",
      "Training model for feature:  pseudoGR\n",
      "F1 score: 0.3898411295893152\n",
      "Training model for feature:  pseudoGR\n",
      "F1 score: 0.38515904228247166\n",
      "Training model for feature:  pseudoGR\n",
      "F1 score: 0.3899844990976643\n",
      "Training model for feature:  pseudoGR\n",
      "F1 score: 0.3946877532048354\n",
      "Training model for feature:  pseudoGR\n",
      "F1 score: 0.3975569970165288\n",
      "Training model for feature:  pseudoGR\n",
      "F1 score: 0.3826622169746332\n",
      "Training model for feature:  pseudoGR\n",
      "F1 score: 0.38635845865694546\n",
      "Training model for feature:  pseudoGR\n",
      "F1 score: 0.381870980542771\n",
      "Training model for feature:  pseudoGR\n",
      "F1 score: 0.3847947590864904\n",
      "Training model for feature:  pseudoGR\n",
      "F1 score: 0.3814897570533753\n",
      "Training model for feature:  pseudoGR\n",
      "F1 score: 0.38544531059694703\n",
      "Training model for feature:  pseudoGR\n",
      "F1 score: 0.386911450479153\n",
      "Training model for feature:  pseudoGR\n",
      "                      precision    recall  f1-score   support\n",
      "\n",
      "           sandstone       0.57      0.68      0.62      3936\n",
      "clay-prone sandstone       0.18      0.08      0.11      1358\n",
      "      sandy mudstone       0.20      0.40      0.26      2074\n",
      "            mudstone       0.79      0.48      0.60      5638\n",
      "\n",
      "           micro avg       0.48      0.48      0.48     13006\n",
      "           macro avg       0.43      0.41      0.40     13006\n",
      "        weighted avg       0.56      0.48      0.50     13006\n",
      "\n",
      "Total accuracy Score :  0.48462248193141627\n",
      "Confusion Matrix: \n",
      " [[2665  214  827  230]\n",
      " [ 648  108  446  156]\n",
      " [ 744  148  829  353]\n",
      " [ 652  143 2142 2701]]\n",
      "\n",
      "Feature Importances:\n",
      "('Rp90_mean', 0.054175563)\n",
      "('Bp90_mean', 0.053725976)\n",
      "('Bp10_mean', 0.048892885)\n",
      "('Bmean_mean', 0.04214904)\n",
      "('Bp90_var', 0.038777117)\n",
      "('Bp90_median', 0.03636057)\n",
      "('Bvar_mean', 0.032707654)\n",
      "('Rmean_mean', 0.032145668)\n",
      "('Bvar_median', 0.031696077)\n",
      "('Rp90_var', 0.030178713)\n",
      "('Rmean_median', 0.028661346)\n",
      "('Rp10_var', 0.027312577)\n",
      "('Bmean_var', 0.026357198)\n",
      "('Rvar_var', 0.025963807)\n",
      "('Bp10_median', 0.025570417)\n",
      "('Bp10_var', 0.024896033)\n",
      "('Umean_mean', 0.023828257)\n",
      "('Bvar_var', 0.023772057)\n",
      "('Rp10_mean', 0.022872878)\n",
      "('Rp90_median', 0.022591885)\n",
      "('Bmean_median', 0.021130718)\n",
      "('Rmean_var', 0.020512532)\n",
      "('Uvar_mean', 0.019051366)\n",
      "('Up90_var', 0.018995168)\n",
      "('Up10_mean', 0.01888277)\n",
      "('Rvar_mean', 0.01882657)\n",
      "('Umean_var', 0.018039789)\n",
      "('Uvar_var', 0.015679443)\n",
      "('Up90_mean', 0.0156232435)\n",
      "('Rvar_median', 0.015454648)\n",
      "('Up90_median', 0.014105879)\n",
      "('Rp10_median', 0.013824885)\n",
      "('Up10_median', 0.013824885)\n",
      "('Up10_var', 0.013262898)\n",
      "('Gp90_mean', 0.0121951215)\n",
      "('Gp10_mean', 0.011633134)\n",
      "('Gmean_mean', 0.009553782)\n",
      "('Gp10_var', 0.00921659)\n",
      "('Gmean_var', 0.008767)\n",
      "('Uvar_median', 0.008654603)\n",
      "('Gp90_var', 0.0073620323)\n",
      "('Gp90_median', 0.006968641)\n",
      "('Umean_median', 0.006968641)\n",
      "('Gvar_median', 0.006631449)\n",
      "('Gp10_median', 0.005957064)\n",
      "('Gmean_median', 0.005788468)\n",
      "('Gvar_var', 0.005619872)\n",
      "('Gvar_mean', 0.0048330897)\n",
      "Loading Well:  204-24a-6  from  /home/administrator/Dropbox/core_data/facies/train_data\n"
     ]
    },
    {
     "name": "stderr",
     "output_type": "stream",
     "text": [
      "/home/administrator/code/python/coremdlr/coremdlr/facies/datasets/utils.py:86: RuntimeWarning: Mean of empty slice\n",
      "  output_features.append(np.nanmean(img, axis=1))\n",
      "/home/administrator/code/python/coremdlr/coremdlr/facies/datasets/utils.py:90: RuntimeWarning: Degrees of freedom <= 0 for slice.\n",
      "  output_features.append(np.nanvar(img, axis=1))\n",
      "/home/administrator/anaconda3/envs/core-dev/lib/python3.6/site-packages/numpy/lib/nanfunctions.py:1283: RuntimeWarning: All-NaN slice encountered\n",
      "  overwrite_input, interpolation)\n"
     ]
    },
    {
     "name": "stdout",
     "output_type": "stream",
     "text": [
      "Extracted pGR features:  ['Umean', 'Rmean', 'Gmean', 'Bmean', 'Uvar', 'Rvar', 'Gvar', 'Bvar', 'Up10', 'Rp10', 'Gp10', 'Bp10', 'Up90', 'Rp90', 'Gp90', 'Bp90']\n"
     ]
    },
    {
     "name": "stderr",
     "output_type": "stream",
     "text": [
      "Header section Parameter regexp=~P was not found.\n"
     ]
    },
    {
     "name": "stdout",
     "output_type": "stream",
     "text": [
      "Adding NaN log:  SP\n",
      "Adding NaN log:  DTS1\n",
      "Adding NaN log:  DTS2\n",
      "Feature shapes:  [('depth', (13006,)), ('top', (13006,)), ('base', (13006,)), ('pseudoGR', (13006, 32, 16)), ('logs', (13006, 11))]\n",
      "Loading Well:  204-19-6  from  /home/administrator/Dropbox/core_data/facies/train_data\n",
      "Extracted pGR features:  ['Umean', 'Rmean', 'Gmean', 'Bmean', 'Uvar', 'Rvar', 'Gvar', 'Bvar', 'Up10', 'Rp10', 'Gp10', 'Bp10', 'Up90', 'Rp90', 'Gp90', 'Bp90']\n"
     ]
    },
    {
     "name": "stderr",
     "output_type": "stream",
     "text": [
      "Header section Parameter regexp=~P was not found.\n"
     ]
    },
    {
     "name": "stdout",
     "output_type": "stream",
     "text": [
      "Adding NaN log:  DTS\n",
      "Feature shapes:  [('depth', (1884,)), ('top', (1884,)), ('base', (1884,)), ('pseudoGR', (1884, 32, 16)), ('logs', (1884, 11))]\n",
      "Loading Well:  205-21b-3  from  /home/administrator/Dropbox/core_data/facies/train_data\n",
      "Extracted pGR features:  ['Umean', 'Rmean', 'Gmean', 'Bmean', 'Uvar', 'Rvar', 'Gvar', 'Bvar', 'Up10', 'Rp10', 'Gp10', 'Bp10', 'Up90', 'Rp90', 'Gp90', 'Bp90']\n"
     ]
    },
    {
     "name": "stderr",
     "output_type": "stream",
     "text": [
      "Header section Parameter regexp=~P was not found.\n"
     ]
    },
    {
     "name": "stdout",
     "output_type": "stream",
     "text": [
      "Adding NaN log:  SP\n",
      "Adding NaN log:  DTS\n",
      "Feature shapes:  [('depth', (3842,)), ('top', (3842,)), ('base', (3842,)), ('pseudoGR', (3842, 32, 16)), ('logs', (3842, 11))]\n",
      "Loading Well:  204-20-6a  from  /home/administrator/Dropbox/core_data/facies/train_data\n",
      "Extracted pGR features:  ['Umean', 'Rmean', 'Gmean', 'Bmean', 'Uvar', 'Rvar', 'Gvar', 'Bvar', 'Up10', 'Rp10', 'Gp10', 'Bp10', 'Up90', 'Rp90', 'Gp90', 'Bp90']\n"
     ]
    },
    {
     "name": "stderr",
     "output_type": "stream",
     "text": [
      "Header section Parameter regexp=~P was not found.\n"
     ]
    },
    {
     "name": "stdout",
     "output_type": "stream",
     "text": [
      "Adding NaN log:  SP\n",
      "Adding NaN log:  DTS1\n",
      "Adding NaN log:  DTS2\n",
      "Feature shapes:  [('depth', (3873,)), ('top', (3873,)), ('base', (3873,)), ('pseudoGR', (3873, 32, 16)), ('logs', (3873, 11))]\n",
      "Loading Well:  204-20-1Z  from  /home/administrator/Dropbox/core_data/facies/train_data\n"
     ]
    },
    {
     "name": "stderr",
     "output_type": "stream",
     "text": [
      "/home/administrator/code/python/coremdlr/coremdlr/facies/datasets/utils.py:86: RuntimeWarning: Mean of empty slice\n",
      "  output_features.append(np.nanmean(img, axis=1))\n",
      "/home/administrator/code/python/coremdlr/coremdlr/facies/datasets/utils.py:90: RuntimeWarning: Degrees of freedom <= 0 for slice.\n",
      "  output_features.append(np.nanvar(img, axis=1))\n",
      "/home/administrator/anaconda3/envs/core-dev/lib/python3.6/site-packages/numpy/lib/nanfunctions.py:1283: RuntimeWarning: All-NaN slice encountered\n",
      "  overwrite_input, interpolation)\n"
     ]
    },
    {
     "name": "stdout",
     "output_type": "stream",
     "text": [
      "Extracted pGR features:  ['Umean', 'Rmean', 'Gmean', 'Bmean', 'Uvar', 'Rvar', 'Gvar', 'Bvar', 'Up10', 'Rp10', 'Gp10', 'Bp10', 'Up90', 'Rp90', 'Gp90', 'Bp90']\n"
     ]
    },
    {
     "name": "stderr",
     "output_type": "stream",
     "text": [
      "Header section Parameter regexp=~P was not found.\n"
     ]
    },
    {
     "name": "stdout",
     "output_type": "stream",
     "text": [
      "Adding NaN log:  SP\n",
      "Adding NaN log:  DTS1\n",
      "Adding NaN log:  DTS2\n",
      "Feature shapes:  [('depth', (1917,)), ('top', (1917,)), ('base', (1917,)), ('pseudoGR', (1917, 32, 16)), ('logs', (1917, 11))]\n",
      "Training model for feature:  pseudoGR\n",
      "F1 score: 0.313433869878164\n",
      "Training model for feature:  pseudoGR\n",
      "F1 score: 0.3173499819597482\n",
      "Training model for feature:  pseudoGR\n",
      "F1 score: 0.32232741330243875\n",
      "Training model for feature:  pseudoGR\n",
      "F1 score: 0.33661654252516676\n",
      "Training model for feature:  pseudoGR\n",
      "F1 score: 0.3289738607933301\n",
      "Training model for feature:  pseudoGR\n",
      "F1 score: 0.3133728828032707\n",
      "Training model for feature:  pseudoGR\n",
      "F1 score: 0.304751863579288\n",
      "Training model for feature:  pseudoGR\n",
      "F1 score: 0.3212943382851585\n",
      "Training model for feature:  pseudoGR\n",
      "F1 score: 0.3166020058095402\n",
      "Training model for feature:  pseudoGR\n",
      "F1 score: 0.32292165756642804\n",
      "Training model for feature:  pseudoGR\n",
      "F1 score: 0.3169347577812907\n",
      "Training model for feature:  pseudoGR\n",
      "F1 score: 0.3091435377528779\n",
      "Training model for feature:  pseudoGR\n",
      "F1 score: 0.31590110854592957\n",
      "Training model for feature:  pseudoGR\n",
      "F1 score: 0.3274749030228866\n",
      "Training model for feature:  pseudoGR\n",
      "F1 score: 0.33645504740232796\n",
      "Training model for feature:  pseudoGR\n",
      "F1 score: 0.31781073016403155\n",
      "Training model for feature:  pseudoGR\n",
      "F1 score: 0.32322901151554234\n",
      "Training model for feature:  pseudoGR\n",
      "F1 score: 0.2809587280583995\n",
      "Training model for feature:  pseudoGR\n",
      "F1 score: 0.32344872028578836\n",
      "Training model for feature:  pseudoGR\n",
      "F1 score: 0.3209820188272819\n",
      "Training model for feature:  pseudoGR\n",
      "F1 score: 0.35055518505194405\n",
      "Training model for feature:  pseudoGR\n",
      "F1 score: 0.32596077239445614\n",
      "Training model for feature:  pseudoGR\n",
      "F1 score: 0.3221330197072362\n",
      "Training model for feature:  pseudoGR\n",
      "F1 score: 0.3255747343982638\n",
      "Training model for feature:  pseudoGR\n",
      "F1 score: 0.30937433486350197\n",
      "Training model for feature:  pseudoGR\n",
      "                      precision    recall  f1-score   support\n",
      "\n",
      "           sandstone       0.90      0.76      0.83      1601\n",
      "clay-prone sandstone       0.08      0.05      0.06       102\n",
      "      sandy mudstone       0.17      0.38      0.24       140\n",
      "            mudstone       0.13      0.35      0.19        74\n",
      "\n",
      "           micro avg       0.68      0.68      0.68      1917\n",
      "           macro avg       0.32      0.38      0.33      1917\n",
      "        weighted avg       0.78      0.68      0.72      1917\n",
      "\n",
      "Total accuracy Score :  0.6776212832550861\n",
      "Confusion Matrix: \n",
      " [[1215   53  200  133]\n",
      " [  53    5   32   12]\n",
      " [  52    1   53   34]\n",
      " [  23    3   22   26]]\n",
      "\n",
      "Feature Importances:\n",
      "('Rp90_mean', 0.05796778)\n",
      "('Bp90_mean', 0.053726234)\n",
      "('Bp10_mean', 0.042452656)\n",
      "('Bmean_mean', 0.038657587)\n",
      "('Rmean_mean', 0.03724374)\n",
      "('Bmean_median', 0.03519738)\n",
      "('Bvar_mean', 0.03400677)\n",
      "('Bvar_median', 0.033225436)\n",
      "('Bp90_median', 0.033151023)\n",
      "('Bp90_var', 0.033039402)\n",
      "('Bp10_median', 0.03207203)\n",
      "('Rp10_mean', 0.028500205)\n",
      "('Rmean_median', 0.027681662)\n",
      "('Rp90_median', 0.025374856)\n",
      "('Rp10_median', 0.023402909)\n",
      "('Bvar_var', 0.02317967)\n",
      "('Bmean_var', 0.023142464)\n",
      "('Bp10_var', 0.02232392)\n",
      "('Rp90_var', 0.021840235)\n",
      "('Rp10_var', 0.021058898)\n",
      "('Rvar_var', 0.019496223)\n",
      "('Rvar_median', 0.019049745)\n",
      "('Rvar_mean', 0.01845444)\n",
      "('Rmean_var', 0.018305615)\n",
      "('Up90_var', 0.017487071)\n",
      "('Gp90_mean', 0.016668526)\n",
      "('Gp10_mean', 0.015031439)\n",
      "('Up90_median', 0.014845407)\n",
      "('Gp90_var', 0.0140268635)\n",
      "('Gp10_var', 0.013840831)\n",
      "('Up10_var', 0.013692005)\n",
      "('Uvar_mean', 0.013171113)\n",
      "('Up90_mean', 0.012873461)\n",
      "('Gmean_median', 0.012464189)\n",
      "('Gmean_mean', 0.011720058)\n",
      "('Umean_mean', 0.011013133)\n",
      "('Umean_var', 0.010752688)\n",
      "('Up10_mean', 0.010120177)\n",
      "('Gp10_median', 0.010045764)\n",
      "('Gmean_var', 0.009859731)\n",
      "('Up10_median', 0.009785319)\n",
      "('Uvar_var', 0.009152807)\n",
      "('Uvar_median', 0.009041187)\n",
      "('Umean_median', 0.009041187)\n",
      "('Gp90_median', 0.008855155)\n",
      "('Gvar_median', 0.008855155)\n",
      "('Gvar_mean', 0.008185437)\n",
      "('Gvar_var', 0.0069204154)\n",
      "Loading Well:  204-20-1Z  from  /home/administrator/Dropbox/core_data/facies/train_data\n"
     ]
    },
    {
     "name": "stderr",
     "output_type": "stream",
     "text": [
      "/home/administrator/code/python/coremdlr/coremdlr/facies/datasets/utils.py:86: RuntimeWarning: Mean of empty slice\n",
      "  output_features.append(np.nanmean(img, axis=1))\n",
      "/home/administrator/code/python/coremdlr/coremdlr/facies/datasets/utils.py:90: RuntimeWarning: Degrees of freedom <= 0 for slice.\n",
      "  output_features.append(np.nanvar(img, axis=1))\n",
      "/home/administrator/anaconda3/envs/core-dev/lib/python3.6/site-packages/numpy/lib/nanfunctions.py:1283: RuntimeWarning: All-NaN slice encountered\n",
      "  overwrite_input, interpolation)\n"
     ]
    },
    {
     "name": "stdout",
     "output_type": "stream",
     "text": [
      "Extracted pGR features:  ['Umean', 'Rmean', 'Gmean', 'Bmean', 'Uvar', 'Rvar', 'Gvar', 'Bvar', 'Up10', 'Rp10', 'Gp10', 'Bp10', 'Up90', 'Rp90', 'Gp90', 'Bp90']\n"
     ]
    },
    {
     "name": "stderr",
     "output_type": "stream",
     "text": [
      "Header section Parameter regexp=~P was not found.\n"
     ]
    },
    {
     "name": "stdout",
     "output_type": "stream",
     "text": [
      "Adding NaN log:  SP\n",
      "Adding NaN log:  DTS1\n",
      "Adding NaN log:  DTS2\n",
      "Feature shapes:  [('depth', (1917,)), ('top', (1917,)), ('base', (1917,)), ('pseudoGR', (1917, 32, 16)), ('logs', (1917, 11))]\n",
      "Loading Well:  204-24a-6  from  /home/administrator/Dropbox/core_data/facies/train_data\n",
      "Extracted pGR features:  ['Umean', 'Rmean', 'Gmean', 'Bmean', 'Uvar', 'Rvar', 'Gvar', 'Bvar', 'Up10', 'Rp10', 'Gp10', 'Bp10', 'Up90', 'Rp90', 'Gp90', 'Bp90']\n"
     ]
    },
    {
     "name": "stderr",
     "output_type": "stream",
     "text": [
      "Header section Parameter regexp=~P was not found.\n"
     ]
    },
    {
     "name": "stdout",
     "output_type": "stream",
     "text": [
      "Adding NaN log:  SP\n",
      "Adding NaN log:  DTS1\n",
      "Adding NaN log:  DTS2\n",
      "Feature shapes:  [('depth', (13006,)), ('top', (13006,)), ('base', (13006,)), ('pseudoGR', (13006, 32, 16)), ('logs', (13006, 11))]\n",
      "Loading Well:  204-19-6  from  /home/administrator/Dropbox/core_data/facies/train_data\n",
      "Extracted pGR features:  ['Umean', 'Rmean', 'Gmean', 'Bmean', 'Uvar', 'Rvar', 'Gvar', 'Bvar', 'Up10', 'Rp10', 'Gp10', 'Bp10', 'Up90', 'Rp90', 'Gp90', 'Bp90']\n"
     ]
    },
    {
     "name": "stderr",
     "output_type": "stream",
     "text": [
      "Header section Parameter regexp=~P was not found.\n"
     ]
    },
    {
     "name": "stdout",
     "output_type": "stream",
     "text": [
      "Adding NaN log:  DTS\n",
      "Feature shapes:  [('depth', (1884,)), ('top', (1884,)), ('base', (1884,)), ('pseudoGR', (1884, 32, 16)), ('logs', (1884, 11))]\n",
      "Loading Well:  205-21b-3  from  /home/administrator/Dropbox/core_data/facies/train_data\n",
      "Extracted pGR features:  ['Umean', 'Rmean', 'Gmean', 'Bmean', 'Uvar', 'Rvar', 'Gvar', 'Bvar', 'Up10', 'Rp10', 'Gp10', 'Bp10', 'Up90', 'Rp90', 'Gp90', 'Bp90']\n"
     ]
    },
    {
     "name": "stderr",
     "output_type": "stream",
     "text": [
      "Header section Parameter regexp=~P was not found.\n"
     ]
    },
    {
     "name": "stdout",
     "output_type": "stream",
     "text": [
      "Adding NaN log:  SP\n",
      "Adding NaN log:  DTS\n",
      "Feature shapes:  [('depth', (3842,)), ('top', (3842,)), ('base', (3842,)), ('pseudoGR', (3842, 32, 16)), ('logs', (3842, 11))]\n",
      "Loading Well:  204-20-6a  from  /home/administrator/Dropbox/core_data/facies/train_data\n"
     ]
    },
    {
     "name": "stderr",
     "output_type": "stream",
     "text": [
      "/home/administrator/code/python/coremdlr/coremdlr/facies/datasets/utils.py:86: RuntimeWarning: Mean of empty slice\n",
      "  output_features.append(np.nanmean(img, axis=1))\n",
      "/home/administrator/code/python/coremdlr/coremdlr/facies/datasets/utils.py:90: RuntimeWarning: Degrees of freedom <= 0 for slice.\n",
      "  output_features.append(np.nanvar(img, axis=1))\n",
      "/home/administrator/anaconda3/envs/core-dev/lib/python3.6/site-packages/numpy/lib/nanfunctions.py:1283: RuntimeWarning: All-NaN slice encountered\n",
      "  overwrite_input, interpolation)\n"
     ]
    },
    {
     "name": "stdout",
     "output_type": "stream",
     "text": [
      "Extracted pGR features:  ['Umean', 'Rmean', 'Gmean', 'Bmean', 'Uvar', 'Rvar', 'Gvar', 'Bvar', 'Up10', 'Rp10', 'Gp10', 'Bp10', 'Up90', 'Rp90', 'Gp90', 'Bp90']\n"
     ]
    },
    {
     "name": "stderr",
     "output_type": "stream",
     "text": [
      "Header section Parameter regexp=~P was not found.\n"
     ]
    },
    {
     "name": "stdout",
     "output_type": "stream",
     "text": [
      "Adding NaN log:  SP\n",
      "Adding NaN log:  DTS1\n",
      "Adding NaN log:  DTS2\n",
      "Feature shapes:  [('depth', (3873,)), ('top', (3873,)), ('base', (3873,)), ('pseudoGR', (3873, 32, 16)), ('logs', (3873, 11))]\n",
      "Training model for feature:  pseudoGR\n",
      "F1 score: 0.46698224387492326\n",
      "Training model for feature:  pseudoGR\n",
      "F1 score: 0.4960723843407994\n",
      "Training model for feature:  pseudoGR\n",
      "F1 score: 0.47981425532669997\n",
      "Training model for feature:  pseudoGR\n",
      "F1 score: 0.4964552248858394\n",
      "Training model for feature:  pseudoGR\n",
      "F1 score: 0.48523373837159134\n",
      "Training model for feature:  pseudoGR\n",
      "F1 score: 0.48055559978491064\n",
      "Training model for feature:  pseudoGR\n",
      "F1 score: 0.4867058587376221\n",
      "Training model for feature:  pseudoGR\n",
      "F1 score: 0.46389705854227514\n",
      "Training model for feature:  pseudoGR\n",
      "F1 score: 0.4865980747273094\n",
      "Training model for feature:  pseudoGR\n",
      "F1 score: 0.4846263862391612\n",
      "Training model for feature:  pseudoGR\n",
      "F1 score: 0.4964617206258346\n",
      "Training model for feature:  pseudoGR\n",
      "F1 score: 0.48557600293288095\n",
      "Training model for feature:  pseudoGR\n",
      "F1 score: 0.4625281086976325\n",
      "Training model for feature:  pseudoGR\n",
      "F1 score: 0.46126235624515877\n",
      "Training model for feature:  pseudoGR\n",
      "F1 score: 0.48835824974762476\n",
      "Training model for feature:  pseudoGR\n",
      "F1 score: 0.47101338649202146\n",
      "Training model for feature:  pseudoGR\n",
      "F1 score: 0.49020504775134033\n",
      "Training model for feature:  pseudoGR\n",
      "F1 score: 0.49434017056475366\n",
      "Training model for feature:  pseudoGR\n",
      "F1 score: 0.4910981091555383\n",
      "Training model for feature:  pseudoGR\n",
      "F1 score: 0.4783640843617536\n",
      "Training model for feature:  pseudoGR\n",
      "F1 score: 0.4868398001969936\n",
      "Training model for feature:  pseudoGR\n",
      "F1 score: 0.4820327435353968\n",
      "Training model for feature:  pseudoGR\n",
      "F1 score: 0.480868807205051\n",
      "Training model for feature:  pseudoGR\n",
      "F1 score: 0.48793553479726315\n",
      "Training model for feature:  pseudoGR\n",
      "F1 score: 0.49399134486509566\n",
      "Training model for feature:  pseudoGR\n",
      "                      precision    recall  f1-score   support\n",
      "\n",
      "           sandstone       0.57      0.64      0.60       603\n",
      "clay-prone sandstone       0.22      0.21      0.22       595\n",
      "      sandy mudstone       0.53      0.37      0.44      1624\n",
      "            mudstone       0.50      0.71      0.59      1051\n",
      "\n",
      "           micro avg       0.48      0.48      0.48      3873\n",
      "           macro avg       0.46      0.48      0.46      3873\n",
      "        weighted avg       0.48      0.48      0.47      3873\n",
      "\n",
      "Total accuracy Score :  0.4812806609863155\n",
      "Confusion Matrix: \n",
      " [[385 156  61   1]\n",
      " [183 125 261  26]\n",
      " [ 47 257 608 712]\n",
      " [ 60  26 219 746]]\n",
      "\n",
      "Feature Importances:\n",
      "('Bp90_mean', 0.077291384)\n",
      "('Rp90_mean', 0.06634747)\n",
      "('Bp90_median', 0.04411765)\n",
      "('Bvar_median', 0.043091655)\n",
      "('Bmean_median', 0.04274966)\n",
      "('Bp10_median', 0.041723665)\n",
      "('Bp10_mean', 0.039329685)\n",
      "('Rmean_mean', 0.03625171)\n",
      "('Rp10_median', 0.034883723)\n",
      "('Rp10_mean', 0.034883723)\n",
      "('Rmean_median', 0.034199726)\n",
      "('Bp90_var', 0.033515733)\n",
      "('Bvar_mean', 0.032831736)\n",
      "('Rp90_median', 0.03146375)\n",
      "('Bmean_mean', 0.03146375)\n",
      "('Rvar_median', 0.024623804)\n",
      "('Rvar_mean', 0.02359781)\n",
      "('Rp10_var', 0.02120383)\n",
      "('Gp90_mean', 0.01983584)\n",
      "('Rp90_var', 0.019493844)\n",
      "('Bp10_var', 0.019493844)\n",
      "('Rvar_var', 0.01504788)\n",
      "('Bmean_var', 0.01504788)\n",
      "('Bvar_var', 0.014363885)\n",
      "('Rmean_var', 0.013337893)\n",
      "('Up10_var', 0.012995896)\n",
      "('Gp90_var', 0.012653898)\n",
      "('Up90_var', 0.012653898)\n",
      "('Up10_mean', 0.010943913)\n",
      "('Gp10_median', 0.010259918)\n",
      "('Up90_mean', 0.009575923)\n",
      "('Gvar_mean', 0.009575923)\n",
      "('Uvar_mean', 0.009575923)\n",
      "('Gvar_var', 0.009233926)\n",
      "('Gmean_median', 0.008891929)\n",
      "('Up90_median', 0.008549931)\n",
      "('Gp90_median', 0.008207934)\n",
      "('Gmean_mean', 0.008207934)\n",
      "('Gp10_mean', 0.007865937)\n",
      "('Gp10_var', 0.0071819425)\n",
      "('Uvar_var', 0.006497948)\n",
      "('Umean_median', 0.006497948)\n",
      "('Up10_median', 0.006155951)\n",
      "('Umean_mean', 0.0058139535)\n",
      "('Umean_var', 0.0047879615)\n",
      "('Gvar_median', 0.0047879615)\n",
      "('Gmean_var', 0.0044459645)\n",
      "('Uvar_median', 0.0044459645)\n",
      "Loading Well:  204-20-6a  from  /home/administrator/Dropbox/core_data/facies/train_data\n"
     ]
    },
    {
     "name": "stderr",
     "output_type": "stream",
     "text": [
      "/home/administrator/code/python/coremdlr/coremdlr/facies/datasets/utils.py:86: RuntimeWarning: Mean of empty slice\n",
      "  output_features.append(np.nanmean(img, axis=1))\n",
      "/home/administrator/code/python/coremdlr/coremdlr/facies/datasets/utils.py:90: RuntimeWarning: Degrees of freedom <= 0 for slice.\n",
      "  output_features.append(np.nanvar(img, axis=1))\n",
      "/home/administrator/anaconda3/envs/core-dev/lib/python3.6/site-packages/numpy/lib/nanfunctions.py:1283: RuntimeWarning: All-NaN slice encountered\n",
      "  overwrite_input, interpolation)\n"
     ]
    },
    {
     "name": "stdout",
     "output_type": "stream",
     "text": [
      "Extracted pGR features:  ['Umean', 'Rmean', 'Gmean', 'Bmean', 'Uvar', 'Rvar', 'Gvar', 'Bvar', 'Up10', 'Rp10', 'Gp10', 'Bp10', 'Up90', 'Rp90', 'Gp90', 'Bp90']\n"
     ]
    },
    {
     "name": "stderr",
     "output_type": "stream",
     "text": [
      "Header section Parameter regexp=~P was not found.\n"
     ]
    },
    {
     "name": "stdout",
     "output_type": "stream",
     "text": [
      "Adding NaN log:  SP\n",
      "Adding NaN log:  DTS1\n",
      "Adding NaN log:  DTS2\n",
      "Feature shapes:  [('depth', (3873,)), ('top', (3873,)), ('base', (3873,)), ('pseudoGR', (3873, 32, 16)), ('logs', (3873, 11))]\n",
      "Loading Well:  204-20-1Z  from  /home/administrator/Dropbox/core_data/facies/train_data\n",
      "Extracted pGR features:  ['Umean', 'Rmean', 'Gmean', 'Bmean', 'Uvar', 'Rvar', 'Gvar', 'Bvar', 'Up10', 'Rp10', 'Gp10', 'Bp10', 'Up90', 'Rp90', 'Gp90', 'Bp90']\n"
     ]
    },
    {
     "name": "stderr",
     "output_type": "stream",
     "text": [
      "Header section Parameter regexp=~P was not found.\n"
     ]
    },
    {
     "name": "stdout",
     "output_type": "stream",
     "text": [
      "Adding NaN log:  SP\n",
      "Adding NaN log:  DTS1\n",
      "Adding NaN log:  DTS2\n",
      "Feature shapes:  [('depth', (1917,)), ('top', (1917,)), ('base', (1917,)), ('pseudoGR', (1917, 32, 16)), ('logs', (1917, 11))]\n",
      "Loading Well:  204-24a-6  from  /home/administrator/Dropbox/core_data/facies/train_data\n",
      "Extracted pGR features:  ['Umean', 'Rmean', 'Gmean', 'Bmean', 'Uvar', 'Rvar', 'Gvar', 'Bvar', 'Up10', 'Rp10', 'Gp10', 'Bp10', 'Up90', 'Rp90', 'Gp90', 'Bp90']\n"
     ]
    },
    {
     "name": "stderr",
     "output_type": "stream",
     "text": [
      "Header section Parameter regexp=~P was not found.\n"
     ]
    },
    {
     "name": "stdout",
     "output_type": "stream",
     "text": [
      "Adding NaN log:  SP\n",
      "Adding NaN log:  DTS1\n",
      "Adding NaN log:  DTS2\n",
      "Feature shapes:  [('depth', (13006,)), ('top', (13006,)), ('base', (13006,)), ('pseudoGR', (13006, 32, 16)), ('logs', (13006, 11))]\n",
      "Loading Well:  204-19-6  from  /home/administrator/Dropbox/core_data/facies/train_data\n",
      "Extracted pGR features:  ['Umean', 'Rmean', 'Gmean', 'Bmean', 'Uvar', 'Rvar', 'Gvar', 'Bvar', 'Up10', 'Rp10', 'Gp10', 'Bp10', 'Up90', 'Rp90', 'Gp90', 'Bp90']\n"
     ]
    },
    {
     "name": "stderr",
     "output_type": "stream",
     "text": [
      "Header section Parameter regexp=~P was not found.\n"
     ]
    },
    {
     "name": "stdout",
     "output_type": "stream",
     "text": [
      "Adding NaN log:  DTS\n",
      "Feature shapes:  [('depth', (1884,)), ('top', (1884,)), ('base', (1884,)), ('pseudoGR', (1884, 32, 16)), ('logs', (1884, 11))]\n",
      "Loading Well:  205-21b-3  from  /home/administrator/Dropbox/core_data/facies/train_data\n"
     ]
    },
    {
     "name": "stderr",
     "output_type": "stream",
     "text": [
      "/home/administrator/code/python/coremdlr/coremdlr/facies/datasets/utils.py:86: RuntimeWarning: Mean of empty slice\n",
      "  output_features.append(np.nanmean(img, axis=1))\n",
      "/home/administrator/code/python/coremdlr/coremdlr/facies/datasets/utils.py:90: RuntimeWarning: Degrees of freedom <= 0 for slice.\n",
      "  output_features.append(np.nanvar(img, axis=1))\n",
      "/home/administrator/anaconda3/envs/core-dev/lib/python3.6/site-packages/numpy/lib/nanfunctions.py:1283: RuntimeWarning: All-NaN slice encountered\n",
      "  overwrite_input, interpolation)\n"
     ]
    },
    {
     "name": "stdout",
     "output_type": "stream",
     "text": [
      "Extracted pGR features:  ['Umean', 'Rmean', 'Gmean', 'Bmean', 'Uvar', 'Rvar', 'Gvar', 'Bvar', 'Up10', 'Rp10', 'Gp10', 'Bp10', 'Up90', 'Rp90', 'Gp90', 'Bp90']\n"
     ]
    },
    {
     "name": "stderr",
     "output_type": "stream",
     "text": [
      "Header section Parameter regexp=~P was not found.\n"
     ]
    },
    {
     "name": "stdout",
     "output_type": "stream",
     "text": [
      "Adding NaN log:  SP\n",
      "Adding NaN log:  DTS\n",
      "Feature shapes:  [('depth', (3842,)), ('top', (3842,)), ('base', (3842,)), ('pseudoGR', (3842, 32, 16)), ('logs', (3842, 11))]\n",
      "Training model for feature:  pseudoGR\n",
      "F1 score: 0.2504373736134288\n",
      "Training model for feature:  pseudoGR\n",
      "F1 score: 0.24303350174658517\n",
      "Training model for feature:  pseudoGR\n",
      "F1 score: 0.23813230690160236\n",
      "Training model for feature:  pseudoGR\n",
      "F1 score: 0.24684788703758484\n",
      "Training model for feature:  pseudoGR\n",
      "F1 score: 0.22171519068252027\n",
      "Training model for feature:  pseudoGR\n",
      "F1 score: 0.24508344944591\n",
      "Training model for feature:  pseudoGR\n",
      "F1 score: 0.2654744489029747\n",
      "Training model for feature:  pseudoGR\n",
      "F1 score: 0.2472091992848094\n",
      "Training model for feature:  pseudoGR\n",
      "F1 score: 0.24817439559498244\n",
      "Training model for feature:  pseudoGR\n",
      "F1 score: 0.24880400660286342\n",
      "Training model for feature:  pseudoGR\n",
      "F1 score: 0.25534559869787726\n",
      "Training model for feature:  pseudoGR\n",
      "F1 score: 0.23734296667434504\n",
      "Training model for feature:  pseudoGR\n",
      "F1 score: 0.23348025888925406\n",
      "Training model for feature:  pseudoGR\n",
      "F1 score: 0.2390287711575365\n",
      "Training model for feature:  pseudoGR\n",
      "F1 score: 0.24542722924634264\n",
      "Training model for feature:  pseudoGR\n",
      "F1 score: 0.25157610345166465\n",
      "Training model for feature:  pseudoGR\n",
      "F1 score: 0.23424315945138374\n",
      "Training model for feature:  pseudoGR\n",
      "F1 score: 0.23922358828843054\n",
      "Training model for feature:  pseudoGR\n",
      "F1 score: 0.2443669602580641\n",
      "Training model for feature:  pseudoGR\n",
      "F1 score: 0.24158849353928\n",
      "Training model for feature:  pseudoGR\n",
      "F1 score: 0.24191908590886826\n",
      "Training model for feature:  pseudoGR\n",
      "F1 score: 0.2466985712669143\n",
      "Training model for feature:  pseudoGR\n",
      "F1 score: 0.23556350878659676\n",
      "Training model for feature:  pseudoGR\n",
      "F1 score: 0.23373468350341534\n",
      "Training model for feature:  pseudoGR\n",
      "F1 score: 0.24740520317506204\n",
      "Training model for feature:  pseudoGR\n",
      "                      precision    recall  f1-score   support\n",
      "\n",
      "           sandstone       0.08      0.25      0.12       174\n",
      "clay-prone sandstone       0.47      0.23      0.31      1819\n",
      "      sandy mudstone       0.52      0.54      0.53      1806\n",
      "            mudstone       0.00      0.05      0.01        43\n",
      "\n",
      "           micro avg       0.38      0.38      0.38      3842\n",
      "           macro avg       0.27      0.27      0.24      3842\n",
      "        weighted avg       0.47      0.38      0.40      3842\n",
      "\n",
      "Total accuracy Score :  0.37610619469026546\n",
      "Confusion Matrix: \n",
      " [[ 44  65  60   5]\n",
      " [393 426 787 213]\n",
      " [146 422 973 265]\n",
      " [  1   0  40   2]]\n",
      "\n",
      "Feature Importances:\n",
      "('Rp90_mean', 0.060964372)\n",
      "('Bp90_mean', 0.05328624)\n",
      "('Bp10_mean', 0.04468673)\n",
      "('Bmean_median', 0.043611795)\n",
      "('Bp10_median', 0.042076167)\n",
      "('Bvar_median', 0.04038698)\n",
      "('Bp90_median', 0.03915848)\n",
      "('Rmean_mean', 0.038390663)\n",
      "('Bmean_mean', 0.038237102)\n",
      "('Rmean_median', 0.037469286)\n",
      "('Rp10_mean', 0.0357801)\n",
      "('Bvar_mean', 0.0357801)\n",
      "('Rp10_median', 0.035626534)\n",
      "('Bp90_var', 0.027487716)\n",
      "('Rvar_median', 0.026873464)\n",
      "('Gp90_mean', 0.023955774)\n",
      "('Rp90_var', 0.023341523)\n",
      "('Rvar_mean', 0.022113021)\n",
      "('Rvar_var', 0.020116707)\n",
      "('Bp10_var', 0.019963145)\n",
      "('Rp90_median', 0.018120393)\n",
      "('Bvar_var', 0.017966831)\n",
      "('Bmean_var', 0.017045455)\n",
      "('Rp10_var', 0.016891891)\n",
      "('Gp90_median', 0.01443489)\n",
      "('Rmean_var', 0.013206388)\n",
      "('Gp10_var', 0.0127457)\n",
      "('Gp10_mean', 0.012285012)\n",
      "('Up10_median', 0.011977887)\n",
      "('Umean_mean', 0.011670762)\n",
      "('Gp90_var', 0.011363637)\n",
      "('Uvar_mean', 0.010595823)\n",
      "('Up90_var', 0.010288698)\n",
      "('Gmean_median', 0.010288698)\n",
      "('Up90_mean', 0.010135135)\n",
      "('Gmean_mean', 0.009674448)\n",
      "('Up90_median', 0.009367322)\n",
      "('Up10_var', 0.008906634)\n",
      "('Gvar_mean', 0.008599509)\n",
      "('Uvar_var', 0.00752457)\n",
      "('Gp10_median', 0.0073710075)\n",
      "('Gmean_var', 0.006756757)\n",
      "('Uvar_median', 0.006603194)\n",
      "('Up10_mean', 0.006296069)\n",
      "('Umean_median', 0.0056818184)\n",
      "('Gvar_median', 0.0052211303)\n",
      "('Gvar_var', 0.004914005)\n",
      "('Umean_var', 0.0047604423)\n"
     ]
    }
   ],
   "source": [
    "well_names = [\"205-21b-3\", \"204-20-6a\",\"204-20-1Z\", \"204-24a-6\", \"204-19-6\"]\n",
    "names_deq = deque(well_names)\n",
    "\n",
    "results = {}\n",
    "\n",
    "for i in range(len(names_deq)):\n",
    "    \n",
    "    # Set up dataset, rotate well_names\n",
    "    fdset = FaciesDataset(list(names_deq)[:-1], test_wells=[names_deq[-1]],\n",
    "                        features=[\"pseudoGR\", \"logs\"],\n",
    "                        pseudoGR_args={'features': ['mean', 'var', 'p10', 'p90'], \n",
    "                                                    'per_channel' : True},\n",
    "                        label_resolution=32)\n",
    "    \n",
    "    names_deq.rotate()\n",
    "    \n",
    "    fdset.load_or_generate_data()\n",
    "    \n",
    "    best_params = hyperopt.fmin(\n",
    "        fn=lambda x: train_xgb_model(fdset, x),\n",
    "        space=XGB_SEARCH_SPACE,\n",
    "        algo=hyperopt.rand.suggest,\n",
    "        max_evals=25\n",
    "    )\n",
    "    \n",
    "    params = {\n",
    "        **XGB_SEARCH_SPACE, \n",
    "        **best_params, \n",
    "        **{'max_depth': int(best_params['max_depth']), \n",
    "           'n_estimators': int(best_params['n_estimators'])}\n",
    "    }\n",
    "\n",
    "    xgb_predictor = FeaturePredictor(fdset, model_args=params, feature_model_args=feat_model_args)\n",
    "    \n",
    "    xgb_predictor.fit(fdset, verbose=True)\n",
    "    \n",
    "    # Feature importances\n",
    "    raw_feat_names = fdset.wells[0].pGR_feat_names\n",
    "    feat_names = [f+'_mean' for f in raw_feat_names] + \\\n",
    "                 [f+'_median' for f in raw_feat_names] + \\\n",
    "                 [f+'_var' for f in raw_feat_names]\n",
    "            \n",
    "    imps = list(zip(feat_names, xgb_predictor.model.feature_importances_))\n",
    "    imps.sort(key = lambda p: p[1])\n",
    "    print('\\nFeature Importances:')\n",
    "    [print(pair) for pair in imps[::-1]]\n",
    "    \n",
    "    # Get test results\n",
    "    test_well = fdset.test_well_names[0]\n",
    "    \n",
    "    results[test_well] = xgb_predictor.preds_dataframe(test_well, logs=['GR', 'RDEP', 'PEF', 'SP'])"
   ]
  },
  {
   "cell_type": "code",
   "execution_count": null,
   "metadata": {},
   "outputs": [],
   "source": [
    "import pandas as pd\n",
    "\n",
    "dfs = []\n",
    "for well_name, results_df in results.items():\n",
    "    results_df['well_name'] = well_name\n",
    "    dfs.append(results_df)\n",
    "    \n",
    "df = pd.concat(dfs, ignore_index=True)\n",
    "df"
   ]
  },
  {
   "cell_type": "code",
   "execution_count": null,
   "metadata": {},
   "outputs": [],
   "source": [
    "df.to_csv('cross_test_xgb.csv', index=False)"
   ]
  },
  {
   "cell_type": "code",
   "execution_count": null,
   "metadata": {},
   "outputs": [],
   "source": [
    "axes = df.regression.hist(by=df.y_true, figsize=(15,15), alpha=0.4)\n",
    "print(axes)\n",
    "\n",
    "for i, ax in enumerate(axes.flat):\n",
    "    df.regression[df.y_pred==i].hist(ax=ax, color='blue', alpha=0.4)"
   ]
  },
  {
   "cell_type": "code",
   "execution_count": null,
   "metadata": {},
   "outputs": [],
   "source": [
    "axes = df.y_true.hist(by=df.well_name, figsize=(15,15), alpha=0.4)\n",
    "\n",
    "well_names = [\"204-19-6\", \"204-20-1Z\", \"204-20-6a\", \"204-24a-6\", \"205-21b-3\"]\n",
    "\n",
    "for i, (ax, name) in enumerate(zip(axes.flat, well_names)):\n",
    "    print(name)\n",
    "    df.y_pred[df.well_name==name].hist(ax=ax, color='blue', alpha=0.4)"
   ]
  },
  {
   "cell_type": "code",
   "execution_count": null,
   "metadata": {},
   "outputs": [],
   "source": []
  }
 ],
 "metadata": {
  "kernelspec": {
   "display_name": "Python 3",
   "language": "python",
   "name": "python3"
  },
  "language_info": {
   "codemirror_mode": {
    "name": "ipython",
    "version": 3
   },
   "file_extension": ".py",
   "mimetype": "text/x-python",
   "name": "python",
   "nbconvert_exporter": "python",
   "pygments_lexer": "ipython3",
   "version": "3.6.7"
  }
 },
 "nbformat": 4,
 "nbformat_minor": 2
}
