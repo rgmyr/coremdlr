{
 "cells": [
  {
   "cell_type": "markdown",
   "metadata": {},
   "source": [
    "### Purpose\n",
    "\n",
    "Test the WaveNet network on `pseudoGR` features. Demonstrate the difference between `categorical` loss, `ordinal` loss, and a combination."
   ]
  },
  {
   "cell_type": "code",
   "execution_count": 1,
   "metadata": {},
   "outputs": [
    {
     "ename": "ModuleNotFoundError",
     "evalue": "No module named 'coremdlr'",
     "output_type": "error",
     "traceback": [
      "\u001b[0;31m---------------------------------------------------------------------------\u001b[0m",
      "\u001b[0;31mModuleNotFoundError\u001b[0m                       Traceback (most recent call last)",
      "\u001b[0;32m<ipython-input-1-bfb5bc533625>\u001b[0m in \u001b[0;36m<module>\u001b[0;34m()\u001b[0m\n\u001b[1;32m      2\u001b[0m \u001b[0;32mfrom\u001b[0m \u001b[0msklearn\u001b[0m\u001b[0;34m.\u001b[0m\u001b[0mmetrics\u001b[0m \u001b[0;32mimport\u001b[0m \u001b[0mconfusion_matrix\u001b[0m\u001b[0;34m\u001b[0m\u001b[0;34m\u001b[0m\u001b[0m\n\u001b[1;32m      3\u001b[0m \u001b[0;34m\u001b[0m\u001b[0m\n\u001b[0;32m----> 4\u001b[0;31m \u001b[0;32mfrom\u001b[0m \u001b[0mcoremdlr\u001b[0m\u001b[0;34m.\u001b[0m\u001b[0mviz\u001b[0m \u001b[0;32mimport\u001b[0m \u001b[0mmodel_plots\u001b[0m\u001b[0;34m\u001b[0m\u001b[0;34m\u001b[0m\u001b[0m\n\u001b[0m\u001b[1;32m      5\u001b[0m \u001b[0;32mfrom\u001b[0m \u001b[0mcoremdlr\u001b[0m\u001b[0;34m.\u001b[0m\u001b[0mmodels\u001b[0m \u001b[0;32mimport\u001b[0m \u001b[0mNetworkModel\u001b[0m\u001b[0;34m\u001b[0m\u001b[0;34m\u001b[0m\u001b[0m\n\u001b[1;32m      6\u001b[0m \u001b[0;32mfrom\u001b[0m \u001b[0mcoremdlr\u001b[0m\u001b[0;34m.\u001b[0m\u001b[0mdatasets\u001b[0m \u001b[0;32mimport\u001b[0m \u001b[0mDepthSequenceGenerator\u001b[0m\u001b[0;34m,\u001b[0m \u001b[0mFaciesDataset\u001b[0m\u001b[0;34m\u001b[0m\u001b[0;34m\u001b[0m\u001b[0m\n",
      "\u001b[0;31mModuleNotFoundError\u001b[0m: No module named 'coremdlr'"
     ]
    }
   ],
   "source": [
    "import numpy as np\n",
    "from sklearn.metrics import confusion_matrix\n",
    "\n",
    "from coremdlr.viz import model_plots\n",
    "from coremdlr.models import NetworkModel\n",
    "from coremdlr.datasets import DepthSequenceGenerator, FaciesDataset\n",
    "\n",
    "\n",
    "import os\n",
    "\n",
    "os.environ[\"CUDA_DEVICE_ORDER\"]=\"PCI_BUS_ID\"\n",
    "os.environ[\"CUDA_VISIBLE_DEVICES\"]=\"1\"\n",
    "\n",
    "import matplotlib.pyplot as plt\n",
    "%matplotlib inline"
   ]
  },
  {
   "cell_type": "code",
   "execution_count": 2,
   "metadata": {},
   "outputs": [],
   "source": [
    "well_names = [\"205-21b-3\", \"204-20-6a\", \"204-24a-6\", \"204-20-1Z\", \"204-19-6\"]\n",
    "\n",
    "loss_options = ('categorical_crossentropy',\n",
    "                'ordinal_squared_error',\n",
    "                {'categorical_crossentropy': 0.2,\n",
    "                 'ordinal_squared_error': 0.8})\n",
    "\n",
    "wavenet_model_args = {\n",
    "    'feature' : 'pseudoGR',\n",
    "    'network' : 'wavenet',\n",
    "    'sequence_size' : 128,\n",
    "    'network_args' : {\n",
    "        'num_blocks' : 20,\n",
    "        'block_filters' : 128,\n",
    "        'residual_filters' : 64,\n",
    "        'output_resolution' : 32,\n",
    "        'dropout_rate' : 0.5,\n",
    "    },\n",
    "    'optimizer_args' : {\n",
    "        'optimizer' : 'Adam'\n",
    "    }\n",
    "}\n",
    "\n",
    "fit_args = {\n",
    "    'batch_size' : 16,\n",
    "    'epochs' : 15,\n",
    "    'class_weighted': True\n",
    "}\n"
   ]
  },
  {
   "cell_type": "code",
   "execution_count": 3,
   "metadata": {
    "scrolled": false
   },
   "outputs": [
    {
     "name": "stdout",
     "output_type": "stream",
     "text": [
      "\n",
      "\n",
      "TESTING WITH TEST WELL: 205-21b-3\n",
      "\n",
      "\n",
      "Loading Well:  204-20-6a  from  /home/administrator/Dropbox/core_data/facies/train_data\n"
     ]
    },
    {
     "name": "stderr",
     "output_type": "stream",
     "text": [
      "/home/administrator/code/python/coremdlr/coremdlr/facies/datasets/utils.py:72: RuntimeWarning: Mean of empty slice\n",
      "  output_features.append(np.nanmean(img, axis=1))\n",
      "/home/administrator/code/python/coremdlr/coremdlr/facies/datasets/utils.py:76: RuntimeWarning: Degrees of freedom <= 0 for slice.\n",
      "  output_features.append(np.nanvar(img, axis=1))\n"
     ]
    },
    {
     "name": "stdout",
     "output_type": "stream",
     "text": [
      "Extracted pGR features:  ['Umean', 'Rmean', 'Gmean', 'Bmean', 'Uvar', 'Rvar', 'Gvar', 'Bvar']\n"
     ]
    },
    {
     "ename": "ValueError",
     "evalue": "b'os' is not in list",
     "output_type": "error",
     "traceback": [
      "\u001b[0;31m---------------------------------------------------------------------------\u001b[0m",
      "\u001b[0;31mValueError\u001b[0m                                Traceback (most recent call last)",
      "\u001b[0;32m<ipython-input-3-ebaa98c58232>\u001b[0m in \u001b[0;36m<module>\u001b[0;34m()\u001b[0m\n\u001b[1;32m      9\u001b[0m                     pseudoGR_args={'scale_mode' : 'robust'})\n\u001b[1;32m     10\u001b[0m \u001b[0;34m\u001b[0m\u001b[0m\n\u001b[0;32m---> 11\u001b[0;31m     \u001b[0mfdset\u001b[0m\u001b[0;34m.\u001b[0m\u001b[0mload_or_generate_data\u001b[0m\u001b[0;34m(\u001b[0m\u001b[0;34m)\u001b[0m\u001b[0;34m\u001b[0m\u001b[0;34m\u001b[0m\u001b[0m\n\u001b[0m\u001b[1;32m     12\u001b[0m \u001b[0;34m\u001b[0m\u001b[0m\n\u001b[1;32m     13\u001b[0m     \u001b[0;32mfor\u001b[0m \u001b[0mloss\u001b[0m \u001b[0;32min\u001b[0m \u001b[0mloss_options\u001b[0m\u001b[0;34m:\u001b[0m\u001b[0;34m\u001b[0m\u001b[0;34m\u001b[0m\u001b[0m\n",
      "\u001b[0;32m~/code/python/coremdlr/coremdlr/facies/datasets/facies_dataset.py\u001b[0m in \u001b[0;36mload_or_generate_data\u001b[0;34m(self)\u001b[0m\n\u001b[1;32m    117\u001b[0m         \u001b[0mDefine\u001b[0m \u001b[0mX\u001b[0m\u001b[0;34m/\u001b[0m\u001b[0my\u001b[0m \u001b[0mtrain\u001b[0m\u001b[0;34m/\u001b[0m\u001b[0mtest\u001b[0m\u001b[0;34m.\u001b[0m\u001b[0;34m\u001b[0m\u001b[0;34m\u001b[0m\u001b[0m\n\u001b[1;32m    118\u001b[0m         \"\"\"\n\u001b[0;32m--> 119\u001b[0;31m         \u001b[0mself\u001b[0m\u001b[0;34m.\u001b[0m\u001b[0mwells\u001b[0m \u001b[0;34m=\u001b[0m \u001b[0;34m[\u001b[0m\u001b[0mw\u001b[0m\u001b[0;34m.\u001b[0m\u001b[0mload_data\u001b[0m\u001b[0;34m(\u001b[0m\u001b[0mself\u001b[0m\u001b[0;34m.\u001b[0m\u001b[0mlabels\u001b[0m\u001b[0;34m,\u001b[0m \u001b[0mrandom_shift\u001b[0m\u001b[0;34m=\u001b[0m\u001b[0;32mFalse\u001b[0m\u001b[0;34m)\u001b[0m \u001b[0;32mfor\u001b[0m \u001b[0mw\u001b[0m \u001b[0;32min\u001b[0m \u001b[0mself\u001b[0m\u001b[0;34m.\u001b[0m\u001b[0mwells\u001b[0m\u001b[0;34m]\u001b[0m\u001b[0;34m\u001b[0m\u001b[0;34m\u001b[0m\u001b[0m\n\u001b[0m\u001b[1;32m    120\u001b[0m         \u001b[0;32mif\u001b[0m \u001b[0mself\u001b[0m\u001b[0;34m.\u001b[0m\u001b[0mwells\u001b[0m\u001b[0;34m[\u001b[0m\u001b[0;36m0\u001b[0m\u001b[0;34m]\u001b[0m\u001b[0;34m.\u001b[0m\u001b[0mcollapse_missing\u001b[0m\u001b[0;34m:\u001b[0m\u001b[0;34m\u001b[0m\u001b[0;34m\u001b[0m\u001b[0m\n\u001b[1;32m    121\u001b[0m             \u001b[0mself\u001b[0m\u001b[0;34m.\u001b[0m\u001b[0mclasses\u001b[0m \u001b[0;34m=\u001b[0m \u001b[0mself\u001b[0m\u001b[0;34m.\u001b[0m\u001b[0mclasses\u001b[0m\u001b[0;34m[\u001b[0m\u001b[0;36m2\u001b[0m\u001b[0;34m:\u001b[0m\u001b[0;34m]\u001b[0m\u001b[0;34m\u001b[0m\u001b[0;34m\u001b[0m\u001b[0m\n",
      "\u001b[0;32m~/code/python/coremdlr/coremdlr/facies/datasets/facies_dataset.py\u001b[0m in \u001b[0;36m<listcomp>\u001b[0;34m(.0)\u001b[0m\n\u001b[1;32m    117\u001b[0m         \u001b[0mDefine\u001b[0m \u001b[0mX\u001b[0m\u001b[0;34m/\u001b[0m\u001b[0my\u001b[0m \u001b[0mtrain\u001b[0m\u001b[0;34m/\u001b[0m\u001b[0mtest\u001b[0m\u001b[0;34m.\u001b[0m\u001b[0;34m\u001b[0m\u001b[0;34m\u001b[0m\u001b[0m\n\u001b[1;32m    118\u001b[0m         \"\"\"\n\u001b[0;32m--> 119\u001b[0;31m         \u001b[0mself\u001b[0m\u001b[0;34m.\u001b[0m\u001b[0mwells\u001b[0m \u001b[0;34m=\u001b[0m \u001b[0;34m[\u001b[0m\u001b[0mw\u001b[0m\u001b[0;34m.\u001b[0m\u001b[0mload_data\u001b[0m\u001b[0;34m(\u001b[0m\u001b[0mself\u001b[0m\u001b[0;34m.\u001b[0m\u001b[0mlabels\u001b[0m\u001b[0;34m,\u001b[0m \u001b[0mrandom_shift\u001b[0m\u001b[0;34m=\u001b[0m\u001b[0;32mFalse\u001b[0m\u001b[0;34m)\u001b[0m \u001b[0;32mfor\u001b[0m \u001b[0mw\u001b[0m \u001b[0;32min\u001b[0m \u001b[0mself\u001b[0m\u001b[0;34m.\u001b[0m\u001b[0mwells\u001b[0m\u001b[0;34m]\u001b[0m\u001b[0;34m\u001b[0m\u001b[0;34m\u001b[0m\u001b[0m\n\u001b[0m\u001b[1;32m    120\u001b[0m         \u001b[0;32mif\u001b[0m \u001b[0mself\u001b[0m\u001b[0;34m.\u001b[0m\u001b[0mwells\u001b[0m\u001b[0;34m[\u001b[0m\u001b[0;36m0\u001b[0m\u001b[0;34m]\u001b[0m\u001b[0;34m.\u001b[0m\u001b[0mcollapse_missing\u001b[0m\u001b[0;34m:\u001b[0m\u001b[0;34m\u001b[0m\u001b[0;34m\u001b[0m\u001b[0m\n\u001b[1;32m    121\u001b[0m             \u001b[0mself\u001b[0m\u001b[0;34m.\u001b[0m\u001b[0mclasses\u001b[0m \u001b[0;34m=\u001b[0m \u001b[0mself\u001b[0m\u001b[0;34m.\u001b[0m\u001b[0mclasses\u001b[0m\u001b[0;34m[\u001b[0m\u001b[0;36m2\u001b[0m\u001b[0;34m:\u001b[0m\u001b[0;34m]\u001b[0m\u001b[0;34m\u001b[0m\u001b[0;34m\u001b[0m\u001b[0m\n",
      "\u001b[0;32m~/code/python/coremdlr/coremdlr/facies/datasets/well_loader.py\u001b[0m in \u001b[0;36mload_data\u001b[0;34m(self, label_names, aggregate, random_shift)\u001b[0m\n\u001b[1;32m    176\u001b[0m                                   kind=self.logs_args['interp_kind'], bounds_error=True)\n\u001b[1;32m    177\u001b[0m \u001b[0;34m\u001b[0m\u001b[0m\n\u001b[0;32m--> 178\u001b[0;31m         \u001b[0mself\u001b[0m\u001b[0;34m.\u001b[0m\u001b[0m_load_labels\u001b[0m\u001b[0;34m(\u001b[0m\u001b[0mlabel_names\u001b[0m\u001b[0;34m)\u001b[0m\u001b[0;34m\u001b[0m\u001b[0;34m\u001b[0m\u001b[0m\n\u001b[0m\u001b[1;32m    179\u001b[0m \u001b[0;34m\u001b[0m\u001b[0m\n\u001b[1;32m    180\u001b[0m         \u001b[0;32mif\u001b[0m \u001b[0maggregate\u001b[0m\u001b[0;34m:\u001b[0m\u001b[0;34m\u001b[0m\u001b[0;34m\u001b[0m\u001b[0m\n",
      "\u001b[0;32m~/code/python/coremdlr/coremdlr/facies/datasets/well_loader.py\u001b[0m in \u001b[0;36m_load_labels\u001b[0;34m(self, label_names)\u001b[0m\n\u001b[1;32m    192\u001b[0m         \u001b[0;32melse\u001b[0m\u001b[0;34m:\u001b[0m\u001b[0;34m\u001b[0m\u001b[0;34m\u001b[0m\u001b[0m\n\u001b[1;32m    193\u001b[0m             \u001b[0mrow_labels\u001b[0m \u001b[0;34m=\u001b[0m \u001b[0mnp\u001b[0m\u001b[0;34m.\u001b[0m\u001b[0mload\u001b[0m\u001b[0;34m(\u001b[0m\u001b[0mstr\u001b[0m\u001b[0;34m(\u001b[0m\u001b[0mself\u001b[0m\u001b[0;34m.\u001b[0m\u001b[0mlabels_path\u001b[0m\u001b[0;34m)\u001b[0m\u001b[0;34m)\u001b[0m\u001b[0;34m\u001b[0m\u001b[0;34m\u001b[0m\u001b[0m\n\u001b[0;32m--> 194\u001b[0;31m             \u001b[0mself\u001b[0m\u001b[0;34m.\u001b[0m\u001b[0mrow_labels\u001b[0m \u001b[0;34m=\u001b[0m \u001b[0mnp\u001b[0m\u001b[0;34m.\u001b[0m\u001b[0mvectorize\u001b[0m\u001b[0;34m(\u001b[0m\u001b[0;32mlambda\u001b[0m \u001b[0ml\u001b[0m\u001b[0;34m:\u001b[0m \u001b[0mlabel_names\u001b[0m\u001b[0;34m.\u001b[0m\u001b[0mindex\u001b[0m\u001b[0;34m(\u001b[0m\u001b[0ml\u001b[0m\u001b[0;34m)\u001b[0m\u001b[0;34m)\u001b[0m\u001b[0;34m(\u001b[0m\u001b[0mrow_labels\u001b[0m\u001b[0;34m)\u001b[0m\u001b[0;34m\u001b[0m\u001b[0;34m\u001b[0m\u001b[0m\n\u001b[0m\u001b[1;32m    195\u001b[0m \u001b[0;34m\u001b[0m\u001b[0m\n\u001b[1;32m    196\u001b[0m         \u001b[0mself\u001b[0m\u001b[0;34m.\u001b[0m\u001b[0mrow_labels\u001b[0m \u001b[0;34m=\u001b[0m \u001b[0mdatasets_utils\u001b[0m\u001b[0;34m.\u001b[0m\u001b[0mdownsample\u001b[0m\u001b[0;34m(\u001b[0m\u001b[0mself\u001b[0m\u001b[0;34m.\u001b[0m\u001b[0mrow_labels\u001b[0m\u001b[0;34m,\u001b[0m \u001b[0mself\u001b[0m\u001b[0;34m.\u001b[0m\u001b[0mdownsample\u001b[0m\u001b[0;34m,\u001b[0m \u001b[0mfn\u001b[0m\u001b[0;34m=\u001b[0m\u001b[0;32mlambda\u001b[0m \u001b[0mx\u001b[0m\u001b[0;34m:\u001b[0m \u001b[0mmode\u001b[0m\u001b[0;34m(\u001b[0m\u001b[0mx\u001b[0m\u001b[0;34m)\u001b[0m\u001b[0;34m[\u001b[0m\u001b[0;36m0\u001b[0m\u001b[0;34m]\u001b[0m\u001b[0;34m[\u001b[0m\u001b[0;36m0\u001b[0m\u001b[0;34m]\u001b[0m\u001b[0;34m)\u001b[0m\u001b[0;34m\u001b[0m\u001b[0;34m\u001b[0m\u001b[0m\n",
      "\u001b[0;32m~/anaconda3/envs/core-dev/lib/python3.6/site-packages/numpy/lib/function_base.py\u001b[0m in \u001b[0;36m__call__\u001b[0;34m(self, *args, **kwargs)\u001b[0m\n\u001b[1;32m   1970\u001b[0m             \u001b[0mvargs\u001b[0m\u001b[0;34m.\u001b[0m\u001b[0mextend\u001b[0m\u001b[0;34m(\u001b[0m\u001b[0;34m[\u001b[0m\u001b[0mkwargs\u001b[0m\u001b[0;34m[\u001b[0m\u001b[0m_n\u001b[0m\u001b[0;34m]\u001b[0m \u001b[0;32mfor\u001b[0m \u001b[0m_n\u001b[0m \u001b[0;32min\u001b[0m \u001b[0mnames\u001b[0m\u001b[0;34m]\u001b[0m\u001b[0;34m)\u001b[0m\u001b[0;34m\u001b[0m\u001b[0;34m\u001b[0m\u001b[0m\n\u001b[1;32m   1971\u001b[0m \u001b[0;34m\u001b[0m\u001b[0m\n\u001b[0;32m-> 1972\u001b[0;31m         \u001b[0;32mreturn\u001b[0m \u001b[0mself\u001b[0m\u001b[0;34m.\u001b[0m\u001b[0m_vectorize_call\u001b[0m\u001b[0;34m(\u001b[0m\u001b[0mfunc\u001b[0m\u001b[0;34m=\u001b[0m\u001b[0mfunc\u001b[0m\u001b[0;34m,\u001b[0m \u001b[0margs\u001b[0m\u001b[0;34m=\u001b[0m\u001b[0mvargs\u001b[0m\u001b[0;34m)\u001b[0m\u001b[0;34m\u001b[0m\u001b[0;34m\u001b[0m\u001b[0m\n\u001b[0m\u001b[1;32m   1973\u001b[0m \u001b[0;34m\u001b[0m\u001b[0m\n\u001b[1;32m   1974\u001b[0m     \u001b[0;32mdef\u001b[0m \u001b[0m_get_ufunc_and_otypes\u001b[0m\u001b[0;34m(\u001b[0m\u001b[0mself\u001b[0m\u001b[0;34m,\u001b[0m \u001b[0mfunc\u001b[0m\u001b[0;34m,\u001b[0m \u001b[0margs\u001b[0m\u001b[0;34m)\u001b[0m\u001b[0;34m:\u001b[0m\u001b[0;34m\u001b[0m\u001b[0;34m\u001b[0m\u001b[0m\n",
      "\u001b[0;32m~/anaconda3/envs/core-dev/lib/python3.6/site-packages/numpy/lib/function_base.py\u001b[0m in \u001b[0;36m_vectorize_call\u001b[0;34m(self, func, args)\u001b[0m\n\u001b[1;32m   2046\u001b[0m                       for a in args]\n\u001b[1;32m   2047\u001b[0m \u001b[0;34m\u001b[0m\u001b[0m\n\u001b[0;32m-> 2048\u001b[0;31m             \u001b[0moutputs\u001b[0m \u001b[0;34m=\u001b[0m \u001b[0mufunc\u001b[0m\u001b[0;34m(\u001b[0m\u001b[0;34m*\u001b[0m\u001b[0minputs\u001b[0m\u001b[0;34m)\u001b[0m\u001b[0;34m\u001b[0m\u001b[0;34m\u001b[0m\u001b[0m\n\u001b[0m\u001b[1;32m   2049\u001b[0m \u001b[0;34m\u001b[0m\u001b[0m\n\u001b[1;32m   2050\u001b[0m             \u001b[0;32mif\u001b[0m \u001b[0mufunc\u001b[0m\u001b[0;34m.\u001b[0m\u001b[0mnout\u001b[0m \u001b[0;34m==\u001b[0m \u001b[0;36m1\u001b[0m\u001b[0;34m:\u001b[0m\u001b[0;34m\u001b[0m\u001b[0;34m\u001b[0m\u001b[0m\n",
      "\u001b[0;32m~/code/python/coremdlr/coremdlr/facies/datasets/well_loader.py\u001b[0m in \u001b[0;36m<lambda>\u001b[0;34m(l)\u001b[0m\n\u001b[1;32m    192\u001b[0m         \u001b[0;32melse\u001b[0m\u001b[0;34m:\u001b[0m\u001b[0;34m\u001b[0m\u001b[0;34m\u001b[0m\u001b[0m\n\u001b[1;32m    193\u001b[0m             \u001b[0mrow_labels\u001b[0m \u001b[0;34m=\u001b[0m \u001b[0mnp\u001b[0m\u001b[0;34m.\u001b[0m\u001b[0mload\u001b[0m\u001b[0;34m(\u001b[0m\u001b[0mstr\u001b[0m\u001b[0;34m(\u001b[0m\u001b[0mself\u001b[0m\u001b[0;34m.\u001b[0m\u001b[0mlabels_path\u001b[0m\u001b[0;34m)\u001b[0m\u001b[0;34m)\u001b[0m\u001b[0;34m\u001b[0m\u001b[0;34m\u001b[0m\u001b[0m\n\u001b[0;32m--> 194\u001b[0;31m             \u001b[0mself\u001b[0m\u001b[0;34m.\u001b[0m\u001b[0mrow_labels\u001b[0m \u001b[0;34m=\u001b[0m \u001b[0mnp\u001b[0m\u001b[0;34m.\u001b[0m\u001b[0mvectorize\u001b[0m\u001b[0;34m(\u001b[0m\u001b[0;32mlambda\u001b[0m \u001b[0ml\u001b[0m\u001b[0;34m:\u001b[0m \u001b[0mlabel_names\u001b[0m\u001b[0;34m.\u001b[0m\u001b[0mindex\u001b[0m\u001b[0;34m(\u001b[0m\u001b[0ml\u001b[0m\u001b[0;34m)\u001b[0m\u001b[0;34m)\u001b[0m\u001b[0;34m(\u001b[0m\u001b[0mrow_labels\u001b[0m\u001b[0;34m)\u001b[0m\u001b[0;34m\u001b[0m\u001b[0;34m\u001b[0m\u001b[0m\n\u001b[0m\u001b[1;32m    195\u001b[0m \u001b[0;34m\u001b[0m\u001b[0m\n\u001b[1;32m    196\u001b[0m         \u001b[0mself\u001b[0m\u001b[0;34m.\u001b[0m\u001b[0mrow_labels\u001b[0m \u001b[0;34m=\u001b[0m \u001b[0mdatasets_utils\u001b[0m\u001b[0;34m.\u001b[0m\u001b[0mdownsample\u001b[0m\u001b[0;34m(\u001b[0m\u001b[0mself\u001b[0m\u001b[0;34m.\u001b[0m\u001b[0mrow_labels\u001b[0m\u001b[0;34m,\u001b[0m \u001b[0mself\u001b[0m\u001b[0;34m.\u001b[0m\u001b[0mdownsample\u001b[0m\u001b[0;34m,\u001b[0m \u001b[0mfn\u001b[0m\u001b[0;34m=\u001b[0m\u001b[0;32mlambda\u001b[0m \u001b[0mx\u001b[0m\u001b[0;34m:\u001b[0m \u001b[0mmode\u001b[0m\u001b[0;34m(\u001b[0m\u001b[0mx\u001b[0m\u001b[0;34m)\u001b[0m\u001b[0;34m[\u001b[0m\u001b[0;36m0\u001b[0m\u001b[0;34m]\u001b[0m\u001b[0;34m[\u001b[0m\u001b[0;36m0\u001b[0m\u001b[0;34m]\u001b[0m\u001b[0;34m)\u001b[0m\u001b[0;34m\u001b[0m\u001b[0;34m\u001b[0m\u001b[0m\n",
      "\u001b[0;31mValueError\u001b[0m: b'os' is not in list"
     ]
    }
   ],
   "source": [
    "for test_well in well_names:\n",
    "    \n",
    "    print(f'\\n\\nTESTING WITH TEST WELL: {test_well}\\n\\n')\n",
    "    \n",
    "    fdset = FaciesDataset([name for name in well_names if name != test_well],\n",
    "                    test_wells=[test_well],\n",
    "                    features=[\"pseudoGR\"],\n",
    "                    label_resolution=32, \n",
    "                    pseudoGR_args={'scale_mode' : 'robust'})\n",
    "\n",
    "    fdset.load_or_generate_data()\n",
    "    \n",
    "    for loss in loss_options:\n",
    "        \n",
    "        print(f'\\nMODELING WITH LOSS: {loss}\\n')\n",
    "        \n",
    "        model_args = {**wavenet_model_args, **{'loss': loss}}\n",
    "        \n",
    "        wavenet_model = NetworkModel(fdset, model_args=wavenet_model_args)\n",
    "    \n",
    "        wavenet_model.fit(fdset, **fit_args)\n",
    "        \n",
    "        y_pred = wavenet_model.predict(fdset.X_test)\n",
    "\n",
    "        cm = confusion_matrix(fdset.y_test, y_pred)\n",
    "        \n",
    "        fig, ax = plt.subplots(ncols=2, sharey=True, figsize=(20,10))\n",
    "        fig.suptitle(f'{test_well}: {loss}')\n",
    "\n",
    "        model_plots.confusion_matrix_plot(cm, fdset.classes, ax=ax[0])\n",
    "        model_plots.confusion_matrix_plot(cm, fdset.classes, ax=ax[1], normalize=True)\n",
    "        \n",
    "        plt.show()"
   ]
  },
  {
   "cell_type": "code",
   "execution_count": 5,
   "metadata": {
    "scrolled": false
   },
   "outputs": [
    {
     "ename": "NameError",
     "evalue": "name 'Facies' is not defined",
     "output_type": "error",
     "traceback": [
      "\u001b[0;31m---------------------------------------------------------------------------\u001b[0m",
      "\u001b[0;31mNameError\u001b[0m                                 Traceback (most recent call last)",
      "\u001b[0;32m<ipython-input-5-99cd28d8ae6a>\u001b[0m in \u001b[0;36m<module>\u001b[0;34m()\u001b[0m\n\u001b[1;32m      2\u001b[0m \u001b[0;32mfrom\u001b[0m \u001b[0mcoremdlr\u001b[0m\u001b[0;34m.\u001b[0m\u001b[0mfacies\u001b[0m\u001b[0;34m.\u001b[0m\u001b[0mviz\u001b[0m \u001b[0;32mimport\u001b[0m \u001b[0mCorePlotter\u001b[0m\u001b[0;34m\u001b[0m\u001b[0;34m\u001b[0m\u001b[0m\n\u001b[1;32m      3\u001b[0m \u001b[0;34m\u001b[0m\u001b[0m\n\u001b[0;32m----> 4\u001b[0;31m \u001b[0mfdset\u001b[0m \u001b[0;34m=\u001b[0m \u001b[0mFacies\u001b[0m\u001b[0;34m\u001b[0m\u001b[0;34m\u001b[0m\u001b[0m\n\u001b[0m\u001b[1;32m      5\u001b[0m \u001b[0;34m\u001b[0m\u001b[0m\n\u001b[1;32m      6\u001b[0m \u001b[0mwell\u001b[0m \u001b[0;34m=\u001b[0m \u001b[0mfdset\u001b[0m\u001b[0;34m.\u001b[0m\u001b[0mget_well\u001b[0m\u001b[0;34m(\u001b[0m\u001b[0;34m\"204-20-1Z\"\u001b[0m\u001b[0;34m)\u001b[0m\u001b[0;34m\u001b[0m\u001b[0;34m\u001b[0m\u001b[0m\n",
      "\u001b[0;31mNameError\u001b[0m: name 'Facies' is not defined"
     ]
    }
   ],
   "source": [
    "# What's up with this well -- all sand?\n",
    "from coremdlr.viz import CorePlotter\n",
    "\n",
    "fdset = Facies\n",
    "\n",
    "well = fdset.get_well(\"204-20-1Z\")\n",
    "\n",
    "cplotter = CorePlotter(figsize=(10,200))\n",
    "cplotter.plot_image(well._image / 255.0, depths=well._depth)\n",
    "\n",
    "labels = well.make_striplog()\n",
    "cplotter.plot_strip(labels)\n",
    "\n",
    "plt.show()"
   ]
  },
  {
   "cell_type": "markdown",
   "metadata": {},
   "source": [
    "## Categorical Loss"
   ]
  },
  {
   "cell_type": "code",
   "execution_count": 2,
   "metadata": {},
   "outputs": [
    {
     "name": "stdout",
     "output_type": "stream",
     "text": [
      "Loading Well:  205-21b-3  from  /home/administrator/Dropbox/core_data/facies/train_data\n",
      "Feature shapes:  [('depth', (3842,)), ('top', (3842,)), ('base', (3842,)), ('pseudoGR', (3842, 32))]\n",
      "Loading Well:  204-20-6a  from  /home/administrator/Dropbox/core_data/facies/train_data\n",
      "Feature shapes:  [('depth', (3873,)), ('top', (3873,)), ('base', (3873,)), ('pseudoGR', (3873, 32))]\n",
      "Loading Well:  204-20-1Z  from  /home/administrator/Dropbox/core_data/facies/train_data\n",
      "Feature shapes:  [('depth', (1917,)), ('top', (1917,)), ('base', (1917,)), ('pseudoGR', (1917, 32))]\n",
      "Loading Well:  204-19-6  from  /home/administrator/Dropbox/core_data/facies/train_data\n",
      "Feature shapes:  [('depth', (1884,)), ('top', (1884,)), ('base', (1884,)), ('pseudoGR', (1884, 32))]\n",
      "Loading Well:  204-24a-6  from  /home/administrator/Dropbox/core_data/facies/train_data\n",
      "Feature shapes:  [('depth', (13006,)), ('top', (13006,)), ('base', (13006,)), ('pseudoGR', (13006, 32))]\n"
     ]
    }
   ],
   "source": [
    "well_names = [\"205-21b-3\", \"204-20-6a\", \"204-20-1Z\", \"204-19-6\", \"204-24a-6\"]\n",
    "\n",
    "fdset = FaciesDataset(well_names[:-1], [well_names[-1]], features=['pseudoGR'], label_resolution=32)\n",
    "\n",
    "fdset.load_or_generate_data()"
   ]
  },
  {
   "cell_type": "code",
   "execution_count": 6,
   "metadata": {
    "scrolled": false
   },
   "outputs": [],
   "source": [
    "wavenet_model_args = {\n",
    "    'feature' : 'pseudoGR',\n",
    "    'network' : 'wavenet',\n",
    "    'summary' : False,\n",
    "    'sequence_size' : 128,\n",
    "    'network_args' : {\n",
    "        'num_blocks' : 20,\n",
    "        'block_filters' : 128,\n",
    "        'residual_filters' : 64,\n",
    "        'output_resolution' : fdset.label_resolution,\n",
    "        'dropout_rate' : 0.5,\n",
    "    },\n",
    "    'optimizer_args' : {\n",
    "        'optimizer' : 'Adam',\n",
    "    },\n",
    "    'loss' : 'categorical_crossentropy'\n",
    "}\n",
    "\n",
    "fit_args = {\n",
    "    'batch_size' : 32,\n",
    "    'epochs' : 15,\n",
    "    'step_size' : wavenet_model.sequence_size - 32\n",
    "}\n",
    "\n"
   ]
  },
  {
   "cell_type": "code",
   "execution_count": 7,
   "metadata": {},
   "outputs": [
    {
     "name": "stdout",
     "output_type": "stream",
     "text": [
      "Shapes of `(batch_X, batch_y)`: (32, 4096, 8), (32, 128, 4)\n",
      "Epoch 1/15\n",
      "8/8 [==============================] - 33s 4s/step - loss: 0.7348 - acc: 0.6322 - val_loss: 0.8181 - val_acc: 0.5769\n",
      "Epoch 2/15\n",
      "8/8 [==============================] - 6s 722ms/step - loss: 0.7784 - acc: 0.5871 - val_loss: 0.7843 - val_acc: 0.6024\n",
      "Epoch 3/15\n",
      "8/8 [==============================] - 6s 691ms/step - loss: 0.7234 - acc: 0.6435 - val_loss: 0.7350 - val_acc: 0.6155\n",
      "Epoch 4/15\n",
      "8/8 [==============================] - 6s 689ms/step - loss: 0.7138 - acc: 0.6599 - val_loss: 0.8358 - val_acc: 0.5785\n",
      "Epoch 5/15\n",
      "8/8 [==============================] - 6s 690ms/step - loss: 0.6662 - acc: 0.6721 - val_loss: 0.7487 - val_acc: 0.5674\n",
      "Epoch 6/15\n",
      "8/8 [==============================] - 6s 694ms/step - loss: 0.6907 - acc: 0.6442 - val_loss: 0.7493 - val_acc: 0.5802\n",
      "Epoch 7/15\n",
      "8/8 [==============================] - 6s 690ms/step - loss: 0.7057 - acc: 0.6409 - val_loss: 0.7622 - val_acc: 0.5654\n",
      "Epoch 8/15\n",
      "8/8 [==============================] - 6s 700ms/step - loss: 0.6871 - acc: 0.6644 - val_loss: 0.7746 - val_acc: 0.5646\n",
      "Epoch 9/15\n",
      "8/8 [==============================] - 6s 693ms/step - loss: 0.6613 - acc: 0.6830 - val_loss: 0.7122 - val_acc: 0.5851\n",
      "Epoch 10/15\n",
      "8/8 [==============================] - 6s 700ms/step - loss: 0.6604 - acc: 0.6754 - val_loss: 0.7539 - val_acc: 0.5765\n",
      "Epoch 11/15\n",
      "8/8 [==============================] - 6s 700ms/step - loss: 0.6767 - acc: 0.6722 - val_loss: 0.7708 - val_acc: 0.5724\n",
      "Epoch 12/15\n",
      "8/8 [==============================] - 6s 697ms/step - loss: 0.6064 - acc: 0.7099 - val_loss: 0.7370 - val_acc: 0.5917\n",
      "Epoch 13/15\n",
      "8/8 [==============================] - 6s 706ms/step - loss: 0.6140 - acc: 0.7024 - val_loss: 0.7806 - val_acc: 0.5633\n",
      "Epoch 14/15\n",
      "8/8 [==============================] - 6s 711ms/step - loss: 0.6594 - acc: 0.6726 - val_loss: 0.8741 - val_acc: 0.5909\n",
      "Epoch 15/15\n",
      "8/8 [==============================] - 6s 731ms/step - loss: 0.6564 - acc: 0.6730 - val_loss: 0.9191 - val_acc: 0.5350\n"
     ]
    },
    {
     "data": {
      "text/plain": [
       "0.7122176681694231"
      ]
     },
     "execution_count": 7,
     "metadata": {},
     "output_type": "execute_result"
    }
   ],
   "source": [
    "fit_args = {\n",
    "    'batch_size' : 32,\n",
    "    'epochs' : 15,\n",
    "    'step_size' : wavenet_model.sequence_size - 32\n",
    "}\n",
    "\n",
    "wavenet_model.fit(fdset, **fit_args)"
   ]
  },
  {
   "cell_type": "code",
   "execution_count": 5,
   "metadata": {},
   "outputs": [
    {
     "data": {
      "text/plain": [
       "<matplotlib.axes._subplots.AxesSubplot at 0x7f63f5711278>"
      ]
     },
     "execution_count": 5,
     "metadata": {},
     "output_type": "execute_result"
    },
    {
     "data": {
      "image/png": "[encoded data removed]",
      "text/plain": [
       "<Figure size 432x288 with 1 Axes>"
      ]
     },
     "metadata": {},
     "output_type": "display_data"
    }
   ],
   "source": [
    "from sklearn.metrics import confusion_matrix\n",
    "\n",
    "y_pred = wavenet_model.predict(fdset.X_test)\n",
    "\n",
    "cm = confusion_matrix(fdset.y_test, y_pred)\n",
    "\n",
    "model_plots.confusion_matrix_plot(cm, fdset.classes)"
   ]
  },
  {
   "cell_type": "markdown",
   "metadata": {},
   "source": [
    "## Ordinal Loss"
   ]
  },
  {
   "cell_type": "code",
   "execution_count": 6,
   "metadata": {},
   "outputs": [
    {
     "name": "stdout",
     "output_type": "stream",
     "text": [
      "Shapes of `(batch_X, batch_y)`: (32, 4096), (32, 128, 4)\n",
      "Epoch 1/15\n",
      "4/4 [==============================] - 15s 4s/step - loss: 1.7321 - acc: 0.2377 - val_loss: 2.1522 - val_acc: 0.1086\n",
      "Epoch 2/15\n",
      "4/4 [==============================] - 4s 1s/step - loss: 1.1659 - acc: 0.2737 - val_loss: 1.8826 - val_acc: 0.1103\n",
      "Epoch 3/15\n",
      "4/4 [==============================] - 4s 1s/step - loss: 0.9399 - acc: 0.3167 - val_loss: 1.4949 - val_acc: 0.1479\n",
      "Epoch 4/15\n",
      "4/4 [==============================] - 4s 1s/step - loss: 0.8598 - acc: 0.3168 - val_loss: 1.3050 - val_acc: 0.1528\n",
      "Epoch 5/15\n",
      "4/4 [==============================] - 4s 1s/step - loss: 0.8054 - acc: 0.3339 - val_loss: 1.3663 - val_acc: 0.1533\n",
      "Epoch 6/15\n",
      "4/4 [==============================] - 4s 1s/step - loss: 0.7961 - acc: 0.3319 - val_loss: 1.3838 - val_acc: 0.1523\n",
      "Epoch 7/15\n",
      "4/4 [==============================] - 4s 1s/step - loss: 0.7616 - acc: 0.3335 - val_loss: 1.3796 - val_acc: 0.1563\n",
      "Epoch 8/15\n",
      "4/4 [==============================] - 4s 1s/step - loss: 0.7388 - acc: 0.3463 - val_loss: 1.3637 - val_acc: 0.1462\n",
      "Epoch 9/15\n",
      "4/4 [==============================] - 4s 1s/step - loss: 0.7795 - acc: 0.3122 - val_loss: 1.3706 - val_acc: 0.1464\n",
      "Epoch 10/15\n",
      "4/4 [==============================] - 4s 1s/step - loss: 0.7566 - acc: 0.3505 - val_loss: 1.3641 - val_acc: 0.1630\n",
      "Epoch 11/15\n",
      "4/4 [==============================] - 4s 1s/step - loss: 0.7557 - acc: 0.3344 - val_loss: 1.3220 - val_acc: 0.1444\n",
      "Epoch 12/15\n",
      "4/4 [==============================] - 5s 1s/step - loss: 0.7472 - acc: 0.3295 - val_loss: 1.3046 - val_acc: 0.1479\n",
      "Epoch 13/15\n",
      "4/4 [==============================] - 4s 1s/step - loss: 0.7501 - acc: 0.3456 - val_loss: 1.3070 - val_acc: 0.1549\n",
      "Epoch 14/15\n",
      "4/4 [==============================] - 5s 1s/step - loss: 0.7176 - acc: 0.3280 - val_loss: 1.3618 - val_acc: 0.1468\n",
      "Epoch 15/15\n",
      "4/4 [==============================] - 5s 1s/step - loss: 0.7502 - acc: 0.3380 - val_loss: 1.3480 - val_acc: 0.1543\n"
     ]
    },
    {
     "data": {
      "text/plain": [
       "1.3045707395265775"
      ]
     },
     "execution_count": 6,
     "metadata": {},
     "output_type": "execute_result"
    }
   ],
   "source": [
    "wavenet_model_args['loss'] = 'ordinal_squared_error'\n",
    "\n",
    "wavenet_model = NetworkModel(fdset, model_args=wavenet_model_args)\n",
    "\n",
    "wavenet_model.fit(fdset, **fit_args)"
   ]
  },
  {
   "cell_type": "code",
   "execution_count": 7,
   "metadata": {},
   "outputs": [
    {
     "data": {
      "text/plain": [
       "<matplotlib.axes._subplots.AxesSubplot at 0x7f5f7e087080>"
      ]
     },
     "execution_count": 7,
     "metadata": {},
     "output_type": "execute_result"
    },
    {
     "data": {
      "image/png": "[encoded data removed]",
      "text/plain": [
       "<Figure size 432x288 with 1 Axes>"
      ]
     },
     "metadata": {},
     "output_type": "display_data"
    }
   ],
   "source": [
    "y_pred = wavenet_model.predict(fdset.X_test)\n",
    "\n",
    "cm = confusion_matrix(fdset.y_test, y_pred)\n",
    "\n",
    "model_plots.confusion_matrix_plot(cm, fdset.classes)"
   ]
  },
  {
   "cell_type": "markdown",
   "metadata": {},
   "source": [
    "## Combined Loss"
   ]
  },
  {
   "cell_type": "code",
   "execution_count": 8,
   "metadata": {},
   "outputs": [],
   "source": [
    "wavenet_model_args['loss'] = {'categorical_crossentropy': 0.15, \n",
    "                              'ordinal_squared_error' : 0.85}\n",
    "\n",
    "wavenet_model = NetworkModel(fdset, model_args=wavenet_model_args)"
   ]
  },
  {
   "cell_type": "code",
   "execution_count": 9,
   "metadata": {},
   "outputs": [
    {
     "name": "stdout",
     "output_type": "stream",
     "text": [
      "here 1\n",
      "here 2\n",
      "Shapes of `(batch_X, batch_y)`: (32, 4096), (32, 128, 4)\n",
      "Epoch 1/15\n",
      "4/4 [==============================] - 16s 4s/step - loss: 2.3566 - acc: 0.2562 - val_loss: 2.5296 - val_acc: 0.1086\n",
      "Epoch 2/15\n",
      "4/4 [==============================] - 4s 1s/step - loss: 1.2528 - acc: 0.2550 - val_loss: 1.6835 - val_acc: 0.3062\n",
      "Epoch 3/15\n",
      "4/4 [==============================] - 4s 1s/step - loss: 0.9287 - acc: 0.3414 - val_loss: 1.5673 - val_acc: 0.5845\n",
      "Epoch 4/15\n",
      "4/4 [==============================] - 4s 1s/step - loss: 0.8296 - acc: 0.4420 - val_loss: 1.6564 - val_acc: 0.3078\n",
      "Epoch 5/15\n",
      "4/4 [==============================] - 4s 1s/step - loss: 0.8086 - acc: 0.4906 - val_loss: 1.5276 - val_acc: 0.2826\n",
      "Epoch 6/15\n",
      "4/4 [==============================] - 4s 1s/step - loss: 0.7738 - acc: 0.4894 - val_loss: 1.5822 - val_acc: 0.3096\n",
      "Epoch 7/15\n",
      "4/4 [==============================] - 4s 1s/step - loss: 0.7741 - acc: 0.4554 - val_loss: 1.4034 - val_acc: 0.2447\n",
      "Epoch 8/15\n",
      "4/4 [==============================] - 5s 1s/step - loss: 0.7476 - acc: 0.4728 - val_loss: 1.4498 - val_acc: 0.3010\n",
      "Epoch 9/15\n",
      "4/4 [==============================] - 4s 1s/step - loss: 0.7564 - acc: 0.5060 - val_loss: 1.5544 - val_acc: 0.3156\n",
      "Epoch 10/15\n",
      "4/4 [==============================] - 4s 1s/step - loss: 0.7438 - acc: 0.4965 - val_loss: 1.3271 - val_acc: 0.2891\n",
      "Epoch 11/15\n",
      "4/4 [==============================] - 4s 1s/step - loss: 0.7777 - acc: 0.4695 - val_loss: 1.4430 - val_acc: 0.3117\n",
      "Epoch 12/15\n",
      "4/4 [==============================] - 5s 1s/step - loss: 0.7438 - acc: 0.4972 - val_loss: 1.5282 - val_acc: 0.3024\n",
      "Epoch 13/15\n",
      "4/4 [==============================] - 4s 1s/step - loss: 0.7665 - acc: 0.5142 - val_loss: 1.4652 - val_acc: 0.3123\n",
      "Epoch 14/15\n",
      "4/4 [==============================] - 5s 1s/step - loss: 0.7785 - acc: 0.4923 - val_loss: 1.4281 - val_acc: 0.3155\n",
      "Epoch 15/15\n",
      "4/4 [==============================] - 4s 1s/step - loss: 0.7590 - acc: 0.4940 - val_loss: 1.4614 - val_acc: 0.3049\n"
     ]
    },
    {
     "data": {
      "text/plain": [
       "1.3271017201520778"
      ]
     },
     "execution_count": 9,
     "metadata": {},
     "output_type": "execute_result"
    }
   ],
   "source": [
    "wavenet_model.fit(fdset, **fit_args)"
   ]
  },
  {
   "cell_type": "code",
   "execution_count": 10,
   "metadata": {},
   "outputs": [
    {
     "data": {
      "text/plain": [
       "<matplotlib.axes._subplots.AxesSubplot at 0x7f5f2bb9a128>"
      ]
     },
     "execution_count": 10,
     "metadata": {},
     "output_type": "execute_result"
    },
    {
     "data": {
      "image/png": "[encoded data removed]",
      "text/plain": [
       "<Figure size 432x288 with 1 Axes>"
      ]
     },
     "metadata": {},
     "output_type": "display_data"
    }
   ],
   "source": [
    "y_pred = wavenet_model.predict(fdset.X_test)\n",
    "\n",
    "cm = confusion_matrix(fdset.y_test, y_pred)\n",
    "\n",
    "model_plots.confusion_matrix_plot(cm, fdset.classes)"
   ]
  },
  {
   "cell_type": "markdown",
   "metadata": {},
   "source": [
    "## Try same with class weighting"
   ]
  },
  {
   "cell_type": "code",
   "execution_count": 20,
   "metadata": {},
   "outputs": [
    {
     "name": "stdout",
     "output_type": "stream",
     "text": [
      "here 1\n",
      "here 2\n",
      "Shapes of `(batch_X, batch_y)`: (32, 4096), (32, 128, 4)\n",
      "Epoch 1/9\n",
      "4/4 [==============================] - 21s 5s/step - loss: 1.3692 - acc: 0.2569 - val_loss: 1.7527 - val_acc: 0.1086\n",
      "Epoch 2/9\n",
      "4/4 [==============================] - 5s 1s/step - loss: 0.8430 - acc: 0.2627 - val_loss: 1.3874 - val_acc: 0.1108\n",
      "Epoch 3/9\n",
      "4/4 [==============================] - 5s 1s/step - loss: 0.6668 - acc: 0.4149 - val_loss: 1.3284 - val_acc: 0.3166\n",
      "Epoch 4/9\n",
      "4/4 [==============================] - 5s 1s/step - loss: 0.6342 - acc: 0.4755 - val_loss: 1.2251 - val_acc: 0.2877\n",
      "Epoch 5/9\n",
      "4/4 [==============================] - 5s 1s/step - loss: 0.6084 - acc: 0.4630 - val_loss: 1.0920 - val_acc: 0.5148\n",
      "Epoch 6/9\n",
      "4/4 [==============================] - 5s 1s/step - loss: 0.6390 - acc: 0.4486 - val_loss: 1.2628 - val_acc: 0.2569\n",
      "Epoch 7/9\n",
      "4/4 [==============================] - 5s 1s/step - loss: 0.6209 - acc: 0.3951 - val_loss: 1.2749 - val_acc: 0.2964\n",
      "Epoch 8/9\n",
      "4/4 [==============================] - 5s 1s/step - loss: 0.5852 - acc: 0.4851 - val_loss: 1.2285 - val_acc: 0.3024\n",
      "Epoch 9/9\n",
      "4/4 [==============================] - 5s 1s/step - loss: 0.5882 - acc: 0.4613 - val_loss: 1.1687 - val_acc: 0.4446\n"
     ]
    },
    {
     "data": {
      "text/plain": [
       "1.091979438011293"
      ]
     },
     "execution_count": 20,
     "metadata": {},
     "output_type": "execute_result"
    }
   ],
   "source": [
    "fit_args['class_weighted'] = True\n",
    "fit_args['epochs'] = 9\n",
    "\n",
    "wavenet_model = NetworkModel(fdset, model_args=wavenet_model_args)\n",
    "\n",
    "wavenet_model.fit(fdset, **fit_args)"
   ]
  },
  {
   "cell_type": "code",
   "execution_count": 21,
   "metadata": {},
   "outputs": [
    {
     "data": {
      "text/plain": [
       "<matplotlib.axes._subplots.AxesSubplot at 0x7f5f0bd57c50>"
      ]
     },
     "execution_count": 21,
     "metadata": {},
     "output_type": "execute_result"
    },
    {
     "data": {
      "image/png": "[encoded data removed]",
      "text/plain": [
       "<Figure size 432x288 with 1 Axes>"
      ]
     },
     "metadata": {},
     "output_type": "display_data"
    }
   ],
   "source": [
    "y_pred = wavenet_model.predict(fdset.X_test)\n",
    "\n",
    "cm = confusion_matrix(fdset.y_test, y_pred)\n",
    "\n",
    "model_plots.confusion_matrix_plot(cm, fdset.classes)"
   ]
  },
  {
   "cell_type": "code",
   "execution_count": 13,
   "metadata": {},
   "outputs": [
    {
     "data": {
      "text/plain": [
       "array([0.28759986, 0.2451372 , 0.33475165, 0.13251129])"
      ]
     },
     "execution_count": 13,
     "metadata": {},
     "output_type": "execute_result"
    }
   ],
   "source": [
    "np.bincount(fdset.y_train) / fdset.y_train.size"
   ]
  },
  {
   "cell_type": "code",
   "execution_count": 22,
   "metadata": {},
   "outputs": [
    {
     "name": "stdout",
     "output_type": "stream",
     "text": [
      "here 1\n",
      "here 2\n",
      "Shapes of `(batch_X, batch_y)`: (32, 4096), (32, 128, 4)\n",
      "Epoch 1/30\n",
      "4/4 [==============================] - 23s 6s/step - loss: 1.6039 - acc: 0.1957 - val_loss: 1.7008 - val_acc: 0.1086\n",
      "Epoch 2/30\n",
      "4/4 [==============================] - 5s 1s/step - loss: 0.8408 - acc: 0.2481 - val_loss: 1.2969 - val_acc: 0.1095\n",
      "Epoch 3/30\n",
      "4/4 [==============================] - 5s 1s/step - loss: 0.6670 - acc: 0.3901 - val_loss: 1.1923 - val_acc: 0.1484\n",
      "Epoch 4/30\n",
      "4/4 [==============================] - 5s 1s/step - loss: 0.6032 - acc: 0.4014 - val_loss: 1.3088 - val_acc: 0.2751\n",
      "Epoch 5/30\n",
      "4/4 [==============================] - 5s 1s/step - loss: 0.6213 - acc: 0.4638 - val_loss: 1.4025 - val_acc: 0.2867\n",
      "Epoch 6/30\n",
      "4/4 [==============================] - 5s 1s/step - loss: 0.6182 - acc: 0.4314 - val_loss: 1.1638 - val_acc: 0.1485\n",
      "Epoch 7/30\n",
      "4/4 [==============================] - 5s 1s/step - loss: 0.6025 - acc: 0.4453 - val_loss: 1.2229 - val_acc: 0.2925\n",
      "Epoch 8/30\n",
      "4/4 [==============================] - 5s 1s/step - loss: 0.5802 - acc: 0.5153 - val_loss: 1.2111 - val_acc: 0.2739\n",
      "Epoch 9/30\n",
      "4/4 [==============================] - 5s 1s/step - loss: 0.5771 - acc: 0.5089 - val_loss: 1.0868 - val_acc: 0.1585\n",
      "Epoch 10/30\n",
      "4/4 [==============================] - 5s 1s/step - loss: 0.5715 - acc: 0.4524 - val_loss: 1.1590 - val_acc: 0.3045\n",
      "Epoch 11/30\n",
      "4/4 [==============================] - 5s 1s/step - loss: 0.5701 - acc: 0.4873 - val_loss: 1.1289 - val_acc: 0.3052\n",
      "Epoch 12/30\n",
      "4/4 [==============================] - 5s 1s/step - loss: 0.5617 - acc: 0.4995 - val_loss: 1.1483 - val_acc: 0.3138\n",
      "Epoch 13/30\n",
      "4/4 [==============================] - 5s 1s/step - loss: 0.5663 - acc: 0.5048 - val_loss: 1.0967 - val_acc: 0.3135\n",
      "Epoch 14/30\n",
      "4/4 [==============================] - 5s 1s/step - loss: 0.5728 - acc: 0.5079 - val_loss: 1.0718 - val_acc: 0.2997\n",
      "Epoch 15/30\n",
      "4/4 [==============================] - 5s 1s/step - loss: 0.5492 - acc: 0.5068 - val_loss: 1.2116 - val_acc: 0.3161\n",
      "Epoch 16/30\n",
      "4/4 [==============================] - 5s 1s/step - loss: 0.5582 - acc: 0.5223 - val_loss: 1.1200 - val_acc: 0.3056\n",
      "Epoch 17/30\n",
      "4/4 [==============================] - 5s 1s/step - loss: 0.5539 - acc: 0.5115 - val_loss: 1.0897 - val_acc: 0.3116\n",
      "Epoch 18/30\n",
      "4/4 [==============================] - 5s 1s/step - loss: 0.5582 - acc: 0.5124 - val_loss: 1.1029 - val_acc: 0.3121\n",
      "Epoch 19/30\n",
      "4/4 [==============================] - 5s 1s/step - loss: 0.5542 - acc: 0.5109 - val_loss: 1.1084 - val_acc: 0.3112\n",
      "Epoch 20/30\n",
      "4/4 [==============================] - 5s 1s/step - loss: 0.5434 - acc: 0.5210 - val_loss: 1.2331 - val_acc: 0.3056\n",
      "Epoch 21/30\n",
      "4/4 [==============================] - 5s 1s/step - loss: 0.5577 - acc: 0.5325 - val_loss: 1.0958 - val_acc: 0.2979\n",
      "Epoch 22/30\n",
      "4/4 [==============================] - 5s 1s/step - loss: 0.5658 - acc: 0.5202 - val_loss: 1.0865 - val_acc: 0.3107\n",
      "Epoch 23/30\n",
      "4/4 [==============================] - 5s 1s/step - loss: 0.5523 - acc: 0.5080 - val_loss: 1.1157 - val_acc: 0.3104\n",
      "Epoch 24/30\n",
      "4/4 [==============================] - 5s 1s/step - loss: 0.5572 - acc: 0.5227 - val_loss: 1.1613 - val_acc: 0.3050\n",
      "Epoch 25/30\n",
      "4/4 [==============================] - 5s 1s/step - loss: 0.5419 - acc: 0.5476 - val_loss: 1.1203 - val_acc: 0.3031\n",
      "Epoch 26/30\n",
      "4/4 [==============================] - 5s 1s/step - loss: 0.5365 - acc: 0.5458 - val_loss: 1.1097 - val_acc: 0.3104\n",
      "Epoch 27/30\n",
      "4/4 [==============================] - 5s 1s/step - loss: 0.5499 - acc: 0.5215 - val_loss: 1.1488 - val_acc: 0.3153\n",
      "Epoch 28/30\n",
      "4/4 [==============================] - 5s 1s/step - loss: 0.5441 - acc: 0.5278 - val_loss: 1.0747 - val_acc: 0.2978\n",
      "Epoch 29/30\n",
      "4/4 [==============================] - 5s 1s/step - loss: 0.5569 - acc: 0.5338 - val_loss: 1.2337 - val_acc: 0.3164\n",
      "Epoch 30/30\n",
      "4/4 [==============================] - 5s 1s/step - loss: 0.5550 - acc: 0.5302 - val_loss: 1.0933 - val_acc: 0.2958\n"
     ]
    },
    {
     "data": {
      "text/plain": [
       "1.0717799265903456"
      ]
     },
     "execution_count": 22,
     "metadata": {},
     "output_type": "execute_result"
    }
   ],
   "source": [
    "fit_args['class_weighted'] = True\n",
    "fit_args['epochs'] = 30\n",
    "\n",
    "wavenet_model = NetworkModel(fdset, model_args=wavenet_model_args)\n",
    "\n",
    "wavenet_model.fit(fdset, **fit_args)"
   ]
  },
  {
   "cell_type": "code",
   "execution_count": null,
   "metadata": {},
   "outputs": [],
   "source": []
  }
 ],
 "metadata": {
  "kernelspec": {
   "display_name": "Python 3",
   "language": "python",
   "name": "python3"
  },
  "language_info": {
   "codemirror_mode": {
    "name": "ipython",
    "version": 3
   },
   "file_extension": ".py",
   "mimetype": "text/x-python",
   "name": "python",
   "nbconvert_exporter": "python",
   "pygments_lexer": "ipython3",
   "version": "3.6.7"
  }
 },
 "nbformat": 4,
 "nbformat_minor": 2
}
