{
 "cells": [
  {
   "cell_type": "markdown",
   "metadata": {},
   "source": [
    "### Purpose\n",
    "\n",
    "Test the WaveNet network on `pseudoGR` features. Demonstrate the difference between `categorical` loss, `ordinal` loss, and a combination."
   ]
  },
  {
   "cell_type": "code",
   "execution_count": 1,
   "metadata": {},
   "outputs": [
    {
     "name": "stderr",
     "output_type": "stream",
     "text": [
      "Using TensorFlow backend.\n"
     ]
    }
   ],
   "source": [
    "import numpy as np\n",
    "from sklearn.metrics import confusion_matrix\n",
    "\n",
    "from coremdlr.viz import model_plots\n",
    "from coremdlr.models import NetworkModel\n",
    "from coremdlr.datasets import DepthSequenceGenerator, FaciesDataset\n",
    "\n",
    "\n",
    "import os\n",
    "\n",
    "os.environ[\"CUDA_DEVICE_ORDER\"]=\"PCI_BUS_ID\"\n",
    "os.environ[\"CUDA_VISIBLE_DEVICES\"]=\"1\""
   ]
  },
  {
   "cell_type": "code",
   "execution_count": 2,
   "metadata": {},
   "outputs": [
    {
     "name": "stdout",
     "output_type": "stream",
     "text": [
      "Loading Well:  205-21b-3  from  /home/administrator/Dropbox/core_data/facies/train_data\n",
      "Feature shapes:  [('depth', (3842,)), ('top', (3842,)), ('base', (3842,)), ('pseudoGR', (3842, 32))]\n",
      "Loading Well:  204-20-6a  from  /home/administrator/Dropbox/core_data/facies/train_data\n",
      "Feature shapes:  [('depth', (3873,)), ('top', (3873,)), ('base', (3873,)), ('pseudoGR', (3873, 32))]\n",
      "Loading Well:  204-24a-6  from  /home/administrator/Dropbox/core_data/facies/train_data\n",
      "Feature shapes:  [('depth', (13006,)), ('top', (13006,)), ('base', (13006,)), ('pseudoGR', (13006, 32))]\n",
      "Loading Well:  204-19-6  from  /home/administrator/Dropbox/core_data/facies/train_data\n",
      "Feature shapes:  [('depth', (1884,)), ('top', (1884,)), ('base', (1884,)), ('pseudoGR', (1884, 32))]\n"
     ]
    }
   ],
   "source": [
    "fdset = FaciesDataset([\"205-21b-3\", \"204-20-6a\", \"204-24a-6\"],\n",
    "                    test_wells=[\"204-19-6\"],\n",
    "                    features=[\"pseudoGR\"],\n",
    "                    label_resolution=32, \n",
    "                    pseudoGR_args={'scale_mode' : 'robust'})\n",
    "\n",
    "fdset.load_or_generate_data()"
   ]
  },
  {
   "cell_type": "code",
   "execution_count": 3,
   "metadata": {},
   "outputs": [],
   "source": [
    "import matplotlib.pyplot as plt\n",
    "%matplotlib inline\n",
    "\n",
    "loss_options = ('categorical_crossentropy',\n",
    "                'ordinal_squared_error',\n",
    "                {'categorical_crossentropy': 0.2,\n",
    "                 'ordinal_squared_error': 0.8})\n",
    "\n",
    "wavenet_model_args = {\n",
    "    'summary' : False,\n",
    "    'feature' : 'pseudoGR',\n",
    "    'network' : 'wavenet',\n",
    "    'sequence_size' : 128,\n",
    "    'network_args' : {\n",
    "        'num_blocks' : 20,\n",
    "        'block_filters' : 128,\n",
    "        'residual_filters' : 64,\n",
    "        'output_resolution' : 32,\n",
    "        'dropout_rate' : 0.5,\n",
    "    },\n",
    "    'optimizer_args' : {\n",
    "       'optimizer' : 'Adam'\n",
    "    }\n",
    "}\n",
    "\n",
    "fit_args = {\n",
    "    'batch_size' : 16,\n",
    "    'epochs' : 15,\n",
    "    'class_weighted': True\n",
    "}"
   ]
  },
  {
   "cell_type": "markdown",
   "metadata": {},
   "source": [
    "## Categorical Loss"
   ]
  },
  {
   "cell_type": "code",
   "execution_count": 4,
   "metadata": {
    "scrolled": false
   },
   "outputs": [],
   "source": [
    "model_args = {**wavenet_model_args, **{'loss': loss_options[0]}}\n",
    "\n",
    "wavenet_model = NetworkModel(fdset, model_args=model_args)"
   ]
  },
  {
   "cell_type": "code",
   "execution_count": 5,
   "metadata": {},
   "outputs": [
    {
     "name": "stdout",
     "output_type": "stream",
     "text": [
      "here 1\n",
      "here 2\n",
      "Shapes of `(batch_X, batch_y)`: (16, 4096), (16, 128, 4)\n",
      "Epoch 1/15\n",
      "20/20 [==============================] - 19s 961ms/step - loss: 1.1968 - acc: 0.3352 - val_loss: 1.1398 - val_acc: 0.1973\n",
      "Epoch 2/15\n",
      "20/20 [==============================] - 7s 372ms/step - loss: 1.0374 - acc: 0.3453 - val_loss: 0.8228 - val_acc: 0.5879\n",
      "Epoch 3/15\n",
      "20/20 [==============================] - 7s 373ms/step - loss: 0.9184 - acc: 0.4691 - val_loss: 0.8019 - val_acc: 0.5770\n",
      "Epoch 4/15\n",
      "20/20 [==============================] - 7s 372ms/step - loss: 0.9178 - acc: 0.4733 - val_loss: 0.8229 - val_acc: 0.5770\n",
      "Epoch 5/15\n",
      "20/20 [==============================] - 7s 373ms/step - loss: 0.8991 - acc: 0.4884 - val_loss: 0.8343 - val_acc: 0.5645\n",
      "Epoch 6/15\n",
      "20/20 [==============================] - 7s 373ms/step - loss: 0.8891 - acc: 0.4965 - val_loss: 0.8125 - val_acc: 0.5511\n",
      "Epoch 7/15\n",
      "20/20 [==============================] - 7s 373ms/step - loss: 0.8953 - acc: 0.4947 - val_loss: 0.8340 - val_acc: 0.5159\n",
      "Epoch 8/15\n",
      "20/20 [==============================] - 7s 374ms/step - loss: 0.8863 - acc: 0.4896 - val_loss: 0.8485 - val_acc: 0.5511\n",
      "Epoch 9/15\n",
      "20/20 [==============================] - 7s 373ms/step - loss: 0.8782 - acc: 0.5094 - val_loss: 0.8706 - val_acc: 0.5265\n",
      "Epoch 10/15\n",
      "20/20 [==============================] - 7s 373ms/step - loss: 0.8825 - acc: 0.4980 - val_loss: 0.8388 - val_acc: 0.5312\n",
      "Epoch 11/15\n",
      "20/20 [==============================] - 7s 375ms/step - loss: 0.8810 - acc: 0.5098 - val_loss: 0.8679 - val_acc: 0.5458\n",
      "Epoch 12/15\n",
      "20/20 [==============================] - 8s 380ms/step - loss: 0.8722 - acc: 0.5146 - val_loss: 0.8126 - val_acc: 0.5628\n",
      "Epoch 13/15\n",
      "20/20 [==============================] - 8s 384ms/step - loss: 0.8662 - acc: 0.5138 - val_loss: 0.8195 - val_acc: 0.5592\n",
      "Epoch 14/15\n",
      "20/20 [==============================] - 8s 392ms/step - loss: 0.8598 - acc: 0.5277 - val_loss: 0.8184 - val_acc: 0.5525\n",
      "Epoch 15/15\n",
      "20/20 [==============================] - 8s 391ms/step - loss: 0.8702 - acc: 0.5206 - val_loss: 0.8514 - val_acc: 0.5675\n"
     ]
    },
    {
     "data": {
      "text/plain": [
       "0.8018899740917342"
      ]
     },
     "execution_count": 5,
     "metadata": {},
     "output_type": "execute_result"
    }
   ],
   "source": [
    "wavenet_model.fit(fdset, **fit_args)"
   ]
  },
  {
   "cell_type": "code",
   "execution_count": 6,
   "metadata": {},
   "outputs": [
    {
     "data": {
      "text/plain": [
       "<matplotlib.axes._subplots.AxesSubplot at 0x7fdda97bcbe0>"
      ]
     },
     "execution_count": 6,
     "metadata": {},
     "output_type": "execute_result"
    },
    {
     "data": {
      "image/png": "[encoded data removed]",
      "text/plain": [
       "<Figure size 432x288 with 1 Axes>"
      ]
     },
     "metadata": {},
     "output_type": "display_data"
    }
   ],
   "source": [
    "y_pred = wavenet_model.predict(fdset.X_test)\n",
    "\n",
    "cm = confusion_matrix(fdset.y_test, y_pred)\n",
    "\n",
    "model_plots.confusion_matrix_plot(cm, fdset.classes)"
   ]
  },
  {
   "cell_type": "markdown",
   "metadata": {},
   "source": [
    "## Ordinal Loss"
   ]
  },
  {
   "cell_type": "code",
   "execution_count": 7,
   "metadata": {},
   "outputs": [
    {
     "name": "stdout",
     "output_type": "stream",
     "text": [
      "Shapes of `(batch_X, batch_y)`: (16, 4096), (16, 128, 4)\n",
      "Epoch 1/15\n",
      "20/20 [==============================] - 19s 953ms/step - loss: 1.1613 - acc: 0.2291 - val_loss: 1.7885 - val_acc: 0.1540\n",
      "Epoch 2/15\n",
      "20/20 [==============================] - 8s 384ms/step - loss: 1.0686 - acc: 0.2636 - val_loss: 1.7885 - val_acc: 0.1540\n",
      "Epoch 3/15\n",
      "20/20 [==============================] - 8s 393ms/step - loss: 1.0695 - acc: 0.2621 - val_loss: 1.7885 - val_acc: 0.1540\n",
      "Epoch 4/15\n",
      "20/20 [==============================] - 8s 395ms/step - loss: 1.0693 - acc: 0.2620 - val_loss: 1.7885 - val_acc: 0.1540\n",
      "Epoch 5/15\n",
      "20/20 [==============================] - 8s 394ms/step - loss: 1.0652 - acc: 0.2643 - val_loss: 1.7885 - val_acc: 0.1540\n",
      "Epoch 6/15\n",
      "20/20 [==============================] - 8s 392ms/step - loss: 1.0691 - acc: 0.2623 - val_loss: 1.7885 - val_acc: 0.1540\n",
      "Epoch 7/15\n",
      "20/20 [==============================] - 8s 393ms/step - loss: 1.0695 - acc: 0.2626 - val_loss: 1.7885 - val_acc: 0.1540\n",
      "Epoch 8/15\n",
      "20/20 [==============================] - 8s 394ms/step - loss: 1.0703 - acc: 0.2626 - val_loss: 1.7885 - val_acc: 0.1540\n",
      "Epoch 9/15\n",
      "20/20 [==============================] - 8s 395ms/step - loss: 1.0666 - acc: 0.2628 - val_loss: 1.7885 - val_acc: 0.1540\n",
      "Epoch 10/15\n",
      "20/20 [==============================] - 8s 395ms/step - loss: 1.0677 - acc: 0.2626 - val_loss: 1.7885 - val_acc: 0.1540\n",
      "Epoch 11/15\n",
      "20/20 [==============================] - 8s 394ms/step - loss: 1.0668 - acc: 0.2632 - val_loss: 1.7885 - val_acc: 0.1540\n",
      "Epoch 12/15\n",
      "20/20 [==============================] - 8s 395ms/step - loss: 1.0676 - acc: 0.2630 - val_loss: 1.7885 - val_acc: 0.1540\n",
      "Epoch 13/15\n",
      "20/20 [==============================] - 8s 395ms/step - loss: 1.0695 - acc: 0.2627 - val_loss: 1.7885 - val_acc: 0.1540\n",
      "Epoch 14/15\n",
      "20/20 [==============================] - 8s 392ms/step - loss: 1.0715 - acc: 0.2623 - val_loss: 1.7885 - val_acc: 0.1540\n",
      "Epoch 15/15\n",
      "20/20 [==============================] - 8s 394ms/step - loss: 1.0660 - acc: 0.2636 - val_loss: 1.7885 - val_acc: 0.1540\n"
     ]
    },
    {
     "data": {
      "text/plain": [
       "1.7885081810610635"
      ]
     },
     "execution_count": 7,
     "metadata": {},
     "output_type": "execute_result"
    }
   ],
   "source": [
    "model_args = {**wavenet_model_args, **{'loss': loss_options[1]}}\n",
    "\n",
    "wavenet_model = NetworkModel(fdset, model_args=model_args)\n",
    "\n",
    "wavenet_model.fit(fdset, **fit_args)"
   ]
  },
  {
   "cell_type": "code",
   "execution_count": 8,
   "metadata": {},
   "outputs": [
    {
     "data": {
      "text/plain": [
       "<matplotlib.axes._subplots.AxesSubplot at 0x7fda5fe689e8>"
      ]
     },
     "execution_count": 8,
     "metadata": {},
     "output_type": "execute_result"
    },
    {
     "data": {
      "image/png": "[encoded data removed]",
      "text/plain": [
       "<Figure size 432x288 with 1 Axes>"
      ]
     },
     "metadata": {},
     "output_type": "display_data"
    }
   ],
   "source": [
    "y_pred = wavenet_model.predict(fdset.X_test)\n",
    "\n",
    "cm = confusion_matrix(fdset.y_test, y_pred)\n",
    "\n",
    "model_plots.confusion_matrix_plot(cm, fdset.classes)"
   ]
  },
  {
   "cell_type": "markdown",
   "metadata": {},
   "source": [
    "## Combined Loss"
   ]
  },
  {
   "cell_type": "code",
   "execution_count": 9,
   "metadata": {},
   "outputs": [
    {
     "name": "stdout",
     "output_type": "stream",
     "text": [
      "here 1\n",
      "here 2\n",
      "Shapes of `(batch_X, batch_y)`: (16, 4096), (16, 128, 4)\n",
      "Epoch 1/15\n",
      "20/20 [==============================] - 20s 1s/step - loss: 1.2868 - acc: 0.2656 - val_loss: 2.7200 - val_acc: 0.1973\n",
      "Epoch 2/15\n",
      "20/20 [==============================] - 8s 394ms/step - loss: 0.9703 - acc: 0.2950 - val_loss: 0.7283 - val_acc: 0.4925\n",
      "Epoch 3/15\n",
      "20/20 [==============================] - 8s 395ms/step - loss: 0.7893 - acc: 0.4161 - val_loss: 0.8112 - val_acc: 0.5444\n",
      "Epoch 4/15\n",
      "20/20 [==============================] - 8s 397ms/step - loss: 0.7730 - acc: 0.4489 - val_loss: 0.7533 - val_acc: 0.5806\n",
      "Epoch 5/15\n",
      "20/20 [==============================] - 8s 395ms/step - loss: 0.7521 - acc: 0.4819 - val_loss: 0.7358 - val_acc: 0.5801\n",
      "Epoch 6/15\n",
      "20/20 [==============================] - 8s 396ms/step - loss: 0.7577 - acc: 0.4481 - val_loss: 0.8312 - val_acc: 0.5449\n",
      "Epoch 7/15\n",
      "20/20 [==============================] - 8s 393ms/step - loss: 0.7402 - acc: 0.4790 - val_loss: 0.7299 - val_acc: 0.5709\n",
      "Epoch 8/15\n",
      "20/20 [==============================] - 8s 395ms/step - loss: 0.7440 - acc: 0.4919 - val_loss: 0.7882 - val_acc: 0.5533\n",
      "Epoch 9/15\n",
      "20/20 [==============================] - 8s 396ms/step - loss: 0.7347 - acc: 0.4891 - val_loss: 0.7505 - val_acc: 0.5653\n",
      "Epoch 10/15\n",
      "20/20 [==============================] - 8s 394ms/step - loss: 0.7484 - acc: 0.4960 - val_loss: 0.7636 - val_acc: 0.5737\n",
      "Epoch 11/15\n",
      "20/20 [==============================] - 8s 395ms/step - loss: 0.7559 - acc: 0.4884 - val_loss: 0.7369 - val_acc: 0.5692\n",
      "Epoch 12/15\n",
      "20/20 [==============================] - 8s 396ms/step - loss: 0.7302 - acc: 0.5098 - val_loss: 0.8107 - val_acc: 0.5731\n",
      "Epoch 13/15\n",
      "20/20 [==============================] - 8s 395ms/step - loss: 0.7244 - acc: 0.4941 - val_loss: 0.7759 - val_acc: 0.5703\n",
      "Epoch 14/15\n",
      "20/20 [==============================] - 8s 394ms/step - loss: 0.7314 - acc: 0.5060 - val_loss: 0.7718 - val_acc: 0.5658\n",
      "Epoch 15/15\n",
      "20/20 [==============================] - 8s 396ms/step - loss: 0.7315 - acc: 0.5125 - val_loss: 0.9123 - val_acc: 0.5511\n"
     ]
    },
    {
     "data": {
      "text/plain": [
       "0.7282993367740086"
      ]
     },
     "execution_count": 9,
     "metadata": {},
     "output_type": "execute_result"
    }
   ],
   "source": [
    "model_args = {**wavenet_model_args, **{'loss': loss_options[2]}}\n",
    "\n",
    "wavenet_model = NetworkModel(fdset, model_args=model_args)\n",
    "\n",
    "wavenet_model.fit(fdset, **fit_args)"
   ]
  },
  {
   "cell_type": "code",
   "execution_count": 11,
   "metadata": {},
   "outputs": [
    {
     "data": {
      "text/plain": [
       "<matplotlib.axes._subplots.AxesSubplot at 0x7fd9fc510908>"
      ]
     },
     "execution_count": 11,
     "metadata": {},
     "output_type": "execute_result"
    },
    {
     "data": {
      "image/png": "[encoded data removed]",
      "text/plain": [
       "<Figure size 432x288 with 1 Axes>"
      ]
     },
     "metadata": {},
     "output_type": "display_data"
    }
   ],
   "source": [
    "y_pred = wavenet_model.predict(fdset.X_test)\n",
    "\n",
    "cm = confusion_matrix(fdset.y_test, y_pred)\n",
    "\n",
    "model_plots.confusion_matrix_plot(cm, fdset.classes)"
   ]
  },
  {
   "cell_type": "code",
   "execution_count": null,
   "metadata": {},
   "outputs": [],
   "source": []
  },
  {
   "cell_type": "code",
   "execution_count": null,
   "metadata": {},
   "outputs": [],
   "source": []
  }
 ],
 "metadata": {
  "kernelspec": {
   "display_name": "Python 3",
   "language": "python",
   "name": "python3"
  },
  "language_info": {
   "codemirror_mode": {
    "name": "ipython",
    "version": 3
   },
   "file_extension": ".py",
   "mimetype": "text/x-python",
   "name": "python",
   "nbconvert_exporter": "python",
   "pygments_lexer": "ipython3",
   "version": "3.6.5"
  }
 },
 "nbformat": 4,
 "nbformat_minor": 2
}
