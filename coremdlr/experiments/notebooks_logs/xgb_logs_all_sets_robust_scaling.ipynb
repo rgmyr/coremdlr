{
 "cells": [
  {
   "cell_type": "code",
   "execution_count": 1,
   "metadata": {},
   "outputs": [
    {
     "name": "stderr",
     "output_type": "stream",
     "text": [
      "Using TensorFlow backend.\n"
     ]
    }
   ],
   "source": [
    "import numpy as np\n",
    "import pandas as pd\n",
    "from random import sample\n",
    "\n",
    "from coremdlr.config import defaults\n",
    "from coremdlr.datasets.utils import infer_test_wells\n",
    "\n",
    "from coremdlr.models import FeaturePredictor, LambdaModel\n",
    "from coremdlr.datasets import WellLoader, FaciesDataset"
   ]
  },
  {
   "cell_type": "code",
   "execution_count": 2,
   "metadata": {},
   "outputs": [],
   "source": [
    "import hyperopt\n",
    "from hyperopt import hp\n",
    "from hyperopt.pyll.base import scope\n",
    "from sklearn.metrics import f1_score, log_loss\n",
    "from sklearn.utils.class_weight import compute_sample_weight"
   ]
  },
  {
   "cell_type": "code",
   "execution_count": 3,
   "metadata": {},
   "outputs": [],
   "source": [
    "fmodel_args = {\n",
    "    'logs': {\n",
    "        'model': 'LambdaModel',\n",
    "        'model_args': {'feature': 'logs'}\n",
    "    }\n",
    "}\n",
    "\n",
    "XGB_SEARCH_SPACE = {\n",
    "    'model_type' : 'XGB',\n",
    "    'max_depth' : scope.int(hp.quniform('max_depth', 3, 10, 1)),\n",
    "    'learning_rate' : hp.uniform('learning_rate', 0.01, 0.2),\n",
    "    'n_estimators' : scope.int(hp.quniform('n_estimators', 10, 1000, 1)),\n",
    "    'objective' : 'multi:softprob',\n",
    "    'n_jobs' : 2,\n",
    "    'gamma' : hp.uniform('gamma', 0, 0.5),\n",
    "    'subsample' : hp.uniform('subsample', 0.3, 1),\n",
    "    'colsample_bytree' : hp.uniform('colsample_bytree', 0.3, 1.0),\n",
    "    'colsample_bylevel' : 1,\n",
    "    'reg_alpha' : 0,                                    # L1 penalty\n",
    "    'reg_lambda' : hp.uniform('reg_lambda', 0.1, 10),   # L2 penalty\n",
    "    'tree_method' : 'gpu_exact',\n",
    "}\n",
    "\n",
    "def make_params_usable(params):\n",
    "    \"\"\"\n",
    "    Convert params returned by hyperopt to usable `model_args`\n",
    "    \"\"\"\n",
    "    return {\n",
    "        **XGB_SEARCH_SPACE,\n",
    "        **params,\n",
    "        **{'max_depth' : int(params['max_depth']),\n",
    "           'n_estimators' : int(params['n_estimators'])}\n",
    "    }"
   ]
  },
  {
   "cell_type": "code",
   "execution_count": 4,
   "metadata": {},
   "outputs": [],
   "source": [
    "def run_experiment(num_train, max_evals=10, search_space=XGB_SEARCH_SPACE):\n",
    "    \n",
    "    assert num_train in [3, 6, 9], 'Must use one of predefined train/test splits'\n",
    "    \n",
    "    train_sets = getattr(defaults, f'TRAIN_SETS_{num_train}')\n",
    "    \n",
    "    datasets = [FaciesDataset(s, infer_test_wells(s), features=['logs']) for s in train_sets]\n",
    "    \n",
    "    for dset in datasets:\n",
    "        dset.load_or_generate_data()\n",
    "    \n",
    "    def train_model(model_config):\n",
    "        \n",
    "        log_losses = []\n",
    "        \n",
    "        for dset in datasets:\n",
    "            \n",
    "            model = FeaturePredictor(dset, model_args=model_config, feature_model_args=fmodel_args)\n",
    "            model.fit(dset, verbose=False)\n",
    "            print('F1 score:', f1_score(dset.y_test, model.predict(dset.X_test), average='macro'))\n",
    "            \n",
    "            log_losses.append(log_loss(dset.y_test, model.predict_proba(dset.X_test), \n",
    "                                      sample_weight=compute_sample_weight('balanced', dset.y_test)))\n",
    "            \n",
    "        return np.mean(log_losses)\n",
    "    \n",
    "    return hyperopt.fmin(\n",
    "        fn=train_model,\n",
    "        space=XGB_SEARCH_SPACE,\n",
    "        algo=hyperopt.rand.suggest,\n",
    "        max_evals=max_evals\n",
    "    )"
   ]
  },
  {
   "cell_type": "code",
   "execution_count": 5,
   "metadata": {},
   "outputs": [
    {
     "name": "stdout",
     "output_type": "stream",
     "text": [
      "Loading Well:  204-24a-7  from  /home/administrator/Dropbox/core_data/facies/train_data\n"
     ]
    },
    {
     "name": "stderr",
     "output_type": "stream",
     "text": [
      "Header section Parameter regexp=~P was not found.\n"
     ]
    },
    {
     "name": "stdout",
     "output_type": "stream",
     "text": [
      "Adding NaN log:  SP\n",
      "Adding NaN log:  DTS\n",
      "Feature shapes:  [('depth', (19294,)), ('top', (19294,)), ('base', (19294,)), ('logs', (19294, 11))]\n",
      "Loading Well:  204-24a-6  from  /home/administrator/Dropbox/core_data/facies/train_data\n"
     ]
    },
    {
     "name": "stderr",
     "output_type": "stream",
     "text": [
      "Header section Parameter regexp=~P was not found.\n"
     ]
    },
    {
     "name": "stdout",
     "output_type": "stream",
     "text": [
      "Adding NaN log:  SP\n",
      "Adding NaN log:  DTS1\n",
      "Adding NaN log:  DTS2\n",
      "Feature shapes:  [('depth', (13006,)), ('top', (13006,)), ('base', (13006,)), ('logs', (13006, 11))]\n",
      "Loading Well:  204-20-3  from  /home/administrator/Dropbox/core_data/facies/train_data\n"
     ]
    },
    {
     "name": "stderr",
     "output_type": "stream",
     "text": [
      "Header section Parameter regexp=~P was not found.\n"
     ]
    },
    {
     "name": "stdout",
     "output_type": "stream",
     "text": [
      "Feature shapes:  [('depth', (10906,)), ('top', (10906,)), ('base', (10906,)), ('logs', (10906, 11))]\n",
      "Loading Well:  204-20-2  from  /home/administrator/Dropbox/core_data/facies/train_data\n"
     ]
    },
    {
     "name": "stderr",
     "output_type": "stream",
     "text": [
      "Header section Parameter regexp=~P was not found.\n"
     ]
    },
    {
     "name": "stdout",
     "output_type": "stream",
     "text": [
      "Feature shapes:  [('depth', (2940,)), ('top', (2940,)), ('base', (2940,)), ('logs', (2940, 11))]\n",
      "Loading Well:  205-21b-3  from  /home/administrator/Dropbox/core_data/facies/train_data\n"
     ]
    },
    {
     "name": "stderr",
     "output_type": "stream",
     "text": [
      "Header section Parameter regexp=~P was not found.\n"
     ]
    },
    {
     "name": "stdout",
     "output_type": "stream",
     "text": [
      "Adding NaN log:  SP\n",
      "Adding NaN log:  DTS\n",
      "Feature shapes:  [('depth', (3842,)), ('top', (3842,)), ('base', (3842,)), ('logs', (3842, 11))]\n",
      "Loading Well:  204-19-6  from  /home/administrator/Dropbox/core_data/facies/train_data\n"
     ]
    },
    {
     "name": "stderr",
     "output_type": "stream",
     "text": [
      "Header section Parameter regexp=~P was not found.\n"
     ]
    },
    {
     "name": "stdout",
     "output_type": "stream",
     "text": [
      "Adding NaN log:  DTS\n",
      "Feature shapes:  [('depth', (1884,)), ('top', (1884,)), ('base', (1884,)), ('logs', (1884, 11))]\n",
      "Loading Well:  204-19-7  from  /home/administrator/Dropbox/core_data/facies/train_data\n"
     ]
    },
    {
     "name": "stderr",
     "output_type": "stream",
     "text": [
      "Header section Parameter regexp=~P was not found.\n"
     ]
    },
    {
     "name": "stdout",
     "output_type": "stream",
     "text": [
      "Adding NaN log:  DTS\n",
      "Feature shapes:  [('depth', (9807,)), ('top', (9807,)), ('base', (9807,)), ('logs', (9807, 11))]\n",
      "Loading Well:  204-20-6a  from  /home/administrator/Dropbox/core_data/facies/train_data\n"
     ]
    },
    {
     "name": "stderr",
     "output_type": "stream",
     "text": [
      "Header section Parameter regexp=~P was not found.\n"
     ]
    },
    {
     "name": "stdout",
     "output_type": "stream",
     "text": [
      "Adding NaN log:  SP\n",
      "Adding NaN log:  DTS1\n",
      "Adding NaN log:  DTS2\n",
      "Feature shapes:  [('depth', (3542,)), ('top', (3542,)), ('base', (3542,)), ('logs', (3542, 11))]\n",
      "Loading Well:  204-20-1  from  /home/administrator/Dropbox/core_data/facies/train_data\n"
     ]
    },
    {
     "name": "stderr",
     "output_type": "stream",
     "text": [
      "Header section Parameter regexp=~P was not found.\n"
     ]
    },
    {
     "name": "stdout",
     "output_type": "stream",
     "text": [
      "Adding NaN log:  DTS1\n",
      "Adding NaN log:  DTS2\n",
      "Feature shapes:  [('depth', (11210,)), ('top', (11210,)), ('base', (11210,)), ('logs', (11210, 11))]\n",
      "Loading Well:  204-20-1Z  from  /home/administrator/Dropbox/core_data/facies/train_data\n"
     ]
    },
    {
     "name": "stderr",
     "output_type": "stream",
     "text": [
      "Header section Parameter regexp=~P was not found.\n"
     ]
    },
    {
     "name": "stdout",
     "output_type": "stream",
     "text": [
      "Adding NaN log:  SP\n",
      "Adding NaN log:  DTS1\n",
      "Adding NaN log:  DTS2\n",
      "Feature shapes:  [('depth', (1917,)), ('top', (1917,)), ('base', (1917,)), ('logs', (1917, 11))]\n",
      "Loading Well:  204-20a-7  from  /home/administrator/Dropbox/core_data/facies/train_data\n"
     ]
    },
    {
     "name": "stderr",
     "output_type": "stream",
     "text": [
      "Header section Parameter regexp=~P was not found.\n"
     ]
    },
    {
     "name": "stdout",
     "output_type": "stream",
     "text": [
      "Adding NaN log:  DTS1\n",
      "Adding NaN log:  DTS2\n",
      "Feature shapes:  [('depth', (3105,)), ('top', (3105,)), ('base', (3105,)), ('logs', (3105, 11))]\n",
      "Loading Well:  204-19-3A  from  /home/administrator/Dropbox/core_data/facies/train_data\n"
     ]
    },
    {
     "name": "stderr",
     "output_type": "stream",
     "text": [
      "Header section Parameter regexp=~P was not found.\n"
     ]
    },
    {
     "name": "stdout",
     "output_type": "stream",
     "text": [
      "Adding NaN log:  DTS\n",
      "Feature shapes:  [('depth', (9590,)), ('top', (9590,)), ('base', (9590,)), ('logs', (9590, 11))]\n",
      "Loading Well:  204-19-3A  from  /home/administrator/Dropbox/core_data/facies/train_data\n"
     ]
    },
    {
     "name": "stderr",
     "output_type": "stream",
     "text": [
      "Header section Parameter regexp=~P was not found.\n"
     ]
    },
    {
     "name": "stdout",
     "output_type": "stream",
     "text": [
      "Adding NaN log:  DTS\n",
      "Feature shapes:  [('depth', (9590,)), ('top', (9590,)), ('base', (9590,)), ('logs', (9590, 11))]\n",
      "Loading Well:  204-19-7  from  /home/administrator/Dropbox/core_data/facies/train_data\n"
     ]
    },
    {
     "name": "stderr",
     "output_type": "stream",
     "text": [
      "Header section Parameter regexp=~P was not found.\n"
     ]
    },
    {
     "name": "stdout",
     "output_type": "stream",
     "text": [
      "Adding NaN log:  DTS\n",
      "Feature shapes:  [('depth', (9807,)), ('top', (9807,)), ('base', (9807,)), ('logs', (9807, 11))]\n",
      "Loading Well:  205-21b-3  from  /home/administrator/Dropbox/core_data/facies/train_data\n"
     ]
    },
    {
     "name": "stderr",
     "output_type": "stream",
     "text": [
      "Header section Parameter regexp=~P was not found.\n"
     ]
    },
    {
     "name": "stdout",
     "output_type": "stream",
     "text": [
      "Adding NaN log:  SP\n",
      "Adding NaN log:  DTS\n",
      "Feature shapes:  [('depth', (3842,)), ('top', (3842,)), ('base', (3842,)), ('logs', (3842, 11))]\n",
      "Loading Well:  204-20-2  from  /home/administrator/Dropbox/core_data/facies/train_data\n"
     ]
    },
    {
     "name": "stderr",
     "output_type": "stream",
     "text": [
      "Header section Parameter regexp=~P was not found.\n"
     ]
    },
    {
     "name": "stdout",
     "output_type": "stream",
     "text": [
      "Feature shapes:  [('depth', (2940,)), ('top', (2940,)), ('base', (2940,)), ('logs', (2940, 11))]\n",
      "Loading Well:  204-19-6  from  /home/administrator/Dropbox/core_data/facies/train_data\n"
     ]
    },
    {
     "name": "stderr",
     "output_type": "stream",
     "text": [
      "Header section Parameter regexp=~P was not found.\n"
     ]
    },
    {
     "name": "stdout",
     "output_type": "stream",
     "text": [
      "Adding NaN log:  DTS\n",
      "Feature shapes:  [('depth', (1884,)), ('top', (1884,)), ('base', (1884,)), ('logs', (1884, 11))]\n",
      "Loading Well:  204-20-6a  from  /home/administrator/Dropbox/core_data/facies/train_data\n"
     ]
    },
    {
     "name": "stderr",
     "output_type": "stream",
     "text": [
      "Header section Parameter regexp=~P was not found.\n"
     ]
    },
    {
     "name": "stdout",
     "output_type": "stream",
     "text": [
      "Adding NaN log:  SP\n",
      "Adding NaN log:  DTS1\n",
      "Adding NaN log:  DTS2\n",
      "Feature shapes:  [('depth', (3542,)), ('top', (3542,)), ('base', (3542,)), ('logs', (3542, 11))]\n",
      "Loading Well:  204-24a-7  from  /home/administrator/Dropbox/core_data/facies/train_data\n"
     ]
    },
    {
     "name": "stderr",
     "output_type": "stream",
     "text": [
      "Header section Parameter regexp=~P was not found.\n"
     ]
    },
    {
     "name": "stdout",
     "output_type": "stream",
     "text": [
      "Adding NaN log:  SP\n",
      "Adding NaN log:  DTS\n",
      "Feature shapes:  [('depth', (19294,)), ('top', (19294,)), ('base', (19294,)), ('logs', (19294, 11))]\n",
      "Loading Well:  204-20-1  from  /home/administrator/Dropbox/core_data/facies/train_data\n"
     ]
    },
    {
     "name": "stderr",
     "output_type": "stream",
     "text": [
      "Header section Parameter regexp=~P was not found.\n"
     ]
    },
    {
     "name": "stdout",
     "output_type": "stream",
     "text": [
      "Adding NaN log:  DTS1\n",
      "Adding NaN log:  DTS2\n",
      "Feature shapes:  [('depth', (11210,)), ('top', (11210,)), ('base', (11210,)), ('logs', (11210, 11))]\n",
      "Loading Well:  204-20-1Z  from  /home/administrator/Dropbox/core_data/facies/train_data\n"
     ]
    },
    {
     "name": "stderr",
     "output_type": "stream",
     "text": [
      "Header section Parameter regexp=~P was not found.\n"
     ]
    },
    {
     "name": "stdout",
     "output_type": "stream",
     "text": [
      "Adding NaN log:  SP\n",
      "Adding NaN log:  DTS1\n",
      "Adding NaN log:  DTS2\n",
      "Feature shapes:  [('depth', (1917,)), ('top', (1917,)), ('base', (1917,)), ('logs', (1917, 11))]\n",
      "Loading Well:  204-20a-7  from  /home/administrator/Dropbox/core_data/facies/train_data\n"
     ]
    },
    {
     "name": "stderr",
     "output_type": "stream",
     "text": [
      "Header section Parameter regexp=~P was not found.\n"
     ]
    },
    {
     "name": "stdout",
     "output_type": "stream",
     "text": [
      "Adding NaN log:  DTS1\n",
      "Adding NaN log:  DTS2\n",
      "Feature shapes:  [('depth', (3105,)), ('top', (3105,)), ('base', (3105,)), ('logs', (3105, 11))]\n",
      "Loading Well:  204-20-3  from  /home/administrator/Dropbox/core_data/facies/train_data\n"
     ]
    },
    {
     "name": "stderr",
     "output_type": "stream",
     "text": [
      "Header section Parameter regexp=~P was not found.\n"
     ]
    },
    {
     "name": "stdout",
     "output_type": "stream",
     "text": [
      "Feature shapes:  [('depth', (10906,)), ('top', (10906,)), ('base', (10906,)), ('logs', (10906, 11))]\n",
      "Loading Well:  204-24a-6  from  /home/administrator/Dropbox/core_data/facies/train_data\n"
     ]
    },
    {
     "name": "stderr",
     "output_type": "stream",
     "text": [
      "Header section Parameter regexp=~P was not found.\n"
     ]
    },
    {
     "name": "stdout",
     "output_type": "stream",
     "text": [
      "Adding NaN log:  SP\n",
      "Adding NaN log:  DTS1\n",
      "Adding NaN log:  DTS2\n",
      "Feature shapes:  [('depth', (13006,)), ('top', (13006,)), ('base', (13006,)), ('logs', (13006, 11))]\n",
      "Loading Well:  204-20-1  from  /home/administrator/Dropbox/core_data/facies/train_data\n"
     ]
    },
    {
     "name": "stderr",
     "output_type": "stream",
     "text": [
      "Header section Parameter regexp=~P was not found.\n"
     ]
    },
    {
     "name": "stdout",
     "output_type": "stream",
     "text": [
      "Adding NaN log:  DTS1\n",
      "Adding NaN log:  DTS2\n",
      "Feature shapes:  [('depth', (11210,)), ('top', (11210,)), ('base', (11210,)), ('logs', (11210, 11))]\n",
      "Loading Well:  204-20-2  from  /home/administrator/Dropbox/core_data/facies/train_data\n"
     ]
    },
    {
     "name": "stderr",
     "output_type": "stream",
     "text": [
      "Header section Parameter regexp=~P was not found.\n"
     ]
    },
    {
     "name": "stdout",
     "output_type": "stream",
     "text": [
      "Feature shapes:  [('depth', (2940,)), ('top', (2940,)), ('base', (2940,)), ('logs', (2940, 11))]\n",
      "Loading Well:  204-19-6  from  /home/administrator/Dropbox/core_data/facies/train_data\n"
     ]
    },
    {
     "name": "stderr",
     "output_type": "stream",
     "text": [
      "Header section Parameter regexp=~P was not found.\n"
     ]
    },
    {
     "name": "stdout",
     "output_type": "stream",
     "text": [
      "Adding NaN log:  DTS\n",
      "Feature shapes:  [('depth', (1884,)), ('top', (1884,)), ('base', (1884,)), ('logs', (1884, 11))]\n",
      "Loading Well:  205-21b-3  from  /home/administrator/Dropbox/core_data/facies/train_data\n"
     ]
    },
    {
     "name": "stderr",
     "output_type": "stream",
     "text": [
      "Header section Parameter regexp=~P was not found.\n"
     ]
    },
    {
     "name": "stdout",
     "output_type": "stream",
     "text": [
      "Adding NaN log:  SP\n",
      "Adding NaN log:  DTS\n",
      "Feature shapes:  [('depth', (3842,)), ('top', (3842,)), ('base', (3842,)), ('logs', (3842, 11))]\n",
      "Loading Well:  204-19-7  from  /home/administrator/Dropbox/core_data/facies/train_data\n"
     ]
    },
    {
     "name": "stderr",
     "output_type": "stream",
     "text": [
      "Header section Parameter regexp=~P was not found.\n"
     ]
    },
    {
     "name": "stdout",
     "output_type": "stream",
     "text": [
      "Adding NaN log:  DTS\n",
      "Feature shapes:  [('depth', (9807,)), ('top', (9807,)), ('base', (9807,)), ('logs', (9807, 11))]\n",
      "Loading Well:  204-20-6a  from  /home/administrator/Dropbox/core_data/facies/train_data\n"
     ]
    },
    {
     "name": "stderr",
     "output_type": "stream",
     "text": [
      "Header section Parameter regexp=~P was not found.\n"
     ]
    },
    {
     "name": "stdout",
     "output_type": "stream",
     "text": [
      "Adding NaN log:  SP\n",
      "Adding NaN log:  DTS1\n",
      "Adding NaN log:  DTS2\n",
      "Feature shapes:  [('depth', (3542,)), ('top', (3542,)), ('base', (3542,)), ('logs', (3542, 11))]\n",
      "Loading Well:  204-24a-7  from  /home/administrator/Dropbox/core_data/facies/train_data\n"
     ]
    },
    {
     "name": "stderr",
     "output_type": "stream",
     "text": [
      "Header section Parameter regexp=~P was not found.\n"
     ]
    },
    {
     "name": "stdout",
     "output_type": "stream",
     "text": [
      "Adding NaN log:  SP\n",
      "Adding NaN log:  DTS\n"
     ]
    },
    {
     "name": "stderr",
     "output_type": "stream",
     "text": [
      "Header section Parameter regexp=~P was not found.\n"
     ]
    },
    {
     "name": "stdout",
     "output_type": "stream",
     "text": [
      "Feature shapes:  [('depth', (19294,)), ('top', (19294,)), ('base', (19294,)), ('logs', (19294, 11))]\n",
      "Loading Well:  204-20-1Z  from  /home/administrator/Dropbox/core_data/facies/train_data\n",
      "Adding NaN log:  SP\n",
      "Adding NaN log:  DTS1\n",
      "Adding NaN log:  DTS2\n",
      "Feature shapes:  [('depth', (1917,)), ('top', (1917,)), ('base', (1917,)), ('logs', (1917, 11))]\n",
      "Loading Well:  204-20a-7  from  /home/administrator/Dropbox/core_data/facies/train_data\n"
     ]
    },
    {
     "name": "stderr",
     "output_type": "stream",
     "text": [
      "Header section Parameter regexp=~P was not found.\n"
     ]
    },
    {
     "name": "stdout",
     "output_type": "stream",
     "text": [
      "Adding NaN log:  DTS1\n",
      "Adding NaN log:  DTS2\n",
      "Feature shapes:  [('depth', (3105,)), ('top', (3105,)), ('base', (3105,)), ('logs', (3105, 11))]\n",
      "Loading Well:  204-19-3A  from  /home/administrator/Dropbox/core_data/facies/train_data\n"
     ]
    },
    {
     "name": "stderr",
     "output_type": "stream",
     "text": [
      "Header section Parameter regexp=~P was not found.\n"
     ]
    },
    {
     "name": "stdout",
     "output_type": "stream",
     "text": [
      "Adding NaN log:  DTS\n",
      "Feature shapes:  [('depth', (9590,)), ('top', (9590,)), ('base', (9590,)), ('logs', (9590, 11))]\n",
      "Loading Well:  204-20-3  from  /home/administrator/Dropbox/core_data/facies/train_data\n"
     ]
    },
    {
     "name": "stderr",
     "output_type": "stream",
     "text": [
      "Header section Parameter regexp=~P was not found.\n"
     ]
    },
    {
     "name": "stdout",
     "output_type": "stream",
     "text": [
      "Feature shapes:  [('depth', (10906,)), ('top', (10906,)), ('base', (10906,)), ('logs', (10906, 11))]\n",
      "Loading Well:  204-24a-6  from  /home/administrator/Dropbox/core_data/facies/train_data\n"
     ]
    },
    {
     "name": "stderr",
     "output_type": "stream",
     "text": [
      "Header section Parameter regexp=~P was not found.\n"
     ]
    },
    {
     "name": "stdout",
     "output_type": "stream",
     "text": [
      "Adding NaN log:  SP\n",
      "Adding NaN log:  DTS1\n",
      "Adding NaN log:  DTS2\n",
      "Feature shapes:  [('depth', (13006,)), ('top', (13006,)), ('base', (13006,)), ('logs', (13006, 11))]\n",
      "Training model for feature:  logs\n",
      "F1 score: 0.22257832280841489\n",
      "Training model for feature:  logs\n",
      "F1 score: 0.18969101868770294\n",
      "Training model for feature:  logs\n",
      "F1 score: 0.21845342157975098\n",
      "Training model for feature:  logs\n",
      "F1 score: 0.2154041044646776\n",
      "Training model for feature:  logs\n",
      "F1 score: 0.20232968079097757\n",
      "Training model for feature:  logs\n",
      "F1 score: 0.19054502906792056\n",
      "Training model for feature:  logs\n",
      "F1 score: 0.2337338159560421\n",
      "Training model for feature:  logs\n",
      "F1 score: 0.20123510318102075\n",
      "Training model for feature:  logs\n",
      "F1 score: 0.22977101730198807\n",
      "Training model for feature:  logs\n",
      "F1 score: 0.23636426028198257\n",
      "Training model for feature:  logs\n",
      "F1 score: 0.1745310360933522\n",
      "Training model for feature:  logs\n",
      "F1 score: 0.21883134575384097\n",
      "Training model for feature:  logs\n",
      "F1 score: 0.21040804235753638\n",
      "Training model for feature:  logs\n",
      "F1 score: 0.17184923118211456\n",
      "Training model for feature:  logs\n",
      "F1 score: 0.23855184838431898\n",
      "Training model for feature:  logs\n",
      "F1 score: 0.2587217213814584\n",
      "Training model for feature:  logs\n",
      "F1 score: 0.18544988712502153\n",
      "Training model for feature:  logs\n",
      "F1 score: 0.2294592596891964\n",
      "Training model for feature:  logs\n",
      "F1 score: 0.26390112428409906\n",
      "Training model for feature:  logs\n",
      "F1 score: 0.17488642120104408\n",
      "Training model for feature:  logs\n",
      "F1 score: 0.22034781594128017\n",
      "Training model for feature:  logs\n",
      "F1 score: 0.26372340138222483\n",
      "Training model for feature:  logs\n",
      "F1 score: 0.18700242450943955\n",
      "Training model for feature:  logs\n",
      "F1 score: 0.20940909480204395\n",
      "Training model for feature:  logs\n",
      "F1 score: 0.25649067487224103\n",
      "Training model for feature:  logs\n",
      "F1 score: 0.20433808564005496\n",
      "Training model for feature:  logs\n",
      "F1 score: 0.20283119211484263\n",
      "Training model for feature:  logs\n",
      "F1 score: 0.24470706732772873\n",
      "Training model for feature:  logs\n",
      "F1 score: 0.19793856097174045\n",
      "Training model for feature:  logs\n",
      "F1 score: 0.23930630396979985\n",
      "\n",
      "\n",
      "\t Starting TRAIN_SET_6\n",
      "Loading Well:  204-24a-7  from  /home/administrator/Dropbox/core_data/facies/train_data\n"
     ]
    },
    {
     "name": "stderr",
     "output_type": "stream",
     "text": [
      "Header section Parameter regexp=~P was not found.\n"
     ]
    },
    {
     "name": "stdout",
     "output_type": "stream",
     "text": [
      "Adding NaN log:  SP\n",
      "Adding NaN log:  DTS\n",
      "Feature shapes:  [('depth', (19294,)), ('top', (19294,)), ('base', (19294,)), ('logs', (19294, 11))]\n",
      "Loading Well:  204-24a-6  from  /home/administrator/Dropbox/core_data/facies/train_data\n"
     ]
    },
    {
     "name": "stderr",
     "output_type": "stream",
     "text": [
      "Header section Parameter regexp=~P was not found.\n"
     ]
    },
    {
     "name": "stdout",
     "output_type": "stream",
     "text": [
      "Adding NaN log:  SP\n",
      "Adding NaN log:  DTS1\n",
      "Adding NaN log:  DTS2\n",
      "Feature shapes:  [('depth', (13006,)), ('top', (13006,)), ('base', (13006,)), ('logs', (13006, 11))]\n",
      "Loading Well:  204-20-3  from  /home/administrator/Dropbox/core_data/facies/train_data\n"
     ]
    },
    {
     "name": "stderr",
     "output_type": "stream",
     "text": [
      "Header section Parameter regexp=~P was not found.\n"
     ]
    },
    {
     "name": "stdout",
     "output_type": "stream",
     "text": [
      "Feature shapes:  [('depth', (10906,)), ('top', (10906,)), ('base', (10906,)), ('logs', (10906, 11))]\n",
      "Loading Well:  204-20-6a  from  /home/administrator/Dropbox/core_data/facies/train_data\n"
     ]
    },
    {
     "name": "stderr",
     "output_type": "stream",
     "text": [
      "Header section Parameter regexp=~P was not found.\n"
     ]
    },
    {
     "name": "stdout",
     "output_type": "stream",
     "text": [
      "Adding NaN log:  SP\n",
      "Adding NaN log:  DTS1\n",
      "Adding NaN log:  DTS2\n",
      "Feature shapes:  [('depth', (3542,)), ('top', (3542,)), ('base', (3542,)), ('logs', (3542, 11))]\n",
      "Loading Well:  204-20a-7  from  /home/administrator/Dropbox/core_data/facies/train_data\n"
     ]
    },
    {
     "name": "stderr",
     "output_type": "stream",
     "text": [
      "Header section Parameter regexp=~P was not found.\n"
     ]
    },
    {
     "name": "stdout",
     "output_type": "stream",
     "text": [
      "Adding NaN log:  DTS1\n",
      "Adding NaN log:  DTS2\n",
      "Feature shapes:  [('depth', (3105,)), ('top', (3105,)), ('base', (3105,)), ('logs', (3105, 11))]\n",
      "Loading Well:  204-19-6  from  /home/administrator/Dropbox/core_data/facies/train_data\n"
     ]
    },
    {
     "name": "stderr",
     "output_type": "stream",
     "text": [
      "Header section Parameter regexp=~P was not found.\n"
     ]
    },
    {
     "name": "stdout",
     "output_type": "stream",
     "text": [
      "Adding NaN log:  DTS\n",
      "Feature shapes:  [('depth', (1884,)), ('top', (1884,)), ('base', (1884,)), ('logs', (1884, 11))]\n",
      "Loading Well:  204-20-2  from  /home/administrator/Dropbox/core_data/facies/train_data\n"
     ]
    },
    {
     "name": "stderr",
     "output_type": "stream",
     "text": [
      "Header section Parameter regexp=~P was not found.\n"
     ]
    },
    {
     "name": "stdout",
     "output_type": "stream",
     "text": [
      "Feature shapes:  [('depth', (2940,)), ('top', (2940,)), ('base', (2940,)), ('logs', (2940, 11))]\n",
      "Loading Well:  205-21b-3  from  /home/administrator/Dropbox/core_data/facies/train_data\n"
     ]
    },
    {
     "name": "stderr",
     "output_type": "stream",
     "text": [
      "Header section Parameter regexp=~P was not found.\n"
     ]
    },
    {
     "name": "stdout",
     "output_type": "stream",
     "text": [
      "Adding NaN log:  SP\n",
      "Adding NaN log:  DTS\n",
      "Feature shapes:  [('depth', (3842,)), ('top', (3842,)), ('base', (3842,)), ('logs', (3842, 11))]\n",
      "Loading Well:  204-19-7  from  /home/administrator/Dropbox/core_data/facies/train_data\n"
     ]
    },
    {
     "name": "stderr",
     "output_type": "stream",
     "text": [
      "Header section Parameter regexp=~P was not found.\n"
     ]
    },
    {
     "name": "stdout",
     "output_type": "stream",
     "text": [
      "Adding NaN log:  DTS\n",
      "Feature shapes:  [('depth', (9807,)), ('top', (9807,)), ('base', (9807,)), ('logs', (9807, 11))]\n",
      "Loading Well:  204-20-1  from  /home/administrator/Dropbox/core_data/facies/train_data\n"
     ]
    },
    {
     "name": "stderr",
     "output_type": "stream",
     "text": [
      "Header section Parameter regexp=~P was not found.\n"
     ]
    },
    {
     "name": "stdout",
     "output_type": "stream",
     "text": [
      "Adding NaN log:  DTS1\n",
      "Adding NaN log:  DTS2\n",
      "Feature shapes:  [('depth', (11210,)), ('top', (11210,)), ('base', (11210,)), ('logs', (11210, 11))]\n",
      "Loading Well:  204-20-1Z  from  /home/administrator/Dropbox/core_data/facies/train_data\n"
     ]
    },
    {
     "name": "stderr",
     "output_type": "stream",
     "text": [
      "Header section Parameter regexp=~P was not found.\n"
     ]
    },
    {
     "name": "stdout",
     "output_type": "stream",
     "text": [
      "Adding NaN log:  SP\n",
      "Adding NaN log:  DTS1\n",
      "Adding NaN log:  DTS2\n",
      "Feature shapes:  [('depth', (1917,)), ('top', (1917,)), ('base', (1917,)), ('logs', (1917, 11))]\n",
      "Loading Well:  204-19-3A  from  /home/administrator/Dropbox/core_data/facies/train_data\n"
     ]
    },
    {
     "name": "stderr",
     "output_type": "stream",
     "text": [
      "Header section Parameter regexp=~P was not found.\n"
     ]
    },
    {
     "name": "stdout",
     "output_type": "stream",
     "text": [
      "Adding NaN log:  DTS\n",
      "Feature shapes:  [('depth', (9590,)), ('top', (9590,)), ('base', (9590,)), ('logs', (9590, 11))]\n",
      "Loading Well:  204-19-3A  from  /home/administrator/Dropbox/core_data/facies/train_data\n"
     ]
    },
    {
     "name": "stderr",
     "output_type": "stream",
     "text": [
      "Header section Parameter regexp=~P was not found.\n"
     ]
    },
    {
     "name": "stdout",
     "output_type": "stream",
     "text": [
      "Adding NaN log:  DTS\n",
      "Feature shapes:  [('depth', (9590,)), ('top', (9590,)), ('base', (9590,)), ('logs', (9590, 11))]\n",
      "Loading Well:  204-20-1  from  /home/administrator/Dropbox/core_data/facies/train_data\n"
     ]
    },
    {
     "name": "stderr",
     "output_type": "stream",
     "text": [
      "Header section Parameter regexp=~P was not found.\n"
     ]
    },
    {
     "name": "stdout",
     "output_type": "stream",
     "text": [
      "Adding NaN log:  DTS1\n",
      "Adding NaN log:  DTS2\n",
      "Feature shapes:  [('depth', (11210,)), ('top', (11210,)), ('base', (11210,)), ('logs', (11210, 11))]\n",
      "Loading Well:  204-19-7  from  /home/administrator/Dropbox/core_data/facies/train_data\n"
     ]
    },
    {
     "name": "stderr",
     "output_type": "stream",
     "text": [
      "Header section Parameter regexp=~P was not found.\n"
     ]
    },
    {
     "name": "stdout",
     "output_type": "stream",
     "text": [
      "Adding NaN log:  DTS\n"
     ]
    },
    {
     "name": "stderr",
     "output_type": "stream",
     "text": [
      "Header section Parameter regexp=~P was not found.\n"
     ]
    },
    {
     "name": "stdout",
     "output_type": "stream",
     "text": [
      "Feature shapes:  [('depth', (9807,)), ('top', (9807,)), ('base', (9807,)), ('logs', (9807, 11))]\n",
      "Loading Well:  205-21b-3  from  /home/administrator/Dropbox/core_data/facies/train_data\n",
      "Adding NaN log:  SP\n",
      "Adding NaN log:  DTS\n",
      "Feature shapes:  [('depth', (3842,)), ('top', (3842,)), ('base', (3842,)), ('logs', (3842, 11))]\n",
      "Loading Well:  204-20-2  from  /home/administrator/Dropbox/core_data/facies/train_data\n"
     ]
    },
    {
     "name": "stderr",
     "output_type": "stream",
     "text": [
      "Header section Parameter regexp=~P was not found.\n"
     ]
    },
    {
     "name": "stdout",
     "output_type": "stream",
     "text": [
      "Feature shapes:  [('depth', (2940,)), ('top', (2940,)), ('base', (2940,)), ('logs', (2940, 11))]\n",
      "Loading Well:  204-20-1Z  from  /home/administrator/Dropbox/core_data/facies/train_data\n"
     ]
    },
    {
     "name": "stderr",
     "output_type": "stream",
     "text": [
      "Header section Parameter regexp=~P was not found.\n"
     ]
    },
    {
     "name": "stdout",
     "output_type": "stream",
     "text": [
      "Adding NaN log:  SP\n",
      "Adding NaN log:  DTS1\n",
      "Adding NaN log:  DTS2\n",
      "Feature shapes:  [('depth', (1917,)), ('top', (1917,)), ('base', (1917,)), ('logs', (1917, 11))]\n",
      "Loading Well:  204-19-6  from  /home/administrator/Dropbox/core_data/facies/train_data\n"
     ]
    },
    {
     "name": "stderr",
     "output_type": "stream",
     "text": [
      "Header section Parameter regexp=~P was not found.\n"
     ]
    },
    {
     "name": "stdout",
     "output_type": "stream",
     "text": [
      "Adding NaN log:  DTS\n",
      "Feature shapes:  [('depth', (1884,)), ('top', (1884,)), ('base', (1884,)), ('logs', (1884, 11))]\n",
      "Loading Well:  204-20-6a  from  /home/administrator/Dropbox/core_data/facies/train_data\n"
     ]
    },
    {
     "name": "stderr",
     "output_type": "stream",
     "text": [
      "Header section Parameter regexp=~P was not found.\n"
     ]
    },
    {
     "name": "stdout",
     "output_type": "stream",
     "text": [
      "Adding NaN log:  SP\n",
      "Adding NaN log:  DTS1\n",
      "Adding NaN log:  DTS2\n",
      "Feature shapes:  [('depth', (3542,)), ('top', (3542,)), ('base', (3542,)), ('logs', (3542, 11))]\n",
      "Loading Well:  204-24a-7  from  /home/administrator/Dropbox/core_data/facies/train_data\n"
     ]
    },
    {
     "name": "stderr",
     "output_type": "stream",
     "text": [
      "Header section Parameter regexp=~P was not found.\n"
     ]
    },
    {
     "name": "stdout",
     "output_type": "stream",
     "text": [
      "Adding NaN log:  SP\n",
      "Adding NaN log:  DTS\n"
     ]
    },
    {
     "name": "stderr",
     "output_type": "stream",
     "text": [
      "Header section Parameter regexp=~P was not found.\n"
     ]
    },
    {
     "name": "stdout",
     "output_type": "stream",
     "text": [
      "Feature shapes:  [('depth', (19294,)), ('top', (19294,)), ('base', (19294,)), ('logs', (19294, 11))]\n",
      "Loading Well:  204-20a-7  from  /home/administrator/Dropbox/core_data/facies/train_data\n",
      "Adding NaN log:  DTS1\n",
      "Adding NaN log:  DTS2\n",
      "Feature shapes:  [('depth', (3105,)), ('top', (3105,)), ('base', (3105,)), ('logs', (3105, 11))]\n",
      "Loading Well:  204-20-3  from  /home/administrator/Dropbox/core_data/facies/train_data\n"
     ]
    },
    {
     "name": "stderr",
     "output_type": "stream",
     "text": [
      "Header section Parameter regexp=~P was not found.\n"
     ]
    },
    {
     "name": "stdout",
     "output_type": "stream",
     "text": [
      "Feature shapes:  [('depth', (10906,)), ('top', (10906,)), ('base', (10906,)), ('logs', (10906, 11))]\n",
      "Loading Well:  204-24a-6  from  /home/administrator/Dropbox/core_data/facies/train_data\n"
     ]
    },
    {
     "name": "stderr",
     "output_type": "stream",
     "text": [
      "Header section Parameter regexp=~P was not found.\n"
     ]
    },
    {
     "name": "stdout",
     "output_type": "stream",
     "text": [
      "Adding NaN log:  SP\n",
      "Adding NaN log:  DTS1\n",
      "Adding NaN log:  DTS2\n",
      "Feature shapes:  [('depth', (13006,)), ('top', (13006,)), ('base', (13006,)), ('logs', (13006, 11))]\n",
      "Loading Well:  204-20-3  from  /home/administrator/Dropbox/core_data/facies/train_data\n"
     ]
    },
    {
     "name": "stderr",
     "output_type": "stream",
     "text": [
      "Header section Parameter regexp=~P was not found.\n"
     ]
    },
    {
     "name": "stdout",
     "output_type": "stream",
     "text": [
      "Feature shapes:  [('depth', (10906,)), ('top', (10906,)), ('base', (10906,)), ('logs', (10906, 11))]\n",
      "Loading Well:  204-20-1  from  /home/administrator/Dropbox/core_data/facies/train_data\n"
     ]
    },
    {
     "name": "stderr",
     "output_type": "stream",
     "text": [
      "Header section Parameter regexp=~P was not found.\n"
     ]
    },
    {
     "name": "stdout",
     "output_type": "stream",
     "text": [
      "Adding NaN log:  DTS1\n",
      "Adding NaN log:  DTS2\n",
      "Feature shapes:  [('depth', (11210,)), ('top', (11210,)), ('base', (11210,)), ('logs', (11210, 11))]\n",
      "Loading Well:  204-19-7  from  /home/administrator/Dropbox/core_data/facies/train_data\n"
     ]
    },
    {
     "name": "stderr",
     "output_type": "stream",
     "text": [
      "Header section Parameter regexp=~P was not found.\n"
     ]
    },
    {
     "name": "stdout",
     "output_type": "stream",
     "text": [
      "Adding NaN log:  DTS\n",
      "Feature shapes:  [('depth', (9807,)), ('top', (9807,)), ('base', (9807,)), ('logs', (9807, 11))]\n",
      "Loading Well:  205-21b-3  from  /home/administrator/Dropbox/core_data/facies/train_data\n"
     ]
    },
    {
     "name": "stderr",
     "output_type": "stream",
     "text": [
      "Header section Parameter regexp=~P was not found.\n"
     ]
    },
    {
     "name": "stdout",
     "output_type": "stream",
     "text": [
      "Adding NaN log:  SP\n",
      "Adding NaN log:  DTS\n",
      "Feature shapes:  [('depth', (3842,)), ('top', (3842,)), ('base', (3842,)), ('logs', (3842, 11))]\n",
      "Loading Well:  204-20-6a  from  /home/administrator/Dropbox/core_data/facies/train_data\n"
     ]
    },
    {
     "name": "stderr",
     "output_type": "stream",
     "text": [
      "Header section Parameter regexp=~P was not found.\n"
     ]
    },
    {
     "name": "stdout",
     "output_type": "stream",
     "text": [
      "Adding NaN log:  SP\n",
      "Adding NaN log:  DTS1\n",
      "Adding NaN log:  DTS2\n",
      "Feature shapes:  [('depth', (3542,)), ('top', (3542,)), ('base', (3542,)), ('logs', (3542, 11))]\n",
      "Loading Well:  204-20a-7  from  /home/administrator/Dropbox/core_data/facies/train_data\n"
     ]
    },
    {
     "name": "stderr",
     "output_type": "stream",
     "text": [
      "Header section Parameter regexp=~P was not found.\n"
     ]
    },
    {
     "name": "stdout",
     "output_type": "stream",
     "text": [
      "Adding NaN log:  DTS1\n",
      "Adding NaN log:  DTS2\n",
      "Feature shapes:  [('depth', (3105,)), ('top', (3105,)), ('base', (3105,)), ('logs', (3105, 11))]\n",
      "Loading Well:  204-20-2  from  /home/administrator/Dropbox/core_data/facies/train_data\n"
     ]
    },
    {
     "name": "stderr",
     "output_type": "stream",
     "text": [
      "Header section Parameter regexp=~P was not found.\n"
     ]
    },
    {
     "name": "stdout",
     "output_type": "stream",
     "text": [
      "Feature shapes:  [('depth', (2940,)), ('top', (2940,)), ('base', (2940,)), ('logs', (2940, 11))]\n",
      "Loading Well:  204-19-6  from  /home/administrator/Dropbox/core_data/facies/train_data\n"
     ]
    },
    {
     "name": "stderr",
     "output_type": "stream",
     "text": [
      "Header section Parameter regexp=~P was not found.\n"
     ]
    },
    {
     "name": "stdout",
     "output_type": "stream",
     "text": [
      "Adding NaN log:  DTS\n",
      "Feature shapes:  [('depth', (1884,)), ('top', (1884,)), ('base', (1884,)), ('logs', (1884, 11))]\n",
      "Loading Well:  204-24a-7  from  /home/administrator/Dropbox/core_data/facies/train_data\n"
     ]
    },
    {
     "name": "stderr",
     "output_type": "stream",
     "text": [
      "Header section Parameter regexp=~P was not found.\n"
     ]
    },
    {
     "name": "stdout",
     "output_type": "stream",
     "text": [
      "Adding NaN log:  SP\n",
      "Adding NaN log:  DTS\n",
      "Feature shapes:  [('depth', (19294,)), ('top', (19294,)), ('base', (19294,)), ('logs', (19294, 11))]\n",
      "Loading Well:  204-20-1Z  from  /home/administrator/Dropbox/core_data/facies/train_data\n"
     ]
    },
    {
     "name": "stderr",
     "output_type": "stream",
     "text": [
      "Header section Parameter regexp=~P was not found.\n"
     ]
    },
    {
     "name": "stdout",
     "output_type": "stream",
     "text": [
      "Adding NaN log:  SP\n",
      "Adding NaN log:  DTS1\n",
      "Adding NaN log:  DTS2\n",
      "Feature shapes:  [('depth', (1917,)), ('top', (1917,)), ('base', (1917,)), ('logs', (1917, 11))]\n",
      "Loading Well:  204-19-3A  from  /home/administrator/Dropbox/core_data/facies/train_data\n"
     ]
    },
    {
     "name": "stderr",
     "output_type": "stream",
     "text": [
      "Header section Parameter regexp=~P was not found.\n"
     ]
    },
    {
     "name": "stdout",
     "output_type": "stream",
     "text": [
      "Adding NaN log:  DTS\n",
      "Feature shapes:  [('depth', (9590,)), ('top', (9590,)), ('base', (9590,)), ('logs', (9590, 11))]\n",
      "Loading Well:  204-24a-6  from  /home/administrator/Dropbox/core_data/facies/train_data\n"
     ]
    },
    {
     "name": "stderr",
     "output_type": "stream",
     "text": [
      "Header section Parameter regexp=~P was not found.\n"
     ]
    },
    {
     "name": "stdout",
     "output_type": "stream",
     "text": [
      "Adding NaN log:  SP\n",
      "Adding NaN log:  DTS1\n",
      "Adding NaN log:  DTS2\n",
      "Feature shapes:  [('depth', (13006,)), ('top', (13006,)), ('base', (13006,)), ('logs', (13006, 11))]\n",
      "Training model for feature:  logs\n",
      "F1 score: 0.2443845881773244\n",
      "Training model for feature:  logs\n",
      "F1 score: 0.17737723874829409\n",
      "Training model for feature:  logs\n",
      "F1 score: 0.21923850732831146\n",
      "Training model for feature:  logs\n",
      "F1 score: 0.17131070750756\n",
      "Training model for feature:  logs\n",
      "F1 score: 0.20149108279076478\n",
      "Training model for feature:  logs\n",
      "F1 score: 0.24398215662547934\n",
      "Training model for feature:  logs\n",
      "F1 score: 0.24383922961898868\n",
      "Training model for feature:  logs\n",
      "F1 score: 0.16369881943947245\n",
      "Training model for feature:  logs\n",
      "F1 score: 0.22724433406467753\n",
      "Training model for feature:  logs\n",
      "F1 score: 0.24379793272751274\n",
      "Training model for feature:  logs\n",
      "F1 score: 0.15573825179694803\n",
      "Training model for feature:  logs\n",
      "F1 score: 0.19779489105238954\n",
      "Training model for feature:  logs\n",
      "F1 score: 0.23854520633129628\n",
      "Training model for feature:  logs\n",
      "F1 score: 0.152369628538649\n",
      "Training model for feature:  logs\n",
      "F1 score: 0.23467462777891507\n",
      "Training model for feature:  logs\n",
      "F1 score: 0.26560197336704106\n",
      "Training model for feature:  logs\n",
      "F1 score: 0.16805846580890152\n",
      "Training model for feature:  logs\n",
      "F1 score: 0.23386770879082067\n",
      "Training model for feature:  logs\n",
      "F1 score: 0.25147878701815773\n",
      "Training model for feature:  logs\n",
      "F1 score: 0.1590739099347038\n",
      "Training model for feature:  logs\n",
      "F1 score: 0.21826564376498503\n",
      "Training model for feature:  logs\n",
      "F1 score: 0.22375945848536913\n",
      "Training model for feature:  logs\n",
      "F1 score: 0.18380375113341318\n",
      "Training model for feature:  logs\n",
      "F1 score: 0.21032340790544207\n",
      "Training model for feature:  logs\n",
      "F1 score: 0.2327388650040437\n",
      "Training model for feature:  logs\n",
      "F1 score: 0.16782349280286946\n",
      "Training model for feature:  logs\n",
      "F1 score: 0.2197869929518168\n",
      "Training model for feature:  logs\n",
      "F1 score: 0.24029549636650036\n",
      "Training model for feature:  logs\n",
      "F1 score: 0.15142966255532855\n",
      "Training model for feature:  logs\n",
      "F1 score: 0.2256644743643808\n",
      "\n",
      "\n",
      "\t Starting TRAIN_SET_9\n",
      "Loading Well:  204-19-3A  from  /home/administrator/Dropbox/core_data/facies/train_data\n"
     ]
    },
    {
     "name": "stderr",
     "output_type": "stream",
     "text": [
      "Header section Parameter regexp=~P was not found.\n"
     ]
    },
    {
     "name": "stdout",
     "output_type": "stream",
     "text": [
      "Adding NaN log:  DTS\n",
      "Feature shapes:  [('depth', (9590,)), ('top', (9590,)), ('base', (9590,)), ('logs', (9590, 11))]\n",
      "Loading Well:  204-20-1  from  /home/administrator/Dropbox/core_data/facies/train_data\n"
     ]
    },
    {
     "name": "stderr",
     "output_type": "stream",
     "text": [
      "Header section Parameter regexp=~P was not found.\n"
     ]
    },
    {
     "name": "stdout",
     "output_type": "stream",
     "text": [
      "Adding NaN log:  DTS1\n",
      "Adding NaN log:  DTS2\n",
      "Feature shapes:  [('depth', (11210,)), ('top', (11210,)), ('base', (11210,)), ('logs', (11210, 11))]\n",
      "Loading Well:  204-19-7  from  /home/administrator/Dropbox/core_data/facies/train_data\n"
     ]
    },
    {
     "name": "stderr",
     "output_type": "stream",
     "text": [
      "Header section Parameter regexp=~P was not found.\n"
     ]
    },
    {
     "name": "stdout",
     "output_type": "stream",
     "text": [
      "Adding NaN log:  DTS\n"
     ]
    },
    {
     "name": "stderr",
     "output_type": "stream",
     "text": [
      "Header section Parameter regexp=~P was not found.\n"
     ]
    },
    {
     "name": "stdout",
     "output_type": "stream",
     "text": [
      "Feature shapes:  [('depth', (9807,)), ('top', (9807,)), ('base', (9807,)), ('logs', (9807, 11))]\n",
      "Loading Well:  205-21b-3  from  /home/administrator/Dropbox/core_data/facies/train_data\n",
      "Adding NaN log:  SP\n",
      "Adding NaN log:  DTS\n",
      "Feature shapes:  [('depth', (3842,)), ('top', (3842,)), ('base', (3842,)), ('logs', (3842, 11))]\n",
      "Loading Well:  204-20-6a  from  /home/administrator/Dropbox/core_data/facies/train_data\n"
     ]
    },
    {
     "name": "stderr",
     "output_type": "stream",
     "text": [
      "Header section Parameter regexp=~P was not found.\n"
     ]
    },
    {
     "name": "stdout",
     "output_type": "stream",
     "text": [
      "Adding NaN log:  SP\n",
      "Adding NaN log:  DTS1\n",
      "Adding NaN log:  DTS2\n",
      "Feature shapes:  [('depth', (3542,)), ('top', (3542,)), ('base', (3542,)), ('logs', (3542, 11))]\n",
      "Loading Well:  204-20a-7  from  /home/administrator/Dropbox/core_data/facies/train_data\n"
     ]
    },
    {
     "name": "stderr",
     "output_type": "stream",
     "text": [
      "Header section Parameter regexp=~P was not found.\n"
     ]
    },
    {
     "name": "stdout",
     "output_type": "stream",
     "text": [
      "Adding NaN log:  DTS1\n",
      "Adding NaN log:  DTS2\n",
      "Feature shapes:  [('depth', (3105,)), ('top', (3105,)), ('base', (3105,)), ('logs', (3105, 11))]\n",
      "Loading Well:  204-20-2  from  /home/administrator/Dropbox/core_data/facies/train_data\n"
     ]
    },
    {
     "name": "stderr",
     "output_type": "stream",
     "text": [
      "Header section Parameter regexp=~P was not found.\n"
     ]
    },
    {
     "name": "stdout",
     "output_type": "stream",
     "text": [
      "Feature shapes:  [('depth', (2940,)), ('top', (2940,)), ('base', (2940,)), ('logs', (2940, 11))]\n",
      "Loading Well:  204-19-6  from  /home/administrator/Dropbox/core_data/facies/train_data\n"
     ]
    },
    {
     "name": "stderr",
     "output_type": "stream",
     "text": [
      "Header section Parameter regexp=~P was not found.\n"
     ]
    },
    {
     "name": "stdout",
     "output_type": "stream",
     "text": [
      "Adding NaN log:  DTS\n",
      "Feature shapes:  [('depth', (1884,)), ('top', (1884,)), ('base', (1884,)), ('logs', (1884, 11))]\n",
      "Loading Well:  204-20-1Z  from  /home/administrator/Dropbox/core_data/facies/train_data\n"
     ]
    },
    {
     "name": "stderr",
     "output_type": "stream",
     "text": [
      "Header section Parameter regexp=~P was not found.\n"
     ]
    },
    {
     "name": "stdout",
     "output_type": "stream",
     "text": [
      "Adding NaN log:  SP\n",
      "Adding NaN log:  DTS1\n",
      "Adding NaN log:  DTS2\n",
      "Feature shapes:  [('depth', (1917,)), ('top', (1917,)), ('base', (1917,)), ('logs', (1917, 11))]\n",
      "Loading Well:  204-24a-7  from  /home/administrator/Dropbox/core_data/facies/train_data\n"
     ]
    },
    {
     "name": "stderr",
     "output_type": "stream",
     "text": [
      "Header section Parameter regexp=~P was not found.\n"
     ]
    },
    {
     "name": "stdout",
     "output_type": "stream",
     "text": [
      "Adding NaN log:  SP\n",
      "Adding NaN log:  DTS\n",
      "Feature shapes:  [('depth', (19294,)), ('top', (19294,)), ('base', (19294,)), ('logs', (19294, 11))]\n",
      "Loading Well:  204-20-3  from  /home/administrator/Dropbox/core_data/facies/train_data\n"
     ]
    },
    {
     "name": "stderr",
     "output_type": "stream",
     "text": [
      "Header section Parameter regexp=~P was not found.\n"
     ]
    },
    {
     "name": "stdout",
     "output_type": "stream",
     "text": [
      "Feature shapes:  [('depth', (10906,)), ('top', (10906,)), ('base', (10906,)), ('logs', (10906, 11))]\n",
      "Loading Well:  204-24a-6  from  /home/administrator/Dropbox/core_data/facies/train_data\n"
     ]
    },
    {
     "name": "stderr",
     "output_type": "stream",
     "text": [
      "Header section Parameter regexp=~P was not found.\n"
     ]
    },
    {
     "name": "stdout",
     "output_type": "stream",
     "text": [
      "Adding NaN log:  SP\n",
      "Adding NaN log:  DTS1\n",
      "Adding NaN log:  DTS2\n",
      "Feature shapes:  [('depth', (13006,)), ('top', (13006,)), ('base', (13006,)), ('logs', (13006, 11))]\n",
      "Loading Well:  204-24a-7  from  /home/administrator/Dropbox/core_data/facies/train_data\n"
     ]
    },
    {
     "name": "stderr",
     "output_type": "stream",
     "text": [
      "Header section Parameter regexp=~P was not found.\n"
     ]
    },
    {
     "name": "stdout",
     "output_type": "stream",
     "text": [
      "Adding NaN log:  SP\n",
      "Adding NaN log:  DTS\n",
      "Feature shapes:  [('depth', (19294,)), ('top', (19294,)), ('base', (19294,)), ('logs', (19294, 11))]\n",
      "Loading Well:  204-24a-6  from  /home/administrator/Dropbox/core_data/facies/train_data\n"
     ]
    },
    {
     "name": "stderr",
     "output_type": "stream",
     "text": [
      "Header section Parameter regexp=~P was not found.\n"
     ]
    },
    {
     "name": "stdout",
     "output_type": "stream",
     "text": [
      "Adding NaN log:  SP\n",
      "Adding NaN log:  DTS1\n",
      "Adding NaN log:  DTS2\n",
      "Feature shapes:  [('depth', (13006,)), ('top', (13006,)), ('base', (13006,)), ('logs', (13006, 11))]\n",
      "Loading Well:  204-19-3A  from  /home/administrator/Dropbox/core_data/facies/train_data\n"
     ]
    },
    {
     "name": "stderr",
     "output_type": "stream",
     "text": [
      "Header section Parameter regexp=~P was not found.\n"
     ]
    },
    {
     "name": "stdout",
     "output_type": "stream",
     "text": [
      "Adding NaN log:  DTS\n",
      "Feature shapes:  [('depth', (9590,)), ('top', (9590,)), ('base', (9590,)), ('logs', (9590, 11))]\n",
      "Loading Well:  204-19-7  from  /home/administrator/Dropbox/core_data/facies/train_data\n"
     ]
    },
    {
     "name": "stderr",
     "output_type": "stream",
     "text": [
      "Header section Parameter regexp=~P was not found.\n"
     ]
    },
    {
     "name": "stdout",
     "output_type": "stream",
     "text": [
      "Adding NaN log:  DTS\n",
      "Feature shapes:  [('depth', (9807,)), ('top', (9807,)), ('base', (9807,)), ('logs', (9807, 11))]\n",
      "Loading Well:  205-21b-3  from  /home/administrator/Dropbox/core_data/facies/train_data\n"
     ]
    },
    {
     "name": "stderr",
     "output_type": "stream",
     "text": [
      "Header section Parameter regexp=~P was not found.\n"
     ]
    },
    {
     "name": "stdout",
     "output_type": "stream",
     "text": [
      "Adding NaN log:  SP\n",
      "Adding NaN log:  DTS\n",
      "Feature shapes:  [('depth', (3842,)), ('top', (3842,)), ('base', (3842,)), ('logs', (3842, 11))]\n",
      "Loading Well:  204-20-6a  from  /home/administrator/Dropbox/core_data/facies/train_data\n"
     ]
    },
    {
     "name": "stderr",
     "output_type": "stream",
     "text": [
      "Header section Parameter regexp=~P was not found.\n"
     ]
    },
    {
     "name": "stdout",
     "output_type": "stream",
     "text": [
      "Adding NaN log:  SP\n",
      "Adding NaN log:  DTS1\n",
      "Adding NaN log:  DTS2\n",
      "Feature shapes:  [('depth', (3542,)), ('top', (3542,)), ('base', (3542,)), ('logs', (3542, 11))]\n",
      "Loading Well:  204-20a-7  from  /home/administrator/Dropbox/core_data/facies/train_data\n"
     ]
    },
    {
     "name": "stderr",
     "output_type": "stream",
     "text": [
      "Header section Parameter regexp=~P was not found.\n"
     ]
    },
    {
     "name": "stdout",
     "output_type": "stream",
     "text": [
      "Adding NaN log:  DTS1\n",
      "Adding NaN log:  DTS2\n",
      "Feature shapes:  [('depth', (3105,)), ('top', (3105,)), ('base', (3105,)), ('logs', (3105, 11))]\n",
      "Loading Well:  204-20-2  from  /home/administrator/Dropbox/core_data/facies/train_data\n"
     ]
    },
    {
     "name": "stderr",
     "output_type": "stream",
     "text": [
      "Header section Parameter regexp=~P was not found.\n"
     ]
    },
    {
     "name": "stdout",
     "output_type": "stream",
     "text": [
      "Feature shapes:  [('depth', (2940,)), ('top', (2940,)), ('base', (2940,)), ('logs', (2940, 11))]\n",
      "Loading Well:  204-20-1Z  from  /home/administrator/Dropbox/core_data/facies/train_data\n"
     ]
    },
    {
     "name": "stderr",
     "output_type": "stream",
     "text": [
      "Header section Parameter regexp=~P was not found.\n"
     ]
    },
    {
     "name": "stdout",
     "output_type": "stream",
     "text": [
      "Adding NaN log:  SP\n",
      "Adding NaN log:  DTS1\n",
      "Adding NaN log:  DTS2\n",
      "Feature shapes:  [('depth', (1917,)), ('top', (1917,)), ('base', (1917,)), ('logs', (1917, 11))]\n",
      "Loading Well:  204-19-6  from  /home/administrator/Dropbox/core_data/facies/train_data\n"
     ]
    },
    {
     "name": "stderr",
     "output_type": "stream",
     "text": [
      "Header section Parameter regexp=~P was not found.\n"
     ]
    },
    {
     "name": "stdout",
     "output_type": "stream",
     "text": [
      "Adding NaN log:  DTS\n",
      "Feature shapes:  [('depth', (1884,)), ('top', (1884,)), ('base', (1884,)), ('logs', (1884, 11))]\n",
      "Loading Well:  204-20-1  from  /home/administrator/Dropbox/core_data/facies/train_data\n"
     ]
    },
    {
     "name": "stderr",
     "output_type": "stream",
     "text": [
      "Header section Parameter regexp=~P was not found.\n"
     ]
    },
    {
     "name": "stdout",
     "output_type": "stream",
     "text": [
      "Adding NaN log:  DTS1\n",
      "Adding NaN log:  DTS2\n",
      "Feature shapes:  [('depth', (11210,)), ('top', (11210,)), ('base', (11210,)), ('logs', (11210, 11))]\n",
      "Loading Well:  204-20-3  from  /home/administrator/Dropbox/core_data/facies/train_data\n"
     ]
    },
    {
     "name": "stderr",
     "output_type": "stream",
     "text": [
      "Header section Parameter regexp=~P was not found.\n"
     ]
    },
    {
     "name": "stdout",
     "output_type": "stream",
     "text": [
      "Feature shapes:  [('depth', (10906,)), ('top', (10906,)), ('base', (10906,)), ('logs', (10906, 11))]\n",
      "Loading Well:  204-24a-7  from  /home/administrator/Dropbox/core_data/facies/train_data\n"
     ]
    },
    {
     "name": "stderr",
     "output_type": "stream",
     "text": [
      "Header section Parameter regexp=~P was not found.\n"
     ]
    },
    {
     "name": "stdout",
     "output_type": "stream",
     "text": [
      "Adding NaN log:  SP\n",
      "Adding NaN log:  DTS\n",
      "Feature shapes:  [('depth', (19294,)), ('top', (19294,)), ('base', (19294,)), ('logs', (19294, 11))]\n",
      "Loading Well:  204-24a-6  from  /home/administrator/Dropbox/core_data/facies/train_data\n"
     ]
    },
    {
     "name": "stderr",
     "output_type": "stream",
     "text": [
      "Header section Parameter regexp=~P was not found.\n"
     ]
    },
    {
     "name": "stdout",
     "output_type": "stream",
     "text": [
      "Adding NaN log:  SP\n",
      "Adding NaN log:  DTS1\n",
      "Adding NaN log:  DTS2\n",
      "Feature shapes:  [('depth', (13006,)), ('top', (13006,)), ('base', (13006,)), ('logs', (13006, 11))]\n",
      "Loading Well:  204-20-3  from  /home/administrator/Dropbox/core_data/facies/train_data\n"
     ]
    },
    {
     "name": "stderr",
     "output_type": "stream",
     "text": [
      "Header section Parameter regexp=~P was not found.\n"
     ]
    },
    {
     "name": "stdout",
     "output_type": "stream",
     "text": [
      "Feature shapes:  [('depth', (10906,)), ('top', (10906,)), ('base', (10906,)), ('logs', (10906, 11))]\n",
      "Loading Well:  204-20-1  from  /home/administrator/Dropbox/core_data/facies/train_data\n"
     ]
    },
    {
     "name": "stderr",
     "output_type": "stream",
     "text": [
      "Header section Parameter regexp=~P was not found.\n"
     ]
    },
    {
     "name": "stdout",
     "output_type": "stream",
     "text": [
      "Adding NaN log:  DTS1\n",
      "Adding NaN log:  DTS2\n",
      "Feature shapes:  [('depth', (11210,)), ('top', (11210,)), ('base', (11210,)), ('logs', (11210, 11))]\n",
      "Loading Well:  204-20-6a  from  /home/administrator/Dropbox/core_data/facies/train_data\n"
     ]
    },
    {
     "name": "stderr",
     "output_type": "stream",
     "text": [
      "Header section Parameter regexp=~P was not found.\n"
     ]
    },
    {
     "name": "stdout",
     "output_type": "stream",
     "text": [
      "Adding NaN log:  SP\n",
      "Adding NaN log:  DTS1\n",
      "Adding NaN log:  DTS2\n",
      "Feature shapes:  [('depth', (3542,)), ('top', (3542,)), ('base', (3542,)), ('logs', (3542, 11))]\n",
      "Loading Well:  204-20a-7  from  /home/administrator/Dropbox/core_data/facies/train_data\n"
     ]
    },
    {
     "name": "stderr",
     "output_type": "stream",
     "text": [
      "Header section Parameter regexp=~P was not found.\n"
     ]
    },
    {
     "name": "stdout",
     "output_type": "stream",
     "text": [
      "Adding NaN log:  DTS1\n",
      "Adding NaN log:  DTS2\n",
      "Feature shapes:  [('depth', (3105,)), ('top', (3105,)), ('base', (3105,)), ('logs', (3105, 11))]\n",
      "Loading Well:  204-20-2  from  /home/administrator/Dropbox/core_data/facies/train_data\n"
     ]
    },
    {
     "name": "stderr",
     "output_type": "stream",
     "text": [
      "Header section Parameter regexp=~P was not found.\n"
     ]
    },
    {
     "name": "stdout",
     "output_type": "stream",
     "text": [
      "Feature shapes:  [('depth', (2940,)), ('top', (2940,)), ('base', (2940,)), ('logs', (2940, 11))]\n",
      "Loading Well:  204-19-6  from  /home/administrator/Dropbox/core_data/facies/train_data\n"
     ]
    },
    {
     "name": "stderr",
     "output_type": "stream",
     "text": [
      "Header section Parameter regexp=~P was not found.\n"
     ]
    },
    {
     "name": "stdout",
     "output_type": "stream",
     "text": [
      "Adding NaN log:  DTS\n",
      "Feature shapes:  [('depth', (1884,)), ('top', (1884,)), ('base', (1884,)), ('logs', (1884, 11))]\n",
      "Loading Well:  204-20-1Z  from  /home/administrator/Dropbox/core_data/facies/train_data\n"
     ]
    },
    {
     "name": "stderr",
     "output_type": "stream",
     "text": [
      "Header section Parameter regexp=~P was not found.\n"
     ]
    },
    {
     "name": "stdout",
     "output_type": "stream",
     "text": [
      "Adding NaN log:  SP\n",
      "Adding NaN log:  DTS1\n",
      "Adding NaN log:  DTS2\n",
      "Feature shapes:  [('depth', (1917,)), ('top', (1917,)), ('base', (1917,)), ('logs', (1917, 11))]\n",
      "Loading Well:  205-21b-3  from  /home/administrator/Dropbox/core_data/facies/train_data\n"
     ]
    },
    {
     "name": "stderr",
     "output_type": "stream",
     "text": [
      "Header section Parameter regexp=~P was not found.\n"
     ]
    },
    {
     "name": "stdout",
     "output_type": "stream",
     "text": [
      "Adding NaN log:  SP\n",
      "Adding NaN log:  DTS\n",
      "Feature shapes:  [('depth', (3842,)), ('top', (3842,)), ('base', (3842,)), ('logs', (3842, 11))]\n",
      "Loading Well:  204-19-7  from  /home/administrator/Dropbox/core_data/facies/train_data\n"
     ]
    },
    {
     "name": "stderr",
     "output_type": "stream",
     "text": [
      "Header section Parameter regexp=~P was not found.\n"
     ]
    },
    {
     "name": "stdout",
     "output_type": "stream",
     "text": [
      "Adding NaN log:  DTS\n",
      "Feature shapes:  [('depth', (9807,)), ('top', (9807,)), ('base', (9807,)), ('logs', (9807, 11))]\n",
      "Loading Well:  204-19-3A  from  /home/administrator/Dropbox/core_data/facies/train_data\n"
     ]
    },
    {
     "name": "stderr",
     "output_type": "stream",
     "text": [
      "Header section Parameter regexp=~P was not found.\n"
     ]
    },
    {
     "name": "stdout",
     "output_type": "stream",
     "text": [
      "Adding NaN log:  DTS\n",
      "Feature shapes:  [('depth', (9590,)), ('top', (9590,)), ('base', (9590,)), ('logs', (9590, 11))]\n",
      "Training model for feature:  logs\n",
      "F1 score: 0.18636569176058576\n",
      "Training model for feature:  logs\n",
      "F1 score: 0.2516913313195165\n",
      "Training model for feature:  logs\n",
      "F1 score: 0.2637556577589334\n",
      "Training model for feature:  logs\n",
      "F1 score: 0.17921327596247155\n",
      "Training model for feature:  logs\n",
      "F1 score: 0.23057303386341213\n",
      "Training model for feature:  logs\n",
      "F1 score: 0.28678486606916176\n",
      "Training model for feature:  logs\n",
      "F1 score: 0.1899753884720429\n",
      "Training model for feature:  logs\n",
      "F1 score: 0.2221019033776177\n",
      "Training model for feature:  logs\n",
      "F1 score: 0.2802362855633773\n",
      "Training model for feature:  logs\n",
      "F1 score: 0.2421078239972012\n",
      "Training model for feature:  logs\n",
      "F1 score: 0.2237859226556763\n",
      "Training model for feature:  logs\n",
      "F1 score: 0.2866977294514573\n",
      "Training model for feature:  logs\n",
      "F1 score: 0.19601754213801384\n",
      "Training model for feature:  logs\n",
      "F1 score: 0.20338093748809188\n",
      "Training model for feature:  logs\n",
      "F1 score: 0.28228478779904675\n",
      "Training model for feature:  logs\n",
      "F1 score: 0.19890099391171165\n",
      "Training model for feature:  logs\n",
      "F1 score: 0.20439925432117917\n",
      "Training model for feature:  logs\n",
      "F1 score: 0.2722703044959996\n",
      "Training model for feature:  logs\n",
      "F1 score: 0.14867753806415923\n",
      "Training model for feature:  logs\n",
      "F1 score: 0.24783635518821687\n",
      "Training model for feature:  logs\n",
      "F1 score: 0.2889691119897746\n",
      "Training model for feature:  logs\n",
      "F1 score: 0.23680118167833072\n",
      "Training model for feature:  logs\n",
      "F1 score: 0.23550711316521222\n",
      "Training model for feature:  logs\n",
      "F1 score: 0.27812566047736026\n",
      "Training model for feature:  logs\n",
      "F1 score: 0.18811651243272323\n",
      "Training model for feature:  logs\n",
      "F1 score: 0.23868013850326433\n",
      "Training model for feature:  logs\n",
      "F1 score: 0.26093999398215717\n",
      "Training model for feature:  logs\n",
      "F1 score: 0.18667810058993012\n",
      "Training model for feature:  logs\n",
      "F1 score: 0.2166807920740399\n",
      "Training model for feature:  logs\n",
      "F1 score: 0.26982521109786195\n"
     ]
    }
   ],
   "source": [
    "best_params_3 = run_experiment(3)\n",
    "\n",
    "print('\\n\\n\\t Starting TRAIN_SET_6')\n",
    "best_params_6 = run_experiment(6)\n",
    "\n",
    "print('\\n\\n\\t Starting TRAIN_SET_9')\n",
    "best_params_9 = run_experiment(9)"
   ]
  },
  {
   "cell_type": "code",
   "execution_count": 6,
   "metadata": {},
   "outputs": [
    {
     "data": {
      "text/plain": [
       "{'colsample_bytree': 0.7065634376490045,\n",
       " 'gamma': 0.1763363750539652,\n",
       " 'learning_rate': 0.011349678407368625,\n",
       " 'max_depth': 4.0,\n",
       " 'n_estimators': 254.0,\n",
       " 'reg_lambda': 2.483929898485301,\n",
       " 'subsample': 0.47226778996571395}"
      ]
     },
     "execution_count": 6,
     "metadata": {},
     "output_type": "execute_result"
    }
   ],
   "source": [
    "best_params_3"
   ]
  },
  {
   "cell_type": "code",
   "execution_count": 5,
   "metadata": {},
   "outputs": [],
   "source": [
    "best_params_3 = {'colsample_bytree': 0.7065634376490045,\n",
    " 'gamma': 0.1763363750539652,\n",
    " 'learning_rate': 0.011349678407368625,\n",
    " 'max_depth': 4.0,\n",
    " 'n_estimators': 254.0,\n",
    " 'reg_lambda': 2.483929898485301,\n",
    " 'subsample': 0.47226778996571395}"
   ]
  },
  {
   "cell_type": "code",
   "execution_count": 7,
   "metadata": {},
   "outputs": [
    {
     "data": {
      "text/plain": [
       "{'colsample_bytree': 0.5583072645534399,\n",
       " 'gamma': 0.024522752259214353,\n",
       " 'learning_rate': 0.1170402654596448,\n",
       " 'max_depth': 3.0,\n",
       " 'n_estimators': 423.0,\n",
       " 'reg_lambda': 9.9419131784328,\n",
       " 'subsample': 0.9780945495326623}"
      ]
     },
     "execution_count": 7,
     "metadata": {},
     "output_type": "execute_result"
    }
   ],
   "source": [
    "best_params_6"
   ]
  },
  {
   "cell_type": "code",
   "execution_count": 6,
   "metadata": {},
   "outputs": [],
   "source": [
    "best_params_6 = {'colsample_bytree': 0.5583072645534399,\n",
    " 'gamma': 0.024522752259214353,\n",
    " 'learning_rate': 0.1170402654596448,\n",
    " 'max_depth': 3.0,\n",
    " 'n_estimators': 423.0,\n",
    " 'reg_lambda': 9.9419131784328,\n",
    " 'subsample': 0.9780945495326623}"
   ]
  },
  {
   "cell_type": "code",
   "execution_count": 8,
   "metadata": {},
   "outputs": [
    {
     "data": {
      "text/plain": [
       "{'colsample_bytree': 0.7485373188310873,\n",
       " 'gamma': 0.04657032367296898,\n",
       " 'learning_rate': 0.019761179594807568,\n",
       " 'max_depth': 8.0,\n",
       " 'n_estimators': 83.0,\n",
       " 'reg_lambda': 1.324865078210936,\n",
       " 'subsample': 0.4897623720774287}"
      ]
     },
     "execution_count": 8,
     "metadata": {},
     "output_type": "execute_result"
    }
   ],
   "source": [
    "best_params_9"
   ]
  },
  {
   "cell_type": "code",
   "execution_count": 7,
   "metadata": {},
   "outputs": [],
   "source": [
    "best_params_9 = {'colsample_bytree': 0.7485373188310873,\n",
    " 'gamma': 0.04657032367296898,\n",
    " 'learning_rate': 0.019761179594807568,\n",
    " 'max_depth': 8.0,\n",
    " 'n_estimators': 83.0,\n",
    " 'reg_lambda': 1.324865078210936,\n",
    " 'subsample': 0.4897623720774287}"
   ]
  },
  {
   "cell_type": "code",
   "execution_count": 9,
   "metadata": {},
   "outputs": [],
   "source": [
    "def pred_results_df(num_train, model_config):\n",
    "    \n",
    "    assert num_train in [3, 6, 9], 'Must use one of predefined train/test splits'\n",
    "    \n",
    "    train_sets = getattr(defaults, f'TRAIN_SETS_{num_train}')\n",
    "    \n",
    "    datasets = [FaciesDataset(s, infer_test_wells(s), features=['logs']) for s in train_sets]\n",
    "    \n",
    "    pred_dfs = []\n",
    "    \n",
    "    for i, dset in enumerate(datasets):\n",
    "        dset.load_or_generate_data()\n",
    "        \n",
    "        model = FeaturePredictor(dset, model_args=model_config, feature_model_args=fmodel_args)\n",
    "        model.fit(dset, verbose=False)\n",
    "        \n",
    "        print('predict_proba: ', model.predict_proba(dset.X_test))\n",
    "        \n",
    "        for test_well_name in dset.test_well_names:\n",
    "            df = model.preds_dataframe(test_well_name, logs=dset.logs_args['which_logs'])\n",
    "            df['well'] = test_well_name\n",
    "            df['set_number'] = i\n",
    "            pred_dfs.append(df)\n",
    "        \n",
    "    return pd.concat(pred_dfs)"
   ]
  },
  {
   "cell_type": "code",
   "execution_count": 10,
   "metadata": {},
   "outputs": [
    {
     "name": "stdout",
     "output_type": "stream",
     "text": [
      "Loading Well:  204-24a-7  from  /home/administrator/Dropbox/core_data/facies/train_data\n"
     ]
    },
    {
     "name": "stderr",
     "output_type": "stream",
     "text": [
      "Header section Parameter regexp=~P was not found.\n"
     ]
    },
    {
     "name": "stdout",
     "output_type": "stream",
     "text": [
      "Adding NaN log:  SP\n",
      "Adding NaN log:  DTS\n",
      "Feature shapes:  [('depth', (19294,)), ('top', (19294,)), ('base', (19294,)), ('logs', (19294, 11))]\n",
      "Loading Well:  204-24a-6  from  /home/administrator/Dropbox/core_data/facies/train_data\n"
     ]
    },
    {
     "name": "stderr",
     "output_type": "stream",
     "text": [
      "Header section Parameter regexp=~P was not found.\n"
     ]
    },
    {
     "name": "stdout",
     "output_type": "stream",
     "text": [
      "Adding NaN log:  SP\n",
      "Adding NaN log:  DTS1\n",
      "Adding NaN log:  DTS2\n",
      "Feature shapes:  [('depth', (13006,)), ('top', (13006,)), ('base', (13006,)), ('logs', (13006, 11))]\n",
      "Loading Well:  204-20-3  from  /home/administrator/Dropbox/core_data/facies/train_data\n"
     ]
    },
    {
     "name": "stderr",
     "output_type": "stream",
     "text": [
      "Header section Parameter regexp=~P was not found.\n"
     ]
    },
    {
     "name": "stdout",
     "output_type": "stream",
     "text": [
      "Feature shapes:  [('depth', (10906,)), ('top', (10906,)), ('base', (10906,)), ('logs', (10906, 11))]\n",
      "Loading Well:  204-20-2  from  /home/administrator/Dropbox/core_data/facies/train_data\n"
     ]
    },
    {
     "name": "stderr",
     "output_type": "stream",
     "text": [
      "Header section Parameter regexp=~P was not found.\n"
     ]
    },
    {
     "name": "stdout",
     "output_type": "stream",
     "text": [
      "Feature shapes:  [('depth', (2940,)), ('top', (2940,)), ('base', (2940,)), ('logs', (2940, 11))]\n",
      "Loading Well:  205-21b-3  from  /home/administrator/Dropbox/core_data/facies/train_data\n"
     ]
    },
    {
     "name": "stderr",
     "output_type": "stream",
     "text": [
      "Header section Parameter regexp=~P was not found.\n"
     ]
    },
    {
     "name": "stdout",
     "output_type": "stream",
     "text": [
      "Adding NaN log:  SP\n",
      "Adding NaN log:  DTS\n",
      "Feature shapes:  [('depth', (3842,)), ('top', (3842,)), ('base', (3842,)), ('logs', (3842, 11))]\n",
      "Loading Well:  204-19-6  from  /home/administrator/Dropbox/core_data/facies/train_data\n"
     ]
    },
    {
     "name": "stderr",
     "output_type": "stream",
     "text": [
      "Header section Parameter regexp=~P was not found.\n"
     ]
    },
    {
     "name": "stdout",
     "output_type": "stream",
     "text": [
      "Adding NaN log:  DTS\n",
      "Feature shapes:  [('depth', (1884,)), ('top', (1884,)), ('base', (1884,)), ('logs', (1884, 11))]\n",
      "Loading Well:  204-19-7  from  /home/administrator/Dropbox/core_data/facies/train_data\n"
     ]
    },
    {
     "name": "stderr",
     "output_type": "stream",
     "text": [
      "Header section Parameter regexp=~P was not found.\n"
     ]
    },
    {
     "name": "stdout",
     "output_type": "stream",
     "text": [
      "Adding NaN log:  DTS\n"
     ]
    },
    {
     "name": "stderr",
     "output_type": "stream",
     "text": [
      "Header section Parameter regexp=~P was not found.\n"
     ]
    },
    {
     "name": "stdout",
     "output_type": "stream",
     "text": [
      "Feature shapes:  [('depth', (9807,)), ('top', (9807,)), ('base', (9807,)), ('logs', (9807, 11))]\n",
      "Loading Well:  204-20-6a  from  /home/administrator/Dropbox/core_data/facies/train_data\n",
      "Adding NaN log:  SP\n",
      "Adding NaN log:  DTS1\n",
      "Adding NaN log:  DTS2\n",
      "Feature shapes:  [('depth', (3542,)), ('top', (3542,)), ('base', (3542,)), ('logs', (3542, 11))]\n",
      "Loading Well:  204-20-1  from  /home/administrator/Dropbox/core_data/facies/train_data\n"
     ]
    },
    {
     "name": "stderr",
     "output_type": "stream",
     "text": [
      "Header section Parameter regexp=~P was not found.\n"
     ]
    },
    {
     "name": "stdout",
     "output_type": "stream",
     "text": [
      "Adding NaN log:  DTS1\n",
      "Adding NaN log:  DTS2\n",
      "Feature shapes:  [('depth', (11210,)), ('top', (11210,)), ('base', (11210,)), ('logs', (11210, 11))]\n",
      "Loading Well:  204-20-1Z  from  /home/administrator/Dropbox/core_data/facies/train_data\n"
     ]
    },
    {
     "name": "stderr",
     "output_type": "stream",
     "text": [
      "Header section Parameter regexp=~P was not found.\n"
     ]
    },
    {
     "name": "stdout",
     "output_type": "stream",
     "text": [
      "Adding NaN log:  SP\n",
      "Adding NaN log:  DTS1\n",
      "Adding NaN log:  DTS2\n",
      "Feature shapes:  [('depth', (1917,)), ('top', (1917,)), ('base', (1917,)), ('logs', (1917, 11))]\n",
      "Loading Well:  204-20a-7  from  /home/administrator/Dropbox/core_data/facies/train_data\n"
     ]
    },
    {
     "name": "stderr",
     "output_type": "stream",
     "text": [
      "Header section Parameter regexp=~P was not found.\n"
     ]
    },
    {
     "name": "stdout",
     "output_type": "stream",
     "text": [
      "Adding NaN log:  DTS1\n",
      "Adding NaN log:  DTS2\n",
      "Feature shapes:  [('depth', (3105,)), ('top', (3105,)), ('base', (3105,)), ('logs', (3105, 11))]\n",
      "Loading Well:  204-19-3A  from  /home/administrator/Dropbox/core_data/facies/train_data\n"
     ]
    },
    {
     "name": "stderr",
     "output_type": "stream",
     "text": [
      "Header section Parameter regexp=~P was not found.\n"
     ]
    },
    {
     "name": "stdout",
     "output_type": "stream",
     "text": [
      "Adding NaN log:  DTS\n",
      "Feature shapes:  [('depth', (9590,)), ('top', (9590,)), ('base', (9590,)), ('logs', (9590, 11))]\n",
      "Training model for feature:  logs\n",
      "predict_proba:  [[0.24109808 0.3977983  0.05906342 0.22564667 0.07639349]\n",
      " [0.1542549  0.4266533  0.09514266 0.24201436 0.08193483]\n",
      " [0.17907372 0.4279227  0.08922006 0.22694907 0.07683442]\n",
      " ...\n",
      " [0.7458624  0.04602151 0.14598034 0.0283148  0.03382092]\n",
      " [0.7458624  0.04602151 0.14598034 0.0283148  0.03382092]\n",
      " [0.7458624  0.04602151 0.14598034 0.0283148  0.03382092]]\n",
      "Loading Well:  204-19-3A  from  /home/administrator/Dropbox/core_data/facies/train_data\n"
     ]
    },
    {
     "name": "stderr",
     "output_type": "stream",
     "text": [
      "Header section Parameter regexp=~P was not found.\n"
     ]
    },
    {
     "name": "stdout",
     "output_type": "stream",
     "text": [
      "Adding NaN log:  DTS\n",
      "Feature shapes:  [('depth', (9590,)), ('top', (9590,)), ('base', (9590,)), ('logs', (9590, 11))]\n",
      "Loading Well:  204-19-7  from  /home/administrator/Dropbox/core_data/facies/train_data\n"
     ]
    },
    {
     "name": "stderr",
     "output_type": "stream",
     "text": [
      "Header section Parameter regexp=~P was not found.\n"
     ]
    },
    {
     "name": "stdout",
     "output_type": "stream",
     "text": [
      "Adding NaN log:  DTS\n",
      "Feature shapes:  [('depth', (9807,)), ('top', (9807,)), ('base', (9807,)), ('logs', (9807, 11))]\n",
      "Loading Well:  205-21b-3  from  /home/administrator/Dropbox/core_data/facies/train_data\n"
     ]
    },
    {
     "name": "stderr",
     "output_type": "stream",
     "text": [
      "Header section Parameter regexp=~P was not found.\n"
     ]
    },
    {
     "name": "stdout",
     "output_type": "stream",
     "text": [
      "Adding NaN log:  SP\n",
      "Adding NaN log:  DTS\n",
      "Feature shapes:  [('depth', (3842,)), ('top', (3842,)), ('base', (3842,)), ('logs', (3842, 11))]\n",
      "Loading Well:  204-20-2  from  /home/administrator/Dropbox/core_data/facies/train_data\n"
     ]
    },
    {
     "name": "stderr",
     "output_type": "stream",
     "text": [
      "Header section Parameter regexp=~P was not found.\n"
     ]
    },
    {
     "name": "stdout",
     "output_type": "stream",
     "text": [
      "Feature shapes:  [('depth', (2940,)), ('top', (2940,)), ('base', (2940,)), ('logs', (2940, 11))]\n",
      "Loading Well:  204-19-6  from  /home/administrator/Dropbox/core_data/facies/train_data\n"
     ]
    },
    {
     "name": "stderr",
     "output_type": "stream",
     "text": [
      "Header section Parameter regexp=~P was not found.\n"
     ]
    },
    {
     "name": "stdout",
     "output_type": "stream",
     "text": [
      "Adding NaN log:  DTS\n",
      "Feature shapes:  [('depth', (1884,)), ('top', (1884,)), ('base', (1884,)), ('logs', (1884, 11))]\n",
      "Loading Well:  204-20-6a  from  /home/administrator/Dropbox/core_data/facies/train_data\n"
     ]
    },
    {
     "name": "stderr",
     "output_type": "stream",
     "text": [
      "Header section Parameter regexp=~P was not found.\n"
     ]
    },
    {
     "name": "stdout",
     "output_type": "stream",
     "text": [
      "Adding NaN log:  SP\n",
      "Adding NaN log:  DTS1\n",
      "Adding NaN log:  DTS2\n",
      "Feature shapes:  [('depth', (3542,)), ('top', (3542,)), ('base', (3542,)), ('logs', (3542, 11))]\n",
      "Loading Well:  204-24a-7  from  /home/administrator/Dropbox/core_data/facies/train_data\n"
     ]
    },
    {
     "name": "stderr",
     "output_type": "stream",
     "text": [
      "Header section Parameter regexp=~P was not found.\n"
     ]
    },
    {
     "name": "stdout",
     "output_type": "stream",
     "text": [
      "Adding NaN log:  SP\n",
      "Adding NaN log:  DTS\n",
      "Feature shapes:  [('depth', (19294,)), ('top', (19294,)), ('base', (19294,)), ('logs', (19294, 11))]\n",
      "Loading Well:  204-20-1  from  /home/administrator/Dropbox/core_data/facies/train_data\n"
     ]
    },
    {
     "name": "stderr",
     "output_type": "stream",
     "text": [
      "Header section Parameter regexp=~P was not found.\n"
     ]
    },
    {
     "name": "stdout",
     "output_type": "stream",
     "text": [
      "Adding NaN log:  DTS1\n",
      "Adding NaN log:  DTS2\n",
      "Feature shapes:  [('depth', (11210,)), ('top', (11210,)), ('base', (11210,)), ('logs', (11210, 11))]\n",
      "Loading Well:  204-20-1Z  from  /home/administrator/Dropbox/core_data/facies/train_data\n"
     ]
    },
    {
     "name": "stderr",
     "output_type": "stream",
     "text": [
      "Header section Parameter regexp=~P was not found.\n"
     ]
    },
    {
     "name": "stdout",
     "output_type": "stream",
     "text": [
      "Adding NaN log:  SP\n",
      "Adding NaN log:  DTS1\n",
      "Adding NaN log:  DTS2\n",
      "Feature shapes:  [('depth', (1917,)), ('top', (1917,)), ('base', (1917,)), ('logs', (1917, 11))]\n",
      "Loading Well:  204-20a-7  from  /home/administrator/Dropbox/core_data/facies/train_data\n"
     ]
    },
    {
     "name": "stderr",
     "output_type": "stream",
     "text": [
      "Header section Parameter regexp=~P was not found.\n"
     ]
    },
    {
     "name": "stdout",
     "output_type": "stream",
     "text": [
      "Adding NaN log:  DTS1\n",
      "Adding NaN log:  DTS2\n",
      "Feature shapes:  [('depth', (3105,)), ('top', (3105,)), ('base', (3105,)), ('logs', (3105, 11))]\n",
      "Loading Well:  204-20-3  from  /home/administrator/Dropbox/core_data/facies/train_data\n"
     ]
    },
    {
     "name": "stderr",
     "output_type": "stream",
     "text": [
      "Header section Parameter regexp=~P was not found.\n"
     ]
    },
    {
     "name": "stdout",
     "output_type": "stream",
     "text": [
      "Feature shapes:  [('depth', (10906,)), ('top', (10906,)), ('base', (10906,)), ('logs', (10906, 11))]\n",
      "Loading Well:  204-24a-6  from  /home/administrator/Dropbox/core_data/facies/train_data\n"
     ]
    },
    {
     "name": "stderr",
     "output_type": "stream",
     "text": [
      "Header section Parameter regexp=~P was not found.\n"
     ]
    },
    {
     "name": "stdout",
     "output_type": "stream",
     "text": [
      "Adding NaN log:  SP\n",
      "Adding NaN log:  DTS1\n",
      "Adding NaN log:  DTS2\n",
      "Feature shapes:  [('depth', (13006,)), ('top', (13006,)), ('base', (13006,)), ('logs', (13006, 11))]\n",
      "Training model for feature:  logs\n",
      "predict_proba:  [[0.14904767 0.04025153 0.07739716 0.07426415 0.65903944]\n",
      " [0.13879858 0.03748368 0.07207505 0.07147219 0.6801705 ]\n",
      " [0.1487016  0.04015807 0.07721744 0.08072895 0.65319395]\n",
      " ...\n",
      " [0.12283397 0.22766444 0.11228292 0.19383967 0.343379  ]\n",
      " [0.12269114 0.2285625  0.11215236 0.19361426 0.3429797 ]\n",
      " [0.12269114 0.2285625  0.11215236 0.19361426 0.3429797 ]]\n",
      "Loading Well:  204-20-1  from  /home/administrator/Dropbox/core_data/facies/train_data\n"
     ]
    },
    {
     "name": "stderr",
     "output_type": "stream",
     "text": [
      "Header section Parameter regexp=~P was not found.\n"
     ]
    },
    {
     "name": "stdout",
     "output_type": "stream",
     "text": [
      "Adding NaN log:  DTS1\n",
      "Adding NaN log:  DTS2\n",
      "Feature shapes:  [('depth', (11210,)), ('top', (11210,)), ('base', (11210,)), ('logs', (11210, 11))]\n",
      "Loading Well:  204-20-2  from  /home/administrator/Dropbox/core_data/facies/train_data\n"
     ]
    },
    {
     "name": "stderr",
     "output_type": "stream",
     "text": [
      "Header section Parameter regexp=~P was not found.\n"
     ]
    },
    {
     "name": "stdout",
     "output_type": "stream",
     "text": [
      "Feature shapes:  [('depth', (2940,)), ('top', (2940,)), ('base', (2940,)), ('logs', (2940, 11))]\n",
      "Loading Well:  204-19-6  from  /home/administrator/Dropbox/core_data/facies/train_data\n"
     ]
    },
    {
     "name": "stderr",
     "output_type": "stream",
     "text": [
      "Header section Parameter regexp=~P was not found.\n"
     ]
    },
    {
     "name": "stdout",
     "output_type": "stream",
     "text": [
      "Adding NaN log:  DTS\n",
      "Feature shapes:  [('depth', (1884,)), ('top', (1884,)), ('base', (1884,)), ('logs', (1884, 11))]\n",
      "Loading Well:  205-21b-3  from  /home/administrator/Dropbox/core_data/facies/train_data\n"
     ]
    },
    {
     "name": "stderr",
     "output_type": "stream",
     "text": [
      "Header section Parameter regexp=~P was not found.\n"
     ]
    },
    {
     "name": "stdout",
     "output_type": "stream",
     "text": [
      "Adding NaN log:  SP\n",
      "Adding NaN log:  DTS\n",
      "Feature shapes:  [('depth', (3842,)), ('top', (3842,)), ('base', (3842,)), ('logs', (3842, 11))]\n",
      "Loading Well:  204-19-7  from  /home/administrator/Dropbox/core_data/facies/train_data\n"
     ]
    },
    {
     "name": "stderr",
     "output_type": "stream",
     "text": [
      "Header section Parameter regexp=~P was not found.\n"
     ]
    },
    {
     "name": "stdout",
     "output_type": "stream",
     "text": [
      "Adding NaN log:  DTS\n"
     ]
    },
    {
     "name": "stderr",
     "output_type": "stream",
     "text": [
      "Header section Parameter regexp=~P was not found.\n"
     ]
    },
    {
     "name": "stdout",
     "output_type": "stream",
     "text": [
      "Feature shapes:  [('depth', (9807,)), ('top', (9807,)), ('base', (9807,)), ('logs', (9807, 11))]\n",
      "Loading Well:  204-20-6a  from  /home/administrator/Dropbox/core_data/facies/train_data\n",
      "Adding NaN log:  SP\n",
      "Adding NaN log:  DTS1\n",
      "Adding NaN log:  DTS2\n",
      "Feature shapes:  [('depth', (3542,)), ('top', (3542,)), ('base', (3542,)), ('logs', (3542, 11))]\n",
      "Loading Well:  204-24a-7  from  /home/administrator/Dropbox/core_data/facies/train_data\n"
     ]
    },
    {
     "name": "stderr",
     "output_type": "stream",
     "text": [
      "Header section Parameter regexp=~P was not found.\n"
     ]
    },
    {
     "name": "stdout",
     "output_type": "stream",
     "text": [
      "Adding NaN log:  SP\n",
      "Adding NaN log:  DTS\n",
      "Feature shapes:  [('depth', (19294,)), ('top', (19294,)), ('base', (19294,)), ('logs', (19294, 11))]\n",
      "Loading Well:  204-20-1Z  from  /home/administrator/Dropbox/core_data/facies/train_data\n"
     ]
    },
    {
     "name": "stderr",
     "output_type": "stream",
     "text": [
      "Header section Parameter regexp=~P was not found.\n"
     ]
    },
    {
     "name": "stdout",
     "output_type": "stream",
     "text": [
      "Adding NaN log:  SP\n",
      "Adding NaN log:  DTS1\n",
      "Adding NaN log:  DTS2\n",
      "Feature shapes:  [('depth', (1917,)), ('top', (1917,)), ('base', (1917,)), ('logs', (1917, 11))]\n",
      "Loading Well:  204-20a-7  from  /home/administrator/Dropbox/core_data/facies/train_data\n"
     ]
    },
    {
     "name": "stderr",
     "output_type": "stream",
     "text": [
      "Header section Parameter regexp=~P was not found.\n"
     ]
    },
    {
     "name": "stdout",
     "output_type": "stream",
     "text": [
      "Adding NaN log:  DTS1\n",
      "Adding NaN log:  DTS2\n",
      "Feature shapes:  [('depth', (3105,)), ('top', (3105,)), ('base', (3105,)), ('logs', (3105, 11))]\n",
      "Loading Well:  204-19-3A  from  /home/administrator/Dropbox/core_data/facies/train_data\n"
     ]
    },
    {
     "name": "stderr",
     "output_type": "stream",
     "text": [
      "Header section Parameter regexp=~P was not found.\n"
     ]
    },
    {
     "name": "stdout",
     "output_type": "stream",
     "text": [
      "Adding NaN log:  DTS\n",
      "Feature shapes:  [('depth', (9590,)), ('top', (9590,)), ('base', (9590,)), ('logs', (9590, 11))]\n",
      "Loading Well:  204-20-3  from  /home/administrator/Dropbox/core_data/facies/train_data\n"
     ]
    },
    {
     "name": "stderr",
     "output_type": "stream",
     "text": [
      "Header section Parameter regexp=~P was not found.\n"
     ]
    },
    {
     "name": "stdout",
     "output_type": "stream",
     "text": [
      "Feature shapes:  [('depth', (10906,)), ('top', (10906,)), ('base', (10906,)), ('logs', (10906, 11))]\n",
      "Loading Well:  204-24a-6  from  /home/administrator/Dropbox/core_data/facies/train_data\n"
     ]
    },
    {
     "name": "stderr",
     "output_type": "stream",
     "text": [
      "Header section Parameter regexp=~P was not found.\n"
     ]
    },
    {
     "name": "stdout",
     "output_type": "stream",
     "text": [
      "Adding NaN log:  SP\n",
      "Adding NaN log:  DTS1\n",
      "Adding NaN log:  DTS2\n",
      "Feature shapes:  [('depth', (13006,)), ('top', (13006,)), ('base', (13006,)), ('logs', (13006, 11))]\n",
      "Training model for feature:  logs\n",
      "predict_proba:  [[0.42818904 0.19488557 0.16192977 0.11583325 0.0991624 ]\n",
      " [0.42818904 0.19488557 0.16192977 0.11583325 0.0991624 ]\n",
      " [0.3704394  0.21456788 0.17828374 0.12753172 0.10917724]\n",
      " ...\n",
      " [0.05701559 0.03342039 0.0911118  0.533365   0.28508723]\n",
      " [0.05701559 0.03342039 0.0911118  0.533365   0.28508723]\n",
      " [0.05701559 0.03342039 0.0911118  0.533365   0.28508723]]\n"
     ]
    },
    {
     "data": {
      "text/plain": [
       "0.24797880690737834"
      ]
     },
     "execution_count": 10,
     "metadata": {},
     "output_type": "execute_result"
    }
   ],
   "source": [
    "preds_df_3 = pred_results_df(3, make_params_usable(best_params_3))\n",
    "\n",
    "(preds_df_3['y_true'] == preds_df_3['y_pred']).sum() / preds_df_3.shape[0]\n",
    "\n",
    "#preds_df_3.to_csv('logs_xgb_results_train_sets3.csv')"
   ]
  },
  {
   "cell_type": "code",
   "execution_count": 11,
   "metadata": {},
   "outputs": [
    {
     "name": "stdout",
     "output_type": "stream",
     "text": [
      "Loading Well:  204-24a-7  from  /home/administrator/Dropbox/core_data/facies/train_data\n"
     ]
    },
    {
     "name": "stderr",
     "output_type": "stream",
     "text": [
      "Header section Parameter regexp=~P was not found.\n"
     ]
    },
    {
     "name": "stdout",
     "output_type": "stream",
     "text": [
      "Adding NaN log:  SP\n",
      "Adding NaN log:  DTS\n",
      "Feature shapes:  [('depth', (19294,)), ('top', (19294,)), ('base', (19294,)), ('logs', (19294, 11))]\n",
      "Loading Well:  204-24a-6  from  /home/administrator/Dropbox/core_data/facies/train_data\n"
     ]
    },
    {
     "name": "stderr",
     "output_type": "stream",
     "text": [
      "Header section Parameter regexp=~P was not found.\n"
     ]
    },
    {
     "name": "stdout",
     "output_type": "stream",
     "text": [
      "Adding NaN log:  SP\n",
      "Adding NaN log:  DTS1\n",
      "Adding NaN log:  DTS2\n",
      "Feature shapes:  [('depth', (13006,)), ('top', (13006,)), ('base', (13006,)), ('logs', (13006, 11))]\n",
      "Loading Well:  204-20-3  from  /home/administrator/Dropbox/core_data/facies/train_data\n"
     ]
    },
    {
     "name": "stderr",
     "output_type": "stream",
     "text": [
      "Header section Parameter regexp=~P was not found.\n"
     ]
    },
    {
     "name": "stdout",
     "output_type": "stream",
     "text": [
      "Feature shapes:  [('depth', (10906,)), ('top', (10906,)), ('base', (10906,)), ('logs', (10906, 11))]\n",
      "Loading Well:  204-20-6a  from  /home/administrator/Dropbox/core_data/facies/train_data\n"
     ]
    },
    {
     "name": "stderr",
     "output_type": "stream",
     "text": [
      "Header section Parameter regexp=~P was not found.\n"
     ]
    },
    {
     "name": "stdout",
     "output_type": "stream",
     "text": [
      "Adding NaN log:  SP\n",
      "Adding NaN log:  DTS1\n",
      "Adding NaN log:  DTS2\n",
      "Feature shapes:  [('depth', (3542,)), ('top', (3542,)), ('base', (3542,)), ('logs', (3542, 11))]\n",
      "Loading Well:  204-20a-7  from  /home/administrator/Dropbox/core_data/facies/train_data\n"
     ]
    },
    {
     "name": "stderr",
     "output_type": "stream",
     "text": [
      "Header section Parameter regexp=~P was not found.\n"
     ]
    },
    {
     "name": "stdout",
     "output_type": "stream",
     "text": [
      "Adding NaN log:  DTS1\n",
      "Adding NaN log:  DTS2\n",
      "Feature shapes:  [('depth', (3105,)), ('top', (3105,)), ('base', (3105,)), ('logs', (3105, 11))]\n",
      "Loading Well:  204-19-6  from  /home/administrator/Dropbox/core_data/facies/train_data\n"
     ]
    },
    {
     "name": "stderr",
     "output_type": "stream",
     "text": [
      "Header section Parameter regexp=~P was not found.\n"
     ]
    },
    {
     "name": "stdout",
     "output_type": "stream",
     "text": [
      "Adding NaN log:  DTS\n",
      "Feature shapes:  [('depth', (1884,)), ('top', (1884,)), ('base', (1884,)), ('logs', (1884, 11))]\n",
      "Loading Well:  204-20-2  from  /home/administrator/Dropbox/core_data/facies/train_data\n"
     ]
    },
    {
     "name": "stderr",
     "output_type": "stream",
     "text": [
      "Header section Parameter regexp=~P was not found.\n"
     ]
    },
    {
     "name": "stdout",
     "output_type": "stream",
     "text": [
      "Feature shapes:  [('depth', (2940,)), ('top', (2940,)), ('base', (2940,)), ('logs', (2940, 11))]\n",
      "Loading Well:  205-21b-3  from  /home/administrator/Dropbox/core_data/facies/train_data\n"
     ]
    },
    {
     "name": "stderr",
     "output_type": "stream",
     "text": [
      "Header section Parameter regexp=~P was not found.\n"
     ]
    },
    {
     "name": "stdout",
     "output_type": "stream",
     "text": [
      "Adding NaN log:  SP\n",
      "Adding NaN log:  DTS\n",
      "Feature shapes:  [('depth', (3842,)), ('top', (3842,)), ('base', (3842,)), ('logs', (3842, 11))]\n",
      "Loading Well:  204-19-7  from  /home/administrator/Dropbox/core_data/facies/train_data\n"
     ]
    },
    {
     "name": "stderr",
     "output_type": "stream",
     "text": [
      "Header section Parameter regexp=~P was not found.\n"
     ]
    },
    {
     "name": "stdout",
     "output_type": "stream",
     "text": [
      "Adding NaN log:  DTS\n",
      "Feature shapes:  [('depth', (9807,)), ('top', (9807,)), ('base', (9807,)), ('logs', (9807, 11))]\n",
      "Loading Well:  204-20-1  from  /home/administrator/Dropbox/core_data/facies/train_data\n"
     ]
    },
    {
     "name": "stderr",
     "output_type": "stream",
     "text": [
      "Header section Parameter regexp=~P was not found.\n"
     ]
    },
    {
     "name": "stdout",
     "output_type": "stream",
     "text": [
      "Adding NaN log:  DTS1\n",
      "Adding NaN log:  DTS2\n",
      "Feature shapes:  [('depth', (11210,)), ('top', (11210,)), ('base', (11210,)), ('logs', (11210, 11))]\n",
      "Loading Well:  204-20-1Z  from  /home/administrator/Dropbox/core_data/facies/train_data\n"
     ]
    },
    {
     "name": "stderr",
     "output_type": "stream",
     "text": [
      "Header section Parameter regexp=~P was not found.\n"
     ]
    },
    {
     "name": "stdout",
     "output_type": "stream",
     "text": [
      "Adding NaN log:  SP\n",
      "Adding NaN log:  DTS1\n",
      "Adding NaN log:  DTS2\n",
      "Feature shapes:  [('depth', (1917,)), ('top', (1917,)), ('base', (1917,)), ('logs', (1917, 11))]\n",
      "Loading Well:  204-19-3A  from  /home/administrator/Dropbox/core_data/facies/train_data\n"
     ]
    },
    {
     "name": "stderr",
     "output_type": "stream",
     "text": [
      "Header section Parameter regexp=~P was not found.\n"
     ]
    },
    {
     "name": "stdout",
     "output_type": "stream",
     "text": [
      "Adding NaN log:  DTS\n",
      "Feature shapes:  [('depth', (9590,)), ('top', (9590,)), ('base', (9590,)), ('logs', (9590, 11))]\n",
      "Training model for feature:  logs\n",
      "predict_proba:  [[0.92616266 0.03622933 0.00790415 0.02730035 0.00240354]\n",
      " [0.88508487 0.07941475 0.00685353 0.02672477 0.00192211]\n",
      " [0.86228573 0.10347537 0.00703554 0.02525335 0.00194997]\n",
      " ...\n",
      " [0.88792616 0.01434808 0.06409889 0.02070601 0.01292084]\n",
      " [0.89864117 0.0145683  0.053223   0.02095588 0.01261159]\n",
      " [0.9159043  0.01383438 0.05025806 0.00662915 0.0133741 ]]\n",
      "Loading Well:  204-19-3A  from  /home/administrator/Dropbox/core_data/facies/train_data\n"
     ]
    },
    {
     "name": "stderr",
     "output_type": "stream",
     "text": [
      "Header section Parameter regexp=~P was not found.\n"
     ]
    },
    {
     "name": "stdout",
     "output_type": "stream",
     "text": [
      "Adding NaN log:  DTS\n",
      "Feature shapes:  [('depth', (9590,)), ('top', (9590,)), ('base', (9590,)), ('logs', (9590, 11))]\n",
      "Loading Well:  204-20-1  from  /home/administrator/Dropbox/core_data/facies/train_data\n"
     ]
    },
    {
     "name": "stderr",
     "output_type": "stream",
     "text": [
      "Header section Parameter regexp=~P was not found.\n"
     ]
    },
    {
     "name": "stdout",
     "output_type": "stream",
     "text": [
      "Adding NaN log:  DTS1\n",
      "Adding NaN log:  DTS2\n",
      "Feature shapes:  [('depth', (11210,)), ('top', (11210,)), ('base', (11210,)), ('logs', (11210, 11))]\n",
      "Loading Well:  204-19-7  from  /home/administrator/Dropbox/core_data/facies/train_data\n"
     ]
    },
    {
     "name": "stderr",
     "output_type": "stream",
     "text": [
      "Header section Parameter regexp=~P was not found.\n"
     ]
    },
    {
     "name": "stdout",
     "output_type": "stream",
     "text": [
      "Adding NaN log:  DTS\n",
      "Feature shapes:  [('depth', (9807,)), ('top', (9807,)), ('base', (9807,)), ('logs', (9807, 11))]\n",
      "Loading Well:  205-21b-3  from  /home/administrator/Dropbox/core_data/facies/train_data\n"
     ]
    },
    {
     "name": "stderr",
     "output_type": "stream",
     "text": [
      "Header section Parameter regexp=~P was not found.\n"
     ]
    },
    {
     "name": "stdout",
     "output_type": "stream",
     "text": [
      "Adding NaN log:  SP\n",
      "Adding NaN log:  DTS\n",
      "Feature shapes:  [('depth', (3842,)), ('top', (3842,)), ('base', (3842,)), ('logs', (3842, 11))]\n",
      "Loading Well:  204-20-2  from  /home/administrator/Dropbox/core_data/facies/train_data\n"
     ]
    },
    {
     "name": "stderr",
     "output_type": "stream",
     "text": [
      "Header section Parameter regexp=~P was not found.\n"
     ]
    },
    {
     "name": "stdout",
     "output_type": "stream",
     "text": [
      "Feature shapes:  [('depth', (2940,)), ('top', (2940,)), ('base', (2940,)), ('logs', (2940, 11))]\n",
      "Loading Well:  204-20-1Z  from  /home/administrator/Dropbox/core_data/facies/train_data\n"
     ]
    },
    {
     "name": "stderr",
     "output_type": "stream",
     "text": [
      "Header section Parameter regexp=~P was not found.\n"
     ]
    },
    {
     "name": "stdout",
     "output_type": "stream",
     "text": [
      "Adding NaN log:  SP\n",
      "Adding NaN log:  DTS1\n",
      "Adding NaN log:  DTS2\n",
      "Feature shapes:  [('depth', (1917,)), ('top', (1917,)), ('base', (1917,)), ('logs', (1917, 11))]\n",
      "Loading Well:  204-19-6  from  /home/administrator/Dropbox/core_data/facies/train_data\n"
     ]
    },
    {
     "name": "stderr",
     "output_type": "stream",
     "text": [
      "Header section Parameter regexp=~P was not found.\n"
     ]
    },
    {
     "name": "stdout",
     "output_type": "stream",
     "text": [
      "Adding NaN log:  DTS\n",
      "Feature shapes:  [('depth', (1884,)), ('top', (1884,)), ('base', (1884,)), ('logs', (1884, 11))]\n",
      "Loading Well:  204-20-6a  from  /home/administrator/Dropbox/core_data/facies/train_data\n"
     ]
    },
    {
     "name": "stderr",
     "output_type": "stream",
     "text": [
      "Header section Parameter regexp=~P was not found.\n"
     ]
    },
    {
     "name": "stdout",
     "output_type": "stream",
     "text": [
      "Adding NaN log:  SP\n",
      "Adding NaN log:  DTS1\n",
      "Adding NaN log:  DTS2\n",
      "Feature shapes:  [('depth', (3542,)), ('top', (3542,)), ('base', (3542,)), ('logs', (3542, 11))]\n",
      "Loading Well:  204-24a-7  from  /home/administrator/Dropbox/core_data/facies/train_data\n"
     ]
    },
    {
     "name": "stderr",
     "output_type": "stream",
     "text": [
      "Header section Parameter regexp=~P was not found.\n"
     ]
    },
    {
     "name": "stdout",
     "output_type": "stream",
     "text": [
      "Adding NaN log:  SP\n",
      "Adding NaN log:  DTS\n"
     ]
    },
    {
     "name": "stderr",
     "output_type": "stream",
     "text": [
      "Header section Parameter regexp=~P was not found.\n"
     ]
    },
    {
     "name": "stdout",
     "output_type": "stream",
     "text": [
      "Feature shapes:  [('depth', (19294,)), ('top', (19294,)), ('base', (19294,)), ('logs', (19294, 11))]\n",
      "Loading Well:  204-20a-7  from  /home/administrator/Dropbox/core_data/facies/train_data\n",
      "Adding NaN log:  DTS1\n",
      "Adding NaN log:  DTS2\n",
      "Feature shapes:  [('depth', (3105,)), ('top', (3105,)), ('base', (3105,)), ('logs', (3105, 11))]\n",
      "Loading Well:  204-20-3  from  /home/administrator/Dropbox/core_data/facies/train_data\n"
     ]
    },
    {
     "name": "stderr",
     "output_type": "stream",
     "text": [
      "Header section Parameter regexp=~P was not found.\n"
     ]
    },
    {
     "name": "stdout",
     "output_type": "stream",
     "text": [
      "Feature shapes:  [('depth', (10906,)), ('top', (10906,)), ('base', (10906,)), ('logs', (10906, 11))]\n",
      "Loading Well:  204-24a-6  from  /home/administrator/Dropbox/core_data/facies/train_data\n"
     ]
    },
    {
     "name": "stderr",
     "output_type": "stream",
     "text": [
      "Header section Parameter regexp=~P was not found.\n"
     ]
    },
    {
     "name": "stdout",
     "output_type": "stream",
     "text": [
      "Adding NaN log:  SP\n",
      "Adding NaN log:  DTS1\n",
      "Adding NaN log:  DTS2\n",
      "Feature shapes:  [('depth', (13006,)), ('top', (13006,)), ('base', (13006,)), ('logs', (13006, 11))]\n",
      "Training model for feature:  logs\n",
      "predict_proba:  [[0.03929031 0.39250797 0.33555204 0.04343205 0.18921767]\n",
      " [0.03669371 0.36656812 0.37946373 0.04056173 0.17671277]\n",
      " [0.05047971 0.23309731 0.4625559  0.04739301 0.20647411]\n",
      " ...\n",
      " [0.23405384 0.57772046 0.16825238 0.0013118  0.01866155]\n",
      " [0.23689689 0.5745852  0.16851357 0.00131383 0.01869052]\n",
      " [0.25383675 0.5441784  0.18055144 0.00140769 0.02002568]]\n",
      "Loading Well:  204-20-3  from  /home/administrator/Dropbox/core_data/facies/train_data\n"
     ]
    },
    {
     "name": "stderr",
     "output_type": "stream",
     "text": [
      "Header section Parameter regexp=~P was not found.\n"
     ]
    },
    {
     "name": "stdout",
     "output_type": "stream",
     "text": [
      "Feature shapes:  [('depth', (10906,)), ('top', (10906,)), ('base', (10906,)), ('logs', (10906, 11))]\n",
      "Loading Well:  204-20-1  from  /home/administrator/Dropbox/core_data/facies/train_data\n"
     ]
    },
    {
     "name": "stderr",
     "output_type": "stream",
     "text": [
      "Header section Parameter regexp=~P was not found.\n"
     ]
    },
    {
     "name": "stdout",
     "output_type": "stream",
     "text": [
      "Adding NaN log:  DTS1\n",
      "Adding NaN log:  DTS2\n",
      "Feature shapes:  [('depth', (11210,)), ('top', (11210,)), ('base', (11210,)), ('logs', (11210, 11))]\n",
      "Loading Well:  204-19-7  from  /home/administrator/Dropbox/core_data/facies/train_data\n"
     ]
    },
    {
     "name": "stderr",
     "output_type": "stream",
     "text": [
      "Header section Parameter regexp=~P was not found.\n"
     ]
    },
    {
     "name": "stdout",
     "output_type": "stream",
     "text": [
      "Adding NaN log:  DTS\n",
      "Feature shapes:  [('depth', (9807,)), ('top', (9807,)), ('base', (9807,)), ('logs', (9807, 11))]\n",
      "Loading Well:  205-21b-3  from  /home/administrator/Dropbox/core_data/facies/train_data\n"
     ]
    },
    {
     "name": "stderr",
     "output_type": "stream",
     "text": [
      "Header section Parameter regexp=~P was not found.\n"
     ]
    },
    {
     "name": "stdout",
     "output_type": "stream",
     "text": [
      "Adding NaN log:  SP\n",
      "Adding NaN log:  DTS\n",
      "Feature shapes:  [('depth', (3842,)), ('top', (3842,)), ('base', (3842,)), ('logs', (3842, 11))]\n",
      "Loading Well:  204-20-6a  from  /home/administrator/Dropbox/core_data/facies/train_data\n"
     ]
    },
    {
     "name": "stderr",
     "output_type": "stream",
     "text": [
      "Header section Parameter regexp=~P was not found.\n"
     ]
    },
    {
     "name": "stdout",
     "output_type": "stream",
     "text": [
      "Adding NaN log:  SP\n",
      "Adding NaN log:  DTS1\n",
      "Adding NaN log:  DTS2\n",
      "Feature shapes:  [('depth', (3542,)), ('top', (3542,)), ('base', (3542,)), ('logs', (3542, 11))]\n",
      "Loading Well:  204-20a-7  from  /home/administrator/Dropbox/core_data/facies/train_data\n"
     ]
    },
    {
     "name": "stderr",
     "output_type": "stream",
     "text": [
      "Header section Parameter regexp=~P was not found.\n"
     ]
    },
    {
     "name": "stdout",
     "output_type": "stream",
     "text": [
      "Adding NaN log:  DTS1\n",
      "Adding NaN log:  DTS2\n",
      "Feature shapes:  [('depth', (3105,)), ('top', (3105,)), ('base', (3105,)), ('logs', (3105, 11))]\n",
      "Loading Well:  204-20-2  from  /home/administrator/Dropbox/core_data/facies/train_data\n"
     ]
    },
    {
     "name": "stderr",
     "output_type": "stream",
     "text": [
      "Header section Parameter regexp=~P was not found.\n"
     ]
    },
    {
     "name": "stdout",
     "output_type": "stream",
     "text": [
      "Feature shapes:  [('depth', (2940,)), ('top', (2940,)), ('base', (2940,)), ('logs', (2940, 11))]\n",
      "Loading Well:  204-19-6  from  /home/administrator/Dropbox/core_data/facies/train_data\n"
     ]
    },
    {
     "name": "stderr",
     "output_type": "stream",
     "text": [
      "Header section Parameter regexp=~P was not found.\n"
     ]
    },
    {
     "name": "stdout",
     "output_type": "stream",
     "text": [
      "Adding NaN log:  DTS\n",
      "Feature shapes:  [('depth', (1884,)), ('top', (1884,)), ('base', (1884,)), ('logs', (1884, 11))]\n",
      "Loading Well:  204-24a-7  from  /home/administrator/Dropbox/core_data/facies/train_data\n"
     ]
    },
    {
     "name": "stderr",
     "output_type": "stream",
     "text": [
      "Header section Parameter regexp=~P was not found.\n"
     ]
    },
    {
     "name": "stdout",
     "output_type": "stream",
     "text": [
      "Adding NaN log:  SP\n",
      "Adding NaN log:  DTS\n",
      "Feature shapes:  [('depth', (19294,)), ('top', (19294,)), ('base', (19294,)), ('logs', (19294, 11))]\n",
      "Loading Well:  204-20-1Z  from  /home/administrator/Dropbox/core_data/facies/train_data\n"
     ]
    },
    {
     "name": "stderr",
     "output_type": "stream",
     "text": [
      "Header section Parameter regexp=~P was not found.\n"
     ]
    },
    {
     "name": "stdout",
     "output_type": "stream",
     "text": [
      "Adding NaN log:  SP\n",
      "Adding NaN log:  DTS1\n",
      "Adding NaN log:  DTS2\n",
      "Feature shapes:  [('depth', (1917,)), ('top', (1917,)), ('base', (1917,)), ('logs', (1917, 11))]\n",
      "Loading Well:  204-19-3A  from  /home/administrator/Dropbox/core_data/facies/train_data\n"
     ]
    },
    {
     "name": "stderr",
     "output_type": "stream",
     "text": [
      "Header section Parameter regexp=~P was not found.\n"
     ]
    },
    {
     "name": "stdout",
     "output_type": "stream",
     "text": [
      "Adding NaN log:  DTS\n",
      "Feature shapes:  [('depth', (9590,)), ('top', (9590,)), ('base', (9590,)), ('logs', (9590, 11))]\n",
      "Loading Well:  204-24a-6  from  /home/administrator/Dropbox/core_data/facies/train_data\n"
     ]
    },
    {
     "name": "stderr",
     "output_type": "stream",
     "text": [
      "Header section Parameter regexp=~P was not found.\n"
     ]
    },
    {
     "name": "stdout",
     "output_type": "stream",
     "text": [
      "Adding NaN log:  SP\n",
      "Adding NaN log:  DTS1\n",
      "Adding NaN log:  DTS2\n",
      "Feature shapes:  [('depth', (13006,)), ('top', (13006,)), ('base', (13006,)), ('logs', (13006, 11))]\n",
      "Training model for feature:  logs\n",
      "predict_proba:  [[0.01155851 0.0222644  0.0090724  0.45987186 0.49723282]\n",
      " [0.01284787 0.0181854  0.0095796  0.33676535 0.6226218 ]\n",
      " [0.0159134  0.02505132 0.01024407 0.4313156  0.5174756 ]\n",
      " ...\n",
      " [0.05753737 0.11624275 0.50355023 0.2881516  0.03451799]\n",
      " [0.05753737 0.11624275 0.50355023 0.2881516  0.03451799]\n",
      " [0.09801506 0.11125027 0.48192337 0.27577582 0.03303549]]\n"
     ]
    },
    {
     "data": {
      "text/plain": [
       "0.262596621152511"
      ]
     },
     "execution_count": 11,
     "metadata": {},
     "output_type": "execute_result"
    }
   ],
   "source": [
    "preds_df_6 = pred_results_df(6, make_params_usable(best_params_6))\n",
    "\n",
    "(preds_df_6['y_true'] == preds_df_6['y_pred']).sum() / preds_df_6.shape[0]\n",
    "\n",
    "#preds_df_6.to_csv('logs_xgb_results_train_sets6.csv')"
   ]
  },
  {
   "cell_type": "code",
   "execution_count": 12,
   "metadata": {},
   "outputs": [
    {
     "name": "stdout",
     "output_type": "stream",
     "text": [
      "Loading Well:  204-19-3A  from  /home/administrator/Dropbox/core_data/facies/train_data\n"
     ]
    },
    {
     "name": "stderr",
     "output_type": "stream",
     "text": [
      "Header section Parameter regexp=~P was not found.\n"
     ]
    },
    {
     "name": "stdout",
     "output_type": "stream",
     "text": [
      "Adding NaN log:  DTS\n",
      "Feature shapes:  [('depth', (9590,)), ('top', (9590,)), ('base', (9590,)), ('logs', (9590, 11))]\n",
      "Loading Well:  204-20-1  from  /home/administrator/Dropbox/core_data/facies/train_data\n"
     ]
    },
    {
     "name": "stderr",
     "output_type": "stream",
     "text": [
      "Header section Parameter regexp=~P was not found.\n"
     ]
    },
    {
     "name": "stdout",
     "output_type": "stream",
     "text": [
      "Adding NaN log:  DTS1\n",
      "Adding NaN log:  DTS2\n",
      "Feature shapes:  [('depth', (11210,)), ('top', (11210,)), ('base', (11210,)), ('logs', (11210, 11))]\n",
      "Loading Well:  204-19-7  from  /home/administrator/Dropbox/core_data/facies/train_data\n"
     ]
    },
    {
     "name": "stderr",
     "output_type": "stream",
     "text": [
      "Header section Parameter regexp=~P was not found.\n"
     ]
    },
    {
     "name": "stdout",
     "output_type": "stream",
     "text": [
      "Adding NaN log:  DTS\n",
      "Feature shapes:  [('depth', (9807,)), ('top', (9807,)), ('base', (9807,)), ('logs', (9807, 11))]\n",
      "Loading Well:  205-21b-3  from  /home/administrator/Dropbox/core_data/facies/train_data\n"
     ]
    },
    {
     "name": "stderr",
     "output_type": "stream",
     "text": [
      "Header section Parameter regexp=~P was not found.\n"
     ]
    },
    {
     "name": "stdout",
     "output_type": "stream",
     "text": [
      "Adding NaN log:  SP\n",
      "Adding NaN log:  DTS\n",
      "Feature shapes:  [('depth', (3842,)), ('top', (3842,)), ('base', (3842,)), ('logs', (3842, 11))]\n",
      "Loading Well:  204-20-6a  from  /home/administrator/Dropbox/core_data/facies/train_data\n"
     ]
    },
    {
     "name": "stderr",
     "output_type": "stream",
     "text": [
      "Header section Parameter regexp=~P was not found.\n"
     ]
    },
    {
     "name": "stdout",
     "output_type": "stream",
     "text": [
      "Adding NaN log:  SP\n",
      "Adding NaN log:  DTS1\n",
      "Adding NaN log:  DTS2\n",
      "Feature shapes:  [('depth', (3542,)), ('top', (3542,)), ('base', (3542,)), ('logs', (3542, 11))]\n",
      "Loading Well:  204-20a-7  from  /home/administrator/Dropbox/core_data/facies/train_data\n"
     ]
    },
    {
     "name": "stderr",
     "output_type": "stream",
     "text": [
      "Header section Parameter regexp=~P was not found.\n"
     ]
    },
    {
     "name": "stdout",
     "output_type": "stream",
     "text": [
      "Adding NaN log:  DTS1\n",
      "Adding NaN log:  DTS2\n",
      "Feature shapes:  [('depth', (3105,)), ('top', (3105,)), ('base', (3105,)), ('logs', (3105, 11))]\n",
      "Loading Well:  204-20-2  from  /home/administrator/Dropbox/core_data/facies/train_data\n"
     ]
    },
    {
     "name": "stderr",
     "output_type": "stream",
     "text": [
      "Header section Parameter regexp=~P was not found.\n"
     ]
    },
    {
     "name": "stdout",
     "output_type": "stream",
     "text": [
      "Feature shapes:  [('depth', (2940,)), ('top', (2940,)), ('base', (2940,)), ('logs', (2940, 11))]\n",
      "Loading Well:  204-19-6  from  /home/administrator/Dropbox/core_data/facies/train_data\n"
     ]
    },
    {
     "name": "stderr",
     "output_type": "stream",
     "text": [
      "Header section Parameter regexp=~P was not found.\n"
     ]
    },
    {
     "name": "stdout",
     "output_type": "stream",
     "text": [
      "Adding NaN log:  DTS\n",
      "Feature shapes:  [('depth', (1884,)), ('top', (1884,)), ('base', (1884,)), ('logs', (1884, 11))]\n",
      "Loading Well:  204-20-1Z  from  /home/administrator/Dropbox/core_data/facies/train_data\n"
     ]
    },
    {
     "name": "stderr",
     "output_type": "stream",
     "text": [
      "Header section Parameter regexp=~P was not found.\n"
     ]
    },
    {
     "name": "stdout",
     "output_type": "stream",
     "text": [
      "Adding NaN log:  SP\n",
      "Adding NaN log:  DTS1\n",
      "Adding NaN log:  DTS2\n",
      "Feature shapes:  [('depth', (1917,)), ('top', (1917,)), ('base', (1917,)), ('logs', (1917, 11))]\n",
      "Loading Well:  204-24a-7  from  /home/administrator/Dropbox/core_data/facies/train_data\n"
     ]
    },
    {
     "name": "stderr",
     "output_type": "stream",
     "text": [
      "Header section Parameter regexp=~P was not found.\n"
     ]
    },
    {
     "name": "stdout",
     "output_type": "stream",
     "text": [
      "Adding NaN log:  SP\n",
      "Adding NaN log:  DTS\n",
      "Feature shapes:  [('depth', (19294,)), ('top', (19294,)), ('base', (19294,)), ('logs', (19294, 11))]\n",
      "Loading Well:  204-20-3  from  /home/administrator/Dropbox/core_data/facies/train_data\n"
     ]
    },
    {
     "name": "stderr",
     "output_type": "stream",
     "text": [
      "Header section Parameter regexp=~P was not found.\n"
     ]
    },
    {
     "name": "stdout",
     "output_type": "stream",
     "text": [
      "Feature shapes:  [('depth', (10906,)), ('top', (10906,)), ('base', (10906,)), ('logs', (10906, 11))]\n",
      "Loading Well:  204-24a-6  from  /home/administrator/Dropbox/core_data/facies/train_data\n"
     ]
    },
    {
     "name": "stderr",
     "output_type": "stream",
     "text": [
      "Header section Parameter regexp=~P was not found.\n"
     ]
    },
    {
     "name": "stdout",
     "output_type": "stream",
     "text": [
      "Adding NaN log:  SP\n",
      "Adding NaN log:  DTS1\n",
      "Adding NaN log:  DTS2\n",
      "Feature shapes:  [('depth', (13006,)), ('top', (13006,)), ('base', (13006,)), ('logs', (13006, 11))]\n",
      "Training model for feature:  logs\n",
      "predict_proba:  [[0.22898555 0.10235228 0.52537173 0.06767886 0.07561158]\n",
      " [0.22898555 0.10235228 0.52537173 0.06767886 0.07561158]\n",
      " [0.22898555 0.10235228 0.52537173 0.06767886 0.07561158]\n",
      " ...\n",
      " [0.5098424  0.16188587 0.1540422  0.16259246 0.01163707]\n",
      " [0.5098424  0.16188587 0.1540422  0.16259246 0.01163707]\n",
      " [0.5098424  0.16188587 0.1540422  0.16259246 0.01163707]]\n",
      "Loading Well:  204-24a-7  from  /home/administrator/Dropbox/core_data/facies/train_data\n"
     ]
    },
    {
     "name": "stderr",
     "output_type": "stream",
     "text": [
      "Header section Parameter regexp=~P was not found.\n"
     ]
    },
    {
     "name": "stdout",
     "output_type": "stream",
     "text": [
      "Adding NaN log:  SP\n",
      "Adding NaN log:  DTS\n",
      "Feature shapes:  [('depth', (19294,)), ('top', (19294,)), ('base', (19294,)), ('logs', (19294, 11))]\n",
      "Loading Well:  204-24a-6  from  /home/administrator/Dropbox/core_data/facies/train_data\n"
     ]
    },
    {
     "name": "stderr",
     "output_type": "stream",
     "text": [
      "Header section Parameter regexp=~P was not found.\n"
     ]
    },
    {
     "name": "stdout",
     "output_type": "stream",
     "text": [
      "Adding NaN log:  SP\n",
      "Adding NaN log:  DTS1\n",
      "Adding NaN log:  DTS2\n",
      "Feature shapes:  [('depth', (13006,)), ('top', (13006,)), ('base', (13006,)), ('logs', (13006, 11))]\n",
      "Loading Well:  204-19-3A  from  /home/administrator/Dropbox/core_data/facies/train_data\n"
     ]
    },
    {
     "name": "stderr",
     "output_type": "stream",
     "text": [
      "Header section Parameter regexp=~P was not found.\n"
     ]
    },
    {
     "name": "stdout",
     "output_type": "stream",
     "text": [
      "Adding NaN log:  DTS\n",
      "Feature shapes:  [('depth', (9590,)), ('top', (9590,)), ('base', (9590,)), ('logs', (9590, 11))]\n",
      "Loading Well:  204-19-7  from  /home/administrator/Dropbox/core_data/facies/train_data\n"
     ]
    },
    {
     "name": "stderr",
     "output_type": "stream",
     "text": [
      "Header section Parameter regexp=~P was not found.\n"
     ]
    },
    {
     "name": "stdout",
     "output_type": "stream",
     "text": [
      "Adding NaN log:  DTS\n",
      "Feature shapes:  [('depth', (9807,)), ('top', (9807,)), ('base', (9807,)), ('logs', (9807, 11))]\n",
      "Loading Well:  205-21b-3  from  /home/administrator/Dropbox/core_data/facies/train_data\n"
     ]
    },
    {
     "name": "stderr",
     "output_type": "stream",
     "text": [
      "Header section Parameter regexp=~P was not found.\n"
     ]
    },
    {
     "name": "stdout",
     "output_type": "stream",
     "text": [
      "Adding NaN log:  SP\n",
      "Adding NaN log:  DTS\n",
      "Feature shapes:  [('depth', (3842,)), ('top', (3842,)), ('base', (3842,)), ('logs', (3842, 11))]\n",
      "Loading Well:  204-20-6a  from  /home/administrator/Dropbox/core_data/facies/train_data\n"
     ]
    },
    {
     "name": "stderr",
     "output_type": "stream",
     "text": [
      "Header section Parameter regexp=~P was not found.\n"
     ]
    },
    {
     "name": "stdout",
     "output_type": "stream",
     "text": [
      "Adding NaN log:  SP\n",
      "Adding NaN log:  DTS1\n",
      "Adding NaN log:  DTS2\n",
      "Feature shapes:  [('depth', (3542,)), ('top', (3542,)), ('base', (3542,)), ('logs', (3542, 11))]\n",
      "Loading Well:  204-20a-7  from  /home/administrator/Dropbox/core_data/facies/train_data\n"
     ]
    },
    {
     "name": "stderr",
     "output_type": "stream",
     "text": [
      "Header section Parameter regexp=~P was not found.\n"
     ]
    },
    {
     "name": "stdout",
     "output_type": "stream",
     "text": [
      "Adding NaN log:  DTS1\n",
      "Adding NaN log:  DTS2\n",
      "Feature shapes:  [('depth', (3105,)), ('top', (3105,)), ('base', (3105,)), ('logs', (3105, 11))]\n",
      "Loading Well:  204-20-2  from  /home/administrator/Dropbox/core_data/facies/train_data\n"
     ]
    },
    {
     "name": "stderr",
     "output_type": "stream",
     "text": [
      "Header section Parameter regexp=~P was not found.\n"
     ]
    },
    {
     "name": "stdout",
     "output_type": "stream",
     "text": [
      "Feature shapes:  [('depth', (2940,)), ('top', (2940,)), ('base', (2940,)), ('logs', (2940, 11))]\n",
      "Loading Well:  204-20-1Z  from  /home/administrator/Dropbox/core_data/facies/train_data\n"
     ]
    },
    {
     "name": "stderr",
     "output_type": "stream",
     "text": [
      "Header section Parameter regexp=~P was not found.\n"
     ]
    },
    {
     "name": "stdout",
     "output_type": "stream",
     "text": [
      "Adding NaN log:  SP\n",
      "Adding NaN log:  DTS1\n",
      "Adding NaN log:  DTS2\n",
      "Feature shapes:  [('depth', (1917,)), ('top', (1917,)), ('base', (1917,)), ('logs', (1917, 11))]\n",
      "Loading Well:  204-19-6  from  /home/administrator/Dropbox/core_data/facies/train_data\n"
     ]
    },
    {
     "name": "stderr",
     "output_type": "stream",
     "text": [
      "Header section Parameter regexp=~P was not found.\n"
     ]
    },
    {
     "name": "stdout",
     "output_type": "stream",
     "text": [
      "Adding NaN log:  DTS\n",
      "Feature shapes:  [('depth', (1884,)), ('top', (1884,)), ('base', (1884,)), ('logs', (1884, 11))]\n",
      "Loading Well:  204-20-1  from  /home/administrator/Dropbox/core_data/facies/train_data\n"
     ]
    },
    {
     "name": "stderr",
     "output_type": "stream",
     "text": [
      "Header section Parameter regexp=~P was not found.\n"
     ]
    },
    {
     "name": "stdout",
     "output_type": "stream",
     "text": [
      "Adding NaN log:  DTS1\n",
      "Adding NaN log:  DTS2\n",
      "Feature shapes:  [('depth', (11210,)), ('top', (11210,)), ('base', (11210,)), ('logs', (11210, 11))]\n",
      "Loading Well:  204-20-3  from  /home/administrator/Dropbox/core_data/facies/train_data\n"
     ]
    },
    {
     "name": "stderr",
     "output_type": "stream",
     "text": [
      "Header section Parameter regexp=~P was not found.\n"
     ]
    },
    {
     "name": "stdout",
     "output_type": "stream",
     "text": [
      "Feature shapes:  [('depth', (10906,)), ('top', (10906,)), ('base', (10906,)), ('logs', (10906, 11))]\n",
      "Training model for feature:  logs\n",
      "predict_proba:  [[0.14097464 0.15498751 0.15803206 0.09546522 0.45054054]\n",
      " [0.14097464 0.15498751 0.15803206 0.09546522 0.45054054]\n",
      " [0.14097464 0.15498751 0.15803206 0.09546522 0.45054054]\n",
      " ...\n",
      " [0.18017688 0.42663312 0.18249753 0.10308649 0.10760594]\n",
      " [0.17103174 0.4291952  0.19977467 0.09785418 0.10214423]\n",
      " [0.16640985 0.43158814 0.2008885  0.09839977 0.10271374]]\n",
      "Loading Well:  204-24a-7  from  /home/administrator/Dropbox/core_data/facies/train_data\n"
     ]
    },
    {
     "name": "stderr",
     "output_type": "stream",
     "text": [
      "Header section Parameter regexp=~P was not found.\n"
     ]
    },
    {
     "name": "stdout",
     "output_type": "stream",
     "text": [
      "Adding NaN log:  SP\n",
      "Adding NaN log:  DTS\n",
      "Feature shapes:  [('depth', (19294,)), ('top', (19294,)), ('base', (19294,)), ('logs', (19294, 11))]\n",
      "Loading Well:  204-24a-6  from  /home/administrator/Dropbox/core_data/facies/train_data\n"
     ]
    },
    {
     "name": "stderr",
     "output_type": "stream",
     "text": [
      "Header section Parameter regexp=~P was not found.\n"
     ]
    },
    {
     "name": "stdout",
     "output_type": "stream",
     "text": [
      "Adding NaN log:  SP\n",
      "Adding NaN log:  DTS1\n",
      "Adding NaN log:  DTS2\n",
      "Feature shapes:  [('depth', (13006,)), ('top', (13006,)), ('base', (13006,)), ('logs', (13006, 11))]\n",
      "Loading Well:  204-20-3  from  /home/administrator/Dropbox/core_data/facies/train_data\n"
     ]
    },
    {
     "name": "stderr",
     "output_type": "stream",
     "text": [
      "Header section Parameter regexp=~P was not found.\n"
     ]
    },
    {
     "name": "stdout",
     "output_type": "stream",
     "text": [
      "Feature shapes:  [('depth', (10906,)), ('top', (10906,)), ('base', (10906,)), ('logs', (10906, 11))]\n",
      "Loading Well:  204-20-1  from  /home/administrator/Dropbox/core_data/facies/train_data\n"
     ]
    },
    {
     "name": "stderr",
     "output_type": "stream",
     "text": [
      "Header section Parameter regexp=~P was not found.\n"
     ]
    },
    {
     "name": "stdout",
     "output_type": "stream",
     "text": [
      "Adding NaN log:  DTS1\n",
      "Adding NaN log:  DTS2\n"
     ]
    },
    {
     "name": "stderr",
     "output_type": "stream",
     "text": [
      "Header section Parameter regexp=~P was not found.\n"
     ]
    },
    {
     "name": "stdout",
     "output_type": "stream",
     "text": [
      "Feature shapes:  [('depth', (11210,)), ('top', (11210,)), ('base', (11210,)), ('logs', (11210, 11))]\n",
      "Loading Well:  204-20-6a  from  /home/administrator/Dropbox/core_data/facies/train_data\n",
      "Adding NaN log:  SP\n",
      "Adding NaN log:  DTS1\n",
      "Adding NaN log:  DTS2\n",
      "Feature shapes:  [('depth', (3542,)), ('top', (3542,)), ('base', (3542,)), ('logs', (3542, 11))]\n",
      "Loading Well:  204-20a-7  from  /home/administrator/Dropbox/core_data/facies/train_data\n"
     ]
    },
    {
     "name": "stderr",
     "output_type": "stream",
     "text": [
      "Header section Parameter regexp=~P was not found.\n"
     ]
    },
    {
     "name": "stdout",
     "output_type": "stream",
     "text": [
      "Adding NaN log:  DTS1\n",
      "Adding NaN log:  DTS2\n",
      "Feature shapes:  [('depth', (3105,)), ('top', (3105,)), ('base', (3105,)), ('logs', (3105, 11))]\n",
      "Loading Well:  204-20-2  from  /home/administrator/Dropbox/core_data/facies/train_data\n"
     ]
    },
    {
     "name": "stderr",
     "output_type": "stream",
     "text": [
      "Header section Parameter regexp=~P was not found.\n"
     ]
    },
    {
     "name": "stdout",
     "output_type": "stream",
     "text": [
      "Feature shapes:  [('depth', (2940,)), ('top', (2940,)), ('base', (2940,)), ('logs', (2940, 11))]\n",
      "Loading Well:  204-19-6  from  /home/administrator/Dropbox/core_data/facies/train_data\n"
     ]
    },
    {
     "name": "stderr",
     "output_type": "stream",
     "text": [
      "Header section Parameter regexp=~P was not found.\n"
     ]
    },
    {
     "name": "stdout",
     "output_type": "stream",
     "text": [
      "Adding NaN log:  DTS\n",
      "Feature shapes:  [('depth', (1884,)), ('top', (1884,)), ('base', (1884,)), ('logs', (1884, 11))]\n",
      "Loading Well:  204-20-1Z  from  /home/administrator/Dropbox/core_data/facies/train_data\n"
     ]
    },
    {
     "name": "stderr",
     "output_type": "stream",
     "text": [
      "Header section Parameter regexp=~P was not found.\n"
     ]
    },
    {
     "name": "stdout",
     "output_type": "stream",
     "text": [
      "Adding NaN log:  SP\n",
      "Adding NaN log:  DTS1\n",
      "Adding NaN log:  DTS2\n",
      "Feature shapes:  [('depth', (1917,)), ('top', (1917,)), ('base', (1917,)), ('logs', (1917, 11))]\n",
      "Loading Well:  205-21b-3  from  /home/administrator/Dropbox/core_data/facies/train_data\n"
     ]
    },
    {
     "name": "stderr",
     "output_type": "stream",
     "text": [
      "Header section Parameter regexp=~P was not found.\n"
     ]
    },
    {
     "name": "stdout",
     "output_type": "stream",
     "text": [
      "Adding NaN log:  SP\n",
      "Adding NaN log:  DTS\n",
      "Feature shapes:  [('depth', (3842,)), ('top', (3842,)), ('base', (3842,)), ('logs', (3842, 11))]\n",
      "Loading Well:  204-19-7  from  /home/administrator/Dropbox/core_data/facies/train_data\n"
     ]
    },
    {
     "name": "stderr",
     "output_type": "stream",
     "text": [
      "Header section Parameter regexp=~P was not found.\n"
     ]
    },
    {
     "name": "stdout",
     "output_type": "stream",
     "text": [
      "Adding NaN log:  DTS\n",
      "Feature shapes:  [('depth', (9807,)), ('top', (9807,)), ('base', (9807,)), ('logs', (9807, 11))]\n",
      "Loading Well:  204-19-3A  from  /home/administrator/Dropbox/core_data/facies/train_data\n"
     ]
    },
    {
     "name": "stderr",
     "output_type": "stream",
     "text": [
      "Header section Parameter regexp=~P was not found.\n"
     ]
    },
    {
     "name": "stdout",
     "output_type": "stream",
     "text": [
      "Adding NaN log:  DTS\n",
      "Feature shapes:  [('depth', (9590,)), ('top', (9590,)), ('base', (9590,)), ('logs', (9590, 11))]\n",
      "Training model for feature:  logs\n",
      "predict_proba:  [[0.4251121  0.05891918 0.29854244 0.07868216 0.1387441 ]\n",
      " [0.4251121  0.05891918 0.29854244 0.07868216 0.1387441 ]\n",
      " [0.413671   0.06009175 0.30448386 0.08024805 0.14150532]\n",
      " ...\n",
      " [0.35932723 0.12743595 0.13084775 0.129166   0.2532231 ]\n",
      " [0.37275025 0.12476467 0.12810493 0.1264651  0.24791504]\n",
      " [0.39381602 0.12057453 0.12380262 0.12221786 0.23958899]]\n"
     ]
    },
    {
     "data": {
      "text/plain": [
       "0.26083007266629404"
      ]
     },
     "execution_count": 12,
     "metadata": {},
     "output_type": "execute_result"
    }
   ],
   "source": [
    "preds_df_9 = pred_results_df(9, make_params_usable(best_params_9))\n",
    "\n",
    "(preds_df_9['y_true'] == preds_df_9['y_pred']).sum() / preds_df_9.shape[0]\n",
    "\n",
    "#preds_df_9.to_csv('logs_xgb_results_train_sets9.csv')"
   ]
  },
  {
   "cell_type": "code",
   "execution_count": 12,
   "metadata": {},
   "outputs": [
    {
     "data": {
      "text/plain": [
       "((152880, 25), (108025, 25), (71560, 25))"
      ]
     },
     "execution_count": 12,
     "metadata": {},
     "output_type": "execute_result"
    }
   ],
   "source": [
    "preds_df_3.shape, preds_df_6.shape, preds_df_9.shape"
   ]
  },
  {
   "cell_type": "code",
   "execution_count": 13,
   "metadata": {},
   "outputs": [],
   "source": [
    "preds_df_3.to_csv('logs_xgb_results_train_sets3.csv')\n",
    "preds_df_6.to_csv('logs_xgb_results_train_sets6.csv')\n",
    "preds_df_9.to_csv('logs_xgb_results_train_sets9.csv')"
   ]
  },
  {
   "cell_type": "code",
   "execution_count": null,
   "metadata": {},
   "outputs": [],
   "source": []
  }
 ],
 "metadata": {
  "kernelspec": {
   "display_name": "Python 3",
   "language": "python",
   "name": "python3"
  },
  "language_info": {
   "codemirror_mode": {
    "name": "ipython",
    "version": 3
   },
   "file_extension": ".py",
   "mimetype": "text/x-python",
   "name": "python",
   "nbconvert_exporter": "python",
   "pygments_lexer": "ipython3",
   "version": "3.6.7"
  }
 },
 "nbformat": 4,
 "nbformat_minor": 2
}
