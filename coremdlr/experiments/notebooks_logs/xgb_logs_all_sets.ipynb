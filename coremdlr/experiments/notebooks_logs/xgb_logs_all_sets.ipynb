{
 "cells": [
  {
   "cell_type": "code",
   "execution_count": 1,
   "metadata": {},
   "outputs": [
    {
     "name": "stderr",
     "output_type": "stream",
     "text": [
      "Using TensorFlow backend.\n"
     ]
    }
   ],
   "source": [
    "import numpy as np\n",
    "import pandas as pd\n",
    "from random import sample\n",
    "\n",
    "from coremdlr.config import defaults\n",
    "from coremdlr.datasets.utils import infer_test_wells\n",
    "\n",
    "from coremdlr.models import FeaturePredictor, LambdaModel\n",
    "from coremdlr.datasets import WellLoader, FaciesDataset"
   ]
  },
  {
   "cell_type": "code",
   "execution_count": 2,
   "metadata": {},
   "outputs": [],
   "source": [
    "import hyperopt\n",
    "from hyperopt import hp\n",
    "from hyperopt.pyll.base import scope\n",
    "from sklearn.metrics import f1_score, log_loss\n",
    "from sklearn.utils.class_weight import compute_sample_weight"
   ]
  },
  {
   "cell_type": "code",
   "execution_count": 3,
   "metadata": {},
   "outputs": [],
   "source": [
    "fmodel_args = {\n",
    "    'logs': {\n",
    "        'model': 'LambdaModel',\n",
    "        'model_args': {'feature': 'logs'}\n",
    "    }\n",
    "}\n",
    "\n",
    "XGB_SEARCH_SPACE = {\n",
    "    'model_type' : 'XGB',\n",
    "    'max_depth' : scope.int(hp.quniform('max_depth', 3, 10, 1)),\n",
    "    'learning_rate' : hp.uniform('learning_rate', 0.01, 0.2),\n",
    "    'n_estimators' : scope.int(hp.quniform('n_estimators', 10, 1000, 1)),\n",
    "    'objective' : 'multi:softprob',\n",
    "    'n_jobs' : 2,\n",
    "    'gamma' : hp.uniform('gamma', 0, 0.5),\n",
    "    'subsample' : hp.uniform('subsample', 0.3, 1),\n",
    "    'colsample_bytree' : hp.uniform('colsample_bytree', 0.3, 1.0),\n",
    "    'colsample_bylevel' : 1,\n",
    "    'reg_alpha' : 0,                                    # L1 penalty\n",
    "    'reg_lambda' : hp.uniform('reg_lambda', 0.1, 10),   # L2 penalty\n",
    "    'tree_method' : 'gpu_exact',\n",
    "}\n",
    "\n",
    "def make_params_usable(params):\n",
    "    \"\"\"\n",
    "    Convert params returned by hyperopt to usable `model_args`\n",
    "    \"\"\"\n",
    "    return {\n",
    "        **XGB_SEARCH_SPACE,\n",
    "        **params,\n",
    "        **{'max_depth' : int(params['max_depth']),\n",
    "           'n_estimators' : int(params['n_estimators'])}\n",
    "    }"
   ]
  },
  {
   "cell_type": "code",
   "execution_count": 4,
   "metadata": {},
   "outputs": [],
   "source": [
    "def run_experiment(num_train, max_evals=10, search_space=XGB_SEARCH_SPACE):\n",
    "    \n",
    "    assert num_train in [3, 6, 9], 'Must use one of predefined train/test splits'\n",
    "    \n",
    "    train_sets = getattr(defaults, f'TRAIN_SETS_{num_train}')\n",
    "    \n",
    "    datasets = [FaciesDataset(s, infer_test_wells(s), features=['logs']) for s in train_sets]\n",
    "    \n",
    "    for dset in datasets:\n",
    "        dset.load_or_generate_data()\n",
    "    \n",
    "    def train_model(model_config):\n",
    "        \n",
    "        log_losses = []\n",
    "        \n",
    "        for dset in datasets:\n",
    "            \n",
    "            model = FeaturePredictor(dset, model_args=model_config, feature_model_args=fmodel_args)\n",
    "            model.fit(dset, verbose=False)\n",
    "            print('F1 score:', f1_score(dset.y_test, model.predict(dset.X_test), average='macro'))\n",
    "            \n",
    "            log_losses.append(log_loss(dset.y_test, model.predict_proba(dset.X_test), \n",
    "                                      sample_weight=compute_sample_weight('balanced', dset.y_test)))\n",
    "            \n",
    "        return np.mean(log_losses)\n",
    "    \n",
    "    return hyperopt.fmin(\n",
    "        fn=train_model,\n",
    "        space=XGB_SEARCH_SPACE,\n",
    "        algo=hyperopt.rand.suggest,\n",
    "        max_evals=max_evals\n",
    "    )"
   ]
  },
  {
   "cell_type": "code",
   "execution_count": 16,
   "metadata": {},
   "outputs": [
    {
     "name": "stdout",
     "output_type": "stream",
     "text": [
      "Loading Well:  204-24a-7  from  /home/administrator/Dropbox/core_data/facies/train_data\n"
     ]
    },
    {
     "name": "stderr",
     "output_type": "stream",
     "text": [
      "Header section Parameter regexp=~P was not found.\n"
     ]
    },
    {
     "name": "stdout",
     "output_type": "stream",
     "text": [
      "Adding NaN log:  SP\n",
      "Adding NaN log:  DTS\n",
      "Feature shapes:  [('depth', (19294,)), ('top', (19294,)), ('base', (19294,)), ('logs', (19294, 11))]\n",
      "Loading Well:  204-24a-6  from  /home/administrator/Dropbox/core_data/facies/train_data\n"
     ]
    },
    {
     "name": "stderr",
     "output_type": "stream",
     "text": [
      "Header section Parameter regexp=~P was not found.\n"
     ]
    },
    {
     "name": "stdout",
     "output_type": "stream",
     "text": [
      "Adding NaN log:  SP\n",
      "Adding NaN log:  DTS1\n",
      "Adding NaN log:  DTS2\n",
      "Feature shapes:  [('depth', (13006,)), ('top', (13006,)), ('base', (13006,)), ('logs', (13006, 11))]\n",
      "Loading Well:  204-20-3  from  /home/administrator/Dropbox/core_data/facies/train_data\n"
     ]
    },
    {
     "name": "stderr",
     "output_type": "stream",
     "text": [
      "Header section Parameter regexp=~P was not found.\n"
     ]
    },
    {
     "name": "stdout",
     "output_type": "stream",
     "text": [
      "Feature shapes:  [('depth', (10906,)), ('top', (10906,)), ('base', (10906,)), ('logs', (10906, 11))]\n",
      "Loading Well:  204-20a-7  from  /home/administrator/Dropbox/core_data/facies/train_data\n"
     ]
    },
    {
     "name": "stderr",
     "output_type": "stream",
     "text": [
      "Header section Parameter regexp=~P was not found.\n"
     ]
    },
    {
     "name": "stdout",
     "output_type": "stream",
     "text": [
      "Adding NaN log:  DTS1\n",
      "Adding NaN log:  DTS2\n",
      "Feature shapes:  [('depth', (3105,)), ('top', (3105,)), ('base', (3105,)), ('logs', (3105, 11))]\n",
      "Loading Well:  204-20-1  from  /home/administrator/Dropbox/core_data/facies/train_data\n"
     ]
    },
    {
     "name": "stderr",
     "output_type": "stream",
     "text": [
      "Header section Parameter regexp=~P was not found.\n"
     ]
    },
    {
     "name": "stdout",
     "output_type": "stream",
     "text": [
      "Adding NaN log:  DTS1\n",
      "Adding NaN log:  DTS2\n",
      "Feature shapes:  [('depth', (11210,)), ('top', (11210,)), ('base', (11210,)), ('logs', (11210, 11))]\n",
      "Loading Well:  204-20-2  from  /home/administrator/Dropbox/core_data/facies/train_data\n"
     ]
    },
    {
     "name": "stderr",
     "output_type": "stream",
     "text": [
      "Header section Parameter regexp=~P was not found.\n"
     ]
    },
    {
     "name": "stdout",
     "output_type": "stream",
     "text": [
      "Feature shapes:  [('depth', (2940,)), ('top', (2940,)), ('base', (2940,)), ('logs', (2940, 11))]\n",
      "Loading Well:  204-19-6  from  /home/administrator/Dropbox/core_data/facies/train_data\n"
     ]
    },
    {
     "name": "stderr",
     "output_type": "stream",
     "text": [
      "Header section Parameter regexp=~P was not found.\n"
     ]
    },
    {
     "name": "stdout",
     "output_type": "stream",
     "text": [
      "Adding NaN log:  DTS\n",
      "Feature shapes:  [('depth', (1884,)), ('top', (1884,)), ('base', (1884,)), ('logs', (1884, 11))]\n",
      "Loading Well:  205-21b-3  from  /home/administrator/Dropbox/core_data/facies/train_data\n"
     ]
    },
    {
     "name": "stderr",
     "output_type": "stream",
     "text": [
      "Header section Parameter regexp=~P was not found.\n"
     ]
    },
    {
     "name": "stdout",
     "output_type": "stream",
     "text": [
      "Adding NaN log:  SP\n",
      "Adding NaN log:  DTS\n",
      "Feature shapes:  [('depth', (3842,)), ('top', (3842,)), ('base', (3842,)), ('logs', (3842, 11))]\n",
      "Loading Well:  204-20-1Z  from  /home/administrator/Dropbox/core_data/facies/train_data\n"
     ]
    },
    {
     "name": "stderr",
     "output_type": "stream",
     "text": [
      "Header section Parameter regexp=~P was not found.\n"
     ]
    },
    {
     "name": "stdout",
     "output_type": "stream",
     "text": [
      "Adding NaN log:  SP\n",
      "Adding NaN log:  DTS1\n",
      "Adding NaN log:  DTS2\n",
      "Feature shapes:  [('depth', (1917,)), ('top', (1917,)), ('base', (1917,)), ('logs', (1917, 11))]\n",
      "Loading Well:  204-19-7  from  /home/administrator/Dropbox/core_data/facies/train_data\n"
     ]
    },
    {
     "name": "stderr",
     "output_type": "stream",
     "text": [
      "Header section Parameter regexp=~P was not found.\n"
     ]
    },
    {
     "name": "stdout",
     "output_type": "stream",
     "text": [
      "Adding NaN log:  DTS\n",
      "Feature shapes:  [('depth', (9807,)), ('top', (9807,)), ('base', (9807,)), ('logs', (9807, 11))]\n",
      "Loading Well:  204-20-6a  from  /home/administrator/Dropbox/core_data/facies/train_data\n"
     ]
    },
    {
     "name": "stderr",
     "output_type": "stream",
     "text": [
      "Header section Parameter regexp=~P was not found.\n"
     ]
    },
    {
     "name": "stdout",
     "output_type": "stream",
     "text": [
      "Adding NaN log:  SP\n",
      "Adding NaN log:  DTS1\n",
      "Adding NaN log:  DTS2\n",
      "Feature shapes:  [('depth', (3542,)), ('top', (3542,)), ('base', (3542,)), ('logs', (3542, 11))]\n",
      "Loading Well:  204-19-3A  from  /home/administrator/Dropbox/core_data/facies/train_data\n"
     ]
    },
    {
     "name": "stderr",
     "output_type": "stream",
     "text": [
      "Header section Parameter regexp=~P was not found.\n"
     ]
    },
    {
     "name": "stdout",
     "output_type": "stream",
     "text": [
      "Adding NaN log:  DTS\n",
      "Feature shapes:  [('depth', (9590,)), ('top', (9590,)), ('base', (9590,)), ('logs', (9590, 11))]\n",
      "Loading Well:  204-19-3A  from  /home/administrator/Dropbox/core_data/facies/train_data\n"
     ]
    },
    {
     "name": "stderr",
     "output_type": "stream",
     "text": [
      "Header section Parameter regexp=~P was not found.\n"
     ]
    },
    {
     "name": "stdout",
     "output_type": "stream",
     "text": [
      "Adding NaN log:  DTS\n",
      "Feature shapes:  [('depth', (9590,)), ('top', (9590,)), ('base', (9590,)), ('logs', (9590, 11))]\n",
      "Loading Well:  204-19-7  from  /home/administrator/Dropbox/core_data/facies/train_data\n"
     ]
    },
    {
     "name": "stderr",
     "output_type": "stream",
     "text": [
      "Header section Parameter regexp=~P was not found.\n"
     ]
    },
    {
     "name": "stdout",
     "output_type": "stream",
     "text": [
      "Adding NaN log:  DTS\n",
      "Feature shapes:  [('depth', (9807,)), ('top', (9807,)), ('base', (9807,)), ('logs', (9807, 11))]\n",
      "Loading Well:  205-21b-3  from  /home/administrator/Dropbox/core_data/facies/train_data\n"
     ]
    },
    {
     "name": "stderr",
     "output_type": "stream",
     "text": [
      "Header section Parameter regexp=~P was not found.\n"
     ]
    },
    {
     "name": "stdout",
     "output_type": "stream",
     "text": [
      "Adding NaN log:  SP\n",
      "Adding NaN log:  DTS\n",
      "Feature shapes:  [('depth', (3842,)), ('top', (3842,)), ('base', (3842,)), ('logs', (3842, 11))]\n",
      "Loading Well:  204-20a-7  from  /home/administrator/Dropbox/core_data/facies/train_data\n"
     ]
    },
    {
     "name": "stderr",
     "output_type": "stream",
     "text": [
      "Header section Parameter regexp=~P was not found.\n"
     ]
    },
    {
     "name": "stdout",
     "output_type": "stream",
     "text": [
      "Adding NaN log:  DTS1\n",
      "Adding NaN log:  DTS2\n",
      "Feature shapes:  [('depth', (3105,)), ('top', (3105,)), ('base', (3105,)), ('logs', (3105, 11))]\n",
      "Loading Well:  204-20-1  from  /home/administrator/Dropbox/core_data/facies/train_data\n"
     ]
    },
    {
     "name": "stderr",
     "output_type": "stream",
     "text": [
      "Header section Parameter regexp=~P was not found.\n"
     ]
    },
    {
     "name": "stdout",
     "output_type": "stream",
     "text": [
      "Adding NaN log:  DTS1\n",
      "Adding NaN log:  DTS2\n",
      "Feature shapes:  [('depth', (11210,)), ('top', (11210,)), ('base', (11210,)), ('logs', (11210, 11))]\n",
      "Loading Well:  204-20-2  from  /home/administrator/Dropbox/core_data/facies/train_data\n"
     ]
    },
    {
     "name": "stderr",
     "output_type": "stream",
     "text": [
      "Header section Parameter regexp=~P was not found.\n"
     ]
    },
    {
     "name": "stdout",
     "output_type": "stream",
     "text": [
      "Feature shapes:  [('depth', (2940,)), ('top', (2940,)), ('base', (2940,)), ('logs', (2940, 11))]\n",
      "Loading Well:  204-19-6  from  /home/administrator/Dropbox/core_data/facies/train_data\n"
     ]
    },
    {
     "name": "stderr",
     "output_type": "stream",
     "text": [
      "Header section Parameter regexp=~P was not found.\n"
     ]
    },
    {
     "name": "stdout",
     "output_type": "stream",
     "text": [
      "Adding NaN log:  DTS\n",
      "Feature shapes:  [('depth', (1884,)), ('top', (1884,)), ('base', (1884,)), ('logs', (1884, 11))]\n",
      "Loading Well:  204-24a-7  from  /home/administrator/Dropbox/core_data/facies/train_data\n"
     ]
    },
    {
     "name": "stderr",
     "output_type": "stream",
     "text": [
      "Header section Parameter regexp=~P was not found.\n"
     ]
    },
    {
     "name": "stdout",
     "output_type": "stream",
     "text": [
      "Adding NaN log:  SP\n",
      "Adding NaN log:  DTS\n",
      "Feature shapes:  [('depth', (19294,)), ('top', (19294,)), ('base', (19294,)), ('logs', (19294, 11))]\n",
      "Loading Well:  204-20-1Z  from  /home/administrator/Dropbox/core_data/facies/train_data\n"
     ]
    },
    {
     "name": "stderr",
     "output_type": "stream",
     "text": [
      "Header section Parameter regexp=~P was not found.\n"
     ]
    },
    {
     "name": "stdout",
     "output_type": "stream",
     "text": [
      "Adding NaN log:  SP\n",
      "Adding NaN log:  DTS1\n",
      "Adding NaN log:  DTS2\n",
      "Feature shapes:  [('depth', (1917,)), ('top', (1917,)), ('base', (1917,)), ('logs', (1917, 11))]\n",
      "Loading Well:  204-20-6a  from  /home/administrator/Dropbox/core_data/facies/train_data\n"
     ]
    },
    {
     "name": "stderr",
     "output_type": "stream",
     "text": [
      "Header section Parameter regexp=~P was not found.\n"
     ]
    },
    {
     "name": "stdout",
     "output_type": "stream",
     "text": [
      "Adding NaN log:  SP\n",
      "Adding NaN log:  DTS1\n",
      "Adding NaN log:  DTS2\n",
      "Feature shapes:  [('depth', (3542,)), ('top', (3542,)), ('base', (3542,)), ('logs', (3542, 11))]\n",
      "Loading Well:  204-24a-6  from  /home/administrator/Dropbox/core_data/facies/train_data\n"
     ]
    },
    {
     "name": "stderr",
     "output_type": "stream",
     "text": [
      "Header section Parameter regexp=~P was not found.\n"
     ]
    },
    {
     "name": "stdout",
     "output_type": "stream",
     "text": [
      "Adding NaN log:  SP\n",
      "Adding NaN log:  DTS1\n",
      "Adding NaN log:  DTS2\n",
      "Feature shapes:  [('depth', (13006,)), ('top', (13006,)), ('base', (13006,)), ('logs', (13006, 11))]\n",
      "Loading Well:  204-20-3  from  /home/administrator/Dropbox/core_data/facies/train_data\n"
     ]
    },
    {
     "name": "stderr",
     "output_type": "stream",
     "text": [
      "Header section Parameter regexp=~P was not found.\n"
     ]
    },
    {
     "name": "stdout",
     "output_type": "stream",
     "text": [
      "Feature shapes:  [('depth', (10906,)), ('top', (10906,)), ('base', (10906,)), ('logs', (10906, 11))]\n",
      "Loading Well:  204-20-1  from  /home/administrator/Dropbox/core_data/facies/train_data\n"
     ]
    },
    {
     "name": "stderr",
     "output_type": "stream",
     "text": [
      "Header section Parameter regexp=~P was not found.\n"
     ]
    },
    {
     "name": "stdout",
     "output_type": "stream",
     "text": [
      "Adding NaN log:  DTS1\n",
      "Adding NaN log:  DTS2\n",
      "Feature shapes:  [('depth', (11210,)), ('top', (11210,)), ('base', (11210,)), ('logs', (11210, 11))]\n",
      "Loading Well:  204-20-2  from  /home/administrator/Dropbox/core_data/facies/train_data\n"
     ]
    },
    {
     "name": "stderr",
     "output_type": "stream",
     "text": [
      "Header section Parameter regexp=~P was not found.\n"
     ]
    },
    {
     "name": "stdout",
     "output_type": "stream",
     "text": [
      "Feature shapes:  [('depth', (2940,)), ('top', (2940,)), ('base', (2940,)), ('logs', (2940, 11))]\n",
      "Loading Well:  204-19-6  from  /home/administrator/Dropbox/core_data/facies/train_data\n"
     ]
    },
    {
     "name": "stderr",
     "output_type": "stream",
     "text": [
      "Header section Parameter regexp=~P was not found.\n"
     ]
    },
    {
     "name": "stdout",
     "output_type": "stream",
     "text": [
      "Adding NaN log:  DTS\n",
      "Feature shapes:  [('depth', (1884,)), ('top', (1884,)), ('base', (1884,)), ('logs', (1884, 11))]\n",
      "Loading Well:  204-20a-7  from  /home/administrator/Dropbox/core_data/facies/train_data\n"
     ]
    },
    {
     "name": "stderr",
     "output_type": "stream",
     "text": [
      "Header section Parameter regexp=~P was not found.\n"
     ]
    },
    {
     "name": "stdout",
     "output_type": "stream",
     "text": [
      "Adding NaN log:  DTS1\n",
      "Adding NaN log:  DTS2\n",
      "Feature shapes:  [('depth', (3105,)), ('top', (3105,)), ('base', (3105,)), ('logs', (3105, 11))]\n",
      "Loading Well:  205-21b-3  from  /home/administrator/Dropbox/core_data/facies/train_data\n"
     ]
    },
    {
     "name": "stderr",
     "output_type": "stream",
     "text": [
      "Header section Parameter regexp=~P was not found.\n"
     ]
    },
    {
     "name": "stdout",
     "output_type": "stream",
     "text": [
      "Adding NaN log:  SP\n",
      "Adding NaN log:  DTS\n",
      "Feature shapes:  [('depth', (3842,)), ('top', (3842,)), ('base', (3842,)), ('logs', (3842, 11))]\n",
      "Loading Well:  204-24a-7  from  /home/administrator/Dropbox/core_data/facies/train_data\n"
     ]
    },
    {
     "name": "stderr",
     "output_type": "stream",
     "text": [
      "Header section Parameter regexp=~P was not found.\n"
     ]
    },
    {
     "name": "stdout",
     "output_type": "stream",
     "text": [
      "Adding NaN log:  SP\n",
      "Adding NaN log:  DTS\n",
      "Feature shapes:  [('depth', (19294,)), ('top', (19294,)), ('base', (19294,)), ('logs', (19294, 11))]\n",
      "Loading Well:  204-20-1Z  from  /home/administrator/Dropbox/core_data/facies/train_data\n"
     ]
    },
    {
     "name": "stderr",
     "output_type": "stream",
     "text": [
      "Header section Parameter regexp=~P was not found.\n"
     ]
    },
    {
     "name": "stdout",
     "output_type": "stream",
     "text": [
      "Adding NaN log:  SP\n",
      "Adding NaN log:  DTS1\n",
      "Adding NaN log:  DTS2\n",
      "Feature shapes:  [('depth', (1917,)), ('top', (1917,)), ('base', (1917,)), ('logs', (1917, 11))]\n",
      "Loading Well:  204-19-7  from  /home/administrator/Dropbox/core_data/facies/train_data\n"
     ]
    },
    {
     "name": "stderr",
     "output_type": "stream",
     "text": [
      "Header section Parameter regexp=~P was not found.\n"
     ]
    },
    {
     "name": "stdout",
     "output_type": "stream",
     "text": [
      "Adding NaN log:  DTS\n",
      "Feature shapes:  [('depth', (9807,)), ('top', (9807,)), ('base', (9807,)), ('logs', (9807, 11))]\n",
      "Loading Well:  204-20-6a  from  /home/administrator/Dropbox/core_data/facies/train_data\n"
     ]
    },
    {
     "name": "stderr",
     "output_type": "stream",
     "text": [
      "Header section Parameter regexp=~P was not found.\n"
     ]
    },
    {
     "name": "stdout",
     "output_type": "stream",
     "text": [
      "Adding NaN log:  SP\n",
      "Adding NaN log:  DTS1\n",
      "Adding NaN log:  DTS2\n",
      "Feature shapes:  [('depth', (3542,)), ('top', (3542,)), ('base', (3542,)), ('logs', (3542, 11))]\n",
      "Loading Well:  204-24a-6  from  /home/administrator/Dropbox/core_data/facies/train_data\n"
     ]
    },
    {
     "name": "stderr",
     "output_type": "stream",
     "text": [
      "Header section Parameter regexp=~P was not found.\n"
     ]
    },
    {
     "name": "stdout",
     "output_type": "stream",
     "text": [
      "Adding NaN log:  SP\n",
      "Adding NaN log:  DTS1\n",
      "Adding NaN log:  DTS2\n",
      "Feature shapes:  [('depth', (13006,)), ('top', (13006,)), ('base', (13006,)), ('logs', (13006, 11))]\n",
      "Loading Well:  204-19-3A  from  /home/administrator/Dropbox/core_data/facies/train_data\n"
     ]
    },
    {
     "name": "stderr",
     "output_type": "stream",
     "text": [
      "Header section Parameter regexp=~P was not found.\n"
     ]
    },
    {
     "name": "stdout",
     "output_type": "stream",
     "text": [
      "Adding NaN log:  DTS\n",
      "Feature shapes:  [('depth', (9590,)), ('top', (9590,)), ('base', (9590,)), ('logs', (9590, 11))]\n",
      "Loading Well:  204-20-3  from  /home/administrator/Dropbox/core_data/facies/train_data\n"
     ]
    },
    {
     "name": "stderr",
     "output_type": "stream",
     "text": [
      "Header section Parameter regexp=~P was not found.\n"
     ]
    },
    {
     "name": "stdout",
     "output_type": "stream",
     "text": [
      "Feature shapes:  [('depth', (10906,)), ('top', (10906,)), ('base', (10906,)), ('logs', (10906, 11))]\n",
      "Training model for feature:  logs\n",
      "F1 score: 0.19649103088489403\n",
      "Training model for feature:  logs\n",
      "F1 score: 0.20348311560692317\n",
      "Training model for feature:  logs\n",
      "F1 score: 0.2108244552906698\n",
      "Training model for feature:  logs\n",
      "F1 score: 0.2040251125858164\n",
      "Training model for feature:  logs\n",
      "F1 score: 0.18884030009795574\n",
      "Training model for feature:  logs\n",
      "F1 score: 0.21008999001982684\n",
      "Training model for feature:  logs\n",
      "F1 score: 0.2238222904992037\n",
      "Training model for feature:  logs\n",
      "F1 score: 0.21243464919736987\n",
      "Training model for feature:  logs\n",
      "F1 score: 0.19720413133621623\n",
      "Training model for feature:  logs\n",
      "F1 score: 0.23489329076606494\n",
      "Training model for feature:  logs\n",
      "F1 score: 0.19247378381396635\n",
      "Training model for feature:  logs\n",
      "F1 score: 0.19653005706718601\n",
      "Training model for feature:  logs\n",
      "F1 score: 0.24206682254880843\n",
      "Training model for feature:  logs\n",
      "F1 score: 0.1972110027033646\n",
      "Training model for feature:  logs\n",
      "F1 score: 0.21185127473229515\n",
      "Training model for feature:  logs\n",
      "F1 score: 0.21545067538921353\n",
      "Training model for feature:  logs\n",
      "F1 score: 0.19374415460101582\n",
      "Training model for feature:  logs\n",
      "F1 score: 0.19195636749221173\n",
      "Training model for feature:  logs\n",
      "F1 score: 0.23414878585835566\n",
      "Training model for feature:  logs\n",
      "F1 score: 0.20621929297858815\n",
      "Training model for feature:  logs\n",
      "F1 score: 0.20629233970055613\n",
      "Training model for feature:  logs\n",
      "F1 score: 0.23171473305337562\n",
      "Training model for feature:  logs\n",
      "F1 score: 0.21050587927582404\n",
      "Training model for feature:  logs\n",
      "F1 score: 0.20579731357917996\n",
      "Training model for feature:  logs\n",
      "F1 score: 0.23696143832758726\n",
      "Training model for feature:  logs\n",
      "F1 score: 0.19285209701375622\n",
      "Training model for feature:  logs\n",
      "F1 score: 0.19435409100105835\n",
      "Training model for feature:  logs\n",
      "F1 score: 0.2275171127998404\n",
      "Training model for feature:  logs\n",
      "F1 score: 0.20252105986682611\n",
      "Training model for feature:  logs\n",
      "F1 score: 0.20184731871303999\n",
      "\n",
      "\n",
      "\t Starting TRAIN_SET_6\n",
      "Loading Well:  204-24a-7  from  /home/administrator/Dropbox/core_data/facies/train_data\n"
     ]
    },
    {
     "name": "stderr",
     "output_type": "stream",
     "text": [
      "Header section Parameter regexp=~P was not found.\n"
     ]
    },
    {
     "name": "stdout",
     "output_type": "stream",
     "text": [
      "Adding NaN log:  SP\n",
      "Adding NaN log:  DTS\n",
      "Feature shapes:  [('depth', (19294,)), ('top', (19294,)), ('base', (19294,)), ('logs', (19294, 11))]\n",
      "Loading Well:  204-24a-6  from  /home/administrator/Dropbox/core_data/facies/train_data\n"
     ]
    },
    {
     "name": "stderr",
     "output_type": "stream",
     "text": [
      "Header section Parameter regexp=~P was not found.\n"
     ]
    },
    {
     "name": "stdout",
     "output_type": "stream",
     "text": [
      "Adding NaN log:  SP\n",
      "Adding NaN log:  DTS1\n",
      "Adding NaN log:  DTS2\n",
      "Feature shapes:  [('depth', (13006,)), ('top', (13006,)), ('base', (13006,)), ('logs', (13006, 11))]\n",
      "Loading Well:  204-20-3  from  /home/administrator/Dropbox/core_data/facies/train_data\n"
     ]
    },
    {
     "name": "stderr",
     "output_type": "stream",
     "text": [
      "Header section Parameter regexp=~P was not found.\n"
     ]
    },
    {
     "name": "stdout",
     "output_type": "stream",
     "text": [
      "Feature shapes:  [('depth', (10906,)), ('top', (10906,)), ('base', (10906,)), ('logs', (10906, 11))]\n",
      "Loading Well:  204-20-6a  from  /home/administrator/Dropbox/core_data/facies/train_data\n"
     ]
    },
    {
     "name": "stderr",
     "output_type": "stream",
     "text": [
      "Header section Parameter regexp=~P was not found.\n"
     ]
    },
    {
     "name": "stdout",
     "output_type": "stream",
     "text": [
      "Adding NaN log:  SP\n",
      "Adding NaN log:  DTS1\n",
      "Adding NaN log:  DTS2\n",
      "Feature shapes:  [('depth', (3542,)), ('top', (3542,)), ('base', (3542,)), ('logs', (3542, 11))]\n",
      "Loading Well:  204-20a-7  from  /home/administrator/Dropbox/core_data/facies/train_data\n"
     ]
    },
    {
     "name": "stderr",
     "output_type": "stream",
     "text": [
      "Header section Parameter regexp=~P was not found.\n"
     ]
    },
    {
     "name": "stdout",
     "output_type": "stream",
     "text": [
      "Adding NaN log:  DTS1\n",
      "Adding NaN log:  DTS2\n",
      "Feature shapes:  [('depth', (3105,)), ('top', (3105,)), ('base', (3105,)), ('logs', (3105, 11))]\n",
      "Loading Well:  204-19-6  from  /home/administrator/Dropbox/core_data/facies/train_data\n"
     ]
    },
    {
     "name": "stderr",
     "output_type": "stream",
     "text": [
      "Header section Parameter regexp=~P was not found.\n"
     ]
    },
    {
     "name": "stdout",
     "output_type": "stream",
     "text": [
      "Adding NaN log:  DTS\n",
      "Feature shapes:  [('depth', (1884,)), ('top', (1884,)), ('base', (1884,)), ('logs', (1884, 11))]\n",
      "Loading Well:  204-20-1  from  /home/administrator/Dropbox/core_data/facies/train_data\n"
     ]
    },
    {
     "name": "stderr",
     "output_type": "stream",
     "text": [
      "Header section Parameter regexp=~P was not found.\n"
     ]
    },
    {
     "name": "stdout",
     "output_type": "stream",
     "text": [
      "Adding NaN log:  DTS1\n",
      "Adding NaN log:  DTS2\n",
      "Feature shapes:  [('depth', (11210,)), ('top', (11210,)), ('base', (11210,)), ('logs', (11210, 11))]\n",
      "Loading Well:  204-20-2  from  /home/administrator/Dropbox/core_data/facies/train_data\n"
     ]
    },
    {
     "name": "stderr",
     "output_type": "stream",
     "text": [
      "Header section Parameter regexp=~P was not found.\n"
     ]
    },
    {
     "name": "stdout",
     "output_type": "stream",
     "text": [
      "Feature shapes:  [('depth', (2940,)), ('top', (2940,)), ('base', (2940,)), ('logs', (2940, 11))]\n",
      "Loading Well:  205-21b-3  from  /home/administrator/Dropbox/core_data/facies/train_data\n"
     ]
    },
    {
     "name": "stderr",
     "output_type": "stream",
     "text": [
      "Header section Parameter regexp=~P was not found.\n"
     ]
    },
    {
     "name": "stdout",
     "output_type": "stream",
     "text": [
      "Adding NaN log:  SP\n",
      "Adding NaN log:  DTS\n",
      "Feature shapes:  [('depth', (3842,)), ('top', (3842,)), ('base', (3842,)), ('logs', (3842, 11))]\n",
      "Loading Well:  204-20-1Z  from  /home/administrator/Dropbox/core_data/facies/train_data\n"
     ]
    },
    {
     "name": "stderr",
     "output_type": "stream",
     "text": [
      "Header section Parameter regexp=~P was not found.\n"
     ]
    },
    {
     "name": "stdout",
     "output_type": "stream",
     "text": [
      "Adding NaN log:  SP\n",
      "Adding NaN log:  DTS1\n",
      "Adding NaN log:  DTS2\n",
      "Feature shapes:  [('depth', (1917,)), ('top', (1917,)), ('base', (1917,)), ('logs', (1917, 11))]\n",
      "Loading Well:  204-19-7  from  /home/administrator/Dropbox/core_data/facies/train_data\n"
     ]
    },
    {
     "name": "stderr",
     "output_type": "stream",
     "text": [
      "Header section Parameter regexp=~P was not found.\n"
     ]
    },
    {
     "name": "stdout",
     "output_type": "stream",
     "text": [
      "Adding NaN log:  DTS\n",
      "Feature shapes:  [('depth', (9807,)), ('top', (9807,)), ('base', (9807,)), ('logs', (9807, 11))]\n",
      "Loading Well:  204-19-3A  from  /home/administrator/Dropbox/core_data/facies/train_data\n"
     ]
    },
    {
     "name": "stderr",
     "output_type": "stream",
     "text": [
      "Header section Parameter regexp=~P was not found.\n"
     ]
    },
    {
     "name": "stdout",
     "output_type": "stream",
     "text": [
      "Adding NaN log:  DTS\n",
      "Feature shapes:  [('depth', (9590,)), ('top', (9590,)), ('base', (9590,)), ('logs', (9590, 11))]\n",
      "Loading Well:  204-19-3A  from  /home/administrator/Dropbox/core_data/facies/train_data\n"
     ]
    },
    {
     "name": "stderr",
     "output_type": "stream",
     "text": [
      "Header section Parameter regexp=~P was not found.\n"
     ]
    },
    {
     "name": "stdout",
     "output_type": "stream",
     "text": [
      "Adding NaN log:  DTS\n",
      "Feature shapes:  [('depth', (9590,)), ('top', (9590,)), ('base', (9590,)), ('logs', (9590, 11))]\n",
      "Loading Well:  204-20-1  from  /home/administrator/Dropbox/core_data/facies/train_data\n"
     ]
    },
    {
     "name": "stderr",
     "output_type": "stream",
     "text": [
      "Header section Parameter regexp=~P was not found.\n"
     ]
    },
    {
     "name": "stdout",
     "output_type": "stream",
     "text": [
      "Adding NaN log:  DTS1\n",
      "Adding NaN log:  DTS2\n",
      "Feature shapes:  [('depth', (11210,)), ('top', (11210,)), ('base', (11210,)), ('logs', (11210, 11))]\n",
      "Loading Well:  204-19-7  from  /home/administrator/Dropbox/core_data/facies/train_data\n"
     ]
    },
    {
     "name": "stderr",
     "output_type": "stream",
     "text": [
      "Header section Parameter regexp=~P was not found.\n"
     ]
    },
    {
     "name": "stdout",
     "output_type": "stream",
     "text": [
      "Adding NaN log:  DTS\n",
      "Feature shapes:  [('depth', (9807,)), ('top', (9807,)), ('base', (9807,)), ('logs', (9807, 11))]\n",
      "Loading Well:  205-21b-3  from  /home/administrator/Dropbox/core_data/facies/train_data\n"
     ]
    },
    {
     "name": "stderr",
     "output_type": "stream",
     "text": [
      "Header section Parameter regexp=~P was not found.\n"
     ]
    },
    {
     "name": "stdout",
     "output_type": "stream",
     "text": [
      "Adding NaN log:  SP\n",
      "Adding NaN log:  DTS\n",
      "Feature shapes:  [('depth', (3842,)), ('top', (3842,)), ('base', (3842,)), ('logs', (3842, 11))]\n",
      "Loading Well:  204-20-2  from  /home/administrator/Dropbox/core_data/facies/train_data\n"
     ]
    },
    {
     "name": "stderr",
     "output_type": "stream",
     "text": [
      "Header section Parameter regexp=~P was not found.\n"
     ]
    },
    {
     "name": "stdout",
     "output_type": "stream",
     "text": [
      "Feature shapes:  [('depth', (2940,)), ('top', (2940,)), ('base', (2940,)), ('logs', (2940, 11))]\n",
      "Loading Well:  204-20-1Z  from  /home/administrator/Dropbox/core_data/facies/train_data\n"
     ]
    },
    {
     "name": "stderr",
     "output_type": "stream",
     "text": [
      "Header section Parameter regexp=~P was not found.\n"
     ]
    },
    {
     "name": "stdout",
     "output_type": "stream",
     "text": [
      "Adding NaN log:  SP\n",
      "Adding NaN log:  DTS1\n",
      "Adding NaN log:  DTS2\n",
      "Feature shapes:  [('depth', (1917,)), ('top', (1917,)), ('base', (1917,)), ('logs', (1917, 11))]\n",
      "Loading Well:  204-20a-7  from  /home/administrator/Dropbox/core_data/facies/train_data\n"
     ]
    },
    {
     "name": "stderr",
     "output_type": "stream",
     "text": [
      "Header section Parameter regexp=~P was not found.\n"
     ]
    },
    {
     "name": "stdout",
     "output_type": "stream",
     "text": [
      "Adding NaN log:  DTS1\n",
      "Adding NaN log:  DTS2\n",
      "Feature shapes:  [('depth', (3105,)), ('top', (3105,)), ('base', (3105,)), ('logs', (3105, 11))]\n",
      "Loading Well:  204-19-6  from  /home/administrator/Dropbox/core_data/facies/train_data\n"
     ]
    },
    {
     "name": "stderr",
     "output_type": "stream",
     "text": [
      "Header section Parameter regexp=~P was not found.\n"
     ]
    },
    {
     "name": "stdout",
     "output_type": "stream",
     "text": [
      "Adding NaN log:  DTS\n",
      "Feature shapes:  [('depth', (1884,)), ('top', (1884,)), ('base', (1884,)), ('logs', (1884, 11))]\n",
      "Loading Well:  204-24a-7  from  /home/administrator/Dropbox/core_data/facies/train_data\n"
     ]
    },
    {
     "name": "stderr",
     "output_type": "stream",
     "text": [
      "Header section Parameter regexp=~P was not found.\n"
     ]
    },
    {
     "name": "stdout",
     "output_type": "stream",
     "text": [
      "Adding NaN log:  SP\n",
      "Adding NaN log:  DTS\n",
      "Feature shapes:  [('depth', (19294,)), ('top', (19294,)), ('base', (19294,)), ('logs', (19294, 11))]\n",
      "Loading Well:  204-20-6a  from  /home/administrator/Dropbox/core_data/facies/train_data\n"
     ]
    },
    {
     "name": "stderr",
     "output_type": "stream",
     "text": [
      "Header section Parameter regexp=~P was not found.\n"
     ]
    },
    {
     "name": "stdout",
     "output_type": "stream",
     "text": [
      "Adding NaN log:  SP\n",
      "Adding NaN log:  DTS1\n",
      "Adding NaN log:  DTS2\n",
      "Feature shapes:  [('depth', (3542,)), ('top', (3542,)), ('base', (3542,)), ('logs', (3542, 11))]\n",
      "Loading Well:  204-24a-6  from  /home/administrator/Dropbox/core_data/facies/train_data\n"
     ]
    },
    {
     "name": "stderr",
     "output_type": "stream",
     "text": [
      "Header section Parameter regexp=~P was not found.\n"
     ]
    },
    {
     "name": "stdout",
     "output_type": "stream",
     "text": [
      "Adding NaN log:  SP\n",
      "Adding NaN log:  DTS1\n",
      "Adding NaN log:  DTS2\n",
      "Feature shapes:  [('depth', (13006,)), ('top', (13006,)), ('base', (13006,)), ('logs', (13006, 11))]\n",
      "Loading Well:  204-20-3  from  /home/administrator/Dropbox/core_data/facies/train_data\n"
     ]
    },
    {
     "name": "stderr",
     "output_type": "stream",
     "text": [
      "Header section Parameter regexp=~P was not found.\n"
     ]
    },
    {
     "name": "stdout",
     "output_type": "stream",
     "text": [
      "Feature shapes:  [('depth', (10906,)), ('top', (10906,)), ('base', (10906,)), ('logs', (10906, 11))]\n",
      "Loading Well:  204-20-3  from  /home/administrator/Dropbox/core_data/facies/train_data\n"
     ]
    },
    {
     "name": "stderr",
     "output_type": "stream",
     "text": [
      "Header section Parameter regexp=~P was not found.\n"
     ]
    },
    {
     "name": "stdout",
     "output_type": "stream",
     "text": [
      "Feature shapes:  [('depth', (10906,)), ('top', (10906,)), ('base', (10906,)), ('logs', (10906, 11))]\n",
      "Loading Well:  204-20-1  from  /home/administrator/Dropbox/core_data/facies/train_data\n"
     ]
    },
    {
     "name": "stderr",
     "output_type": "stream",
     "text": [
      "Header section Parameter regexp=~P was not found.\n"
     ]
    },
    {
     "name": "stdout",
     "output_type": "stream",
     "text": [
      "Adding NaN log:  DTS1\n",
      "Adding NaN log:  DTS2\n",
      "Feature shapes:  [('depth', (11210,)), ('top', (11210,)), ('base', (11210,)), ('logs', (11210, 11))]\n",
      "Loading Well:  204-19-7  from  /home/administrator/Dropbox/core_data/facies/train_data\n"
     ]
    },
    {
     "name": "stderr",
     "output_type": "stream",
     "text": [
      "Header section Parameter regexp=~P was not found.\n"
     ]
    },
    {
     "name": "stdout",
     "output_type": "stream",
     "text": [
      "Adding NaN log:  DTS\n",
      "Feature shapes:  [('depth', (9807,)), ('top', (9807,)), ('base', (9807,)), ('logs', (9807, 11))]\n",
      "Loading Well:  205-21b-3  from  /home/administrator/Dropbox/core_data/facies/train_data\n"
     ]
    },
    {
     "name": "stderr",
     "output_type": "stream",
     "text": [
      "Header section Parameter regexp=~P was not found.\n"
     ]
    },
    {
     "name": "stdout",
     "output_type": "stream",
     "text": [
      "Adding NaN log:  SP\n",
      "Adding NaN log:  DTS\n",
      "Feature shapes:  [('depth', (3842,)), ('top', (3842,)), ('base', (3842,)), ('logs', (3842, 11))]\n",
      "Loading Well:  204-20-6a  from  /home/administrator/Dropbox/core_data/facies/train_data\n"
     ]
    },
    {
     "name": "stderr",
     "output_type": "stream",
     "text": [
      "Header section Parameter regexp=~P was not found.\n"
     ]
    },
    {
     "name": "stdout",
     "output_type": "stream",
     "text": [
      "Adding NaN log:  SP\n",
      "Adding NaN log:  DTS1\n",
      "Adding NaN log:  DTS2\n",
      "Feature shapes:  [('depth', (3542,)), ('top', (3542,)), ('base', (3542,)), ('logs', (3542, 11))]\n",
      "Loading Well:  204-20a-7  from  /home/administrator/Dropbox/core_data/facies/train_data\n"
     ]
    },
    {
     "name": "stderr",
     "output_type": "stream",
     "text": [
      "Header section Parameter regexp=~P was not found.\n"
     ]
    },
    {
     "name": "stdout",
     "output_type": "stream",
     "text": [
      "Adding NaN log:  DTS1\n",
      "Adding NaN log:  DTS2\n",
      "Feature shapes:  [('depth', (3105,)), ('top', (3105,)), ('base', (3105,)), ('logs', (3105, 11))]\n",
      "Loading Well:  204-20-2  from  /home/administrator/Dropbox/core_data/facies/train_data\n"
     ]
    },
    {
     "name": "stderr",
     "output_type": "stream",
     "text": [
      "Header section Parameter regexp=~P was not found.\n"
     ]
    },
    {
     "name": "stdout",
     "output_type": "stream",
     "text": [
      "Feature shapes:  [('depth', (2940,)), ('top', (2940,)), ('base', (2940,)), ('logs', (2940, 11))]\n",
      "Loading Well:  204-19-6  from  /home/administrator/Dropbox/core_data/facies/train_data\n"
     ]
    },
    {
     "name": "stderr",
     "output_type": "stream",
     "text": [
      "Header section Parameter regexp=~P was not found.\n"
     ]
    },
    {
     "name": "stdout",
     "output_type": "stream",
     "text": [
      "Adding NaN log:  DTS\n",
      "Feature shapes:  [('depth', (1884,)), ('top', (1884,)), ('base', (1884,)), ('logs', (1884, 11))]\n",
      "Loading Well:  204-24a-7  from  /home/administrator/Dropbox/core_data/facies/train_data\n"
     ]
    },
    {
     "name": "stderr",
     "output_type": "stream",
     "text": [
      "Header section Parameter regexp=~P was not found.\n"
     ]
    },
    {
     "name": "stdout",
     "output_type": "stream",
     "text": [
      "Adding NaN log:  SP\n",
      "Adding NaN log:  DTS\n",
      "Feature shapes:  [('depth', (19294,)), ('top', (19294,)), ('base', (19294,)), ('logs', (19294, 11))]\n",
      "Loading Well:  204-20-1Z  from  /home/administrator/Dropbox/core_data/facies/train_data\n"
     ]
    },
    {
     "name": "stderr",
     "output_type": "stream",
     "text": [
      "Header section Parameter regexp=~P was not found.\n"
     ]
    },
    {
     "name": "stdout",
     "output_type": "stream",
     "text": [
      "Adding NaN log:  SP\n",
      "Adding NaN log:  DTS1\n",
      "Adding NaN log:  DTS2\n",
      "Feature shapes:  [('depth', (1917,)), ('top', (1917,)), ('base', (1917,)), ('logs', (1917, 11))]\n",
      "Loading Well:  204-24a-6  from  /home/administrator/Dropbox/core_data/facies/train_data\n"
     ]
    },
    {
     "name": "stderr",
     "output_type": "stream",
     "text": [
      "Header section Parameter regexp=~P was not found.\n"
     ]
    },
    {
     "name": "stdout",
     "output_type": "stream",
     "text": [
      "Adding NaN log:  SP\n",
      "Adding NaN log:  DTS1\n",
      "Adding NaN log:  DTS2\n",
      "Feature shapes:  [('depth', (13006,)), ('top', (13006,)), ('base', (13006,)), ('logs', (13006, 11))]\n",
      "Loading Well:  204-19-3A  from  /home/administrator/Dropbox/core_data/facies/train_data\n"
     ]
    },
    {
     "name": "stderr",
     "output_type": "stream",
     "text": [
      "Header section Parameter regexp=~P was not found.\n"
     ]
    },
    {
     "name": "stdout",
     "output_type": "stream",
     "text": [
      "Adding NaN log:  DTS\n",
      "Feature shapes:  [('depth', (9590,)), ('top', (9590,)), ('base', (9590,)), ('logs', (9590, 11))]\n",
      "Training model for feature:  logs\n",
      "F1 score: 0.21485534088353542\n",
      "Training model for feature:  logs\n",
      "F1 score: 0.16447748036956242\n",
      "Training model for feature:  logs\n",
      "F1 score: 0.11527369652082713\n",
      "Training model for feature:  logs\n",
      "F1 score: 0.19978095392349035\n",
      "Training model for feature:  logs\n",
      "F1 score: 0.1702833323990156\n",
      "Training model for feature:  logs\n",
      "F1 score: 0.11904697364119683\n",
      "Training model for feature:  logs\n",
      "F1 score: 0.23416192826883572\n",
      "Training model for feature:  logs\n",
      "F1 score: 0.15967024786587566\n",
      "Training model for feature:  logs\n",
      "F1 score: 0.12584691051511415\n",
      "Training model for feature:  logs\n",
      "F1 score: 0.23179416840308953\n",
      "Training model for feature:  logs\n",
      "F1 score: 0.1633154014643768\n",
      "Training model for feature:  logs\n",
      "F1 score: 0.13730464324743993\n",
      "Training model for feature:  logs\n",
      "F1 score: 0.21400842332020842\n",
      "Training model for feature:  logs\n",
      "F1 score: 0.16366234174321892\n",
      "Training model for feature:  logs\n",
      "F1 score: 0.13095073106962887\n",
      "Training model for feature:  logs\n",
      "F1 score: 0.23285830786084363\n",
      "Training model for feature:  logs\n",
      "F1 score: 0.1558879106740752\n",
      "Training model for feature:  logs\n",
      "F1 score: 0.12449728426863302\n",
      "Training model for feature:  logs\n",
      "F1 score: 0.2076424696877801\n",
      "Training model for feature:  logs\n",
      "F1 score: 0.16136962683037964\n",
      "Training model for feature:  logs\n",
      "F1 score: 0.1273293709850898\n",
      "Training model for feature:  logs\n",
      "F1 score: 0.2256904762259488\n",
      "Training model for feature:  logs\n",
      "F1 score: 0.15335817677577895\n",
      "Training model for feature:  logs\n",
      "F1 score: 0.12585775365489715\n",
      "Training model for feature:  logs\n",
      "F1 score: 0.20390980361971334\n",
      "Training model for feature:  logs\n",
      "F1 score: 0.16099073765254404\n",
      "Training model for feature:  logs\n",
      "F1 score: 0.11873344879129186\n",
      "Training model for feature:  logs\n",
      "F1 score: 0.2215976786839567\n",
      "Training model for feature:  logs\n",
      "F1 score: 0.15616450747574329\n",
      "Training model for feature:  logs\n",
      "F1 score: 0.12818899413809987\n",
      "\n",
      "\n",
      "\t Starting TRAIN_SET_9\n",
      "Loading Well:  204-19-3A  from  /home/administrator/Dropbox/core_data/facies/train_data\n"
     ]
    },
    {
     "name": "stderr",
     "output_type": "stream",
     "text": [
      "Header section Parameter regexp=~P was not found.\n"
     ]
    },
    {
     "name": "stdout",
     "output_type": "stream",
     "text": [
      "Adding NaN log:  DTS\n",
      "Feature shapes:  [('depth', (9590,)), ('top', (9590,)), ('base', (9590,)), ('logs', (9590, 11))]\n",
      "Loading Well:  204-20-1  from  /home/administrator/Dropbox/core_data/facies/train_data\n"
     ]
    },
    {
     "name": "stderr",
     "output_type": "stream",
     "text": [
      "Header section Parameter regexp=~P was not found.\n"
     ]
    },
    {
     "name": "stdout",
     "output_type": "stream",
     "text": [
      "Adding NaN log:  DTS1\n",
      "Adding NaN log:  DTS2\n",
      "Feature shapes:  [('depth', (11210,)), ('top', (11210,)), ('base', (11210,)), ('logs', (11210, 11))]\n",
      "Loading Well:  204-19-7  from  /home/administrator/Dropbox/core_data/facies/train_data\n"
     ]
    },
    {
     "name": "stderr",
     "output_type": "stream",
     "text": [
      "Header section Parameter regexp=~P was not found.\n"
     ]
    },
    {
     "name": "stdout",
     "output_type": "stream",
     "text": [
      "Adding NaN log:  DTS\n",
      "Feature shapes:  [('depth', (9807,)), ('top', (9807,)), ('base', (9807,)), ('logs', (9807, 11))]\n",
      "Loading Well:  205-21b-3  from  /home/administrator/Dropbox/core_data/facies/train_data\n"
     ]
    },
    {
     "name": "stderr",
     "output_type": "stream",
     "text": [
      "Header section Parameter regexp=~P was not found.\n"
     ]
    },
    {
     "name": "stdout",
     "output_type": "stream",
     "text": [
      "Adding NaN log:  SP\n",
      "Adding NaN log:  DTS\n",
      "Feature shapes:  [('depth', (3842,)), ('top', (3842,)), ('base', (3842,)), ('logs', (3842, 11))]\n",
      "Loading Well:  204-20-6a  from  /home/administrator/Dropbox/core_data/facies/train_data\n"
     ]
    },
    {
     "name": "stderr",
     "output_type": "stream",
     "text": [
      "Header section Parameter regexp=~P was not found.\n"
     ]
    },
    {
     "name": "stdout",
     "output_type": "stream",
     "text": [
      "Adding NaN log:  SP\n",
      "Adding NaN log:  DTS1\n",
      "Adding NaN log:  DTS2\n",
      "Feature shapes:  [('depth', (3542,)), ('top', (3542,)), ('base', (3542,)), ('logs', (3542, 11))]\n",
      "Loading Well:  204-20a-7  from  /home/administrator/Dropbox/core_data/facies/train_data\n"
     ]
    },
    {
     "name": "stderr",
     "output_type": "stream",
     "text": [
      "Header section Parameter regexp=~P was not found.\n"
     ]
    },
    {
     "name": "stdout",
     "output_type": "stream",
     "text": [
      "Adding NaN log:  DTS1\n",
      "Adding NaN log:  DTS2\n",
      "Feature shapes:  [('depth', (3105,)), ('top', (3105,)), ('base', (3105,)), ('logs', (3105, 11))]\n",
      "Loading Well:  204-20-2  from  /home/administrator/Dropbox/core_data/facies/train_data\n"
     ]
    },
    {
     "name": "stderr",
     "output_type": "stream",
     "text": [
      "Header section Parameter regexp=~P was not found.\n"
     ]
    },
    {
     "name": "stdout",
     "output_type": "stream",
     "text": [
      "Feature shapes:  [('depth', (2940,)), ('top', (2940,)), ('base', (2940,)), ('logs', (2940, 11))]\n",
      "Loading Well:  204-19-6  from  /home/administrator/Dropbox/core_data/facies/train_data\n"
     ]
    },
    {
     "name": "stderr",
     "output_type": "stream",
     "text": [
      "Header section Parameter regexp=~P was not found.\n"
     ]
    },
    {
     "name": "stdout",
     "output_type": "stream",
     "text": [
      "Adding NaN log:  DTS\n",
      "Feature shapes:  [('depth', (1884,)), ('top', (1884,)), ('base', (1884,)), ('logs', (1884, 11))]\n",
      "Loading Well:  204-20-1Z  from  /home/administrator/Dropbox/core_data/facies/train_data\n"
     ]
    },
    {
     "name": "stderr",
     "output_type": "stream",
     "text": [
      "Header section Parameter regexp=~P was not found.\n"
     ]
    },
    {
     "name": "stdout",
     "output_type": "stream",
     "text": [
      "Adding NaN log:  SP\n",
      "Adding NaN log:  DTS1\n",
      "Adding NaN log:  DTS2\n",
      "Feature shapes:  [('depth', (1917,)), ('top', (1917,)), ('base', (1917,)), ('logs', (1917, 11))]\n",
      "Loading Well:  204-24a-7  from  /home/administrator/Dropbox/core_data/facies/train_data\n"
     ]
    },
    {
     "name": "stderr",
     "output_type": "stream",
     "text": [
      "Header section Parameter regexp=~P was not found.\n"
     ]
    },
    {
     "name": "stdout",
     "output_type": "stream",
     "text": [
      "Adding NaN log:  SP\n",
      "Adding NaN log:  DTS\n",
      "Feature shapes:  [('depth', (19294,)), ('top', (19294,)), ('base', (19294,)), ('logs', (19294, 11))]\n",
      "Loading Well:  204-24a-6  from  /home/administrator/Dropbox/core_data/facies/train_data\n"
     ]
    },
    {
     "name": "stderr",
     "output_type": "stream",
     "text": [
      "Header section Parameter regexp=~P was not found.\n"
     ]
    },
    {
     "name": "stdout",
     "output_type": "stream",
     "text": [
      "Adding NaN log:  SP\n",
      "Adding NaN log:  DTS1\n",
      "Adding NaN log:  DTS2\n",
      "Feature shapes:  [('depth', (13006,)), ('top', (13006,)), ('base', (13006,)), ('logs', (13006, 11))]\n",
      "Loading Well:  204-20-3  from  /home/administrator/Dropbox/core_data/facies/train_data\n"
     ]
    },
    {
     "name": "stderr",
     "output_type": "stream",
     "text": [
      "Header section Parameter regexp=~P was not found.\n"
     ]
    },
    {
     "name": "stdout",
     "output_type": "stream",
     "text": [
      "Feature shapes:  [('depth', (10906,)), ('top', (10906,)), ('base', (10906,)), ('logs', (10906, 11))]\n",
      "Loading Well:  204-24a-7  from  /home/administrator/Dropbox/core_data/facies/train_data\n"
     ]
    },
    {
     "name": "stderr",
     "output_type": "stream",
     "text": [
      "Header section Parameter regexp=~P was not found.\n"
     ]
    },
    {
     "name": "stdout",
     "output_type": "stream",
     "text": [
      "Adding NaN log:  SP\n",
      "Adding NaN log:  DTS\n",
      "Feature shapes:  [('depth', (19294,)), ('top', (19294,)), ('base', (19294,)), ('logs', (19294, 11))]\n",
      "Loading Well:  204-24a-6  from  /home/administrator/Dropbox/core_data/facies/train_data\n"
     ]
    },
    {
     "name": "stderr",
     "output_type": "stream",
     "text": [
      "Header section Parameter regexp=~P was not found.\n"
     ]
    },
    {
     "name": "stdout",
     "output_type": "stream",
     "text": [
      "Adding NaN log:  SP\n",
      "Adding NaN log:  DTS1\n",
      "Adding NaN log:  DTS2\n",
      "Feature shapes:  [('depth', (13006,)), ('top', (13006,)), ('base', (13006,)), ('logs', (13006, 11))]\n",
      "Loading Well:  204-19-3A  from  /home/administrator/Dropbox/core_data/facies/train_data\n"
     ]
    },
    {
     "name": "stderr",
     "output_type": "stream",
     "text": [
      "Header section Parameter regexp=~P was not found.\n"
     ]
    },
    {
     "name": "stdout",
     "output_type": "stream",
     "text": [
      "Adding NaN log:  DTS\n",
      "Feature shapes:  [('depth', (9590,)), ('top', (9590,)), ('base', (9590,)), ('logs', (9590, 11))]\n",
      "Loading Well:  204-19-7  from  /home/administrator/Dropbox/core_data/facies/train_data\n"
     ]
    },
    {
     "name": "stderr",
     "output_type": "stream",
     "text": [
      "Header section Parameter regexp=~P was not found.\n"
     ]
    },
    {
     "name": "stdout",
     "output_type": "stream",
     "text": [
      "Adding NaN log:  DTS\n",
      "Feature shapes:  [('depth', (9807,)), ('top', (9807,)), ('base', (9807,)), ('logs', (9807, 11))]\n",
      "Loading Well:  205-21b-3  from  /home/administrator/Dropbox/core_data/facies/train_data\n"
     ]
    },
    {
     "name": "stderr",
     "output_type": "stream",
     "text": [
      "Header section Parameter regexp=~P was not found.\n"
     ]
    },
    {
     "name": "stdout",
     "output_type": "stream",
     "text": [
      "Adding NaN log:  SP\n",
      "Adding NaN log:  DTS\n",
      "Feature shapes:  [('depth', (3842,)), ('top', (3842,)), ('base', (3842,)), ('logs', (3842, 11))]\n",
      "Loading Well:  204-20-6a  from  /home/administrator/Dropbox/core_data/facies/train_data\n"
     ]
    },
    {
     "name": "stderr",
     "output_type": "stream",
     "text": [
      "Header section Parameter regexp=~P was not found.\n"
     ]
    },
    {
     "name": "stdout",
     "output_type": "stream",
     "text": [
      "Adding NaN log:  SP\n",
      "Adding NaN log:  DTS1\n",
      "Adding NaN log:  DTS2\n",
      "Feature shapes:  [('depth', (3542,)), ('top', (3542,)), ('base', (3542,)), ('logs', (3542, 11))]\n",
      "Loading Well:  204-20a-7  from  /home/administrator/Dropbox/core_data/facies/train_data\n"
     ]
    },
    {
     "name": "stderr",
     "output_type": "stream",
     "text": [
      "Header section Parameter regexp=~P was not found.\n"
     ]
    },
    {
     "name": "stdout",
     "output_type": "stream",
     "text": [
      "Adding NaN log:  DTS1\n",
      "Adding NaN log:  DTS2\n",
      "Feature shapes:  [('depth', (3105,)), ('top', (3105,)), ('base', (3105,)), ('logs', (3105, 11))]\n",
      "Loading Well:  204-20-2  from  /home/administrator/Dropbox/core_data/facies/train_data\n"
     ]
    },
    {
     "name": "stderr",
     "output_type": "stream",
     "text": [
      "Header section Parameter regexp=~P was not found.\n"
     ]
    },
    {
     "name": "stdout",
     "output_type": "stream",
     "text": [
      "Feature shapes:  [('depth', (2940,)), ('top', (2940,)), ('base', (2940,)), ('logs', (2940, 11))]\n",
      "Loading Well:  204-20-1Z  from  /home/administrator/Dropbox/core_data/facies/train_data\n"
     ]
    },
    {
     "name": "stderr",
     "output_type": "stream",
     "text": [
      "Header section Parameter regexp=~P was not found.\n"
     ]
    },
    {
     "name": "stdout",
     "output_type": "stream",
     "text": [
      "Adding NaN log:  SP\n",
      "Adding NaN log:  DTS1\n",
      "Adding NaN log:  DTS2\n",
      "Feature shapes:  [('depth', (1917,)), ('top', (1917,)), ('base', (1917,)), ('logs', (1917, 11))]\n",
      "Loading Well:  204-20-1  from  /home/administrator/Dropbox/core_data/facies/train_data\n"
     ]
    },
    {
     "name": "stderr",
     "output_type": "stream",
     "text": [
      "Header section Parameter regexp=~P was not found.\n"
     ]
    },
    {
     "name": "stdout",
     "output_type": "stream",
     "text": [
      "Adding NaN log:  DTS1\n",
      "Adding NaN log:  DTS2\n",
      "Feature shapes:  [('depth', (11210,)), ('top', (11210,)), ('base', (11210,)), ('logs', (11210, 11))]\n",
      "Loading Well:  204-19-6  from  /home/administrator/Dropbox/core_data/facies/train_data\n"
     ]
    },
    {
     "name": "stderr",
     "output_type": "stream",
     "text": [
      "Header section Parameter regexp=~P was not found.\n"
     ]
    },
    {
     "name": "stdout",
     "output_type": "stream",
     "text": [
      "Adding NaN log:  DTS\n",
      "Feature shapes:  [('depth', (1884,)), ('top', (1884,)), ('base', (1884,)), ('logs', (1884, 11))]\n",
      "Loading Well:  204-20-3  from  /home/administrator/Dropbox/core_data/facies/train_data\n"
     ]
    },
    {
     "name": "stderr",
     "output_type": "stream",
     "text": [
      "Header section Parameter regexp=~P was not found.\n"
     ]
    },
    {
     "name": "stdout",
     "output_type": "stream",
     "text": [
      "Feature shapes:  [('depth', (10906,)), ('top', (10906,)), ('base', (10906,)), ('logs', (10906, 11))]\n",
      "Loading Well:  204-24a-7  from  /home/administrator/Dropbox/core_data/facies/train_data\n"
     ]
    },
    {
     "name": "stderr",
     "output_type": "stream",
     "text": [
      "Header section Parameter regexp=~P was not found.\n"
     ]
    },
    {
     "name": "stdout",
     "output_type": "stream",
     "text": [
      "Adding NaN log:  SP\n",
      "Adding NaN log:  DTS\n",
      "Feature shapes:  [('depth', (19294,)), ('top', (19294,)), ('base', (19294,)), ('logs', (19294, 11))]\n",
      "Loading Well:  204-24a-6  from  /home/administrator/Dropbox/core_data/facies/train_data\n"
     ]
    },
    {
     "name": "stderr",
     "output_type": "stream",
     "text": [
      "Header section Parameter regexp=~P was not found.\n"
     ]
    },
    {
     "name": "stdout",
     "output_type": "stream",
     "text": [
      "Adding NaN log:  SP\n",
      "Adding NaN log:  DTS1\n",
      "Adding NaN log:  DTS2\n",
      "Feature shapes:  [('depth', (13006,)), ('top', (13006,)), ('base', (13006,)), ('logs', (13006, 11))]\n",
      "Loading Well:  204-20-3  from  /home/administrator/Dropbox/core_data/facies/train_data\n"
     ]
    },
    {
     "name": "stderr",
     "output_type": "stream",
     "text": [
      "Header section Parameter regexp=~P was not found.\n"
     ]
    },
    {
     "name": "stdout",
     "output_type": "stream",
     "text": [
      "Feature shapes:  [('depth', (10906,)), ('top', (10906,)), ('base', (10906,)), ('logs', (10906, 11))]\n",
      "Loading Well:  204-20-1  from  /home/administrator/Dropbox/core_data/facies/train_data\n"
     ]
    },
    {
     "name": "stderr",
     "output_type": "stream",
     "text": [
      "Header section Parameter regexp=~P was not found.\n"
     ]
    },
    {
     "name": "stdout",
     "output_type": "stream",
     "text": [
      "Adding NaN log:  DTS1\n",
      "Adding NaN log:  DTS2\n",
      "Feature shapes:  [('depth', (11210,)), ('top', (11210,)), ('base', (11210,)), ('logs', (11210, 11))]\n",
      "Loading Well:  204-20-6a  from  /home/administrator/Dropbox/core_data/facies/train_data\n"
     ]
    },
    {
     "name": "stderr",
     "output_type": "stream",
     "text": [
      "Header section Parameter regexp=~P was not found.\n"
     ]
    },
    {
     "name": "stdout",
     "output_type": "stream",
     "text": [
      "Adding NaN log:  SP\n",
      "Adding NaN log:  DTS1\n",
      "Adding NaN log:  DTS2\n",
      "Feature shapes:  [('depth', (3542,)), ('top', (3542,)), ('base', (3542,)), ('logs', (3542, 11))]\n",
      "Loading Well:  204-20a-7  from  /home/administrator/Dropbox/core_data/facies/train_data\n"
     ]
    },
    {
     "name": "stderr",
     "output_type": "stream",
     "text": [
      "Header section Parameter regexp=~P was not found.\n"
     ]
    },
    {
     "name": "stdout",
     "output_type": "stream",
     "text": [
      "Adding NaN log:  DTS1\n",
      "Adding NaN log:  DTS2\n",
      "Feature shapes:  [('depth', (3105,)), ('top', (3105,)), ('base', (3105,)), ('logs', (3105, 11))]\n",
      "Loading Well:  204-20-2  from  /home/administrator/Dropbox/core_data/facies/train_data\n"
     ]
    },
    {
     "name": "stderr",
     "output_type": "stream",
     "text": [
      "Header section Parameter regexp=~P was not found.\n"
     ]
    },
    {
     "name": "stdout",
     "output_type": "stream",
     "text": [
      "Feature shapes:  [('depth', (2940,)), ('top', (2940,)), ('base', (2940,)), ('logs', (2940, 11))]\n",
      "Loading Well:  204-19-6  from  /home/administrator/Dropbox/core_data/facies/train_data\n"
     ]
    },
    {
     "name": "stderr",
     "output_type": "stream",
     "text": [
      "Header section Parameter regexp=~P was not found.\n"
     ]
    },
    {
     "name": "stdout",
     "output_type": "stream",
     "text": [
      "Adding NaN log:  DTS\n",
      "Feature shapes:  [('depth', (1884,)), ('top', (1884,)), ('base', (1884,)), ('logs', (1884, 11))]\n",
      "Loading Well:  204-20-1Z  from  /home/administrator/Dropbox/core_data/facies/train_data\n"
     ]
    },
    {
     "name": "stderr",
     "output_type": "stream",
     "text": [
      "Header section Parameter regexp=~P was not found.\n"
     ]
    },
    {
     "name": "stdout",
     "output_type": "stream",
     "text": [
      "Adding NaN log:  SP\n",
      "Adding NaN log:  DTS1\n",
      "Adding NaN log:  DTS2\n",
      "Feature shapes:  [('depth', (1917,)), ('top', (1917,)), ('base', (1917,)), ('logs', (1917, 11))]\n",
      "Loading Well:  205-21b-3  from  /home/administrator/Dropbox/core_data/facies/train_data\n"
     ]
    },
    {
     "name": "stderr",
     "output_type": "stream",
     "text": [
      "Header section Parameter regexp=~P was not found.\n"
     ]
    },
    {
     "name": "stdout",
     "output_type": "stream",
     "text": [
      "Adding NaN log:  SP\n",
      "Adding NaN log:  DTS\n",
      "Feature shapes:  [('depth', (3842,)), ('top', (3842,)), ('base', (3842,)), ('logs', (3842, 11))]\n",
      "Loading Well:  204-19-7  from  /home/administrator/Dropbox/core_data/facies/train_data\n"
     ]
    },
    {
     "name": "stderr",
     "output_type": "stream",
     "text": [
      "Header section Parameter regexp=~P was not found.\n"
     ]
    },
    {
     "name": "stdout",
     "output_type": "stream",
     "text": [
      "Adding NaN log:  DTS\n",
      "Feature shapes:  [('depth', (9807,)), ('top', (9807,)), ('base', (9807,)), ('logs', (9807, 11))]\n",
      "Loading Well:  204-19-3A  from  /home/administrator/Dropbox/core_data/facies/train_data\n"
     ]
    },
    {
     "name": "stderr",
     "output_type": "stream",
     "text": [
      "Header section Parameter regexp=~P was not found.\n"
     ]
    },
    {
     "name": "stdout",
     "output_type": "stream",
     "text": [
      "Adding NaN log:  DTS\n",
      "Feature shapes:  [('depth', (9590,)), ('top', (9590,)), ('base', (9590,)), ('logs', (9590, 11))]\n",
      "Training model for feature:  logs\n",
      "F1 score: 0.14166930426540317\n",
      "Training model for feature:  logs\n",
      "F1 score: 0.23874602518279583\n",
      "Training model for feature:  logs\n",
      "F1 score: 0.27821915026592386\n",
      "Training model for feature:  logs\n",
      "F1 score: 0.1529223915629262\n",
      "Training model for feature:  logs\n",
      "F1 score: 0.2397779160513009\n",
      "Training model for feature:  logs\n",
      "F1 score: 0.2791934498988608\n",
      "Training model for feature:  logs\n",
      "F1 score: 0.13986143408448087\n",
      "Training model for feature:  logs\n",
      "F1 score: 0.24848473361324844\n",
      "Training model for feature:  logs\n",
      "F1 score: 0.2695345637559738\n",
      "Training model for feature:  logs\n",
      "F1 score: 0.12818314303890171\n",
      "Training model for feature:  logs\n",
      "F1 score: 0.29620068686603984\n",
      "Training model for feature:  logs\n",
      "F1 score: 0.2491172092291932\n",
      "Training model for feature:  logs\n",
      "F1 score: 0.1459216458067332\n",
      "Training model for feature:  logs\n",
      "F1 score: 0.24588238471995658\n",
      "Training model for feature:  logs\n",
      "F1 score: 0.3111877298951221\n",
      "Training model for feature:  logs\n",
      "F1 score: 0.21015743466289966\n",
      "Training model for feature:  logs\n",
      "F1 score: 0.2689795884446787\n",
      "Training model for feature:  logs\n",
      "F1 score: 0.25102246157842095\n",
      "Training model for feature:  logs\n",
      "F1 score: 0.1312536589070806\n",
      "Training model for feature:  logs\n",
      "F1 score: 0.2532149565910285\n",
      "Training model for feature:  logs\n",
      "F1 score: 0.25686452565624146\n",
      "Training model for feature:  logs\n",
      "F1 score: 0.15905890887934493\n",
      "Training model for feature:  logs\n",
      "F1 score: 0.2642625090454328\n",
      "Training model for feature:  logs\n",
      "F1 score: 0.2533790436776823\n",
      "Training model for feature:  logs\n",
      "F1 score: 0.19222148422391874\n",
      "Training model for feature:  logs\n",
      "F1 score: 0.30180983440641385\n",
      "Training model for feature:  logs\n",
      "F1 score: 0.3247563501710821\n",
      "Training model for feature:  logs\n",
      "F1 score: 0.16097543020510913\n",
      "Training model for feature:  logs\n",
      "F1 score: 0.2613021465287782\n",
      "Training model for feature:  logs\n",
      "F1 score: 0.27693410944108715\n"
     ]
    }
   ],
   "source": [
    "best_params_3 = run_experiment(3)\n",
    "\n",
    "print('\\n\\n\\t Starting TRAIN_SET_6')\n",
    "best_params_6 = run_experiment(6)\n",
    "\n",
    "print('\\n\\n\\t Starting TRAIN_SET_9')\n",
    "best_params_9 = run_experiment(9)"
   ]
  },
  {
   "cell_type": "code",
   "execution_count": 5,
   "metadata": {},
   "outputs": [],
   "source": [
    "best_params_3 = {'colsample_bytree': 0.715782636188357,\n",
    " 'gamma': 0.38031439765997715,\n",
    " 'learning_rate': 0.13285585695446292,\n",
    " 'max_depth': 3.0,\n",
    " 'n_estimators': 107.0,\n",
    " 'reg_lambda': 7.063383010063417,\n",
    " 'subsample': 0.5627460184070672}"
   ]
  },
  {
   "cell_type": "code",
   "execution_count": 6,
   "metadata": {},
   "outputs": [],
   "source": [
    "best_params_6 = {'colsample_bytree': 0.5044540258165737,\n",
    " 'gamma': 0.3606833915563988,\n",
    " 'learning_rate': 0.020567898195521434,\n",
    " 'max_depth': 8.0,\n",
    " 'n_estimators': 278.0,\n",
    " 'reg_lambda': 5.316977094203006,\n",
    " 'subsample': 0.6810694533283663}"
   ]
  },
  {
   "cell_type": "code",
   "execution_count": 7,
   "metadata": {},
   "outputs": [],
   "source": [
    "best_params_9 = {'colsample_bytree': 0.4845409209422611,\n",
    " 'gamma': 0.4368302424155825,\n",
    " 'learning_rate': 0.11360839815510773,\n",
    " 'max_depth': 3.0,\n",
    " 'n_estimators': 90.0,\n",
    " 'reg_lambda': 8.283549867329606,\n",
    " 'subsample': 0.9353591985992722}"
   ]
  },
  {
   "cell_type": "code",
   "execution_count": 8,
   "metadata": {},
   "outputs": [],
   "source": [
    "def pred_results_df(num_train, model_config):\n",
    "    \n",
    "    assert num_train in [3, 6, 9], 'Must use one of predefined train/test splits'\n",
    "    \n",
    "    train_sets = getattr(defaults, f'TRAIN_SETS_{num_train}')\n",
    "    \n",
    "    datasets = [FaciesDataset(s, infer_test_wells(s), features=['logs']) for s in train_sets]\n",
    "    \n",
    "    pred_dfs = []\n",
    "    \n",
    "    for i, dset in enumerate(datasets):\n",
    "        dset.load_or_generate_data()\n",
    "        \n",
    "        model = FeaturePredictor(dset, model_args=model_config, feature_model_args=fmodel_args)\n",
    "        model.fit(dset, verbose=False)\n",
    "        \n",
    "        print('predict_proba: ', model.predict_proba(dset.X_test))\n",
    "        \n",
    "        for test_well_name in dset.test_well_names:\n",
    "            df = model.preds_dataframe(test_well_name, logs=dset.logs_args['which_logs'])\n",
    "            df['well'] = test_well_name\n",
    "            df['set_number'] = i\n",
    "            pred_dfs.append(df)\n",
    "        \n",
    "    return pd.concat(pred_dfs)"
   ]
  },
  {
   "cell_type": "code",
   "execution_count": 9,
   "metadata": {},
   "outputs": [
    {
     "name": "stdout",
     "output_type": "stream",
     "text": [
      "Loading Well:  204-24a-7  from  /home/administrator/Dropbox/core_data/facies/train_data\n"
     ]
    },
    {
     "name": "stderr",
     "output_type": "stream",
     "text": [
      "Header section Parameter regexp=~P was not found.\n"
     ]
    },
    {
     "name": "stdout",
     "output_type": "stream",
     "text": [
      "Adding NaN log:  SP\n",
      "Adding NaN log:  DTS\n",
      "Feature shapes:  [('depth', (19294,)), ('top', (19294,)), ('base', (19294,)), ('logs', (19294, 11))]\n",
      "Loading Well:  204-24a-6  from  /home/administrator/Dropbox/core_data/facies/train_data\n"
     ]
    },
    {
     "name": "stderr",
     "output_type": "stream",
     "text": [
      "Header section Parameter regexp=~P was not found.\n"
     ]
    },
    {
     "name": "stdout",
     "output_type": "stream",
     "text": [
      "Adding NaN log:  SP\n",
      "Adding NaN log:  DTS1\n",
      "Adding NaN log:  DTS2\n",
      "Feature shapes:  [('depth', (13006,)), ('top', (13006,)), ('base', (13006,)), ('logs', (13006, 11))]\n",
      "Loading Well:  204-20-3  from  /home/administrator/Dropbox/core_data/facies/train_data\n"
     ]
    },
    {
     "name": "stderr",
     "output_type": "stream",
     "text": [
      "Header section Parameter regexp=~P was not found.\n"
     ]
    },
    {
     "name": "stdout",
     "output_type": "stream",
     "text": [
      "Feature shapes:  [('depth', (10906,)), ('top', (10906,)), ('base', (10906,)), ('logs', (10906, 11))]\n",
      "Loading Well:  204-19-6  from  /home/administrator/Dropbox/core_data/facies/train_data\n"
     ]
    },
    {
     "name": "stderr",
     "output_type": "stream",
     "text": [
      "Header section Parameter regexp=~P was not found.\n"
     ]
    },
    {
     "name": "stdout",
     "output_type": "stream",
     "text": [
      "Adding NaN log:  DTS\n",
      "Feature shapes:  [('depth', (1884,)), ('top', (1884,)), ('base', (1884,)), ('logs', (1884, 11))]\n",
      "Loading Well:  204-20-1  from  /home/administrator/Dropbox/core_data/facies/train_data\n"
     ]
    },
    {
     "name": "stderr",
     "output_type": "stream",
     "text": [
      "Header section Parameter regexp=~P was not found.\n"
     ]
    },
    {
     "name": "stdout",
     "output_type": "stream",
     "text": [
      "Adding NaN log:  DTS1\n",
      "Adding NaN log:  DTS2\n",
      "Feature shapes:  [('depth', (11210,)), ('top', (11210,)), ('base', (11210,)), ('logs', (11210, 11))]\n",
      "Loading Well:  204-19-7  from  /home/administrator/Dropbox/core_data/facies/train_data\n"
     ]
    },
    {
     "name": "stderr",
     "output_type": "stream",
     "text": [
      "Header section Parameter regexp=~P was not found.\n"
     ]
    },
    {
     "name": "stdout",
     "output_type": "stream",
     "text": [
      "Adding NaN log:  DTS\n",
      "Feature shapes:  [('depth', (9807,)), ('top', (9807,)), ('base', (9807,)), ('logs', (9807, 11))]\n",
      "Loading Well:  204-20-2  from  /home/administrator/Dropbox/core_data/facies/train_data\n"
     ]
    },
    {
     "name": "stderr",
     "output_type": "stream",
     "text": [
      "Header section Parameter regexp=~P was not found.\n"
     ]
    },
    {
     "name": "stdout",
     "output_type": "stream",
     "text": [
      "Feature shapes:  [('depth', (2940,)), ('top', (2940,)), ('base', (2940,)), ('logs', (2940, 11))]\n",
      "Loading Well:  204-20-6a  from  /home/administrator/Dropbox/core_data/facies/train_data\n"
     ]
    },
    {
     "name": "stderr",
     "output_type": "stream",
     "text": [
      "Header section Parameter regexp=~P was not found.\n"
     ]
    },
    {
     "name": "stdout",
     "output_type": "stream",
     "text": [
      "Adding NaN log:  SP\n",
      "Adding NaN log:  DTS1\n",
      "Adding NaN log:  DTS2\n",
      "Feature shapes:  [('depth', (3542,)), ('top', (3542,)), ('base', (3542,)), ('logs', (3542, 11))]\n",
      "Loading Well:  204-20-1Z  from  /home/administrator/Dropbox/core_data/facies/train_data\n"
     ]
    },
    {
     "name": "stderr",
     "output_type": "stream",
     "text": [
      "Header section Parameter regexp=~P was not found.\n"
     ]
    },
    {
     "name": "stdout",
     "output_type": "stream",
     "text": [
      "Adding NaN log:  SP\n",
      "Adding NaN log:  DTS1\n",
      "Adding NaN log:  DTS2\n",
      "Feature shapes:  [('depth', (1917,)), ('top', (1917,)), ('base', (1917,)), ('logs', (1917, 11))]\n",
      "Loading Well:  204-19-3A  from  /home/administrator/Dropbox/core_data/facies/train_data\n"
     ]
    },
    {
     "name": "stderr",
     "output_type": "stream",
     "text": [
      "Header section Parameter regexp=~P was not found.\n"
     ]
    },
    {
     "name": "stdout",
     "output_type": "stream",
     "text": [
      "Adding NaN log:  DTS\n",
      "Feature shapes:  [('depth', (9590,)), ('top', (9590,)), ('base', (9590,)), ('logs', (9590, 11))]\n",
      "Loading Well:  205-21b-3  from  /home/administrator/Dropbox/core_data/facies/train_data\n"
     ]
    },
    {
     "name": "stderr",
     "output_type": "stream",
     "text": [
      "Header section Parameter regexp=~P was not found.\n"
     ]
    },
    {
     "name": "stdout",
     "output_type": "stream",
     "text": [
      "Adding NaN log:  SP\n",
      "Adding NaN log:  DTS\n",
      "Feature shapes:  [('depth', (3842,)), ('top', (3842,)), ('base', (3842,)), ('logs', (3842, 11))]\n",
      "Loading Well:  204-20a-7  from  /home/administrator/Dropbox/core_data/facies/train_data\n"
     ]
    },
    {
     "name": "stderr",
     "output_type": "stream",
     "text": [
      "Header section Parameter regexp=~P was not found.\n"
     ]
    },
    {
     "name": "stdout",
     "output_type": "stream",
     "text": [
      "Adding NaN log:  DTS1\n",
      "Adding NaN log:  DTS2\n",
      "Feature shapes:  [('depth', (3105,)), ('top', (3105,)), ('base', (3105,)), ('logs', (3105, 11))]\n",
      "Training model for feature:  logs\n",
      "predict_proba:  [[0.16260043 0.08068658 0.5580975  0.19088337 0.00773218]\n",
      " [0.16252244 0.08064788 0.5578298  0.19079182 0.00820805]\n",
      " [0.15796258 0.07500268 0.5965323  0.16286893 0.0076335 ]\n",
      " ...\n",
      " [0.2050614  0.23042564 0.124186   0.05220034 0.38812667]\n",
      " [0.27388385 0.210223   0.11329796 0.0484976  0.35409755]\n",
      " [0.33131406 0.19425672 0.10469307 0.04253209 0.3272041 ]]\n",
      "Loading Well:  204-19-3A  from  /home/administrator/Dropbox/core_data/facies/train_data\n"
     ]
    },
    {
     "name": "stderr",
     "output_type": "stream",
     "text": [
      "Header section Parameter regexp=~P was not found.\n"
     ]
    },
    {
     "name": "stdout",
     "output_type": "stream",
     "text": [
      "Adding NaN log:  DTS\n",
      "Feature shapes:  [('depth', (9590,)), ('top', (9590,)), ('base', (9590,)), ('logs', (9590, 11))]\n",
      "Loading Well:  204-19-7  from  /home/administrator/Dropbox/core_data/facies/train_data\n"
     ]
    },
    {
     "name": "stderr",
     "output_type": "stream",
     "text": [
      "Header section Parameter regexp=~P was not found.\n"
     ]
    },
    {
     "name": "stdout",
     "output_type": "stream",
     "text": [
      "Adding NaN log:  DTS\n",
      "Feature shapes:  [('depth', (9807,)), ('top', (9807,)), ('base', (9807,)), ('logs', (9807, 11))]\n",
      "Loading Well:  205-21b-3  from  /home/administrator/Dropbox/core_data/facies/train_data\n"
     ]
    },
    {
     "name": "stderr",
     "output_type": "stream",
     "text": [
      "Header section Parameter regexp=~P was not found.\n"
     ]
    },
    {
     "name": "stdout",
     "output_type": "stream",
     "text": [
      "Adding NaN log:  SP\n",
      "Adding NaN log:  DTS\n",
      "Feature shapes:  [('depth', (3842,)), ('top', (3842,)), ('base', (3842,)), ('logs', (3842, 11))]\n",
      "Loading Well:  204-19-6  from  /home/administrator/Dropbox/core_data/facies/train_data\n"
     ]
    },
    {
     "name": "stderr",
     "output_type": "stream",
     "text": [
      "Header section Parameter regexp=~P was not found.\n"
     ]
    },
    {
     "name": "stdout",
     "output_type": "stream",
     "text": [
      "Adding NaN log:  DTS\n",
      "Feature shapes:  [('depth', (1884,)), ('top', (1884,)), ('base', (1884,)), ('logs', (1884, 11))]\n",
      "Loading Well:  204-20-1  from  /home/administrator/Dropbox/core_data/facies/train_data\n"
     ]
    },
    {
     "name": "stderr",
     "output_type": "stream",
     "text": [
      "Header section Parameter regexp=~P was not found.\n"
     ]
    },
    {
     "name": "stdout",
     "output_type": "stream",
     "text": [
      "Adding NaN log:  DTS1\n",
      "Adding NaN log:  DTS2\n",
      "Feature shapes:  [('depth', (11210,)), ('top', (11210,)), ('base', (11210,)), ('logs', (11210, 11))]\n",
      "Loading Well:  204-24a-6  from  /home/administrator/Dropbox/core_data/facies/train_data\n"
     ]
    },
    {
     "name": "stderr",
     "output_type": "stream",
     "text": [
      "Header section Parameter regexp=~P was not found.\n"
     ]
    },
    {
     "name": "stdout",
     "output_type": "stream",
     "text": [
      "Adding NaN log:  SP\n",
      "Adding NaN log:  DTS1\n",
      "Adding NaN log:  DTS2\n",
      "Feature shapes:  [('depth', (13006,)), ('top', (13006,)), ('base', (13006,)), ('logs', (13006, 11))]\n",
      "Loading Well:  204-20-2  from  /home/administrator/Dropbox/core_data/facies/train_data\n"
     ]
    },
    {
     "name": "stderr",
     "output_type": "stream",
     "text": [
      "Header section Parameter regexp=~P was not found.\n"
     ]
    },
    {
     "name": "stdout",
     "output_type": "stream",
     "text": [
      "Feature shapes:  [('depth', (2940,)), ('top', (2940,)), ('base', (2940,)), ('logs', (2940, 11))]\n",
      "Loading Well:  204-20-6a  from  /home/administrator/Dropbox/core_data/facies/train_data\n"
     ]
    },
    {
     "name": "stderr",
     "output_type": "stream",
     "text": [
      "Header section Parameter regexp=~P was not found.\n"
     ]
    },
    {
     "name": "stdout",
     "output_type": "stream",
     "text": [
      "Adding NaN log:  SP\n",
      "Adding NaN log:  DTS1\n",
      "Adding NaN log:  DTS2\n",
      "Feature shapes:  [('depth', (3542,)), ('top', (3542,)), ('base', (3542,)), ('logs', (3542, 11))]\n",
      "Loading Well:  204-20-1Z  from  /home/administrator/Dropbox/core_data/facies/train_data\n"
     ]
    },
    {
     "name": "stderr",
     "output_type": "stream",
     "text": [
      "Header section Parameter regexp=~P was not found.\n"
     ]
    },
    {
     "name": "stdout",
     "output_type": "stream",
     "text": [
      "Adding NaN log:  SP\n",
      "Adding NaN log:  DTS1\n",
      "Adding NaN log:  DTS2\n",
      "Feature shapes:  [('depth', (1917,)), ('top', (1917,)), ('base', (1917,)), ('logs', (1917, 11))]\n",
      "Loading Well:  204-24a-7  from  /home/administrator/Dropbox/core_data/facies/train_data\n"
     ]
    },
    {
     "name": "stderr",
     "output_type": "stream",
     "text": [
      "Header section Parameter regexp=~P was not found.\n"
     ]
    },
    {
     "name": "stdout",
     "output_type": "stream",
     "text": [
      "Adding NaN log:  SP\n",
      "Adding NaN log:  DTS\n",
      "Feature shapes:  [('depth', (19294,)), ('top', (19294,)), ('base', (19294,)), ('logs', (19294, 11))]\n",
      "Loading Well:  204-20-3  from  /home/administrator/Dropbox/core_data/facies/train_data\n"
     ]
    },
    {
     "name": "stderr",
     "output_type": "stream",
     "text": [
      "Header section Parameter regexp=~P was not found.\n"
     ]
    },
    {
     "name": "stdout",
     "output_type": "stream",
     "text": [
      "Feature shapes:  [('depth', (10906,)), ('top', (10906,)), ('base', (10906,)), ('logs', (10906, 11))]\n",
      "Loading Well:  204-20a-7  from  /home/administrator/Dropbox/core_data/facies/train_data\n"
     ]
    },
    {
     "name": "stderr",
     "output_type": "stream",
     "text": [
      "Header section Parameter regexp=~P was not found.\n"
     ]
    },
    {
     "name": "stdout",
     "output_type": "stream",
     "text": [
      "Adding NaN log:  DTS1\n",
      "Adding NaN log:  DTS2\n",
      "Feature shapes:  [('depth', (3105,)), ('top', (3105,)), ('base', (3105,)), ('logs', (3105, 11))]\n",
      "Training model for feature:  logs\n",
      "predict_proba:  [[0.52008617 0.02154272 0.02759826 0.04828125 0.3824916 ]\n",
      " [0.52008617 0.02154272 0.02759826 0.04828125 0.3824916 ]\n",
      " [0.52008617 0.02154272 0.02759826 0.04828125 0.3824916 ]\n",
      " ...\n",
      " [0.07359917 0.07797095 0.17851086 0.2208909  0.44902807]\n",
      " [0.07359917 0.07797095 0.17851086 0.2208909  0.44902807]\n",
      " [0.07103875 0.07818645 0.17900424 0.22150142 0.45026916]]\n",
      "Loading Well:  204-20-1  from  /home/administrator/Dropbox/core_data/facies/train_data\n"
     ]
    },
    {
     "name": "stderr",
     "output_type": "stream",
     "text": [
      "Header section Parameter regexp=~P was not found.\n"
     ]
    },
    {
     "name": "stdout",
     "output_type": "stream",
     "text": [
      "Adding NaN log:  DTS1\n",
      "Adding NaN log:  DTS2\n",
      "Feature shapes:  [('depth', (11210,)), ('top', (11210,)), ('base', (11210,)), ('logs', (11210, 11))]\n",
      "Loading Well:  204-20-2  from  /home/administrator/Dropbox/core_data/facies/train_data\n"
     ]
    },
    {
     "name": "stderr",
     "output_type": "stream",
     "text": [
      "Header section Parameter regexp=~P was not found.\n"
     ]
    },
    {
     "name": "stdout",
     "output_type": "stream",
     "text": [
      "Feature shapes:  [('depth', (2940,)), ('top', (2940,)), ('base', (2940,)), ('logs', (2940, 11))]\n",
      "Loading Well:  204-19-6  from  /home/administrator/Dropbox/core_data/facies/train_data\n"
     ]
    },
    {
     "name": "stderr",
     "output_type": "stream",
     "text": [
      "Header section Parameter regexp=~P was not found.\n"
     ]
    },
    {
     "name": "stdout",
     "output_type": "stream",
     "text": [
      "Adding NaN log:  DTS\n",
      "Feature shapes:  [('depth', (1884,)), ('top', (1884,)), ('base', (1884,)), ('logs', (1884, 11))]\n",
      "Loading Well:  204-24a-6  from  /home/administrator/Dropbox/core_data/facies/train_data\n"
     ]
    },
    {
     "name": "stderr",
     "output_type": "stream",
     "text": [
      "Header section Parameter regexp=~P was not found.\n"
     ]
    },
    {
     "name": "stdout",
     "output_type": "stream",
     "text": [
      "Adding NaN log:  SP\n",
      "Adding NaN log:  DTS1\n",
      "Adding NaN log:  DTS2\n",
      "Feature shapes:  [('depth', (13006,)), ('top', (13006,)), ('base', (13006,)), ('logs', (13006, 11))]\n",
      "Loading Well:  204-19-7  from  /home/administrator/Dropbox/core_data/facies/train_data\n"
     ]
    },
    {
     "name": "stderr",
     "output_type": "stream",
     "text": [
      "Header section Parameter regexp=~P was not found.\n"
     ]
    },
    {
     "name": "stdout",
     "output_type": "stream",
     "text": [
      "Adding NaN log:  DTS\n"
     ]
    },
    {
     "name": "stderr",
     "output_type": "stream",
     "text": [
      "Header section Parameter regexp=~P was not found.\n"
     ]
    },
    {
     "name": "stdout",
     "output_type": "stream",
     "text": [
      "Feature shapes:  [('depth', (9807,)), ('top', (9807,)), ('base', (9807,)), ('logs', (9807, 11))]\n",
      "Loading Well:  204-20-6a  from  /home/administrator/Dropbox/core_data/facies/train_data\n",
      "Adding NaN log:  SP\n",
      "Adding NaN log:  DTS1\n",
      "Adding NaN log:  DTS2\n",
      "Feature shapes:  [('depth', (3542,)), ('top', (3542,)), ('base', (3542,)), ('logs', (3542, 11))]\n",
      "Loading Well:  204-20-1Z  from  /home/administrator/Dropbox/core_data/facies/train_data\n"
     ]
    },
    {
     "name": "stderr",
     "output_type": "stream",
     "text": [
      "Header section Parameter regexp=~P was not found.\n"
     ]
    },
    {
     "name": "stdout",
     "output_type": "stream",
     "text": [
      "Adding NaN log:  SP\n",
      "Adding NaN log:  DTS1\n",
      "Adding NaN log:  DTS2\n",
      "Feature shapes:  [('depth', (1917,)), ('top', (1917,)), ('base', (1917,)), ('logs', (1917, 11))]\n",
      "Loading Well:  204-19-3A  from  /home/administrator/Dropbox/core_data/facies/train_data\n"
     ]
    },
    {
     "name": "stderr",
     "output_type": "stream",
     "text": [
      "Header section Parameter regexp=~P was not found.\n"
     ]
    },
    {
     "name": "stdout",
     "output_type": "stream",
     "text": [
      "Adding NaN log:  DTS\n",
      "Feature shapes:  [('depth', (9590,)), ('top', (9590,)), ('base', (9590,)), ('logs', (9590, 11))]\n",
      "Loading Well:  204-24a-7  from  /home/administrator/Dropbox/core_data/facies/train_data\n"
     ]
    },
    {
     "name": "stderr",
     "output_type": "stream",
     "text": [
      "Header section Parameter regexp=~P was not found.\n"
     ]
    },
    {
     "name": "stdout",
     "output_type": "stream",
     "text": [
      "Adding NaN log:  SP\n",
      "Adding NaN log:  DTS\n",
      "Feature shapes:  [('depth', (19294,)), ('top', (19294,)), ('base', (19294,)), ('logs', (19294, 11))]\n",
      "Loading Well:  205-21b-3  from  /home/administrator/Dropbox/core_data/facies/train_data\n"
     ]
    },
    {
     "name": "stderr",
     "output_type": "stream",
     "text": [
      "Header section Parameter regexp=~P was not found.\n"
     ]
    },
    {
     "name": "stdout",
     "output_type": "stream",
     "text": [
      "Adding NaN log:  SP\n",
      "Adding NaN log:  DTS\n",
      "Feature shapes:  [('depth', (3842,)), ('top', (3842,)), ('base', (3842,)), ('logs', (3842, 11))]\n",
      "Loading Well:  204-20-3  from  /home/administrator/Dropbox/core_data/facies/train_data\n"
     ]
    },
    {
     "name": "stderr",
     "output_type": "stream",
     "text": [
      "Header section Parameter regexp=~P was not found.\n"
     ]
    },
    {
     "name": "stdout",
     "output_type": "stream",
     "text": [
      "Feature shapes:  [('depth', (10906,)), ('top', (10906,)), ('base', (10906,)), ('logs', (10906, 11))]\n",
      "Loading Well:  204-20a-7  from  /home/administrator/Dropbox/core_data/facies/train_data\n"
     ]
    },
    {
     "name": "stderr",
     "output_type": "stream",
     "text": [
      "Header section Parameter regexp=~P was not found.\n"
     ]
    },
    {
     "name": "stdout",
     "output_type": "stream",
     "text": [
      "Adding NaN log:  DTS1\n",
      "Adding NaN log:  DTS2\n",
      "Feature shapes:  [('depth', (3105,)), ('top', (3105,)), ('base', (3105,)), ('logs', (3105, 11))]\n",
      "Training model for feature:  logs\n",
      "predict_proba:  [[0.130104   0.02122485 0.22306114 0.22919868 0.39641136]\n",
      " [0.130104   0.02122485 0.22306114 0.22919868 0.39641136]\n",
      " [0.12992227 0.02259199 0.22274958 0.22887853 0.39585763]\n",
      " ...\n",
      " [0.0219544  0.02598689 0.0672323  0.24206477 0.64276165]\n",
      " [0.0219544  0.02598689 0.0672323  0.24206477 0.64276165]\n",
      " [0.0219544  0.02598689 0.0672323  0.24206477 0.64276165]]\n"
     ]
    }
   ],
   "source": [
    "preds_df_3 = pred_results_df(3, make_params_usable(best_params_3))\n",
    "preds_df_3.to_csv('logs_xgb_results_train_sets3.csv')"
   ]
  },
  {
   "cell_type": "code",
   "execution_count": 10,
   "metadata": {},
   "outputs": [
    {
     "name": "stdout",
     "output_type": "stream",
     "text": [
      "Loading Well:  204-24a-7  from  /home/administrator/Dropbox/core_data/facies/train_data\n"
     ]
    },
    {
     "name": "stderr",
     "output_type": "stream",
     "text": [
      "Header section Parameter regexp=~P was not found.\n"
     ]
    },
    {
     "name": "stdout",
     "output_type": "stream",
     "text": [
      "Adding NaN log:  SP\n",
      "Adding NaN log:  DTS\n",
      "Feature shapes:  [('depth', (19294,)), ('top', (19294,)), ('base', (19294,)), ('logs', (19294, 11))]\n",
      "Loading Well:  204-24a-6  from  /home/administrator/Dropbox/core_data/facies/train_data\n"
     ]
    },
    {
     "name": "stderr",
     "output_type": "stream",
     "text": [
      "Header section Parameter regexp=~P was not found.\n"
     ]
    },
    {
     "name": "stdout",
     "output_type": "stream",
     "text": [
      "Adding NaN log:  SP\n",
      "Adding NaN log:  DTS1\n",
      "Adding NaN log:  DTS2\n",
      "Feature shapes:  [('depth', (13006,)), ('top', (13006,)), ('base', (13006,)), ('logs', (13006, 11))]\n",
      "Loading Well:  204-20-3  from  /home/administrator/Dropbox/core_data/facies/train_data\n"
     ]
    },
    {
     "name": "stderr",
     "output_type": "stream",
     "text": [
      "Header section Parameter regexp=~P was not found.\n"
     ]
    },
    {
     "name": "stdout",
     "output_type": "stream",
     "text": [
      "Feature shapes:  [('depth', (10906,)), ('top', (10906,)), ('base', (10906,)), ('logs', (10906, 11))]\n",
      "Loading Well:  204-20-6a  from  /home/administrator/Dropbox/core_data/facies/train_data\n"
     ]
    },
    {
     "name": "stderr",
     "output_type": "stream",
     "text": [
      "Header section Parameter regexp=~P was not found.\n"
     ]
    },
    {
     "name": "stdout",
     "output_type": "stream",
     "text": [
      "Adding NaN log:  SP\n",
      "Adding NaN log:  DTS1\n",
      "Adding NaN log:  DTS2\n",
      "Feature shapes:  [('depth', (3542,)), ('top', (3542,)), ('base', (3542,)), ('logs', (3542, 11))]\n",
      "Loading Well:  204-20a-7  from  /home/administrator/Dropbox/core_data/facies/train_data\n"
     ]
    },
    {
     "name": "stderr",
     "output_type": "stream",
     "text": [
      "Header section Parameter regexp=~P was not found.\n"
     ]
    },
    {
     "name": "stdout",
     "output_type": "stream",
     "text": [
      "Adding NaN log:  DTS1\n",
      "Adding NaN log:  DTS2\n",
      "Feature shapes:  [('depth', (3105,)), ('top', (3105,)), ('base', (3105,)), ('logs', (3105, 11))]\n",
      "Loading Well:  204-19-6  from  /home/administrator/Dropbox/core_data/facies/train_data\n"
     ]
    },
    {
     "name": "stderr",
     "output_type": "stream",
     "text": [
      "Header section Parameter regexp=~P was not found.\n"
     ]
    },
    {
     "name": "stdout",
     "output_type": "stream",
     "text": [
      "Adding NaN log:  DTS\n",
      "Feature shapes:  [('depth', (1884,)), ('top', (1884,)), ('base', (1884,)), ('logs', (1884, 11))]\n",
      "Loading Well:  204-20-1  from  /home/administrator/Dropbox/core_data/facies/train_data\n"
     ]
    },
    {
     "name": "stderr",
     "output_type": "stream",
     "text": [
      "Header section Parameter regexp=~P was not found.\n"
     ]
    },
    {
     "name": "stdout",
     "output_type": "stream",
     "text": [
      "Adding NaN log:  DTS1\n",
      "Adding NaN log:  DTS2\n",
      "Feature shapes:  [('depth', (11210,)), ('top', (11210,)), ('base', (11210,)), ('logs', (11210, 11))]\n",
      "Loading Well:  204-19-7  from  /home/administrator/Dropbox/core_data/facies/train_data\n"
     ]
    },
    {
     "name": "stderr",
     "output_type": "stream",
     "text": [
      "Header section Parameter regexp=~P was not found.\n"
     ]
    },
    {
     "name": "stdout",
     "output_type": "stream",
     "text": [
      "Adding NaN log:  DTS\n",
      "Feature shapes:  [('depth', (9807,)), ('top', (9807,)), ('base', (9807,)), ('logs', (9807, 11))]\n",
      "Loading Well:  204-20-2  from  /home/administrator/Dropbox/core_data/facies/train_data\n"
     ]
    },
    {
     "name": "stderr",
     "output_type": "stream",
     "text": [
      "Header section Parameter regexp=~P was not found.\n"
     ]
    },
    {
     "name": "stdout",
     "output_type": "stream",
     "text": [
      "Feature shapes:  [('depth', (2940,)), ('top', (2940,)), ('base', (2940,)), ('logs', (2940, 11))]\n",
      "Loading Well:  204-20-1Z  from  /home/administrator/Dropbox/core_data/facies/train_data\n"
     ]
    },
    {
     "name": "stderr",
     "output_type": "stream",
     "text": [
      "Header section Parameter regexp=~P was not found.\n"
     ]
    },
    {
     "name": "stdout",
     "output_type": "stream",
     "text": [
      "Adding NaN log:  SP\n",
      "Adding NaN log:  DTS1\n",
      "Adding NaN log:  DTS2\n",
      "Feature shapes:  [('depth', (1917,)), ('top', (1917,)), ('base', (1917,)), ('logs', (1917, 11))]\n",
      "Loading Well:  204-19-3A  from  /home/administrator/Dropbox/core_data/facies/train_data\n"
     ]
    },
    {
     "name": "stderr",
     "output_type": "stream",
     "text": [
      "Header section Parameter regexp=~P was not found.\n"
     ]
    },
    {
     "name": "stdout",
     "output_type": "stream",
     "text": [
      "Adding NaN log:  DTS\n",
      "Feature shapes:  [('depth', (9590,)), ('top', (9590,)), ('base', (9590,)), ('logs', (9590, 11))]\n",
      "Loading Well:  205-21b-3  from  /home/administrator/Dropbox/core_data/facies/train_data\n"
     ]
    },
    {
     "name": "stderr",
     "output_type": "stream",
     "text": [
      "Header section Parameter regexp=~P was not found.\n"
     ]
    },
    {
     "name": "stdout",
     "output_type": "stream",
     "text": [
      "Adding NaN log:  SP\n",
      "Adding NaN log:  DTS\n",
      "Feature shapes:  [('depth', (3842,)), ('top', (3842,)), ('base', (3842,)), ('logs', (3842, 11))]\n",
      "Training model for feature:  logs\n",
      "predict_proba:  [[0.13974883 0.18752031 0.11179355 0.18271099 0.37822634]\n",
      " [0.14854199 0.14011113 0.10754599 0.19420739 0.40959343]\n",
      " [0.1404941  0.12663706 0.10447248 0.18368538 0.44471097]\n",
      " ...\n",
      " [0.22531533 0.04305849 0.02072707 0.68674594 0.02415314]\n",
      " [0.22531533 0.04305849 0.02072707 0.68674594 0.02415314]\n",
      " [0.22531533 0.04305849 0.02072707 0.68674594 0.02415314]]\n",
      "Loading Well:  204-19-3A  from  /home/administrator/Dropbox/core_data/facies/train_data\n"
     ]
    },
    {
     "name": "stderr",
     "output_type": "stream",
     "text": [
      "Header section Parameter regexp=~P was not found.\n"
     ]
    },
    {
     "name": "stdout",
     "output_type": "stream",
     "text": [
      "Adding NaN log:  DTS\n",
      "Feature shapes:  [('depth', (9590,)), ('top', (9590,)), ('base', (9590,)), ('logs', (9590, 11))]\n",
      "Loading Well:  204-20-1  from  /home/administrator/Dropbox/core_data/facies/train_data\n"
     ]
    },
    {
     "name": "stderr",
     "output_type": "stream",
     "text": [
      "Header section Parameter regexp=~P was not found.\n"
     ]
    },
    {
     "name": "stdout",
     "output_type": "stream",
     "text": [
      "Adding NaN log:  DTS1\n",
      "Adding NaN log:  DTS2\n",
      "Feature shapes:  [('depth', (11210,)), ('top', (11210,)), ('base', (11210,)), ('logs', (11210, 11))]\n",
      "Loading Well:  204-19-7  from  /home/administrator/Dropbox/core_data/facies/train_data\n"
     ]
    },
    {
     "name": "stderr",
     "output_type": "stream",
     "text": [
      "Header section Parameter regexp=~P was not found.\n"
     ]
    },
    {
     "name": "stdout",
     "output_type": "stream",
     "text": [
      "Adding NaN log:  DTS\n",
      "Feature shapes:  [('depth', (9807,)), ('top', (9807,)), ('base', (9807,)), ('logs', (9807, 11))]\n",
      "Loading Well:  205-21b-3  from  /home/administrator/Dropbox/core_data/facies/train_data\n"
     ]
    },
    {
     "name": "stderr",
     "output_type": "stream",
     "text": [
      "Header section Parameter regexp=~P was not found.\n"
     ]
    },
    {
     "name": "stdout",
     "output_type": "stream",
     "text": [
      "Adding NaN log:  SP\n",
      "Adding NaN log:  DTS\n",
      "Feature shapes:  [('depth', (3842,)), ('top', (3842,)), ('base', (3842,)), ('logs', (3842, 11))]\n",
      "Loading Well:  204-20-2  from  /home/administrator/Dropbox/core_data/facies/train_data\n"
     ]
    },
    {
     "name": "stderr",
     "output_type": "stream",
     "text": [
      "Header section Parameter regexp=~P was not found.\n"
     ]
    },
    {
     "name": "stdout",
     "output_type": "stream",
     "text": [
      "Feature shapes:  [('depth', (2940,)), ('top', (2940,)), ('base', (2940,)), ('logs', (2940, 11))]\n",
      "Loading Well:  204-20-1Z  from  /home/administrator/Dropbox/core_data/facies/train_data\n"
     ]
    },
    {
     "name": "stderr",
     "output_type": "stream",
     "text": [
      "Header section Parameter regexp=~P was not found.\n"
     ]
    },
    {
     "name": "stdout",
     "output_type": "stream",
     "text": [
      "Adding NaN log:  SP\n",
      "Adding NaN log:  DTS1\n",
      "Adding NaN log:  DTS2\n",
      "Feature shapes:  [('depth', (1917,)), ('top', (1917,)), ('base', (1917,)), ('logs', (1917, 11))]\n",
      "Loading Well:  204-19-6  from  /home/administrator/Dropbox/core_data/facies/train_data\n"
     ]
    },
    {
     "name": "stderr",
     "output_type": "stream",
     "text": [
      "Header section Parameter regexp=~P was not found.\n"
     ]
    },
    {
     "name": "stdout",
     "output_type": "stream",
     "text": [
      "Adding NaN log:  DTS\n",
      "Feature shapes:  [('depth', (1884,)), ('top', (1884,)), ('base', (1884,)), ('logs', (1884, 11))]\n",
      "Loading Well:  204-24a-6  from  /home/administrator/Dropbox/core_data/facies/train_data\n"
     ]
    },
    {
     "name": "stderr",
     "output_type": "stream",
     "text": [
      "Header section Parameter regexp=~P was not found.\n"
     ]
    },
    {
     "name": "stdout",
     "output_type": "stream",
     "text": [
      "Adding NaN log:  SP\n",
      "Adding NaN log:  DTS1\n",
      "Adding NaN log:  DTS2\n",
      "Feature shapes:  [('depth', (13006,)), ('top', (13006,)), ('base', (13006,)), ('logs', (13006, 11))]\n",
      "Loading Well:  204-20-6a  from  /home/administrator/Dropbox/core_data/facies/train_data\n"
     ]
    },
    {
     "name": "stderr",
     "output_type": "stream",
     "text": [
      "Header section Parameter regexp=~P was not found.\n"
     ]
    },
    {
     "name": "stdout",
     "output_type": "stream",
     "text": [
      "Adding NaN log:  SP\n",
      "Adding NaN log:  DTS1\n",
      "Adding NaN log:  DTS2\n",
      "Feature shapes:  [('depth', (3542,)), ('top', (3542,)), ('base', (3542,)), ('logs', (3542, 11))]\n",
      "Loading Well:  204-24a-7  from  /home/administrator/Dropbox/core_data/facies/train_data\n"
     ]
    },
    {
     "name": "stderr",
     "output_type": "stream",
     "text": [
      "Header section Parameter regexp=~P was not found.\n"
     ]
    },
    {
     "name": "stdout",
     "output_type": "stream",
     "text": [
      "Adding NaN log:  SP\n",
      "Adding NaN log:  DTS\n",
      "Feature shapes:  [('depth', (19294,)), ('top', (19294,)), ('base', (19294,)), ('logs', (19294, 11))]\n",
      "Loading Well:  204-20-3  from  /home/administrator/Dropbox/core_data/facies/train_data\n"
     ]
    },
    {
     "name": "stderr",
     "output_type": "stream",
     "text": [
      "Header section Parameter regexp=~P was not found.\n"
     ]
    },
    {
     "name": "stdout",
     "output_type": "stream",
     "text": [
      "Feature shapes:  [('depth', (10906,)), ('top', (10906,)), ('base', (10906,)), ('logs', (10906, 11))]\n",
      "Loading Well:  204-20a-7  from  /home/administrator/Dropbox/core_data/facies/train_data\n"
     ]
    },
    {
     "name": "stderr",
     "output_type": "stream",
     "text": [
      "Header section Parameter regexp=~P was not found.\n"
     ]
    },
    {
     "name": "stdout",
     "output_type": "stream",
     "text": [
      "Adding NaN log:  DTS1\n",
      "Adding NaN log:  DTS2\n",
      "Feature shapes:  [('depth', (3105,)), ('top', (3105,)), ('base', (3105,)), ('logs', (3105, 11))]\n",
      "Training model for feature:  logs\n",
      "predict_proba:  [[0.54299694 0.08628185 0.01871542 0.04774927 0.30425647]\n",
      " [0.5926985  0.07689823 0.01668002 0.04255629 0.27116695]\n",
      " [0.6038768  0.07834854 0.01699461 0.0433589  0.2574211 ]\n",
      " ...\n",
      " [0.00820978 0.01110054 0.2922582  0.5707104  0.11772108]\n",
      " [0.0081403  0.0110066  0.29288322 0.5712451  0.11672477]\n",
      " [0.00754236 0.01019812 0.34482384 0.52928483 0.10815086]]\n",
      "Loading Well:  204-20-3  from  /home/administrator/Dropbox/core_data/facies/train_data\n"
     ]
    },
    {
     "name": "stderr",
     "output_type": "stream",
     "text": [
      "Header section Parameter regexp=~P was not found.\n"
     ]
    },
    {
     "name": "stdout",
     "output_type": "stream",
     "text": [
      "Feature shapes:  [('depth', (10906,)), ('top', (10906,)), ('base', (10906,)), ('logs', (10906, 11))]\n",
      "Loading Well:  204-20-1  from  /home/administrator/Dropbox/core_data/facies/train_data\n"
     ]
    },
    {
     "name": "stderr",
     "output_type": "stream",
     "text": [
      "Header section Parameter regexp=~P was not found.\n"
     ]
    },
    {
     "name": "stdout",
     "output_type": "stream",
     "text": [
      "Adding NaN log:  DTS1\n",
      "Adding NaN log:  DTS2\n",
      "Feature shapes:  [('depth', (11210,)), ('top', (11210,)), ('base', (11210,)), ('logs', (11210, 11))]\n",
      "Loading Well:  204-19-7  from  /home/administrator/Dropbox/core_data/facies/train_data\n"
     ]
    },
    {
     "name": "stderr",
     "output_type": "stream",
     "text": [
      "Header section Parameter regexp=~P was not found.\n"
     ]
    },
    {
     "name": "stdout",
     "output_type": "stream",
     "text": [
      "Adding NaN log:  DTS\n",
      "Feature shapes:  [('depth', (9807,)), ('top', (9807,)), ('base', (9807,)), ('logs', (9807, 11))]\n",
      "Loading Well:  205-21b-3  from  /home/administrator/Dropbox/core_data/facies/train_data\n"
     ]
    },
    {
     "name": "stderr",
     "output_type": "stream",
     "text": [
      "Header section Parameter regexp=~P was not found.\n"
     ]
    },
    {
     "name": "stdout",
     "output_type": "stream",
     "text": [
      "Adding NaN log:  SP\n",
      "Adding NaN log:  DTS\n",
      "Feature shapes:  [('depth', (3842,)), ('top', (3842,)), ('base', (3842,)), ('logs', (3842, 11))]\n",
      "Loading Well:  204-20-6a  from  /home/administrator/Dropbox/core_data/facies/train_data\n"
     ]
    },
    {
     "name": "stderr",
     "output_type": "stream",
     "text": [
      "Header section Parameter regexp=~P was not found.\n"
     ]
    },
    {
     "name": "stdout",
     "output_type": "stream",
     "text": [
      "Adding NaN log:  SP\n",
      "Adding NaN log:  DTS1\n",
      "Adding NaN log:  DTS2\n",
      "Feature shapes:  [('depth', (3542,)), ('top', (3542,)), ('base', (3542,)), ('logs', (3542, 11))]\n",
      "Loading Well:  204-20a-7  from  /home/administrator/Dropbox/core_data/facies/train_data\n"
     ]
    },
    {
     "name": "stderr",
     "output_type": "stream",
     "text": [
      "Header section Parameter regexp=~P was not found.\n"
     ]
    },
    {
     "name": "stdout",
     "output_type": "stream",
     "text": [
      "Adding NaN log:  DTS1\n",
      "Adding NaN log:  DTS2\n",
      "Feature shapes:  [('depth', (3105,)), ('top', (3105,)), ('base', (3105,)), ('logs', (3105, 11))]\n",
      "Loading Well:  204-19-6  from  /home/administrator/Dropbox/core_data/facies/train_data\n"
     ]
    },
    {
     "name": "stderr",
     "output_type": "stream",
     "text": [
      "Header section Parameter regexp=~P was not found.\n"
     ]
    },
    {
     "name": "stdout",
     "output_type": "stream",
     "text": [
      "Adding NaN log:  DTS\n",
      "Feature shapes:  [('depth', (1884,)), ('top', (1884,)), ('base', (1884,)), ('logs', (1884, 11))]\n",
      "Loading Well:  204-24a-6  from  /home/administrator/Dropbox/core_data/facies/train_data\n"
     ]
    },
    {
     "name": "stderr",
     "output_type": "stream",
     "text": [
      "Header section Parameter regexp=~P was not found.\n"
     ]
    },
    {
     "name": "stdout",
     "output_type": "stream",
     "text": [
      "Adding NaN log:  SP\n",
      "Adding NaN log:  DTS1\n",
      "Adding NaN log:  DTS2\n",
      "Feature shapes:  [('depth', (13006,)), ('top', (13006,)), ('base', (13006,)), ('logs', (13006, 11))]\n",
      "Loading Well:  204-20-2  from  /home/administrator/Dropbox/core_data/facies/train_data\n"
     ]
    },
    {
     "name": "stderr",
     "output_type": "stream",
     "text": [
      "Header section Parameter regexp=~P was not found.\n"
     ]
    },
    {
     "name": "stdout",
     "output_type": "stream",
     "text": [
      "Feature shapes:  [('depth', (2940,)), ('top', (2940,)), ('base', (2940,)), ('logs', (2940, 11))]\n",
      "Loading Well:  204-20-1Z  from  /home/administrator/Dropbox/core_data/facies/train_data\n"
     ]
    },
    {
     "name": "stderr",
     "output_type": "stream",
     "text": [
      "Header section Parameter regexp=~P was not found.\n"
     ]
    },
    {
     "name": "stdout",
     "output_type": "stream",
     "text": [
      "Adding NaN log:  SP\n",
      "Adding NaN log:  DTS1\n",
      "Adding NaN log:  DTS2\n",
      "Feature shapes:  [('depth', (1917,)), ('top', (1917,)), ('base', (1917,)), ('logs', (1917, 11))]\n",
      "Loading Well:  204-19-3A  from  /home/administrator/Dropbox/core_data/facies/train_data\n"
     ]
    },
    {
     "name": "stderr",
     "output_type": "stream",
     "text": [
      "Header section Parameter regexp=~P was not found.\n"
     ]
    },
    {
     "name": "stdout",
     "output_type": "stream",
     "text": [
      "Adding NaN log:  DTS\n",
      "Feature shapes:  [('depth', (9590,)), ('top', (9590,)), ('base', (9590,)), ('logs', (9590, 11))]\n",
      "Loading Well:  204-24a-7  from  /home/administrator/Dropbox/core_data/facies/train_data\n"
     ]
    },
    {
     "name": "stderr",
     "output_type": "stream",
     "text": [
      "Header section Parameter regexp=~P was not found.\n"
     ]
    },
    {
     "name": "stdout",
     "output_type": "stream",
     "text": [
      "Adding NaN log:  SP\n",
      "Adding NaN log:  DTS\n",
      "Feature shapes:  [('depth', (19294,)), ('top', (19294,)), ('base', (19294,)), ('logs', (19294, 11))]\n",
      "Training model for feature:  logs\n",
      "predict_proba:  [[0.5178043  0.25870684 0.04160369 0.02629956 0.15558562]\n",
      " [0.5149263  0.2509222  0.0403518  0.02550819 0.1682915 ]\n",
      " [0.5149263  0.2509222  0.0403518  0.02550819 0.1682915 ]\n",
      " ...\n",
      " [0.08460303 0.65295815 0.20981815 0.01960625 0.0330144 ]\n",
      " [0.08460303 0.65295815 0.20981815 0.01960625 0.0330144 ]\n",
      " [0.08460303 0.65295815 0.20981815 0.01960625 0.0330144 ]]\n"
     ]
    }
   ],
   "source": [
    "preds_df_6 = pred_results_df(6, make_params_usable(best_params_6))\n",
    "preds_df_6.to_csv('logs_xgb_results_train_sets6.csv')"
   ]
  },
  {
   "cell_type": "code",
   "execution_count": 11,
   "metadata": {},
   "outputs": [
    {
     "name": "stdout",
     "output_type": "stream",
     "text": [
      "Loading Well:  204-19-3A  from  /home/administrator/Dropbox/core_data/facies/train_data\n"
     ]
    },
    {
     "name": "stderr",
     "output_type": "stream",
     "text": [
      "Header section Parameter regexp=~P was not found.\n"
     ]
    },
    {
     "name": "stdout",
     "output_type": "stream",
     "text": [
      "Adding NaN log:  DTS\n",
      "Feature shapes:  [('depth', (9590,)), ('top', (9590,)), ('base', (9590,)), ('logs', (9590, 11))]\n",
      "Loading Well:  204-20-1  from  /home/administrator/Dropbox/core_data/facies/train_data\n"
     ]
    },
    {
     "name": "stderr",
     "output_type": "stream",
     "text": [
      "Header section Parameter regexp=~P was not found.\n"
     ]
    },
    {
     "name": "stdout",
     "output_type": "stream",
     "text": [
      "Adding NaN log:  DTS1\n",
      "Adding NaN log:  DTS2\n",
      "Feature shapes:  [('depth', (11210,)), ('top', (11210,)), ('base', (11210,)), ('logs', (11210, 11))]\n",
      "Loading Well:  204-19-7  from  /home/administrator/Dropbox/core_data/facies/train_data\n"
     ]
    },
    {
     "name": "stderr",
     "output_type": "stream",
     "text": [
      "Header section Parameter regexp=~P was not found.\n"
     ]
    },
    {
     "name": "stdout",
     "output_type": "stream",
     "text": [
      "Adding NaN log:  DTS\n",
      "Feature shapes:  [('depth', (9807,)), ('top', (9807,)), ('base', (9807,)), ('logs', (9807, 11))]\n",
      "Loading Well:  205-21b-3  from  /home/administrator/Dropbox/core_data/facies/train_data\n"
     ]
    },
    {
     "name": "stderr",
     "output_type": "stream",
     "text": [
      "Header section Parameter regexp=~P was not found.\n"
     ]
    },
    {
     "name": "stdout",
     "output_type": "stream",
     "text": [
      "Adding NaN log:  SP\n",
      "Adding NaN log:  DTS\n",
      "Feature shapes:  [('depth', (3842,)), ('top', (3842,)), ('base', (3842,)), ('logs', (3842, 11))]\n",
      "Loading Well:  204-20-6a  from  /home/administrator/Dropbox/core_data/facies/train_data\n"
     ]
    },
    {
     "name": "stderr",
     "output_type": "stream",
     "text": [
      "Header section Parameter regexp=~P was not found.\n"
     ]
    },
    {
     "name": "stdout",
     "output_type": "stream",
     "text": [
      "Adding NaN log:  SP\n",
      "Adding NaN log:  DTS1\n",
      "Adding NaN log:  DTS2\n",
      "Feature shapes:  [('depth', (3542,)), ('top', (3542,)), ('base', (3542,)), ('logs', (3542, 11))]\n",
      "Loading Well:  204-20a-7  from  /home/administrator/Dropbox/core_data/facies/train_data\n"
     ]
    },
    {
     "name": "stderr",
     "output_type": "stream",
     "text": [
      "Header section Parameter regexp=~P was not found.\n"
     ]
    },
    {
     "name": "stdout",
     "output_type": "stream",
     "text": [
      "Adding NaN log:  DTS1\n",
      "Adding NaN log:  DTS2\n",
      "Feature shapes:  [('depth', (3105,)), ('top', (3105,)), ('base', (3105,)), ('logs', (3105, 11))]\n",
      "Loading Well:  204-20-2  from  /home/administrator/Dropbox/core_data/facies/train_data\n"
     ]
    },
    {
     "name": "stderr",
     "output_type": "stream",
     "text": [
      "Header section Parameter regexp=~P was not found.\n"
     ]
    },
    {
     "name": "stdout",
     "output_type": "stream",
     "text": [
      "Feature shapes:  [('depth', (2940,)), ('top', (2940,)), ('base', (2940,)), ('logs', (2940, 11))]\n",
      "Loading Well:  204-19-6  from  /home/administrator/Dropbox/core_data/facies/train_data\n"
     ]
    },
    {
     "name": "stderr",
     "output_type": "stream",
     "text": [
      "Header section Parameter regexp=~P was not found.\n"
     ]
    },
    {
     "name": "stdout",
     "output_type": "stream",
     "text": [
      "Adding NaN log:  DTS\n",
      "Feature shapes:  [('depth', (1884,)), ('top', (1884,)), ('base', (1884,)), ('logs', (1884, 11))]\n",
      "Loading Well:  204-20-1Z  from  /home/administrator/Dropbox/core_data/facies/train_data\n"
     ]
    },
    {
     "name": "stderr",
     "output_type": "stream",
     "text": [
      "Header section Parameter regexp=~P was not found.\n"
     ]
    },
    {
     "name": "stdout",
     "output_type": "stream",
     "text": [
      "Adding NaN log:  SP\n",
      "Adding NaN log:  DTS1\n",
      "Adding NaN log:  DTS2\n",
      "Feature shapes:  [('depth', (1917,)), ('top', (1917,)), ('base', (1917,)), ('logs', (1917, 11))]\n",
      "Loading Well:  204-24a-6  from  /home/administrator/Dropbox/core_data/facies/train_data\n"
     ]
    },
    {
     "name": "stderr",
     "output_type": "stream",
     "text": [
      "Header section Parameter regexp=~P was not found.\n"
     ]
    },
    {
     "name": "stdout",
     "output_type": "stream",
     "text": [
      "Adding NaN log:  SP\n",
      "Adding NaN log:  DTS1\n",
      "Adding NaN log:  DTS2\n",
      "Feature shapes:  [('depth', (13006,)), ('top', (13006,)), ('base', (13006,)), ('logs', (13006, 11))]\n",
      "Loading Well:  204-24a-7  from  /home/administrator/Dropbox/core_data/facies/train_data\n"
     ]
    },
    {
     "name": "stderr",
     "output_type": "stream",
     "text": [
      "Header section Parameter regexp=~P was not found.\n"
     ]
    },
    {
     "name": "stdout",
     "output_type": "stream",
     "text": [
      "Adding NaN log:  SP\n",
      "Adding NaN log:  DTS\n",
      "Feature shapes:  [('depth', (19294,)), ('top', (19294,)), ('base', (19294,)), ('logs', (19294, 11))]\n",
      "Loading Well:  204-20-3  from  /home/administrator/Dropbox/core_data/facies/train_data\n"
     ]
    },
    {
     "name": "stderr",
     "output_type": "stream",
     "text": [
      "Header section Parameter regexp=~P was not found.\n"
     ]
    },
    {
     "name": "stdout",
     "output_type": "stream",
     "text": [
      "Feature shapes:  [('depth', (10906,)), ('top', (10906,)), ('base', (10906,)), ('logs', (10906, 11))]\n",
      "Training model for feature:  logs\n",
      "predict_proba:  [[0.39045396 0.06722171 0.15707366 0.14540136 0.23984933]\n",
      " [0.39045396 0.06722171 0.15707366 0.14540136 0.23984933]\n",
      " [0.39045396 0.06722171 0.15707366 0.14540136 0.23984933]\n",
      " ...\n",
      " [0.20222943 0.28201747 0.05331446 0.06355704 0.3988816 ]\n",
      " [0.20222943 0.28201747 0.05331446 0.06355704 0.3988816 ]\n",
      " [0.07125    0.8059578  0.01878389 0.02062707 0.08338124]]\n",
      "Loading Well:  204-24a-7  from  /home/administrator/Dropbox/core_data/facies/train_data\n"
     ]
    },
    {
     "name": "stderr",
     "output_type": "stream",
     "text": [
      "Header section Parameter regexp=~P was not found.\n"
     ]
    },
    {
     "name": "stdout",
     "output_type": "stream",
     "text": [
      "Adding NaN log:  SP\n",
      "Adding NaN log:  DTS\n",
      "Feature shapes:  [('depth', (19294,)), ('top', (19294,)), ('base', (19294,)), ('logs', (19294, 11))]\n",
      "Loading Well:  204-24a-6  from  /home/administrator/Dropbox/core_data/facies/train_data\n"
     ]
    },
    {
     "name": "stderr",
     "output_type": "stream",
     "text": [
      "Header section Parameter regexp=~P was not found.\n"
     ]
    },
    {
     "name": "stdout",
     "output_type": "stream",
     "text": [
      "Adding NaN log:  SP\n",
      "Adding NaN log:  DTS1\n",
      "Adding NaN log:  DTS2\n",
      "Feature shapes:  [('depth', (13006,)), ('top', (13006,)), ('base', (13006,)), ('logs', (13006, 11))]\n",
      "Loading Well:  204-19-3A  from  /home/administrator/Dropbox/core_data/facies/train_data\n"
     ]
    },
    {
     "name": "stderr",
     "output_type": "stream",
     "text": [
      "Header section Parameter regexp=~P was not found.\n"
     ]
    },
    {
     "name": "stdout",
     "output_type": "stream",
     "text": [
      "Adding NaN log:  DTS\n",
      "Feature shapes:  [('depth', (9590,)), ('top', (9590,)), ('base', (9590,)), ('logs', (9590, 11))]\n",
      "Loading Well:  204-19-7  from  /home/administrator/Dropbox/core_data/facies/train_data\n"
     ]
    },
    {
     "name": "stderr",
     "output_type": "stream",
     "text": [
      "Header section Parameter regexp=~P was not found.\n"
     ]
    },
    {
     "name": "stdout",
     "output_type": "stream",
     "text": [
      "Adding NaN log:  DTS\n",
      "Feature shapes:  [('depth', (9807,)), ('top', (9807,)), ('base', (9807,)), ('logs', (9807, 11))]\n",
      "Loading Well:  205-21b-3  from  /home/administrator/Dropbox/core_data/facies/train_data\n"
     ]
    },
    {
     "name": "stderr",
     "output_type": "stream",
     "text": [
      "Header section Parameter regexp=~P was not found.\n"
     ]
    },
    {
     "name": "stdout",
     "output_type": "stream",
     "text": [
      "Adding NaN log:  SP\n",
      "Adding NaN log:  DTS\n",
      "Feature shapes:  [('depth', (3842,)), ('top', (3842,)), ('base', (3842,)), ('logs', (3842, 11))]\n",
      "Loading Well:  204-20-6a  from  /home/administrator/Dropbox/core_data/facies/train_data\n"
     ]
    },
    {
     "name": "stderr",
     "output_type": "stream",
     "text": [
      "Header section Parameter regexp=~P was not found.\n"
     ]
    },
    {
     "name": "stdout",
     "output_type": "stream",
     "text": [
      "Adding NaN log:  SP\n",
      "Adding NaN log:  DTS1\n",
      "Adding NaN log:  DTS2\n",
      "Feature shapes:  [('depth', (3542,)), ('top', (3542,)), ('base', (3542,)), ('logs', (3542, 11))]\n",
      "Loading Well:  204-20a-7  from  /home/administrator/Dropbox/core_data/facies/train_data\n"
     ]
    },
    {
     "name": "stderr",
     "output_type": "stream",
     "text": [
      "Header section Parameter regexp=~P was not found.\n"
     ]
    },
    {
     "name": "stdout",
     "output_type": "stream",
     "text": [
      "Adding NaN log:  DTS1\n",
      "Adding NaN log:  DTS2\n",
      "Feature shapes:  [('depth', (3105,)), ('top', (3105,)), ('base', (3105,)), ('logs', (3105, 11))]\n",
      "Loading Well:  204-20-2  from  /home/administrator/Dropbox/core_data/facies/train_data\n"
     ]
    },
    {
     "name": "stderr",
     "output_type": "stream",
     "text": [
      "Header section Parameter regexp=~P was not found.\n"
     ]
    },
    {
     "name": "stdout",
     "output_type": "stream",
     "text": [
      "Feature shapes:  [('depth', (2940,)), ('top', (2940,)), ('base', (2940,)), ('logs', (2940, 11))]\n",
      "Loading Well:  204-20-1Z  from  /home/administrator/Dropbox/core_data/facies/train_data\n"
     ]
    },
    {
     "name": "stderr",
     "output_type": "stream",
     "text": [
      "Header section Parameter regexp=~P was not found.\n"
     ]
    },
    {
     "name": "stdout",
     "output_type": "stream",
     "text": [
      "Adding NaN log:  SP\n",
      "Adding NaN log:  DTS1\n",
      "Adding NaN log:  DTS2\n",
      "Feature shapes:  [('depth', (1917,)), ('top', (1917,)), ('base', (1917,)), ('logs', (1917, 11))]\n",
      "Loading Well:  204-19-6  from  /home/administrator/Dropbox/core_data/facies/train_data\n"
     ]
    },
    {
     "name": "stderr",
     "output_type": "stream",
     "text": [
      "Header section Parameter regexp=~P was not found.\n"
     ]
    },
    {
     "name": "stdout",
     "output_type": "stream",
     "text": [
      "Adding NaN log:  DTS\n",
      "Feature shapes:  [('depth', (1884,)), ('top', (1884,)), ('base', (1884,)), ('logs', (1884, 11))]\n",
      "Loading Well:  204-20-1  from  /home/administrator/Dropbox/core_data/facies/train_data\n"
     ]
    },
    {
     "name": "stderr",
     "output_type": "stream",
     "text": [
      "Header section Parameter regexp=~P was not found.\n"
     ]
    },
    {
     "name": "stdout",
     "output_type": "stream",
     "text": [
      "Adding NaN log:  DTS1\n",
      "Adding NaN log:  DTS2\n",
      "Feature shapes:  [('depth', (11210,)), ('top', (11210,)), ('base', (11210,)), ('logs', (11210, 11))]\n",
      "Loading Well:  204-20-3  from  /home/administrator/Dropbox/core_data/facies/train_data\n"
     ]
    },
    {
     "name": "stderr",
     "output_type": "stream",
     "text": [
      "Header section Parameter regexp=~P was not found.\n"
     ]
    },
    {
     "name": "stdout",
     "output_type": "stream",
     "text": [
      "Feature shapes:  [('depth', (10906,)), ('top', (10906,)), ('base', (10906,)), ('logs', (10906, 11))]\n",
      "Training model for feature:  logs\n",
      "predict_proba:  [[0.50499403 0.15712982 0.06833392 0.18115851 0.0883837 ]\n",
      " [0.5402202  0.14290603 0.06214816 0.16885935 0.08586624]\n",
      " [0.5705495  0.12942687 0.05027579 0.16159266 0.0881552 ]\n",
      " ...\n",
      " [0.06507351 0.3867293  0.26974273 0.04727066 0.23118383]\n",
      " [0.06635074 0.3943198  0.25540963 0.04819845 0.23572138]\n",
      " [0.03302959 0.6992444  0.12714367 0.02323962 0.11734278]]\n",
      "Loading Well:  204-24a-7  from  /home/administrator/Dropbox/core_data/facies/train_data\n"
     ]
    },
    {
     "name": "stderr",
     "output_type": "stream",
     "text": [
      "Header section Parameter regexp=~P was not found.\n"
     ]
    },
    {
     "name": "stdout",
     "output_type": "stream",
     "text": [
      "Adding NaN log:  SP\n",
      "Adding NaN log:  DTS\n",
      "Feature shapes:  [('depth', (19294,)), ('top', (19294,)), ('base', (19294,)), ('logs', (19294, 11))]\n",
      "Loading Well:  204-24a-6  from  /home/administrator/Dropbox/core_data/facies/train_data\n"
     ]
    },
    {
     "name": "stderr",
     "output_type": "stream",
     "text": [
      "Header section Parameter regexp=~P was not found.\n"
     ]
    },
    {
     "name": "stdout",
     "output_type": "stream",
     "text": [
      "Adding NaN log:  SP\n",
      "Adding NaN log:  DTS1\n",
      "Adding NaN log:  DTS2\n",
      "Feature shapes:  [('depth', (13006,)), ('top', (13006,)), ('base', (13006,)), ('logs', (13006, 11))]\n",
      "Loading Well:  204-20-3  from  /home/administrator/Dropbox/core_data/facies/train_data\n"
     ]
    },
    {
     "name": "stderr",
     "output_type": "stream",
     "text": [
      "Header section Parameter regexp=~P was not found.\n"
     ]
    },
    {
     "name": "stdout",
     "output_type": "stream",
     "text": [
      "Feature shapes:  [('depth', (10906,)), ('top', (10906,)), ('base', (10906,)), ('logs', (10906, 11))]\n",
      "Loading Well:  204-20-1  from  /home/administrator/Dropbox/core_data/facies/train_data\n"
     ]
    },
    {
     "name": "stderr",
     "output_type": "stream",
     "text": [
      "Header section Parameter regexp=~P was not found.\n"
     ]
    },
    {
     "name": "stdout",
     "output_type": "stream",
     "text": [
      "Adding NaN log:  DTS1\n",
      "Adding NaN log:  DTS2\n",
      "Feature shapes:  [('depth', (11210,)), ('top', (11210,)), ('base', (11210,)), ('logs', (11210, 11))]\n",
      "Loading Well:  204-20-6a  from  /home/administrator/Dropbox/core_data/facies/train_data\n"
     ]
    },
    {
     "name": "stderr",
     "output_type": "stream",
     "text": [
      "Header section Parameter regexp=~P was not found.\n"
     ]
    },
    {
     "name": "stdout",
     "output_type": "stream",
     "text": [
      "Adding NaN log:  SP\n",
      "Adding NaN log:  DTS1\n",
      "Adding NaN log:  DTS2\n",
      "Feature shapes:  [('depth', (3542,)), ('top', (3542,)), ('base', (3542,)), ('logs', (3542, 11))]\n",
      "Loading Well:  204-20a-7  from  /home/administrator/Dropbox/core_data/facies/train_data\n"
     ]
    },
    {
     "name": "stderr",
     "output_type": "stream",
     "text": [
      "Header section Parameter regexp=~P was not found.\n"
     ]
    },
    {
     "name": "stdout",
     "output_type": "stream",
     "text": [
      "Adding NaN log:  DTS1\n",
      "Adding NaN log:  DTS2\n",
      "Feature shapes:  [('depth', (3105,)), ('top', (3105,)), ('base', (3105,)), ('logs', (3105, 11))]\n",
      "Loading Well:  204-20-2  from  /home/administrator/Dropbox/core_data/facies/train_data\n"
     ]
    },
    {
     "name": "stderr",
     "output_type": "stream",
     "text": [
      "Header section Parameter regexp=~P was not found.\n"
     ]
    },
    {
     "name": "stdout",
     "output_type": "stream",
     "text": [
      "Feature shapes:  [('depth', (2940,)), ('top', (2940,)), ('base', (2940,)), ('logs', (2940, 11))]\n",
      "Loading Well:  204-19-6  from  /home/administrator/Dropbox/core_data/facies/train_data\n"
     ]
    },
    {
     "name": "stderr",
     "output_type": "stream",
     "text": [
      "Header section Parameter regexp=~P was not found.\n"
     ]
    },
    {
     "name": "stdout",
     "output_type": "stream",
     "text": [
      "Adding NaN log:  DTS\n",
      "Feature shapes:  [('depth', (1884,)), ('top', (1884,)), ('base', (1884,)), ('logs', (1884, 11))]\n",
      "Loading Well:  204-20-1Z  from  /home/administrator/Dropbox/core_data/facies/train_data\n"
     ]
    },
    {
     "name": "stderr",
     "output_type": "stream",
     "text": [
      "Header section Parameter regexp=~P was not found.\n"
     ]
    },
    {
     "name": "stdout",
     "output_type": "stream",
     "text": [
      "Adding NaN log:  SP\n",
      "Adding NaN log:  DTS1\n",
      "Adding NaN log:  DTS2\n",
      "Feature shapes:  [('depth', (1917,)), ('top', (1917,)), ('base', (1917,)), ('logs', (1917, 11))]\n",
      "Loading Well:  204-19-7  from  /home/administrator/Dropbox/core_data/facies/train_data\n"
     ]
    },
    {
     "name": "stderr",
     "output_type": "stream",
     "text": [
      "Header section Parameter regexp=~P was not found.\n"
     ]
    },
    {
     "name": "stdout",
     "output_type": "stream",
     "text": [
      "Adding NaN log:  DTS\n",
      "Feature shapes:  [('depth', (9807,)), ('top', (9807,)), ('base', (9807,)), ('logs', (9807, 11))]\n",
      "Loading Well:  204-19-3A  from  /home/administrator/Dropbox/core_data/facies/train_data\n"
     ]
    },
    {
     "name": "stderr",
     "output_type": "stream",
     "text": [
      "Header section Parameter regexp=~P was not found.\n"
     ]
    },
    {
     "name": "stdout",
     "output_type": "stream",
     "text": [
      "Adding NaN log:  DTS\n",
      "Feature shapes:  [('depth', (9590,)), ('top', (9590,)), ('base', (9590,)), ('logs', (9590, 11))]\n",
      "Loading Well:  205-21b-3  from  /home/administrator/Dropbox/core_data/facies/train_data\n"
     ]
    },
    {
     "name": "stderr",
     "output_type": "stream",
     "text": [
      "Header section Parameter regexp=~P was not found.\n"
     ]
    },
    {
     "name": "stdout",
     "output_type": "stream",
     "text": [
      "Adding NaN log:  SP\n",
      "Adding NaN log:  DTS\n",
      "Feature shapes:  [('depth', (3842,)), ('top', (3842,)), ('base', (3842,)), ('logs', (3842, 11))]\n",
      "Training model for feature:  logs\n",
      "predict_proba:  [[0.0905811  0.06074808 0.12568405 0.04368788 0.6792989 ]\n",
      " [0.09108742 0.05549799 0.12638658 0.04393208 0.68309593]\n",
      " [0.08108775 0.03822483 0.14118522 0.03910917 0.700393  ]\n",
      " ...\n",
      " [0.24134491 0.03218095 0.01027599 0.66905975 0.04713842]\n",
      " [0.24134491 0.03218095 0.01027599 0.66905975 0.04713842]\n",
      " [0.24134491 0.03218095 0.01027599 0.66905975 0.04713842]]\n"
     ]
    }
   ],
   "source": [
    "preds_df_9 = pred_results_df(9, make_params_usable(best_params_9))\n",
    "preds_df_9.to_csv('logs_xgb_results_train_sets9.csv')"
   ]
  },
  {
   "cell_type": "code",
   "execution_count": 12,
   "metadata": {},
   "outputs": [
    {
     "data": {
      "text/plain": [
       "((152880, 25), (108025, 25), (71560, 25))"
      ]
     },
     "execution_count": 12,
     "metadata": {},
     "output_type": "execute_result"
    }
   ],
   "source": [
    "preds_df_3.shape, preds_df_6.shape, preds_df_9.shape"
   ]
  },
  {
   "cell_type": "code",
   "execution_count": 13,
   "metadata": {},
   "outputs": [
    {
     "data": {
      "text/html": [
       "<div>\n",
       "<style scoped>\n",
       "    .dataframe tbody tr th:only-of-type {\n",
       "        vertical-align: middle;\n",
       "    }\n",
       "\n",
       "    .dataframe tbody tr th {\n",
       "        vertical-align: top;\n",
       "    }\n",
       "\n",
       "    .dataframe thead th {\n",
       "        text-align: right;\n",
       "    }\n",
       "</style>\n",
       "<table border=\"1\" class=\"dataframe\">\n",
       "  <thead>\n",
       "    <tr style=\"text-align: right;\">\n",
       "      <th></th>\n",
       "      <th>base</th>\n",
       "      <th>confidence</th>\n",
       "      <th>depth</th>\n",
       "      <th>proba_0</th>\n",
       "      <th>proba_1</th>\n",
       "      <th>proba_2</th>\n",
       "      <th>proba_3</th>\n",
       "      <th>proba_4</th>\n",
       "      <th>regression</th>\n",
       "      <th>top</th>\n",
       "      <th>...</th>\n",
       "      <th>NEUT</th>\n",
       "      <th>PEF</th>\n",
       "      <th>RDEP</th>\n",
       "      <th>RSHAL</th>\n",
       "      <th>DTC</th>\n",
       "      <th>DTS</th>\n",
       "      <th>DTS1</th>\n",
       "      <th>DTS2</th>\n",
       "      <th>well</th>\n",
       "      <th>set_number</th>\n",
       "    </tr>\n",
       "  </thead>\n",
       "  <tbody>\n",
       "    <tr>\n",
       "      <th>0</th>\n",
       "      <td>2208.085920</td>\n",
       "      <td>0.558097</td>\n",
       "      <td>2208.083152</td>\n",
       "      <td>0.162600</td>\n",
       "      <td>0.080687</td>\n",
       "      <td>0.558097</td>\n",
       "      <td>0.190883</td>\n",
       "      <td>0.007732</td>\n",
       "      <td>1.660552</td>\n",
       "      <td>2208.080550</td>\n",
       "      <td>...</td>\n",
       "      <td>-1.084784</td>\n",
       "      <td>-1.730394</td>\n",
       "      <td>1.346995</td>\n",
       "      <td>1.233757</td>\n",
       "      <td>1.417721</td>\n",
       "      <td>0.0</td>\n",
       "      <td>-0.148382</td>\n",
       "      <td>-0.483111</td>\n",
       "      <td>204-19-6</td>\n",
       "      <td>0</td>\n",
       "    </tr>\n",
       "    <tr>\n",
       "      <th>1</th>\n",
       "      <td>2208.091290</td>\n",
       "      <td>0.557830</td>\n",
       "      <td>2208.088522</td>\n",
       "      <td>0.162522</td>\n",
       "      <td>0.080648</td>\n",
       "      <td>0.557830</td>\n",
       "      <td>0.190792</td>\n",
       "      <td>0.008208</td>\n",
       "      <td>1.661818</td>\n",
       "      <td>2208.085920</td>\n",
       "      <td>...</td>\n",
       "      <td>-1.104229</td>\n",
       "      <td>-1.742244</td>\n",
       "      <td>1.349403</td>\n",
       "      <td>1.233453</td>\n",
       "      <td>1.421162</td>\n",
       "      <td>0.0</td>\n",
       "      <td>-0.136087</td>\n",
       "      <td>-0.474946</td>\n",
       "      <td>204-19-6</td>\n",
       "      <td>0</td>\n",
       "    </tr>\n",
       "    <tr>\n",
       "      <th>2</th>\n",
       "      <td>2208.096661</td>\n",
       "      <td>0.596532</td>\n",
       "      <td>2208.093892</td>\n",
       "      <td>0.157963</td>\n",
       "      <td>0.075003</td>\n",
       "      <td>0.596532</td>\n",
       "      <td>0.162869</td>\n",
       "      <td>0.007634</td>\n",
       "      <td>1.644650</td>\n",
       "      <td>2208.091290</td>\n",
       "      <td>...</td>\n",
       "      <td>-1.123674</td>\n",
       "      <td>-1.754094</td>\n",
       "      <td>1.351810</td>\n",
       "      <td>1.233149</td>\n",
       "      <td>1.424602</td>\n",
       "      <td>0.0</td>\n",
       "      <td>-0.123793</td>\n",
       "      <td>-0.466782</td>\n",
       "      <td>204-19-6</td>\n",
       "      <td>0</td>\n",
       "    </tr>\n",
       "    <tr>\n",
       "      <th>3</th>\n",
       "      <td>2208.102031</td>\n",
       "      <td>0.596227</td>\n",
       "      <td>2208.099262</td>\n",
       "      <td>0.158082</td>\n",
       "      <td>0.075059</td>\n",
       "      <td>0.596227</td>\n",
       "      <td>0.162992</td>\n",
       "      <td>0.007639</td>\n",
       "      <td>1.644456</td>\n",
       "      <td>2208.096661</td>\n",
       "      <td>...</td>\n",
       "      <td>-1.142953</td>\n",
       "      <td>-1.765778</td>\n",
       "      <td>1.354180</td>\n",
       "      <td>1.232846</td>\n",
       "      <td>1.428043</td>\n",
       "      <td>0.0</td>\n",
       "      <td>-0.111576</td>\n",
       "      <td>-0.458599</td>\n",
       "      <td>204-19-6</td>\n",
       "      <td>0</td>\n",
       "    </tr>\n",
       "    <tr>\n",
       "      <th>4</th>\n",
       "      <td>2208.107401</td>\n",
       "      <td>0.497442</td>\n",
       "      <td>2208.104632</td>\n",
       "      <td>0.193944</td>\n",
       "      <td>0.099274</td>\n",
       "      <td>0.497442</td>\n",
       "      <td>0.199968</td>\n",
       "      <td>0.009372</td>\n",
       "      <td>1.577861</td>\n",
       "      <td>2208.102031</td>\n",
       "      <td>...</td>\n",
       "      <td>-1.147980</td>\n",
       "      <td>-1.763182</td>\n",
       "      <td>1.353276</td>\n",
       "      <td>1.232685</td>\n",
       "      <td>1.431540</td>\n",
       "      <td>0.0</td>\n",
       "      <td>-0.106107</td>\n",
       "      <td>-0.448906</td>\n",
       "      <td>204-19-6</td>\n",
       "      <td>0</td>\n",
       "    </tr>\n",
       "  </tbody>\n",
       "</table>\n",
       "<p>5 rows × 25 columns</p>\n",
       "</div>"
      ],
      "text/plain": [
       "          base  confidence        depth   proba_0   proba_1   proba_2  \\\n",
       "0  2208.085920    0.558097  2208.083152  0.162600  0.080687  0.558097   \n",
       "1  2208.091290    0.557830  2208.088522  0.162522  0.080648  0.557830   \n",
       "2  2208.096661    0.596532  2208.093892  0.157963  0.075003  0.596532   \n",
       "3  2208.102031    0.596227  2208.099262  0.158082  0.075059  0.596227   \n",
       "4  2208.107401    0.497442  2208.104632  0.193944  0.099274  0.497442   \n",
       "\n",
       "    proba_3   proba_4  regression          top     ...          NEUT  \\\n",
       "0  0.190883  0.007732    1.660552  2208.080550     ...     -1.084784   \n",
       "1  0.190792  0.008208    1.661818  2208.085920     ...     -1.104229   \n",
       "2  0.162869  0.007634    1.644650  2208.091290     ...     -1.123674   \n",
       "3  0.162992  0.007639    1.644456  2208.096661     ...     -1.142953   \n",
       "4  0.199968  0.009372    1.577861  2208.102031     ...     -1.147980   \n",
       "\n",
       "        PEF      RDEP     RSHAL       DTC  DTS      DTS1      DTS2      well  \\\n",
       "0 -1.730394  1.346995  1.233757  1.417721  0.0 -0.148382 -0.483111  204-19-6   \n",
       "1 -1.742244  1.349403  1.233453  1.421162  0.0 -0.136087 -0.474946  204-19-6   \n",
       "2 -1.754094  1.351810  1.233149  1.424602  0.0 -0.123793 -0.466782  204-19-6   \n",
       "3 -1.765778  1.354180  1.232846  1.428043  0.0 -0.111576 -0.458599  204-19-6   \n",
       "4 -1.763182  1.353276  1.232685  1.431540  0.0 -0.106107 -0.448906  204-19-6   \n",
       "\n",
       "   set_number  \n",
       "0           0  \n",
       "1           0  \n",
       "2           0  \n",
       "3           0  \n",
       "4           0  \n",
       "\n",
       "[5 rows x 25 columns]"
      ]
     },
     "execution_count": 13,
     "metadata": {},
     "output_type": "execute_result"
    }
   ],
   "source": [
    "preds_df_3.head()"
   ]
  },
  {
   "cell_type": "code",
   "execution_count": 14,
   "metadata": {},
   "outputs": [
    {
     "data": {
      "text/plain": [
       "Index(['base', 'confidence', 'depth', 'proba_0', 'proba_1', 'proba_2',\n",
       "       'proba_3', 'proba_4', 'regression', 'top', 'y_pred', 'y_true', 'GR',\n",
       "       'SP', 'DENS', 'NEUT', 'PEF', 'RDEP', 'RSHAL', 'DTC', 'DTS', 'DTS1',\n",
       "       'DTS2', 'well', 'set_number'],\n",
       "      dtype='object')"
      ]
     },
     "execution_count": 14,
     "metadata": {},
     "output_type": "execute_result"
    }
   ],
   "source": [
    "preds_df_3.columns"
   ]
  },
  {
   "cell_type": "code",
   "execution_count": null,
   "metadata": {},
   "outputs": [],
   "source": []
  }
 ],
 "metadata": {
  "kernelspec": {
   "display_name": "Python 3",
   "language": "python",
   "name": "python3"
  },
  "language_info": {
   "codemirror_mode": {
    "name": "ipython",
    "version": 3
   },
   "file_extension": ".py",
   "mimetype": "text/x-python",
   "name": "python",
   "nbconvert_exporter": "python",
   "pygments_lexer": "ipython3",
   "version": "3.6.7"
  }
 },
 "nbformat": 4,
 "nbformat_minor": 2
}
