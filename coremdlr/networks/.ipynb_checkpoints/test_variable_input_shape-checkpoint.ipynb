{
 "cells": [
  {
   "cell_type": "code",
   "execution_count": 1,
   "metadata": {},
   "outputs": [
    {
     "name": "stderr",
     "output_type": "stream",
     "text": [
      "Using TensorFlow backend.\n"
     ]
    }
   ],
   "source": [
    "import tensorflow as tf\n",
    "from tensorflow.keras.layers import Input, Conv2D, Lambda, Flatten, Dense, Dropout, Concatenate\n",
    "from tensorflow.keras.models import Model as KerasModel\n",
    "\n",
    "from corebreakout.facies.networks.util import unstack_rows, stack_rows, make_backbone, make_dense_layers\n",
    "from corebreakout.facies.ops import bilinear_pooling\n",
    "\n",
    "\n",
    "\n",
    "def bilinear_cnn(num_classes,\n",
    "                 input_shape,\n",
    "                 backbone_cnn=None,\n",
    "                 fB=None,\n",
    "                 conv1x1=None,\n",
    "                 dense_layers=[],\n",
    "                 dropout_rate=None,\n",
    "                 apply_rowwise=False,\n",
    "                 lstm_features=None):\n",
    "    '''Combine two feature extracting CNNs into single Model with bilinear_pooling + FC layers.\n",
    "       fA and fB should output 4D tensors of equal shape, except (optionally) in # of channels.\n",
    "\n",
    "    Parameters\n",
    "    ----------\n",
    "    fA : KerasModel or str\n",
    "        Feature network A. Should output features (N, H, W, cA).\n",
    "        If str, loads the corresponding ImageNet model from `keras.applications`.\n",
    "    fB : KerasModel or str, optional\n",
    "        Feature network B. Should output features (N, H, W, cB).\n",
    "        If str, loads the corresponding ImageNet model from `keras.applications`.\n",
    "        If `None`, will return symmetric BCNN using fA.\n",
    "    num_classes : int\n",
    "            Number of classes for softmax output layer\n",
    "    input_shape : tuple of int\n",
    "        Shape of input images. Must be compatible with fA.input & fB.input.\n",
    "    conv1x1 : int or iterable(int), optional\n",
    "        Add a 1x1 conv to reduce number of channels in (fA, fB) to some value(s).\n",
    "        If iterable, must be length 2; values then mapped to (fA, fB).\n",
    "    dense_layers : iterable of int, optional\n",
    "        Sizes for additional Dense layers between bilinear vector and softmax. Default=[].\n",
    "    dropout_rate: float, optional\n",
    "        Specify a dropout rate for Dense layers\n",
    "\n",
    "    Returns\n",
    "    -------\n",
    "    B-CNN : KerasModel\n",
    "        Single bilinear CNN composed from fA & fB (asymmetric) or fA with itself (symmetric)\n",
    "    '''\n",
    "    assert backbone_cnn is not None\n",
    "    fA = make_backbone(backbone_cnn, input_shape)\n",
    "    fB = make_backbone(fB, input_shape)\n",
    "\n",
    "    input_image = Input(shape=input_shape)\n",
    "\n",
    "    outA = fA(input_image)\n",
    "    if fB is None:\n",
    "        outB = outA             # symmetric B-CNN\n",
    "    else:\n",
    "        outB = fB(input_image)  # asymmetric B-CNN\n",
    "\n",
    "    if isinstance(conv1x1, int):\n",
    "        outA = Conv2D(conv1x1, (1,1), name='reduce_A')(outA)\n",
    "        outB = Conv2D(conv1x1, (1,1), name='reduce_B')(outB)\n",
    "    elif hasattr(conv1x1, '__iter__'):\n",
    "        assert len(conv1x1) == 2, 'if iterable, conv1x1 must have length of 2'\n",
    "        outA = Conv2D(conv1x1[0], (1,1), name='reduce_A')(outA)\n",
    "        outB = Conv2D(conv1x1[1], (1,1), name='reduce_B')(outB)\n",
    "        \n",
    "    bilinear_pooling_layer = Lambda(bilinear_pooling, name='bilinear_pooling')\n",
    "\n",
    "    if apply_rowwise:\n",
    "        rowsA = unstack_rows(outA)\n",
    "        rowsB = unstack_rows(outB)\n",
    "        x = stack_rows([bilinear_pooling_layer([rA, rB]) for rA, rB in zip(rowsA, rowsB)])\n",
    "        if lstm_features is not None:\n",
    "            x = Bidirectional(LSTM(lstm_features, return_sequences=True))(x)\n",
    "    else:\n",
    "        x = Lambda(bilinear_pooling, name='bilinear_pooling')([outA, outB])\n",
    "\n",
    "    x = make_dense_layers(dense_layers, dropout=dropout_rate)(x)\n",
    "\n",
    "    pred = Dense(num_classes, activation='softmax')(x)\n",
    "\n",
    "    model = KerasModel(inputs=input_image, outputs=pred)\n",
    "\n",
    "    return model"
   ]
  },
  {
   "cell_type": "code",
   "execution_count": 2,
   "metadata": {},
   "outputs": [
    {
     "name": "stdout",
     "output_type": "stream",
     "text": [
      "__________________________________________________________________________________________________\n",
      "Layer (type)                    Output Shape         Param #     Connected to                     \n",
      "==================================================================================================\n",
      "input_2 (InputLayer)            (None, 1000, 800, 3) 0                                            \n",
      "__________________________________________________________________________________________________\n",
      "vgg16 (Model)                   (None, 31, 25, 512)  14714688    input_2[0][0]                    \n",
      "__________________________________________________________________________________________________\n",
      "bilinear_pooling (Lambda)       (None, 262144)       0           vgg16[1][0]                      \n",
      "                                                                 vgg16[1][0]                      \n",
      "__________________________________________________________________________________________________\n",
      "dense (Dense)                   (None, 5)            1310725     bilinear_pooling[0][0]           \n",
      "==================================================================================================\n",
      "Total params: 16,025,413\n",
      "Trainable params: 16,025,413\n",
      "Non-trainable params: 0\n",
      "__________________________________________________________________________________________________\n"
     ]
    }
   ],
   "source": [
    "bcnn = bilinear_cnn(5, (1000,800,3), backbone_cnn='vgg16')\n",
    "bcnn.summary()"
   ]
  },
  {
   "cell_type": "code",
   "execution_count": 13,
   "metadata": {},
   "outputs": [
    {
     "name": "stdout",
     "output_type": "stream",
     "text": [
      "__________________________________________________________________________________________________\n",
      "Layer (type)                    Output Shape         Param #     Connected to                     \n",
      "==================================================================================================\n",
      "input_6 (InputLayer)            (None, 1000, 800, 3) 0                                            \n",
      "__________________________________________________________________________________________________\n",
      "model_2 (Model)                 (None, 32, 25, 2048) 23587712    input_6[0][0]                    \n",
      "__________________________________________________________________________________________________\n",
      "unstack_rows (Lambda)           multiple             0           model_2[1][0]                    \n",
      "                                                                 model_2[1][0]                    \n",
      "__________________________________________________________________________________________________\n",
      "bilinear_pooling (Lambda)       (None, 4194304)      0           unstack_rows[2][0]               \n",
      "                                                                 unstack_rows[3][0]               \n",
      "                                                                 unstack_rows[2][1]               \n",
      "                                                                 unstack_rows[3][1]               \n",
      "                                                                 unstack_rows[2][2]               \n",
      "                                                                 unstack_rows[3][2]               \n",
      "                                                                 unstack_rows[2][3]               \n",
      "                                                                 unstack_rows[3][3]               \n",
      "                                                                 unstack_rows[2][4]               \n",
      "                                                                 unstack_rows[3][4]               \n",
      "                                                                 unstack_rows[2][5]               \n",
      "                                                                 unstack_rows[3][5]               \n",
      "                                                                 unstack_rows[2][6]               \n",
      "                                                                 unstack_rows[3][6]               \n",
      "                                                                 unstack_rows[2][7]               \n",
      "                                                                 unstack_rows[3][7]               \n",
      "                                                                 unstack_rows[2][8]               \n",
      "                                                                 unstack_rows[3][8]               \n",
      "                                                                 unstack_rows[2][9]               \n",
      "                                                                 unstack_rows[3][9]               \n",
      "                                                                 unstack_rows[2][10]              \n",
      "                                                                 unstack_rows[3][10]              \n",
      "                                                                 unstack_rows[2][11]              \n",
      "                                                                 unstack_rows[3][11]              \n",
      "                                                                 unstack_rows[2][12]              \n",
      "                                                                 unstack_rows[3][12]              \n",
      "                                                                 unstack_rows[2][13]              \n",
      "                                                                 unstack_rows[3][13]              \n",
      "                                                                 unstack_rows[2][14]              \n",
      "                                                                 unstack_rows[3][14]              \n",
      "                                                                 unstack_rows[2][15]              \n",
      "                                                                 unstack_rows[3][15]              \n",
      "                                                                 unstack_rows[2][16]              \n",
      "                                                                 unstack_rows[3][16]              \n",
      "                                                                 unstack_rows[2][17]              \n",
      "                                                                 unstack_rows[3][17]              \n",
      "                                                                 unstack_rows[2][18]              \n",
      "                                                                 unstack_rows[3][18]              \n",
      "                                                                 unstack_rows[2][19]              \n",
      "                                                                 unstack_rows[3][19]              \n",
      "                                                                 unstack_rows[2][20]              \n",
      "                                                                 unstack_rows[3][20]              \n",
      "                                                                 unstack_rows[2][21]              \n",
      "                                                                 unstack_rows[3][21]              \n",
      "                                                                 unstack_rows[2][22]              \n",
      "                                                                 unstack_rows[3][22]              \n",
      "                                                                 unstack_rows[2][23]              \n",
      "                                                                 unstack_rows[3][23]              \n",
      "                                                                 unstack_rows[2][24]              \n",
      "                                                                 unstack_rows[3][24]              \n",
      "                                                                 unstack_rows[2][25]              \n",
      "                                                                 unstack_rows[3][25]              \n",
      "                                                                 unstack_rows[2][26]              \n",
      "                                                                 unstack_rows[3][26]              \n",
      "                                                                 unstack_rows[2][27]              \n",
      "                                                                 unstack_rows[3][27]              \n",
      "                                                                 unstack_rows[2][28]              \n",
      "                                                                 unstack_rows[3][28]              \n",
      "                                                                 unstack_rows[2][29]              \n",
      "                                                                 unstack_rows[3][29]              \n",
      "                                                                 unstack_rows[2][30]              \n",
      "                                                                 unstack_rows[3][30]              \n",
      "                                                                 unstack_rows[2][31]              \n",
      "                                                                 unstack_rows[3][31]              \n",
      "__________________________________________________________________________________________________\n",
      "stack_rows (Lambda)             multiple             0           bilinear_pooling[0][0]           \n",
      "                                                                 bilinear_pooling[1][0]           \n",
      "                                                                 bilinear_pooling[2][0]           \n",
      "                                                                 bilinear_pooling[3][0]           \n",
      "                                                                 bilinear_pooling[4][0]           \n",
      "                                                                 bilinear_pooling[5][0]           \n",
      "                                                                 bilinear_pooling[6][0]           \n",
      "                                                                 bilinear_pooling[7][0]           \n",
      "                                                                 bilinear_pooling[8][0]           \n",
      "                                                                 bilinear_pooling[9][0]           \n",
      "                                                                 bilinear_pooling[10][0]          \n",
      "                                                                 bilinear_pooling[11][0]          \n",
      "                                                                 bilinear_pooling[12][0]          \n",
      "                                                                 bilinear_pooling[13][0]          \n",
      "                                                                 bilinear_pooling[14][0]          \n",
      "                                                                 bilinear_pooling[15][0]          \n",
      "                                                                 bilinear_pooling[16][0]          \n",
      "                                                                 bilinear_pooling[17][0]          \n",
      "                                                                 bilinear_pooling[18][0]          \n",
      "                                                                 bilinear_pooling[19][0]          \n",
      "                                                                 bilinear_pooling[20][0]          \n",
      "                                                                 bilinear_pooling[21][0]          \n",
      "                                                                 bilinear_pooling[22][0]          \n",
      "                                                                 bilinear_pooling[23][0]          \n",
      "                                                                 bilinear_pooling[24][0]          \n",
      "                                                                 bilinear_pooling[25][0]          \n",
      "                                                                 bilinear_pooling[26][0]          \n",
      "                                                                 bilinear_pooling[27][0]          \n",
      "                                                                 bilinear_pooling[28][0]          \n",
      "                                                                 bilinear_pooling[29][0]          \n",
      "                                                                 bilinear_pooling[30][0]          \n",
      "                                                                 bilinear_pooling[31][0]          \n",
      "__________________________________________________________________________________________________\n",
      "dense_2 (Dense)                 (None, 32, 5)        20971525    stack_rows[1][0]                 \n",
      "==================================================================================================\n",
      "Total params: 44,559,237\n",
      "Trainable params: 44,506,117\n",
      "Non-trainable params: 53,120\n",
      "__________________________________________________________________________________________________\n"
     ]
    }
   ],
   "source": [
    "bcnn = bilinear_cnn(5, (1000,800,3), backbone_cnn='resnet50', apply_rowwise=True)\n",
    "bcnn.summary()"
   ]
  },
  {
   "cell_type": "code",
   "execution_count": 22,
   "metadata": {},
   "outputs": [
    {
     "data": {
      "text/plain": [
       "<tf.Tensor 'stack_rows/stack:0' shape=(?, 31, 262144) dtype=float32>"
      ]
     },
     "execution_count": 22,
     "metadata": {},
     "output_type": "execute_result"
    }
   ],
   "source": [
    "bcnn.get_layer('stack_rows').output"
   ]
  },
  {
   "cell_type": "code",
   "execution_count": 24,
   "metadata": {},
   "outputs": [],
   "source": [
    "from tensorflow.keras.layers import Bidirectional, TimeDistributed, LSTM\n",
    "\n",
    "x = bcnn.get_layer('stack_rows').output"
   ]
  },
  {
   "cell_type": "code",
   "execution_count": 25,
   "metadata": {},
   "outputs": [
    {
     "data": {
      "text/plain": [
       "<tf.Tensor 'stack_rows/stack:0' shape=(?, 31, 262144) dtype=float32>"
      ]
     },
     "execution_count": 25,
     "metadata": {},
     "output_type": "execute_result"
    }
   ],
   "source": [
    "x"
   ]
  },
  {
   "cell_type": "code",
   "execution_count": 26,
   "metadata": {},
   "outputs": [
    {
     "data": {
      "text/plain": [
       "<tf.Tensor 'bidirectional/concat:0' shape=(?, 31, 128) dtype=float32>"
      ]
     },
     "execution_count": 26,
     "metadata": {},
     "output_type": "execute_result"
    }
   ],
   "source": [
    "Bidirectional(LSTM(64, return_sequences=True))(x)"
   ]
  },
  {
   "cell_type": "code",
   "execution_count": null,
   "metadata": {},
   "outputs": [],
   "source": []
  }
 ],
 "metadata": {
  "kernelspec": {
   "display_name": "Python 3",
   "language": "python",
   "name": "python3"
  },
  "language_info": {
   "codemirror_mode": {
    "name": "ipython",
    "version": 3
   },
   "file_extension": ".py",
   "mimetype": "text/x-python",
   "name": "python",
   "nbconvert_exporter": "python",
   "pygments_lexer": "ipython3",
   "version": "3.6.5"
  }
 },
 "nbformat": 4,
 "nbformat_minor": 2
}
