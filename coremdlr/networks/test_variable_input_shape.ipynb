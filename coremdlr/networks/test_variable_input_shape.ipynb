{
 "cells": [
  {
   "cell_type": "code",
   "execution_count": 1,
   "metadata": {},
   "outputs": [
    {
     "name": "stderr",
     "output_type": "stream",
     "text": [
      "Using TensorFlow backend.\n"
     ]
    }
   ],
   "source": [
    "import tensorflow as tf\n",
    "from tensorflow.keras.layers import Input, Conv2D, Lambda, Flatten, Dense, Dropout, Concatenate, Bidirectional, LSTM\n",
    "from tensorflow.keras.models import Model as KerasModel\n",
    "\n",
    "from coremdlr.networks.util import unstack_rows, stack_rows, make_backbone, make_dense_layers\n",
    "from coremdlr.ops import bilinear_pooling\n",
    "\n",
    "\n",
    "\n",
    "def bilinear_cnn(num_classes,\n",
    "                 input_shape,\n",
    "                 backbone_cnn=None,\n",
    "                 fB=None,\n",
    "                 conv1x1=None,\n",
    "                 dense_layers=[],\n",
    "                 dropout_rate=None,\n",
    "                 apply_rowwise=False,\n",
    "                 lstm_features=None):\n",
    "    '''Combine two feature extracting CNNs into single Model with bilinear_pooling + FC layers.\n",
    "       fA and fB should output 4D tensors of equal shape, except (optionally) in # of channels.\n",
    "\n",
    "    Parameters\n",
    "    ----------\n",
    "    fA : KerasModel or str\n",
    "        Feature network A. Should output features (N, H, W, cA).\n",
    "        If str, loads the corresponding ImageNet model from `keras.applications`.\n",
    "    fB : KerasModel or str, optional\n",
    "        Feature network B. Should output features (N, H, W, cB).\n",
    "        If str, loads the corresponding ImageNet model from `keras.applications`.\n",
    "        If `None`, will return symmetric BCNN using fA.\n",
    "    num_classes : int\n",
    "            Number of classes for softmax output layer\n",
    "    input_shape : tuple of int\n",
    "        Shape of input images. Must be compatible with fA.input & fB.input.\n",
    "    conv1x1 : int or iterable(int), optional\n",
    "        Add a 1x1 conv to reduce number of channels in (fA, fB) to some value(s).\n",
    "        If iterable, must be length 2; values then mapped to (fA, fB).\n",
    "    dense_layers : iterable of int, optional\n",
    "        Sizes for additional Dense layers between bilinear vector and softmax. Default=[].\n",
    "    dropout_rate: float, optional\n",
    "        Specify a dropout rate for Dense layers\n",
    "\n",
    "    Returns\n",
    "    -------\n",
    "    B-CNN : KerasModel\n",
    "        Single bilinear CNN composed from fA & fB (asymmetric) or fA with itself (symmetric)\n",
    "    '''\n",
    "    assert backbone_cnn is not None\n",
    "    fA = make_backbone(backbone_cnn, input_shape)\n",
    "    fB = make_backbone(fB, input_shape)\n",
    "\n",
    "    input_image = Input(shape=input_shape)\n",
    "\n",
    "    outA = fA(input_image)\n",
    "    if fB is None:\n",
    "        outB = outA             # symmetric B-CNN\n",
    "    else:\n",
    "        outB = fB(input_image)  # asymmetric B-CNN\n",
    "\n",
    "    if isinstance(conv1x1, int):\n",
    "        outA = Conv2D(conv1x1, (1,1), name='reduce_A')(outA)\n",
    "        outB = Conv2D(conv1x1, (1,1), name='reduce_B')(outB)\n",
    "    elif hasattr(conv1x1, '__iter__'):\n",
    "        assert len(conv1x1) == 2, 'if iterable, conv1x1 must have length of 2'\n",
    "        outA = Conv2D(conv1x1[0], (1,1), name='reduce_A')(outA)\n",
    "        outB = Conv2D(conv1x1[1], (1,1), name='reduce_B')(outB)\n",
    "        \n",
    "    bilinear_pooling_layer = Lambda(bilinear_pooling, name='bilinear_pooling')\n",
    "\n",
    "    if apply_rowwise:\n",
    "        rowsA = unstack_rows(outA)\n",
    "        rowsB = unstack_rows(outB)\n",
    "        x = stack_rows([bilinear_pooling_layer([rA, rB]) for rA, rB in zip(rowsA, rowsB)])\n",
    "        if lstm_features is not None:\n",
    "            x = Bidirectional(LSTM(lstm_features, return_sequences=True))(x)\n",
    "    else:\n",
    "        x = Lambda(bilinear_pooling, name='bilinear_pooling')([outA, outB])\n",
    "\n",
    "    x = make_dense_layers(dense_layers, dropout=dropout_rate)(x)\n",
    "\n",
    "    pred = Dense(num_classes, activation='softmax')(x)\n",
    "\n",
    "    model = KerasModel(inputs=input_image, outputs=pred)\n",
    "\n",
    "    return model"
   ]
  },
  {
   "cell_type": "code",
   "execution_count": 2,
   "metadata": {},
   "outputs": [
    {
     "name": "stdout",
     "output_type": "stream",
     "text": [
      "__________________________________________________________________________________________________\n",
      "Layer (type)                    Output Shape         Param #     Connected to                     \n",
      "==================================================================================================\n",
      "input_2 (InputLayer)            (None, None, 800, 3) 0                                            \n",
      "__________________________________________________________________________________________________\n",
      "vgg16 (Model)                   (None, None, 25, 512 14714688    input_2[0][0]                    \n",
      "__________________________________________________________________________________________________\n",
      "bilinear_pooling (Lambda)       (None, 262144)       0           vgg16[1][0]                      \n",
      "                                                                 vgg16[1][0]                      \n",
      "__________________________________________________________________________________________________\n",
      "dense (Dense)                   (None, 5)            1310725     bilinear_pooling[0][0]           \n",
      "==================================================================================================\n",
      "Total params: 16,025,413\n",
      "Trainable params: 16,025,413\n",
      "Non-trainable params: 0\n",
      "__________________________________________________________________________________________________\n"
     ]
    }
   ],
   "source": [
    "bcnn = bilinear_cnn(5, (None,800,3), backbone_cnn='vgg16')\n",
    "bcnn.summary()"
   ]
  },
  {
   "cell_type": "code",
   "execution_count": 3,
   "metadata": {},
   "outputs": [
    {
     "ename": "ValueError",
     "evalue": "Cannot infer num from shape (?, ?, 25, 64)",
     "output_type": "error",
     "traceback": [
      "\u001b[0;31m---------------------------------------------------------------------------\u001b[0m",
      "\u001b[0;31mValueError\u001b[0m                                Traceback (most recent call last)",
      "\u001b[0;32m<ipython-input-3-4121895f2b88>\u001b[0m in \u001b[0;36m<module>\u001b[0;34m()\u001b[0m\n\u001b[1;32m      1\u001b[0m bcnn = bilinear_cnn(5, (None,800,3), backbone_cnn='vgg16', \n\u001b[0;32m----> 2\u001b[0;31m                     conv1x1=64, apply_rowwise=True, lstm_features=64)\n\u001b[0m\u001b[1;32m      3\u001b[0m \u001b[0mbcnn\u001b[0m\u001b[0;34m.\u001b[0m\u001b[0msummary\u001b[0m\u001b[0;34m(\u001b[0m\u001b[0;34m)\u001b[0m\u001b[0;34m\u001b[0m\u001b[0m\n",
      "\u001b[0;32m<ipython-input-1-55bd8d3b7378>\u001b[0m in \u001b[0;36mbilinear_cnn\u001b[0;34m(num_classes, input_shape, backbone_cnn, fB, conv1x1, dense_layers, dropout_rate, apply_rowwise, lstm_features)\u001b[0m\n\u001b[1;32m     69\u001b[0m \u001b[0;34m\u001b[0m\u001b[0m\n\u001b[1;32m     70\u001b[0m     \u001b[0;32mif\u001b[0m \u001b[0mapply_rowwise\u001b[0m\u001b[0;34m:\u001b[0m\u001b[0;34m\u001b[0m\u001b[0m\n\u001b[0;32m---> 71\u001b[0;31m         \u001b[0mrowsA\u001b[0m \u001b[0;34m=\u001b[0m \u001b[0munstack_rows\u001b[0m\u001b[0;34m(\u001b[0m\u001b[0moutA\u001b[0m\u001b[0;34m)\u001b[0m\u001b[0;34m\u001b[0m\u001b[0m\n\u001b[0m\u001b[1;32m     72\u001b[0m         \u001b[0mrowsB\u001b[0m \u001b[0;34m=\u001b[0m \u001b[0munstack_rows\u001b[0m\u001b[0;34m(\u001b[0m\u001b[0moutB\u001b[0m\u001b[0;34m)\u001b[0m\u001b[0;34m\u001b[0m\u001b[0m\n\u001b[1;32m     73\u001b[0m         \u001b[0mx\u001b[0m \u001b[0;34m=\u001b[0m \u001b[0mstack_rows\u001b[0m\u001b[0;34m(\u001b[0m\u001b[0;34m[\u001b[0m\u001b[0mbilinear_pooling_layer\u001b[0m\u001b[0;34m(\u001b[0m\u001b[0;34m[\u001b[0m\u001b[0mrA\u001b[0m\u001b[0;34m,\u001b[0m \u001b[0mrB\u001b[0m\u001b[0;34m]\u001b[0m\u001b[0;34m)\u001b[0m \u001b[0;32mfor\u001b[0m \u001b[0mrA\u001b[0m\u001b[0;34m,\u001b[0m \u001b[0mrB\u001b[0m \u001b[0;32min\u001b[0m \u001b[0mzip\u001b[0m\u001b[0;34m(\u001b[0m\u001b[0mrowsA\u001b[0m\u001b[0;34m,\u001b[0m \u001b[0mrowsB\u001b[0m\u001b[0;34m)\u001b[0m\u001b[0;34m]\u001b[0m\u001b[0;34m)\u001b[0m\u001b[0;34m\u001b[0m\u001b[0m\n",
      "\u001b[0;32m~/anaconda3/envs/core-dev/lib/python3.6/site-packages/tensorflow/python/keras/engine/base_layer.py\u001b[0m in \u001b[0;36m__call__\u001b[0;34m(self, inputs, *args, **kwargs)\u001b[0m\n\u001b[1;32m    701\u001b[0m \u001b[0;34m\u001b[0m\u001b[0m\n\u001b[1;32m    702\u001b[0m       \u001b[0;32mif\u001b[0m \u001b[0;32mnot\u001b[0m \u001b[0min_deferred_mode\u001b[0m\u001b[0;34m:\u001b[0m\u001b[0;34m\u001b[0m\u001b[0m\n\u001b[0;32m--> 703\u001b[0;31m         \u001b[0moutputs\u001b[0m \u001b[0;34m=\u001b[0m \u001b[0mself\u001b[0m\u001b[0;34m.\u001b[0m\u001b[0mcall\u001b[0m\u001b[0;34m(\u001b[0m\u001b[0minputs\u001b[0m\u001b[0;34m,\u001b[0m \u001b[0;34m*\u001b[0m\u001b[0margs\u001b[0m\u001b[0;34m,\u001b[0m \u001b[0;34m**\u001b[0m\u001b[0mkwargs\u001b[0m\u001b[0;34m)\u001b[0m\u001b[0;34m\u001b[0m\u001b[0m\n\u001b[0m\u001b[1;32m    704\u001b[0m         \u001b[0;32mif\u001b[0m \u001b[0moutputs\u001b[0m \u001b[0;32mis\u001b[0m \u001b[0;32mNone\u001b[0m\u001b[0;34m:\u001b[0m\u001b[0;34m\u001b[0m\u001b[0m\n\u001b[1;32m    705\u001b[0m           raise ValueError('A layer\\'s `call` method should return a Tensor '\n",
      "\u001b[0;32m~/anaconda3/envs/core-dev/lib/python3.6/site-packages/tensorflow/python/keras/layers/core.py\u001b[0m in \u001b[0;36mcall\u001b[0;34m(self, inputs, mask)\u001b[0m\n\u001b[1;32m    707\u001b[0m     \u001b[0;32mif\u001b[0m \u001b[0mgeneric_utils\u001b[0m\u001b[0;34m.\u001b[0m\u001b[0mhas_arg\u001b[0m\u001b[0;34m(\u001b[0m\u001b[0mself\u001b[0m\u001b[0;34m.\u001b[0m\u001b[0mfunction\u001b[0m\u001b[0;34m,\u001b[0m \u001b[0;34m'mask'\u001b[0m\u001b[0;34m)\u001b[0m\u001b[0;34m:\u001b[0m\u001b[0;34m\u001b[0m\u001b[0m\n\u001b[1;32m    708\u001b[0m       \u001b[0marguments\u001b[0m\u001b[0;34m[\u001b[0m\u001b[0;34m'mask'\u001b[0m\u001b[0;34m]\u001b[0m \u001b[0;34m=\u001b[0m \u001b[0mmask\u001b[0m\u001b[0;34m\u001b[0m\u001b[0m\n\u001b[0;32m--> 709\u001b[0;31m     \u001b[0;32mreturn\u001b[0m \u001b[0mself\u001b[0m\u001b[0;34m.\u001b[0m\u001b[0mfunction\u001b[0m\u001b[0;34m(\u001b[0m\u001b[0minputs\u001b[0m\u001b[0;34m,\u001b[0m \u001b[0;34m**\u001b[0m\u001b[0marguments\u001b[0m\u001b[0;34m)\u001b[0m\u001b[0;34m\u001b[0m\u001b[0m\n\u001b[0m\u001b[1;32m    710\u001b[0m \u001b[0;34m\u001b[0m\u001b[0m\n\u001b[1;32m    711\u001b[0m   \u001b[0;32mdef\u001b[0m \u001b[0mcompute_mask\u001b[0m\u001b[0;34m(\u001b[0m\u001b[0mself\u001b[0m\u001b[0;34m,\u001b[0m \u001b[0minputs\u001b[0m\u001b[0;34m,\u001b[0m \u001b[0mmask\u001b[0m\u001b[0;34m=\u001b[0m\u001b[0;32mNone\u001b[0m\u001b[0;34m)\u001b[0m\u001b[0;34m:\u001b[0m\u001b[0;34m\u001b[0m\u001b[0m\n",
      "\u001b[0;32m~/code/python/coremdlr/coremdlr/facies/networks/util.py\u001b[0m in \u001b[0;36m<lambda>\u001b[0;34m(x)\u001b[0m\n\u001b[1;32m      5\u001b[0m \u001b[0;34m\u001b[0m\u001b[0m\n\u001b[1;32m      6\u001b[0m \u001b[0;31m# Lambdas for applying row-wise pooling\u001b[0m\u001b[0;34m\u001b[0m\u001b[0;34m\u001b[0m\u001b[0m\n\u001b[0;32m----> 7\u001b[0;31m \u001b[0munstack_rows\u001b[0m \u001b[0;34m=\u001b[0m \u001b[0mLambda\u001b[0m\u001b[0;34m(\u001b[0m\u001b[0;32mlambda\u001b[0m \u001b[0mx\u001b[0m\u001b[0;34m:\u001b[0m \u001b[0mtf\u001b[0m\u001b[0;34m.\u001b[0m\u001b[0munstack\u001b[0m\u001b[0;34m(\u001b[0m\u001b[0mx\u001b[0m\u001b[0;34m,\u001b[0m \u001b[0maxis\u001b[0m\u001b[0;34m=\u001b[0m\u001b[0;34m-\u001b[0m\u001b[0;36m3\u001b[0m\u001b[0;34m)\u001b[0m\u001b[0;34m,\u001b[0m \u001b[0mname\u001b[0m\u001b[0;34m=\u001b[0m\u001b[0;34m'unstack_rows'\u001b[0m\u001b[0;34m)\u001b[0m\u001b[0;34m\u001b[0m\u001b[0m\n\u001b[0m\u001b[1;32m      8\u001b[0m \u001b[0mstack_rows\u001b[0m \u001b[0;34m=\u001b[0m \u001b[0mLambda\u001b[0m\u001b[0;34m(\u001b[0m\u001b[0;32mlambda\u001b[0m \u001b[0mx\u001b[0m\u001b[0;34m:\u001b[0m \u001b[0mtf\u001b[0m\u001b[0;34m.\u001b[0m\u001b[0mstack\u001b[0m\u001b[0;34m(\u001b[0m\u001b[0mx\u001b[0m\u001b[0;34m,\u001b[0m \u001b[0maxis\u001b[0m\u001b[0;34m=\u001b[0m\u001b[0;34m-\u001b[0m\u001b[0;36m2\u001b[0m\u001b[0;34m)\u001b[0m\u001b[0;34m,\u001b[0m \u001b[0mname\u001b[0m\u001b[0;34m=\u001b[0m\u001b[0;34m'stack_rows'\u001b[0m\u001b[0;34m)\u001b[0m\u001b[0;34m\u001b[0m\u001b[0m\n\u001b[1;32m      9\u001b[0m \u001b[0;34m\u001b[0m\u001b[0m\n",
      "\u001b[0;32m~/anaconda3/envs/core-dev/lib/python3.6/site-packages/tensorflow/python/ops/array_ops.py\u001b[0m in \u001b[0;36munstack\u001b[0;34m(value, num, axis, name)\u001b[0m\n\u001b[1;32m   1013\u001b[0m       \u001b[0mnum\u001b[0m \u001b[0;34m=\u001b[0m \u001b[0mvalue_shape\u001b[0m\u001b[0;34m[\u001b[0m\u001b[0maxis\u001b[0m\u001b[0;34m]\u001b[0m\u001b[0;34m.\u001b[0m\u001b[0mvalue\u001b[0m\u001b[0;34m\u001b[0m\u001b[0m\n\u001b[1;32m   1014\u001b[0m   \u001b[0;32mif\u001b[0m \u001b[0mnum\u001b[0m \u001b[0;32mis\u001b[0m \u001b[0;32mNone\u001b[0m\u001b[0;34m:\u001b[0m\u001b[0;34m\u001b[0m\u001b[0m\n\u001b[0;32m-> 1015\u001b[0;31m     \u001b[0;32mraise\u001b[0m \u001b[0mValueError\u001b[0m\u001b[0;34m(\u001b[0m\u001b[0;34m\"Cannot infer num from shape %s\"\u001b[0m \u001b[0;34m%\u001b[0m \u001b[0mvalue_shape\u001b[0m\u001b[0;34m)\u001b[0m\u001b[0;34m\u001b[0m\u001b[0m\n\u001b[0m\u001b[1;32m   1016\u001b[0m   \u001b[0;32mreturn\u001b[0m \u001b[0mgen_array_ops\u001b[0m\u001b[0;34m.\u001b[0m\u001b[0munpack\u001b[0m\u001b[0;34m(\u001b[0m\u001b[0mvalue\u001b[0m\u001b[0;34m,\u001b[0m \u001b[0mnum\u001b[0m\u001b[0;34m=\u001b[0m\u001b[0mnum\u001b[0m\u001b[0;34m,\u001b[0m \u001b[0maxis\u001b[0m\u001b[0;34m=\u001b[0m\u001b[0maxis\u001b[0m\u001b[0;34m,\u001b[0m \u001b[0mname\u001b[0m\u001b[0;34m=\u001b[0m\u001b[0mname\u001b[0m\u001b[0;34m)\u001b[0m\u001b[0;34m\u001b[0m\u001b[0m\n\u001b[1;32m   1017\u001b[0m \u001b[0;34m\u001b[0m\u001b[0m\n",
      "\u001b[0;31mValueError\u001b[0m: Cannot infer num from shape (?, ?, 25, 64)"
     ]
    }
   ],
   "source": [
    "bcnn = bilinear_cnn(5, (None,800,3), backbone_cnn='vgg16', \n",
    "                    conv1x1=64, apply_rowwise=True, lstm_features=64)\n",
    "bcnn.summary()"
   ]
  },
  {
   "cell_type": "code",
   "execution_count": 4,
   "metadata": {},
   "outputs": [
    {
     "data": {
      "text/plain": [
       "640"
      ]
     },
     "execution_count": 4,
     "metadata": {},
     "output_type": "execute_result"
    }
   ],
   "source": []
  },
  {
   "cell_type": "code",
   "execution_count": null,
   "metadata": {},
   "outputs": [],
   "source": [
    "from tensorflow.keras.layers import Bidirectional, TimeDistributed, LSTM\n",
    "\n",
    "x = bcnn.get_layer('stack_rows').output"
   ]
  },
  {
   "cell_type": "code",
   "execution_count": null,
   "metadata": {},
   "outputs": [],
   "source": [
    "x"
   ]
  },
  {
   "cell_type": "code",
   "execution_count": null,
   "metadata": {},
   "outputs": [],
   "source": [
    "Bidirectional(LSTM(64, return_sequences=True))(x)"
   ]
  },
  {
   "cell_type": "code",
   "execution_count": null,
   "metadata": {},
   "outputs": [],
   "source": []
  }
 ],
 "metadata": {
  "kernelspec": {
   "display_name": "Python 3",
   "language": "python",
   "name": "python3"
  },
  "language_info": {
   "codemirror_mode": {
    "name": "ipython",
    "version": 3
   },
   "file_extension": ".py",
   "mimetype": "text/x-python",
   "name": "python",
   "nbconvert_exporter": "python",
   "pygments_lexer": "ipython3",
   "version": "3.6.5"
  }
 },
 "nbformat": 4,
 "nbformat_minor": 2
}
