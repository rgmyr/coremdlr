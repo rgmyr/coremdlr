{
 "cells": [
  {
   "cell_type": "code",
   "execution_count": 1,
   "metadata": {},
   "outputs": [],
   "source": [
    "import numpy as np\n",
    "import tensorflow as tf\n",
    "\n",
    "from kernelpooling import _generate_sketch_matrix"
   ]
  },
  {
   "cell_type": "code",
   "execution_count": 4,
   "metadata": {},
   "outputs": [
    {
     "data": {
      "text/plain": [
       "(array([3, 0, 0, 2, 1, 2, 3, 4, 0, 4]),\n",
       " array([-1, -1,  1, -1, -1, -1,  1,  1, -1,  1]))"
      ]
     },
     "execution_count": 4,
     "metadata": {},
     "output_type": "execute_result"
    }
   ],
   "source": [
    "input_dim = 10\n",
    "output_dim = 5\n",
    "rand_h = np.random.randint(output_dim, size=input_dim)\n",
    "rand_s = 2*np.random.randint(2, size=input_dim) - 1\n",
    "\n",
    "rand_h, rand_s"
   ]
  },
  {
   "cell_type": "code",
   "execution_count": 11,
   "metadata": {},
   "outputs": [
    {
     "name": "stdout",
     "output_type": "stream",
     "text": [
      "SparseTensorValue(indices=array([[0, 3],\n",
      "       [1, 0],\n",
      "       [2, 0],\n",
      "       [3, 2],\n",
      "       [4, 1],\n",
      "       [5, 2],\n",
      "       [6, 3],\n",
      "       [7, 4],\n",
      "       [8, 0],\n",
      "       [9, 4]]), values=array([-1., -1.,  1., -1., -1., -1.,  1.,  1., -1.,  1.], dtype=float32), dense_shape=array([10,  5]))\n"
     ]
    },
    {
     "name": "stderr",
     "output_type": "stream",
     "text": [
      "/home/administrator/anaconda3/envs/core-dev/lib/python3.6/site-packages/tensorflow/python/client/session.py:1711: UserWarning: An interactive session is already active. This can cause out-of-memory errors in some cases. You must explicitly call `InteractiveSession.close()` to release resources held by the other session(s).\n",
      "  warnings.warn('An interactive session is already active. This can '\n"
     ]
    }
   ],
   "source": [
    "sketch_matrix = _generate_sketch_matrix(rand_h, rand_s, output_dim)\n",
    "\n",
    "sess = tf.InteractiveSession()\n",
    "smat = sketch_matrix.eval()\n",
    "print(smat)\n",
    "sess.close()"
   ]
  },
  {
   "cell_type": "code",
   "execution_count": null,
   "metadata": {},
   "outputs": [],
   "source": []
  }
 ],
 "metadata": {
  "kernelspec": {
   "display_name": "Python 3",
   "language": "python",
   "name": "python3"
  },
  "language_info": {
   "codemirror_mode": {
    "name": "ipython",
    "version": 3
   },
   "file_extension": ".py",
   "mimetype": "text/x-python",
   "name": "python",
   "nbconvert_exporter": "python",
   "pygments_lexer": "ipython3",
   "version": "3.6.5"
  }
 },
 "nbformat": 4,
 "nbformat_minor": 2
}
