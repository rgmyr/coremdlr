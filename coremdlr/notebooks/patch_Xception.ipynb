{
 "cells": [
  {
   "cell_type": "code",
   "execution_count": 1,
   "metadata": {},
   "outputs": [],
   "source": [
    "import numpy as np\n",
    "from scipy.stats import mode\n",
    "import matplotlib.pyplot as plt"
   ]
  },
  {
   "cell_type": "code",
   "execution_count": 2,
   "metadata": {},
   "outputs": [],
   "source": [
    "img = np.load('./data/FULL_CORE_image_arr.npy')\n",
    "labels = np.load('./data/FULL_CORE_class_labels.npy')\n",
    "depths = np.load('./data/FULL_CORE_depth_arr.npy')"
   ]
  },
  {
   "cell_type": "code",
   "execution_count": 3,
   "metadata": {},
   "outputs": [
    {
     "name": "stdout",
     "output_type": "stream",
     "text": [
      "413.59951093601376\n",
      "1468.5849086846943\n",
      "122.38207572372453\n"
     ]
    }
   ],
   "source": [
    "length = depths[-1] - depths[0]\n",
    "print(length)\n",
    "approx_pp_ft = img.shape[0] / length\n",
    "print(approx_pp_ft)\n",
    "approx_pp_in = approx_pp_ft / 12\n",
    "print(approx_pp_in)"
   ]
  },
  {
   "cell_type": "code",
   "execution_count": 4,
   "metadata": {},
   "outputs": [
    {
     "name": "stderr",
     "output_type": "stream",
     "text": [
      "/home/administrator/anaconda3/envs/core-dev/lib/python3.6/site-packages/h5py/__init__.py:36: FutureWarning: Conversion of the second argument of issubdtype from `float` to `np.floating` is deprecated. In future, it will be treated as `np.float64 == np.dtype(float).type`.\n",
      "  from ._conv import register_converters as _register_converters\n",
      "Using TensorFlow backend.\n"
     ]
    }
   ],
   "source": [
    "from coremdlr.utils.facies_utils import (make_labeled_frames,\n",
    "                                            save_keras_model, load_keras_model)"
   ]
  },
  {
   "cell_type": "code",
   "execution_count": 5,
   "metadata": {},
   "outputs": [
    {
     "name": "stdout",
     "output_type": "stream",
     "text": [
      "Making  6074  patches...\n",
      "At patch # 2000\n",
      "At patch # 1000\n",
      "At patch # 3000\n",
      "At patch # 0\n",
      "At patch # 5000\n",
      "At patch # 6000\n",
      "At patch # 4000\n",
      "Label counts =  [(1, 710), (2, 4316), (3, 1048)]\n"
     ]
    },
    {
     "data": {
      "image/png": "[encoded data removed]",
      "text/plain": [
       "<Figure size 432x288 with 1 Axes>"
      ]
     },
     "metadata": {},
     "output_type": "display_data"
    }
   ],
   "source": [
    "X_train, y_train = make_labeled_frames(img[:,:400], labels, 100, stride=100, shuffle=True)"
   ]
  },
  {
   "cell_type": "code",
   "execution_count": 6,
   "metadata": {},
   "outputs": [
    {
     "data": {
      "text/plain": [
       "((6074, 100, 400, 3), (6074,))"
      ]
     },
     "execution_count": 6,
     "metadata": {},
     "output_type": "execute_result"
    }
   ],
   "source": [
    "X_train.shape, y_train.shape"
   ]
  },
  {
   "cell_type": "code",
   "execution_count": 7,
   "metadata": {},
   "outputs": [
    {
     "data": {
      "text/plain": [
       "\"\\nimport tensorflow as tf\\nwith tf.device('/gpu:0'):\\n    a = tf.constant([1.0, 2.0, 3.0, 4.0, 5.0, 6.0], shape=[2, 3], name='a')\\n    b = tf.constant([1.0, 2.0, 3.0, 4.0, 5.0, 6.0], shape=[3, 2], name='b')\\n    c = tf.matmul(a, b)\\n\\nwith tf.Session() as sess:\\n    print (sess.run(c))\\n\""
      ]
     },
     "execution_count": 7,
     "metadata": {},
     "output_type": "execute_result"
    }
   ],
   "source": [
    "# if we can an error here, GPU is unseen\n",
    "'''\n",
    "import tensorflow as tf\n",
    "with tf.device('/gpu:0'):\n",
    "    a = tf.constant([1.0, 2.0, 3.0, 4.0, 5.0, 6.0], shape=[2, 3], name='a')\n",
    "    b = tf.constant([1.0, 2.0, 3.0, 4.0, 5.0, 6.0], shape=[3, 2], name='b')\n",
    "    c = tf.matmul(a, b)\n",
    "\n",
    "with tf.Session() as sess:\n",
    "    print (sess.run(c))\n",
    "'''"
   ]
  },
  {
   "cell_type": "code",
   "execution_count": 8,
   "metadata": {},
   "outputs": [],
   "source": [
    "# make an ImageDataGenerator\n",
    "from keras import utils\n",
    "from keras.preprocessing.image import ImageDataGenerator\n",
    "\n",
    "datagen = ImageDataGenerator(width_shift_range=0.1,\n",
    "                            shear_range=-5.0,\n",
    "                            zoom_range=0.05,\n",
    "                            fill_mode='constant', cval=0.0,\n",
    "                            horizontal_flip=True,\n",
    "                            validation_split=0.2)\n",
    "\n",
    "n_classes = 3\n",
    "y_train = utils.to_categorical(y_train, n_classes)\n",
    "datagen.fit(X_train)"
   ]
  },
  {
   "cell_type": "code",
   "execution_count": 9,
   "metadata": {
    "scrolled": false
   },
   "outputs": [],
   "source": [
    "# Make a NN\n",
    "from keras.applications import xception\n",
    "from keras.models import Model\n",
    "from keras.layers import Dense, GlobalAveragePooling2D\n",
    "\n",
    "xnet_base = xception.Xception(include_top=False, weights='imagenet', input_shape=(100,400,3))\n",
    "x = xnet_base.output\n",
    "x = GlobalAveragePooling2D()(x)\n",
    "x = Dense(256, activation='relu')(x)\n",
    "predictions = Dense(3, activation='softmax')(x)\n",
    "\n",
    "model = Model(inputs=xnet_base.input, outputs=predictions)"
   ]
  },
  {
   "cell_type": "code",
   "execution_count": 10,
   "metadata": {},
   "outputs": [],
   "source": [
    "from keras import backend as K\n",
    "\n",
    "def f1(y_true, y_pred):\n",
    "    def recall(y_true, y_pred):\n",
    "        \"\"\"Recall metric.\n",
    "\n",
    "        Only computes a batch-wise average of recall.\n",
    "\n",
    "        Computes the recall, a metric for multi-label classification of\n",
    "        how many relevant items are selected.\n",
    "        \"\"\"\n",
    "        true_positives = K.sum(K.round(K.clip(y_true * y_pred, 0, 1)))\n",
    "        possible_positives = K.sum(K.round(K.clip(y_true, 0, 1)))\n",
    "        recall = true_positives / (possible_positives + K.epsilon())\n",
    "        return recall\n",
    "\n",
    "    def precision(y_true, y_pred):\n",
    "        \"\"\"Precision metric.\n",
    "\n",
    "        Only computes a batch-wise average of precision.\n",
    "\n",
    "        Computes the precision, a metric for multi-label classification of\n",
    "        how many selected items are relevant.\n",
    "        \"\"\"\n",
    "        true_positives = K.sum(K.round(K.clip(y_true * y_pred, 0, 1)))\n",
    "        predicted_positives = K.sum(K.round(K.clip(y_pred, 0, 1)))\n",
    "        precision = true_positives / (predicted_positives + K.epsilon())\n",
    "        return precision\n",
    "    precision = precision(y_true, y_pred)\n",
    "    recall = recall(y_true, y_pred)\n",
    "    return 2*((precision*recall)/(precision+recall+K.epsilon()))"
   ]
  },
  {
   "cell_type": "code",
   "execution_count": 11,
   "metadata": {
    "scrolled": false
   },
   "outputs": [
    {
     "name": "stdout",
     "output_type": "stream",
     "text": [
      "Epoch 1/500\n",
      "95/94 [==============================] - 33s 349ms/step - loss: 0.6760 - acc: 0.7594 - f1: 0.7368\n",
      "Epoch 2/500\n",
      "95/94 [==============================] - 32s 342ms/step - loss: 0.5563 - acc: 0.7977 - f1: 0.7876\n",
      "Epoch 3/500\n",
      "95/94 [==============================] - 33s 347ms/step - loss: 0.5268 - acc: 0.8110 - f1: 0.8019\n",
      "Epoch 4/500\n",
      "95/94 [==============================] - 33s 346ms/step - loss: 0.5234 - acc: 0.8022 - f1: 0.7995\n",
      "Epoch 5/500\n",
      "95/94 [==============================] - 32s 341ms/step - loss: 0.4945 - acc: 0.8163 - f1: 0.8119\n",
      "Epoch 6/500\n",
      "95/94 [==============================] - 32s 340ms/step - loss: 0.4901 - acc: 0.8162 - f1: 0.8119\n",
      "Epoch 7/500\n",
      "95/94 [==============================] - 32s 341ms/step - loss: 0.4861 - acc: 0.8153 - f1: 0.8126\n",
      "Epoch 8/500\n",
      "95/94 [==============================] - 32s 341ms/step - loss: 0.4703 - acc: 0.8279 - f1: 0.8221\n",
      "Epoch 9/500\n",
      "95/94 [==============================] - 33s 348ms/step - loss: 0.4702 - acc: 0.8266 - f1: 0.8217\n",
      "Epoch 10/500\n",
      "95/94 [==============================] - 34s 362ms/step - loss: 0.4547 - acc: 0.8228 - f1: 0.8188\n",
      "Epoch 11/500\n",
      "95/94 [==============================] - 33s 347ms/step - loss: 0.4572 - acc: 0.8288 - f1: 0.8269\n",
      "Epoch 12/500\n",
      "95/94 [==============================] - 33s 343ms/step - loss: 0.4475 - acc: 0.8294 - f1: 0.8265\n",
      "Epoch 13/500\n",
      "95/94 [==============================] - 33s 348ms/step - loss: 0.4479 - acc: 0.8274 - f1: 0.8245\n",
      "Epoch 14/500\n",
      "95/94 [==============================] - 32s 338ms/step - loss: 0.4291 - acc: 0.8373 - f1: 0.8345\n",
      "Epoch 15/500\n",
      "95/94 [==============================] - 32s 340ms/step - loss: 0.4244 - acc: 0.8404 - f1: 0.8391\n",
      "Epoch 16/500\n",
      "95/94 [==============================] - 33s 343ms/step - loss: 0.4217 - acc: 0.8427 - f1: 0.8395\n",
      "Epoch 17/500\n",
      "95/94 [==============================] - 32s 340ms/step - loss: 0.4322 - acc: 0.8364 - f1: 0.8331\n",
      "Epoch 18/500\n",
      "95/94 [==============================] - 32s 340ms/step - loss: 0.4247 - acc: 0.8400 - f1: 0.8370\n",
      "Epoch 19/500\n",
      "95/94 [==============================] - 32s 341ms/step - loss: 0.4147 - acc: 0.8418 - f1: 0.8422\n",
      "Epoch 20/500\n",
      "95/94 [==============================] - 32s 340ms/step - loss: 0.4073 - acc: 0.8436 - f1: 0.8414\n",
      "Epoch 21/500\n",
      "95/94 [==============================] - 33s 342ms/step - loss: 0.4089 - acc: 0.8454 - f1: 0.8427\n",
      "Epoch 22/500\n",
      "95/94 [==============================] - 32s 341ms/step - loss: 0.4129 - acc: 0.8413 - f1: 0.8400\n",
      "Epoch 23/500\n",
      "95/94 [==============================] - 32s 340ms/step - loss: 0.3972 - acc: 0.8502 - f1: 0.8497\n",
      "Epoch 24/500\n",
      "95/94 [==============================] - 32s 340ms/step - loss: 0.4069 - acc: 0.8450 - f1: 0.8431\n",
      "Epoch 25/500\n",
      "95/94 [==============================] - 32s 342ms/step - loss: 0.4069 - acc: 0.8441 - f1: 0.8422\n",
      "Epoch 26/500\n",
      "95/94 [==============================] - 33s 344ms/step - loss: 0.3944 - acc: 0.8466 - f1: 0.8454\n",
      "Epoch 27/500\n",
      "95/94 [==============================] - 33s 347ms/step - loss: 0.4025 - acc: 0.8477 - f1: 0.8476\n",
      "Epoch 28/500\n",
      "95/94 [==============================] - 33s 348ms/step - loss: 0.3950 - acc: 0.8484 - f1: 0.8482\n",
      "Epoch 29/500\n",
      "95/94 [==============================] - 33s 342ms/step - loss: 0.3922 - acc: 0.8535 - f1: 0.8533\n",
      "Epoch 30/500\n",
      "95/94 [==============================] - 32s 340ms/step - loss: 0.3836 - acc: 0.8547 - f1: 0.8539\n",
      "Epoch 31/500\n",
      "95/94 [==============================] - 32s 341ms/step - loss: 0.3860 - acc: 0.8497 - f1: 0.8504\n",
      "Epoch 32/500\n",
      "95/94 [==============================] - 32s 342ms/step - loss: 0.3780 - acc: 0.8534 - f1: 0.8539\n",
      "Epoch 33/500\n",
      "95/94 [==============================] - 33s 343ms/step - loss: 0.3845 - acc: 0.8509 - f1: 0.8520\n",
      "Epoch 34/500\n",
      "95/94 [==============================] - 32s 341ms/step - loss: 0.3700 - acc: 0.8608 - f1: 0.8612\n",
      "Epoch 35/500\n",
      "95/94 [==============================] - 33s 342ms/step - loss: 0.3791 - acc: 0.8526 - f1: 0.8509\n",
      "Epoch 36/500\n",
      "95/94 [==============================] - 33s 344ms/step - loss: 0.3732 - acc: 0.8614 - f1: 0.8599\n",
      "Epoch 37/500\n",
      "95/94 [==============================] - 33s 342ms/step - loss: 0.3708 - acc: 0.8531 - f1: 0.8536\n"
     ]
    },
    {
     "data": {
      "text/plain": [
       "<keras.callbacks.History at 0x7f7968400a90>"
      ]
     },
     "execution_count": 11,
     "metadata": {},
     "output_type": "execute_result"
    }
   ],
   "source": [
    "# first train new top layers\n",
    "from keras.callbacks import EarlyStopping\n",
    "\n",
    "for layer in xnet_base.layers:\n",
    "    layer.trainable = False\n",
    "\n",
    "model.compile(optimizer='rmsprop',\n",
    "              loss='categorical_crossentropy', \n",
    "              metrics=['accuracy', f1])\n",
    "\n",
    "epochs = 500\n",
    "batch_size = 64     # only ~50% util --> try 64-ish\n",
    "early_stop = EarlyStopping(monitor='loss', patience=3)\n",
    "model.fit_generator(datagen.flow(X_train, y_train, batch_size=batch_size),\n",
    "                    steps_per_epoch=len(X_train)/batch_size, epochs=epochs,\n",
    "                    callbacks=[early_stop])"
   ]
  },
  {
   "cell_type": "code",
   "execution_count": 14,
   "metadata": {},
   "outputs": [],
   "source": [
    "save_keras_model(model, './saved_models/patchCNN_2')"
   ]
  },
  {
   "cell_type": "code",
   "execution_count": 15,
   "metadata": {},
   "outputs": [
    {
     "name": "stdout",
     "output_type": "stream",
     "text": [
      "0 input_1\n",
      "1 block1_conv1\n",
      "2 block1_conv1_bn\n",
      "3 block1_conv1_act\n",
      "4 block1_conv2\n",
      "5 block1_conv2_bn\n",
      "6 block1_conv2_act\n",
      "7 block2_sepconv1\n",
      "8 block2_sepconv1_bn\n",
      "9 block2_sepconv2_act\n",
      "10 block2_sepconv2\n",
      "11 block2_sepconv2_bn\n",
      "12 conv2d_1\n",
      "13 block2_pool\n",
      "14 batch_normalization_1\n",
      "15 add_1\n",
      "16 block3_sepconv1_act\n",
      "17 block3_sepconv1\n",
      "18 block3_sepconv1_bn\n",
      "19 block3_sepconv2_act\n",
      "20 block3_sepconv2\n",
      "21 block3_sepconv2_bn\n",
      "22 conv2d_2\n",
      "23 block3_pool\n",
      "24 batch_normalization_2\n",
      "25 add_2\n",
      "26 block4_sepconv1_act\n",
      "27 block4_sepconv1\n",
      "28 block4_sepconv1_bn\n",
      "29 block4_sepconv2_act\n",
      "30 block4_sepconv2\n",
      "31 block4_sepconv2_bn\n",
      "32 conv2d_3\n",
      "33 block4_pool\n",
      "34 batch_normalization_3\n",
      "35 add_3\n",
      "36 block5_sepconv1_act\n",
      "37 block5_sepconv1\n",
      "38 block5_sepconv1_bn\n",
      "39 block5_sepconv2_act\n",
      "40 block5_sepconv2\n",
      "41 block5_sepconv2_bn\n",
      "42 block5_sepconv3_act\n",
      "43 block5_sepconv3\n",
      "44 block5_sepconv3_bn\n",
      "45 add_4\n",
      "46 block6_sepconv1_act\n",
      "47 block6_sepconv1\n",
      "48 block6_sepconv1_bn\n",
      "49 block6_sepconv2_act\n",
      "50 block6_sepconv2\n",
      "51 block6_sepconv2_bn\n",
      "52 block6_sepconv3_act\n",
      "53 block6_sepconv3\n",
      "54 block6_sepconv3_bn\n",
      "55 add_5\n",
      "56 block7_sepconv1_act\n",
      "57 block7_sepconv1\n",
      "58 block7_sepconv1_bn\n",
      "59 block7_sepconv2_act\n",
      "60 block7_sepconv2\n",
      "61 block7_sepconv2_bn\n",
      "62 block7_sepconv3_act\n",
      "63 block7_sepconv3\n",
      "64 block7_sepconv3_bn\n",
      "65 add_6\n",
      "66 block8_sepconv1_act\n",
      "67 block8_sepconv1\n",
      "68 block8_sepconv1_bn\n",
      "69 block8_sepconv2_act\n",
      "70 block8_sepconv2\n",
      "71 block8_sepconv2_bn\n",
      "72 block8_sepconv3_act\n",
      "73 block8_sepconv3\n",
      "74 block8_sepconv3_bn\n",
      "75 add_7\n",
      "76 block9_sepconv1_act\n",
      "77 block9_sepconv1\n",
      "78 block9_sepconv1_bn\n",
      "79 block9_sepconv2_act\n",
      "80 block9_sepconv2\n",
      "81 block9_sepconv2_bn\n",
      "82 block9_sepconv3_act\n",
      "83 block9_sepconv3\n",
      "84 block9_sepconv3_bn\n",
      "85 add_8\n",
      "86 block10_sepconv1_act\n",
      "87 block10_sepconv1\n",
      "88 block10_sepconv1_bn\n",
      "89 block10_sepconv2_act\n",
      "90 block10_sepconv2\n",
      "91 block10_sepconv2_bn\n",
      "92 block10_sepconv3_act\n",
      "93 block10_sepconv3\n",
      "94 block10_sepconv3_bn\n",
      "95 add_9\n",
      "96 block11_sepconv1_act\n",
      "97 block11_sepconv1\n",
      "98 block11_sepconv1_bn\n",
      "99 block11_sepconv2_act\n",
      "100 block11_sepconv2\n",
      "101 block11_sepconv2_bn\n",
      "102 block11_sepconv3_act\n",
      "103 block11_sepconv3\n",
      "104 block11_sepconv3_bn\n",
      "105 add_10\n",
      "106 block12_sepconv1_act\n",
      "107 block12_sepconv1\n",
      "108 block12_sepconv1_bn\n",
      "109 block12_sepconv2_act\n",
      "110 block12_sepconv2\n",
      "111 block12_sepconv2_bn\n",
      "112 block12_sepconv3_act\n",
      "113 block12_sepconv3\n",
      "114 block12_sepconv3_bn\n",
      "115 add_11\n",
      "116 block13_sepconv1_act\n",
      "117 block13_sepconv1\n",
      "118 block13_sepconv1_bn\n",
      "119 block13_sepconv2_act\n",
      "120 block13_sepconv2\n",
      "121 block13_sepconv2_bn\n",
      "122 conv2d_4\n",
      "123 block13_pool\n",
      "124 batch_normalization_4\n",
      "125 add_12\n",
      "126 block14_sepconv1\n",
      "127 block14_sepconv1_bn\n",
      "128 block14_sepconv1_act\n",
      "129 block14_sepconv2\n",
      "130 block14_sepconv2_bn\n",
      "131 block14_sepconv2_act\n"
     ]
    }
   ],
   "source": [
    "# look at layers, decide how many to train\n",
    "for i, layer in enumerate(xnet_base.layers):\n",
    "   print(i, layer.name)"
   ]
  },
  {
   "cell_type": "code",
   "execution_count": 16,
   "metadata": {
    "scrolled": false
   },
   "outputs": [
    {
     "name": "stdout",
     "output_type": "stream",
     "text": [
      "Epoch 1/500\n",
      "95/94 [==============================] - 33s 345ms/step - loss: 0.5361 - acc: 0.8069 - f1: 0.7982\n",
      "Epoch 2/500\n",
      "95/94 [==============================] - 33s 345ms/step - loss: 0.4294 - acc: 0.8445 - f1: 0.8416\n",
      "Epoch 3/500\n",
      "95/94 [==============================] - 33s 345ms/step - loss: 0.3816 - acc: 0.8608 - f1: 0.8595\n",
      "Epoch 4/500\n",
      "95/94 [==============================] - 33s 343ms/step - loss: 0.3567 - acc: 0.8672 - f1: 0.8656\n",
      "Epoch 5/500\n",
      "95/94 [==============================] - 33s 343ms/step - loss: 0.3403 - acc: 0.8697 - f1: 0.8682\n",
      "Epoch 6/500\n",
      "95/94 [==============================] - 33s 343ms/step - loss: 0.3152 - acc: 0.8804 - f1: 0.8796\n",
      "Epoch 7/500\n",
      "95/94 [==============================] - 33s 345ms/step - loss: 0.3011 - acc: 0.8836 - f1: 0.8833\n",
      "Epoch 8/500\n",
      "95/94 [==============================] - 33s 350ms/step - loss: 0.2967 - acc: 0.8902 - f1: 0.8889\n",
      "Epoch 9/500\n",
      "95/94 [==============================] - 34s 354ms/step - loss: 0.2823 - acc: 0.8955 - f1: 0.8946\n",
      "Epoch 10/500\n",
      "95/94 [==============================] - 33s 344ms/step - loss: 0.2609 - acc: 0.9004 - f1: 0.8988\n",
      "Epoch 11/500\n",
      "95/94 [==============================] - 33s 348ms/step - loss: 0.2454 - acc: 0.9108 - f1: 0.9096\n",
      "Epoch 12/500\n",
      "95/94 [==============================] - 33s 347ms/step - loss: 0.2347 - acc: 0.9102 - f1: 0.9105\n",
      "Epoch 13/500\n",
      "95/94 [==============================] - 33s 349ms/step - loss: 0.2264 - acc: 0.9139 - f1: 0.9136\n",
      "Epoch 14/500\n",
      "95/94 [==============================] - 33s 343ms/step - loss: 0.2141 - acc: 0.9203 - f1: 0.9206\n",
      "Epoch 15/500\n",
      "95/94 [==============================] - 33s 345ms/step - loss: 0.2153 - acc: 0.9210 - f1: 0.9212\n",
      "Epoch 16/500\n",
      "95/94 [==============================] - 33s 345ms/step - loss: 0.1941 - acc: 0.9289 - f1: 0.9286\n",
      "Epoch 17/500\n",
      "95/94 [==============================] - 33s 345ms/step - loss: 0.1900 - acc: 0.9266 - f1: 0.9266\n",
      "Epoch 18/500\n",
      "95/94 [==============================] - 33s 342ms/step - loss: 0.1739 - acc: 0.9330 - f1: 0.9325\n",
      "Epoch 19/500\n",
      "95/94 [==============================] - 33s 343ms/step - loss: 0.1783 - acc: 0.9388 - f1: 0.9388\n",
      "Epoch 20/500\n",
      "95/94 [==============================] - 33s 343ms/step - loss: 0.1591 - acc: 0.9402 - f1: 0.9405\n",
      "Epoch 21/500\n",
      "95/94 [==============================] - 33s 347ms/step - loss: 0.1538 - acc: 0.9476 - f1: 0.9480\n",
      "Epoch 22/500\n",
      "95/94 [==============================] - 33s 344ms/step - loss: 0.1602 - acc: 0.9414 - f1: 0.9416\n",
      "Epoch 23/500\n",
      "95/94 [==============================] - 33s 344ms/step - loss: 0.1504 - acc: 0.9465 - f1: 0.9464\n",
      "Epoch 24/500\n",
      "95/94 [==============================] - 33s 350ms/step - loss: 0.1482 - acc: 0.9478 - f1: 0.9481\n",
      "Epoch 25/500\n",
      "95/94 [==============================] - 33s 348ms/step - loss: 0.1406 - acc: 0.9491 - f1: 0.9489\n",
      "Epoch 26/500\n",
      "95/94 [==============================] - 33s 344ms/step - loss: 0.1378 - acc: 0.9484 - f1: 0.9485\n",
      "Epoch 27/500\n",
      "95/94 [==============================] - 33s 343ms/step - loss: 0.1321 - acc: 0.9531 - f1: 0.9527\n",
      "Epoch 28/500\n",
      "95/94 [==============================] - 33s 343ms/step - loss: 0.1275 - acc: 0.9559 - f1: 0.9564\n",
      "Epoch 29/500\n",
      "95/94 [==============================] - 33s 344ms/step - loss: 0.1239 - acc: 0.9561 - f1: 0.9562\n",
      "Epoch 30/500\n",
      "95/94 [==============================] - 33s 346ms/step - loss: 0.1193 - acc: 0.9580 - f1: 0.9579\n",
      "Epoch 31/500\n",
      "95/94 [==============================] - 33s 348ms/step - loss: 0.1131 - acc: 0.9607 - f1: 0.9607\n",
      "Epoch 32/500\n",
      "95/94 [==============================] - 33s 350ms/step - loss: 0.1178 - acc: 0.9577 - f1: 0.9578\n",
      "Epoch 33/500\n",
      "95/94 [==============================] - 33s 350ms/step - loss: 0.1119 - acc: 0.9605 - f1: 0.9611\n",
      "Epoch 34/500\n",
      "95/94 [==============================] - 34s 355ms/step - loss: 0.1055 - acc: 0.9627 - f1: 0.9627\n",
      "Epoch 35/500\n",
      "95/94 [==============================] - 33s 348ms/step - loss: 0.1073 - acc: 0.9613 - f1: 0.9614\n",
      "Epoch 36/500\n",
      "95/94 [==============================] - 32s 341ms/step - loss: 0.1096 - acc: 0.9621 - f1: 0.9620\n",
      "Epoch 37/500\n",
      "95/94 [==============================] - 33s 343ms/step - loss: 0.1038 - acc: 0.9643 - f1: 0.9637\n",
      "Epoch 38/500\n",
      "95/94 [==============================] - 34s 353ms/step - loss: 0.0915 - acc: 0.9659 - f1: 0.9661\n",
      "Epoch 39/500\n",
      "95/94 [==============================] - 33s 350ms/step - loss: 0.0945 - acc: 0.9692 - f1: 0.9692\n",
      "Epoch 40/500\n",
      "95/94 [==============================] - 33s 344ms/step - loss: 0.0896 - acc: 0.9678 - f1: 0.9679\n",
      "Epoch 41/500\n",
      "95/94 [==============================] - 33s 342ms/step - loss: 0.0944 - acc: 0.9694 - f1: 0.9692\n",
      "Epoch 42/500\n",
      "95/94 [==============================] - 33s 343ms/step - loss: 0.0868 - acc: 0.9691 - f1: 0.9687\n",
      "Epoch 43/500\n",
      "95/94 [==============================] - 33s 346ms/step - loss: 0.0861 - acc: 0.9689 - f1: 0.9689\n",
      "Epoch 44/500\n",
      "95/94 [==============================] - 33s 344ms/step - loss: 0.0924 - acc: 0.9679 - f1: 0.9685\n",
      "Epoch 45/500\n",
      "95/94 [==============================] - 33s 346ms/step - loss: 0.0860 - acc: 0.9722 - f1: 0.9722\n",
      "Epoch 46/500\n",
      "95/94 [==============================] - 33s 344ms/step - loss: 0.0822 - acc: 0.9723 - f1: 0.9720\n",
      "Epoch 47/500\n",
      "95/94 [==============================] - 33s 342ms/step - loss: 0.0750 - acc: 0.9738 - f1: 0.9737\n",
      "Epoch 48/500\n",
      "95/94 [==============================] - 33s 344ms/step - loss: 0.0861 - acc: 0.9720 - f1: 0.9721\n",
      "Epoch 49/500\n",
      "95/94 [==============================] - 32s 340ms/step - loss: 0.0913 - acc: 0.9695 - f1: 0.9693\n",
      "Epoch 50/500\n",
      "95/94 [==============================] - 33s 345ms/step - loss: 0.0803 - acc: 0.9734 - f1: 0.9735\n",
      "Epoch 51/500\n",
      "95/94 [==============================] - 33s 345ms/step - loss: 0.0803 - acc: 0.9710 - f1: 0.9711\n"
     ]
    }
   ],
   "source": [
    "# train the top two sepconv blocks now\n",
    "for layer in model.layers[:115]:\n",
    "   layer.trainable = False\n",
    "for layer in model.layers[115:]:\n",
    "   layer.trainable = True\n",
    "\n",
    "# need to recompile\n",
    "model.compile(optimizer='rmsprop',\n",
    "              loss='categorical_crossentropy', \n",
    "              metrics=['accuracy', f1])\n",
    "\n",
    "epochs = 500\n",
    "batch_size = 64\n",
    "early_stop = EarlyStopping(monitor='loss', patience=4)\n",
    "model.fit_generator(datagen.flow(X_train, y_train, batch_size=batch_size),\n",
    "                    steps_per_epoch=len(X_train)/batch_size, epochs=epochs,\n",
    "                    callbacks=[early_stop])\n",
    "\n",
    "save_keras_model(model, './saved_models/patchCNN_2_top2blocks')"
   ]
  },
  {
   "cell_type": "code",
   "execution_count": null,
   "metadata": {},
   "outputs": [],
   "source": []
  }
 ],
 "metadata": {
  "kernelspec": {
   "display_name": "Python 3",
   "language": "python",
   "name": "python3"
  },
  "language_info": {
   "codemirror_mode": {
    "name": "ipython",
    "version": 3
   },
   "file_extension": ".py",
   "mimetype": "text/x-python",
   "name": "python",
   "nbconvert_exporter": "python",
   "pygments_lexer": "ipython3",
   "version": "3.6.5"
  }
 },
 "nbformat": 4,
 "nbformat_minor": 2
}
